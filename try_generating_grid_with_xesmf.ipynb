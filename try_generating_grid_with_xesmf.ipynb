{
 "cells": [
  {
   "cell_type": "code",
   "execution_count": null,
   "id": "0998fcef-699e-4280-9df8-dc118f833397",
   "metadata": {},
   "outputs": [],
   "source": [
    "\"\"\"\n",
    "Created on Thu Oct 24 09:54 2024\n",
    "\n",
    "Try to prepare grid for remapcon using xesmf\n",
    "\n",
    "@author: Clara Burgard\n",
    "\"\"\""
   ]
  },
  {
   "cell_type": "code",
   "execution_count": 1,
   "id": "e0ee9ea6-d355-4fea-9c5e-5ff6a4e75620",
   "metadata": {},
   "outputs": [],
   "source": [
    "import xarray as xr\n",
    "import xesmf\n",
    "import numpy as np"
   ]
  },
  {
   "cell_type": "code",
   "execution_count": 2,
   "id": "41d2ae1a-00b6-43be-8522-b19375a000b7",
   "metadata": {},
   "outputs": [
    {
     "name": "stderr",
     "output_type": "stream",
     "text": [
      "QStandardPaths: error creating runtime directory '/run/user/2784' (Permission denied)\n"
     ]
    }
   ],
   "source": [
    "%matplotlib qt5"
   ]
  },
  {
   "cell_type": "code",
   "execution_count": 3,
   "id": "3dafba41-8853-4faa-bca2-bee86acef0a8",
   "metadata": {},
   "outputs": [],
   "source": [
    "inputpath = '/data/cburgard/PREPARE_FORCING/PREPARE_CAVITY_MASKS/interim/'"
   ]
  },
  {
   "cell_type": "code",
   "execution_count": 4,
   "id": "4588bac5-c65e-4294-b657-1816403346eb",
   "metadata": {},
   "outputs": [],
   "source": [
    "# Load your curvilinear grid file\n",
    "ds = xr.open_dataset(inputpath + 'grid_eORCA1_T.nc')"
   ]
  },
  {
   "cell_type": "code",
   "execution_count": 5,
   "id": "433a3d5c-0dfc-4a27-8f31-9f070c2cae68",
   "metadata": {},
   "outputs": [],
   "source": [
    "# Assuming the dataset has 'lat' and 'lon' variables\n",
    "lat = ds['gphit']  # 2D array of latitudes\n",
    "lon = ds['glamt'] # 2D array of longitudes\n",
    "lon360 = lon.where(lon>0,lon+360)"
   ]
  },
  {
   "cell_type": "code",
   "execution_count": 6,
   "id": "ff962c8a-71aa-4eab-b9b8-82c43daac038",
   "metadata": {},
   "outputs": [],
   "source": [
    "meshlon_ll,meshlat_ll = (lon + lon.shift(x=-1))/2, (lat + lat.shift(x=-1))/2\n",
    "meshlon_lr,meshlat_lr = (lon + lon.shift(x=1))/2, (lat + lat.shift(x=-1))/2\n",
    "meshlon_ur,meshlat_ur = (lon + lon.shift(x=1))/2, (lat + lat.shift(x=1))/2\n",
    "meshlon_ul,meshlat_ul = (lon + lon.shift(x=-1))/2, (lat + lat.shift(x=1))/2"
   ]
  },
  {
   "cell_type": "code",
   "execution_count": 7,
   "id": "c81af9d6-cd26-4bde-b7f3-8df12875f304",
   "metadata": {},
   "outputs": [],
   "source": [
    "meshlon360_ll,meshlat360_ll = (lon360 + lon360.roll(x=-1))/2, (lat + lat.roll(x=-1))/2\n",
    "meshlon360_lr,meshlat360_lr = (lon360 + lon360.roll(x=1))/2, (lat + lat.roll(x=-1))/2\n",
    "meshlon360_ur,meshlat360_ur = (lon360 + lon360.roll(x=1))/2, (lat + lat.roll(x=1))/2\n",
    "meshlon360_ul,meshlat360_ul = (lon360 + lon360.roll(x=-1))/2, (lat + lat.roll(x=1))/2"
   ]
  },
  {
   "cell_type": "code",
   "execution_count": 8,
   "id": "21ee8de4-b5ac-45ce-b652-7136f60538a2",
   "metadata": {},
   "outputs": [],
   "source": [
    "lon_bnds = xr.DataArray(data=np.array([meshlon_ll, meshlon_lr, meshlon_ur, meshlon_ul]), dims=['nvertex','y','x'])\n",
    "lat_bnds = xr.DataArray(data=np.array([meshlat_ll, meshlat_lr, meshlat_ur, meshlat_ul]), dims=['nvertex','y','x'])\n",
    "lon360_bnds = xr.DataArray(data=np.array([meshlon360_ll, meshlon360_lr, meshlon360_ur, meshlon360_ul]), dims=['nvertex','y','x']) "
   ]
  },
  {
   "cell_type": "code",
   "execution_count": 25,
   "id": "fc930a5b-506d-4636-b6de-4c47d7a54a22",
   "metadata": {},
   "outputs": [],
   "source": [
    "# region where longitude hops from 180 to -180\n",
    "prob_region = (lon <= -140) | (lon >= 140) & (np.abs(lon_bnds) < 25)\n",
    "new_lon_bnds = lon_bnds.where(~prob_region, lon360_bnds)\n",
    "new_lon_bnds = new_lon_bnds.where(new_lon_bnds <= 180, new_lon_bnds - 360)"
   ]
  },
  {
   "cell_type": "code",
   "execution_count": 26,
   "id": "5ea7debd-f0c5-4828-9155-9dadcf5534a4",
   "metadata": {},
   "outputs": [
    {
     "data": {
      "text/html": [
       "<div><svg style=\"position: absolute; width: 0; height: 0; overflow: hidden\">\n",
       "<defs>\n",
       "<symbol id=\"icon-database\" viewBox=\"0 0 32 32\">\n",
       "<path d=\"M16 0c-8.837 0-16 2.239-16 5v4c0 2.761 7.163 5 16 5s16-2.239 16-5v-4c0-2.761-7.163-5-16-5z\"></path>\n",
       "<path d=\"M16 17c-8.837 0-16-2.239-16-5v6c0 2.761 7.163 5 16 5s16-2.239 16-5v-6c0 2.761-7.163 5-16 5z\"></path>\n",
       "<path d=\"M16 26c-8.837 0-16-2.239-16-5v6c0 2.761 7.163 5 16 5s16-2.239 16-5v-6c0 2.761-7.163 5-16 5z\"></path>\n",
       "</symbol>\n",
       "<symbol id=\"icon-file-text2\" viewBox=\"0 0 32 32\">\n",
       "<path d=\"M28.681 7.159c-0.694-0.947-1.662-2.053-2.724-3.116s-2.169-2.030-3.116-2.724c-1.612-1.182-2.393-1.319-2.841-1.319h-15.5c-1.378 0-2.5 1.121-2.5 2.5v27c0 1.378 1.122 2.5 2.5 2.5h23c1.378 0 2.5-1.122 2.5-2.5v-19.5c0-0.448-0.137-1.23-1.319-2.841zM24.543 5.457c0.959 0.959 1.712 1.825 2.268 2.543h-4.811v-4.811c0.718 0.556 1.584 1.309 2.543 2.268zM28 29.5c0 0.271-0.229 0.5-0.5 0.5h-23c-0.271 0-0.5-0.229-0.5-0.5v-27c0-0.271 0.229-0.5 0.5-0.5 0 0 15.499-0 15.5 0v7c0 0.552 0.448 1 1 1h7v19.5z\"></path>\n",
       "<path d=\"M23 26h-14c-0.552 0-1-0.448-1-1s0.448-1 1-1h14c0.552 0 1 0.448 1 1s-0.448 1-1 1z\"></path>\n",
       "<path d=\"M23 22h-14c-0.552 0-1-0.448-1-1s0.448-1 1-1h14c0.552 0 1 0.448 1 1s-0.448 1-1 1z\"></path>\n",
       "<path d=\"M23 18h-14c-0.552 0-1-0.448-1-1s0.448-1 1-1h14c0.552 0 1 0.448 1 1s-0.448 1-1 1z\"></path>\n",
       "</symbol>\n",
       "</defs>\n",
       "</svg>\n",
       "<style>/* CSS stylesheet for displaying xarray objects in jupyterlab.\n",
       " *\n",
       " */\n",
       "\n",
       ":root {\n",
       "  --xr-font-color0: var(--jp-content-font-color0, rgba(0, 0, 0, 1));\n",
       "  --xr-font-color2: var(--jp-content-font-color2, rgba(0, 0, 0, 0.54));\n",
       "  --xr-font-color3: var(--jp-content-font-color3, rgba(0, 0, 0, 0.38));\n",
       "  --xr-border-color: var(--jp-border-color2, #e0e0e0);\n",
       "  --xr-disabled-color: var(--jp-layout-color3, #bdbdbd);\n",
       "  --xr-background-color: var(--jp-layout-color0, white);\n",
       "  --xr-background-color-row-even: var(--jp-layout-color1, white);\n",
       "  --xr-background-color-row-odd: var(--jp-layout-color2, #eeeeee);\n",
       "}\n",
       "\n",
       "html[theme=dark],\n",
       "body[data-theme=dark],\n",
       "body.vscode-dark {\n",
       "  --xr-font-color0: rgba(255, 255, 255, 1);\n",
       "  --xr-font-color2: rgba(255, 255, 255, 0.54);\n",
       "  --xr-font-color3: rgba(255, 255, 255, 0.38);\n",
       "  --xr-border-color: #1F1F1F;\n",
       "  --xr-disabled-color: #515151;\n",
       "  --xr-background-color: #111111;\n",
       "  --xr-background-color-row-even: #111111;\n",
       "  --xr-background-color-row-odd: #313131;\n",
       "}\n",
       "\n",
       ".xr-wrap {\n",
       "  display: block !important;\n",
       "  min-width: 300px;\n",
       "  max-width: 700px;\n",
       "}\n",
       "\n",
       ".xr-text-repr-fallback {\n",
       "  /* fallback to plain text repr when CSS is not injected (untrusted notebook) */\n",
       "  display: none;\n",
       "}\n",
       "\n",
       ".xr-header {\n",
       "  padding-top: 6px;\n",
       "  padding-bottom: 6px;\n",
       "  margin-bottom: 4px;\n",
       "  border-bottom: solid 1px var(--xr-border-color);\n",
       "}\n",
       "\n",
       ".xr-header > div,\n",
       ".xr-header > ul {\n",
       "  display: inline;\n",
       "  margin-top: 0;\n",
       "  margin-bottom: 0;\n",
       "}\n",
       "\n",
       ".xr-obj-type,\n",
       ".xr-array-name {\n",
       "  margin-left: 2px;\n",
       "  margin-right: 10px;\n",
       "}\n",
       "\n",
       ".xr-obj-type {\n",
       "  color: var(--xr-font-color2);\n",
       "}\n",
       "\n",
       ".xr-sections {\n",
       "  padding-left: 0 !important;\n",
       "  display: grid;\n",
       "  grid-template-columns: 150px auto auto 1fr 20px 20px;\n",
       "}\n",
       "\n",
       ".xr-section-item {\n",
       "  display: contents;\n",
       "}\n",
       "\n",
       ".xr-section-item input {\n",
       "  display: none;\n",
       "}\n",
       "\n",
       ".xr-section-item input + label {\n",
       "  color: var(--xr-disabled-color);\n",
       "}\n",
       "\n",
       ".xr-section-item input:enabled + label {\n",
       "  cursor: pointer;\n",
       "  color: var(--xr-font-color2);\n",
       "}\n",
       "\n",
       ".xr-section-item input:enabled + label:hover {\n",
       "  color: var(--xr-font-color0);\n",
       "}\n",
       "\n",
       ".xr-section-summary {\n",
       "  grid-column: 1;\n",
       "  color: var(--xr-font-color2);\n",
       "  font-weight: 500;\n",
       "}\n",
       "\n",
       ".xr-section-summary > span {\n",
       "  display: inline-block;\n",
       "  padding-left: 0.5em;\n",
       "}\n",
       "\n",
       ".xr-section-summary-in:disabled + label {\n",
       "  color: var(--xr-font-color2);\n",
       "}\n",
       "\n",
       ".xr-section-summary-in + label:before {\n",
       "  display: inline-block;\n",
       "  content: '►';\n",
       "  font-size: 11px;\n",
       "  width: 15px;\n",
       "  text-align: center;\n",
       "}\n",
       "\n",
       ".xr-section-summary-in:disabled + label:before {\n",
       "  color: var(--xr-disabled-color);\n",
       "}\n",
       "\n",
       ".xr-section-summary-in:checked + label:before {\n",
       "  content: '▼';\n",
       "}\n",
       "\n",
       ".xr-section-summary-in:checked + label > span {\n",
       "  display: none;\n",
       "}\n",
       "\n",
       ".xr-section-summary,\n",
       ".xr-section-inline-details {\n",
       "  padding-top: 4px;\n",
       "  padding-bottom: 4px;\n",
       "}\n",
       "\n",
       ".xr-section-inline-details {\n",
       "  grid-column: 2 / -1;\n",
       "}\n",
       "\n",
       ".xr-section-details {\n",
       "  display: none;\n",
       "  grid-column: 1 / -1;\n",
       "  margin-bottom: 5px;\n",
       "}\n",
       "\n",
       ".xr-section-summary-in:checked ~ .xr-section-details {\n",
       "  display: contents;\n",
       "}\n",
       "\n",
       ".xr-array-wrap {\n",
       "  grid-column: 1 / -1;\n",
       "  display: grid;\n",
       "  grid-template-columns: 20px auto;\n",
       "}\n",
       "\n",
       ".xr-array-wrap > label {\n",
       "  grid-column: 1;\n",
       "  vertical-align: top;\n",
       "}\n",
       "\n",
       ".xr-preview {\n",
       "  color: var(--xr-font-color3);\n",
       "}\n",
       "\n",
       ".xr-array-preview,\n",
       ".xr-array-data {\n",
       "  padding: 0 5px !important;\n",
       "  grid-column: 2;\n",
       "}\n",
       "\n",
       ".xr-array-data,\n",
       ".xr-array-in:checked ~ .xr-array-preview {\n",
       "  display: none;\n",
       "}\n",
       "\n",
       ".xr-array-in:checked ~ .xr-array-data,\n",
       ".xr-array-preview {\n",
       "  display: inline-block;\n",
       "}\n",
       "\n",
       ".xr-dim-list {\n",
       "  display: inline-block !important;\n",
       "  list-style: none;\n",
       "  padding: 0 !important;\n",
       "  margin: 0;\n",
       "}\n",
       "\n",
       ".xr-dim-list li {\n",
       "  display: inline-block;\n",
       "  padding: 0;\n",
       "  margin: 0;\n",
       "}\n",
       "\n",
       ".xr-dim-list:before {\n",
       "  content: '(';\n",
       "}\n",
       "\n",
       ".xr-dim-list:after {\n",
       "  content: ')';\n",
       "}\n",
       "\n",
       ".xr-dim-list li:not(:last-child):after {\n",
       "  content: ',';\n",
       "  padding-right: 5px;\n",
       "}\n",
       "\n",
       ".xr-has-index {\n",
       "  font-weight: bold;\n",
       "}\n",
       "\n",
       ".xr-var-list,\n",
       ".xr-var-item {\n",
       "  display: contents;\n",
       "}\n",
       "\n",
       ".xr-var-item > div,\n",
       ".xr-var-item label,\n",
       ".xr-var-item > .xr-var-name span {\n",
       "  background-color: var(--xr-background-color-row-even);\n",
       "  margin-bottom: 0;\n",
       "}\n",
       "\n",
       ".xr-var-item > .xr-var-name:hover span {\n",
       "  padding-right: 5px;\n",
       "}\n",
       "\n",
       ".xr-var-list > li:nth-child(odd) > div,\n",
       ".xr-var-list > li:nth-child(odd) > label,\n",
       ".xr-var-list > li:nth-child(odd) > .xr-var-name span {\n",
       "  background-color: var(--xr-background-color-row-odd);\n",
       "}\n",
       "\n",
       ".xr-var-name {\n",
       "  grid-column: 1;\n",
       "}\n",
       "\n",
       ".xr-var-dims {\n",
       "  grid-column: 2;\n",
       "}\n",
       "\n",
       ".xr-var-dtype {\n",
       "  grid-column: 3;\n",
       "  text-align: right;\n",
       "  color: var(--xr-font-color2);\n",
       "}\n",
       "\n",
       ".xr-var-preview {\n",
       "  grid-column: 4;\n",
       "}\n",
       "\n",
       ".xr-index-preview {\n",
       "  grid-column: 2 / 5;\n",
       "  color: var(--xr-font-color2);\n",
       "}\n",
       "\n",
       ".xr-var-name,\n",
       ".xr-var-dims,\n",
       ".xr-var-dtype,\n",
       ".xr-preview,\n",
       ".xr-attrs dt {\n",
       "  white-space: nowrap;\n",
       "  overflow: hidden;\n",
       "  text-overflow: ellipsis;\n",
       "  padding-right: 10px;\n",
       "}\n",
       "\n",
       ".xr-var-name:hover,\n",
       ".xr-var-dims:hover,\n",
       ".xr-var-dtype:hover,\n",
       ".xr-attrs dt:hover {\n",
       "  overflow: visible;\n",
       "  width: auto;\n",
       "  z-index: 1;\n",
       "}\n",
       "\n",
       ".xr-var-attrs,\n",
       ".xr-var-data,\n",
       ".xr-index-data {\n",
       "  display: none;\n",
       "  background-color: var(--xr-background-color) !important;\n",
       "  padding-bottom: 5px !important;\n",
       "}\n",
       "\n",
       ".xr-var-attrs-in:checked ~ .xr-var-attrs,\n",
       ".xr-var-data-in:checked ~ .xr-var-data,\n",
       ".xr-index-data-in:checked ~ .xr-index-data {\n",
       "  display: block;\n",
       "}\n",
       "\n",
       ".xr-var-data > table {\n",
       "  float: right;\n",
       "}\n",
       "\n",
       ".xr-var-name span,\n",
       ".xr-var-data,\n",
       ".xr-index-name div,\n",
       ".xr-index-data,\n",
       ".xr-attrs {\n",
       "  padding-left: 25px !important;\n",
       "}\n",
       "\n",
       ".xr-attrs,\n",
       ".xr-var-attrs,\n",
       ".xr-var-data,\n",
       ".xr-index-data {\n",
       "  grid-column: 1 / -1;\n",
       "}\n",
       "\n",
       "dl.xr-attrs {\n",
       "  padding: 0;\n",
       "  margin: 0;\n",
       "  display: grid;\n",
       "  grid-template-columns: 125px auto;\n",
       "}\n",
       "\n",
       ".xr-attrs dt,\n",
       ".xr-attrs dd {\n",
       "  padding: 0;\n",
       "  margin: 0;\n",
       "  float: left;\n",
       "  padding-right: 10px;\n",
       "  width: auto;\n",
       "}\n",
       "\n",
       ".xr-attrs dt {\n",
       "  font-weight: normal;\n",
       "  grid-column: 1;\n",
       "}\n",
       "\n",
       ".xr-attrs dt:hover span {\n",
       "  display: inline-block;\n",
       "  background: var(--xr-background-color);\n",
       "  padding-right: 10px;\n",
       "}\n",
       "\n",
       ".xr-attrs dd {\n",
       "  grid-column: 2;\n",
       "  white-space: pre-wrap;\n",
       "  word-break: break-all;\n",
       "}\n",
       "\n",
       ".xr-icon-database,\n",
       ".xr-icon-file-text2,\n",
       ".xr-no-icon {\n",
       "  display: inline-block;\n",
       "  vertical-align: middle;\n",
       "  width: 1em;\n",
       "  height: 1.5em !important;\n",
       "  stroke-width: 0;\n",
       "  stroke: currentColor;\n",
       "  fill: currentColor;\n",
       "}\n",
       "</style><pre class='xr-text-repr-fallback'>&lt;xarray.DataArray (nvertex: 4)&gt;\n",
       "array([-24.6609723 ,  99.06571026,  99.06571026, -24.6609723 ])\n",
       "Dimensions without coordinates: nvertex</pre><div class='xr-wrap' style='display:none'><div class='xr-header'><div class='xr-obj-type'>xarray.DataArray</div><div class='xr-array-name'></div><ul class='xr-dim-list'><li><span>nvertex</span>: 4</li></ul></div><ul class='xr-sections'><li class='xr-section-item'><div class='xr-array-wrap'><input id='section-d8d6c47b-4574-447d-a847-fd94a8708323' class='xr-array-in' type='checkbox' checked><label for='section-d8d6c47b-4574-447d-a847-fd94a8708323' title='Show/hide data repr'><svg class='icon xr-icon-database'><use xlink:href='#icon-database'></use></svg></label><div class='xr-array-preview xr-preview'><span>-24.66 99.07 99.07 -24.66</span></div><div class='xr-array-data'><pre>array([-24.6609723 ,  99.06571026,  99.06571026, -24.6609723 ])</pre></div></div></li><li class='xr-section-item'><input id='section-336005e1-9d6e-44a6-8385-e48c02bfa3cd' class='xr-section-summary-in' type='checkbox' disabled ><label for='section-336005e1-9d6e-44a6-8385-e48c02bfa3cd' class='xr-section-summary'  title='Expand/collapse section'>Coordinates: <span>(0)</span></label><div class='xr-section-inline-details'></div><div class='xr-section-details'><ul class='xr-var-list'></ul></div></li><li class='xr-section-item'><input id='section-e5b7f088-4200-4f68-b05f-b72dd4614bda' class='xr-section-summary-in' type='checkbox' disabled ><label for='section-e5b7f088-4200-4f68-b05f-b72dd4614bda' class='xr-section-summary'  title='Expand/collapse section'>Indexes: <span>(0)</span></label><div class='xr-section-inline-details'></div><div class='xr-section-details'><ul class='xr-var-list'></ul></div></li><li class='xr-section-item'><input id='section-1194444d-76ec-4c61-a5cd-a6c1c5fec02f' class='xr-section-summary-in' type='checkbox' disabled ><label for='section-1194444d-76ec-4c61-a5cd-a6c1c5fec02f' class='xr-section-summary'  title='Expand/collapse section'>Attributes: <span>(0)</span></label><div class='xr-section-inline-details'></div><div class='xr-section-details'><dl class='xr-attrs'></dl></div></li></ul></div></div>"
      ],
      "text/plain": [
       "<xarray.DataArray (nvertex: 4)>\n",
       "array([-24.6609723 ,  99.06571026,  99.06571026, -24.6609723 ])\n",
       "Dimensions without coordinates: nvertex"
      ]
     },
     "execution_count": 26,
     "metadata": {},
     "output_type": "execute_result"
    }
   ],
   "source": [
    "lon_bnds.sel(x=94,y=330)"
   ]
  },
  {
   "cell_type": "code",
   "execution_count": 27,
   "id": "c6164b23-3e4a-4a1f-bec3-8f3b3f7f5a7a",
   "metadata": {},
   "outputs": [
    {
     "data": {
      "text/plain": [
       "<matplotlib.collections.QuadMesh at 0x154eec62a130>"
      ]
     },
     "execution_count": 27,
     "metadata": {},
     "output_type": "execute_result"
    }
   ],
   "source": [
    "new_lon_bnds.isel(nvertex=0).plot()"
   ]
  },
  {
   "cell_type": "code",
   "execution_count": 28,
   "id": "3f778de3-2057-4f01-9198-29c1d1822d40",
   "metadata": {},
   "outputs": [],
   "source": [
    "NEMO_new_grid = xr.merge([new_lon_bnds.rename('lon_bnds'),\n",
    "                          lat_bnds.rename('lat_bnds')]).assign_coords({'lon': lon, 'lat': lat}).drop_vars(['glamt','gphit'])"
   ]
  },
  {
   "cell_type": "code",
   "execution_count": 29,
   "id": "50dc39e4-6130-4a2c-9659-4d2a7b22b8b0",
   "metadata": {},
   "outputs": [],
   "source": [
    "NEMO_new_grid['lon'].attrs['standard_name'] = 'longitude'\n",
    "NEMO_new_grid['lon'].attrs['units'] = 'degrees_east'\n",
    "NEMO_new_grid['lon'].attrs['bounds'] = 'lon_bnds'\n",
    "\n",
    "NEMO_new_grid['lat'].attrs['standard_name'] = 'latitude'\n",
    "NEMO_new_grid['lat'].attrs['units'] = 'degrees_north'\n",
    "NEMO_new_grid['lat'].attrs['bounds'] = 'lat_bnds'\n"
   ]
  },
  {
   "cell_type": "code",
   "execution_count": 31,
   "id": "0a5f4d9b-abd9-4d7c-ad70-4cc48ef4336f",
   "metadata": {},
   "outputs": [],
   "source": [
    "NEMO_new_grid[['lon','lat','lon_bnds','lat_bnds']].set_coords(\n",
    "    (\"lat_bnds\", \"lon_bnds\")).transpose('y','x','nvertex').to_netcdf(inputpath + 'NEMO_grid_withbnds.nc')"
   ]
  },
  {
   "cell_type": "code",
   "execution_count": 32,
   "id": "6c697b5c-6654-418d-a85b-f17935a6f4ef",
   "metadata": {},
   "outputs": [],
   "source": [
    "Casimir_grid = xr.open_dataset('/data/cburgard/CASIMIR_SIMU/raw/n42openc/n42openc_00910101_01001231_1Y_grid_T.nc')\n"
   ]
  },
  {
   "cell_type": "code",
   "execution_count": 39,
   "id": "2021e316-9623-48ad-8364-b34d332fc41a",
   "metadata": {},
   "outputs": [],
   "source": [
    "Casimir_grid['nav_lat'] = Casimir_grid['nav_lat'].where(Casimir_grid['nav_lat'] != -1,NEMO_new_grid['lat'])\n",
    "Casimir_grid['nav_lon'] = Casimir_grid['nav_lon'].where(Casimir_grid['nav_lon'] != -1,NEMO_new_grid['lon'])"
   ]
  },
  {
   "cell_type": "code",
   "execution_count": 41,
   "id": "b64800dd-7085-4d14-afde-4622f89ce08d",
   "metadata": {},
   "outputs": [],
   "source": [
    "Casimir_grid['bounds_nav_lon'] = Casimir_grid['bounds_nav_lon'].where(Casimir_grid['bounds_nav_lon'] != -1,NEMO_new_grid['lon_bnds'])\n",
    "Casimir_grid['bounds_nav_lat'] = Casimir_grid['bounds_nav_lat'].where(Casimir_grid['bounds_nav_lat'] != -1,NEMO_new_grid['lat_bnds'])"
   ]
  },
  {
   "cell_type": "code",
   "execution_count": 43,
   "id": "4b9e99d6-5825-4c81-b65d-751a22a53774",
   "metadata": {},
   "outputs": [],
   "source": [
    "Casimir_grid.to_netcdf(inputpath + 'Casimir_NEMO_grid_modif.nc')"
   ]
  },
  {
   "cell_type": "code",
   "execution_count": 45,
   "id": "c6f876ae-069e-4ffe-9371-c598f72a52ce",
   "metadata": {},
   "outputs": [
    {
     "data": {
      "text/plain": [
       "<matplotlib.collections.QuadMesh at 0x154edf44ecd0>"
      ]
     },
     "execution_count": 45,
     "metadata": {},
     "output_type": "execute_result"
    }
   ],
   "source": [
    "Casimir_grid['nav_lon'].plot()"
   ]
  },
  {
   "cell_type": "code",
   "execution_count": 44,
   "id": "a2c45625-bbbf-4bed-aa38-d345a3b2d07e",
   "metadata": {},
   "outputs": [
    {
     "data": {
      "text/plain": [
       "<matplotlib.collections.QuadMesh at 0x154edf567d60>"
      ]
     },
     "execution_count": 44,
     "metadata": {},
     "output_type": "execute_result"
    }
   ],
   "source": [
    "Casimir_grid['bounds_nav_lon'].isel(nvertex=0).plot()"
   ]
  },
  {
   "cell_type": "code",
   "execution_count": null,
   "id": "4673b706-5858-4390-8b88-0053f1a94121",
   "metadata": {},
   "outputs": [],
   "source": [
    "lon_bnds.where(lat_bnds == 0).isel(nvertex=2).plot()"
   ]
  },
  {
   "cell_type": "code",
   "execution_count": null,
   "id": "8669c6f8-7a13-450c-b34d-fca0fa3b0cd1",
   "metadata": {},
   "outputs": [],
   "source": [
    "lon_bnds.where((lon >= -179.95) & (lon <= 179.95)).isel(nvertex=1).plot() #(lon_bnds > 4) &"
   ]
  },
  {
   "cell_type": "code",
   "execution_count": null,
   "id": "a63f9e01-dc20-4b49-959a-e681994c4927",
   "metadata": {},
   "outputs": [],
   "source": [
    "lon_bnds.isel(nvertex=1).plot()"
   ]
  },
  {
   "cell_type": "code",
   "execution_count": null,
   "id": "e00819e0-1b96-49a8-9ed8-58a43353bd31",
   "metadata": {},
   "outputs": [],
   "source": [
    "lon.max()"
   ]
  },
  {
   "cell_type": "code",
   "execution_count": null,
   "id": "b251dc7b-4640-4aee-983f-82c5004bd57f",
   "metadata": {},
   "outputs": [],
   "source": []
  }
 ],
 "metadata": {
  "kernelspec": {
   "display_name": "py38",
   "language": "python",
   "name": "py38"
  },
  "language_info": {
   "codemirror_mode": {
    "name": "ipython",
    "version": 3
   },
   "file_extension": ".py",
   "mimetype": "text/x-python",
   "name": "python",
   "nbconvert_exporter": "python",
   "pygments_lexer": "ipython3",
   "version": "3.8.18"
  }
 },
 "nbformat": 4,
 "nbformat_minor": 5
}
