{
 "cells": [
  {
   "cell_type": "code",
   "execution_count": 14,
   "id": "6304caef-44b9-4742-ab5b-6ceb0aaca548",
   "metadata": {},
   "outputs": [
    {
     "data": {
      "text/plain": [
       "\"\\n\\nPrepare clean stereographic grid for Justine's file with bounds and so on\\nNo need to run this everytime, I will set it to Justine's file so that it's ok for the future\\n\\n\""
      ]
     },
     "execution_count": 14,
     "metadata": {},
     "output_type": "execute_result"
    }
   ],
   "source": [
    "\"\"\"\n",
    "Created on Wed Oct 30 11:13 2024\n",
    "\n",
    "Prepare clean stereographic grid for Justine's file with bounds and so on\n",
    "No need to run this everytime, the grid will be created once and for all\n",
    "\n",
    "@author: Clara Burgard\n",
    "\"\"\""
   ]
  },
  {
   "cell_type": "code",
   "execution_count": 15,
   "id": "8081ba4b-d875-4803-b69a-4cd62976a905",
   "metadata": {},
   "outputs": [],
   "source": [
    "import xarray as xr\n",
    "from cdo import Cdo\n",
    "import multimelt.useful_functions as uf\n",
    "from tqdm.notebook import tqdm\n",
    "import numpy as np"
   ]
  },
  {
   "cell_type": "code",
   "execution_count": 16,
   "id": "fa54c841-8f7f-41da-9bb2-8c35eec4d78e",
   "metadata": {},
   "outputs": [],
   "source": [
    "inputpath_raw = '/data/cburgard/PREPARE_FORCING/PREPARE_CAVITY_MASKS/raw/'\n",
    "inputpath_interim = '/data/cburgard/PREPARE_FORCING/PREPARE_CAVITY_MASKS/interim/'"
   ]
  },
  {
   "cell_type": "code",
   "execution_count": 18,
   "id": "e5543e68-3e9b-4a81-8258-cc2da90f910c",
   "metadata": {},
   "outputs": [],
   "source": [
    "ISMIP_2km_grid = xr.open_dataset(inputpath_raw + 'Mask_Iceshelf_IMBIE2_v2.nc')"
   ]
  },
  {
   "cell_type": "code",
   "execution_count": 19,
   "id": "6f0c16f9-064c-48cf-981c-9ac86f999272",
   "metadata": {},
   "outputs": [],
   "source": [
    "# Create 2D-coordinates\n",
    "meshx,meshy = np.meshgrid(ISMIP_2km_grid.x,ISMIP_2km_grid.y)"
   ]
  },
  {
   "cell_type": "code",
   "execution_count": 20,
   "id": "09eab342-d2c7-45c4-9123-28ad404a8184",
   "metadata": {},
   "outputs": [],
   "source": [
    "# Stereographic resolution in m divided by 2 - in this case, the resolution is 2 km\n",
    "half_res = 1000. "
   ]
  },
  {
   "cell_type": "code",
   "execution_count": null,
   "id": "9ace2490-8484-4d96-8378-93d31d31fe51",
   "metadata": {},
   "outputs": [],
   "source": [
    "def change_coord_stereo_to_latlon(meshx,meshy):\n",
    "    ### Transformation from latlon to stereo\n",
    "    trans_tolonlat = Transformer.from_crs(\"EPSG:3031\", \"EPSG:4326\", always_xy=True)\n",
    "    meshlon,meshlat = trans_tolonlat.transform(meshx,meshy)\n",
    "    return meshlon, meshlat"
   ]
  },
  {
   "cell_type": "code",
   "execution_count": 21,
   "id": "f5fd9d38-de88-4675-9cd3-c5f8df3d8a93",
   "metadata": {},
   "outputs": [],
   "source": [
    "# Create the lat and lon of the grid corners : ll = lower left, lr = lower right, ur = upper right, ul = upper left\n",
    "meshlon_ll,meshlat_ll = change_coord_stereo_to_latlon(meshx - half_res, meshy - half_res)\n",
    "meshlon_lr,meshlat_lr = change_coord_stereo_to_latlon(meshx + half_res, meshy - half_res)\n",
    "meshlon_ur,meshlat_ur = change_coord_stereo_to_latlon(meshx + half_res, meshy + half_res)\n",
    "meshlon_ul,meshlat_ul = change_coord_stereo_to_latlon(meshx - half_res, meshy + half_res)"
   ]
  },
  {
   "cell_type": "code",
   "execution_count": 22,
   "id": "38d2470f-324a-4c6a-9b98-e75026a552ce",
   "metadata": {},
   "outputs": [],
   "source": [
    "# Create the lat and lon of the grid centers \n",
    "meshlon,meshlat = change_coord_stereo_to_latlon(meshx, meshy)"
   ]
  },
  {
   "cell_type": "code",
   "execution_count": 23,
   "id": "77c71ecd-3d87-4e6f-8821-e3c340313b6d",
   "metadata": {},
   "outputs": [],
   "source": [
    "# Formatting the dataset\n",
    "lon_bnds = xr.DataArray(data=np.array([meshlon_ll, meshlon_lr, meshlon_ur, meshlon_ul]), dims=['nvertex','y','x'])\n",
    "lat_bnds = xr.DataArray(data=np.array([meshlat_ll, meshlat_lr, meshlat_ur, meshlat_ul]), dims=['nvertex','y','x'])\n",
    "lon = xr.DataArray(data=np.array(meshlon), dims=['y','x'])\n",
    "lat = xr.DataArray(data=np.array(meshlat), dims=['y','x'])\n",
    "\n",
    "ISMIP_2km_new_grid = xr.merge([lon_bnds.rename('lon_bnds'),\n",
    "                               lat_bnds.rename('lat_bnds')]).assign_coords({'lon': lon, 'lat': lat}) \n",
    "\n",
    "ISMIP_2km_new_grid['lon'].attrs['standard_name'] = 'longitude'\n",
    "ISMIP_2km_new_grid['lon'].attrs['units'] = 'degrees_east'\n",
    "ISMIP_2km_new_grid['lon'].attrs['bounds'] = 'lon_bnds'\n",
    "\n",
    "ISMIP_2km_new_grid['lat'].attrs['standard_name'] = 'latitude'\n",
    "ISMIP_2km_new_grid['lat'].attrs['units'] = 'degrees_north'\n",
    "ISMIP_2km_new_grid['lat'].attrs['bounds'] = 'lat_bnds'"
   ]
  },
  {
   "cell_type": "code",
   "execution_count": 27,
   "id": "d0b31c65-4a97-48fc-878a-84d0d4b88a38",
   "metadata": {},
   "outputs": [],
   "source": [
    "# Write to netcdf\n",
    "ISMIP_2km_new_grid[['lon','lat',\n",
    "                    'lon_bnds','lat_bnds']].set_coords((\"lat_bnds\", \n",
    "                                                        \"lon_bnds\")).transpose('y','x','nvertex').to_netcdf(inputpath_interim + 'IMBIE_2km_stereo_withbnds.nc')"
   ]
  },
  {
   "cell_type": "markdown",
   "id": "283120b7-2389-4983-9ad1-9bb108bb71a1",
   "metadata": {},
   "source": [
    "To keep for the record, just in case"
   ]
  },
  {
   "cell_type": "code",
   "execution_count": null,
   "id": "967f69af-66f9-41b3-98a2-89f27530e91d",
   "metadata": {},
   "outputs": [],
   "source": [
    "with open(inputpath_interim+\"stereo_grid_2km_curvilinear_definition.txt\", \"w\") as txt_file:\n",
    "\n",
    "    txt_file.write('# \\n')\n",
    "    txt_file.write('# gridID 1 \\n')\n",
    "    txt_file.write('# \\n')\n",
    "    txt_file.write('gridtype  = curvilinear \\n')\n",
    "    txt_file.write('gridsize  = 9247681 \\n')\n",
    "    txt_file.write('datatype  = float \\n')\n",
    "    txt_file.write('xsize     = 3041 \\n')\n",
    "    txt_file.write('ysize     = 3041 \\n')\n",
    "    txt_file.write('xname     = lon \\n')\n",
    "    txt_file.write('xdimname  = x \\n')\n",
    "    txt_file.write('xlongname = \"longitude\" \\n')\n",
    "    txt_file.write('xunits    = \"degrees_east\" \\n')\n",
    "    txt_file.write('yname     = lat \\n')\n",
    "    txt_file.write('ydimname  = y \\n')\n",
    "    txt_file.write('ylongname = \"latitude\" \\n')\n",
    "    txt_file.write('yunits    = \"degrees_north\" \\n')\n",
    "    txt_file.write('vdimname  = nv4 \\n')\n",
    "    txt_file.write('xvals = ')\n",
    "    for vv in tqdm(meshlon.flatten()):\n",
    "        txt_file.write(str(vv) + ' ')\n",
    "    txt_file.write('\\n')\n",
    "    txt_file.write('yvals = ')\n",
    "    for vv in tqdm(meshlat.flatten()):\n",
    "        txt_file.write(str(vv) + ' ')\n",
    "    txt_file.write('\\n')\n",
    "    txt_file.write('xbounds = ')\n",
    "    for vv in tqdm(ISMIP_2km_new_grid['lon_bnds'].values.flatten()):\n",
    "        txt_file.write(str(vv) + ' ')\n",
    "    txt_file.write('\\n')\n",
    "    txt_file.write('ybounds = ')\n",
    "    for vv in tqdm(ISMIP_2km_new_grid['lat_bnds'].values.flatten()):\n",
    "        txt_file.write(str(vv) + ' ')\n",
    "    txt_file.write('\\n')\n",
    "    txt_file.write('# \\n')\n",
    "    txt_file.write('# gridID 2 \\n')\n",
    "    txt_file.write('# \\n')\n",
    "    txt_file.write('gridtype = projection \\n')\n",
    "    txt_file.write('gridsize  = 9247681 \\n')\n",
    "    txt_file.write('xsize     = 3041 \\n')\n",
    "    txt_file.write('ysize     = 3041 \\n')\n",
    "    txt_file.write('xname     = x \\n')\n",
    "    txt_file.write('xlongname = \"x-coordinate in Cartesian system\" \\n')\n",
    "    txt_file.write('xunits = \"m\" \\n')\n",
    "    txt_file.write('yname     = y \\n')\n",
    "    txt_file.write('ylongname = \"y-coordinate in Cartesian system\" \\n')\n",
    "    txt_file.write('yunits = \"m\" \\n')\n",
    "    txt_file.write('xfirst = '+str(ISMIP_2km_new_grid.x.min().values)+' \\n')\n",
    "    txt_file.write('xinc = 2000 \\n')\n",
    "    txt_file.write('yfirst = '+str(ISMIP_2km_new_grid.y.min().values)+' \\n')\n",
    "    txt_file.write('yinc = 2000 \\n')\n",
    "    txt_file.write('grid_mapping = Projection \\n')\n",
    "    \n",
    "txt_file.close()"
   ]
  },
  {
   "cell_type": "code",
   "execution_count": null,
   "id": "9499577f-0d42-46b0-ad56-97efe8f2ac96",
   "metadata": {},
   "outputs": [],
   "source": []
  }
 ],
 "metadata": {
  "kernelspec": {
   "display_name": "py38",
   "language": "python",
   "name": "py38"
  },
  "language_info": {
   "codemirror_mode": {
    "name": "ipython",
    "version": 3
   },
   "file_extension": ".py",
   "mimetype": "text/x-python",
   "name": "python",
   "nbconvert_exporter": "python",
   "pygments_lexer": "ipython3",
   "version": "3.8.18"
  }
 },
 "nbformat": 4,
 "nbformat_minor": 5
}
