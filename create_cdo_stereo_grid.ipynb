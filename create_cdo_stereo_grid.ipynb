{
 "cells": [
  {
   "cell_type": "code",
   "execution_count": null,
   "id": "6304caef-44b9-4742-ab5b-6ceb0aaca548",
   "metadata": {},
   "outputs": [],
   "source": [
    "\"\"\"\n",
    "\n",
    "Prepare clean stereographic grid for Justine's file with bounds and so on\n",
    "\n",
    "\"\"\""
   ]
  },
  {
   "cell_type": "code",
   "execution_count": 1,
   "id": "8081ba4b-d875-4803-b69a-4cd62976a905",
   "metadata": {},
   "outputs": [],
   "source": [
    "import xarray as xr\n",
    "from cdo import Cdo\n",
    "import multimelt.useful_functions as uf\n",
    "from tqdm.notebook import tqdm\n",
    "import numpy as np"
   ]
  },
  {
   "cell_type": "code",
   "execution_count": 2,
   "id": "fa54c841-8f7f-41da-9bb2-8c35eec4d78e",
   "metadata": {},
   "outputs": [],
   "source": [
    "inputpath_raw = '/data/cburgard/PREPARE_FORCING/PREPARE_CAVITY_MASKS/raw/'\n",
    "inputpath_interim = '/data/cburgard/PREPARE_FORCING/PREPARE_CAVITY_MASKS/interim/'"
   ]
  },
  {
   "cell_type": "code",
   "execution_count": 3,
   "id": "fd41bff9-2be2-4e29-9e7f-edc18e309f36",
   "metadata": {},
   "outputs": [],
   "source": [
    "nemo_grid_file = xr.open_dataset(inputpath_interim + 'NEMO_gridT_eORCA1_cdo.nc')"
   ]
  },
  {
   "cell_type": "code",
   "execution_count": 4,
   "id": "e5543e68-3e9b-4a81-8258-cc2da90f910c",
   "metadata": {},
   "outputs": [],
   "source": [
    "ISMIP_2km_grid = xr.open_dataset(inputpath_raw + 'Mask_Iceshelf_IMBIE2_v2.nc')"
   ]
  },
  {
   "cell_type": "code",
   "execution_count": 5,
   "id": "6f0c16f9-064c-48cf-981c-9ac86f999272",
   "metadata": {},
   "outputs": [],
   "source": [
    "meshx,meshy = np.meshgrid(ISMIP_2km_grid.x,ISMIP_2km_grid.y)"
   ]
  },
  {
   "cell_type": "code",
   "execution_count": 6,
   "id": "09eab342-d2c7-45c4-9123-28ad404a8184",
   "metadata": {},
   "outputs": [],
   "source": [
    "half_res = 1000."
   ]
  },
  {
   "cell_type": "code",
   "execution_count": 7,
   "id": "f5fd9d38-de88-4675-9cd3-c5f8df3d8a93",
   "metadata": {},
   "outputs": [],
   "source": [
    "meshlon_ll,meshlat_ll = uf.change_coord_stereo_to_latlon(meshx - half_res, meshy - half_res)\n",
    "meshlon_lr,meshlat_lr = uf.change_coord_stereo_to_latlon(meshx + half_res, meshy - half_res)\n",
    "meshlon_ur,meshlat_ur = uf.change_coord_stereo_to_latlon(meshx + half_res, meshy + half_res)\n",
    "meshlon_ul,meshlat_ul = uf.change_coord_stereo_to_latlon(meshx - half_res, meshy + half_res)"
   ]
  },
  {
   "cell_type": "code",
   "execution_count": 8,
   "id": "38d2470f-324a-4c6a-9b98-e75026a552ce",
   "metadata": {},
   "outputs": [],
   "source": [
    "meshlon,meshlat = uf.change_coord_stereo_to_latlon(meshx, meshy)"
   ]
  },
  {
   "cell_type": "code",
   "execution_count": 9,
   "id": "77c71ecd-3d87-4e6f-8821-e3c340313b6d",
   "metadata": {},
   "outputs": [],
   "source": [
    "lon_bnds = xr.DataArray(data=np.array([meshlon_ll, meshlon_lr, meshlon_ur, meshlon_ul]), dims=['nvertex','y','x'])\n",
    "lat_bnds = xr.DataArray(data=np.array([meshlat_ll, meshlat_lr, meshlat_ur, meshlat_ul]), dims=['nvertex','y','x'])"
   ]
  },
  {
   "cell_type": "code",
   "execution_count": 10,
   "id": "beb456bc-d6f6-4158-a7fb-78821b1d44ab",
   "metadata": {},
   "outputs": [],
   "source": [
    "lon = xr.DataArray(data=np.array(meshlon), dims=['y','x'])\n",
    "lat = xr.DataArray(data=np.array(meshlat), dims=['y','x'])"
   ]
  },
  {
   "cell_type": "code",
   "execution_count": 11,
   "id": "b924bcbb-8974-42e6-a2ce-c00dcaa1dfc9",
   "metadata": {},
   "outputs": [],
   "source": [
    "ISMIP_2km_new_grid = xr.merge([lon_bnds.rename('lon_bnds'),lat_bnds.rename('lat_bnds')]).assign_coords({'lon': lon, 'lat': lat}) #, 'y': ISMIP_2km_grid.y, 'x': ISMIP_2km_grid.x"
   ]
  },
  {
   "cell_type": "code",
   "execution_count": 12,
   "id": "698e24db-14ea-4541-bc27-5e554ae3cc04",
   "metadata": {},
   "outputs": [],
   "source": [
    "ISMIP_2km_new_grid['lon'].attrs['standard_name'] = 'longitude'\n",
    "ISMIP_2km_new_grid['lon'].attrs['units'] = 'degrees_east'\n",
    "ISMIP_2km_new_grid['lon'].attrs['bounds'] = 'lon_bnds'\n",
    "\n",
    "ISMIP_2km_new_grid['lat'].attrs['standard_name'] = 'latitude'\n",
    "ISMIP_2km_new_grid['lat'].attrs['units'] = 'degrees_north'\n",
    "ISMIP_2km_new_grid['lat'].attrs['bounds'] = 'lat_bnds'\n"
   ]
  },
  {
   "cell_type": "code",
   "execution_count": 13,
   "id": "d0b31c65-4a97-48fc-878a-84d0d4b88a38",
   "metadata": {},
   "outputs": [],
   "source": [
    "ISMIP_2km_new_grid[['lon','lat','lon_bnds','lat_bnds']].set_coords((\"lat_bnds\", \"lon_bnds\")).transpose('y','x','nvertex').to_netcdf(inputpath_interim + 'IMBIE_2km_stereo_withbnds.nc')"
   ]
  },
  {
   "cell_type": "code",
   "execution_count": null,
   "id": "816b0105-4764-4faa-861d-a03a939bfeb6",
   "metadata": {},
   "outputs": [],
   "source": [
    "test = xr.open_dataset(inputpath_interim + 'IMBIE_2km_stereo_withbnds.nc')"
   ]
  },
  {
   "cell_type": "code",
   "execution_count": null,
   "id": "72eefa2b-332e-4e93-bc67-7d9820a4f6bc",
   "metadata": {},
   "outputs": [],
   "source": [
    "test0 = xr.open_dataset(inputpath_interim + 'isf_conc_only_2km.nc')\n",
    "test1 = xr.merge([test0,ISMIP_2km_new_grid[['lon_bnds','lat_bnds']].drop('lon').drop('lat')])\n",
    "test1['lon'].attrs['bounds'] = 'lon_bnds'\n",
    "test1['lat'].attrs['bounds'] = 'lat_bnds'\n",
    "del test1.lat_bnds.attrs['coordinates']\n",
    "del test1.lon_bnds.attrs['coordinates']"
   ]
  },
  {
   "cell_type": "code",
   "execution_count": null,
   "id": "8e97f306-0a48-4388-917b-05d039305f00",
   "metadata": {},
   "outputs": [],
   "source": [
    "test1.to_netcdf(inputpath_interim + 'isf_conc_only_2km_withgrid.nc')"
   ]
  },
  {
   "cell_type": "code",
   "execution_count": null,
   "id": "b0176030-0abc-4614-b7ab-045965c13ee5",
   "metadata": {},
   "outputs": [],
   "source": [
    "ISMIP_2km_new_grid['lat'].max()"
   ]
  },
  {
   "cell_type": "code",
   "execution_count": null,
   "id": "436ed800-8289-4c36-a431-71093eb14ec0",
   "metadata": {},
   "outputs": [],
   "source": [
    "ISMIP_2km_new_grid"
   ]
  },
  {
   "cell_type": "code",
   "execution_count": null,
   "id": "967634ee-cd21-4ae5-a06a-100e81eeb883",
   "metadata": {},
   "outputs": [],
   "source": [
    "nemo_grid_file"
   ]
  },
  {
   "cell_type": "code",
   "execution_count": null,
   "id": "049d0e02-d6fd-47e8-a03c-4837680a7103",
   "metadata": {},
   "outputs": [],
   "source": [
    "test"
   ]
  },
  {
   "cell_type": "code",
   "execution_count": null,
   "id": "f9317add-fc34-4c10-a763-f80b847c991f",
   "metadata": {},
   "outputs": [],
   "source": [
    "ISMIP_2km_new_grid['lat_bnds'].isel(nv4=0).plot()"
   ]
  },
  {
   "cell_type": "code",
   "execution_count": null,
   "id": "99be201f-9437-4827-9c41-1a19f6dfcb31",
   "metadata": {},
   "outputs": [],
   "source": [
    "4*3041"
   ]
  },
  {
   "cell_type": "code",
   "execution_count": null,
   "id": "98a55b15-8a61-400c-bc5a-866c583a9ecf",
   "metadata": {},
   "outputs": [],
   "source": [
    "ISMIP_2km_new_grid['lat_bnds'].isel(nv4=0).plot()"
   ]
  },
  {
   "cell_type": "code",
   "execution_count": null,
   "id": "22fca124-2013-4f14-b173-d9f90f1a6eb0",
   "metadata": {},
   "outputs": [],
   "source": [
    "ISMIP_2km_new_grid[['lon','lat']].to_netcdf(inputpath_interim + 'IMBIE_2km_stereo_mapping.nc')"
   ]
  },
  {
   "cell_type": "code",
   "execution_count": null,
   "id": "cb8f4b78-4d85-4c2e-8003-fa089be08a46",
   "metadata": {},
   "outputs": [],
   "source": [
    "3041 * 3041"
   ]
  },
  {
   "cell_type": "code",
   "execution_count": null,
   "id": "967f69af-66f9-41b3-98a2-89f27530e91d",
   "metadata": {},
   "outputs": [],
   "source": [
    "with open(inputpath_interim+\"stereo_grid_2km_curvilinear_definition.txt\", \"w\") as txt_file:\n",
    "\n",
    "    txt_file.write('# \\n')\n",
    "    txt_file.write('# gridID 1 \\n')\n",
    "    txt_file.write('# \\n')\n",
    "    txt_file.write('gridtype  = curvilinear \\n')\n",
    "    txt_file.write('gridsize  = 9247681 \\n')\n",
    "    txt_file.write('datatype  = float \\n')\n",
    "    txt_file.write('xsize     = 3041 \\n')\n",
    "    txt_file.write('ysize     = 3041 \\n')\n",
    "    txt_file.write('xname     = lon \\n')\n",
    "    txt_file.write('xdimname  = x \\n')\n",
    "    txt_file.write('xlongname = \"longitude\" \\n')\n",
    "    txt_file.write('xunits    = \"degrees_east\" \\n')\n",
    "    txt_file.write('yname     = lat \\n')\n",
    "    txt_file.write('ydimname  = y \\n')\n",
    "    txt_file.write('ylongname = \"latitude\" \\n')\n",
    "    txt_file.write('yunits    = \"degrees_north\" \\n')\n",
    "    txt_file.write('vdimname  = nv4 \\n')\n",
    "    txt_file.write('xvals = ')\n",
    "    for vv in tqdm(meshlon.flatten()):\n",
    "        txt_file.write(str(vv) + ' ')\n",
    "    txt_file.write('\\n')\n",
    "    txt_file.write('yvals = ')\n",
    "    for vv in tqdm(meshlat.flatten()):\n",
    "        txt_file.write(str(vv) + ' ')\n",
    "    txt_file.write('\\n')\n",
    "    txt_file.write('xbounds = ')\n",
    "    for vv in tqdm(ISMIP_2km_new_grid['lon_bnds'].values.flatten()):\n",
    "        txt_file.write(str(vv) + ' ')\n",
    "    txt_file.write('\\n')\n",
    "    txt_file.write('ybounds = ')\n",
    "    for vv in tqdm(ISMIP_2km_new_grid['lat_bnds'].values.flatten()):\n",
    "        txt_file.write(str(vv) + ' ')\n",
    "    txt_file.write('\\n')\n",
    "    txt_file.write('# \\n')\n",
    "    txt_file.write('# gridID 2 \\n')\n",
    "    txt_file.write('# \\n')\n",
    "    txt_file.write('gridtype = projection \\n')\n",
    "    txt_file.write('gridsize  = 9247681 \\n')\n",
    "    txt_file.write('xsize     = 3041 \\n')\n",
    "    txt_file.write('ysize     = 3041 \\n')\n",
    "    txt_file.write('xname     = x \\n')\n",
    "    txt_file.write('xlongname = \"x-coordinate in Cartesian system\" \\n')\n",
    "    txt_file.write('xunits = \"m\" \\n')\n",
    "    txt_file.write('yname     = y \\n')\n",
    "    txt_file.write('ylongname = \"y-coordinate in Cartesian system\" \\n')\n",
    "    txt_file.write('yunits = \"m\" \\n')\n",
    "    txt_file.write('xfirst = '+str(ISMIP_2km_new_grid.x.min().values)+' \\n')\n",
    "    txt_file.write('xinc = 2000 \\n')\n",
    "    txt_file.write('yfirst = '+str(ISMIP_2km_new_grid.y.min().values)+' \\n')\n",
    "    txt_file.write('yinc = 2000 \\n')\n",
    "    txt_file.write('grid_mapping = Projection \\n')\n",
    "    \n",
    "txt_file.close()"
   ]
  },
  {
   "cell_type": "code",
   "execution_count": null,
   "id": "9499577f-0d42-46b0-ad56-97efe8f2ac96",
   "metadata": {},
   "outputs": [],
   "source": []
  }
 ],
 "metadata": {
  "kernelspec": {
   "display_name": "py38",
   "language": "python",
   "name": "py38"
  },
  "language_info": {
   "codemirror_mode": {
    "name": "ipython",
    "version": 3
   },
   "file_extension": ".py",
   "mimetype": "text/x-python",
   "name": "python",
   "nbconvert_exporter": "python",
   "pygments_lexer": "ipython3",
   "version": "3.8.18"
  }
 },
 "nbformat": 4,
 "nbformat_minor": 5
}
