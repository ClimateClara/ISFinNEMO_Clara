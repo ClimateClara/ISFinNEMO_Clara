{
 "cells": [
  {
   "cell_type": "code",
   "execution_count": null,
   "id": "b17fb0a2-d84c-4dcf-b2f4-a945156abcd2",
   "metadata": {},
   "outputs": [],
   "source": [
    "\"\"\"\n",
    "Created on Mon Aug 18 17:37 2025\n",
    "\n",
    "Prepare a domain cfg and a param melt for cavities all closed for my experiments\n",
    "\n",
    "@author: Clara Burgard\n",
    "\"\"\""
   ]
  },
  {
   "cell_type": "code",
   "execution_count": 68,
   "id": "c3d18103-b981-4642-84a0-bdbdbd9514a6",
   "metadata": {},
   "outputs": [],
   "source": [
    "import xarray as xr\n",
    "from tqdm.notebook import tqdm\n",
    "import numpy as np\n",
    "from cdo import Cdo\n",
    "from datetime import date\n"
   ]
  },
  {
   "cell_type": "code",
   "execution_count": 49,
   "id": "f2df3887-d545-48cb-be09-92422bcb1bd1",
   "metadata": {},
   "outputs": [
    {
     "name": "stdout",
     "output_type": "stream",
     "text": [
      "this is CDO version 1.9.9rc1\n"
     ]
    }
   ],
   "source": [
    "cdo = Cdo()\n",
    "print('this is CDO version %s'%(cdo.version()))"
   ]
  },
  {
   "cell_type": "code",
   "execution_count": 2,
   "id": "35c45b60-94fc-4cb6-8eaa-05b93e919bc4",
   "metadata": {},
   "outputs": [],
   "source": [
    "inputpath_raw2 = '/data/cburgard/PREPARE_FORCING/PREPARE_CAVITY_MASKS/raw/'\n",
    "inputpath_interim = '/data/cburgard/PREPARE_FORCING/PREPARE_CAVITY_MASKS/interim/'\n",
    "outputpath_newmask = '/data/cburgard/PREPARE_FORCING/PREPARE_CAVITY_MASKS/processed/'"
   ]
  },
  {
   "cell_type": "markdown",
   "id": "b74f570f-c44c-423a-ba23-5e9f92e2b487",
   "metadata": {},
   "source": [
    "Prepare the domain cfg for all cavities closed"
   ]
  },
  {
   "cell_type": "code",
   "execution_count": 3,
   "id": "900d8f67-e784-48ae-8eb3-5183f9d42325",
   "metadata": {},
   "outputs": [],
   "source": [
    "domain_cfg = xr.open_dataset(inputpath_raw2 + 'eORCA1.4.3_OpenSeas_OpenAllCav_ModStraights/eORCA1.4.3_OpenSeas_OpenAllCav_ModStraights_domain_cfg.nc')"
   ]
  },
  {
   "cell_type": "code",
   "execution_count": 4,
   "id": "3a1678c3-f0f5-4994-91cd-3fb8abc012a9",
   "metadata": {},
   "outputs": [],
   "source": [
    "domain_cfg_new = domain_cfg.copy()\n",
    "for vvar in ['bottom_level', 'top_level', 'isf_draft', 'bathy_metry', 'mask_opensea', 'mask_csgrpglo']:\n",
    "    domain_cfg_new[vvar] = domain_cfg_new[vvar].where(domain_cfg['isf_draft'] == 0, 0)"
   ]
  },
  {
   "cell_type": "code",
   "execution_count": 5,
   "id": "011dbb1e-ed67-40f0-b0be-1205f256b8c3",
   "metadata": {},
   "outputs": [],
   "source": [
    "domain_cfg_new.to_netcdf(outputpath_newmask + 'eORCA1.4.3_OpenSeas_CloseAllCav_ModStraights_domain_cfg.nc')"
   ]
  },
  {
   "cell_type": "markdown",
   "id": "236af1a1-59df-4e41-a4af-1b2db57d01dc",
   "metadata": {},
   "source": [
    "Prepare the injection of meltwater"
   ]
  },
  {
   "cell_type": "code",
   "execution_count": 6,
   "id": "0c4cb921-5c3f-4a0f-8447-53370e67b03b",
   "metadata": {},
   "outputs": [],
   "source": [
    "ds_isfNEMO = xr.open_dataset(inputpath_interim + 'masks_for_eORCA1.nc')\n",
    "file_Justine = xr.open_dataset(inputpath_interim + 'Mask_Iceshelf_IMBIE2_v2_with_zmin_zmax_isfconc.nc').drop('quantile')"
   ]
  },
  {
   "cell_type": "code",
   "execution_count": 7,
   "id": "7b85522b-1917-4971-96a9-193c83e5ae2e",
   "metadata": {},
   "outputs": [],
   "source": [
    "new_ds_isfNEMO = ds_isfNEMO.copy()"
   ]
  },
  {
   "cell_type": "code",
   "execution_count": 8,
   "id": "1f2b6d17-5019-45d0-9f78-1d3d6cfd584a",
   "metadata": {},
   "outputs": [],
   "source": [
    "# Choose (by eye or given a criterion, which ice shelves will have open cavities)\n",
    "ID_open_list = []"
   ]
  },
  {
   "cell_type": "code",
   "execution_count": 9,
   "id": "412c38ec-d84a-42a3-8bd4-84cad840b4eb",
   "metadata": {},
   "outputs": [],
   "source": [
    "# Divide the ref file into \"open\" and \"closed\" cavities\n",
    "file_Justine_closed = file_Justine"
   ]
  },
  {
   "cell_type": "code",
   "execution_count": 10,
   "id": "d2ea1d94-fd11-4f18-860b-84007a38e912",
   "metadata": {},
   "outputs": [],
   "source": [
    "# Prepare mask of only open cavities \n",
    "mask_isf_open = ds_isfNEMO['mask_isf'] * np.nan\n",
    "\n",
    "# Prepare mask of only closed cavities \n",
    "mask_isf_closed = ds_isfNEMO['mask_isf'].where(np.isnan(mask_isf_open))"
   ]
  },
  {
   "cell_type": "code",
   "execution_count": 11,
   "id": "319a68d1-570e-4562-beb9-d96829778980",
   "metadata": {},
   "outputs": [],
   "source": [
    "# create mask_isf_open and mask_isf_closed\n",
    "new_ds_isfNEMO['mask_isf_open'] = mask_isf_open\n",
    "new_ds_isfNEMO['mask_isf_open'].attrs['standard_name'] = 'mask of the ice shelves that are open'\n",
    "new_ds_isfNEMO['mask_isf_open'].attrs['units'] = 'ID as given in Mask_Iceshelf_IMBIE2_v2.nc'\n",
    "\n",
    "new_ds_isfNEMO['mask_isf_closed'] = mask_isf_closed\n",
    "new_ds_isfNEMO['mask_isf_closed'].attrs['standard_name'] = 'mask of the ice shelves that are closed'\n",
    "new_ds_isfNEMO['mask_isf_closed'].attrs['units'] = 'ID as given in Mask_Iceshelf_IMBIE2_v2.nc'"
   ]
  },
  {
   "cell_type": "markdown",
   "id": "e4c0966c-1205-4c0a-8adf-e879885804d9",
   "metadata": {},
   "source": [
    "IDENTIFY FRONT"
   ]
  },
  {
   "cell_type": "code",
   "execution_count": 50,
   "id": "16b5b710-e312-4093-a91e-b01844702a7b",
   "metadata": {},
   "outputs": [],
   "source": [
    "isfmask_nn = cdo.remapnn(inputpath_interim + 'NEMO_grid_withbnds.nc',input=file_Justine['Iceshelf_extrap'], returnArray='Iceshelf_extrap')\n",
    "isfmask = xr.DataArray(data=isfmask_nn, dims=['y','x'])"
   ]
  },
  {
   "cell_type": "code",
   "execution_count": 29,
   "id": "fca7a307-f36e-407b-a7ed-c9707fffce2b",
   "metadata": {},
   "outputs": [],
   "source": [
    "# Create a mask discriminating between land, ocean and ice shelf\n",
    "mask_0_1_2 = new_ds_isfNEMO['mask_isf'] * 2\n",
    "mask_0_1_2 = mask_0_1_2.where(domain_cfg['bathy_metry'] != 0, 400) # land\n",
    "mask_0_1_2 = mask_0_1_2.where(domain_cfg['bathy_metry'] == 0, 0) # ocean\n",
    "mask_0_1_2 = mask_0_1_2.where(domain_cfg['isf_draft'] == 0, 200) # ice shelf"
   ]
  },
  {
   "cell_type": "code",
   "execution_count": 51,
   "id": "c70f3042-09df-4eaa-8f14-865701b438cb",
   "metadata": {},
   "outputs": [],
   "source": [
    "# Create a mask of the extrapolated domains and only keep the domains corresponding to the closed cavities\n",
    "extrap_domains_closed = isfmask.copy()\n",
    "\n",
    "for kisf in ID_open_list:\n",
    "    mask_0_1_2_closed = mask_0_1_2.where(new_ds_isfNEMO['mask_isf'] != kisf, 400)\n",
    "    extrap_domains_closed = extrap_domains_closed.where(extrap_domains_closed != kisf, np.nan)"
   ]
  },
  {
   "cell_type": "code",
   "execution_count": 52,
   "id": "ab55bd33-6cfe-4487-8e70-150c3924b50d",
   "metadata": {},
   "outputs": [],
   "source": [
    "# set all ice shelves to 300\n",
    "mask_front0 = mask_0_1_2.where((mask_0_1_2 == 0) | (mask_0_1_2 == 400), 300).copy()"
   ]
  },
  {
   "cell_type": "code",
   "execution_count": 53,
   "id": "99b57ebc-a212-4cce-80f1-e7f6d43e3a55",
   "metadata": {},
   "outputs": [],
   "source": [
    "mask_front = mask_front0.copy()\n",
    "# check all directions and set points at border between ocean and ice shelf (300-0) to 500\n",
    "mask_front = mask_front.where((mask_front0.shift(x=-1)-mask_front0)!=300,500)\n",
    "mask_front = mask_front.where((mask_front0.shift(x=1)-mask_front0)!=300,500)\n",
    "mask_front = mask_front.where((mask_front0.shift(y=-1)-mask_front0)!=300,500)\n",
    "mask_front = mask_front.where((mask_front0.shift(y=1)-mask_front0)!=300,500)\n",
    "# cut out all front points\n",
    "mask_front = mask_front.where(mask_front==500)\n",
    "# set the ice shelf number\n",
    "mask_front = mask_front.where(mask_front!=500,extrap_domains_closed)"
   ]
  },
  {
   "cell_type": "markdown",
   "id": "0452a32b-2743-4b4c-a5a5-715a1f034642",
   "metadata": {},
   "source": [
    "For the ice shelves not resolved at all in eORCA1"
   ]
  },
  {
   "cell_type": "code",
   "execution_count": 55,
   "id": "1705dc74-3600-4897-a52d-94c6b0f49bbd",
   "metadata": {},
   "outputs": [],
   "source": [
    "# define the domains that have not an associated front yet\n",
    "extrap_domains_double_closed = extrap_domains_closed.copy()\n",
    "\n",
    "for kisf in file_Justine_closed.ID:\n",
    "    if (mask_front == kisf).astype(int).sum() > 0:\n",
    "        #print(kisf.values)\n",
    "        extrap_domains_double_closed = extrap_domains_double_closed.where(extrap_domains_double_closed != kisf, np.nan).drop('ID')"
   ]
  },
  {
   "cell_type": "code",
   "execution_count": 56,
   "id": "67e62402-aa82-4df9-bb9f-091463196203",
   "metadata": {},
   "outputs": [],
   "source": [
    "# set all ice shelves to land to have a delimitation of the whole contour of Antarctica\n",
    "mask_0_2 = mask_0_1_2.where(mask_0_1_2 != 200, 2)\n",
    "mask_0_2 = mask_0_2.where(mask_0_2 != 400, 2)\n",
    "\n",
    "mask_front_new = mask_0_2.copy()\n",
    "\n",
    "# check all directions and set points at border between ocean and land(300-0) to 500\n",
    "mask_front_new = mask_front_new.where((mask_0_2.shift(x=-1)-mask_0_2) <= 0,5)\n",
    "mask_front_new = mask_front_new.where((mask_0_2.shift(x=1)-mask_0_2) <= 0,5)\n",
    "mask_front_new = mask_front_new.where((mask_0_2.shift(y=-1)-mask_0_2) <= 0,5)\n",
    "mask_front_new = mask_front_new.where((mask_0_2.shift(y=1)-mask_0_2) <= 0,5)\n",
    "# cut out all front points south of the y = 90 latitude and in the ocean domain\n",
    "mask_front_new = mask_front_new.where((mask_front_new == 5) & (mask_front_new.y < 90) & (mask_0_2 == 0))\n",
    "# set the ice shelf number of the extrapolated domain\n",
    "mask_front_new = mask_front_new.where(mask_front_new != 5,extrap_domains_double_closed)"
   ]
  },
  {
   "cell_type": "code",
   "execution_count": 57,
   "id": "acb919e3-4d41-45b6-916f-842500abc147",
   "metadata": {},
   "outputs": [],
   "source": [
    "# combining the masks of the fronts (mask_front and mask_front_new)\n",
    "mask_front_all = mask_front.copy()\n",
    "for iid in file_Justine_closed.ID:\n",
    "    if (new_ds_isfNEMO['mask_isf_closed'] == iid).astype(int).sum().values == 0: # if the ice shelf is not resolved in your grid, add the mask front inferred for them\n",
    "        #print(iid.values, file_Justine_closed['NAME'].sel(ID=iid).values, (mask_front_new == iid).astype(int).sum().values)\n",
    "        mask_front_all = mask_front_all.combine_first(mask_front_new.where(mask_front_new == iid))"
   ]
  },
  {
   "cell_type": "code",
   "execution_count": 59,
   "id": "d06df87f-b2fb-49b4-91c0-1a89023c76fa",
   "metadata": {},
   "outputs": [],
   "source": [
    "mask_front_file = xr.Dataset()\n",
    "mask_front_file['mask_front'] = mask_front_all\n",
    "mask_front_file['ID'] = file_Justine['ID']\n",
    "mask_front_file.to_netcdf(inputpath_interim + 'mask_fronts_eORCA1_allISFclosed.nc')"
   ]
  },
  {
   "cell_type": "markdown",
   "id": "61c6ff71-e760-40e7-a8ff-c41113eaf02f",
   "metadata": {},
   "source": [
    "Prepare the file to be eaten by NEMO"
   ]
  },
  {
   "cell_type": "code",
   "execution_count": 60,
   "id": "6823724a-b699-48f3-a0cd-409f4cf4c50e",
   "metadata": {},
   "outputs": [],
   "source": [
    "file_mask_eORCA1 = xr.open_dataset(inputpath_interim + 'masks_for_eORCA1.nc')"
   ]
  },
  {
   "cell_type": "code",
   "execution_count": 62,
   "id": "de7fc050-73ac-476f-9c88-f18628713c1b",
   "metadata": {},
   "outputs": [
    {
     "data": {
      "application/vnd.jupyter.widget-view+json": {
       "model_id": "47710984c35e48cf934a2820f2827fc1",
       "version_major": 2,
       "version_minor": 0
      },
      "text/plain": [
       "  0%|          | 0/133 [00:00<?, ?it/s]"
      ]
     },
     "metadata": {},
     "output_type": "display_data"
    }
   ],
   "source": [
    "zmin_front = mask_front_all.copy()\n",
    "zmax_front = mask_front_all.copy()\n",
    "\n",
    "for id_closed in tqdm(file_Justine_closed.ID):\n",
    "    zmin_front = zmin_front.where(mask_front_all != id_closed, file_Justine_closed['z_perc01'].sel(ID=id_closed)).drop('ID')\n",
    "    zmax_front = zmax_front.where(mask_front_all != id_closed, file_Justine_closed['z_perc99'].sel(ID=id_closed)).drop('ID')"
   ]
  },
  {
   "cell_type": "code",
   "execution_count": 63,
   "id": "5f4b49a2-a6b2-4ab7-8cb3-256cb36d45e7",
   "metadata": {},
   "outputs": [],
   "source": [
    "cell_area = domain_cfg['e1t'] * domain_cfg['e2t']\n",
    "melt_src = 'Davison' # options: 'Adusumilli','Rignot', 'Paolo', 'Davison'\n",
    "melt_flux = file_Justine_closed['Melt'+melt_src]"
   ]
  },
  {
   "cell_type": "code",
   "execution_count": 64,
   "id": "c16471c7-e1bf-4089-8504-774404d35002",
   "metadata": {},
   "outputs": [
    {
     "data": {
      "application/vnd.jupyter.widget-view+json": {
       "model_id": "b3e6b5810e8e4dc8914d19c774e61631",
       "version_major": 2,
       "version_minor": 0
      },
      "text/plain": [
       "  0%|          | 0/133 [00:00<?, ?it/s]"
      ]
     },
     "metadata": {},
     "output_type": "display_data"
    }
   ],
   "source": [
    "melt_front = mask_front_all.copy()\n",
    "for id_closed in tqdm(file_Justine_closed.ID):        \n",
    "    cell_area_isf = cell_area.where(mask_front_all == id_closed)\n",
    "    cell_area_isf_sum = cell_area.where(mask_front_all == id_closed).sum()\n",
    "    \n",
    "    if id_closed == 100:\n",
    "        melt_front = melt_front.where(mask_front_all != id_closed, (melt_flux.sel(ID=101) + melt_flux.sel(ID=100)) * cell_area_isf / cell_area_isf_sum).drop('ID')\n",
    "    elif id_closed == 88:\n",
    "        melt_front = melt_front.where(mask_front_all != id_closed, (melt_flux.sel(ID=89) + melt_flux.sel(ID=88)) * cell_area_isf / cell_area_isf_sum).drop('ID')\n",
    "    elif id_closed == 14:\n",
    "        melt_front = melt_front.where(mask_front_all != id_closed, (melt_flux.sel(ID=14) + melt_flux.sel(ID=15)) * cell_area_isf / cell_area_isf_sum).drop('ID')\n",
    "    elif id_closed == 20:\n",
    "        melt_front = melt_front.where(mask_front_all != id_closed, (melt_flux.sel(ID=20) + melt_flux.sel(ID=17) + melt_flux.sel(ID=18)) * cell_area_isf / cell_area_isf_sum).drop('ID')\n",
    "    elif id_closed == 102:\n",
    "        melt_front = melt_front.where(mask_front_all != id_closed, (melt_flux.sel(ID=102) + melt_flux.sel(ID=105) + melt_flux.sel(ID=107)) * cell_area_isf / cell_area_isf_sum).drop('ID')\n",
    "    else:\n",
    "        melt_front = melt_front.where(mask_front_all != id_closed, melt_flux.sel(ID=id_closed) * cell_area_isf / cell_area_isf_sum).drop('ID')\n"
   ]
  },
  {
   "cell_type": "code",
   "execution_count": 65,
   "id": "278dfada-d568-4edd-bc4e-8ed81d838f42",
   "metadata": {},
   "outputs": [],
   "source": [
    "zmin_front = zmin_front.where(melt_front > 0)\n",
    "zmax_front = zmax_front.where(melt_front > 0)\n",
    "melt_front = melt_front.where(melt_front > 0)"
   ]
  },
  {
   "cell_type": "code",
   "execution_count": 66,
   "id": "4779524b-153f-498b-ab37-0e088e5d3490",
   "metadata": {},
   "outputs": [],
   "source": [
    "new_ds_isfNEMO['z_min'] = zmin_front\n",
    "new_ds_isfNEMO['z_min'].attrs['standard_name'] = 'most shallow point of the ice-shelf draft indicated at the ice-shelf front'\n",
    "new_ds_isfNEMO['z_min'].attrs['units'] = 'm below sea level'\n",
    "\n",
    "new_ds_isfNEMO['z_max'] = zmax_front\n",
    "new_ds_isfNEMO['z_max'].attrs['standard_name'] = 'deepest point of the ice-shelf draft indicated at the ice-shelf front'\n",
    "new_ds_isfNEMO['z_max'].attrs['units'] = 'm below sea level'\n",
    "\n",
    "new_ds_isfNEMO['melt_isf_closed'] = melt_front\n",
    "new_ds_isfNEMO['melt_isf_closed'].attrs['standard_name'] = 'melt flux from '+melt_src+' distributed at the ice-shelf front'\n",
    "new_ds_isfNEMO['melt_isf_closed'].attrs['units'] = 'Gt/yr'"
   ]
  },
  {
   "cell_type": "code",
   "execution_count": 69,
   "id": "edd5602c-0a1a-4bd9-a503-86ac628d1f0d",
   "metadata": {},
   "outputs": [],
   "source": [
    "new_ds_isfNEMO.attrs=dict(Source='Based on IMBIE2 (Mask_Iceshelf_IMBIE2_v2.nc), melt from '+melt_src,\n",
    "                      Compatibility='The masked variables are compatible with eORCA1.4.3_OpenSeas_CloseAllCav_ModStraights_domain_cfg.nc',\n",
    "                      Creator='C. Burgard  ('+date.today().strftime(\"%b-%d-%Y\")+')')"
   ]
  },
  {
   "cell_type": "code",
   "execution_count": 70,
   "id": "4b057688-6c92-4633-ad58-067a19be7669",
   "metadata": {},
   "outputs": [],
   "source": [
    "new_ds_isfNEMO.to_netcdf(inputpath_interim + 'masks_for_eORCA1_allISFclosed.nc') "
   ]
  },
  {
   "cell_type": "markdown",
   "id": "141c44ae-cc01-4d77-ac38-e0f2b8e758d8",
   "metadata": {},
   "source": [
    "Prepare the file for NEMO"
   ]
  },
  {
   "cell_type": "code",
   "execution_count": 71,
   "id": "5ee15b60-0d4d-4903-9e23-2ec05f1eed52",
   "metadata": {},
   "outputs": [],
   "source": [
    "inputpath_raw='/data/cburgard/PREPARE_FORCING/PREPARE_PRESCRIBED_MELT/raw/'\n",
    "file_IPSL = xr.open_dataset(inputpath_raw + 'eORCA1.4.2_runoff-icb_DaiTrenberth_Depoorter.nc')"
   ]
  },
  {
   "cell_type": "code",
   "execution_count": null,
   "id": "e08a52ba-ef2a-4684-9d73-72478e3288b7",
   "metadata": {},
   "outputs": [],
   "source": []
  }
 ],
 "metadata": {
  "kernelspec": {
   "display_name": "mpy38 (new)",
   "language": "python",
   "name": "mpy38"
  },
  "language_info": {
   "codemirror_mode": {
    "name": "ipython",
    "version": 3
   },
   "file_extension": ".py",
   "mimetype": "text/x-python",
   "name": "python",
   "nbconvert_exporter": "python",
   "pygments_lexer": "ipython3",
   "version": "3.8.20"
  }
 },
 "nbformat": 4,
 "nbformat_minor": 5
}
