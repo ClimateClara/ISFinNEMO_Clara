{
 "cells": [
  {
   "cell_type": "code",
   "execution_count": null,
   "id": "0fd4ac63-a294-4124-9780-69eafe2acf51",
   "metadata": {},
   "outputs": [],
   "source": [
    "\"\"\"\n",
    "Created on Mon Oct 21 17:55 2024\n",
    "\n",
    "Prepare the Davison patterns for easier implementation in IPSL-CM\n",
    "\n",
    "@author: Clara Burgard\n",
    "\"\"\""
   ]
  },
  {
   "cell_type": "code",
   "execution_count": 2,
   "id": "c7b668f9-bea5-4322-a7c7-e4e6694fa692",
   "metadata": {},
   "outputs": [],
   "source": [
    "import xarray as xr\n",
    "import numpy as np\n",
    "import multimelt.useful_functions as uf\n",
    "from cdo import Cdo\n",
    "from tqdm.notebook import tqdm"
   ]
  },
  {
   "cell_type": "code",
   "execution_count": 3,
   "id": "1909eaae-a4d4-4ab8-87cd-a7e30ef4f2e3",
   "metadata": {},
   "outputs": [
    {
     "name": "stdout",
     "output_type": "stream",
     "text": [
      "this is CDO version 2.1.0\n"
     ]
    }
   ],
   "source": [
    "cdo = Cdo()\n",
    "print('this is CDO version %s'%(cdo.version()))"
   ]
  },
  {
   "cell_type": "code",
   "execution_count": 4,
   "id": "07449a1f-03f6-4858-b9d9-48a92a2f40e7",
   "metadata": {},
   "outputs": [],
   "source": [
    "inputpath_raw = '/data/cburgard/PREPARE_FORCING/PREPARE_PRESCRIBED_MELT/raw/'\n",
    "inputpath_interim = '/data/cburgard/PREPARE_FORCING/PREPARE_PRESCRIBED_MELT/interim/'\n",
    "inputpath_mask_interim = '/data/cburgard/PREPARE_FORCING/PREPARE_CAVITY_MASKS/interim/'"
   ]
  },
  {
   "cell_type": "code",
   "execution_count": null,
   "id": "22b32ff4-be6d-457e-ab5c-9112d440c589",
   "metadata": {},
   "outputs": [],
   "source": [
    "img = xr.open_dataset(inputpath_raw + 'basal_melt_map_racmo_firn_air_corrected.tif', engine = 'rasterio')"
   ]
  },
  {
   "cell_type": "code",
   "execution_count": null,
   "id": "464826d0-2889-4e56-894a-2e7c8f3884cd",
   "metadata": {},
   "outputs": [],
   "source": [
    "meshx, meshy = np.meshgrid(img.x,img.y)"
   ]
  },
  {
   "cell_type": "code",
   "execution_count": null,
   "id": "7a5e9cd2-ab7e-4a90-9ca9-f52105aa0cfb",
   "metadata": {},
   "outputs": [],
   "source": [
    "meshlon, meshlat = uf.change_coord_stereo_to_latlon(meshx,meshy)"
   ]
  },
  {
   "cell_type": "code",
   "execution_count": null,
   "id": "ae753dbd-14d1-4562-bd49-af637fd75d9c",
   "metadata": {},
   "outputs": [],
   "source": [
    "img['longitude'] = xr.DataArray(data=meshlon, dims=['y','x'])\n",
    "img['latitude'] = xr.DataArray(data=meshlat, dims=['y','x'])"
   ]
  },
  {
   "cell_type": "code",
   "execution_count": null,
   "id": "d8085617-a9e9-4f4c-9462-d11d9e3bff2e",
   "metadata": {},
   "outputs": [],
   "source": [
    "img.to_netcdf(inputpath_interim + 'Davison23_basal_melt_pattern.nc')"
   ]
  },
  {
   "cell_type": "markdown",
   "id": "aec0076d-619c-459a-b21e-ad5f7d21f3bc",
   "metadata": {},
   "source": [
    "Create 1 km grid"
   ]
  },
  {
   "cell_type": "code",
   "execution_count": null,
   "id": "54d4ded1-7030-43c9-be00-e72df1466c07",
   "metadata": {},
   "outputs": [],
   "source": [
    "stereo_1km_grid = xr.open_dataset(inputpath_interim + 'Davison23_basal_melt_pattern.nc')"
   ]
  },
  {
   "cell_type": "code",
   "execution_count": null,
   "id": "72e809cf-7ba8-4138-9cc7-d511d140bebc",
   "metadata": {},
   "outputs": [],
   "source": [
    "# Create 2D-coordinates\n",
    "meshx,meshy = np.meshgrid(stereo_1km_grid.x,stereo_1km_grid.y)"
   ]
  },
  {
   "cell_type": "code",
   "execution_count": null,
   "id": "e040f874-7637-4ebd-840f-2f2725428088",
   "metadata": {},
   "outputs": [],
   "source": [
    "# Stereographic resolution in m divided by 2 - in this case, the resolution is 2 km\n",
    "half_res = 500. "
   ]
  },
  {
   "cell_type": "code",
   "execution_count": null,
   "id": "d3bae4df-85d1-42a5-b0f2-8dc7bd8d9f36",
   "metadata": {},
   "outputs": [],
   "source": [
    "# Create the lat and lon of the grid corners : ll = lower left, lr = lower right, ur = upper right, ul = upper left\n",
    "meshlon_ll,meshlat_ll = uf.change_coord_stereo_to_latlon(meshx - half_res, meshy - half_res)\n",
    "meshlon_lr,meshlat_lr = uf.change_coord_stereo_to_latlon(meshx + half_res, meshy - half_res)\n",
    "meshlon_ur,meshlat_ur = uf.change_coord_stereo_to_latlon(meshx + half_res, meshy + half_res)\n",
    "meshlon_ul,meshlat_ul = uf.change_coord_stereo_to_latlon(meshx - half_res, meshy + half_res)"
   ]
  },
  {
   "cell_type": "code",
   "execution_count": null,
   "id": "8db44ff6-5965-41ed-b127-a53a3771883a",
   "metadata": {},
   "outputs": [],
   "source": [
    "# Create the lat and lon of the grid centers \n",
    "meshlon,meshlat = uf.change_coord_stereo_to_latlon(meshx, meshy)"
   ]
  },
  {
   "cell_type": "code",
   "execution_count": null,
   "id": "b811c0cc-7764-4e49-a616-61c913a5a33b",
   "metadata": {},
   "outputs": [],
   "source": [
    "# Formatting the dataset\n",
    "lon_bnds = xr.DataArray(data=np.array([meshlon_ll, meshlon_lr, meshlon_ur, meshlon_ul]), dims=['nvertex','y','x'])\n",
    "lat_bnds = xr.DataArray(data=np.array([meshlat_ll, meshlat_lr, meshlat_ur, meshlat_ul]), dims=['nvertex','y','x'])\n",
    "lon = xr.DataArray(data=np.array(meshlon), dims=['y','x'])\n",
    "lat = xr.DataArray(data=np.array(meshlat), dims=['y','x'])\n",
    "\n",
    "stereo_1km_grid = xr.merge([lon_bnds.rename('lon_bnds'),\n",
    "                               lat_bnds.rename('lat_bnds')]).assign_coords({'lon': lon, 'lat': lat}) \n",
    "\n",
    "stereo_1km_grid['lon'].attrs['standard_name'] = 'longitude'\n",
    "stereo_1km_grid['lon'].attrs['units'] = 'degrees_east'\n",
    "stereo_1km_grid['lon'].attrs['bounds'] = 'lon_bnds'\n",
    "\n",
    "stereo_1km_grid['lat'].attrs['standard_name'] = 'latitude'\n",
    "stereo_1km_grid['lat'].attrs['units'] = 'degrees_north'\n",
    "stereo_1km_grid['lat'].attrs['bounds'] = 'lat_bnds'"
   ]
  },
  {
   "cell_type": "code",
   "execution_count": null,
   "id": "f15ca6de-0e28-4944-b5f2-037ba9a2666a",
   "metadata": {},
   "outputs": [],
   "source": [
    "# Write to netcdf\n",
    "stereo_1km_grid[['lon','lat',\n",
    "                    'lon_bnds','lat_bnds']].set_coords(('lat_bnds', \n",
    "                                                        'lon_bnds')).transpose('y','x','nvertex').to_netcdf(inputpath_interim + 'stereo_1km_withbnds.nc')"
   ]
  },
  {
   "cell_type": "code",
   "execution_count": null,
   "id": "b9a23fbc-b3c7-4f4c-92ea-3394b59ad152",
   "metadata": {},
   "outputs": [],
   "source": [
    "6435*6120"
   ]
  },
  {
   "cell_type": "code",
   "execution_count": null,
   "id": "6cedad3b-560a-4008-ad21-976482053d0f",
   "metadata": {},
   "outputs": [],
   "source": [
    "with open(inputpath_interim+\"stereo_grid_1km_curvilinear_definition.txt\", \"w\") as txt_file:\n",
    "\n",
    "    txt_file.write('# \\n')\n",
    "    txt_file.write('# gridID 1 \\n')\n",
    "    txt_file.write('# \\n')\n",
    "    txt_file.write('gridtype  = curvilinear \\n')\n",
    "    txt_file.write('gridsize  = 39382200 \\n')\n",
    "    txt_file.write('datatype  = float \\n')\n",
    "    txt_file.write('xsize     = 6120 \\n')\n",
    "    txt_file.write('ysize     = 6435 \\n')\n",
    "    txt_file.write('xname     = lon \\n')\n",
    "    txt_file.write('xdimname  = x \\n')\n",
    "    txt_file.write('xlongname = \"longitude\" \\n')\n",
    "    txt_file.write('xunits    = \"degrees_east\" \\n')\n",
    "    txt_file.write('yname     = lat \\n')\n",
    "    txt_file.write('ydimname  = y \\n')\n",
    "    txt_file.write('ylongname = \"latitude\" \\n')\n",
    "    txt_file.write('yunits    = \"degrees_north\" \\n')\n",
    "    txt_file.write('vdimname  = nv4 \\n')\n",
    "    txt_file.write('xvals = ')\n",
    "    for vv in tqdm(meshlon.flatten()):\n",
    "        txt_file.write(str(vv) + ' ')\n",
    "    txt_file.write('\\n')\n",
    "    txt_file.write('yvals = ')\n",
    "    for vv in tqdm(meshlat.flatten()):\n",
    "        txt_file.write(str(vv) + ' ')\n",
    "    txt_file.write('\\n')\n",
    "    txt_file.write('xbounds = ')\n",
    "    for vv in tqdm(stereo_1km_grid['lon_bnds'].values.flatten()):\n",
    "        txt_file.write(str(vv) + ' ')\n",
    "    txt_file.write('\\n')\n",
    "    txt_file.write('ybounds = ')\n",
    "    for vv in tqdm(stereo_1km_grid['lat_bnds'].values.flatten()):\n",
    "        txt_file.write(str(vv) + ' ')\n",
    "    txt_file.write('\\n')\n",
    "    txt_file.write('# \\n')\n",
    "    txt_file.write('# gridID 2 \\n')\n",
    "    txt_file.write('# \\n')\n",
    "    txt_file.write('gridtype = projection \\n')\n",
    "    txt_file.write('gridsize  = 39382200 \\n')\n",
    "    txt_file.write('xsize     = 6120 \\n')\n",
    "    txt_file.write('ysize     = 6435 \\n')\n",
    "    txt_file.write('xname     = x \\n')\n",
    "    txt_file.write('xlongname = \"x-coordinate in Cartesian system\" \\n')\n",
    "    txt_file.write('xunits = \"m\" \\n')\n",
    "    txt_file.write('yname     = y \\n')\n",
    "    txt_file.write('ylongname = \"y-coordinate in Cartesian system\" \\n')\n",
    "    txt_file.write('yunits = \"m\" \\n')\n",
    "    txt_file.write('xfirst = '+str(stereo_1km_grid.x.min().values)+' \\n')\n",
    "    txt_file.write('xinc = 2000 \\n')\n",
    "    txt_file.write('yfirst = '+str(stereo_1km_grid.y.min().values)+' \\n')\n",
    "    txt_file.write('yinc = 2000 \\n')\n",
    "    txt_file.write('grid_mapping = Projection \\n')\n",
    "    \n",
    "txt_file.close()"
   ]
  },
  {
   "cell_type": "markdown",
   "id": "25213794-68e9-4261-a414-727157ab881a",
   "metadata": {},
   "source": [
    "Remap it to NEMO grid"
   ]
  },
  {
   "cell_type": "code",
   "execution_count": null,
   "id": "e0801950-b1e0-4dae-b59a-1685b6e17bb1",
   "metadata": {},
   "outputs": [],
   "source": [
    "# ncatted -O -a ,global,d,, stereo_1km_withbnds.nc stereo_1km_withbnds.nc\n",
    "# ncap2 -O -s dummy[y,x]=1b stereo_1km_withbnds.nc stereo_1km_withbnds.nc\n",
    "# ncatted -a coordinates,dummy,c,c,\"lon lat\" -a units,lon,c,c,\"degreeE\" -a units,lat,c,c,\"degreeN\" stereo_1km_withbnds.nc"
   ]
  },
  {
   "cell_type": "code",
   "execution_count": 6,
   "id": "6ecc70a4-a23c-43a0-b681-0d91ffa6254e",
   "metadata": {},
   "outputs": [
    {
     "data": {
      "text/plain": [
       "'/data/cburgard/PREPARE_FORCING/PREPARE_PRESCRIBED_MELT/interim/Davison23_basal_melt_pattern_on_eORCA1.nc'"
      ]
     },
     "execution_count": 6,
     "metadata": {},
     "output_type": "execute_result"
    }
   ],
   "source": [
    "cdo.remapbil(inputpath_mask_interim + 'NEMO_grid_withbnds.nc', input=inputpath_interim + 'Davison23_basal_melt_pattern_withgrid.nc', output = inputpath_interim + 'Davison23_basal_melt_pattern_on_eORCA1.nc')"
   ]
  },
  {
   "cell_type": "code",
   "execution_count": 1,
   "id": "a10b6eb9-bca8-4b96-8d30-261253bba624",
   "metadata": {},
   "outputs": [
    {
     "ename": "NameError",
     "evalue": "name 'xr' is not defined",
     "output_type": "error",
     "traceback": [
      "\u001b[0;31m---------------------------------------------------------------------------\u001b[0m",
      "\u001b[0;31mNameError\u001b[0m                                 Traceback (most recent call last)",
      "Cell \u001b[0;32mIn[1], line 1\u001b[0m\n\u001b[0;32m----> 1\u001b[0m basal_melt_on_eORCA1 \u001b[38;5;241m=\u001b[39m \u001b[43mxr\u001b[49m\u001b[38;5;241m.\u001b[39mopen_dataset(\u001b[38;5;124m'\u001b[39m\u001b[38;5;124m/data/cburgard/PREPARE_FORCING/PREPARE_PRESCRIBED_MELT/interim/Davison23_basal_melt_pattern_on_eORCA1.nc\u001b[39m\u001b[38;5;124m'\u001b[39m)\n",
      "\u001b[0;31mNameError\u001b[0m: name 'xr' is not defined"
     ]
    }
   ],
   "source": [
    "basal_melt_on_eORCA1 = xr.open_dataset('/data/cburgard/PREPARE_FORCING/PREPARE_PRESCRIBED_MELT/interim/Davison23_basal_melt_pattern_on_eORCA1.nc')"
   ]
  },
  {
   "cell_type": "code",
   "execution_count": null,
   "id": "65dfd02d-b1c6-4e7d-9aef-a6709ba5a2bf",
   "metadata": {},
   "outputs": [],
   "source": [
    "basal_melt_on_eORCA1['basal_melt'].plot(vmax=20)"
   ]
  },
  {
   "cell_type": "code",
   "execution_count": null,
   "id": "470573b5-7667-483f-a6c1-4da96d5b1a27",
   "metadata": {},
   "outputs": [],
   "source": []
  }
 ],
 "metadata": {
  "kernelspec": {
   "display_name": "py38",
   "language": "python",
   "name": "py38"
  },
  "language_info": {
   "codemirror_mode": {
    "name": "ipython",
    "version": 3
   },
   "file_extension": ".py",
   "mimetype": "text/x-python",
   "name": "python",
   "nbconvert_exporter": "python",
   "pygments_lexer": "ipython3",
   "version": "3.8.18"
  }
 },
 "nbformat": 4,
 "nbformat_minor": 5
}
