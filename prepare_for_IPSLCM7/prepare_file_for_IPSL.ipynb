{
 "cells": [
  {
   "cell_type": "code",
   "execution_count": null,
   "id": "c1aa8cff-7216-4ac7-8674-6d26a8cf9b2d",
   "metadata": {},
   "outputs": [],
   "source": [
    "\"\"\"\n",
    "Created on Mon Jan 20 11:50 2025\n",
    "\n",
    "Compare the file currently used for IPSL-CM7 and the one I created to make them look similar\n",
    "\n",
    "@author: Clara Burgard\n",
    "\"\"\""
   ]
  },
  {
   "cell_type": "code",
   "execution_count": 1,
   "id": "931b90f5-1362-4ef4-8d0b-871073b95d39",
   "metadata": {},
   "outputs": [],
   "source": [
    "import xarray as xr\n",
    "from multimelt.constants import *\n",
    "import numpy as np\n",
    "import matplotlib.pyplot as plt"
   ]
  },
  {
   "cell_type": "code",
   "execution_count": 2,
   "id": "80be131f-132c-44d5-b710-8b92d718fb1a",
   "metadata": {},
   "outputs": [
    {
     "name": "stderr",
     "output_type": "stream",
     "text": [
      "QStandardPaths: error creating runtime directory '/run/user/2784' (Permission denied)\n"
     ]
    }
   ],
   "source": [
    "%matplotlib qt5"
   ]
  },
  {
   "cell_type": "markdown",
   "id": "6b2941f5-40ad-44f1-810b-1b8336166686",
   "metadata": {},
   "source": [
    "READ DATA"
   ]
  },
  {
   "cell_type": "code",
   "execution_count": 3,
   "id": "09fe82f5-aaa4-4368-87cb-2034fcf44f4b",
   "metadata": {},
   "outputs": [],
   "source": [
    "inputpath_raw='/data/cburgard/PREPARE_FORCING/PREPARE_PRESCRIBED_MELT/raw/'\n",
    "inputpath_interim='/data/cburgard/PREPARE_FORCING/PREPARE_PRESCRIBED_MELT/interim/'\n",
    "inputpath_raw2 = '/data/cburgard/PREPARE_FORCING/PREPARE_CAVITY_MASKS/raw/'\n"
   ]
  },
  {
   "cell_type": "code",
   "execution_count": 4,
   "id": "867be49a-ea2c-4689-bd2f-265254138129",
   "metadata": {},
   "outputs": [],
   "source": [
    "file_IPSL = xr.open_dataset(inputpath_raw + 'eORCA1.4.2_runoff-icb_DaiTrenberth_Depoorter.nc')\n",
    "file_Davison = xr.open_dataset(inputpath_interim + 'Davison23_basal_melt_pattern_on_eORCA1.nc')\n",
    "file_current = xr.open_dataset(inputpath_interim + 'masks_for_eORCA1_prescribedmeltinopencav.nc')"
   ]
  },
  {
   "cell_type": "code",
   "execution_count": 44,
   "id": "3f24c926-4f12-46f8-83ae-b8f7ebaffff4",
   "metadata": {},
   "outputs": [],
   "source": [
    "domain_cfg = xr.open_dataset(inputpath_raw2 + 'eORCA1.4.3_OpenSeas_OpenAllCav_ModStraights/eORCA1.4.3_OpenSeas_OpenAllCav_ModStraights_domain_cfg.nc')"
   ]
  },
  {
   "cell_type": "code",
   "execution_count": 6,
   "id": "e8b2c132-ddc2-42ca-96bf-161a7ad4cb8e",
   "metadata": {},
   "outputs": [],
   "source": [
    "cell_area = domain_cfg['e1t'] * domain_cfg['e2t']"
   ]
  },
  {
   "cell_type": "code",
   "execution_count": 7,
   "id": "64dcd02d-ef2b-4b27-b2d9-eee7b0865cc7",
   "metadata": {},
   "outputs": [],
   "source": [
    "melt_converted = file_current['melt_isf'] / yearinsec *10**(12) / cell_area "
   ]
  },
  {
   "cell_type": "code",
   "execution_count": null,
   "id": "2421a19f-4579-4866-a31f-8dd5433f13b2",
   "metadata": {},
   "outputs": [],
   "source": [
    "melt_IPSL_Gt = file_IPSL['sornfisf'].isel(time_counter=0) * yearinsec * 10**(-12) * cell_area"
   ]
  },
  {
   "cell_type": "code",
   "execution_count": null,
   "id": "74a6fdab-71f9-4c79-9d98-b228a3a1224e",
   "metadata": {},
   "outputs": [],
   "source": [
    "melt_IPSL_Gt.plot()"
   ]
  },
  {
   "cell_type": "code",
   "execution_count": null,
   "id": "5d6d52f1-f4fe-4047-9cf1-784975a3ed2c",
   "metadata": {},
   "outputs": [],
   "source": [
    "melt_IPSL_Gt.where(melt_IPSL_Gt != 0).plot(vmin=-5,vmax=5,cmap = 'coolwarm')"
   ]
  },
  {
   "cell_type": "code",
   "execution_count": null,
   "id": "200e9dbc-ba1f-4e2f-9853-6150e50f7221",
   "metadata": {},
   "outputs": [],
   "source": [
    "file_current['melt_isf'].sum()"
   ]
  },
  {
   "cell_type": "code",
   "execution_count": null,
   "id": "20cc773a-8b35-49a5-bc40-0a9329d4738c",
   "metadata": {},
   "outputs": [],
   "source": [
    "plt.figure()\n",
    "(file_current['melt_isf']).plot(vmin=-5,vmax=5,cmap = 'coolwarm')"
   ]
  },
  {
   "cell_type": "code",
   "execution_count": null,
   "id": "464a988c-9ddf-499b-8dcb-509bc3ab9da3",
   "metadata": {},
   "outputs": [],
   "source": [
    "(melt_converted - file_IPSL['sornfisf'].isel(time_counter=0))/file_IPSL['sornfisf'].isel(time_counter=0)).plot(vmax=1)"
   ]
  },
  {
   "cell_type": "code",
   "execution_count": null,
   "id": "cdeca95d-49ee-403b-bca4-8e22ef9e07ea",
   "metadata": {},
   "outputs": [],
   "source": [
    "(file_current['melt_isf'] - melt_IPSL_Gt).plot()"
   ]
  },
  {
   "cell_type": "code",
   "execution_count": null,
   "id": "a2d6fbef-1a69-4468-9970-1fc9ce1cb3db",
   "metadata": {},
   "outputs": [],
   "source": [
    "melt_converted.plot()"
   ]
  },
  {
   "cell_type": "code",
   "execution_count": null,
   "id": "634afcde-ab49-4bdf-aa1c-a64369424445",
   "metadata": {},
   "outputs": [],
   "source": [
    "modified_file_IPSL = file_IPSL.copy()"
   ]
  },
  {
   "cell_type": "code",
   "execution_count": null,
   "id": "fad9e76a-13da-47f1-b020-fa024673983e",
   "metadata": {},
   "outputs": [],
   "source": [
    "modified_file_IPSL['sornfisf'] = file_IPSL['sornfisf'] * 0 + melt_converted.where(np.isfinite(melt_converted),0).squeeze()\n",
    "modified_file_IPSL['sornfisf'].attrs['long_name'] = 'runoff from antarctica iceshelves (Davison 2023)'"
   ]
  },
  {
   "cell_type": "code",
   "execution_count": null,
   "id": "74c1a69d-30e7-4aad-bcf1-e0e00bb85ab5",
   "metadata": {},
   "outputs": [],
   "source": [
    "modified_file_IPSL['sodepmax_isf'] = file_IPSL['sodepmax_isf'] * 0 + file_current['z_max'].where(np.isfinite(file_current['z_max']),0).squeeze()\n",
    "modified_file_IPSL['sodepmin_isf'] = file_IPSL['sodepmin_isf'] * 0 + file_current['z_min'].where(np.isfinite(file_current['z_min']),0).squeeze()"
   ]
  },
  {
   "cell_type": "code",
   "execution_count": null,
   "id": "d644dac1-5028-4102-b06c-eb72d712f92b",
   "metadata": {},
   "outputs": [],
   "source": [
    "modified_file_IPSL.attrs['description2'] = 'south of 60 south : Davison Freshwater Discharge from basal front to grounding line iceshelves melting'\n",
    "modified_file_IPSL.attrs['reference3'] = 'B.J. Davison, A.E. Hogg, N. Gourmelen, L. Jakob, J. Wuite, T. Nagler, C.A. Greene, J. Andreasen, M.E. Engdahl, 2023: Annual mass budget of Antarctic ice shelves from 1997 to 2021. Science Advances, doi:10.1126/sciadv.adi0186'\n",
    "modified_file_IPSL.attrs['creation'] = 'Mon Jan 20 16:11 2025'"
   ]
  },
  {
   "cell_type": "code",
   "execution_count": null,
   "id": "c74cc24d-2a87-4c16-954b-d0e38f1e32aa",
   "metadata": {},
   "outputs": [],
   "source": [
    "modified_file_IPSL.attrs['history5'] = 'modified from eORCA1.4.2_runoff-icb_DaiTrenberth_Depoorter.nc by replacing the ice shelf freshwater flux by values from Davison and prescribing the flux in large cavities to open them in NEMO (contact Clara Burgard)' "
   ]
  },
  {
   "cell_type": "code",
   "execution_count": null,
   "id": "f859b92b-7b4a-41a9-83bc-6718ffebd138",
   "metadata": {},
   "outputs": [],
   "source": [
    "file_IPSL['sornfisf']"
   ]
  },
  {
   "cell_type": "code",
   "execution_count": null,
   "id": "be47d5cd-1109-41f7-8fd9-d304caee4a58",
   "metadata": {},
   "outputs": [],
   "source": [
    "modified_file_IPSL.to_netcdf(inputpath_interim + 'eORCA1.4.2_runoff-icb_DaiTrenberth_Davison.nc')"
   ]
  },
  {
   "cell_type": "code",
   "execution_count": null,
   "id": "4b2c437d-4ccf-44fd-acde-3c11c9459548",
   "metadata": {},
   "outputs": [],
   "source": [
    "(modified_file_IPSL['sodepmax_isf'] - file_IPSL['sodepmax_isf']).isel(time_counter=0).plot()"
   ]
  },
  {
   "cell_type": "code",
   "execution_count": null,
   "id": "684abb8d-2ad3-46e8-bde8-bcc1e9e7da05",
   "metadata": {},
   "outputs": [],
   "source": [
    "modified_file_IPSL['sodepmax_isf'].plot()"
   ]
  },
  {
   "cell_type": "markdown",
   "id": "9b751f5a-ed53-4a5d-92f2-b5073df54b6a",
   "metadata": {},
   "source": [
    "CHECKS"
   ]
  },
  {
   "cell_type": "code",
   "execution_count": 52,
   "id": "08c09ff7-a8ef-492e-be53-150b502ff902",
   "metadata": {},
   "outputs": [],
   "source": [
    "file_IPSL = xr.open_dataset(inputpath_raw + 'eORCA1.4.2_runoff-icb_DaiTrenberth_Depoorter.nc')\n",
    "modified_file_IPSL = xr.open_dataset(inputpath_interim + 'eORCA1.4.2_runoff-icb_DaiTrenberth_Davison.nc')"
   ]
  },
  {
   "cell_type": "markdown",
   "id": "bc42848e-5e5f-41ba-9bdd-7dd1819fceca",
   "metadata": {},
   "source": [
    "ALSO PREPARE THE DOMAIN CFG BY CLOSING MOST CAVITIES"
   ]
  },
  {
   "cell_type": "code",
   "execution_count": 45,
   "id": "e79b49a9-ec98-41a3-ad7c-63ab6b506cf7",
   "metadata": {},
   "outputs": [
    {
     "name": "stdout",
     "output_type": "stream",
     "text": [
      "bottom_level\n",
      "top_level\n",
      "isf_draft\n",
      "bathy_metry\n",
      "mask_opensea\n",
      "mask_csgrpglo\n"
     ]
    }
   ],
   "source": [
    "new_domain_cfg = domain_cfg.copy()\n",
    "for vvar in ['bottom_level','top_level','isf_draft','bathy_metry','mask_opensea','mask_csgrpglo']:\n",
    "    print(vvar)\n",
    "    new_domain_cfg[vvar] = new_domain_cfg[vvar].where(np.isnan(file_current['mask_isf_closed']), 0)"
   ]
  },
  {
   "cell_type": "code",
   "execution_count": 49,
   "id": "e0f5cbbc-c50f-473b-8a02-8cee4c531480",
   "metadata": {},
   "outputs": [],
   "source": [
    "new_domain_cfg.to_netcdf(inputpath_interim + 'eORCA1.4.3_OpenSeas_Open6largestISF_ModStraights_domain_cfg.nc')"
   ]
  },
  {
   "cell_type": "markdown",
   "id": "bda10045-1712-4db1-b6a6-05cc96d8d800",
   "metadata": {},
   "source": [
    "CHECK AT WHICH DEPTH FWF IS INJECTED"
   ]
  },
  {
   "cell_type": "code",
   "execution_count": 78,
   "id": "757757f6-d496-4887-8eaa-c253ac196ee1",
   "metadata": {},
   "outputs": [
    {
     "data": {
      "text/plain": [
       "<matplotlib.collections.QuadMesh at 0x146d7dd33d90>"
      ]
     },
     "execution_count": 78,
     "metadata": {},
     "output_type": "execute_result"
    }
   ],
   "source": [
    "file_current['mask_isf_open'].plot()"
   ]
  },
  {
   "cell_type": "code",
   "execution_count": 79,
   "id": "2df99d62-3c66-4a08-bd36-1b9bcc783e0c",
   "metadata": {},
   "outputs": [],
   "source": [
    "zmin_opencav = new_domain_cfg['nav_lev'].sel(z=new_domain_cfg['top_level']).where(file_current['mask_isf_open'])\n",
    "zmax_opencav = zmin_opencav.where(np.isnan(file_current['mask_isf_open']), zmin_opencav + 5)"
   ]
  },
  {
   "cell_type": "code",
   "execution_count": 95,
   "id": "3d4c02be-9cf6-4c37-9fe6-82b3ca1a1036",
   "metadata": {},
   "outputs": [],
   "source": [
    "new_modified_file_IPSL = modified_file_IPSL.copy()\n",
    "new_modified_file_IPSL['sodepmin_isf'] = new_modified_file_IPSL['sodepmin_isf'].where(np.isnan(file_current['mask_isf_open']), zmin_opencav).squeeze()\n",
    "new_modified_file_IPSL['sodepmax_isf'] = new_modified_file_IPSL['sodepmax_isf'].where(np.isnan(file_current['mask_isf_open']), zmax_opencav).squeeze()"
   ]
  },
  {
   "cell_type": "code",
   "execution_count": 97,
   "id": "1e12fb2a-eb62-4235-8d16-78b1535e5ba7",
   "metadata": {},
   "outputs": [],
   "source": [
    "new_modified_file_IPSL.to_netcdf(inputpath_interim + 'eORCA1.4.2_runoff-icb_DaiTrenberth_Davison_open6largestISF.nc', unlimited_dims=['time_counter'])"
   ]
  },
  {
   "cell_type": "code",
   "execution_count": 101,
   "id": "f78bc357-5002-4cc3-a6f4-2af4eba7b2e4",
   "metadata": {},
   "outputs": [
    {
     "data": {
      "text/plain": [
       "<matplotlib.collections.QuadMesh at 0x146d7b329580>"
      ]
     },
     "execution_count": 101,
     "metadata": {},
     "output_type": "execute_result"
    }
   ],
   "source": [
    "(new_modified_file_IPSL['sodepmax_isf'].isel(time_counter=0) - new_modified_file_IPSL['sodepmin_isf'].isel(time_counter=0)).plot(vmax=10)"
   ]
  },
  {
   "cell_type": "code",
   "execution_count": 104,
   "id": "bac2931a-01e6-4c25-b0e2-7ed265549716",
   "metadata": {},
   "outputs": [
    {
     "data": {
      "text/html": [
       "<div><svg style=\"position: absolute; width: 0; height: 0; overflow: hidden\">\n",
       "<defs>\n",
       "<symbol id=\"icon-database\" viewBox=\"0 0 32 32\">\n",
       "<path d=\"M16 0c-8.837 0-16 2.239-16 5v4c0 2.761 7.163 5 16 5s16-2.239 16-5v-4c0-2.761-7.163-5-16-5z\"></path>\n",
       "<path d=\"M16 17c-8.837 0-16-2.239-16-5v6c0 2.761 7.163 5 16 5s16-2.239 16-5v-6c0 2.761-7.163 5-16 5z\"></path>\n",
       "<path d=\"M16 26c-8.837 0-16-2.239-16-5v6c0 2.761 7.163 5 16 5s16-2.239 16-5v-6c0 2.761-7.163 5-16 5z\"></path>\n",
       "</symbol>\n",
       "<symbol id=\"icon-file-text2\" viewBox=\"0 0 32 32\">\n",
       "<path d=\"M28.681 7.159c-0.694-0.947-1.662-2.053-2.724-3.116s-2.169-2.030-3.116-2.724c-1.612-1.182-2.393-1.319-2.841-1.319h-15.5c-1.378 0-2.5 1.121-2.5 2.5v27c0 1.378 1.122 2.5 2.5 2.5h23c1.378 0 2.5-1.122 2.5-2.5v-19.5c0-0.448-0.137-1.23-1.319-2.841zM24.543 5.457c0.959 0.959 1.712 1.825 2.268 2.543h-4.811v-4.811c0.718 0.556 1.584 1.309 2.543 2.268zM28 29.5c0 0.271-0.229 0.5-0.5 0.5h-23c-0.271 0-0.5-0.229-0.5-0.5v-27c0-0.271 0.229-0.5 0.5-0.5 0 0 15.499-0 15.5 0v7c0 0.552 0.448 1 1 1h7v19.5z\"></path>\n",
       "<path d=\"M23 26h-14c-0.552 0-1-0.448-1-1s0.448-1 1-1h14c0.552 0 1 0.448 1 1s-0.448 1-1 1z\"></path>\n",
       "<path d=\"M23 22h-14c-0.552 0-1-0.448-1-1s0.448-1 1-1h14c0.552 0 1 0.448 1 1s-0.448 1-1 1z\"></path>\n",
       "<path d=\"M23 18h-14c-0.552 0-1-0.448-1-1s0.448-1 1-1h14c0.552 0 1 0.448 1 1s-0.448 1-1 1z\"></path>\n",
       "</symbol>\n",
       "</defs>\n",
       "</svg>\n",
       "<style>/* CSS stylesheet for displaying xarray objects in jupyterlab.\n",
       " *\n",
       " */\n",
       "\n",
       ":root {\n",
       "  --xr-font-color0: var(--jp-content-font-color0, rgba(0, 0, 0, 1));\n",
       "  --xr-font-color2: var(--jp-content-font-color2, rgba(0, 0, 0, 0.54));\n",
       "  --xr-font-color3: var(--jp-content-font-color3, rgba(0, 0, 0, 0.38));\n",
       "  --xr-border-color: var(--jp-border-color2, #e0e0e0);\n",
       "  --xr-disabled-color: var(--jp-layout-color3, #bdbdbd);\n",
       "  --xr-background-color: var(--jp-layout-color0, white);\n",
       "  --xr-background-color-row-even: var(--jp-layout-color1, white);\n",
       "  --xr-background-color-row-odd: var(--jp-layout-color2, #eeeeee);\n",
       "}\n",
       "\n",
       "html[theme=dark],\n",
       "body[data-theme=dark],\n",
       "body.vscode-dark {\n",
       "  --xr-font-color0: rgba(255, 255, 255, 1);\n",
       "  --xr-font-color2: rgba(255, 255, 255, 0.54);\n",
       "  --xr-font-color3: rgba(255, 255, 255, 0.38);\n",
       "  --xr-border-color: #1F1F1F;\n",
       "  --xr-disabled-color: #515151;\n",
       "  --xr-background-color: #111111;\n",
       "  --xr-background-color-row-even: #111111;\n",
       "  --xr-background-color-row-odd: #313131;\n",
       "}\n",
       "\n",
       ".xr-wrap {\n",
       "  display: block !important;\n",
       "  min-width: 300px;\n",
       "  max-width: 700px;\n",
       "}\n",
       "\n",
       ".xr-text-repr-fallback {\n",
       "  /* fallback to plain text repr when CSS is not injected (untrusted notebook) */\n",
       "  display: none;\n",
       "}\n",
       "\n",
       ".xr-header {\n",
       "  padding-top: 6px;\n",
       "  padding-bottom: 6px;\n",
       "  margin-bottom: 4px;\n",
       "  border-bottom: solid 1px var(--xr-border-color);\n",
       "}\n",
       "\n",
       ".xr-header > div,\n",
       ".xr-header > ul {\n",
       "  display: inline;\n",
       "  margin-top: 0;\n",
       "  margin-bottom: 0;\n",
       "}\n",
       "\n",
       ".xr-obj-type,\n",
       ".xr-array-name {\n",
       "  margin-left: 2px;\n",
       "  margin-right: 10px;\n",
       "}\n",
       "\n",
       ".xr-obj-type {\n",
       "  color: var(--xr-font-color2);\n",
       "}\n",
       "\n",
       ".xr-sections {\n",
       "  padding-left: 0 !important;\n",
       "  display: grid;\n",
       "  grid-template-columns: 150px auto auto 1fr 20px 20px;\n",
       "}\n",
       "\n",
       ".xr-section-item {\n",
       "  display: contents;\n",
       "}\n",
       "\n",
       ".xr-section-item input {\n",
       "  display: none;\n",
       "}\n",
       "\n",
       ".xr-section-item input + label {\n",
       "  color: var(--xr-disabled-color);\n",
       "}\n",
       "\n",
       ".xr-section-item input:enabled + label {\n",
       "  cursor: pointer;\n",
       "  color: var(--xr-font-color2);\n",
       "}\n",
       "\n",
       ".xr-section-item input:enabled + label:hover {\n",
       "  color: var(--xr-font-color0);\n",
       "}\n",
       "\n",
       ".xr-section-summary {\n",
       "  grid-column: 1;\n",
       "  color: var(--xr-font-color2);\n",
       "  font-weight: 500;\n",
       "}\n",
       "\n",
       ".xr-section-summary > span {\n",
       "  display: inline-block;\n",
       "  padding-left: 0.5em;\n",
       "}\n",
       "\n",
       ".xr-section-summary-in:disabled + label {\n",
       "  color: var(--xr-font-color2);\n",
       "}\n",
       "\n",
       ".xr-section-summary-in + label:before {\n",
       "  display: inline-block;\n",
       "  content: '►';\n",
       "  font-size: 11px;\n",
       "  width: 15px;\n",
       "  text-align: center;\n",
       "}\n",
       "\n",
       ".xr-section-summary-in:disabled + label:before {\n",
       "  color: var(--xr-disabled-color);\n",
       "}\n",
       "\n",
       ".xr-section-summary-in:checked + label:before {\n",
       "  content: '▼';\n",
       "}\n",
       "\n",
       ".xr-section-summary-in:checked + label > span {\n",
       "  display: none;\n",
       "}\n",
       "\n",
       ".xr-section-summary,\n",
       ".xr-section-inline-details {\n",
       "  padding-top: 4px;\n",
       "  padding-bottom: 4px;\n",
       "}\n",
       "\n",
       ".xr-section-inline-details {\n",
       "  grid-column: 2 / -1;\n",
       "}\n",
       "\n",
       ".xr-section-details {\n",
       "  display: none;\n",
       "  grid-column: 1 / -1;\n",
       "  margin-bottom: 5px;\n",
       "}\n",
       "\n",
       ".xr-section-summary-in:checked ~ .xr-section-details {\n",
       "  display: contents;\n",
       "}\n",
       "\n",
       ".xr-array-wrap {\n",
       "  grid-column: 1 / -1;\n",
       "  display: grid;\n",
       "  grid-template-columns: 20px auto;\n",
       "}\n",
       "\n",
       ".xr-array-wrap > label {\n",
       "  grid-column: 1;\n",
       "  vertical-align: top;\n",
       "}\n",
       "\n",
       ".xr-preview {\n",
       "  color: var(--xr-font-color3);\n",
       "}\n",
       "\n",
       ".xr-array-preview,\n",
       ".xr-array-data {\n",
       "  padding: 0 5px !important;\n",
       "  grid-column: 2;\n",
       "}\n",
       "\n",
       ".xr-array-data,\n",
       ".xr-array-in:checked ~ .xr-array-preview {\n",
       "  display: none;\n",
       "}\n",
       "\n",
       ".xr-array-in:checked ~ .xr-array-data,\n",
       ".xr-array-preview {\n",
       "  display: inline-block;\n",
       "}\n",
       "\n",
       ".xr-dim-list {\n",
       "  display: inline-block !important;\n",
       "  list-style: none;\n",
       "  padding: 0 !important;\n",
       "  margin: 0;\n",
       "}\n",
       "\n",
       ".xr-dim-list li {\n",
       "  display: inline-block;\n",
       "  padding: 0;\n",
       "  margin: 0;\n",
       "}\n",
       "\n",
       ".xr-dim-list:before {\n",
       "  content: '(';\n",
       "}\n",
       "\n",
       ".xr-dim-list:after {\n",
       "  content: ')';\n",
       "}\n",
       "\n",
       ".xr-dim-list li:not(:last-child):after {\n",
       "  content: ',';\n",
       "  padding-right: 5px;\n",
       "}\n",
       "\n",
       ".xr-has-index {\n",
       "  font-weight: bold;\n",
       "}\n",
       "\n",
       ".xr-var-list,\n",
       ".xr-var-item {\n",
       "  display: contents;\n",
       "}\n",
       "\n",
       ".xr-var-item > div,\n",
       ".xr-var-item label,\n",
       ".xr-var-item > .xr-var-name span {\n",
       "  background-color: var(--xr-background-color-row-even);\n",
       "  margin-bottom: 0;\n",
       "}\n",
       "\n",
       ".xr-var-item > .xr-var-name:hover span {\n",
       "  padding-right: 5px;\n",
       "}\n",
       "\n",
       ".xr-var-list > li:nth-child(odd) > div,\n",
       ".xr-var-list > li:nth-child(odd) > label,\n",
       ".xr-var-list > li:nth-child(odd) > .xr-var-name span {\n",
       "  background-color: var(--xr-background-color-row-odd);\n",
       "}\n",
       "\n",
       ".xr-var-name {\n",
       "  grid-column: 1;\n",
       "}\n",
       "\n",
       ".xr-var-dims {\n",
       "  grid-column: 2;\n",
       "}\n",
       "\n",
       ".xr-var-dtype {\n",
       "  grid-column: 3;\n",
       "  text-align: right;\n",
       "  color: var(--xr-font-color2);\n",
       "}\n",
       "\n",
       ".xr-var-preview {\n",
       "  grid-column: 4;\n",
       "}\n",
       "\n",
       ".xr-index-preview {\n",
       "  grid-column: 2 / 5;\n",
       "  color: var(--xr-font-color2);\n",
       "}\n",
       "\n",
       ".xr-var-name,\n",
       ".xr-var-dims,\n",
       ".xr-var-dtype,\n",
       ".xr-preview,\n",
       ".xr-attrs dt {\n",
       "  white-space: nowrap;\n",
       "  overflow: hidden;\n",
       "  text-overflow: ellipsis;\n",
       "  padding-right: 10px;\n",
       "}\n",
       "\n",
       ".xr-var-name:hover,\n",
       ".xr-var-dims:hover,\n",
       ".xr-var-dtype:hover,\n",
       ".xr-attrs dt:hover {\n",
       "  overflow: visible;\n",
       "  width: auto;\n",
       "  z-index: 1;\n",
       "}\n",
       "\n",
       ".xr-var-attrs,\n",
       ".xr-var-data,\n",
       ".xr-index-data {\n",
       "  display: none;\n",
       "  background-color: var(--xr-background-color) !important;\n",
       "  padding-bottom: 5px !important;\n",
       "}\n",
       "\n",
       ".xr-var-attrs-in:checked ~ .xr-var-attrs,\n",
       ".xr-var-data-in:checked ~ .xr-var-data,\n",
       ".xr-index-data-in:checked ~ .xr-index-data {\n",
       "  display: block;\n",
       "}\n",
       "\n",
       ".xr-var-data > table {\n",
       "  float: right;\n",
       "}\n",
       "\n",
       ".xr-var-name span,\n",
       ".xr-var-data,\n",
       ".xr-index-name div,\n",
       ".xr-index-data,\n",
       ".xr-attrs {\n",
       "  padding-left: 25px !important;\n",
       "}\n",
       "\n",
       ".xr-attrs,\n",
       ".xr-var-attrs,\n",
       ".xr-var-data,\n",
       ".xr-index-data {\n",
       "  grid-column: 1 / -1;\n",
       "}\n",
       "\n",
       "dl.xr-attrs {\n",
       "  padding: 0;\n",
       "  margin: 0;\n",
       "  display: grid;\n",
       "  grid-template-columns: 125px auto;\n",
       "}\n",
       "\n",
       ".xr-attrs dt,\n",
       ".xr-attrs dd {\n",
       "  padding: 0;\n",
       "  margin: 0;\n",
       "  float: left;\n",
       "  padding-right: 10px;\n",
       "  width: auto;\n",
       "}\n",
       "\n",
       ".xr-attrs dt {\n",
       "  font-weight: normal;\n",
       "  grid-column: 1;\n",
       "}\n",
       "\n",
       ".xr-attrs dt:hover span {\n",
       "  display: inline-block;\n",
       "  background: var(--xr-background-color);\n",
       "  padding-right: 10px;\n",
       "}\n",
       "\n",
       ".xr-attrs dd {\n",
       "  grid-column: 2;\n",
       "  white-space: pre-wrap;\n",
       "  word-break: break-all;\n",
       "}\n",
       "\n",
       ".xr-icon-database,\n",
       ".xr-icon-file-text2,\n",
       ".xr-no-icon {\n",
       "  display: inline-block;\n",
       "  vertical-align: middle;\n",
       "  width: 1em;\n",
       "  height: 1.5em !important;\n",
       "  stroke-width: 0;\n",
       "  stroke: currentColor;\n",
       "  fill: currentColor;\n",
       "}\n",
       "</style><pre class='xr-text-repr-fallback'>&lt;xarray.DataArray &#x27;nav_lev&#x27; (z: 75)&gt;\n",
       "array([         nan,   -1.0500953,   -1.1118264,   -1.1885982,\n",
       "         -1.2840815,   -1.4026723,   -1.5494852,   -1.7302313,\n",
       "         -1.9509296,   -2.2173586,   -2.5342836,   -2.90448  ,\n",
       "         -3.327814 ,   -3.800684 ,   -4.3162613,   -4.8656425,\n",
       "         -5.4398193,   -6.031872 ,   -6.6387405,   -7.262203 ,\n",
       "         -7.908844 ,   -8.589478 ,   -9.318268 ,  -10.111885 ,\n",
       "        -10.988968 ,  -11.969719 ,  -13.075821 ,  -14.330429 ,\n",
       "        -15.758209 ,  -17.385468 ,  -19.240036 ,  -21.351212 ,\n",
       "        -23.74945  ,  -26.46576  ,  -29.531128 ,  -32.97531  ,\n",
       "        -36.825653 ,  -41.105377 ,  -45.831757 ,  -51.014282 ,\n",
       "        -56.652405 ,  -62.733704 ,  -69.232666 ,  -76.10962  ,\n",
       "        -83.31067  ,  -90.76892  ,  -98.40637  , -106.13696  ,\n",
       "       -113.87024  , -121.5155   , -128.9867   , -136.20483  ,\n",
       "       -143.1023   , -149.62476  , -155.73108  , -161.39502  ,\n",
       "       -166.60352  , -171.35522  , -175.65894  , -179.531    ,\n",
       "       -182.99463  , -186.07593  , -188.80469  , -191.21118  ,\n",
       "       -193.3252   , -195.17676  , -196.79395  , -198.20215  ,\n",
       "       -199.42627  , -200.48877  , -201.40869  , -202.20459  ,\n",
       "       -202.89209  , -203.48535  , -203.99707  ], dtype=float32)\n",
       "Dimensions without coordinates: z</pre><div class='xr-wrap' style='display:none'><div class='xr-header'><div class='xr-obj-type'>xarray.DataArray</div><div class='xr-array-name'>'nav_lev'</div><ul class='xr-dim-list'><li><span>z</span>: 75</li></ul></div><ul class='xr-sections'><li class='xr-section-item'><div class='xr-array-wrap'><input id='section-c001ef3a-8cef-432e-a8e8-77a198e7cd50' class='xr-array-in' type='checkbox' checked><label for='section-c001ef3a-8cef-432e-a8e8-77a198e7cd50' title='Show/hide data repr'><svg class='icon xr-icon-database'><use xlink:href='#icon-database'></use></svg></label><div class='xr-array-preview xr-preview'><span>nan -1.05 -1.112 -1.189 -1.284 ... -201.4 -202.2 -202.9 -203.5 -204.0</span></div><div class='xr-array-data'><pre>array([         nan,   -1.0500953,   -1.1118264,   -1.1885982,\n",
       "         -1.2840815,   -1.4026723,   -1.5494852,   -1.7302313,\n",
       "         -1.9509296,   -2.2173586,   -2.5342836,   -2.90448  ,\n",
       "         -3.327814 ,   -3.800684 ,   -4.3162613,   -4.8656425,\n",
       "         -5.4398193,   -6.031872 ,   -6.6387405,   -7.262203 ,\n",
       "         -7.908844 ,   -8.589478 ,   -9.318268 ,  -10.111885 ,\n",
       "        -10.988968 ,  -11.969719 ,  -13.075821 ,  -14.330429 ,\n",
       "        -15.758209 ,  -17.385468 ,  -19.240036 ,  -21.351212 ,\n",
       "        -23.74945  ,  -26.46576  ,  -29.531128 ,  -32.97531  ,\n",
       "        -36.825653 ,  -41.105377 ,  -45.831757 ,  -51.014282 ,\n",
       "        -56.652405 ,  -62.733704 ,  -69.232666 ,  -76.10962  ,\n",
       "        -83.31067  ,  -90.76892  ,  -98.40637  , -106.13696  ,\n",
       "       -113.87024  , -121.5155   , -128.9867   , -136.20483  ,\n",
       "       -143.1023   , -149.62476  , -155.73108  , -161.39502  ,\n",
       "       -166.60352  , -171.35522  , -175.65894  , -179.531    ,\n",
       "       -182.99463  , -186.07593  , -188.80469  , -191.21118  ,\n",
       "       -193.3252   , -195.17676  , -196.79395  , -198.20215  ,\n",
       "       -199.42627  , -200.48877  , -201.40869  , -202.20459  ,\n",
       "       -202.89209  , -203.48535  , -203.99707  ], dtype=float32)</pre></div></div></li><li class='xr-section-item'><input id='section-128c7296-2cd2-4f84-8e14-ce6a6676da9d' class='xr-section-summary-in' type='checkbox' disabled ><label for='section-128c7296-2cd2-4f84-8e14-ce6a6676da9d' class='xr-section-summary'  title='Expand/collapse section'>Coordinates: <span>(0)</span></label><div class='xr-section-inline-details'></div><div class='xr-section-details'><ul class='xr-var-list'></ul></div></li><li class='xr-section-item'><input id='section-f557696e-be6e-4df4-ae6d-d464be1bb247' class='xr-section-summary-in' type='checkbox' disabled ><label for='section-f557696e-be6e-4df4-ae6d-d464be1bb247' class='xr-section-summary'  title='Expand/collapse section'>Indexes: <span>(0)</span></label><div class='xr-section-inline-details'></div><div class='xr-section-details'><ul class='xr-var-list'></ul></div></li><li class='xr-section-item'><input id='section-129fd3e7-0a90-40f3-abee-02a16a058068' class='xr-section-summary-in' type='checkbox' disabled ><label for='section-129fd3e7-0a90-40f3-abee-02a16a058068' class='xr-section-summary'  title='Expand/collapse section'>Attributes: <span>(0)</span></label><div class='xr-section-inline-details'></div><div class='xr-section-details'><dl class='xr-attrs'></dl></div></li></ul></div></div>"
      ],
      "text/plain": [
       "<xarray.DataArray 'nav_lev' (z: 75)>\n",
       "array([         nan,   -1.0500953,   -1.1118264,   -1.1885982,\n",
       "         -1.2840815,   -1.4026723,   -1.5494852,   -1.7302313,\n",
       "         -1.9509296,   -2.2173586,   -2.5342836,   -2.90448  ,\n",
       "         -3.327814 ,   -3.800684 ,   -4.3162613,   -4.8656425,\n",
       "         -5.4398193,   -6.031872 ,   -6.6387405,   -7.262203 ,\n",
       "         -7.908844 ,   -8.589478 ,   -9.318268 ,  -10.111885 ,\n",
       "        -10.988968 ,  -11.969719 ,  -13.075821 ,  -14.330429 ,\n",
       "        -15.758209 ,  -17.385468 ,  -19.240036 ,  -21.351212 ,\n",
       "        -23.74945  ,  -26.46576  ,  -29.531128 ,  -32.97531  ,\n",
       "        -36.825653 ,  -41.105377 ,  -45.831757 ,  -51.014282 ,\n",
       "        -56.652405 ,  -62.733704 ,  -69.232666 ,  -76.10962  ,\n",
       "        -83.31067  ,  -90.76892  ,  -98.40637  , -106.13696  ,\n",
       "       -113.87024  , -121.5155   , -128.9867   , -136.20483  ,\n",
       "       -143.1023   , -149.62476  , -155.73108  , -161.39502  ,\n",
       "       -166.60352  , -171.35522  , -175.65894  , -179.531    ,\n",
       "       -182.99463  , -186.07593  , -188.80469  , -191.21118  ,\n",
       "       -193.3252   , -195.17676  , -196.79395  , -198.20215  ,\n",
       "       -199.42627  , -200.48877  , -201.40869  , -202.20459  ,\n",
       "       -202.89209  , -203.48535  , -203.99707  ], dtype=float32)\n",
       "Dimensions without coordinates: z"
      ]
     },
     "execution_count": 104,
     "metadata": {},
     "output_type": "execute_result"
    }
   ],
   "source": [
    "new_domain_cfg['nav_lev'].shift(z=1) - new_domain_cfg['nav_lev']"
   ]
  },
  {
   "cell_type": "code",
   "execution_count": null,
   "id": "dcb22ba0-c162-4c90-a930-356653128ab3",
   "metadata": {},
   "outputs": [],
   "source": []
  }
 ],
 "metadata": {
  "kernelspec": {
   "display_name": "py38",
   "language": "python",
   "name": "py38"
  },
  "language_info": {
   "codemirror_mode": {
    "name": "ipython",
    "version": 3
   },
   "file_extension": ".py",
   "mimetype": "text/x-python",
   "name": "python",
   "nbconvert_exporter": "python",
   "pygments_lexer": "ipython3",
   "version": "3.8.18"
  }
 },
 "nbformat": 4,
 "nbformat_minor": 5
}
