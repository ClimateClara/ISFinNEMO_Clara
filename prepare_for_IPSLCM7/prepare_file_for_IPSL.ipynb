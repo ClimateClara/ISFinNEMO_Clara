{
 "cells": [
  {
   "cell_type": "code",
   "execution_count": null,
   "id": "c1aa8cff-7216-4ac7-8674-6d26a8cf9b2d",
   "metadata": {},
   "outputs": [],
   "source": [
    "\"\"\"\n",
    "Created on Mon Jan 20 11:50 2025\n",
    "\n",
    "Compare the file currently used for IPSL-CM7 and the one I created to make them look similar\n",
    "\n",
    "@author: Clara Burgard\n",
    "\"\"\""
   ]
  },
  {
   "cell_type": "code",
   "execution_count": 64,
   "id": "931b90f5-1362-4ef4-8d0b-871073b95d39",
   "metadata": {},
   "outputs": [],
   "source": [
    "import xarray as xr\n",
    "from multimelt.constants import *\n",
    "import numpy as np\n",
    "import matplotlib.pyplot as plt"
   ]
  },
  {
   "cell_type": "code",
   "execution_count": 41,
   "id": "80be131f-132c-44d5-b710-8b92d718fb1a",
   "metadata": {},
   "outputs": [
    {
     "name": "stderr",
     "output_type": "stream",
     "text": [
      "QStandardPaths: error creating runtime directory '/run/user/2784' (Permission denied)\n"
     ]
    }
   ],
   "source": [
    "%matplotlib qt5"
   ]
  },
  {
   "cell_type": "markdown",
   "id": "6b2941f5-40ad-44f1-810b-1b8336166686",
   "metadata": {},
   "source": [
    "READ DATA"
   ]
  },
  {
   "cell_type": "code",
   "execution_count": 16,
   "id": "09fe82f5-aaa4-4368-87cb-2034fcf44f4b",
   "metadata": {},
   "outputs": [],
   "source": [
    "inputpath_raw='/data/cburgard/PREPARE_FORCING/PREPARE_PRESCRIBED_MELT/raw/'\n",
    "inputpath_interim='/data/cburgard/PREPARE_FORCING/PREPARE_PRESCRIBED_MELT/interim/'\n",
    "inputpath_raw2 = '/data/cburgard/PREPARE_FORCING/PREPARE_CAVITY_MASKS/raw/'\n"
   ]
  },
  {
   "cell_type": "code",
   "execution_count": 4,
   "id": "867be49a-ea2c-4689-bd2f-265254138129",
   "metadata": {},
   "outputs": [],
   "source": [
    "file_IPSL = xr.open_dataset(inputpath_raw + 'eORCA1.4.2_runoff-icb_DaiTrenberth_Depoorter.nc')\n",
    "file_Davison = xr.open_dataset(inputpath_interim + 'Davison23_basal_melt_pattern_on_eORCA1.nc')\n",
    "file_current = xr.open_dataset(inputpath_interim + 'masks_for_eORCA1_prescribedmeltinopencav.nc')"
   ]
  },
  {
   "cell_type": "code",
   "execution_count": 17,
   "id": "3f24c926-4f12-46f8-83ae-b8f7ebaffff4",
   "metadata": {},
   "outputs": [],
   "source": [
    "domain_cfg = xr.open_dataset(inputpath_raw2 + 'eORCA1.4.3_OpenSeas_OpenAllCav_ModStraights/eORCA1.4.3_OpenSeas_OpenAllCav_ModStraights_domain_cfg.nc')"
   ]
  },
  {
   "cell_type": "code",
   "execution_count": 18,
   "id": "e8b2c132-ddc2-42ca-96bf-161a7ad4cb8e",
   "metadata": {},
   "outputs": [],
   "source": [
    "cell_area = domain_cfg['e1t'] * domain_cfg['e2t']"
   ]
  },
  {
   "cell_type": "code",
   "execution_count": 37,
   "id": "64dcd02d-ef2b-4b27-b2d9-eee7b0865cc7",
   "metadata": {},
   "outputs": [],
   "source": [
    "melt_converted = file_current['melt_isf'] / yearinsec *10**(12) / cell_area "
   ]
  },
  {
   "cell_type": "code",
   "execution_count": 50,
   "id": "2421a19f-4579-4866-a31f-8dd5433f13b2",
   "metadata": {},
   "outputs": [],
   "source": [
    "melt_IPSL_Gt = file_IPSL['sornfisf'].isel(time_counter=0) * yearinsec * 10**(-12) * cell_area"
   ]
  },
  {
   "cell_type": "code",
   "execution_count": 51,
   "id": "74a6fdab-71f9-4c79-9d98-b228a3a1224e",
   "metadata": {},
   "outputs": [
    {
     "data": {
      "text/plain": [
       "<matplotlib.collections.QuadMesh at 0x1543fc457670>"
      ]
     },
     "execution_count": 51,
     "metadata": {},
     "output_type": "execute_result"
    }
   ],
   "source": [
    "melt_IPSL_Gt.plot()"
   ]
  },
  {
   "cell_type": "code",
   "execution_count": 62,
   "id": "5d6d52f1-f4fe-4047-9cf1-784975a3ed2c",
   "metadata": {},
   "outputs": [
    {
     "data": {
      "text/plain": [
       "<matplotlib.collections.QuadMesh at 0x1543f66d1fd0>"
      ]
     },
     "execution_count": 62,
     "metadata": {},
     "output_type": "execute_result"
    }
   ],
   "source": [
    "melt_IPSL_Gt.where(melt_IPSL_Gt != 0).plot(vmin=-5,vmax=5,cmap = 'coolwarm')"
   ]
  },
  {
   "cell_type": "code",
   "execution_count": 65,
   "id": "20cc773a-8b35-49a5-bc40-0a9329d4738c",
   "metadata": {},
   "outputs": [
    {
     "data": {
      "text/plain": [
       "<matplotlib.collections.QuadMesh at 0x1543f65d3250>"
      ]
     },
     "execution_count": 65,
     "metadata": {},
     "output_type": "execute_result"
    }
   ],
   "source": [
    "plt.figure()\n",
    "(file_current['melt_isf']).plot(vmin=-5,vmax=5,cmap = 'coolwarm')"
   ]
  },
  {
   "cell_type": "code",
   "execution_count": 46,
   "id": "464a988c-9ddf-499b-8dcb-509bc3ab9da3",
   "metadata": {},
   "outputs": [
    {
     "ename": "NameError",
     "evalue": "name 'np' is not defined",
     "output_type": "error",
     "traceback": [
      "\u001b[0;31m---------------------------------------------------------------------------\u001b[0m",
      "\u001b[0;31mNameError\u001b[0m                                 Traceback (most recent call last)",
      "Cell \u001b[0;32mIn[46], line 1\u001b[0m\n\u001b[0;32m----> 1\u001b[0m \u001b[43mnp\u001b[49m\u001b[38;5;241m.\u001b[39mabs((melt_converted \u001b[38;5;241m-\u001b[39m file_IPSL[\u001b[38;5;124m'\u001b[39m\u001b[38;5;124msornfisf\u001b[39m\u001b[38;5;124m'\u001b[39m]\u001b[38;5;241m.\u001b[39misel(time_counter\u001b[38;5;241m=\u001b[39m\u001b[38;5;241m0\u001b[39m))\u001b[38;5;241m/\u001b[39mfile_IPSL[\u001b[38;5;124m'\u001b[39m\u001b[38;5;124msornfisf\u001b[39m\u001b[38;5;124m'\u001b[39m]\u001b[38;5;241m.\u001b[39misel(time_counter\u001b[38;5;241m=\u001b[39m\u001b[38;5;241m0\u001b[39m))\u001b[38;5;241m.\u001b[39mplot(vmax\u001b[38;5;241m=\u001b[39m\u001b[38;5;241m1\u001b[39m)\n",
      "\u001b[0;31mNameError\u001b[0m: name 'np' is not defined"
     ]
    }
   ],
   "source": [
    "(melt_converted - file_IPSL['sornfisf'].isel(time_counter=0))/file_IPSL['sornfisf'].isel(time_counter=0)).plot(vmax=1)"
   ]
  },
  {
   "cell_type": "code",
   "execution_count": 66,
   "id": "cdeca95d-49ee-403b-bca4-8e22ef9e07ea",
   "metadata": {},
   "outputs": [
    {
     "data": {
      "text/plain": [
       "<matplotlib.collections.QuadMesh at 0x1543f64b3ee0>"
      ]
     },
     "execution_count": 66,
     "metadata": {},
     "output_type": "execute_result"
    }
   ],
   "source": [
    "(file_current['melt_isf'] - melt_IPSL_Gt).plot()"
   ]
  },
  {
   "cell_type": "code",
   "execution_count": 68,
   "id": "a2d6fbef-1a69-4468-9970-1fc9ce1cb3db",
   "metadata": {},
   "outputs": [
    {
     "data": {
      "text/plain": [
       "<matplotlib.collections.QuadMesh at 0x1543ec82e9d0>"
      ]
     },
     "execution_count": 68,
     "metadata": {},
     "output_type": "execute_result"
    }
   ],
   "source": [
    "melt_converted.plot()"
   ]
  },
  {
   "cell_type": "code",
   "execution_count": 85,
   "id": "634afcde-ab49-4bdf-aa1c-a64369424445",
   "metadata": {},
   "outputs": [],
   "source": [
    "modified_file_IPSL = file_IPSL.copy()"
   ]
  },
  {
   "cell_type": "code",
   "execution_count": 113,
   "id": "fad9e76a-13da-47f1-b020-fa024673983e",
   "metadata": {},
   "outputs": [],
   "source": [
    "modified_file_IPSL['sornfisf'] = file_IPSL['sornfisf'] * 0 + melt_converted.squeeze()\n",
    "modified_file_IPSL['sornfisf'].attrs['long_name'] = 'runoff from antarctica iceshelves (Davison 2023)'"
   ]
  },
  {
   "cell_type": "code",
   "execution_count": 115,
   "id": "74c1a69d-30e7-4aad-bcf1-e0e00bb85ab5",
   "metadata": {},
   "outputs": [],
   "source": [
    "modified_file_IPSL['sodepmax_isf'] = file_IPSL['sodepmax_isf'] * 0 + file_current['z_max'].squeeze()\n",
    "modified_file_IPSL['sodepmin_isf'] = file_IPSL['sodepmin_isf'] * 0 + file_current['z_min'].squeeze()"
   ]
  },
  {
   "cell_type": "code",
   "execution_count": 116,
   "id": "d644dac1-5028-4102-b06c-eb72d712f92b",
   "metadata": {},
   "outputs": [],
   "source": [
    "modified_file_IPSL.attrs['description2'] = 'south of 60 south : Davison Freshwater Discharge from basal front to grounding line iceshelves melting'\n",
    "modified_file_IPSL.attrs['reference3'] = 'B.J. Davison, A.E. Hogg, N. Gourmelen, L. Jakob, J. Wuite, T. Nagler, C.A. Greene, J. Andreasen, M.E. Engdahl, 2023: Annual mass budget of Antarctic ice shelves from 1997 to 2021. Science Advances, doi:10.1126/sciadv.adi0186'\n",
    "modified_file_IPSL.attrs['creation'] = 'Mon Jan 20 16:11 2025'"
   ]
  },
  {
   "cell_type": "code",
   "execution_count": 117,
   "id": "c74cc24d-2a87-4c16-954b-d0e38f1e32aa",
   "metadata": {},
   "outputs": [],
   "source": [
    "modified_file_IPSL.attrs['history5'] = 'modified from eORCA1.4.2_runoff-icb_DaiTrenberth_Depoorter.nc by replacing the ice shelf freshwater flux by values from Davison and prescribing the flux in large cavities to open them in NEMO (contact Clara Burgard)' "
   ]
  },
  {
   "cell_type": "code",
   "execution_count": 118,
   "id": "f859b92b-7b4a-41a9-83bc-6718ffebd138",
   "metadata": {},
   "outputs": [
    {
     "data": {
      "text/html": [
       "<div><svg style=\"position: absolute; width: 0; height: 0; overflow: hidden\">\n",
       "<defs>\n",
       "<symbol id=\"icon-database\" viewBox=\"0 0 32 32\">\n",
       "<path d=\"M16 0c-8.837 0-16 2.239-16 5v4c0 2.761 7.163 5 16 5s16-2.239 16-5v-4c0-2.761-7.163-5-16-5z\"></path>\n",
       "<path d=\"M16 17c-8.837 0-16-2.239-16-5v6c0 2.761 7.163 5 16 5s16-2.239 16-5v-6c0 2.761-7.163 5-16 5z\"></path>\n",
       "<path d=\"M16 26c-8.837 0-16-2.239-16-5v6c0 2.761 7.163 5 16 5s16-2.239 16-5v-6c0 2.761-7.163 5-16 5z\"></path>\n",
       "</symbol>\n",
       "<symbol id=\"icon-file-text2\" viewBox=\"0 0 32 32\">\n",
       "<path d=\"M28.681 7.159c-0.694-0.947-1.662-2.053-2.724-3.116s-2.169-2.030-3.116-2.724c-1.612-1.182-2.393-1.319-2.841-1.319h-15.5c-1.378 0-2.5 1.121-2.5 2.5v27c0 1.378 1.122 2.5 2.5 2.5h23c1.378 0 2.5-1.122 2.5-2.5v-19.5c0-0.448-0.137-1.23-1.319-2.841zM24.543 5.457c0.959 0.959 1.712 1.825 2.268 2.543h-4.811v-4.811c0.718 0.556 1.584 1.309 2.543 2.268zM28 29.5c0 0.271-0.229 0.5-0.5 0.5h-23c-0.271 0-0.5-0.229-0.5-0.5v-27c0-0.271 0.229-0.5 0.5-0.5 0 0 15.499-0 15.5 0v7c0 0.552 0.448 1 1 1h7v19.5z\"></path>\n",
       "<path d=\"M23 26h-14c-0.552 0-1-0.448-1-1s0.448-1 1-1h14c0.552 0 1 0.448 1 1s-0.448 1-1 1z\"></path>\n",
       "<path d=\"M23 22h-14c-0.552 0-1-0.448-1-1s0.448-1 1-1h14c0.552 0 1 0.448 1 1s-0.448 1-1 1z\"></path>\n",
       "<path d=\"M23 18h-14c-0.552 0-1-0.448-1-1s0.448-1 1-1h14c0.552 0 1 0.448 1 1s-0.448 1-1 1z\"></path>\n",
       "</symbol>\n",
       "</defs>\n",
       "</svg>\n",
       "<style>/* CSS stylesheet for displaying xarray objects in jupyterlab.\n",
       " *\n",
       " */\n",
       "\n",
       ":root {\n",
       "  --xr-font-color0: var(--jp-content-font-color0, rgba(0, 0, 0, 1));\n",
       "  --xr-font-color2: var(--jp-content-font-color2, rgba(0, 0, 0, 0.54));\n",
       "  --xr-font-color3: var(--jp-content-font-color3, rgba(0, 0, 0, 0.38));\n",
       "  --xr-border-color: var(--jp-border-color2, #e0e0e0);\n",
       "  --xr-disabled-color: var(--jp-layout-color3, #bdbdbd);\n",
       "  --xr-background-color: var(--jp-layout-color0, white);\n",
       "  --xr-background-color-row-even: var(--jp-layout-color1, white);\n",
       "  --xr-background-color-row-odd: var(--jp-layout-color2, #eeeeee);\n",
       "}\n",
       "\n",
       "html[theme=dark],\n",
       "body[data-theme=dark],\n",
       "body.vscode-dark {\n",
       "  --xr-font-color0: rgba(255, 255, 255, 1);\n",
       "  --xr-font-color2: rgba(255, 255, 255, 0.54);\n",
       "  --xr-font-color3: rgba(255, 255, 255, 0.38);\n",
       "  --xr-border-color: #1F1F1F;\n",
       "  --xr-disabled-color: #515151;\n",
       "  --xr-background-color: #111111;\n",
       "  --xr-background-color-row-even: #111111;\n",
       "  --xr-background-color-row-odd: #313131;\n",
       "}\n",
       "\n",
       ".xr-wrap {\n",
       "  display: block !important;\n",
       "  min-width: 300px;\n",
       "  max-width: 700px;\n",
       "}\n",
       "\n",
       ".xr-text-repr-fallback {\n",
       "  /* fallback to plain text repr when CSS is not injected (untrusted notebook) */\n",
       "  display: none;\n",
       "}\n",
       "\n",
       ".xr-header {\n",
       "  padding-top: 6px;\n",
       "  padding-bottom: 6px;\n",
       "  margin-bottom: 4px;\n",
       "  border-bottom: solid 1px var(--xr-border-color);\n",
       "}\n",
       "\n",
       ".xr-header > div,\n",
       ".xr-header > ul {\n",
       "  display: inline;\n",
       "  margin-top: 0;\n",
       "  margin-bottom: 0;\n",
       "}\n",
       "\n",
       ".xr-obj-type,\n",
       ".xr-array-name {\n",
       "  margin-left: 2px;\n",
       "  margin-right: 10px;\n",
       "}\n",
       "\n",
       ".xr-obj-type {\n",
       "  color: var(--xr-font-color2);\n",
       "}\n",
       "\n",
       ".xr-sections {\n",
       "  padding-left: 0 !important;\n",
       "  display: grid;\n",
       "  grid-template-columns: 150px auto auto 1fr 20px 20px;\n",
       "}\n",
       "\n",
       ".xr-section-item {\n",
       "  display: contents;\n",
       "}\n",
       "\n",
       ".xr-section-item input {\n",
       "  display: none;\n",
       "}\n",
       "\n",
       ".xr-section-item input + label {\n",
       "  color: var(--xr-disabled-color);\n",
       "}\n",
       "\n",
       ".xr-section-item input:enabled + label {\n",
       "  cursor: pointer;\n",
       "  color: var(--xr-font-color2);\n",
       "}\n",
       "\n",
       ".xr-section-item input:enabled + label:hover {\n",
       "  color: var(--xr-font-color0);\n",
       "}\n",
       "\n",
       ".xr-section-summary {\n",
       "  grid-column: 1;\n",
       "  color: var(--xr-font-color2);\n",
       "  font-weight: 500;\n",
       "}\n",
       "\n",
       ".xr-section-summary > span {\n",
       "  display: inline-block;\n",
       "  padding-left: 0.5em;\n",
       "}\n",
       "\n",
       ".xr-section-summary-in:disabled + label {\n",
       "  color: var(--xr-font-color2);\n",
       "}\n",
       "\n",
       ".xr-section-summary-in + label:before {\n",
       "  display: inline-block;\n",
       "  content: '►';\n",
       "  font-size: 11px;\n",
       "  width: 15px;\n",
       "  text-align: center;\n",
       "}\n",
       "\n",
       ".xr-section-summary-in:disabled + label:before {\n",
       "  color: var(--xr-disabled-color);\n",
       "}\n",
       "\n",
       ".xr-section-summary-in:checked + label:before {\n",
       "  content: '▼';\n",
       "}\n",
       "\n",
       ".xr-section-summary-in:checked + label > span {\n",
       "  display: none;\n",
       "}\n",
       "\n",
       ".xr-section-summary,\n",
       ".xr-section-inline-details {\n",
       "  padding-top: 4px;\n",
       "  padding-bottom: 4px;\n",
       "}\n",
       "\n",
       ".xr-section-inline-details {\n",
       "  grid-column: 2 / -1;\n",
       "}\n",
       "\n",
       ".xr-section-details {\n",
       "  display: none;\n",
       "  grid-column: 1 / -1;\n",
       "  margin-bottom: 5px;\n",
       "}\n",
       "\n",
       ".xr-section-summary-in:checked ~ .xr-section-details {\n",
       "  display: contents;\n",
       "}\n",
       "\n",
       ".xr-array-wrap {\n",
       "  grid-column: 1 / -1;\n",
       "  display: grid;\n",
       "  grid-template-columns: 20px auto;\n",
       "}\n",
       "\n",
       ".xr-array-wrap > label {\n",
       "  grid-column: 1;\n",
       "  vertical-align: top;\n",
       "}\n",
       "\n",
       ".xr-preview {\n",
       "  color: var(--xr-font-color3);\n",
       "}\n",
       "\n",
       ".xr-array-preview,\n",
       ".xr-array-data {\n",
       "  padding: 0 5px !important;\n",
       "  grid-column: 2;\n",
       "}\n",
       "\n",
       ".xr-array-data,\n",
       ".xr-array-in:checked ~ .xr-array-preview {\n",
       "  display: none;\n",
       "}\n",
       "\n",
       ".xr-array-in:checked ~ .xr-array-data,\n",
       ".xr-array-preview {\n",
       "  display: inline-block;\n",
       "}\n",
       "\n",
       ".xr-dim-list {\n",
       "  display: inline-block !important;\n",
       "  list-style: none;\n",
       "  padding: 0 !important;\n",
       "  margin: 0;\n",
       "}\n",
       "\n",
       ".xr-dim-list li {\n",
       "  display: inline-block;\n",
       "  padding: 0;\n",
       "  margin: 0;\n",
       "}\n",
       "\n",
       ".xr-dim-list:before {\n",
       "  content: '(';\n",
       "}\n",
       "\n",
       ".xr-dim-list:after {\n",
       "  content: ')';\n",
       "}\n",
       "\n",
       ".xr-dim-list li:not(:last-child):after {\n",
       "  content: ',';\n",
       "  padding-right: 5px;\n",
       "}\n",
       "\n",
       ".xr-has-index {\n",
       "  font-weight: bold;\n",
       "}\n",
       "\n",
       ".xr-var-list,\n",
       ".xr-var-item {\n",
       "  display: contents;\n",
       "}\n",
       "\n",
       ".xr-var-item > div,\n",
       ".xr-var-item label,\n",
       ".xr-var-item > .xr-var-name span {\n",
       "  background-color: var(--xr-background-color-row-even);\n",
       "  margin-bottom: 0;\n",
       "}\n",
       "\n",
       ".xr-var-item > .xr-var-name:hover span {\n",
       "  padding-right: 5px;\n",
       "}\n",
       "\n",
       ".xr-var-list > li:nth-child(odd) > div,\n",
       ".xr-var-list > li:nth-child(odd) > label,\n",
       ".xr-var-list > li:nth-child(odd) > .xr-var-name span {\n",
       "  background-color: var(--xr-background-color-row-odd);\n",
       "}\n",
       "\n",
       ".xr-var-name {\n",
       "  grid-column: 1;\n",
       "}\n",
       "\n",
       ".xr-var-dims {\n",
       "  grid-column: 2;\n",
       "}\n",
       "\n",
       ".xr-var-dtype {\n",
       "  grid-column: 3;\n",
       "  text-align: right;\n",
       "  color: var(--xr-font-color2);\n",
       "}\n",
       "\n",
       ".xr-var-preview {\n",
       "  grid-column: 4;\n",
       "}\n",
       "\n",
       ".xr-index-preview {\n",
       "  grid-column: 2 / 5;\n",
       "  color: var(--xr-font-color2);\n",
       "}\n",
       "\n",
       ".xr-var-name,\n",
       ".xr-var-dims,\n",
       ".xr-var-dtype,\n",
       ".xr-preview,\n",
       ".xr-attrs dt {\n",
       "  white-space: nowrap;\n",
       "  overflow: hidden;\n",
       "  text-overflow: ellipsis;\n",
       "  padding-right: 10px;\n",
       "}\n",
       "\n",
       ".xr-var-name:hover,\n",
       ".xr-var-dims:hover,\n",
       ".xr-var-dtype:hover,\n",
       ".xr-attrs dt:hover {\n",
       "  overflow: visible;\n",
       "  width: auto;\n",
       "  z-index: 1;\n",
       "}\n",
       "\n",
       ".xr-var-attrs,\n",
       ".xr-var-data,\n",
       ".xr-index-data {\n",
       "  display: none;\n",
       "  background-color: var(--xr-background-color) !important;\n",
       "  padding-bottom: 5px !important;\n",
       "}\n",
       "\n",
       ".xr-var-attrs-in:checked ~ .xr-var-attrs,\n",
       ".xr-var-data-in:checked ~ .xr-var-data,\n",
       ".xr-index-data-in:checked ~ .xr-index-data {\n",
       "  display: block;\n",
       "}\n",
       "\n",
       ".xr-var-data > table {\n",
       "  float: right;\n",
       "}\n",
       "\n",
       ".xr-var-name span,\n",
       ".xr-var-data,\n",
       ".xr-index-name div,\n",
       ".xr-index-data,\n",
       ".xr-attrs {\n",
       "  padding-left: 25px !important;\n",
       "}\n",
       "\n",
       ".xr-attrs,\n",
       ".xr-var-attrs,\n",
       ".xr-var-data,\n",
       ".xr-index-data {\n",
       "  grid-column: 1 / -1;\n",
       "}\n",
       "\n",
       "dl.xr-attrs {\n",
       "  padding: 0;\n",
       "  margin: 0;\n",
       "  display: grid;\n",
       "  grid-template-columns: 125px auto;\n",
       "}\n",
       "\n",
       ".xr-attrs dt,\n",
       ".xr-attrs dd {\n",
       "  padding: 0;\n",
       "  margin: 0;\n",
       "  float: left;\n",
       "  padding-right: 10px;\n",
       "  width: auto;\n",
       "}\n",
       "\n",
       ".xr-attrs dt {\n",
       "  font-weight: normal;\n",
       "  grid-column: 1;\n",
       "}\n",
       "\n",
       ".xr-attrs dt:hover span {\n",
       "  display: inline-block;\n",
       "  background: var(--xr-background-color);\n",
       "  padding-right: 10px;\n",
       "}\n",
       "\n",
       ".xr-attrs dd {\n",
       "  grid-column: 2;\n",
       "  white-space: pre-wrap;\n",
       "  word-break: break-all;\n",
       "}\n",
       "\n",
       ".xr-icon-database,\n",
       ".xr-icon-file-text2,\n",
       ".xr-no-icon {\n",
       "  display: inline-block;\n",
       "  vertical-align: middle;\n",
       "  width: 1em;\n",
       "  height: 1.5em !important;\n",
       "  stroke-width: 0;\n",
       "  stroke: currentColor;\n",
       "  fill: currentColor;\n",
       "}\n",
       "</style><pre class='xr-text-repr-fallback'>&lt;xarray.Dataset&gt;\n",
       "Dimensions:       (y: 331, x: 360, time_counter: 12)\n",
       "Coordinates:\n",
       "    nav_lon       (y, x) float32 ...\n",
       "    nav_lat       (y, x) float32 ...\n",
       "  * time_counter  (time_counter) int32 1 2 3 4 5 6 7 8 9 10 11 12\n",
       "Dimensions without coordinates: y, x\n",
       "Data variables:\n",
       "    sorunoff      (time_counter, y, x) float32 ...\n",
       "    sornfisf      (time_counter, y, x) float32 0.0 0.0 0.0 0.0 ... 0.0 0.0 0.0\n",
       "    socoefr       (y, x) float32 ...\n",
       "    sodepmax_isf  (time_counter, y, x) float32 0.0 0.0 0.0 0.0 ... 0.0 0.0 0.0\n",
       "    sodepmin_isf  (time_counter, y, x) float32 0.0 0.0 0.0 0.0 ... 0.0 0.0 0.0\n",
       "    Icb_flux      (time_counter, y, x) float32 ...\n",
       "Attributes: (12/14)\n",
       "    title:         global runoff projected on eORCA1 grid\n",
       "    description1:  north of 60 south : Dai_Trenberth Continental Freshwater D...\n",
       "    description2:  south of 60 south : Depoorter Freshwater Discharge from ba...\n",
       "    description3:  Merino I. Freshwater flux from Iceberg melting in Southern...\n",
       "    history1:      north of 60 south : use runoff_1m_DaiTrenberthSummer_1951_...\n",
       "    history2:      south of 60 south : use Depoorter estimates (contact Ignac...\n",
       "    ...            ...\n",
       "    reference3:    M. A. Depoorter, J. L. Bamber, J. A. Griggs, J. T. M. Lena...\n",
       "    creation:      Mon Dec 14 16:31:35 2015\n",
       "    history3:      socoefr north of 60 south from eORCA1_R1_runoff_clim_v1.0_...\n",
       "    history4:      sorunoff from eORCA1_R1_runoff_clim_v1.0_nomask.nc (north ...\n",
       "    history:       Mon Nov 23 19:15:48 2020: ncks -O -F --abc -d x,2,361 -d y...\n",
       "    NCO:           netCDF Operators version 4.8.1 (Homepage = http://nco.sf.n...</pre><div class='xr-wrap' style='display:none'><div class='xr-header'><div class='xr-obj-type'>xarray.Dataset</div></div><ul class='xr-sections'><li class='xr-section-item'><input id='section-bd05f6d9-2b4f-4196-a0ed-e66fc896f687' class='xr-section-summary-in' type='checkbox' disabled ><label for='section-bd05f6d9-2b4f-4196-a0ed-e66fc896f687' class='xr-section-summary'  title='Expand/collapse section'>Dimensions:</label><div class='xr-section-inline-details'><ul class='xr-dim-list'><li><span>y</span>: 331</li><li><span>x</span>: 360</li><li><span class='xr-has-index'>time_counter</span>: 12</li></ul></div><div class='xr-section-details'></div></li><li class='xr-section-item'><input id='section-e0d88d69-597d-4db1-9e16-040983a39437' class='xr-section-summary-in' type='checkbox'  checked><label for='section-e0d88d69-597d-4db1-9e16-040983a39437' class='xr-section-summary' >Coordinates: <span>(3)</span></label><div class='xr-section-inline-details'></div><div class='xr-section-details'><ul class='xr-var-list'><li class='xr-var-item'><div class='xr-var-name'><span>nav_lon</span></div><div class='xr-var-dims'>(y, x)</div><div class='xr-var-dtype'>float32</div><div class='xr-var-preview xr-preview'>...</div><input id='attrs-33690395-3ae7-439b-8736-5e8cd311c4be' class='xr-var-attrs-in' type='checkbox' ><label for='attrs-33690395-3ae7-439b-8736-5e8cd311c4be' title='Show/Hide attributes'><svg class='icon xr-icon-file-text2'><use xlink:href='#icon-file-text2'></use></svg></label><input id='data-0be0ebec-8df7-467d-82d5-593fdc597da4' class='xr-var-data-in' type='checkbox'><label for='data-0be0ebec-8df7-467d-82d5-593fdc597da4' title='Show/Hide data repr'><svg class='icon xr-icon-database'><use xlink:href='#icon-database'></use></svg></label><div class='xr-var-attrs'><dl class='xr-attrs'><dt><span>units :</span></dt><dd>degrees_east</dd><dt><span>valid_min :</span></dt><dd>-180.0</dd><dt><span>valid_max :</span></dt><dd>180.0</dd><dt><span>long_name :</span></dt><dd>Longitude</dd></dl></div><div class='xr-var-data'><pre>[119160 values with dtype=float32]</pre></div></li><li class='xr-var-item'><div class='xr-var-name'><span>nav_lat</span></div><div class='xr-var-dims'>(y, x)</div><div class='xr-var-dtype'>float32</div><div class='xr-var-preview xr-preview'>...</div><input id='attrs-a83bce6c-7102-4d27-8f82-d9e45e7b6e82' class='xr-var-attrs-in' type='checkbox' ><label for='attrs-a83bce6c-7102-4d27-8f82-d9e45e7b6e82' title='Show/Hide attributes'><svg class='icon xr-icon-file-text2'><use xlink:href='#icon-file-text2'></use></svg></label><input id='data-79fefbca-2712-41aa-8306-c0c8f565476b' class='xr-var-data-in' type='checkbox'><label for='data-79fefbca-2712-41aa-8306-c0c8f565476b' title='Show/Hide data repr'><svg class='icon xr-icon-database'><use xlink:href='#icon-database'></use></svg></label><div class='xr-var-attrs'><dl class='xr-attrs'><dt><span>units :</span></dt><dd>degrees_north</dd><dt><span>valid_min :</span></dt><dd>-86.0</dd><dt><span>valid_max :</span></dt><dd>90.0</dd><dt><span>long_name :</span></dt><dd>Latitude</dd></dl></div><div class='xr-var-data'><pre>[119160 values with dtype=float32]</pre></div></li><li class='xr-var-item'><div class='xr-var-name'><span class='xr-has-index'>time_counter</span></div><div class='xr-var-dims'>(time_counter)</div><div class='xr-var-dtype'>int32</div><div class='xr-var-preview xr-preview'>1 2 3 4 5 6 7 8 9 10 11 12</div><input id='attrs-b09709ce-79e7-42f1-b03c-a734e06b3686' class='xr-var-attrs-in' type='checkbox' ><label for='attrs-b09709ce-79e7-42f1-b03c-a734e06b3686' title='Show/Hide attributes'><svg class='icon xr-icon-file-text2'><use xlink:href='#icon-file-text2'></use></svg></label><input id='data-75bb6007-3e89-4a7c-8397-bb6890fa7777' class='xr-var-data-in' type='checkbox'><label for='data-75bb6007-3e89-4a7c-8397-bb6890fa7777' title='Show/Hide data repr'><svg class='icon xr-icon-database'><use xlink:href='#icon-database'></use></svg></label><div class='xr-var-attrs'><dl class='xr-attrs'><dt><span>units :</span></dt><dd>time steps</dd></dl></div><div class='xr-var-data'><pre>array([ 1,  2,  3,  4,  5,  6,  7,  8,  9, 10, 11, 12], dtype=int32)</pre></div></li></ul></div></li><li class='xr-section-item'><input id='section-13af69af-19e7-4adb-8632-1044bb75cc6a' class='xr-section-summary-in' type='checkbox'  checked><label for='section-13af69af-19e7-4adb-8632-1044bb75cc6a' class='xr-section-summary' >Data variables: <span>(6)</span></label><div class='xr-section-inline-details'></div><div class='xr-section-details'><ul class='xr-var-list'><li class='xr-var-item'><div class='xr-var-name'><span>sorunoff</span></div><div class='xr-var-dims'>(time_counter, y, x)</div><div class='xr-var-dtype'>float32</div><div class='xr-var-preview xr-preview'>...</div><input id='attrs-ef5a9a37-b9e9-4418-877d-7908c39da940' class='xr-var-attrs-in' type='checkbox' ><label for='attrs-ef5a9a37-b9e9-4418-877d-7908c39da940' title='Show/Hide attributes'><svg class='icon xr-icon-file-text2'><use xlink:href='#icon-file-text2'></use></svg></label><input id='data-dac6a892-cbfd-41a9-9a55-bc75a7e0f6f6' class='xr-var-data-in' type='checkbox'><label for='data-dac6a892-cbfd-41a9-9a55-bc75a7e0f6f6' title='Show/Hide data repr'><svg class='icon xr-icon-database'><use xlink:href='#icon-database'></use></svg></label><div class='xr-var-attrs'><dl class='xr-attrs'><dt><span>long_name :</span></dt><dd>coastal runoff (except from antarctica iceshelves) with Iceberg melting freshwater flux</dd><dt><span>units :</span></dt><dd>Kg/m2/s</dd><dt><span>valid_min :</span></dt><dd>0.0</dd><dt><span>valid_max :</span></dt><dd>0.03</dd></dl></div><div class='xr-var-data'><pre>[1429920 values with dtype=float32]</pre></div></li><li class='xr-var-item'><div class='xr-var-name'><span>sornfisf</span></div><div class='xr-var-dims'>(time_counter, y, x)</div><div class='xr-var-dtype'>float32</div><div class='xr-var-preview xr-preview'>0.0 0.0 0.0 0.0 ... 0.0 0.0 0.0 0.0</div><input id='attrs-507476a7-7db6-47fa-af95-a2ac0493ca59' class='xr-var-attrs-in' type='checkbox' ><label for='attrs-507476a7-7db6-47fa-af95-a2ac0493ca59' title='Show/Hide attributes'><svg class='icon xr-icon-file-text2'><use xlink:href='#icon-file-text2'></use></svg></label><input id='data-a4f9e895-12d9-4f04-8e3a-ca928c7f77fb' class='xr-var-data-in' type='checkbox'><label for='data-a4f9e895-12d9-4f04-8e3a-ca928c7f77fb' title='Show/Hide data repr'><svg class='icon xr-icon-database'><use xlink:href='#icon-database'></use></svg></label><div class='xr-var-attrs'><dl class='xr-attrs'><dt><span>long_name :</span></dt><dd>runoff from antarctica iceshelves (Depoiorter 2013)</dd><dt><span>units :</span></dt><dd>Kg/m2/s</dd><dt><span>valid_min :</span></dt><dd>0.0</dd><dt><span>valid_max :</span></dt><dd>0.03</dd></dl></div><div class='xr-var-data'><pre>array([[[0., 0., ..., 0., 0.],\n",
       "        [0., 0., ..., 0., 0.],\n",
       "        ...,\n",
       "        [0., 0., ..., 0., 0.],\n",
       "        [0., 0., ..., 0., 0.]],\n",
       "\n",
       "       [[0., 0., ..., 0., 0.],\n",
       "        [0., 0., ..., 0., 0.],\n",
       "        ...,\n",
       "        [0., 0., ..., 0., 0.],\n",
       "        [0., 0., ..., 0., 0.]],\n",
       "\n",
       "       ...,\n",
       "\n",
       "       [[0., 0., ..., 0., 0.],\n",
       "        [0., 0., ..., 0., 0.],\n",
       "        ...,\n",
       "        [0., 0., ..., 0., 0.],\n",
       "        [0., 0., ..., 0., 0.]],\n",
       "\n",
       "       [[0., 0., ..., 0., 0.],\n",
       "        [0., 0., ..., 0., 0.],\n",
       "        ...,\n",
       "        [0., 0., ..., 0., 0.],\n",
       "        [0., 0., ..., 0., 0.]]], dtype=float32)</pre></div></li><li class='xr-var-item'><div class='xr-var-name'><span>socoefr</span></div><div class='xr-var-dims'>(y, x)</div><div class='xr-var-dtype'>float32</div><div class='xr-var-preview xr-preview'>...</div><input id='attrs-84fb3b03-5d70-4748-8f9b-8c4ab8d701cf' class='xr-var-attrs-in' type='checkbox' ><label for='attrs-84fb3b03-5d70-4748-8f9b-8c4ab8d701cf' title='Show/Hide attributes'><svg class='icon xr-icon-file-text2'><use xlink:href='#icon-file-text2'></use></svg></label><input id='data-abab5a9e-769b-4aa7-9268-cd8f39854475' class='xr-var-data-in' type='checkbox'><label for='data-abab5a9e-769b-4aa7-9268-cd8f39854475' title='Show/Hide data repr'><svg class='icon xr-icon-database'><use xlink:href='#icon-database'></use></svg></label><div class='xr-var-attrs'><dl class='xr-attrs'><dt><span>valid_min :</span></dt><dd>0.0</dd><dt><span>valid_max :</span></dt><dd>0.5</dd></dl></div><div class='xr-var-data'><pre>[119160 values with dtype=float32]</pre></div></li><li class='xr-var-item'><div class='xr-var-name'><span>sodepmax_isf</span></div><div class='xr-var-dims'>(time_counter, y, x)</div><div class='xr-var-dtype'>float32</div><div class='xr-var-preview xr-preview'>0.0 0.0 0.0 0.0 ... 0.0 0.0 0.0 0.0</div><input id='attrs-49caef4b-7dac-4f68-8acf-71c0dbb851fb' class='xr-var-attrs-in' type='checkbox' ><label for='attrs-49caef4b-7dac-4f68-8acf-71c0dbb851fb' title='Show/Hide attributes'><svg class='icon xr-icon-file-text2'><use xlink:href='#icon-file-text2'></use></svg></label><input id='data-0a0c9b30-9990-4be7-bda1-1ee9d29da43e' class='xr-var-data-in' type='checkbox'><label for='data-0a0c9b30-9990-4be7-bda1-1ee9d29da43e' title='Show/Hide data repr'><svg class='icon xr-icon-database'><use xlink:href='#icon-database'></use></svg></label><div class='xr-var-attrs'><dl class='xr-attrs'><dt><span>long_name :</span></dt><dd>depth of deepest point of the ice shelves base</dd><dt><span>units :</span></dt><dd>m</dd></dl></div><div class='xr-var-data'><pre>array([[[0., 0., ..., 0., 0.],\n",
       "        [0., 0., ..., 0., 0.],\n",
       "        ...,\n",
       "        [0., 0., ..., 0., 0.],\n",
       "        [0., 0., ..., 0., 0.]],\n",
       "\n",
       "       [[0., 0., ..., 0., 0.],\n",
       "        [0., 0., ..., 0., 0.],\n",
       "        ...,\n",
       "        [0., 0., ..., 0., 0.],\n",
       "        [0., 0., ..., 0., 0.]],\n",
       "\n",
       "       ...,\n",
       "\n",
       "       [[0., 0., ..., 0., 0.],\n",
       "        [0., 0., ..., 0., 0.],\n",
       "        ...,\n",
       "        [0., 0., ..., 0., 0.],\n",
       "        [0., 0., ..., 0., 0.]],\n",
       "\n",
       "       [[0., 0., ..., 0., 0.],\n",
       "        [0., 0., ..., 0., 0.],\n",
       "        ...,\n",
       "        [0., 0., ..., 0., 0.],\n",
       "        [0., 0., ..., 0., 0.]]], dtype=float32)</pre></div></li><li class='xr-var-item'><div class='xr-var-name'><span>sodepmin_isf</span></div><div class='xr-var-dims'>(time_counter, y, x)</div><div class='xr-var-dtype'>float32</div><div class='xr-var-preview xr-preview'>0.0 0.0 0.0 0.0 ... 0.0 0.0 0.0 0.0</div><input id='attrs-dcf6c656-2068-4afc-938b-b6395265c650' class='xr-var-attrs-in' type='checkbox' ><label for='attrs-dcf6c656-2068-4afc-938b-b6395265c650' title='Show/Hide attributes'><svg class='icon xr-icon-file-text2'><use xlink:href='#icon-file-text2'></use></svg></label><input id='data-61d756a5-5410-4b16-8395-ff7f456b0219' class='xr-var-data-in' type='checkbox'><label for='data-61d756a5-5410-4b16-8395-ff7f456b0219' title='Show/Hide data repr'><svg class='icon xr-icon-database'><use xlink:href='#icon-database'></use></svg></label><div class='xr-var-attrs'><dl class='xr-attrs'><dt><span>long_name :</span></dt><dd>depth of shallowest point of the ice shelves base</dd><dt><span>units :</span></dt><dd>m</dd></dl></div><div class='xr-var-data'><pre>array([[[0., 0., ..., 0., 0.],\n",
       "        [0., 0., ..., 0., 0.],\n",
       "        ...,\n",
       "        [0., 0., ..., 0., 0.],\n",
       "        [0., 0., ..., 0., 0.]],\n",
       "\n",
       "       [[0., 0., ..., 0., 0.],\n",
       "        [0., 0., ..., 0., 0.],\n",
       "        ...,\n",
       "        [0., 0., ..., 0., 0.],\n",
       "        [0., 0., ..., 0., 0.]],\n",
       "\n",
       "       ...,\n",
       "\n",
       "       [[0., 0., ..., 0., 0.],\n",
       "        [0., 0., ..., 0., 0.],\n",
       "        ...,\n",
       "        [0., 0., ..., 0., 0.],\n",
       "        [0., 0., ..., 0., 0.]],\n",
       "\n",
       "       [[0., 0., ..., 0., 0.],\n",
       "        [0., 0., ..., 0., 0.],\n",
       "        ...,\n",
       "        [0., 0., ..., 0., 0.],\n",
       "        [0., 0., ..., 0., 0.]]], dtype=float32)</pre></div></li><li class='xr-var-item'><div class='xr-var-name'><span>Icb_flux</span></div><div class='xr-var-dims'>(time_counter, y, x)</div><div class='xr-var-dtype'>float32</div><div class='xr-var-preview xr-preview'>...</div><input id='attrs-966a53ab-0bf8-4408-97af-925e64b9b07e' class='xr-var-attrs-in' type='checkbox' ><label for='attrs-966a53ab-0bf8-4408-97af-925e64b9b07e' title='Show/Hide attributes'><svg class='icon xr-icon-file-text2'><use xlink:href='#icon-file-text2'></use></svg></label><input id='data-0d73b2ea-e95f-4f31-90a6-9eb383d4de85' class='xr-var-data-in' type='checkbox'><label for='data-0d73b2ea-e95f-4f31-90a6-9eb383d4de85' title='Show/Hide data repr'><svg class='icon xr-icon-database'><use xlink:href='#icon-database'></use></svg></label><div class='xr-var-attrs'><dl class='xr-attrs'><dt><span>long_name :</span></dt><dd>freshwater flux from icebergs melting</dd><dt><span>units :</span></dt><dd>Kg/m2/s</dd><dt><span>valid_min :</span></dt><dd>0.0</dd><dt><span>valid_max :</span></dt><dd>0.01</dd></dl></div><div class='xr-var-data'><pre>[1429920 values with dtype=float32]</pre></div></li></ul></div></li><li class='xr-section-item'><input id='section-1e5352be-5fe9-43e1-aefe-0f69f296545a' class='xr-section-summary-in' type='checkbox'  ><label for='section-1e5352be-5fe9-43e1-aefe-0f69f296545a' class='xr-section-summary' >Indexes: <span>(1)</span></label><div class='xr-section-inline-details'></div><div class='xr-section-details'><ul class='xr-var-list'><li class='xr-var-item'><div class='xr-index-name'><div>time_counter</div></div><div class='xr-index-preview'>PandasIndex</div><div></div><input id='index-e9423ae0-1251-4a6a-83a1-7ec348bc63dc' class='xr-index-data-in' type='checkbox'/><label for='index-e9423ae0-1251-4a6a-83a1-7ec348bc63dc' title='Show/Hide index repr'><svg class='icon xr-icon-database'><use xlink:href='#icon-database'></use></svg></label><div class='xr-index-data'><pre>PandasIndex(Index([1, 2, 3, 4, 5, 6, 7, 8, 9, 10, 11, 12], dtype=&#x27;int32&#x27;, name=&#x27;time_counter&#x27;))</pre></div></li></ul></div></li><li class='xr-section-item'><input id='section-bbe1fc9b-e103-4c1d-af8d-1bfb3911f66c' class='xr-section-summary-in' type='checkbox'  ><label for='section-bbe1fc9b-e103-4c1d-af8d-1bfb3911f66c' class='xr-section-summary' >Attributes: <span>(14)</span></label><div class='xr-section-inline-details'></div><div class='xr-section-details'><dl class='xr-attrs'><dt><span>title :</span></dt><dd>global runoff projected on eORCA1 grid</dd><dt><span>description1 :</span></dt><dd>north of 60 south : Dai_Trenberth Continental Freshwater Discharge</dd><dt><span>description2 :</span></dt><dd>south of 60 south : Depoorter Freshwater Discharge from basal front to grounding line iceshelves melting</dd><dt><span>description3 :</span></dt><dd>Merino I. Freshwater flux from Iceberg melting in Southern Ocean</dd><dt><span>history1 :</span></dt><dd>north of 60 south : use runoff_1m_DaiTrenberthSummer_1951_1958.nc netcdf file.</dd><dt><span>history2 :</span></dt><dd>south of 60 south : use Depoorter estimates (contact Ignacio Merino / Gildas Mainsant)</dd><dt><span>reference1 :</span></dt><dd>Dai, A., and K. E. Trenberth, 2002: Estimates of freshwater discharge from continents: Latitudinal and seasonal variations. J. Hydrometeorol., 3, 660-687.</dd><dt><span>reference2 :</span></dt><dd>Dai, A., T. Qian, K. E. Trenberth, and J. D Milliman, 2009: Changes in continental freshwater discharge from 1948-2004. J. Climate, 22, 2773-2791</dd><dt><span>reference3 :</span></dt><dd>M. A. Depoorter, J. L. Bamber, J. A. Griggs, J. T. M. Lenaerts, S. R. M. Ligtenberg, M. R. van den Broeke, and  G. Moholdt, 2013: Calving fluxes and basal melt rates of Antarctic ice shelves. Nature, Letter, doi:10.1038/nature12567</dd><dt><span>creation :</span></dt><dd>Mon Dec 14 16:31:35 2015</dd><dt><span>history3 :</span></dt><dd>socoefr north of 60 south from eORCA1_R1_runoff_clim_v1.0_nomask.nc : spread 2 cells further from coast, originally by Andrew Coward (contact Julie Deshayes)</dd><dt><span>history4 :</span></dt><dd>sorunoff from eORCA1_R1_runoff_clim_v1.0_nomask.nc (north of 60 south + from Antarctica under-ice shelf seas) + icebergs from runoff-icb_DaiTrenberth_Summer-Depoorter_eORCA1.nc (contact Julie Deshayes)</dd><dt><span>history :</span></dt><dd>Mon Nov 23 19:15:48 2020: ncks -O -F --abc -d x,2,361 -d y,1,331 runoff-icb_DaiTrenberth_Depoorter_eORCA1_JD.nc runoff-icb_DaiTrenberth_Depoorter_eORCA1_JD.nc</dd><dt><span>NCO :</span></dt><dd>netCDF Operators version 4.8.1 (Homepage = http://nco.sf.net, Code = http://github.com/nco/nco)</dd></dl></div></li></ul></div></div>"
      ],
      "text/plain": [
       "<xarray.Dataset>\n",
       "Dimensions:       (y: 331, x: 360, time_counter: 12)\n",
       "Coordinates:\n",
       "    nav_lon       (y, x) float32 ...\n",
       "    nav_lat       (y, x) float32 ...\n",
       "  * time_counter  (time_counter) int32 1 2 3 4 5 6 7 8 9 10 11 12\n",
       "Dimensions without coordinates: y, x\n",
       "Data variables:\n",
       "    sorunoff      (time_counter, y, x) float32 ...\n",
       "    sornfisf      (time_counter, y, x) float32 0.0 0.0 0.0 0.0 ... 0.0 0.0 0.0\n",
       "    socoefr       (y, x) float32 ...\n",
       "    sodepmax_isf  (time_counter, y, x) float32 0.0 0.0 0.0 0.0 ... 0.0 0.0 0.0\n",
       "    sodepmin_isf  (time_counter, y, x) float32 0.0 0.0 0.0 0.0 ... 0.0 0.0 0.0\n",
       "    Icb_flux      (time_counter, y, x) float32 ...\n",
       "Attributes: (12/14)\n",
       "    title:         global runoff projected on eORCA1 grid\n",
       "    description1:  north of 60 south : Dai_Trenberth Continental Freshwater D...\n",
       "    description2:  south of 60 south : Depoorter Freshwater Discharge from ba...\n",
       "    description3:  Merino I. Freshwater flux from Iceberg melting in Southern...\n",
       "    history1:      north of 60 south : use runoff_1m_DaiTrenberthSummer_1951_...\n",
       "    history2:      south of 60 south : use Depoorter estimates (contact Ignac...\n",
       "    ...            ...\n",
       "    reference3:    M. A. Depoorter, J. L. Bamber, J. A. Griggs, J. T. M. Lena...\n",
       "    creation:      Mon Dec 14 16:31:35 2015\n",
       "    history3:      socoefr north of 60 south from eORCA1_R1_runoff_clim_v1.0_...\n",
       "    history4:      sorunoff from eORCA1_R1_runoff_clim_v1.0_nomask.nc (north ...\n",
       "    history:       Mon Nov 23 19:15:48 2020: ncks -O -F --abc -d x,2,361 -d y...\n",
       "    NCO:           netCDF Operators version 4.8.1 (Homepage = http://nco.sf.n..."
      ]
     },
     "execution_count": 118,
     "metadata": {},
     "output_type": "execute_result"
    }
   ],
   "source": [
    "file_IPSL"
   ]
  },
  {
   "cell_type": "code",
   "execution_count": 120,
   "id": "be47d5cd-1109-41f7-8fd9-d304caee4a58",
   "metadata": {},
   "outputs": [],
   "source": [
    "modified_file_IPSL.to_netcdf(inputpath_interim + 'eORCA1.4.2_runoff-icb_DaiTrenberth_Davison.nc')"
   ]
  },
  {
   "cell_type": "code",
   "execution_count": 102,
   "id": "4b2c437d-4ccf-44fd-acde-3c11c9459548",
   "metadata": {},
   "outputs": [
    {
     "data": {
      "text/plain": [
       "<matplotlib.collections.QuadMesh at 0x1543e9b3e070>"
      ]
     },
     "execution_count": 102,
     "metadata": {},
     "output_type": "execute_result"
    }
   ],
   "source": [
    "(modified_file_IPSL['sodepmax_isf'] - file_IPSL['sodepmax_isf']).isel(time_counter=0).plot()"
   ]
  },
  {
   "cell_type": "code",
   "execution_count": null,
   "id": "684abb8d-2ad3-46e8-bde8-bcc1e9e7da05",
   "metadata": {},
   "outputs": [],
   "source": [
    "modified_file_IPSL['sodepmax_isf'].plot()"
   ]
  },
  {
   "cell_type": "code",
   "execution_count": null,
   "id": "ac234c1d-9c8d-420f-bc94-5eba8bd1eadf",
   "metadata": {},
   "outputs": [],
   "source": []
  }
 ],
 "metadata": {
  "kernelspec": {
   "display_name": "py38",
   "language": "python",
   "name": "py38"
  },
  "language_info": {
   "codemirror_mode": {
    "name": "ipython",
    "version": 3
   },
   "file_extension": ".py",
   "mimetype": "text/x-python",
   "name": "python",
   "nbconvert_exporter": "python",
   "pygments_lexer": "ipython3",
   "version": "3.8.18"
  }
 },
 "nbformat": 4,
 "nbformat_minor": 5
}
