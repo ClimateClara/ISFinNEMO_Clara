{
 "cells": [
  {
   "cell_type": "code",
   "execution_count": null,
   "id": "c1aa8cff-7216-4ac7-8674-6d26a8cf9b2d",
   "metadata": {},
   "outputs": [],
   "source": [
    "\"\"\"\n",
    "Created on Mon Jan 20 11:50 2025\n",
    "\n",
    "Compare the file currently used for IPSL-CM7 and the one I created to make them look similar\n",
    "\n",
    "@author: Clara Burgard\n",
    "\"\"\""
   ]
  },
  {
   "cell_type": "code",
   "execution_count": 1,
   "id": "931b90f5-1362-4ef4-8d0b-871073b95d39",
   "metadata": {},
   "outputs": [],
   "source": [
    "import xarray as xr\n",
    "from multimelt.constants import *\n",
    "import numpy as np\n",
    "import matplotlib.pyplot as plt"
   ]
  },
  {
   "cell_type": "code",
   "execution_count": 2,
   "id": "80be131f-132c-44d5-b710-8b92d718fb1a",
   "metadata": {},
   "outputs": [],
   "source": [
    "%matplotlib qt5"
   ]
  },
  {
   "cell_type": "markdown",
   "id": "6b2941f5-40ad-44f1-810b-1b8336166686",
   "metadata": {},
   "source": [
    "READ DATA"
   ]
  },
  {
   "cell_type": "code",
   "execution_count": 3,
   "id": "09fe82f5-aaa4-4368-87cb-2034fcf44f4b",
   "metadata": {},
   "outputs": [],
   "source": [
    "inputpath_raw='/data/cburgard/PREPARE_FORCING/PREPARE_PRESCRIBED_MELT/raw/'\n",
    "inputpath_interim='/data/cburgard/PREPARE_FORCING/PREPARE_PRESCRIBED_MELT/interim/'\n",
    "inputpath_raw2 = '/data/cburgard/PREPARE_FORCING/PREPARE_CAVITY_MASKS/raw/'\n"
   ]
  },
  {
   "cell_type": "code",
   "execution_count": 4,
   "id": "867be49a-ea2c-4689-bd2f-265254138129",
   "metadata": {},
   "outputs": [],
   "source": [
    "file_IPSL = xr.open_dataset(inputpath_raw + 'eORCA1.4.2_runoff-icb_DaiTrenberth_Depoorter.nc')\n",
    "file_Davison = xr.open_dataset(inputpath_interim + 'Davison23_basal_melt_pattern_on_eORCA1.nc')\n",
    "file_current = xr.open_dataset(inputpath_interim + 'masks_for_eORCA1_prescribedmeltinopencav.nc')"
   ]
  },
  {
   "cell_type": "code",
   "execution_count": 5,
   "id": "3f24c926-4f12-46f8-83ae-b8f7ebaffff4",
   "metadata": {},
   "outputs": [],
   "source": [
    "domain_cfg = xr.open_dataset(inputpath_raw2 + 'eORCA1.4.3_OpenSeas_OpenAllCav_ModStraights/eORCA1.4.3_OpenSeas_OpenAllCav_ModStraights_domain_cfg.nc')"
   ]
  },
  {
   "cell_type": "code",
   "execution_count": 6,
   "id": "e8b2c132-ddc2-42ca-96bf-161a7ad4cb8e",
   "metadata": {},
   "outputs": [],
   "source": [
    "cell_area = domain_cfg['e1t'] * domain_cfg['e2t']"
   ]
  },
  {
   "cell_type": "code",
   "execution_count": 11,
   "id": "64dcd02d-ef2b-4b27-b2d9-eee7b0865cc7",
   "metadata": {},
   "outputs": [],
   "source": [
    "melt_converted = file_current['melt_isf'] / yearinsec *10**(12) / cell_area "
   ]
  },
  {
   "cell_type": "code",
   "execution_count": 13,
   "id": "cac7ed49-27a4-42c4-96a9-12b825e36da4",
   "metadata": {},
   "outputs": [
    {
     "data": {
      "text/plain": [
       "<matplotlib.collections.QuadMesh at 0x14a580edea30>"
      ]
     },
     "execution_count": 13,
     "metadata": {},
     "output_type": "execute_result"
    }
   ],
   "source": [
    "melt_converted.plot()"
   ]
  },
  {
   "cell_type": "code",
   "execution_count": 7,
   "id": "2421a19f-4579-4866-a31f-8dd5433f13b2",
   "metadata": {},
   "outputs": [],
   "source": [
    "melt_IPSL_Gt = file_IPSL['sornfisf'].isel(time_counter=0) * yearinsec * 10**(-12) * cell_area"
   ]
  },
  {
   "cell_type": "code",
   "execution_count": null,
   "id": "74a6fdab-71f9-4c79-9d98-b228a3a1224e",
   "metadata": {},
   "outputs": [],
   "source": [
    "melt_IPSL_Gt.plot()"
   ]
  },
  {
   "cell_type": "code",
   "execution_count": null,
   "id": "5d6d52f1-f4fe-4047-9cf1-784975a3ed2c",
   "metadata": {},
   "outputs": [],
   "source": [
    "melt_IPSL_Gt.where(melt_IPSL_Gt != 0).plot(vmin=-5,vmax=5,cmap = 'coolwarm')"
   ]
  },
  {
   "cell_type": "code",
   "execution_count": null,
   "id": "200e9dbc-ba1f-4e2f-9853-6150e50f7221",
   "metadata": {},
   "outputs": [],
   "source": [
    "file_current['melt_isf'].sum()"
   ]
  },
  {
   "cell_type": "code",
   "execution_count": null,
   "id": "20cc773a-8b35-49a5-bc40-0a9329d4738c",
   "metadata": {},
   "outputs": [],
   "source": [
    "plt.figure()\n",
    "(file_current['melt_isf']).plot(vmin=-5,vmax=5,cmap = 'coolwarm')"
   ]
  },
  {
   "cell_type": "code",
   "execution_count": null,
   "id": "464a988c-9ddf-499b-8dcb-509bc3ab9da3",
   "metadata": {},
   "outputs": [],
   "source": [
    "(melt_converted - file_IPSL['sornfisf'].isel(time_counter=0))/file_IPSL['sornfisf'].isel(time_counter=0)).plot(vmax=1)"
   ]
  },
  {
   "cell_type": "code",
   "execution_count": null,
   "id": "cdeca95d-49ee-403b-bca4-8e22ef9e07ea",
   "metadata": {},
   "outputs": [],
   "source": [
    "(file_current['melt_isf'] - melt_IPSL_Gt).plot()"
   ]
  },
  {
   "cell_type": "code",
   "execution_count": null,
   "id": "a2d6fbef-1a69-4468-9970-1fc9ce1cb3db",
   "metadata": {},
   "outputs": [],
   "source": [
    "melt_converted.plot()"
   ]
  },
  {
   "cell_type": "code",
   "execution_count": 8,
   "id": "634afcde-ab49-4bdf-aa1c-a64369424445",
   "metadata": {},
   "outputs": [],
   "source": [
    "modified_file_IPSL = file_IPSL.copy()"
   ]
  },
  {
   "cell_type": "code",
   "execution_count": 9,
   "id": "fad9e76a-13da-47f1-b020-fa024673983e",
   "metadata": {},
   "outputs": [],
   "source": [
    "modified_file_IPSL['sornfisf'] = file_IPSL['sornfisf'] * 0 + melt_converted.where(np.isfinite(melt_converted),0).squeeze()\n",
    "modified_file_IPSL['sornfisf'].attrs['long_name'] = 'runoff from antarctica iceshelves (Davison 2023)'"
   ]
  },
  {
   "cell_type": "code",
   "execution_count": 10,
   "id": "74c1a69d-30e7-4aad-bcf1-e0e00bb85ab5",
   "metadata": {},
   "outputs": [],
   "source": [
    "modified_file_IPSL['sodepmax_isf'] = file_IPSL['sodepmax_isf'] * 0 + file_current['z_max'].where(np.isfinite(file_current['z_max']),0).squeeze()\n",
    "modified_file_IPSL['sodepmin_isf'] = file_IPSL['sodepmin_isf'] * 0 + file_current['z_min'].where(np.isfinite(file_current['z_min']),0).squeeze()"
   ]
  },
  {
   "cell_type": "code",
   "execution_count": 11,
   "id": "d644dac1-5028-4102-b06c-eb72d712f92b",
   "metadata": {},
   "outputs": [],
   "source": [
    "modified_file_IPSL.attrs['description2'] = 'south of 60 south : Davison Freshwater Discharge from basal front to grounding line iceshelves melting'\n",
    "modified_file_IPSL.attrs['reference3'] = 'B.J. Davison, A.E. Hogg, N. Gourmelen, L. Jakob, J. Wuite, T. Nagler, C.A. Greene, J. Andreasen, M.E. Engdahl, 2023: Annual mass budget of Antarctic ice shelves from 1997 to 2021. Science Advances, doi:10.1126/sciadv.adi0186'\n",
    "modified_file_IPSL.attrs['creation'] = 'Mon Jan 20 16:11 2025'"
   ]
  },
  {
   "cell_type": "code",
   "execution_count": 12,
   "id": "c74cc24d-2a87-4c16-954b-d0e38f1e32aa",
   "metadata": {},
   "outputs": [],
   "source": [
    "modified_file_IPSL.attrs['history5'] = 'modified from eORCA1.4.2_runoff-icb_DaiTrenberth_Depoorter.nc by replacing the ice shelf freshwater flux by values from Davison and prescribing the flux in large cavities to open them in NEMO (contact Clara Burgard)' "
   ]
  },
  {
   "cell_type": "code",
   "execution_count": null,
   "id": "f859b92b-7b4a-41a9-83bc-6718ffebd138",
   "metadata": {},
   "outputs": [],
   "source": [
    "file_IPSL['sornfisf']"
   ]
  },
  {
   "cell_type": "code",
   "execution_count": 13,
   "id": "be47d5cd-1109-41f7-8fd9-d304caee4a58",
   "metadata": {},
   "outputs": [],
   "source": [
    "modified_file_IPSL.to_netcdf(inputpath_interim + 'eORCA1.4.2_runoff-icb_DaiTrenberth_Davison.nc')"
   ]
  },
  {
   "cell_type": "code",
   "execution_count": null,
   "id": "4b2c437d-4ccf-44fd-acde-3c11c9459548",
   "metadata": {},
   "outputs": [],
   "source": [
    "(modified_file_IPSL['sodepmax_isf'] - file_IPSL['sodepmax_isf']).isel(time_counter=0).plot()"
   ]
  },
  {
   "cell_type": "code",
   "execution_count": null,
   "id": "684abb8d-2ad3-46e8-bde8-bcc1e9e7da05",
   "metadata": {},
   "outputs": [],
   "source": [
    "modified_file_IPSL['sodepmax_isf'].plot()"
   ]
  },
  {
   "cell_type": "markdown",
   "id": "9b751f5a-ed53-4a5d-92f2-b5073df54b6a",
   "metadata": {},
   "source": [
    "CHECKS"
   ]
  },
  {
   "cell_type": "code",
   "execution_count": null,
   "id": "08c09ff7-a8ef-492e-be53-150b502ff902",
   "metadata": {},
   "outputs": [],
   "source": [
    "file_IPSL = xr.open_dataset(inputpath_raw + 'eORCA1.4.2_runoff-icb_DaiTrenberth_Depoorter.nc')\n",
    "modified_file_IPSL = xr.open_dataset(inputpath_interim + 'eORCA1.4.2_runoff-icb_DaiTrenberth_Davison.nc')"
   ]
  },
  {
   "cell_type": "markdown",
   "id": "bc42848e-5e5f-41ba-9bdd-7dd1819fceca",
   "metadata": {},
   "source": [
    "ALSO PREPARE THE DOMAIN CFG BY CLOSING MOST CAVITIES"
   ]
  },
  {
   "cell_type": "code",
   "execution_count": 14,
   "id": "e79b49a9-ec98-41a3-ad7c-63ab6b506cf7",
   "metadata": {},
   "outputs": [
    {
     "name": "stdout",
     "output_type": "stream",
     "text": [
      "bottom_level\n",
      "top_level\n",
      "isf_draft\n",
      "bathy_metry\n",
      "mask_opensea\n",
      "mask_csgrpglo\n"
     ]
    }
   ],
   "source": [
    "new_domain_cfg = domain_cfg.copy()\n",
    "for vvar in ['bottom_level','top_level','isf_draft','bathy_metry','mask_opensea','mask_csgrpglo']:\n",
    "    print(vvar)\n",
    "    new_domain_cfg[vvar] = new_domain_cfg[vvar].where(np.isnan(file_current['mask_isf_closed']), 0)"
   ]
  },
  {
   "cell_type": "code",
   "execution_count": 15,
   "id": "e0f5cbbc-c50f-473b-8a02-8cee4c531480",
   "metadata": {},
   "outputs": [],
   "source": [
    "new_domain_cfg.to_netcdf(inputpath_interim + 'eORCA1.4.3_OpenSeas_Open6largestISF_ModStraights_domain_cfg.nc')"
   ]
  },
  {
   "cell_type": "markdown",
   "id": "bda10045-1712-4db1-b6a6-05cc96d8d800",
   "metadata": {},
   "source": [
    "CHECK AT WHICH DEPTH FWF IS INJECTED"
   ]
  },
  {
   "cell_type": "code",
   "execution_count": null,
   "id": "757757f6-d496-4887-8eaa-c253ac196ee1",
   "metadata": {},
   "outputs": [],
   "source": [
    "file_current['mask_isf_open'].plot()"
   ]
  },
  {
   "cell_type": "code",
   "execution_count": 16,
   "id": "2df99d62-3c66-4a08-bd36-1b9bcc783e0c",
   "metadata": {},
   "outputs": [],
   "source": [
    "zmin_opencav = new_domain_cfg['nav_lev'].sel(z=new_domain_cfg['top_level']).where(file_current['mask_isf_open'])\n",
    "zmax_opencav = zmin_opencav.where(np.isnan(file_current['mask_isf_open']), zmin_opencav + 30)"
   ]
  },
  {
   "cell_type": "code",
   "execution_count": 17,
   "id": "3d4c02be-9cf6-4c37-9fe6-82b3ca1a1036",
   "metadata": {},
   "outputs": [],
   "source": [
    "new_modified_file_IPSL = modified_file_IPSL.copy()\n",
    "new_modified_file_IPSL['sodepmin_isf'] = new_modified_file_IPSL['sodepmin_isf'].where(np.isnan(file_current['mask_isf_open']), zmin_opencav).squeeze()\n",
    "new_modified_file_IPSL['sodepmax_isf'] = new_modified_file_IPSL['sodepmax_isf'].where(np.isnan(file_current['mask_isf_open']), zmax_opencav).squeeze()"
   ]
  },
  {
   "cell_type": "code",
   "execution_count": 18,
   "id": "1e12fb2a-eb62-4235-8d16-78b1535e5ba7",
   "metadata": {},
   "outputs": [],
   "source": [
    "new_modified_file_IPSL.to_netcdf(inputpath_interim + 'eORCA1.4.2_runoff-icb_DaiTrenberth_Davison_open6largestISF.nc', unlimited_dims=['time_counter'])"
   ]
  },
  {
   "cell_type": "code",
   "execution_count": null,
   "id": "f78bc357-5002-4cc3-a6f4-2af4eba7b2e4",
   "metadata": {},
   "outputs": [],
   "source": [
    "(new_modified_file_IPSL['sodepmax_isf'].isel(time_counter=0) - new_modified_file_IPSL['sodepmin_isf'].isel(time_counter=0)).plot(vmax=10)"
   ]
  },
  {
   "cell_type": "code",
   "execution_count": null,
   "id": "bac2931a-01e6-4c25-b0e2-7ed265549716",
   "metadata": {},
   "outputs": [],
   "source": [
    "new_domain_cfg['nav_lev'].shift(z=1) - new_domain_cfg['nav_lev']"
   ]
  },
  {
   "cell_type": "code",
   "execution_count": null,
   "id": "dcb22ba0-c162-4c90-a930-356653128ab3",
   "metadata": {},
   "outputs": [],
   "source": []
  }
 ],
 "metadata": {
  "kernelspec": {
   "display_name": "py38",
   "language": "python",
   "name": "py38"
  },
  "language_info": {
   "codemirror_mode": {
    "name": "ipython",
    "version": 3
   },
   "file_extension": ".py",
   "mimetype": "text/x-python",
   "name": "python",
   "nbconvert_exporter": "python",
   "pygments_lexer": "ipython3",
   "version": "3.8.18"
  }
 },
 "nbformat": 4,
 "nbformat_minor": 5
}
