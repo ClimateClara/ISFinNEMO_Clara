{
 "cells": [
  {
   "cell_type": "code",
   "execution_count": null,
   "id": "06bf3921-6695-4fdb-98aa-91012ba77ff4",
   "metadata": {},
   "outputs": [],
   "source": [
    "\"\"\"\n",
    "\n",
    "Created on Tue Feb 11 18:03 2025\n",
    "\n",
    "Prepare initial conditions for ice-shelf cavities for PISCES\n",
    "\n",
    "Author: C. Burgard\n",
    "\n",
    "\"\"\""
   ]
  },
  {
   "cell_type": "code",
   "execution_count": 1,
   "id": "b5b90823-96db-4b32-814f-0221a3f54e4d",
   "metadata": {},
   "outputs": [],
   "source": [
    "import xarray as xr\n",
    "import numpy as np\n",
    "from tqdm.notebook import tqdm\n",
    "from cdo import Cdo\n",
    "import cartopy.crs as ccrs\n",
    "import matplotlib.pyplot as plt\n",
    "import pandas as pd\n",
    "import seaborn as sns"
   ]
  },
  {
   "cell_type": "code",
   "execution_count": 2,
   "id": "be2c45e0-ce37-4cda-b891-fd435931950b",
   "metadata": {},
   "outputs": [
    {
     "name": "stderr",
     "output_type": "stream",
     "text": [
      "QStandardPaths: error creating runtime directory '/run/user/2784' (Permission denied)\n"
     ]
    }
   ],
   "source": [
    "%matplotlib qt5"
   ]
  },
  {
   "cell_type": "code",
   "execution_count": 3,
   "id": "d711041d-d0f8-4a64-a5af-19ff686014b2",
   "metadata": {},
   "outputs": [
    {
     "name": "stdout",
     "output_type": "stream",
     "text": [
      "this is CDO version 2.1.0\n"
     ]
    }
   ],
   "source": [
    "cdo = Cdo()\n",
    "print('this is CDO version %s'%(cdo.version()))"
   ]
  },
  {
   "cell_type": "markdown",
   "id": "2c99aa2e-f22b-4d31-b369-1f04d1f26ceb",
   "metadata": {},
   "source": [
    "FUNCTIONS"
   ]
  },
  {
   "cell_type": "code",
   "execution_count": 4,
   "id": "4dd6d529-3332-4361-b790-a8badd8e0314",
   "metadata": {},
   "outputs": [],
   "source": [
    "def weighted_mean(data, dims, weights):\n",
    "    weight_sum = weights.sum(dim=dims) # to avoid dividing by zero\n",
    "    return (data*weights).sum(dim=dims)/weight_sum.where(weight_sum != 0)"
   ]
  },
  {
   "cell_type": "markdown",
   "id": "ebde5ea7-3f51-4437-8933-5bd3d311d2b3",
   "metadata": {},
   "source": [
    "READ IN DATA"
   ]
  },
  {
   "cell_type": "code",
   "execution_count": 5,
   "id": "dca6fff9-ee98-42c2-a9b9-fd803677016c",
   "metadata": {},
   "outputs": [],
   "source": [
    "inputpath_raw = '/data/cburgard/PREPARE_FORCING/PREPARE_PRESCRIBED_MELT/raw/'\n",
    "inputpath_raw2 = '/data/cburgard/PREPARE_FORCING/PREPARE_CAVITY_MASKS/raw/'\n",
    "inputpath_interim = '/data/cburgard/PREPARE_FORCING/PREPARE_PRESCRIBED_MELT/interim/'\n",
    "inputpath_interim2 = '/data/cburgard/PREPARE_FORCING/PREPARE_CAVITY_MASKS/interim/'\n",
    "inputpath_thredds = '/thredds/tgcc/work/burgardc/FORCING_FILES_TO_BE_EXTRAP/'\n",
    "outputpath = '/data/cburgard/PREPARE_FORCING/PREPARE_PRESCRIBED_MELT/interim/PISCES_input/'"
   ]
  },
  {
   "cell_type": "code",
   "execution_count": 6,
   "id": "27b6981c-a25e-4e11-bdc3-bb197cbb7b9a",
   "metadata": {},
   "outputs": [],
   "source": [
    "var_list = ['CO_PISCES_annual', 'COS_PISCES_annual', 'ISP_PISCES_annual', 'N2O_PISCES_annual',\n",
    "             'DMS_PISCES_annual', 'NO3_WOA2013',  'Fer_FEMIP_model_median', 'DOC_PISCES_monthly', \n",
    "             'Si_WOA2013','PO4_WOA2013', 'O2_WOA2013', 'TALK_GLODAPv2_Lauvset2016', \n",
    "             'PiDIC_GLODAPv2_Lauvset2016']             #,'eORCA1.4.2_sali_ref_clim_monthly.nc'"
   ]
  },
  {
   "cell_type": "markdown",
   "id": "af79908a-e307-4171-8873-6b62835bcd69",
   "metadata": {},
   "source": [
    "Define the masks to make the mean"
   ]
  },
  {
   "cell_type": "code",
   "execution_count": 7,
   "id": "d5fc54cb-e3a9-4409-ad70-1aa79e020a26",
   "metadata": {},
   "outputs": [],
   "source": [
    "ds_isfNEMO= xr.open_dataset(inputpath_interim + 'masks_for_eORCA1_prescribedmeltinopencav.nc')\n",
    "domain_cfg = xr.open_dataset(inputpath_raw2 + 'eORCA1.4.3_OpenSeas_OpenAllCav_ModStraights/eORCA1.4.3_OpenSeas_OpenAllCav_ModStraights_domain_cfg.nc')"
   ]
  },
  {
   "cell_type": "code",
   "execution_count": 8,
   "id": "922bd059-38ac-4ff2-ab90-2f80eee6d988",
   "metadata": {},
   "outputs": [],
   "source": [
    "mask_fronts = xr.open_dataset(inputpath_interim2 + 'mask_fronts_eORCA1.nc')"
   ]
  },
  {
   "cell_type": "code",
   "execution_count": null,
   "id": "1e72af9d-fdd0-418b-957d-027ef97adcf5",
   "metadata": {},
   "outputs": [],
   "source": [
    "mask_fronts['mask_front'].plot()"
   ]
  },
  {
   "cell_type": "code",
   "execution_count": 9,
   "id": "089c13cd-c0ba-49fb-982a-a1a0735e025e",
   "metadata": {},
   "outputs": [],
   "source": [
    "file_Justine = xr.open_dataset(inputpath_raw2 + 'Mask_Iceshelf_IMBIE2_v2.nc')"
   ]
  },
  {
   "cell_type": "code",
   "execution_count": 10,
   "id": "863d9018-50cb-481c-a99c-b37a024e558a",
   "metadata": {},
   "outputs": [],
   "source": [
    "isfmask_nn = cdo.remapnn(inputpath_raw + 'griddes_latlon_1deg.txt',input=file_Justine['Iceshelf_extrap'], returnArray='Iceshelf_extrap')\n",
    "isfmask_extrap_1deg = xr.DataArray(data=isfmask_nn, dims=['y','x'])"
   ]
  },
  {
   "cell_type": "code",
   "execution_count": 11,
   "id": "458da90e-bf34-4aaa-8241-a776d8556599",
   "metadata": {},
   "outputs": [],
   "source": [
    "isfmask_nn = cdo.remapnn(inputpath_raw + 'griddes_latlon_1deg.txt',input=file_Justine['Iceshelf'], returnArray='Iceshelf')\n",
    "isfmask_1deg = xr.DataArray(data=isfmask_nn, dims=['y','x'])"
   ]
  },
  {
   "cell_type": "code",
   "execution_count": 12,
   "id": "701ff720-1062-4818-8549-b132dd6f550f",
   "metadata": {},
   "outputs": [],
   "source": [
    "isfmask_nn_from_NEMO_tolatlon = xr.open_dataset(inputpath_interim + 'test_put_NEMO_on_1deg.nc')"
   ]
  },
  {
   "cell_type": "markdown",
   "id": "bb0550db-e79e-4f5e-bdd9-451be6ee406c",
   "metadata": {},
   "source": [
    "Define the previously closed regions"
   ]
  },
  {
   "cell_type": "code",
   "execution_count": 13,
   "id": "2ab11566-beb8-4241-8f59-80f50044d55c",
   "metadata": {},
   "outputs": [],
   "source": [
    "landsea_mask = pd.read_csv('/home/cburgard/SCRIPTS/ISFinNEMO_Clara/WOA13_mask.csv',delimiter=',',header=1)"
   ]
  },
  {
   "cell_type": "code",
   "execution_count": 14,
   "id": "eca14c35-541c-4e04-bb6f-877698c5dea4",
   "metadata": {},
   "outputs": [],
   "source": [
    "landsea_mask_xr = xr.DataArray(data=np.reshape(landsea_mask['Bottom_Standard_Level'], (180,360)), dims=['y','x']).assign_coords({'x': np.concatenate([np.arange(180,360),np.arange(0,180)]), 'y': np.arange(0,180)})#.assign_coords({'x': np.concatenate([np.arange(0.5,179.6),np.arange(-179.5,-0.4)]), 'y': np.arange(-89.5,89.6)})#.assign_coords({'x': np.arange(-179.5,179.6), 'lat': np.arange(-89.5,89.6)})\n",
    "ls_mask_01 = landsea_mask_xr.sortby(landsea_mask_xr.x) == 1"
   ]
  },
  {
   "cell_type": "markdown",
   "id": "031d26ba-4803-46cd-968a-8c7aed05ef5c",
   "metadata": {},
   "source": [
    "Identify the regions in front of the ice shelves I want to open and average T and S"
   ]
  },
  {
   "cell_type": "code",
   "execution_count": 15,
   "id": "0c897f4e-5371-4a1f-a09b-6f421b76831e",
   "metadata": {},
   "outputs": [],
   "source": [
    "mask_0_1_2 = ls_mask_01.copy()\n",
    "mask_0_1_2 = mask_0_1_2.where(mask_0_1_2 != 1,3)\n",
    "mask_0_1_2 = mask_0_1_2.where(mask_0_1_2 != 0,1)"
   ]
  },
  {
   "cell_type": "code",
   "execution_count": 16,
   "id": "3d27bbcc-5652-4d4a-a37a-63ff060dad19",
   "metadata": {},
   "outputs": [],
   "source": [
    "mask_front0 = mask_0_1_2.where(isfmask_1deg > 0,1).copy()"
   ]
  },
  {
   "cell_type": "code",
   "execution_count": null,
   "id": "c118cf48-c533-469a-9c23-9f6afcbaad03",
   "metadata": {},
   "outputs": [],
   "source": [
    "mask_front.plot()"
   ]
  },
  {
   "cell_type": "code",
   "execution_count": null,
   "id": "1b54d136-cb5e-49ea-8a8f-e1c8c73b002d",
   "metadata": {},
   "outputs": [],
   "source": [
    "isfmask_1deg.plot()"
   ]
  },
  {
   "cell_type": "code",
   "execution_count": null,
   "id": "11368e55-ed3c-4058-9867-85be81b7d8a2",
   "metadata": {},
   "outputs": [],
   "source": [
    "(mask_front * 0 + isfmask_extrap_1deg).plot()"
   ]
  },
  {
   "cell_type": "code",
   "execution_count": null,
   "id": "ec58a085-df58-4886-99ed-6d46940812e1",
   "metadata": {},
   "outputs": [],
   "source": [
    "ls_mask_01.where(mask_front == 5).plot()"
   ]
  },
  {
   "cell_type": "code",
   "execution_count": 17,
   "id": "2f8776ba-89f0-46cf-9a38-69b4849b24a5",
   "metadata": {},
   "outputs": [],
   "source": [
    "mask_front = mask_front0.copy()\n",
    "mask_front = mask_front.where((mask_front0.roll(x=-1)-mask_front0)!=2,5)\n",
    "mask_front = mask_front.where((mask_front0.roll(x=1)-mask_front0)!=2,5)\n",
    "mask_front = mask_front.where((mask_front0.roll(y=-1)-mask_front0)!=2,5)\n",
    "mask_front = mask_front.where((mask_front0.roll(y=1)-mask_front0)!=2,5)\n",
    "# cut out all front points\n",
    "mask_front = mask_front.where(mask_front==5)\n",
    "\n",
    "# set the ice shelf number\n",
    "mask_front = mask_front * 0 + isfmask_extrap_1deg"
   ]
  },
  {
   "cell_type": "markdown",
   "id": "54d27b9b-0430-4b39-a5b7-c05a9f71b474",
   "metadata": {},
   "source": [
    "MAKE THE VERTICAL MEAN PROFILES"
   ]
  },
  {
   "cell_type": "code",
   "execution_count": 18,
   "id": "932c7241-7d34-43e4-b2a9-038dc3405f6e",
   "metadata": {},
   "outputs": [],
   "source": [
    "cell_area = xr.open_dataset(inputpath_interim + 'gridarea_1deg.nc')"
   ]
  },
  {
   "cell_type": "code",
   "execution_count": 19,
   "id": "d674fa81-1a21-4d38-aea2-2b9976bd8052",
   "metadata": {},
   "outputs": [],
   "source": [
    "cell_area = cell_area.rename({'lat':'y','lon':'x'}).assign_coords({'x': np.arange(0,360), 'y': np.arange(0,180)})['cell_area']"
   ]
  },
  {
   "cell_type": "code",
   "execution_count": 20,
   "id": "8c328641-b7aa-4631-9d14-5a096625f83d",
   "metadata": {},
   "outputs": [],
   "source": [
    "var_list = ['CO_PISCES_annual', 'COS_PISCES_annual', 'ISP_PISCES_annual', 'N2O_PISCES_annual',\n",
    "             'DMS_PISCES_annual', 'NO3_WOA2013',  'Fer_FEMIP_model_median', 'DOC_PISCES_monthly', \n",
    "             'Si_WOA2013','PO4_WOA2013', 'O2_WOA2013', 'TALK_GLODAPv2_Lauvset2016', \n",
    "             'PiDIC_GLODAPv2_Lauvset2016']             #,'eORCA1.4.2_sali_ref_clim_monthly.nc'\n",
    "\n",
    "\n"
   ]
  },
  {
   "cell_type": "code",
   "execution_count": 98,
   "id": "2714e53d-2b30-4e53-a75f-098ab1a60147",
   "metadata": {},
   "outputs": [
    {
     "name": "stdout",
     "output_type": "stream",
     "text": [
      "CO_PISCES_annual\n",
      "Computing the profiles\n"
     ]
    },
    {
     "data": {
      "application/vnd.jupyter.widget-view+json": {
       "model_id": "b045fd6f33394217a298db517c8a4558",
       "version_major": 2,
       "version_minor": 0
      },
      "text/plain": [
       "  0%|          | 0/133 [00:00<?, ?it/s]"
      ]
     },
     "metadata": {},
     "output_type": "display_data"
    },
    {
     "name": "stdout",
     "output_type": "stream",
     "text": [
      "Propagating the profiles\n"
     ]
    },
    {
     "data": {
      "application/vnd.jupyter.widget-view+json": {
       "model_id": "65179181de6c4b5bbd9c3571d83a2b5f",
       "version_major": 2,
       "version_minor": 0
      },
      "text/plain": [
       "  0%|          | 0/71 [00:00<?, ?it/s]"
      ]
     },
     "metadata": {},
     "output_type": "display_data"
    },
    {
     "name": "stdout",
     "output_type": "stream",
     "text": [
      "Write to netcdf\n",
      "COS_PISCES_annual\n",
      "Computing the profiles\n"
     ]
    },
    {
     "data": {
      "application/vnd.jupyter.widget-view+json": {
       "model_id": "dbf2ff35722045f5a9368758557aba4f",
       "version_major": 2,
       "version_minor": 0
      },
      "text/plain": [
       "  0%|          | 0/133 [00:00<?, ?it/s]"
      ]
     },
     "metadata": {},
     "output_type": "display_data"
    },
    {
     "name": "stdout",
     "output_type": "stream",
     "text": [
      "Propagating the profiles\n"
     ]
    },
    {
     "data": {
      "application/vnd.jupyter.widget-view+json": {
       "model_id": "12a756effc3145d793e150e99e1b08b5",
       "version_major": 2,
       "version_minor": 0
      },
      "text/plain": [
       "  0%|          | 0/71 [00:00<?, ?it/s]"
      ]
     },
     "metadata": {},
     "output_type": "display_data"
    },
    {
     "name": "stdout",
     "output_type": "stream",
     "text": [
      "Write to netcdf\n",
      "ISP_PISCES_annual\n",
      "Computing the profiles\n"
     ]
    },
    {
     "data": {
      "application/vnd.jupyter.widget-view+json": {
       "model_id": "d15ff00aadae47db8d13370c0a46dab9",
       "version_major": 2,
       "version_minor": 0
      },
      "text/plain": [
       "  0%|          | 0/133 [00:00<?, ?it/s]"
      ]
     },
     "metadata": {},
     "output_type": "display_data"
    },
    {
     "name": "stdout",
     "output_type": "stream",
     "text": [
      "Propagating the profiles\n"
     ]
    },
    {
     "data": {
      "application/vnd.jupyter.widget-view+json": {
       "model_id": "b0e3f29cbcb0415fb66a63a3294a9f2c",
       "version_major": 2,
       "version_minor": 0
      },
      "text/plain": [
       "  0%|          | 0/71 [00:00<?, ?it/s]"
      ]
     },
     "metadata": {},
     "output_type": "display_data"
    },
    {
     "name": "stdout",
     "output_type": "stream",
     "text": [
      "Write to netcdf\n",
      "N2O_PISCES_annual\n",
      "Computing the profiles\n"
     ]
    },
    {
     "data": {
      "application/vnd.jupyter.widget-view+json": {
       "model_id": "2e7cab8b8efc455d96cc5eb48c6ad2f8",
       "version_major": 2,
       "version_minor": 0
      },
      "text/plain": [
       "  0%|          | 0/133 [00:00<?, ?it/s]"
      ]
     },
     "metadata": {},
     "output_type": "display_data"
    },
    {
     "name": "stdout",
     "output_type": "stream",
     "text": [
      "Propagating the profiles\n"
     ]
    },
    {
     "data": {
      "application/vnd.jupyter.widget-view+json": {
       "model_id": "a44b3a3b7fa544f0a827b001506493fb",
       "version_major": 2,
       "version_minor": 0
      },
      "text/plain": [
       "  0%|          | 0/71 [00:00<?, ?it/s]"
      ]
     },
     "metadata": {},
     "output_type": "display_data"
    },
    {
     "name": "stdout",
     "output_type": "stream",
     "text": [
      "Write to netcdf\n",
      "DMS_PISCES_annual\n",
      "Computing the profiles\n"
     ]
    },
    {
     "data": {
      "application/vnd.jupyter.widget-view+json": {
       "model_id": "5b5ac434f4cf48cd8275e2b559d40119",
       "version_major": 2,
       "version_minor": 0
      },
      "text/plain": [
       "  0%|          | 0/133 [00:00<?, ?it/s]"
      ]
     },
     "metadata": {},
     "output_type": "display_data"
    },
    {
     "name": "stdout",
     "output_type": "stream",
     "text": [
      "Propagating the profiles\n"
     ]
    },
    {
     "data": {
      "application/vnd.jupyter.widget-view+json": {
       "model_id": "2199fe582b3842c88dd31c9b76a30177",
       "version_major": 2,
       "version_minor": 0
      },
      "text/plain": [
       "  0%|          | 0/71 [00:00<?, ?it/s]"
      ]
     },
     "metadata": {},
     "output_type": "display_data"
    },
    {
     "name": "stdout",
     "output_type": "stream",
     "text": [
      "Write to netcdf\n",
      "NO3_WOA2013\n",
      "Computing the profiles\n"
     ]
    },
    {
     "data": {
      "application/vnd.jupyter.widget-view+json": {
       "model_id": "59e1334453a348c8a86796edff156b29",
       "version_major": 2,
       "version_minor": 0
      },
      "text/plain": [
       "  0%|          | 0/133 [00:00<?, ?it/s]"
      ]
     },
     "metadata": {},
     "output_type": "display_data"
    },
    {
     "name": "stdout",
     "output_type": "stream",
     "text": [
      "Propagating the profiles\n"
     ]
    },
    {
     "data": {
      "application/vnd.jupyter.widget-view+json": {
       "model_id": "32de2d113bd745caad1a933e731acd27",
       "version_major": 2,
       "version_minor": 0
      },
      "text/plain": [
       "  0%|          | 0/71 [00:00<?, ?it/s]"
      ]
     },
     "metadata": {},
     "output_type": "display_data"
    },
    {
     "name": "stdout",
     "output_type": "stream",
     "text": [
      "Write to netcdf\n",
      "Fer_FEMIP_model_median\n",
      "Computing the profiles\n"
     ]
    },
    {
     "data": {
      "application/vnd.jupyter.widget-view+json": {
       "model_id": "c95388097d3046678e1032e9b0c01d2c",
       "version_major": 2,
       "version_minor": 0
      },
      "text/plain": [
       "  0%|          | 0/133 [00:00<?, ?it/s]"
      ]
     },
     "metadata": {},
     "output_type": "display_data"
    },
    {
     "name": "stdout",
     "output_type": "stream",
     "text": [
      "Propagating the profiles\n"
     ]
    },
    {
     "data": {
      "application/vnd.jupyter.widget-view+json": {
       "model_id": "47ec077ed16749218fdfed0cea44d254",
       "version_major": 2,
       "version_minor": 0
      },
      "text/plain": [
       "  0%|          | 0/71 [00:00<?, ?it/s]"
      ]
     },
     "metadata": {},
     "output_type": "display_data"
    },
    {
     "name": "stdout",
     "output_type": "stream",
     "text": [
      "Write to netcdf\n",
      "DOC_PISCES_monthly\n",
      "Computing the profiles\n"
     ]
    },
    {
     "data": {
      "application/vnd.jupyter.widget-view+json": {
       "model_id": "daef57ac6b1d46cd8cfb8911dc4aaef7",
       "version_major": 2,
       "version_minor": 0
      },
      "text/plain": [
       "  0%|          | 0/133 [00:00<?, ?it/s]"
      ]
     },
     "metadata": {},
     "output_type": "display_data"
    },
    {
     "name": "stdout",
     "output_type": "stream",
     "text": [
      "Propagating the profiles\n"
     ]
    },
    {
     "data": {
      "application/vnd.jupyter.widget-view+json": {
       "model_id": "4c835827879441faa042221c331dd66f",
       "version_major": 2,
       "version_minor": 0
      },
      "text/plain": [
       "  0%|          | 0/71 [00:00<?, ?it/s]"
      ]
     },
     "metadata": {},
     "output_type": "display_data"
    },
    {
     "name": "stdout",
     "output_type": "stream",
     "text": [
      "Write to netcdf\n",
      "Si_WOA2013\n",
      "Computing the profiles\n"
     ]
    },
    {
     "data": {
      "application/vnd.jupyter.widget-view+json": {
       "model_id": "9a0a4a8f19e64ed68baffe06a70b1e54",
       "version_major": 2,
       "version_minor": 0
      },
      "text/plain": [
       "  0%|          | 0/133 [00:00<?, ?it/s]"
      ]
     },
     "metadata": {},
     "output_type": "display_data"
    },
    {
     "name": "stdout",
     "output_type": "stream",
     "text": [
      "Propagating the profiles\n"
     ]
    },
    {
     "data": {
      "application/vnd.jupyter.widget-view+json": {
       "model_id": "87ec7ae0d8dc4ac99742f01bd121567e",
       "version_major": 2,
       "version_minor": 0
      },
      "text/plain": [
       "  0%|          | 0/71 [00:00<?, ?it/s]"
      ]
     },
     "metadata": {},
     "output_type": "display_data"
    },
    {
     "name": "stdout",
     "output_type": "stream",
     "text": [
      "Write to netcdf\n",
      "PO4_WOA2013\n",
      "Computing the profiles\n"
     ]
    },
    {
     "data": {
      "application/vnd.jupyter.widget-view+json": {
       "model_id": "7c35e6bc7078495c9dd8bea51c60db78",
       "version_major": 2,
       "version_minor": 0
      },
      "text/plain": [
       "  0%|          | 0/133 [00:00<?, ?it/s]"
      ]
     },
     "metadata": {},
     "output_type": "display_data"
    },
    {
     "name": "stdout",
     "output_type": "stream",
     "text": [
      "Propagating the profiles\n"
     ]
    },
    {
     "data": {
      "application/vnd.jupyter.widget-view+json": {
       "model_id": "9f7efbf11fd24aca9b4575f4b41287b5",
       "version_major": 2,
       "version_minor": 0
      },
      "text/plain": [
       "  0%|          | 0/71 [00:00<?, ?it/s]"
      ]
     },
     "metadata": {},
     "output_type": "display_data"
    },
    {
     "name": "stdout",
     "output_type": "stream",
     "text": [
      "Write to netcdf\n",
      "O2_WOA2013\n",
      "Computing the profiles\n"
     ]
    },
    {
     "data": {
      "application/vnd.jupyter.widget-view+json": {
       "model_id": "d1b686e42a7a48e8b3e71f9f2d9f42ed",
       "version_major": 2,
       "version_minor": 0
      },
      "text/plain": [
       "  0%|          | 0/133 [00:00<?, ?it/s]"
      ]
     },
     "metadata": {},
     "output_type": "display_data"
    },
    {
     "name": "stdout",
     "output_type": "stream",
     "text": [
      "Propagating the profiles\n"
     ]
    },
    {
     "data": {
      "application/vnd.jupyter.widget-view+json": {
       "model_id": "01e6cea4b5f84f5e89e1e90e912ac5c5",
       "version_major": 2,
       "version_minor": 0
      },
      "text/plain": [
       "  0%|          | 0/71 [00:00<?, ?it/s]"
      ]
     },
     "metadata": {},
     "output_type": "display_data"
    },
    {
     "name": "stdout",
     "output_type": "stream",
     "text": [
      "Write to netcdf\n",
      "TALK_GLODAPv2_Lauvset2016\n",
      "Computing the profiles\n"
     ]
    },
    {
     "data": {
      "application/vnd.jupyter.widget-view+json": {
       "model_id": "5a099f3c986b42529eda2cd15bf8b224",
       "version_major": 2,
       "version_minor": 0
      },
      "text/plain": [
       "  0%|          | 0/133 [00:00<?, ?it/s]"
      ]
     },
     "metadata": {},
     "output_type": "display_data"
    },
    {
     "name": "stdout",
     "output_type": "stream",
     "text": [
      "Propagating the profiles\n"
     ]
    },
    {
     "data": {
      "application/vnd.jupyter.widget-view+json": {
       "model_id": "cd1a0fe2838e467a9f4be4d37f3909a8",
       "version_major": 2,
       "version_minor": 0
      },
      "text/plain": [
       "  0%|          | 0/71 [00:00<?, ?it/s]"
      ]
     },
     "metadata": {},
     "output_type": "display_data"
    },
    {
     "name": "stdout",
     "output_type": "stream",
     "text": [
      "Write to netcdf\n",
      "PiDIC_GLODAPv2_Lauvset2016\n",
      "Computing the profiles\n"
     ]
    },
    {
     "data": {
      "application/vnd.jupyter.widget-view+json": {
       "model_id": "f7a3ad53ee154dfa807769d73bee0d84",
       "version_major": 2,
       "version_minor": 0
      },
      "text/plain": [
       "  0%|          | 0/133 [00:00<?, ?it/s]"
      ]
     },
     "metadata": {},
     "output_type": "display_data"
    },
    {
     "name": "stdout",
     "output_type": "stream",
     "text": [
      "Propagating the profiles\n"
     ]
    },
    {
     "data": {
      "application/vnd.jupyter.widget-view+json": {
       "model_id": "f83184f621484e52a3403feb5cd3632e",
       "version_major": 2,
       "version_minor": 0
      },
      "text/plain": [
       "  0%|          | 0/71 [00:00<?, ?it/s]"
      ]
     },
     "metadata": {},
     "output_type": "display_data"
    },
    {
     "name": "stdout",
     "output_type": "stream",
     "text": [
      "Write to netcdf\n"
     ]
    }
   ],
   "source": [
    "for vv in var_list:\n",
    "    print(vv)\n",
    "    data_init_0 = xr.open_dataset(inputpath_thredds + vv+'_r360x180xl75.nc')[vv.split('_')[0]].load()\n",
    "    \n",
    "    mask_front_latlon = mask_front.rename({'x': 'lon', 'y': 'lat'})\n",
    "    cell_area_latlon = cell_area.rename({'x': 'lon', 'y': 'lat'})\n",
    "    mask_front_latlon = mask_front_latlon.assign_coords({'lat': data_init_0.lat.values, 'lon': np.concatenate([np.arange(180,360),np.arange(0,180)])})\n",
    "    cell_area_latlon = cell_area_latlon.assign_coords({'lat': data_init_0.lat.values, 'lon': np.concatenate([np.arange(180,360),np.arange(0,180)])})\n",
    "    \n",
    "    vv_mean_list = []\n",
    "    \n",
    "    if vv in ['NO3_WOA2013','Fer_FEMIP_model_median','Si_WOA2013','PO4_WOA2013','O2_WOA2013','TALK_GLODAPv2_Lauvset2016','PiDIC_GLODAPv2_Lauvset2016']:\n",
    "        mask_front_latlon['lon'] = mask_front_latlon['lon'] + 0.5\n",
    "        cell_area_latlon['lon'] = cell_area_latlon['lon'] + 0.5\n",
    "    \n",
    "    print('Computing the profiles')\n",
    "    for ID in tqdm(file_Justine.ID):\n",
    "        if ((mask_front_latlon == ID).sum() > 1) and (ID != 67) and (ID != 125):\n",
    "            if ID == 66:\n",
    "                front_mask_kisf = (mask_front_latlon == 66) | (mask_front_latlon == 67)\n",
    "            elif ID == 124:\n",
    "                front_mask_kisf = (mask_front_latlon == 124) | (mask_front_latlon == 125)\n",
    "            else:\n",
    "                front_mask_kisf = (mask_front_latlon == ID)\n",
    "                \n",
    "            vv_mean = weighted_mean(data_init_0.where(front_mask_kisf), ['lat','lon'], cell_area_latlon.where(front_mask_kisf))\n",
    "            \n",
    "            vv_mean_list.append(vv_mean.assign_coords({'ID': ID}))\n",
    "    \n",
    "    vv_mean_all = xr.concat(vv_mean_list, dim='ID').rename(vv)\n",
    "    \n",
    "    print('Propagating the profiles')\n",
    "    # PROPAGATE THEM\n",
    "    new_data = data_init_0.copy()\n",
    "    \n",
    "    isfmask_1deg_latlon = isfmask_1deg.rename({'x': 'lon', 'y': 'lat'})\n",
    "    isfmask_1deg_latlon =isfmask_1deg_latlon.assign_coords({'lat': data_init_0.lat.values, 'lon': np.concatenate([np.arange(180,360),np.arange(0,180)]).astype(float)})\n",
    "    isfmask_1deg_latlon =isfmask_1deg_latlon.sortby('lon')\n",
    "    if vv in ['NO3_WOA2013','Fer_FEMIP_model_median','Si_WOA2013','PO4_WOA2013','O2_WOA2013','TALK_GLODAPv2_Lauvset2016','PiDIC_GLODAPv2_Lauvset2016']:\n",
    "        isfmask_1deg_latlon['lon'] = isfmask_1deg_latlon['lon'] + 0.5\n",
    "    \n",
    "    for ID in tqdm(vv_mean_all.ID):\n",
    "        new_data = new_data.where(isfmask_1deg_latlon != ID, vv_mean_all.sel(ID=ID))\n",
    "\n",
    "    new_data = new_data.where(isfmask_1deg_latlon != 67, vv_mean_all.sel(ID=66).drop('ID'))\n",
    "    new_data = new_data.where(isfmask_1deg_latlon != 125, vv_mean_all.sel(ID=124).drop('ID'))\n",
    "    new_data['lon'] = data_init_0['lon']\n",
    "    new_data['lat'] = data_init_0['lat']\n",
    "    #if vv in ['CO_PISCES_annual', 'COS_PISCES_annual', 'ISP_PISCES_annual']:\n",
    "    #    new_data['deptht_bnds'] = data_init_0['deptht_bnds']\n",
    "    #    new_data['time_bnds'] = data_init_0['time_bnds']\n",
    "    if vv in ['NO3_WOA2013','Fer_FEMIP_model_median','DOC_PISCES_monthly','Si_WOA2013','PO4_WOA2013','O2_WOA2013','TALK_GLODAPv2_Lauvset2016','PiDIC_GLODAPv2_Lauvset2016']:\n",
    "        new_data['depth'] = data_init_0['depth']\n",
    "    else:\n",
    "        new_data['deptht'] = data_init_0['deptht']\n",
    "\n",
    "    print('Write to netcdf')\n",
    "    if 'time_counter' in new_data.dims:\n",
    "        new_data.drop_vars('ID').to_netcdf(outputpath + vv + '_r360x180xl75_withisfcav.nc', unlimited_dims=['time_counter'])\n",
    "    else:\n",
    "        new_data.drop_vars('ID').to_netcdf(outputpath + vv + '_r360x180xl75_withisfcav.nc', unlimited_dims=['time'])\n",
    "    \n",
    "    \n"
   ]
  },
  {
   "cell_type": "code",
   "execution_count": 127,
   "id": "97cd1eca-497c-497a-b3d3-2a5b54728c2c",
   "metadata": {},
   "outputs": [],
   "source": [
    "file_test = xr.open_dataset(outputpath + 'PiDIC_GLODAPv2_Lauvset2016_r360x180xl75_withisfcav.nc')"
   ]
  },
  {
   "cell_type": "code",
   "execution_count": 128,
   "id": "fccc7031-b97d-4745-af49-34236bea0df4",
   "metadata": {},
   "outputs": [
    {
     "data": {
      "text/plain": [
       "<matplotlib.collections.QuadMesh at 0x153d0604a940>"
      ]
     },
     "execution_count": 128,
     "metadata": {},
     "output_type": "execute_result"
    }
   ],
   "source": [
    "file_test['PiDIC'].isel(depth=0).plot()"
   ]
  },
  {
   "cell_type": "code",
   "execution_count": null,
   "id": "0d47ed18-964b-4363-9848-1f024505ffe2",
   "metadata": {},
   "outputs": [],
   "source": [
    "# Not easy to evaluate so I am going to trust my method"
   ]
  },
  {
   "cell_type": "code",
   "execution_count": 8,
   "id": "afbd3787-0394-42bd-8c0a-9541bb9d8dce",
   "metadata": {},
   "outputs": [
    {
     "name": "stderr",
     "output_type": "stream",
     "text": [
      "libGL error: No matching fbConfigs or visuals found\n",
      "libGL error: failed to load driver: swrast\n"
     ]
    }
   ],
   "source": [
    "depth_of_int = 0\n",
    "for vv in var_list:\n",
    "    data_to_plot = xr.open_dataset(outputpath + vv + '_r360x180xl75_withisfcav.nc')[vv.split('_')[0]]\n",
    "    plt.figure()\n",
    "    if ('time_counter' in data_to_plot.dims):\n",
    "        if (vv in['NO3_WOA2013','Fer_FEMIP_model_median','DOC_PISCES_monthly','Si_WOA2013','PO4_WOA2013','O2_WOA2013','TALK_GLODAPv2_Lauvset2016','PiDIC_GLODAPv2_Lauvset2016']):\n",
    "            data_to_plot.isel(time_counter=0,depth=depth_of_int).plot()\n",
    "        else:\n",
    "            data_to_plot.isel(time_counter=0,deptht=depth_of_int).plot()\n",
    "    else:\n",
    "        if (vv in['NO3_WOA2013','Fer_FEMIP_model_median','DOC_PISCES_monthly','Si_WOA2013','PO4_WOA2013','O2_WOA2013','TALK_GLODAPv2_Lauvset2016','PiDIC_GLODAPv2_Lauvset2016']):\n",
    "            data_to_plot.isel(depth=depth_of_int).plot()\n",
    "        else:\n",
    "            data_to_plot.isel(deptht=depth_of_int).plot()\n",
    "    plt.title(vv)\n",
    "        "
   ]
  },
  {
   "cell_type": "code",
   "execution_count": 13,
   "id": "e7c27736-5191-4dd5-a091-51c30320be49",
   "metadata": {},
   "outputs": [],
   "source": [
    "for vv in var_list:\n",
    "    data_to_plot = xr.open_dataset(outputpath + vv + '_r360x180xl75_withisfcav.nc')[vv.split('_')[0]]\n",
    "    plt.figure()\n",
    "    if ('time_counter' in data_to_plot.dims):\n",
    "        if (vv in['NO3_WOA2013','Fer_FEMIP_model_median','DOC_PISCES_monthly','Si_WOA2013','PO4_WOA2013','O2_WOA2013','TALK_GLODAPv2_Lauvset2016','PiDIC_GLODAPv2_Lauvset2016']):\n",
    "            data_to_plot.isel(time_counter=0).max('depth').plot()\n",
    "        else:\n",
    "            data_to_plot.isel(time_counter=0).max('deptht').plot()\n",
    "    else:\n",
    "        if (vv in['NO3_WOA2013','Fer_FEMIP_model_median','DOC_PISCES_monthly','Si_WOA2013','PO4_WOA2013','O2_WOA2013','TALK_GLODAPv2_Lauvset2016','PiDIC_GLODAPv2_Lauvset2016']):\n",
    "            data_to_plot.max('depth').plot()\n",
    "        else:\n",
    "            data_to_plot.max('deptht').plot()\n",
    "    plt.title(vv)\n",
    "        "
   ]
  },
  {
   "cell_type": "code",
   "execution_count": 11,
   "id": "a0231cbd-e48b-4863-b594-dd1f24d713c1",
   "metadata": {},
   "outputs": [],
   "source": [
    "plt.close('all')"
   ]
  },
  {
   "cell_type": "code",
   "execution_count": null,
   "id": "58f455ed-d5fa-412c-b9ee-38d96444edca",
   "metadata": {},
   "outputs": [],
   "source": [
    "# look at the zdfiwm_forcing and set cavities to background values as suggested by Casimir"
   ]
  },
  {
   "cell_type": "code",
   "execution_count": 19,
   "id": "4b1a4afc-7504-43b7-8d0f-ee9759ba1a29",
   "metadata": {},
   "outputs": [],
   "source": [
    "zdf_file0 = xr.open_dataset(inputpath_raw + 'zdfiwm_forcing_orca1_isf.nc')\n",
    "zdf_file = zdf_file0.assign_coords({'nav_lon': zdf_file0.nav_lon, 'nav_lat': zdf_file0.nav_lat})"
   ]
  },
  {
   "cell_type": "code",
   "execution_count": 13,
   "id": "bf4468c3-f58a-4e88-99e6-72c6a4687c29",
   "metadata": {},
   "outputs": [],
   "source": [
    "mask_isf = np.isfinite(ds_isfNEMO['mask_isf'])\n",
    "mask_isf = mask_isf.rename({'lat': 'nav_lat', 'lon':'nav_lon'})"
   ]
  },
  {
   "cell_type": "code",
   "execution_count": 14,
   "id": "d0951c18-fc88-4d14-b0bf-3e9e8ca0a08c",
   "metadata": {},
   "outputs": [],
   "source": [
    "mask_isf['nav_lat'] = zdf_file['nav_lat']\n",
    "mask_isf['nav_lon'] = zdf_file['nav_lon']"
   ]
  },
  {
   "cell_type": "code",
   "execution_count": 15,
   "id": "a5837f7a-e8db-4518-aac4-b91237d0968f",
   "metadata": {},
   "outputs": [],
   "source": [
    "zdf_isf = zdf_file.where(mask_isf)"
   ]
  },
  {
   "cell_type": "code",
   "execution_count": 22,
   "id": "3ba62dd7-80c4-495a-b380-c11799afd41c",
   "metadata": {},
   "outputs": [],
   "source": [
    "corrected_zdf_file = zdf_file0.copy()\n",
    "for vvar in ['power_bot','power_cri','power_nsq','power_sho','scale_cri','scale_bot']:\n",
    "    if vvar in ['power_bot','power_cri','power_sho']:\n",
    "        corrected_zdf_file[vvar] = zdf_file[vvar].where(~mask_isf, 1e-10).drop('nav_lat').drop('nav_lon')\n",
    "    elif vvar in ['power_nsq']:\n",
    "        corrected_zdf_file[vvar] = zdf_file[vvar].where(~mask_isf, 1e-5).drop('nav_lat').drop('nav_lon')\n",
    "    elif vvar in ['scale_cri','scale_bot']:\n",
    "        corrected_zdf_file[vvar] = zdf_file[vvar].where(~mask_isf, 10).drop('nav_lat').drop('nav_lon')"
   ]
  },
  {
   "cell_type": "code",
   "execution_count": 25,
   "id": "5d0ab9ea-930d-4c3b-8005-21bdc8fd3bcb",
   "metadata": {},
   "outputs": [],
   "source": [
    "corrected_zdf_file.to_netcdf(outputpath + 'zdfiwm_forcing_withisfcav.nc')"
   ]
  },
  {
   "cell_type": "code",
   "execution_count": 24,
   "id": "9b81a4aa-0c6a-4da6-870f-bc5f49b1be42",
   "metadata": {},
   "outputs": [
    {
     "data": {
      "text/html": [
       "<div><svg style=\"position: absolute; width: 0; height: 0; overflow: hidden\">\n",
       "<defs>\n",
       "<symbol id=\"icon-database\" viewBox=\"0 0 32 32\">\n",
       "<path d=\"M16 0c-8.837 0-16 2.239-16 5v4c0 2.761 7.163 5 16 5s16-2.239 16-5v-4c0-2.761-7.163-5-16-5z\"></path>\n",
       "<path d=\"M16 17c-8.837 0-16-2.239-16-5v6c0 2.761 7.163 5 16 5s16-2.239 16-5v-6c0 2.761-7.163 5-16 5z\"></path>\n",
       "<path d=\"M16 26c-8.837 0-16-2.239-16-5v6c0 2.761 7.163 5 16 5s16-2.239 16-5v-6c0 2.761-7.163 5-16 5z\"></path>\n",
       "</symbol>\n",
       "<symbol id=\"icon-file-text2\" viewBox=\"0 0 32 32\">\n",
       "<path d=\"M28.681 7.159c-0.694-0.947-1.662-2.053-2.724-3.116s-2.169-2.030-3.116-2.724c-1.612-1.182-2.393-1.319-2.841-1.319h-15.5c-1.378 0-2.5 1.121-2.5 2.5v27c0 1.378 1.122 2.5 2.5 2.5h23c1.378 0 2.5-1.122 2.5-2.5v-19.5c0-0.448-0.137-1.23-1.319-2.841zM24.543 5.457c0.959 0.959 1.712 1.825 2.268 2.543h-4.811v-4.811c0.718 0.556 1.584 1.309 2.543 2.268zM28 29.5c0 0.271-0.229 0.5-0.5 0.5h-23c-0.271 0-0.5-0.229-0.5-0.5v-27c0-0.271 0.229-0.5 0.5-0.5 0 0 15.499-0 15.5 0v7c0 0.552 0.448 1 1 1h7v19.5z\"></path>\n",
       "<path d=\"M23 26h-14c-0.552 0-1-0.448-1-1s0.448-1 1-1h14c0.552 0 1 0.448 1 1s-0.448 1-1 1z\"></path>\n",
       "<path d=\"M23 22h-14c-0.552 0-1-0.448-1-1s0.448-1 1-1h14c0.552 0 1 0.448 1 1s-0.448 1-1 1z\"></path>\n",
       "<path d=\"M23 18h-14c-0.552 0-1-0.448-1-1s0.448-1 1-1h14c0.552 0 1 0.448 1 1s-0.448 1-1 1z\"></path>\n",
       "</symbol>\n",
       "</defs>\n",
       "</svg>\n",
       "<style>/* CSS stylesheet for displaying xarray objects in jupyterlab.\n",
       " *\n",
       " */\n",
       "\n",
       ":root {\n",
       "  --xr-font-color0: var(--jp-content-font-color0, rgba(0, 0, 0, 1));\n",
       "  --xr-font-color2: var(--jp-content-font-color2, rgba(0, 0, 0, 0.54));\n",
       "  --xr-font-color3: var(--jp-content-font-color3, rgba(0, 0, 0, 0.38));\n",
       "  --xr-border-color: var(--jp-border-color2, #e0e0e0);\n",
       "  --xr-disabled-color: var(--jp-layout-color3, #bdbdbd);\n",
       "  --xr-background-color: var(--jp-layout-color0, white);\n",
       "  --xr-background-color-row-even: var(--jp-layout-color1, white);\n",
       "  --xr-background-color-row-odd: var(--jp-layout-color2, #eeeeee);\n",
       "}\n",
       "\n",
       "html[theme=dark],\n",
       "body[data-theme=dark],\n",
       "body.vscode-dark {\n",
       "  --xr-font-color0: rgba(255, 255, 255, 1);\n",
       "  --xr-font-color2: rgba(255, 255, 255, 0.54);\n",
       "  --xr-font-color3: rgba(255, 255, 255, 0.38);\n",
       "  --xr-border-color: #1F1F1F;\n",
       "  --xr-disabled-color: #515151;\n",
       "  --xr-background-color: #111111;\n",
       "  --xr-background-color-row-even: #111111;\n",
       "  --xr-background-color-row-odd: #313131;\n",
       "}\n",
       "\n",
       ".xr-wrap {\n",
       "  display: block !important;\n",
       "  min-width: 300px;\n",
       "  max-width: 700px;\n",
       "}\n",
       "\n",
       ".xr-text-repr-fallback {\n",
       "  /* fallback to plain text repr when CSS is not injected (untrusted notebook) */\n",
       "  display: none;\n",
       "}\n",
       "\n",
       ".xr-header {\n",
       "  padding-top: 6px;\n",
       "  padding-bottom: 6px;\n",
       "  margin-bottom: 4px;\n",
       "  border-bottom: solid 1px var(--xr-border-color);\n",
       "}\n",
       "\n",
       ".xr-header > div,\n",
       ".xr-header > ul {\n",
       "  display: inline;\n",
       "  margin-top: 0;\n",
       "  margin-bottom: 0;\n",
       "}\n",
       "\n",
       ".xr-obj-type,\n",
       ".xr-array-name {\n",
       "  margin-left: 2px;\n",
       "  margin-right: 10px;\n",
       "}\n",
       "\n",
       ".xr-obj-type {\n",
       "  color: var(--xr-font-color2);\n",
       "}\n",
       "\n",
       ".xr-sections {\n",
       "  padding-left: 0 !important;\n",
       "  display: grid;\n",
       "  grid-template-columns: 150px auto auto 1fr 20px 20px;\n",
       "}\n",
       "\n",
       ".xr-section-item {\n",
       "  display: contents;\n",
       "}\n",
       "\n",
       ".xr-section-item input {\n",
       "  display: none;\n",
       "}\n",
       "\n",
       ".xr-section-item input + label {\n",
       "  color: var(--xr-disabled-color);\n",
       "}\n",
       "\n",
       ".xr-section-item input:enabled + label {\n",
       "  cursor: pointer;\n",
       "  color: var(--xr-font-color2);\n",
       "}\n",
       "\n",
       ".xr-section-item input:enabled + label:hover {\n",
       "  color: var(--xr-font-color0);\n",
       "}\n",
       "\n",
       ".xr-section-summary {\n",
       "  grid-column: 1;\n",
       "  color: var(--xr-font-color2);\n",
       "  font-weight: 500;\n",
       "}\n",
       "\n",
       ".xr-section-summary > span {\n",
       "  display: inline-block;\n",
       "  padding-left: 0.5em;\n",
       "}\n",
       "\n",
       ".xr-section-summary-in:disabled + label {\n",
       "  color: var(--xr-font-color2);\n",
       "}\n",
       "\n",
       ".xr-section-summary-in + label:before {\n",
       "  display: inline-block;\n",
       "  content: '►';\n",
       "  font-size: 11px;\n",
       "  width: 15px;\n",
       "  text-align: center;\n",
       "}\n",
       "\n",
       ".xr-section-summary-in:disabled + label:before {\n",
       "  color: var(--xr-disabled-color);\n",
       "}\n",
       "\n",
       ".xr-section-summary-in:checked + label:before {\n",
       "  content: '▼';\n",
       "}\n",
       "\n",
       ".xr-section-summary-in:checked + label > span {\n",
       "  display: none;\n",
       "}\n",
       "\n",
       ".xr-section-summary,\n",
       ".xr-section-inline-details {\n",
       "  padding-top: 4px;\n",
       "  padding-bottom: 4px;\n",
       "}\n",
       "\n",
       ".xr-section-inline-details {\n",
       "  grid-column: 2 / -1;\n",
       "}\n",
       "\n",
       ".xr-section-details {\n",
       "  display: none;\n",
       "  grid-column: 1 / -1;\n",
       "  margin-bottom: 5px;\n",
       "}\n",
       "\n",
       ".xr-section-summary-in:checked ~ .xr-section-details {\n",
       "  display: contents;\n",
       "}\n",
       "\n",
       ".xr-array-wrap {\n",
       "  grid-column: 1 / -1;\n",
       "  display: grid;\n",
       "  grid-template-columns: 20px auto;\n",
       "}\n",
       "\n",
       ".xr-array-wrap > label {\n",
       "  grid-column: 1;\n",
       "  vertical-align: top;\n",
       "}\n",
       "\n",
       ".xr-preview {\n",
       "  color: var(--xr-font-color3);\n",
       "}\n",
       "\n",
       ".xr-array-preview,\n",
       ".xr-array-data {\n",
       "  padding: 0 5px !important;\n",
       "  grid-column: 2;\n",
       "}\n",
       "\n",
       ".xr-array-data,\n",
       ".xr-array-in:checked ~ .xr-array-preview {\n",
       "  display: none;\n",
       "}\n",
       "\n",
       ".xr-array-in:checked ~ .xr-array-data,\n",
       ".xr-array-preview {\n",
       "  display: inline-block;\n",
       "}\n",
       "\n",
       ".xr-dim-list {\n",
       "  display: inline-block !important;\n",
       "  list-style: none;\n",
       "  padding: 0 !important;\n",
       "  margin: 0;\n",
       "}\n",
       "\n",
       ".xr-dim-list li {\n",
       "  display: inline-block;\n",
       "  padding: 0;\n",
       "  margin: 0;\n",
       "}\n",
       "\n",
       ".xr-dim-list:before {\n",
       "  content: '(';\n",
       "}\n",
       "\n",
       ".xr-dim-list:after {\n",
       "  content: ')';\n",
       "}\n",
       "\n",
       ".xr-dim-list li:not(:last-child):after {\n",
       "  content: ',';\n",
       "  padding-right: 5px;\n",
       "}\n",
       "\n",
       ".xr-has-index {\n",
       "  font-weight: bold;\n",
       "}\n",
       "\n",
       ".xr-var-list,\n",
       ".xr-var-item {\n",
       "  display: contents;\n",
       "}\n",
       "\n",
       ".xr-var-item > div,\n",
       ".xr-var-item label,\n",
       ".xr-var-item > .xr-var-name span {\n",
       "  background-color: var(--xr-background-color-row-even);\n",
       "  margin-bottom: 0;\n",
       "}\n",
       "\n",
       ".xr-var-item > .xr-var-name:hover span {\n",
       "  padding-right: 5px;\n",
       "}\n",
       "\n",
       ".xr-var-list > li:nth-child(odd) > div,\n",
       ".xr-var-list > li:nth-child(odd) > label,\n",
       ".xr-var-list > li:nth-child(odd) > .xr-var-name span {\n",
       "  background-color: var(--xr-background-color-row-odd);\n",
       "}\n",
       "\n",
       ".xr-var-name {\n",
       "  grid-column: 1;\n",
       "}\n",
       "\n",
       ".xr-var-dims {\n",
       "  grid-column: 2;\n",
       "}\n",
       "\n",
       ".xr-var-dtype {\n",
       "  grid-column: 3;\n",
       "  text-align: right;\n",
       "  color: var(--xr-font-color2);\n",
       "}\n",
       "\n",
       ".xr-var-preview {\n",
       "  grid-column: 4;\n",
       "}\n",
       "\n",
       ".xr-index-preview {\n",
       "  grid-column: 2 / 5;\n",
       "  color: var(--xr-font-color2);\n",
       "}\n",
       "\n",
       ".xr-var-name,\n",
       ".xr-var-dims,\n",
       ".xr-var-dtype,\n",
       ".xr-preview,\n",
       ".xr-attrs dt {\n",
       "  white-space: nowrap;\n",
       "  overflow: hidden;\n",
       "  text-overflow: ellipsis;\n",
       "  padding-right: 10px;\n",
       "}\n",
       "\n",
       ".xr-var-name:hover,\n",
       ".xr-var-dims:hover,\n",
       ".xr-var-dtype:hover,\n",
       ".xr-attrs dt:hover {\n",
       "  overflow: visible;\n",
       "  width: auto;\n",
       "  z-index: 1;\n",
       "}\n",
       "\n",
       ".xr-var-attrs,\n",
       ".xr-var-data,\n",
       ".xr-index-data {\n",
       "  display: none;\n",
       "  background-color: var(--xr-background-color) !important;\n",
       "  padding-bottom: 5px !important;\n",
       "}\n",
       "\n",
       ".xr-var-attrs-in:checked ~ .xr-var-attrs,\n",
       ".xr-var-data-in:checked ~ .xr-var-data,\n",
       ".xr-index-data-in:checked ~ .xr-index-data {\n",
       "  display: block;\n",
       "}\n",
       "\n",
       ".xr-var-data > table {\n",
       "  float: right;\n",
       "}\n",
       "\n",
       ".xr-var-name span,\n",
       ".xr-var-data,\n",
       ".xr-index-name div,\n",
       ".xr-index-data,\n",
       ".xr-attrs {\n",
       "  padding-left: 25px !important;\n",
       "}\n",
       "\n",
       ".xr-attrs,\n",
       ".xr-var-attrs,\n",
       ".xr-var-data,\n",
       ".xr-index-data {\n",
       "  grid-column: 1 / -1;\n",
       "}\n",
       "\n",
       "dl.xr-attrs {\n",
       "  padding: 0;\n",
       "  margin: 0;\n",
       "  display: grid;\n",
       "  grid-template-columns: 125px auto;\n",
       "}\n",
       "\n",
       ".xr-attrs dt,\n",
       ".xr-attrs dd {\n",
       "  padding: 0;\n",
       "  margin: 0;\n",
       "  float: left;\n",
       "  padding-right: 10px;\n",
       "  width: auto;\n",
       "}\n",
       "\n",
       ".xr-attrs dt {\n",
       "  font-weight: normal;\n",
       "  grid-column: 1;\n",
       "}\n",
       "\n",
       ".xr-attrs dt:hover span {\n",
       "  display: inline-block;\n",
       "  background: var(--xr-background-color);\n",
       "  padding-right: 10px;\n",
       "}\n",
       "\n",
       ".xr-attrs dd {\n",
       "  grid-column: 2;\n",
       "  white-space: pre-wrap;\n",
       "  word-break: break-all;\n",
       "}\n",
       "\n",
       ".xr-icon-database,\n",
       ".xr-icon-file-text2,\n",
       ".xr-no-icon {\n",
       "  display: inline-block;\n",
       "  vertical-align: middle;\n",
       "  width: 1em;\n",
       "  height: 1.5em !important;\n",
       "  stroke-width: 0;\n",
       "  stroke: currentColor;\n",
       "  fill: currentColor;\n",
       "}\n",
       "</style><pre class='xr-text-repr-fallback'>&lt;xarray.Dataset&gt;\n",
       "Dimensions:    (time: 1, y: 331, x: 360)\n",
       "Coordinates:\n",
       "  * time       (time) float64 1.0\n",
       "Dimensions without coordinates: y, x\n",
       "Data variables:\n",
       "    nav_lon    (y, x) float64 ...\n",
       "    nav_lat    (y, x) float64 ...\n",
       "    power_bot  (time, y, x) float64 ...\n",
       "    power_cri  (time, y, x) float64 ...\n",
       "    power_nsq  (time, y, x) float64 ...\n",
       "    power_sho  (time, y, x) float64 ...\n",
       "    scale_cri  (time, y, x) float64 ...\n",
       "    scale_bot  (time, y, x) float64 ...</pre><div class='xr-wrap' style='display:none'><div class='xr-header'><div class='xr-obj-type'>xarray.Dataset</div></div><ul class='xr-sections'><li class='xr-section-item'><input id='section-73532388-a631-453b-962b-63d6128aa2a6' class='xr-section-summary-in' type='checkbox' disabled ><label for='section-73532388-a631-453b-962b-63d6128aa2a6' class='xr-section-summary'  title='Expand/collapse section'>Dimensions:</label><div class='xr-section-inline-details'><ul class='xr-dim-list'><li><span class='xr-has-index'>time</span>: 1</li><li><span>y</span>: 331</li><li><span>x</span>: 360</li></ul></div><div class='xr-section-details'></div></li><li class='xr-section-item'><input id='section-ca05e4ec-e6e9-4f4d-bc38-dde26bd5fb41' class='xr-section-summary-in' type='checkbox'  checked><label for='section-ca05e4ec-e6e9-4f4d-bc38-dde26bd5fb41' class='xr-section-summary' >Coordinates: <span>(1)</span></label><div class='xr-section-inline-details'></div><div class='xr-section-details'><ul class='xr-var-list'><li class='xr-var-item'><div class='xr-var-name'><span class='xr-has-index'>time</span></div><div class='xr-var-dims'>(time)</div><div class='xr-var-dtype'>float64</div><div class='xr-var-preview xr-preview'>1.0</div><input id='attrs-df1a6e20-f272-4643-854b-f22e85dd7f61' class='xr-var-attrs-in' type='checkbox' disabled><label for='attrs-df1a6e20-f272-4643-854b-f22e85dd7f61' title='Show/Hide attributes'><svg class='icon xr-icon-file-text2'><use xlink:href='#icon-file-text2'></use></svg></label><input id='data-e509f8ca-0f02-42e9-b6e4-948adc94bc7f' class='xr-var-data-in' type='checkbox'><label for='data-e509f8ca-0f02-42e9-b6e4-948adc94bc7f' title='Show/Hide data repr'><svg class='icon xr-icon-database'><use xlink:href='#icon-database'></use></svg></label><div class='xr-var-attrs'><dl class='xr-attrs'></dl></div><div class='xr-var-data'><pre>array([1.])</pre></div></li></ul></div></li><li class='xr-section-item'><input id='section-0bf39564-5e10-4f94-b285-495cc347d2c0' class='xr-section-summary-in' type='checkbox'  checked><label for='section-0bf39564-5e10-4f94-b285-495cc347d2c0' class='xr-section-summary' >Data variables: <span>(8)</span></label><div class='xr-section-inline-details'></div><div class='xr-section-details'><ul class='xr-var-list'><li class='xr-var-item'><div class='xr-var-name'><span>nav_lon</span></div><div class='xr-var-dims'>(y, x)</div><div class='xr-var-dtype'>float64</div><div class='xr-var-preview xr-preview'>...</div><input id='attrs-f74a92df-1730-4f09-b1e8-263d09df3fba' class='xr-var-attrs-in' type='checkbox' disabled><label for='attrs-f74a92df-1730-4f09-b1e8-263d09df3fba' title='Show/Hide attributes'><svg class='icon xr-icon-file-text2'><use xlink:href='#icon-file-text2'></use></svg></label><input id='data-42d907da-f02d-4c8b-8286-262e0282be0d' class='xr-var-data-in' type='checkbox'><label for='data-42d907da-f02d-4c8b-8286-262e0282be0d' title='Show/Hide data repr'><svg class='icon xr-icon-database'><use xlink:href='#icon-database'></use></svg></label><div class='xr-var-attrs'><dl class='xr-attrs'></dl></div><div class='xr-var-data'><pre>[119160 values with dtype=float64]</pre></div></li><li class='xr-var-item'><div class='xr-var-name'><span>nav_lat</span></div><div class='xr-var-dims'>(y, x)</div><div class='xr-var-dtype'>float64</div><div class='xr-var-preview xr-preview'>...</div><input id='attrs-9af9f190-1be5-42bc-8695-015d23f7d83c' class='xr-var-attrs-in' type='checkbox' disabled><label for='attrs-9af9f190-1be5-42bc-8695-015d23f7d83c' title='Show/Hide attributes'><svg class='icon xr-icon-file-text2'><use xlink:href='#icon-file-text2'></use></svg></label><input id='data-e3f64abc-70c8-4b36-9be4-9f1fe28f5240' class='xr-var-data-in' type='checkbox'><label for='data-e3f64abc-70c8-4b36-9be4-9f1fe28f5240' title='Show/Hide data repr'><svg class='icon xr-icon-database'><use xlink:href='#icon-database'></use></svg></label><div class='xr-var-attrs'><dl class='xr-attrs'></dl></div><div class='xr-var-data'><pre>[119160 values with dtype=float64]</pre></div></li><li class='xr-var-item'><div class='xr-var-name'><span>power_bot</span></div><div class='xr-var-dims'>(time, y, x)</div><div class='xr-var-dtype'>float64</div><div class='xr-var-preview xr-preview'>...</div><input id='attrs-7b82aac7-4320-48d6-9094-4f9f1aec6dfc' class='xr-var-attrs-in' type='checkbox' ><label for='attrs-7b82aac7-4320-48d6-9094-4f9f1aec6dfc' title='Show/Hide attributes'><svg class='icon xr-icon-file-text2'><use xlink:href='#icon-file-text2'></use></svg></label><input id='data-08b91211-2c5d-42f4-b7cd-366c461df68f' class='xr-var-data-in' type='checkbox'><label for='data-08b91211-2c5d-42f4-b7cd-366c461df68f' title='Show/Hide data repr'><svg class='icon xr-icon-database'><use xlink:href='#icon-database'></use></svg></label><div class='xr-var-attrs'><dl class='xr-attrs'><dt><span>units :</span></dt><dd>W/(m^2)</dd></dl></div><div class='xr-var-data'><pre>[119160 values with dtype=float64]</pre></div></li><li class='xr-var-item'><div class='xr-var-name'><span>power_cri</span></div><div class='xr-var-dims'>(time, y, x)</div><div class='xr-var-dtype'>float64</div><div class='xr-var-preview xr-preview'>...</div><input id='attrs-52ec98d3-68ca-47cd-b1c9-86dbc5f924fd' class='xr-var-attrs-in' type='checkbox' ><label for='attrs-52ec98d3-68ca-47cd-b1c9-86dbc5f924fd' title='Show/Hide attributes'><svg class='icon xr-icon-file-text2'><use xlink:href='#icon-file-text2'></use></svg></label><input id='data-c62960b1-99b8-4331-ba96-9372e401725b' class='xr-var-data-in' type='checkbox'><label for='data-c62960b1-99b8-4331-ba96-9372e401725b' title='Show/Hide data repr'><svg class='icon xr-icon-database'><use xlink:href='#icon-database'></use></svg></label><div class='xr-var-attrs'><dl class='xr-attrs'><dt><span>units :</span></dt><dd>W/(m^2)</dd></dl></div><div class='xr-var-data'><pre>[119160 values with dtype=float64]</pre></div></li><li class='xr-var-item'><div class='xr-var-name'><span>power_nsq</span></div><div class='xr-var-dims'>(time, y, x)</div><div class='xr-var-dtype'>float64</div><div class='xr-var-preview xr-preview'>...</div><input id='attrs-c195d679-8aab-4380-a0a2-668995cf984e' class='xr-var-attrs-in' type='checkbox' ><label for='attrs-c195d679-8aab-4380-a0a2-668995cf984e' title='Show/Hide attributes'><svg class='icon xr-icon-file-text2'><use xlink:href='#icon-file-text2'></use></svg></label><input id='data-24722713-2893-416e-af06-32d4fb641073' class='xr-var-data-in' type='checkbox'><label for='data-24722713-2893-416e-af06-32d4fb641073' title='Show/Hide data repr'><svg class='icon xr-icon-database'><use xlink:href='#icon-database'></use></svg></label><div class='xr-var-attrs'><dl class='xr-attrs'><dt><span>units :</span></dt><dd>W/(m^2)</dd></dl></div><div class='xr-var-data'><pre>[119160 values with dtype=float64]</pre></div></li><li class='xr-var-item'><div class='xr-var-name'><span>power_sho</span></div><div class='xr-var-dims'>(time, y, x)</div><div class='xr-var-dtype'>float64</div><div class='xr-var-preview xr-preview'>...</div><input id='attrs-3370d64a-0d73-40e3-93dd-8a81790d2ccc' class='xr-var-attrs-in' type='checkbox' ><label for='attrs-3370d64a-0d73-40e3-93dd-8a81790d2ccc' title='Show/Hide attributes'><svg class='icon xr-icon-file-text2'><use xlink:href='#icon-file-text2'></use></svg></label><input id='data-8db4995a-9c36-4b25-b537-91ae8320c28f' class='xr-var-data-in' type='checkbox'><label for='data-8db4995a-9c36-4b25-b537-91ae8320c28f' title='Show/Hide data repr'><svg class='icon xr-icon-database'><use xlink:href='#icon-database'></use></svg></label><div class='xr-var-attrs'><dl class='xr-attrs'><dt><span>units :</span></dt><dd>W/(m^2)</dd></dl></div><div class='xr-var-data'><pre>[119160 values with dtype=float64]</pre></div></li><li class='xr-var-item'><div class='xr-var-name'><span>scale_cri</span></div><div class='xr-var-dims'>(time, y, x)</div><div class='xr-var-dtype'>float64</div><div class='xr-var-preview xr-preview'>...</div><input id='attrs-592777f3-3f3e-46aa-a235-83330f47ae42' class='xr-var-attrs-in' type='checkbox' ><label for='attrs-592777f3-3f3e-46aa-a235-83330f47ae42' title='Show/Hide attributes'><svg class='icon xr-icon-file-text2'><use xlink:href='#icon-file-text2'></use></svg></label><input id='data-3fbe0cf5-dfb5-4707-bd15-bb9805898921' class='xr-var-data-in' type='checkbox'><label for='data-3fbe0cf5-dfb5-4707-bd15-bb9805898921' title='Show/Hide data repr'><svg class='icon xr-icon-database'><use xlink:href='#icon-database'></use></svg></label><div class='xr-var-attrs'><dl class='xr-attrs'><dt><span>units :</span></dt><dd>m</dd></dl></div><div class='xr-var-data'><pre>[119160 values with dtype=float64]</pre></div></li><li class='xr-var-item'><div class='xr-var-name'><span>scale_bot</span></div><div class='xr-var-dims'>(time, y, x)</div><div class='xr-var-dtype'>float64</div><div class='xr-var-preview xr-preview'>...</div><input id='attrs-5f2ac202-218c-4a1f-aaf7-819aaef99f37' class='xr-var-attrs-in' type='checkbox' ><label for='attrs-5f2ac202-218c-4a1f-aaf7-819aaef99f37' title='Show/Hide attributes'><svg class='icon xr-icon-file-text2'><use xlink:href='#icon-file-text2'></use></svg></label><input id='data-cad7bfb8-5d0a-40bc-8ef9-bbdc533ac532' class='xr-var-data-in' type='checkbox'><label for='data-cad7bfb8-5d0a-40bc-8ef9-bbdc533ac532' title='Show/Hide data repr'><svg class='icon xr-icon-database'><use xlink:href='#icon-database'></use></svg></label><div class='xr-var-attrs'><dl class='xr-attrs'><dt><span>units :</span></dt><dd>m</dd></dl></div><div class='xr-var-data'><pre>[119160 values with dtype=float64]</pre></div></li></ul></div></li><li class='xr-section-item'><input id='section-3002ed04-2c14-47aa-bce8-70b86a48d870' class='xr-section-summary-in' type='checkbox'  ><label for='section-3002ed04-2c14-47aa-bce8-70b86a48d870' class='xr-section-summary' >Indexes: <span>(1)</span></label><div class='xr-section-inline-details'></div><div class='xr-section-details'><ul class='xr-var-list'><li class='xr-var-item'><div class='xr-index-name'><div>time</div></div><div class='xr-index-preview'>PandasIndex</div><div></div><input id='index-8e078cae-91a8-4e21-8cb6-706f2b8fcfd2' class='xr-index-data-in' type='checkbox'/><label for='index-8e078cae-91a8-4e21-8cb6-706f2b8fcfd2' title='Show/Hide index repr'><svg class='icon xr-icon-database'><use xlink:href='#icon-database'></use></svg></label><div class='xr-index-data'><pre>PandasIndex(Index([1.0], dtype=&#x27;float64&#x27;, name=&#x27;time&#x27;))</pre></div></li></ul></div></li><li class='xr-section-item'><input id='section-e8ae2632-6c87-4b64-af1e-a468da362249' class='xr-section-summary-in' type='checkbox' disabled ><label for='section-e8ae2632-6c87-4b64-af1e-a468da362249' class='xr-section-summary'  title='Expand/collapse section'>Attributes: <span>(0)</span></label><div class='xr-section-inline-details'></div><div class='xr-section-details'><dl class='xr-attrs'></dl></div></li></ul></div></div>"
      ],
      "text/plain": [
       "<xarray.Dataset>\n",
       "Dimensions:    (time: 1, y: 331, x: 360)\n",
       "Coordinates:\n",
       "  * time       (time) float64 1.0\n",
       "Dimensions without coordinates: y, x\n",
       "Data variables:\n",
       "    nav_lon    (y, x) float64 ...\n",
       "    nav_lat    (y, x) float64 ...\n",
       "    power_bot  (time, y, x) float64 ...\n",
       "    power_cri  (time, y, x) float64 ...\n",
       "    power_nsq  (time, y, x) float64 ...\n",
       "    power_sho  (time, y, x) float64 ...\n",
       "    scale_cri  (time, y, x) float64 ...\n",
       "    scale_bot  (time, y, x) float64 ..."
      ]
     },
     "execution_count": 24,
     "metadata": {},
     "output_type": "execute_result"
    }
   ],
   "source": [
    "zdf_file0"
   ]
  },
  {
   "cell_type": "code",
   "execution_count": 17,
   "id": "0e9d2cf8-eacf-423a-9af2-c632e077b157",
   "metadata": {},
   "outputs": [
    {
     "data": {
      "text/html": [
       "<div><svg style=\"position: absolute; width: 0; height: 0; overflow: hidden\">\n",
       "<defs>\n",
       "<symbol id=\"icon-database\" viewBox=\"0 0 32 32\">\n",
       "<path d=\"M16 0c-8.837 0-16 2.239-16 5v4c0 2.761 7.163 5 16 5s16-2.239 16-5v-4c0-2.761-7.163-5-16-5z\"></path>\n",
       "<path d=\"M16 17c-8.837 0-16-2.239-16-5v6c0 2.761 7.163 5 16 5s16-2.239 16-5v-6c0 2.761-7.163 5-16 5z\"></path>\n",
       "<path d=\"M16 26c-8.837 0-16-2.239-16-5v6c0 2.761 7.163 5 16 5s16-2.239 16-5v-6c0 2.761-7.163 5-16 5z\"></path>\n",
       "</symbol>\n",
       "<symbol id=\"icon-file-text2\" viewBox=\"0 0 32 32\">\n",
       "<path d=\"M28.681 7.159c-0.694-0.947-1.662-2.053-2.724-3.116s-2.169-2.030-3.116-2.724c-1.612-1.182-2.393-1.319-2.841-1.319h-15.5c-1.378 0-2.5 1.121-2.5 2.5v27c0 1.378 1.122 2.5 2.5 2.5h23c1.378 0 2.5-1.122 2.5-2.5v-19.5c0-0.448-0.137-1.23-1.319-2.841zM24.543 5.457c0.959 0.959 1.712 1.825 2.268 2.543h-4.811v-4.811c0.718 0.556 1.584 1.309 2.543 2.268zM28 29.5c0 0.271-0.229 0.5-0.5 0.5h-23c-0.271 0-0.5-0.229-0.5-0.5v-27c0-0.271 0.229-0.5 0.5-0.5 0 0 15.499-0 15.5 0v7c0 0.552 0.448 1 1 1h7v19.5z\"></path>\n",
       "<path d=\"M23 26h-14c-0.552 0-1-0.448-1-1s0.448-1 1-1h14c0.552 0 1 0.448 1 1s-0.448 1-1 1z\"></path>\n",
       "<path d=\"M23 22h-14c-0.552 0-1-0.448-1-1s0.448-1 1-1h14c0.552 0 1 0.448 1 1s-0.448 1-1 1z\"></path>\n",
       "<path d=\"M23 18h-14c-0.552 0-1-0.448-1-1s0.448-1 1-1h14c0.552 0 1 0.448 1 1s-0.448 1-1 1z\"></path>\n",
       "</symbol>\n",
       "</defs>\n",
       "</svg>\n",
       "<style>/* CSS stylesheet for displaying xarray objects in jupyterlab.\n",
       " *\n",
       " */\n",
       "\n",
       ":root {\n",
       "  --xr-font-color0: var(--jp-content-font-color0, rgba(0, 0, 0, 1));\n",
       "  --xr-font-color2: var(--jp-content-font-color2, rgba(0, 0, 0, 0.54));\n",
       "  --xr-font-color3: var(--jp-content-font-color3, rgba(0, 0, 0, 0.38));\n",
       "  --xr-border-color: var(--jp-border-color2, #e0e0e0);\n",
       "  --xr-disabled-color: var(--jp-layout-color3, #bdbdbd);\n",
       "  --xr-background-color: var(--jp-layout-color0, white);\n",
       "  --xr-background-color-row-even: var(--jp-layout-color1, white);\n",
       "  --xr-background-color-row-odd: var(--jp-layout-color2, #eeeeee);\n",
       "}\n",
       "\n",
       "html[theme=dark],\n",
       "body[data-theme=dark],\n",
       "body.vscode-dark {\n",
       "  --xr-font-color0: rgba(255, 255, 255, 1);\n",
       "  --xr-font-color2: rgba(255, 255, 255, 0.54);\n",
       "  --xr-font-color3: rgba(255, 255, 255, 0.38);\n",
       "  --xr-border-color: #1F1F1F;\n",
       "  --xr-disabled-color: #515151;\n",
       "  --xr-background-color: #111111;\n",
       "  --xr-background-color-row-even: #111111;\n",
       "  --xr-background-color-row-odd: #313131;\n",
       "}\n",
       "\n",
       ".xr-wrap {\n",
       "  display: block !important;\n",
       "  min-width: 300px;\n",
       "  max-width: 700px;\n",
       "}\n",
       "\n",
       ".xr-text-repr-fallback {\n",
       "  /* fallback to plain text repr when CSS is not injected (untrusted notebook) */\n",
       "  display: none;\n",
       "}\n",
       "\n",
       ".xr-header {\n",
       "  padding-top: 6px;\n",
       "  padding-bottom: 6px;\n",
       "  margin-bottom: 4px;\n",
       "  border-bottom: solid 1px var(--xr-border-color);\n",
       "}\n",
       "\n",
       ".xr-header > div,\n",
       ".xr-header > ul {\n",
       "  display: inline;\n",
       "  margin-top: 0;\n",
       "  margin-bottom: 0;\n",
       "}\n",
       "\n",
       ".xr-obj-type,\n",
       ".xr-array-name {\n",
       "  margin-left: 2px;\n",
       "  margin-right: 10px;\n",
       "}\n",
       "\n",
       ".xr-obj-type {\n",
       "  color: var(--xr-font-color2);\n",
       "}\n",
       "\n",
       ".xr-sections {\n",
       "  padding-left: 0 !important;\n",
       "  display: grid;\n",
       "  grid-template-columns: 150px auto auto 1fr 20px 20px;\n",
       "}\n",
       "\n",
       ".xr-section-item {\n",
       "  display: contents;\n",
       "}\n",
       "\n",
       ".xr-section-item input {\n",
       "  display: none;\n",
       "}\n",
       "\n",
       ".xr-section-item input + label {\n",
       "  color: var(--xr-disabled-color);\n",
       "}\n",
       "\n",
       ".xr-section-item input:enabled + label {\n",
       "  cursor: pointer;\n",
       "  color: var(--xr-font-color2);\n",
       "}\n",
       "\n",
       ".xr-section-item input:enabled + label:hover {\n",
       "  color: var(--xr-font-color0);\n",
       "}\n",
       "\n",
       ".xr-section-summary {\n",
       "  grid-column: 1;\n",
       "  color: var(--xr-font-color2);\n",
       "  font-weight: 500;\n",
       "}\n",
       "\n",
       ".xr-section-summary > span {\n",
       "  display: inline-block;\n",
       "  padding-left: 0.5em;\n",
       "}\n",
       "\n",
       ".xr-section-summary-in:disabled + label {\n",
       "  color: var(--xr-font-color2);\n",
       "}\n",
       "\n",
       ".xr-section-summary-in + label:before {\n",
       "  display: inline-block;\n",
       "  content: '►';\n",
       "  font-size: 11px;\n",
       "  width: 15px;\n",
       "  text-align: center;\n",
       "}\n",
       "\n",
       ".xr-section-summary-in:disabled + label:before {\n",
       "  color: var(--xr-disabled-color);\n",
       "}\n",
       "\n",
       ".xr-section-summary-in:checked + label:before {\n",
       "  content: '▼';\n",
       "}\n",
       "\n",
       ".xr-section-summary-in:checked + label > span {\n",
       "  display: none;\n",
       "}\n",
       "\n",
       ".xr-section-summary,\n",
       ".xr-section-inline-details {\n",
       "  padding-top: 4px;\n",
       "  padding-bottom: 4px;\n",
       "}\n",
       "\n",
       ".xr-section-inline-details {\n",
       "  grid-column: 2 / -1;\n",
       "}\n",
       "\n",
       ".xr-section-details {\n",
       "  display: none;\n",
       "  grid-column: 1 / -1;\n",
       "  margin-bottom: 5px;\n",
       "}\n",
       "\n",
       ".xr-section-summary-in:checked ~ .xr-section-details {\n",
       "  display: contents;\n",
       "}\n",
       "\n",
       ".xr-array-wrap {\n",
       "  grid-column: 1 / -1;\n",
       "  display: grid;\n",
       "  grid-template-columns: 20px auto;\n",
       "}\n",
       "\n",
       ".xr-array-wrap > label {\n",
       "  grid-column: 1;\n",
       "  vertical-align: top;\n",
       "}\n",
       "\n",
       ".xr-preview {\n",
       "  color: var(--xr-font-color3);\n",
       "}\n",
       "\n",
       ".xr-array-preview,\n",
       ".xr-array-data {\n",
       "  padding: 0 5px !important;\n",
       "  grid-column: 2;\n",
       "}\n",
       "\n",
       ".xr-array-data,\n",
       ".xr-array-in:checked ~ .xr-array-preview {\n",
       "  display: none;\n",
       "}\n",
       "\n",
       ".xr-array-in:checked ~ .xr-array-data,\n",
       ".xr-array-preview {\n",
       "  display: inline-block;\n",
       "}\n",
       "\n",
       ".xr-dim-list {\n",
       "  display: inline-block !important;\n",
       "  list-style: none;\n",
       "  padding: 0 !important;\n",
       "  margin: 0;\n",
       "}\n",
       "\n",
       ".xr-dim-list li {\n",
       "  display: inline-block;\n",
       "  padding: 0;\n",
       "  margin: 0;\n",
       "}\n",
       "\n",
       ".xr-dim-list:before {\n",
       "  content: '(';\n",
       "}\n",
       "\n",
       ".xr-dim-list:after {\n",
       "  content: ')';\n",
       "}\n",
       "\n",
       ".xr-dim-list li:not(:last-child):after {\n",
       "  content: ',';\n",
       "  padding-right: 5px;\n",
       "}\n",
       "\n",
       ".xr-has-index {\n",
       "  font-weight: bold;\n",
       "}\n",
       "\n",
       ".xr-var-list,\n",
       ".xr-var-item {\n",
       "  display: contents;\n",
       "}\n",
       "\n",
       ".xr-var-item > div,\n",
       ".xr-var-item label,\n",
       ".xr-var-item > .xr-var-name span {\n",
       "  background-color: var(--xr-background-color-row-even);\n",
       "  margin-bottom: 0;\n",
       "}\n",
       "\n",
       ".xr-var-item > .xr-var-name:hover span {\n",
       "  padding-right: 5px;\n",
       "}\n",
       "\n",
       ".xr-var-list > li:nth-child(odd) > div,\n",
       ".xr-var-list > li:nth-child(odd) > label,\n",
       ".xr-var-list > li:nth-child(odd) > .xr-var-name span {\n",
       "  background-color: var(--xr-background-color-row-odd);\n",
       "}\n",
       "\n",
       ".xr-var-name {\n",
       "  grid-column: 1;\n",
       "}\n",
       "\n",
       ".xr-var-dims {\n",
       "  grid-column: 2;\n",
       "}\n",
       "\n",
       ".xr-var-dtype {\n",
       "  grid-column: 3;\n",
       "  text-align: right;\n",
       "  color: var(--xr-font-color2);\n",
       "}\n",
       "\n",
       ".xr-var-preview {\n",
       "  grid-column: 4;\n",
       "}\n",
       "\n",
       ".xr-index-preview {\n",
       "  grid-column: 2 / 5;\n",
       "  color: var(--xr-font-color2);\n",
       "}\n",
       "\n",
       ".xr-var-name,\n",
       ".xr-var-dims,\n",
       ".xr-var-dtype,\n",
       ".xr-preview,\n",
       ".xr-attrs dt {\n",
       "  white-space: nowrap;\n",
       "  overflow: hidden;\n",
       "  text-overflow: ellipsis;\n",
       "  padding-right: 10px;\n",
       "}\n",
       "\n",
       ".xr-var-name:hover,\n",
       ".xr-var-dims:hover,\n",
       ".xr-var-dtype:hover,\n",
       ".xr-attrs dt:hover {\n",
       "  overflow: visible;\n",
       "  width: auto;\n",
       "  z-index: 1;\n",
       "}\n",
       "\n",
       ".xr-var-attrs,\n",
       ".xr-var-data,\n",
       ".xr-index-data {\n",
       "  display: none;\n",
       "  background-color: var(--xr-background-color) !important;\n",
       "  padding-bottom: 5px !important;\n",
       "}\n",
       "\n",
       ".xr-var-attrs-in:checked ~ .xr-var-attrs,\n",
       ".xr-var-data-in:checked ~ .xr-var-data,\n",
       ".xr-index-data-in:checked ~ .xr-index-data {\n",
       "  display: block;\n",
       "}\n",
       "\n",
       ".xr-var-data > table {\n",
       "  float: right;\n",
       "}\n",
       "\n",
       ".xr-var-name span,\n",
       ".xr-var-data,\n",
       ".xr-index-name div,\n",
       ".xr-index-data,\n",
       ".xr-attrs {\n",
       "  padding-left: 25px !important;\n",
       "}\n",
       "\n",
       ".xr-attrs,\n",
       ".xr-var-attrs,\n",
       ".xr-var-data,\n",
       ".xr-index-data {\n",
       "  grid-column: 1 / -1;\n",
       "}\n",
       "\n",
       "dl.xr-attrs {\n",
       "  padding: 0;\n",
       "  margin: 0;\n",
       "  display: grid;\n",
       "  grid-template-columns: 125px auto;\n",
       "}\n",
       "\n",
       ".xr-attrs dt,\n",
       ".xr-attrs dd {\n",
       "  padding: 0;\n",
       "  margin: 0;\n",
       "  float: left;\n",
       "  padding-right: 10px;\n",
       "  width: auto;\n",
       "}\n",
       "\n",
       ".xr-attrs dt {\n",
       "  font-weight: normal;\n",
       "  grid-column: 1;\n",
       "}\n",
       "\n",
       ".xr-attrs dt:hover span {\n",
       "  display: inline-block;\n",
       "  background: var(--xr-background-color);\n",
       "  padding-right: 10px;\n",
       "}\n",
       "\n",
       ".xr-attrs dd {\n",
       "  grid-column: 2;\n",
       "  white-space: pre-wrap;\n",
       "  word-break: break-all;\n",
       "}\n",
       "\n",
       ".xr-icon-database,\n",
       ".xr-icon-file-text2,\n",
       ".xr-no-icon {\n",
       "  display: inline-block;\n",
       "  vertical-align: middle;\n",
       "  width: 1em;\n",
       "  height: 1.5em !important;\n",
       "  stroke-width: 0;\n",
       "  stroke: currentColor;\n",
       "  fill: currentColor;\n",
       "}\n",
       "</style><pre class='xr-text-repr-fallback'>&lt;xarray.Dataset&gt;\n",
       "Dimensions:    (time: 1, y: 331, x: 360)\n",
       "Coordinates:\n",
       "  * time       (time) float64 1.0\n",
       "    nav_lon    (y, x) float64 ...\n",
       "    nav_lat    (y, x) float64 ...\n",
       "Dimensions without coordinates: y, x\n",
       "Data variables:\n",
       "    power_bot  (time, y, x) float64 1e-10 1e-10 1e-10 ... 1e-10 1e-10 1e-10\n",
       "    power_cri  (time, y, x) float64 1e-10 1e-10 1e-10 ... 1e-10 1e-10 1e-10\n",
       "    power_nsq  (time, y, x) float64 1e-05 1e-05 1e-05 ... 1e-05 1e-05 1e-05\n",
       "    power_sho  (time, y, x) float64 1e-10 1e-10 1e-10 ... 1e-10 1e-10 1e-10\n",
       "    scale_cri  (time, y, x) float64 193.4 193.6 193.7 ... 100.0 100.0 100.0\n",
       "    scale_bot  (time, y, x) float64 8.559e+05 8.565e+05 ... 9.085e+06 9.085e+06</pre><div class='xr-wrap' style='display:none'><div class='xr-header'><div class='xr-obj-type'>xarray.Dataset</div></div><ul class='xr-sections'><li class='xr-section-item'><input id='section-0598c1a5-a95f-4d4d-82c2-36bef720cdea' class='xr-section-summary-in' type='checkbox' disabled ><label for='section-0598c1a5-a95f-4d4d-82c2-36bef720cdea' class='xr-section-summary'  title='Expand/collapse section'>Dimensions:</label><div class='xr-section-inline-details'><ul class='xr-dim-list'><li><span class='xr-has-index'>time</span>: 1</li><li><span>y</span>: 331</li><li><span>x</span>: 360</li></ul></div><div class='xr-section-details'></div></li><li class='xr-section-item'><input id='section-c96eb95c-e279-4d73-b844-e90ebd0a3d3e' class='xr-section-summary-in' type='checkbox'  checked><label for='section-c96eb95c-e279-4d73-b844-e90ebd0a3d3e' class='xr-section-summary' >Coordinates: <span>(3)</span></label><div class='xr-section-inline-details'></div><div class='xr-section-details'><ul class='xr-var-list'><li class='xr-var-item'><div class='xr-var-name'><span class='xr-has-index'>time</span></div><div class='xr-var-dims'>(time)</div><div class='xr-var-dtype'>float64</div><div class='xr-var-preview xr-preview'>1.0</div><input id='attrs-7bd27e4d-356c-4fb6-9e8a-5d2a30ebe58e' class='xr-var-attrs-in' type='checkbox' disabled><label for='attrs-7bd27e4d-356c-4fb6-9e8a-5d2a30ebe58e' title='Show/Hide attributes'><svg class='icon xr-icon-file-text2'><use xlink:href='#icon-file-text2'></use></svg></label><input id='data-7b7f32e9-3865-4615-bde7-428febea0c3a' class='xr-var-data-in' type='checkbox'><label for='data-7b7f32e9-3865-4615-bde7-428febea0c3a' title='Show/Hide data repr'><svg class='icon xr-icon-database'><use xlink:href='#icon-database'></use></svg></label><div class='xr-var-attrs'><dl class='xr-attrs'></dl></div><div class='xr-var-data'><pre>array([1.])</pre></div></li><li class='xr-var-item'><div class='xr-var-name'><span>nav_lon</span></div><div class='xr-var-dims'>(y, x)</div><div class='xr-var-dtype'>float64</div><div class='xr-var-preview xr-preview'>...</div><input id='attrs-9ee6e933-62f4-4ae4-88ab-78a4dcbcbb14' class='xr-var-attrs-in' type='checkbox' disabled><label for='attrs-9ee6e933-62f4-4ae4-88ab-78a4dcbcbb14' title='Show/Hide attributes'><svg class='icon xr-icon-file-text2'><use xlink:href='#icon-file-text2'></use></svg></label><input id='data-795aacb1-1e9d-4eae-8015-3aefef76d973' class='xr-var-data-in' type='checkbox'><label for='data-795aacb1-1e9d-4eae-8015-3aefef76d973' title='Show/Hide data repr'><svg class='icon xr-icon-database'><use xlink:href='#icon-database'></use></svg></label><div class='xr-var-attrs'><dl class='xr-attrs'></dl></div><div class='xr-var-data'><pre>[119160 values with dtype=float64]</pre></div></li><li class='xr-var-item'><div class='xr-var-name'><span>nav_lat</span></div><div class='xr-var-dims'>(y, x)</div><div class='xr-var-dtype'>float64</div><div class='xr-var-preview xr-preview'>...</div><input id='attrs-d7c41191-6873-4d0e-aa00-91ae1cfcdfda' class='xr-var-attrs-in' type='checkbox' disabled><label for='attrs-d7c41191-6873-4d0e-aa00-91ae1cfcdfda' title='Show/Hide attributes'><svg class='icon xr-icon-file-text2'><use xlink:href='#icon-file-text2'></use></svg></label><input id='data-56323851-81af-4b4c-82ae-29b9016079e2' class='xr-var-data-in' type='checkbox'><label for='data-56323851-81af-4b4c-82ae-29b9016079e2' title='Show/Hide data repr'><svg class='icon xr-icon-database'><use xlink:href='#icon-database'></use></svg></label><div class='xr-var-attrs'><dl class='xr-attrs'></dl></div><div class='xr-var-data'><pre>[119160 values with dtype=float64]</pre></div></li></ul></div></li><li class='xr-section-item'><input id='section-1be40805-90e5-49e1-a6ec-f9661123a70e' class='xr-section-summary-in' type='checkbox'  checked><label for='section-1be40805-90e5-49e1-a6ec-f9661123a70e' class='xr-section-summary' >Data variables: <span>(6)</span></label><div class='xr-section-inline-details'></div><div class='xr-section-details'><ul class='xr-var-list'><li class='xr-var-item'><div class='xr-var-name'><span>power_bot</span></div><div class='xr-var-dims'>(time, y, x)</div><div class='xr-var-dtype'>float64</div><div class='xr-var-preview xr-preview'>1e-10 1e-10 1e-10 ... 1e-10 1e-10</div><input id='attrs-6fd69936-ce91-49f6-b4a1-a2c22ce4dec7' class='xr-var-attrs-in' type='checkbox' ><label for='attrs-6fd69936-ce91-49f6-b4a1-a2c22ce4dec7' title='Show/Hide attributes'><svg class='icon xr-icon-file-text2'><use xlink:href='#icon-file-text2'></use></svg></label><input id='data-e6729633-0b20-4ab3-93ce-45a75a635134' class='xr-var-data-in' type='checkbox'><label for='data-e6729633-0b20-4ab3-93ce-45a75a635134' title='Show/Hide data repr'><svg class='icon xr-icon-database'><use xlink:href='#icon-database'></use></svg></label><div class='xr-var-attrs'><dl class='xr-attrs'><dt><span>units :</span></dt><dd>W/(m^2)</dd></dl></div><div class='xr-var-data'><pre>array([[[1.e-10, 1.e-10, 1.e-10, ..., 1.e-10, 1.e-10, 1.e-10],\n",
       "        [1.e-10, 1.e-10, 1.e-10, ..., 1.e-10, 1.e-10, 1.e-10],\n",
       "        [1.e-10, 1.e-10, 1.e-10, ..., 1.e-10, 1.e-10, 1.e-10],\n",
       "        ...,\n",
       "        [1.e-10, 1.e-10, 1.e-10, ..., 1.e-10, 1.e-10, 1.e-10],\n",
       "        [1.e-10, 1.e-10, 1.e-10, ..., 1.e-10, 1.e-10, 1.e-10],\n",
       "        [1.e-10, 1.e-10, 1.e-10, ..., 1.e-10, 1.e-10, 1.e-10]]])</pre></div></li><li class='xr-var-item'><div class='xr-var-name'><span>power_cri</span></div><div class='xr-var-dims'>(time, y, x)</div><div class='xr-var-dtype'>float64</div><div class='xr-var-preview xr-preview'>1e-10 1e-10 1e-10 ... 1e-10 1e-10</div><input id='attrs-3492ee56-338b-4d09-b73b-21c63b7df26a' class='xr-var-attrs-in' type='checkbox' ><label for='attrs-3492ee56-338b-4d09-b73b-21c63b7df26a' title='Show/Hide attributes'><svg class='icon xr-icon-file-text2'><use xlink:href='#icon-file-text2'></use></svg></label><input id='data-0b646951-5ee5-4155-b39e-27b48fc2f1d3' class='xr-var-data-in' type='checkbox'><label for='data-0b646951-5ee5-4155-b39e-27b48fc2f1d3' title='Show/Hide data repr'><svg class='icon xr-icon-database'><use xlink:href='#icon-database'></use></svg></label><div class='xr-var-attrs'><dl class='xr-attrs'><dt><span>units :</span></dt><dd>W/(m^2)</dd></dl></div><div class='xr-var-data'><pre>array([[[1.e-10, 1.e-10, 1.e-10, ..., 1.e-10, 1.e-10, 1.e-10],\n",
       "        [1.e-10, 1.e-10, 1.e-10, ..., 1.e-10, 1.e-10, 1.e-10],\n",
       "        [1.e-10, 1.e-10, 1.e-10, ..., 1.e-10, 1.e-10, 1.e-10],\n",
       "        ...,\n",
       "        [1.e-10, 1.e-10, 1.e-10, ..., 1.e-10, 1.e-10, 1.e-10],\n",
       "        [1.e-10, 1.e-10, 1.e-10, ..., 1.e-10, 1.e-10, 1.e-10],\n",
       "        [1.e-10, 1.e-10, 1.e-10, ..., 1.e-10, 1.e-10, 1.e-10]]])</pre></div></li><li class='xr-var-item'><div class='xr-var-name'><span>power_nsq</span></div><div class='xr-var-dims'>(time, y, x)</div><div class='xr-var-dtype'>float64</div><div class='xr-var-preview xr-preview'>1e-05 1e-05 1e-05 ... 1e-05 1e-05</div><input id='attrs-ee9af44f-f688-44f2-a4c1-f21dc5376b60' class='xr-var-attrs-in' type='checkbox' ><label for='attrs-ee9af44f-f688-44f2-a4c1-f21dc5376b60' title='Show/Hide attributes'><svg class='icon xr-icon-file-text2'><use xlink:href='#icon-file-text2'></use></svg></label><input id='data-890e6c1d-6968-45a1-966b-9cb71caa21bd' class='xr-var-data-in' type='checkbox'><label for='data-890e6c1d-6968-45a1-966b-9cb71caa21bd' title='Show/Hide data repr'><svg class='icon xr-icon-database'><use xlink:href='#icon-database'></use></svg></label><div class='xr-var-attrs'><dl class='xr-attrs'><dt><span>units :</span></dt><dd>W/(m^2)</dd></dl></div><div class='xr-var-data'><pre>array([[[1.e-05, 1.e-05, 1.e-05, ..., 1.e-05, 1.e-05, 1.e-05],\n",
       "        [1.e-05, 1.e-05, 1.e-05, ..., 1.e-05, 1.e-05, 1.e-05],\n",
       "        [1.e-05, 1.e-05, 1.e-05, ..., 1.e-05, 1.e-05, 1.e-05],\n",
       "        ...,\n",
       "        [1.e-05, 1.e-05, 1.e-05, ..., 1.e-05, 1.e-05, 1.e-05],\n",
       "        [1.e-05, 1.e-05, 1.e-05, ..., 1.e-05, 1.e-05, 1.e-05],\n",
       "        [1.e-05, 1.e-05, 1.e-05, ..., 1.e-05, 1.e-05, 1.e-05]]])</pre></div></li><li class='xr-var-item'><div class='xr-var-name'><span>power_sho</span></div><div class='xr-var-dims'>(time, y, x)</div><div class='xr-var-dtype'>float64</div><div class='xr-var-preview xr-preview'>1e-10 1e-10 1e-10 ... 1e-10 1e-10</div><input id='attrs-62958e70-3c01-4e47-acb4-cb81fb945d7f' class='xr-var-attrs-in' type='checkbox' ><label for='attrs-62958e70-3c01-4e47-acb4-cb81fb945d7f' title='Show/Hide attributes'><svg class='icon xr-icon-file-text2'><use xlink:href='#icon-file-text2'></use></svg></label><input id='data-190ea1fa-891e-4969-be4e-1e11250b2f07' class='xr-var-data-in' type='checkbox'><label for='data-190ea1fa-891e-4969-be4e-1e11250b2f07' title='Show/Hide data repr'><svg class='icon xr-icon-database'><use xlink:href='#icon-database'></use></svg></label><div class='xr-var-attrs'><dl class='xr-attrs'><dt><span>units :</span></dt><dd>W/(m^2)</dd></dl></div><div class='xr-var-data'><pre>array([[[1.e-10, 1.e-10, 1.e-10, ..., 1.e-10, 1.e-10, 1.e-10],\n",
       "        [1.e-10, 1.e-10, 1.e-10, ..., 1.e-10, 1.e-10, 1.e-10],\n",
       "        [1.e-10, 1.e-10, 1.e-10, ..., 1.e-10, 1.e-10, 1.e-10],\n",
       "        ...,\n",
       "        [1.e-10, 1.e-10, 1.e-10, ..., 1.e-10, 1.e-10, 1.e-10],\n",
       "        [1.e-10, 1.e-10, 1.e-10, ..., 1.e-10, 1.e-10, 1.e-10],\n",
       "        [1.e-10, 1.e-10, 1.e-10, ..., 1.e-10, 1.e-10, 1.e-10]]])</pre></div></li><li class='xr-var-item'><div class='xr-var-name'><span>scale_cri</span></div><div class='xr-var-dims'>(time, y, x)</div><div class='xr-var-dtype'>float64</div><div class='xr-var-preview xr-preview'>193.4 193.6 193.7 ... 100.0 100.0</div><input id='attrs-45c3f694-16a7-4d1d-9f9e-4b6b6d865dad' class='xr-var-attrs-in' type='checkbox' ><label for='attrs-45c3f694-16a7-4d1d-9f9e-4b6b6d865dad' title='Show/Hide attributes'><svg class='icon xr-icon-file-text2'><use xlink:href='#icon-file-text2'></use></svg></label><input id='data-d838c594-7b1d-4497-9fad-e3e942461797' class='xr-var-data-in' type='checkbox'><label for='data-d838c594-7b1d-4497-9fad-e3e942461797' title='Show/Hide data repr'><svg class='icon xr-icon-database'><use xlink:href='#icon-database'></use></svg></label><div class='xr-var-attrs'><dl class='xr-attrs'><dt><span>units :</span></dt><dd>m</dd></dl></div><div class='xr-var-data'><pre>array([[[193.41454088, 193.55728309, 193.69790507, ..., 192.97548001,\n",
       "         193.12345126, 193.26986747],\n",
       "        [193.70865348, 193.857872  , 194.00494903, ..., 193.25006506,\n",
       "         193.40455894, 193.55748534],\n",
       "        [194.01089685, 194.16673376, 194.32040879, ..., 193.53235751,\n",
       "         193.69351489, 193.85309254],\n",
       "        ...,\n",
       "        [100.        , 100.        , 100.        , ..., 100.        ,\n",
       "         100.        , 100.        ],\n",
       "        [100.        , 100.        , 100.        , ..., 100.        ,\n",
       "         100.        , 100.        ],\n",
       "        [100.        , 100.        , 100.        , ..., 100.        ,\n",
       "         100.        , 100.        ]]])</pre></div></li><li class='xr-var-item'><div class='xr-var-name'><span>scale_bot</span></div><div class='xr-var-dims'>(time, y, x)</div><div class='xr-var-dtype'>float64</div><div class='xr-var-preview xr-preview'>8.559e+05 8.565e+05 ... 9.085e+06</div><input id='attrs-b3cc4878-252f-48be-9fc9-6acf39ed44a2' class='xr-var-attrs-in' type='checkbox' ><label for='attrs-b3cc4878-252f-48be-9fc9-6acf39ed44a2' title='Show/Hide attributes'><svg class='icon xr-icon-file-text2'><use xlink:href='#icon-file-text2'></use></svg></label><input id='data-02dd4a42-07c4-41e4-bb6e-120dca13b77a' class='xr-var-data-in' type='checkbox'><label for='data-02dd4a42-07c4-41e4-bb6e-120dca13b77a' title='Show/Hide data repr'><svg class='icon xr-icon-database'><use xlink:href='#icon-database'></use></svg></label><div class='xr-var-attrs'><dl class='xr-attrs'><dt><span>units :</span></dt><dd>m</dd></dl></div><div class='xr-var-data'><pre>array([[[ 855868.33587944,  856495.89203358,  857086.92814811, ...,\n",
       "          853753.10060811,  854498.28052914,  855202.91316457],\n",
       "        [ 857093.34966251,  857688.19698161,  858246.63367601, ...,\n",
       "          855076.20058911,  855788.76094308,  856460.67523112],\n",
       "        [ 858231.09595649,  858790.79127864,  859314.17346494, ...,\n",
       "          856319.29436728,  856996.82587072,  857633.60143706],\n",
       "        ...,\n",
       "        [9085155.09342332, 9085155.09342332, 9085155.09342332, ...,\n",
       "         9085155.09342332, 9085155.09342332, 9085155.09342332],\n",
       "        [9085155.09342332, 9085155.09342332, 9085155.09342332, ...,\n",
       "         9085155.09342332, 9085155.09342332, 9085155.09342332],\n",
       "        [9085155.09342332, 9085155.09342332, 9085155.09342332, ...,\n",
       "         9085155.09342332, 9085155.09342332, 9085155.09342332]]])</pre></div></li></ul></div></li><li class='xr-section-item'><input id='section-4cfefb5b-ee7a-4d05-a869-9e45f69fb5e9' class='xr-section-summary-in' type='checkbox'  ><label for='section-4cfefb5b-ee7a-4d05-a869-9e45f69fb5e9' class='xr-section-summary' >Indexes: <span>(1)</span></label><div class='xr-section-inline-details'></div><div class='xr-section-details'><ul class='xr-var-list'><li class='xr-var-item'><div class='xr-index-name'><div>time</div></div><div class='xr-index-preview'>PandasIndex</div><div></div><input id='index-2d719228-5ba7-4954-9149-a5886e34afad' class='xr-index-data-in' type='checkbox'/><label for='index-2d719228-5ba7-4954-9149-a5886e34afad' title='Show/Hide index repr'><svg class='icon xr-icon-database'><use xlink:href='#icon-database'></use></svg></label><div class='xr-index-data'><pre>PandasIndex(Index([1.0], dtype=&#x27;float64&#x27;, name=&#x27;time&#x27;))</pre></div></li></ul></div></li><li class='xr-section-item'><input id='section-ac6375c1-65a5-4db9-ab97-6d637893a3c0' class='xr-section-summary-in' type='checkbox' disabled ><label for='section-ac6375c1-65a5-4db9-ab97-6d637893a3c0' class='xr-section-summary'  title='Expand/collapse section'>Attributes: <span>(0)</span></label><div class='xr-section-inline-details'></div><div class='xr-section-details'><dl class='xr-attrs'></dl></div></li></ul></div></div>"
      ],
      "text/plain": [
       "<xarray.Dataset>\n",
       "Dimensions:    (time: 1, y: 331, x: 360)\n",
       "Coordinates:\n",
       "  * time       (time) float64 1.0\n",
       "    nav_lon    (y, x) float64 ...\n",
       "    nav_lat    (y, x) float64 ...\n",
       "Dimensions without coordinates: y, x\n",
       "Data variables:\n",
       "    power_bot  (time, y, x) float64 1e-10 1e-10 1e-10 ... 1e-10 1e-10 1e-10\n",
       "    power_cri  (time, y, x) float64 1e-10 1e-10 1e-10 ... 1e-10 1e-10 1e-10\n",
       "    power_nsq  (time, y, x) float64 1e-05 1e-05 1e-05 ... 1e-05 1e-05 1e-05\n",
       "    power_sho  (time, y, x) float64 1e-10 1e-10 1e-10 ... 1e-10 1e-10 1e-10\n",
       "    scale_cri  (time, y, x) float64 193.4 193.6 193.7 ... 100.0 100.0 100.0\n",
       "    scale_bot  (time, y, x) float64 8.559e+05 8.565e+05 ... 9.085e+06 9.085e+06"
      ]
     },
     "execution_count": 17,
     "metadata": {},
     "output_type": "execute_result"
    }
   ],
   "source": [
    "corrected_zdf_file.drop('')"
   ]
  },
  {
   "cell_type": "code",
   "execution_count": null,
   "id": "a91fccfa-f9c9-4b71-b1e9-de4919eabac1",
   "metadata": {},
   "outputs": [],
   "source": []
  },
  {
   "cell_type": "code",
   "execution_count": 157,
   "id": "0f8f28e3-d015-4cad-a169-dfac221eb570",
   "metadata": {},
   "outputs": [],
   "source": [
    "corrected_zdf_file.to_netcdf(outputpath + 'zdfiwm_forcing_withisfcav.nc')"
   ]
  },
  {
   "cell_type": "code",
   "execution_count": null,
   "id": "f4185050-9939-4739-a74a-4c7b310aed3f",
   "metadata": {},
   "outputs": [],
   "source": [
    "# IGNORED THIS IN THE END"
   ]
  },
  {
   "cell_type": "code",
   "execution_count": null,
   "id": "55a21ded-94c9-4509-ab4e-07081af6a482",
   "metadata": {},
   "outputs": [],
   "source": [
    "# this is on the NEMO grid so I need to recheck the stuff for the front\n",
    "data_init_0 = xr.open_dataset(inputpath_thredds + 'eORCA1.4.2_sali_ref_clim_monthly.nc')['vosaline']\n",
    "\n",
    "\n",
    "vv_mean_list = []\n",
    "\n",
    "for ID in tqdm(file_Justine.ID):\n",
    "    if ((mask_front_latlon == ID).sum() > 1) and (ID != 67) and (ID != 125):\n",
    "        if ID == 66:\n",
    "            front_mask_kisf = (mask_front_latlon == 66) | (mask_front_latlon == 67)\n",
    "        elif ID == 124:\n",
    "            front_mask_kisf = (mask_front_latlon == 124) | (mask_front_latlon == 125)\n",
    "        else:\n",
    "            front_mask_kisf = (mask_front_latlon == ID)\n",
    "            \n",
    "        vv_mean = weighted_mean(data_init_0.where(front_mask_kisf), ['lat','lon'], cell_area_latlon.where(front_mask_kisf))\n",
    "        \n",
    "        vv_mean_list.append(vv_mean.assign_coords({'ID': ID}))\n",
    "\n",
    "vv_mean_all = xr.concat(vv_mean_list, dim='ID')\n",
    "\n",
    "vv_mean_all.rename('vosaline').to_netcdf(outputpath + 'eORCA1.4.2_sali_ref_clim_monthly_withisfcav.nc')\n"
   ]
  },
  {
   "cell_type": "markdown",
   "id": "a0962193-c0e7-4688-b3a9-336e6c02dce5",
   "metadata": {},
   "source": [
    "CHECK THE PROFILES"
   ]
  },
  {
   "cell_type": "code",
   "execution_count": null,
   "id": "7dd7c5fa-bff1-43dc-8cf2-abe0eff8655a",
   "metadata": {},
   "outputs": [],
   "source": [
    "ID_open_list = [21,66,117,124,127,128] #,67,125"
   ]
  },
  {
   "cell_type": "code",
   "execution_count": null,
   "id": "ea27216a-5e74-4d16-ae51-df8be262e411",
   "metadata": {},
   "outputs": [],
   "source": [
    "f = plt.figure()\n",
    "f.set_size_inches(8.25, 8.25)\n",
    "\n",
    "ax={}\n",
    "\n",
    "leg_hdl = []\n",
    "alpha_val = 0.2\n",
    "\n",
    "i = 0\n",
    "\n",
    "for kisf in tqdm(ID_open_list):\n",
    "\n",
    "    ax[i] = f.add_subplot(2,3,i+1)\n",
    "    \n",
    "\n",
    "    if kisf not in [62,36]:\n",
    "        if len(vv_mean_all.time_counter) > 1:\n",
    "            for tt in vv_mean_all.time_counter:\n",
    "    \n",
    "                vvdata0 = vv_mean_all.sel(time_counter = tt, ID = kisf)\n",
    "        else:\n",
    "            vvdata0 = vv_mean_all.sel(ID = kisf).squeeze()\n",
    "        \n",
    "        ax[i].plot(vvdata0,-vvdata0.deptht, color='orange', alpha=alpha_val)\n",
    "\n",
    "\n",
    "\n",
    "            #leg, = plt.plot(mean_run,-1*file_TS_mean_all.depth, color=colors[n], linewidth=3)\n",
    "            #plt.fill_betweenx(-1*mean_run.depth, mean_run - std_run, mean_run + std_run, -1*mean_run.depth, alpha=0.2, color=colors[n])\n",
    "            #leg_hdl.append(leg)\n",
    "\n",
    "\n",
    "    ax[i].set_title(str(kisf))\n",
    "    #ax[i].set_xlim(-2,2)\n",
    "\n",
    "    i = i+1\n",
    "\n",
    "\n",
    "f.subplots_adjust(bottom=0.05, wspace=0.1)\n",
    "\n",
    "f.tight_layout()\n",
    "sns.despine()"
   ]
  },
  {
   "cell_type": "code",
   "execution_count": null,
   "id": "2f994428-7bff-4840-ab33-90f993cef3d9",
   "metadata": {},
   "outputs": [],
   "source": [
    "f = plt.figure()\n",
    "f.set_size_inches(8.25, 8.25)\n",
    "\n",
    "ax={}\n",
    "\n",
    "leg_hdl = []\n",
    "alpha_val = 0.2\n",
    "\n",
    "i = 0\n",
    "\n",
    "for kisf in tqdm(ID_open_list):\n",
    "\n",
    "    ax[i] = f.add_subplot(2,3,i+1)\n",
    "    \n",
    "\n",
    "    if kisf not in [62,36]:\n",
    "        for tt in S_mean_all.time_counter:\n",
    "\n",
    "            S_data0 = S_mean_all.sel(time_counter = tt, ID = kisf)\n",
    "            ax[i].plot(S_data0,-S_data0.z, color='orange', alpha=alpha_val)\n",
    "\n",
    "\n",
    "\n",
    "            #leg, = plt.plot(mean_run,-1*file_TS_mean_all.depth, color=colors[n], linewidth=3)\n",
    "            #plt.fill_betweenx(-1*mean_run.depth, mean_run - std_run, mean_run + std_run, -1*mean_run.depth, alpha=0.2, color=colors[n])\n",
    "            #leg_hdl.append(leg)\n",
    "\n",
    "\n",
    "    ax[i].set_title(str(kisf))\n",
    "    #ax[i].set_xlim(-2,2)\n",
    "\n",
    "    i = i+1\n",
    "\n",
    "\n",
    "f.subplots_adjust(bottom=0.05, wspace=0.1)\n",
    "\n",
    "f.tight_layout()\n",
    "sns.despine()"
   ]
  },
  {
   "cell_type": "markdown",
   "id": "f7975d22-76dc-49fa-908c-a5ad19414feb",
   "metadata": {},
   "source": [
    "PROPAGATE THEM"
   ]
  },
  {
   "cell_type": "code",
   "execution_count": null,
   "id": "2623505d-2cf6-4a8f-a449-6b3cb968b551",
   "metadata": {},
   "outputs": [],
   "source": [
    "new_T0 = T_init_0.copy()\n",
    "new_S0 = S_init_0.copy()\n",
    "for ID in tqdm(T_mean_all.ID):\n",
    "    new_T0 = new_T0.where(isfmask_1deg != ID, T_mean_all.sel(ID=ID))\n",
    "    new_S0 = new_S0.where(isfmask_1deg != ID, S_mean_all.sel(ID=ID))\n"
   ]
  },
  {
   "cell_type": "code",
   "execution_count": null,
   "id": "d097fd12-c5d5-4c88-8ddf-82a2ffd9d971",
   "metadata": {},
   "outputs": [],
   "source": [
    "new_T0 = new_T0.where(isfmask_1deg != 67, T_mean_all.sel(ID=66).drop('ID'))\n",
    "new_T0 = new_T0.where(isfmask_1deg != 125, T_mean_all.sel(ID=124).drop('ID'))\n",
    "new_T0['lon'] = T_init_0['lon']\n",
    "new_T0['lat'] = T_init_0['lat']\n",
    "new_T0['nav_lev'] = T_init_0['nav_lev']\n",
    "\n",
    "\n",
    "new_S0 = new_S0.where(isfmask_1deg != 67, S_mean_all.sel(ID=66).drop('ID'))\n",
    "new_S0 = new_S0.where(isfmask_1deg != 125, S_mean_all.sel(ID=124).drop('ID'))\n",
    "new_S0['lon'] = S_init_0['lon']\n",
    "new_S0['lat'] = S_init_0['lat']\n",
    "new_S0['nav_lev'] = S_init_0['nav_lev']"
   ]
  },
  {
   "cell_type": "markdown",
   "id": "e93dbcfc-9914-4f4a-9270-d80a3ec69b3a",
   "metadata": {},
   "source": [
    "WRITE TO NETCDF"
   ]
  },
  {
   "cell_type": "code",
   "execution_count": null,
   "id": "c37ec984-8ae9-4f4b-b2e5-13a4fc18c076",
   "metadata": {},
   "outputs": [],
   "source": [
    "new_T0.drop_vars('ID').to_netcdf(inputpath_interim + 'conservative_temperature_WOA13_decav_Reg1L75_clim_withisfcav.nc', unlimited_dims=['time_counter'])\n",
    "new_S0.drop_vars('ID').to_netcdf(inputpath_interim + 'absolute_salinity_WOA13_decav_Reg1L75_clim_withisfcav.nc', unlimited_dims=['time_counter'])"
   ]
  },
  {
   "cell_type": "code",
   "execution_count": null,
   "id": "693e0b57-ff07-470f-a404-d4ebc047497f",
   "metadata": {},
   "outputs": [],
   "source": [
    "T_init_0"
   ]
  },
  {
   "cell_type": "code",
   "execution_count": null,
   "id": "e5d81de0-12f0-4591-b838-15c70f05802c",
   "metadata": {},
   "outputs": [],
   "source": [
    "new_T0.drop_vars('ID')"
   ]
  },
  {
   "cell_type": "markdown",
   "id": "042606aa-1d56-4d39-bc40-045d6771657e",
   "metadata": {},
   "source": [
    "CHECK WHY THE FILES ARE SO LARGE"
   ]
  },
  {
   "cell_type": "code",
   "execution_count": null,
   "id": "4d395896-ac89-48a0-8633-06dc4cd00f81",
   "metadata": {},
   "outputs": [],
   "source": [
    "T0 = xr.open_dataset(inputpath_interim + 'conservative_temperature_WOA13_decav_Reg1L75_clim_withisfcav.nc')"
   ]
  },
  {
   "cell_type": "code",
   "execution_count": null,
   "id": "2391541b-cb92-4bcc-bbcf-08e3ed47bba3",
   "metadata": {},
   "outputs": [],
   "source": [
    "T_init_0 - T0 "
   ]
  },
  {
   "cell_type": "code",
   "execution_count": null,
   "id": "8fac4688-8269-49e9-aedb-7e9f4caf78ed",
   "metadata": {},
   "outputs": [],
   "source": [
    "T0['lon'] = T_init_0['lon']"
   ]
  },
  {
   "cell_type": "code",
   "execution_count": null,
   "id": "e1d4f9d9-1ea1-46cc-bddc-91b45cd03097",
   "metadata": {},
   "outputs": [],
   "source": [
    "T0"
   ]
  },
  {
   "cell_type": "code",
   "execution_count": null,
   "id": "4034f660-8b26-49f2-9cfb-85b070118b27",
   "metadata": {},
   "outputs": [],
   "source": []
  }
 ],
 "metadata": {
  "kernelspec": {
   "display_name": "py38",
   "language": "python",
   "name": "py38"
  },
  "language_info": {
   "codemirror_mode": {
    "name": "ipython",
    "version": 3
   },
   "file_extension": ".py",
   "mimetype": "text/x-python",
   "name": "python",
   "nbconvert_exporter": "python",
   "pygments_lexer": "ipython3",
   "version": "3.8.18"
  }
 },
 "nbformat": 4,
 "nbformat_minor": 5
}
