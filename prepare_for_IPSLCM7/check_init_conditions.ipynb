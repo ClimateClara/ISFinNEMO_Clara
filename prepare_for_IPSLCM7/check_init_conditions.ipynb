{
 "cells": [
  {
   "cell_type": "code",
   "execution_count": null,
   "id": "709939bc-f080-4e42-9b3d-be4e06c7b228",
   "metadata": {},
   "outputs": [],
   "source": [
    "\"\"\"\n",
    "\n",
    "Check all initial conditions files to understand where extrapolation is needed and where not\n",
    "\n",
    "\"\"\""
   ]
  },
  {
   "cell_type": "code",
   "execution_count": 1,
   "id": "5fc0a562-6152-465d-9410-f1d52c258857",
   "metadata": {},
   "outputs": [],
   "source": [
    "import xarray as xr"
   ]
  },
  {
   "cell_type": "code",
   "execution_count": 12,
   "id": "c0d2ec4b-884e-4b8b-888e-2be3d08bdeb2",
   "metadata": {},
   "outputs": [
    {
     "name": "stderr",
     "output_type": "stream",
     "text": [
      "QStandardPaths: error creating runtime directory '/run/user/2784' (Permission denied)\n"
     ]
    }
   ],
   "source": [
    "%matplotlib qt5"
   ]
  },
  {
   "cell_type": "code",
   "execution_count": 6,
   "id": "8b5a06e0-8c5f-4f86-abfc-28795d06486d",
   "metadata": {},
   "outputs": [],
   "source": [
    "inputpath = '/thredds/tgcc/work/burgardc/FORCING_FILES_TO_BE_EXTRAP/'"
   ]
  },
  {
   "cell_type": "markdown",
   "id": "93685666-250b-4398-9e70-8faf7f7db0f4",
   "metadata": {},
   "source": [
    "NOT NEEDED Chlorophyll A - not clear to me if this should only be at the surface "
   ]
  },
  {
   "cell_type": "code",
   "execution_count": 23,
   "id": "ed360206-3eac-4a97-aea7-e52f0596b67a",
   "metadata": {},
   "outputs": [],
   "source": [
    "check_file = xr.open_dataset(inputpath + 'merged_ESACCI_BIOMER4V1R1_CHL_REG05.nc')"
   ]
  },
  {
   "cell_type": "code",
   "execution_count": 25,
   "id": "0754d404-5cc5-4411-9684-8400f5cb09ca",
   "metadata": {},
   "outputs": [
    {
     "data": {
      "text/plain": [
       "<matplotlib.collections.QuadMesh at 0x1521bc1a3e50>"
      ]
     },
     "execution_count": 25,
     "metadata": {},
     "output_type": "execute_result"
    }
   ],
   "source": [
    "check_file['CHLA'].isel(time_counter=0).plot()"
   ]
  },
  {
   "cell_type": "markdown",
   "id": "58d06d54-396f-4513-becb-aab213e5ebfa",
   "metadata": {},
   "source": [
    "Geothermal heat flux - looks like it is distributed reasonably"
   ]
  },
  {
   "cell_type": "code",
   "execution_count": 15,
   "id": "ba53af8e-3ef0-4d66-9641-48275cdc4fe9",
   "metadata": {},
   "outputs": [],
   "source": [
    "check_file = xr.open_dataset(inputpath + 'Lucazeau_ghflux.nc')"
   ]
  },
  {
   "cell_type": "code",
   "execution_count": 22,
   "id": "a172b53b-eda1-4388-b991-e696439c9c78",
   "metadata": {},
   "outputs": [
    {
     "data": {
      "text/plain": [
       "<matplotlib.collections.QuadMesh at 0x1521bd372a90>"
      ]
     },
     "execution_count": 22,
     "metadata": {},
     "output_type": "execute_result"
    }
   ],
   "source": [
    "check_file['gh_flux'].plot(vmax=100)"
   ]
  },
  {
   "cell_type": "markdown",
   "id": "e6f71c64-1eee-4262-9031-54f43e6bd985",
   "metadata": {},
   "source": [
    "Sea surface salinity so does not need to be modified"
   ]
  },
  {
   "cell_type": "code",
   "execution_count": 26,
   "id": "e8672a55-8282-4ca0-a0e3-fda5ab06e95f",
   "metadata": {},
   "outputs": [],
   "source": [
    "check_file = xr.open_dataset(inputpath + 'eORCA1.4.2_sss_absolute_PHC2_salx_2004_08_03_clim.nc')"
   ]
  },
  {
   "cell_type": "code",
   "execution_count": 30,
   "id": "bc70b280-bf23-4cb1-9d9c-0eec37131d27",
   "metadata": {},
   "outputs": [
    {
     "data": {
      "text/plain": [
       "<matplotlib.collections.QuadMesh at 0x1521bc088e80>"
      ]
     },
     "execution_count": 30,
     "metadata": {},
     "output_type": "execute_result"
    }
   ],
   "source": [
    "check_file['sosaline'].isel(time_counter=0).plot()"
   ]
  },
  {
   "cell_type": "markdown",
   "id": "44e60fc2-023f-4aef-b40a-e4905645ce0c",
   "metadata": {},
   "source": [
    "Runoff depth, I think this is not important for ice-shelf runoff because this is calculated differently anyway"
   ]
  },
  {
   "cell_type": "code",
   "execution_count": 31,
   "id": "0c4e0a46-10ce-48cd-a924-065e63fad654",
   "metadata": {},
   "outputs": [],
   "source": [
    "check_file = xr.open_dataset(inputpath + 'eORCA1.4.2_runoffs_depths.nc')"
   ]
  },
  {
   "cell_type": "code",
   "execution_count": 36,
   "id": "938bf154-afa9-4b0f-a492-cff894c00a70",
   "metadata": {},
   "outputs": [
    {
     "data": {
      "text/plain": [
       "<matplotlib.collections.QuadMesh at 0x1521b07f15b0>"
      ]
     },
     "execution_count": 36,
     "metadata": {},
     "output_type": "execute_result"
    }
   ],
   "source": [
    "check_file['rodepth'].plot(vmax=20)"
   ]
  },
  {
   "cell_type": "markdown",
   "id": "03435e21-fcdd-4e0c-bda6-bfd064ed65c3",
   "metadata": {},
   "source": [
    "YES I don't really know what this does but it could be that I need to interpolate it - salinity"
   ]
  },
  {
   "cell_type": "code",
   "execution_count": 37,
   "id": "e3f0e906-6350-42bb-87a2-5a2232a91ea3",
   "metadata": {},
   "outputs": [],
   "source": [
    "check_file = xr.open_dataset(inputpath + 'eORCA1.4.2_sali_ref_clim_monthly.nc')"
   ]
  },
  {
   "cell_type": "code",
   "execution_count": 44,
   "id": "092e1b87-680d-4802-abb4-6be2719c6fce",
   "metadata": {},
   "outputs": [
    {
     "data": {
      "text/plain": [
       "<matplotlib.collections.QuadMesh at 0x1521b0423790>"
      ]
     },
     "execution_count": 44,
     "metadata": {},
     "output_type": "execute_result"
    }
   ],
   "source": [
    "check_file['vosaline'].isel(time_counter=0,depth=40).plot(vmin=32,vmax=37)"
   ]
  },
  {
   "cell_type": "markdown",
   "id": "735a1c66-7a47-4f4d-8be9-da9930395975",
   "metadata": {},
   "source": [
    "MAYBE Tidal mixing stuff - ask Casimir (power_bot, power_cri, power_nsq, power_sho, scale_cri, scale_bot)"
   ]
  },
  {
   "cell_type": "code",
   "execution_count": 45,
   "id": "bed569f8-57be-4ac9-ac9f-eb88b88ebac4",
   "metadata": {},
   "outputs": [],
   "source": [
    "check_file = xr.open_dataset(inputpath + 'eORCA1.4.2_zdfiwm_forcing.nc')"
   ]
  },
  {
   "cell_type": "code",
   "execution_count": 50,
   "id": "b00fb841-2b33-4ec3-ac89-97a67b40f23c",
   "metadata": {},
   "outputs": [
    {
     "data": {
      "text/plain": [
       "<matplotlib.collections.QuadMesh at 0x1521b01de6a0>"
      ]
     },
     "execution_count": 50,
     "metadata": {},
     "output_type": "execute_result"
    }
   ],
   "source": [
    "check_file['power_bot'].plot(vmax=0.0005)"
   ]
  },
  {
   "cell_type": "code",
   "execution_count": 54,
   "id": "911e0ab2-c632-4460-844c-4dc7d45a005d",
   "metadata": {},
   "outputs": [
    {
     "data": {
      "text/plain": [
       "<matplotlib.collections.QuadMesh at 0x1521af70a2b0>"
      ]
     },
     "execution_count": 54,
     "metadata": {},
     "output_type": "execute_result"
    }
   ],
   "source": [
    "check_file['power_cri'].plot(vmax=0.02)"
   ]
  },
  {
   "cell_type": "code",
   "execution_count": 58,
   "id": "ebfcc589-f1a2-4b43-a5f0-4c9ebd76c719",
   "metadata": {},
   "outputs": [
    {
     "data": {
      "text/plain": [
       "<matplotlib.collections.QuadMesh at 0x1521adb826a0>"
      ]
     },
     "execution_count": 58,
     "metadata": {},
     "output_type": "execute_result"
    }
   ],
   "source": [
    "check_file['power_nsq'].plot(vmax=0.0025)"
   ]
  },
  {
   "cell_type": "code",
   "execution_count": 61,
   "id": "378e1ff8-3897-4df4-ba47-e208a019989b",
   "metadata": {},
   "outputs": [
    {
     "data": {
      "text/plain": [
       "<matplotlib.collections.QuadMesh at 0x1521ad10bfd0>"
      ]
     },
     "execution_count": 61,
     "metadata": {},
     "output_type": "execute_result"
    }
   ],
   "source": [
    "check_file['power_sho'].plot(vmax=0.01)"
   ]
  },
  {
   "cell_type": "markdown",
   "id": "a3b001b5-c393-412a-acea-392869309d30",
   "metadata": {},
   "source": [
    "Do not include cavities but I don't think that this is important to run the model"
   ]
  },
  {
   "cell_type": "code",
   "execution_count": 62,
   "id": "25283a56-1af2-4202-87f9-270f14ea87ae",
   "metadata": {},
   "outputs": [],
   "source": [
    "check_file = xr.open_dataset(inputpath + 'eORCA1.4.2_subbasins.nc')"
   ]
  },
  {
   "cell_type": "code",
   "execution_count": 70,
   "id": "9c0f4188-b836-4d41-9b2d-72a3dadcaac8",
   "metadata": {},
   "outputs": [
    {
     "data": {
      "text/plain": [
       "<matplotlib.collections.QuadMesh at 0x1521acea4d60>"
      ]
     },
     "execution_count": 70,
     "metadata": {},
     "output_type": "execute_result"
    }
   ],
   "source": [
    "check_file['atlmsk'].plot()"
   ]
  },
  {
   "cell_type": "markdown",
   "id": "d148e900-68b5-41d3-bf6e-1683ce673af8",
   "metadata": {},
   "source": [
    "Unclear what this is, it's only zeros"
   ]
  },
  {
   "cell_type": "code",
   "execution_count": 71,
   "id": "046ef83a-e59c-475b-aa06-e265598c4515",
   "metadata": {},
   "outputs": [],
   "source": [
    "check_file = xr.open_dataset(inputpath + 'eORCA1.4.2_resto.nc')"
   ]
  },
  {
   "cell_type": "code",
   "execution_count": 75,
   "id": "2cd6c327-45cc-42bc-9445-ee6f4323983f",
   "metadata": {},
   "outputs": [
    {
     "data": {
      "text/plain": [
       "<matplotlib.collections.QuadMesh at 0x1521acc2eeb0>"
      ]
     },
     "execution_count": 75,
     "metadata": {},
     "output_type": "execute_result"
    }
   ],
   "source": [
    "check_file['resto'].sum('z').plot()"
   ]
  },
  {
   "cell_type": "markdown",
   "id": "5d5f191b-f096-4bde-81d3-edc3f6198b46",
   "metadata": {},
   "source": [
    "I think this is mass flux openings"
   ]
  },
  {
   "cell_type": "code",
   "execution_count": 76,
   "id": "40ecd521-2108-488d-b3c5-dd74270db6b9",
   "metadata": {},
   "outputs": [],
   "source": [
    "check_file = xr.open_dataset(inputpath + 'eORCA1.4.2_maskMFO.nc')"
   ]
  },
  {
   "cell_type": "code",
   "execution_count": 86,
   "id": "235e5a93-96f3-4696-8810-e7c702bd0714",
   "metadata": {},
   "outputs": [
    {
     "data": {
      "text/plain": [
       "<matplotlib.collections.QuadMesh at 0x1521ac541fa0>"
      ]
     },
     "execution_count": 86,
     "metadata": {},
     "output_type": "execute_result"
    }
   ],
   "source": [
    "check_file['maskMFO_u'].isel(section=7).plot()"
   ]
  },
  {
   "cell_type": "code",
   "execution_count": 91,
   "id": "a70be314-bda6-4deb-b304-8c2d8daead10",
   "metadata": {},
   "outputs": [],
   "source": [
    "check_file = xr.open_dataset(inputpath + 'CO_PISCES_annual_r360x180xl75.nc')"
   ]
  },
  {
   "cell_type": "code",
   "execution_count": 94,
   "id": "24ffc478-c760-4721-89e2-7b9ecf33569b",
   "metadata": {},
   "outputs": [
    {
     "data": {
      "text/plain": [
       "<matplotlib.collections.QuadMesh at 0x1521aae0e400>"
      ]
     },
     "execution_count": 94,
     "metadata": {},
     "output_type": "execute_result"
    }
   ],
   "source": [
    "check_file['CO'].isel(deptht=0).plot()"
   ]
  },
  {
   "cell_type": "code",
   "execution_count": null,
   "id": "17863bea-df08-4625-a872-81d64e4ce685",
   "metadata": {},
   "outputs": [],
   "source": []
  }
 ],
 "metadata": {
  "kernelspec": {
   "display_name": "Python 3 (ipykernel)",
   "language": "python",
   "name": "python3"
  },
  "language_info": {
   "codemirror_mode": {
    "name": "ipython",
    "version": 3
   },
   "file_extension": ".py",
   "mimetype": "text/x-python",
   "name": "python",
   "nbconvert_exporter": "python",
   "pygments_lexer": "ipython3",
   "version": "3.8.18"
  }
 },
 "nbformat": 4,
 "nbformat_minor": 5
}
