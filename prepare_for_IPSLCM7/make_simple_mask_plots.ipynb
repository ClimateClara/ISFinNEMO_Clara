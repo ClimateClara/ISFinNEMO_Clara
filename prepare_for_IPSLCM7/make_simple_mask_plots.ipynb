{
 "cells": [
  {
   "cell_type": "code",
   "execution_count": null,
   "id": "e94785fe-5363-4bc6-b3eb-b0234f3af739",
   "metadata": {},
   "outputs": [],
   "source": [
    "\"\"\"\n",
    "\n",
    "Draw a map of the continental shelf\n",
    "\n",
    "\"\"\""
   ]
  },
  {
   "cell_type": "code",
   "execution_count": 1,
   "id": "20bf1514-3cb6-4b03-b2d1-75914fe73f69",
   "metadata": {},
   "outputs": [],
   "source": [
    "import xarray as xr"
   ]
  },
  {
   "cell_type": "code",
   "execution_count": 2,
   "id": "ce01e45e-4663-4efd-8493-bc5eaae70d5c",
   "metadata": {},
   "outputs": [
    {
     "name": "stderr",
     "output_type": "stream",
     "text": [
      "QStandardPaths: error creating runtime directory '/run/user/2784' (Permission denied)\n"
     ]
    }
   ],
   "source": [
    "%matplotlib qt5"
   ]
  },
  {
   "cell_type": "code",
   "execution_count": 3,
   "id": "374f964f-ffa2-4514-a537-0ba8ce319f52",
   "metadata": {},
   "outputs": [],
   "source": [
    "inputpath_raw = '/data/cburgard/PREPARE_FORCING/PREPARE_CAVITY_MASKS/raw/'\n",
    "inputpath_interim = '/data/cburgard/PREPARE_FORCING/PREPARE_CAVITY_MASKS/interim/'"
   ]
  },
  {
   "cell_type": "code",
   "execution_count": 6,
   "id": "3ad433ef-35f3-4fc5-ad9d-2d086b15ea25",
   "metadata": {},
   "outputs": [],
   "source": [
    "ds_isfNEMO = xr.open_dataset(inputpath_interim + 'masks_for_eORCA1.nc')\n",
    "domain_cfg = xr.open_dataset(inputpath_raw + 'eORCA1.4.3_OpenSeas_OpenAllCav_ModStraights/eORCA1.4.3_OpenSeas_OpenAllCav_ModStraights_domain_cfg.nc')\n"
   ]
  },
  {
   "cell_type": "code",
   "execution_count": 7,
   "id": "65a935f0-6862-434b-9933-a2cd61e98914",
   "metadata": {},
   "outputs": [],
   "source": [
    "# Create a mask discriminating between land, ocean and ice shelf\n",
    "mask_0_1_2 = ds_isfNEMO['mask_isf'] * 2\n",
    "mask_0_1_2 = mask_0_1_2.where(domain_cfg['bathy_metry'] != 0, 400) # land\n",
    "mask_0_1_2 = mask_0_1_2.where(domain_cfg['bathy_metry'] == 0, 0) # ocean\n",
    "mask_0_1_2 = mask_0_1_2.where(domain_cfg['isf_draft'] == 0, 200) # ice shelf"
   ]
  },
  {
   "cell_type": "code",
   "execution_count": 12,
   "id": "d3cfed94-68d4-4fc2-89ee-e33ab73d9d01",
   "metadata": {},
   "outputs": [
    {
     "data": {
      "text/plain": [
       "<matplotlib.collections.QuadMesh at 0x14c3c1605e20>"
      ]
     },
     "execution_count": 12,
     "metadata": {},
     "output_type": "execute_result"
    }
   ],
   "source": [
    "mask_0_1_2.where(~((mask_0_1_2 == 0) & (domain_cfg['bathy_metry'] <= 1500)), 300).plot()"
   ]
  },
  {
   "cell_type": "code",
   "execution_count": null,
   "id": "e19cda4c-7d7d-4dec-ba93-f61fce1e33f6",
   "metadata": {},
   "outputs": [],
   "source": []
  }
 ],
 "metadata": {
  "kernelspec": {
   "display_name": "py38",
   "language": "python",
   "name": "py38"
  },
  "language_info": {
   "codemirror_mode": {
    "name": "ipython",
    "version": 3
   },
   "file_extension": ".py",
   "mimetype": "text/x-python",
   "name": "python",
   "nbconvert_exporter": "python",
   "pygments_lexer": "ipython3",
   "version": "3.8.18"
  }
 },
 "nbformat": 4,
 "nbformat_minor": 5
}
