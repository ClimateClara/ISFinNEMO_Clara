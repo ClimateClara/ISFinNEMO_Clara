{
 "cells": [
  {
   "cell_type": "code",
   "execution_count": null,
   "id": "1ca3e665-3481-4741-bdb6-bed8dd21e6f4",
   "metadata": {},
   "outputs": [],
   "source": [
    "\"\"\"\n",
    "Recreate basins for the eORCA1 grid\n",
    "\n",
    "\"\"\""
   ]
  },
  {
   "cell_type": "code",
   "execution_count": null,
   "id": "c34dde31-fdb0-4af7-8b7b-affbda18fbe4",
   "metadata": {},
   "outputs": [],
   "source": [
    "import xarray as xr"
   ]
  }
 ],
 "metadata": {
  "kernelspec": {
   "display_name": "py38",
   "language": "python",
   "name": "py38"
  },
  "language_info": {
   "codemirror_mode": {
    "name": "ipython",
    "version": 3
   },
   "file_extension": ".py",
   "mimetype": "text/x-python",
   "name": "python",
   "nbconvert_exporter": "python",
   "pygments_lexer": "ipython3",
   "version": "3.8.18"
  }
 },
 "nbformat": 4,
 "nbformat_minor": 5
}
