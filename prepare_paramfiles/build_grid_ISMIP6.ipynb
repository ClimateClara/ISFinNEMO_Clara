{
 "cells": [
  {
   "cell_type": "code",
   "execution_count": 1,
   "id": "af68cffa-71ea-4270-a0b3-b2eff54cb924",
   "metadata": {},
   "outputs": [
    {
     "data": {
      "text/plain": [
       "'\\nCreate an ISMIP grid that can be used for cdo stuff\\n\\n'"
      ]
     },
     "execution_count": 1,
     "metadata": {},
     "output_type": "execute_result"
    }
   ],
   "source": [
    "\"\"\"\n",
    "Create an ISMIP grid that can be used for cdo stuff\n",
    "\n",
    "\"\"\""
   ]
  },
  {
   "cell_type": "code",
   "execution_count": 2,
   "id": "9324f639-0cfb-4174-9767-915a58db4f7b",
   "metadata": {},
   "outputs": [],
   "source": [
    "# load modules\n",
    "import numpy as np\n",
    "import xarray as xr\n",
    "import pyproj"
   ]
  },
  {
   "cell_type": "code",
   "execution_count": 3,
   "id": "f5e639c0-6cf3-4ca3-917c-c893779e2b9e",
   "metadata": {},
   "outputs": [],
   "source": [
    "outputpath = '/data/cburgard/MELT_PARAM_NONRESOLVED/interim/'"
   ]
  },
  {
   "cell_type": "code",
   "execution_count": 4,
   "id": "98c79577-06ae-44a8-8854-02ca05b9e9f3",
   "metadata": {},
   "outputs": [],
   "source": [
    "\n",
    "# build x, y\n",
    "xlimits=[-3040000, 3040000]\n",
    "ylimits=[-3040000, 3040000]\n",
    "\n",
    "# change resolution here?\n",
    "res=2000\n",
    "cproj='epsg:3031'\n",
    "x=np.arange(xlimits[0],xlimits[1]+1,res)\n",
    "y=np.arange(ylimits[0],ylimits[1]+1,res)\n",
    "\n",
    "#bounds\n",
    "xbnds=np.zeros(shape=(x.shape[0],2))\n",
    "ybnds=np.zeros(shape=(y.shape[0],2))\n",
    "xbnds[:,0]=x-res/2 ; xbnds[:,1]=x+res/2 ;\n",
    "ybnds[:,0]=y-res/2 ; ybnds[:,1]=y+res/2 ;\n",
    "\n",
    "# lat, lon\n",
    "p = pyproj.Proj(cproj)\n",
    "xin ,yin = np.meshgrid(x,y)\n",
    "lon,lat = p(xin,yin,inverse=True)\n",
    "\n",
    "# lat lon bounds\n",
    "lonbnds=np.zeros(shape=(lon.shape[0],lon.shape[1],4))\n",
    "latbnds=np.zeros(shape=(lat.shape[0],lat.shape[1],4))\n",
    "\n",
    "xin ,yin = np.meshgrid(xbnds[:,0],ybnds[:,0]); lonbnds[:,:,0],latbnds[:,:,0]=p(xin,yin,inverse=True)\n",
    "xin ,yin = np.meshgrid(xbnds[:,1],ybnds[:,0]); lonbnds[:,:,1],latbnds[:,:,1]=p(xin,yin,inverse=True)\n",
    "xin ,yin = np.meshgrid(xbnds[:,1],ybnds[:,1]); lonbnds[:,:,2],latbnds[:,:,2]=p(xin,yin,inverse=True)\n",
    "xin ,yin = np.meshgrid(xbnds[:,0],ybnds[:,1]); lonbnds[:,:,3],latbnds[:,:,3]=p(xin,yin,inverse=True)\n",
    "\n",
    "\n",
    "# cell area\n",
    "cell_area=np.zeros(shape=(lon.shape[0],lon.shape[1]))+res**2\n",
    "\n",
    "\n",
    "# In[147]:\n",
    "\n",
    "\n",
    "# define data\n",
    "data_grid = {'lon':(['y','x'],lon,\n",
    "                   {'long_name':'longitude',\n",
    "                   'standard_name':'longitude',\n",
    "                   'units':'degrees_east',\n",
    "                   'bounds':'lon_bnds'}),\n",
    "             'lon_bnds':(['y','x','nv4'],lonbnds),\n",
    "             'lat':(['y','x'],lat,\n",
    "                   {'long_name':'latitude',\n",
    "                   'standard_name':'latitude',\n",
    "                   'units':'degrees_north',\n",
    "                   'bounds':'lat_bnds'}),\n",
    "             'lat_bnds':(['y','x','nv4'],latbnds),\n",
    "             'cell_area':(['y','x'],cell_area,\n",
    "                   {'long_name':'area of grid cell',\n",
    "                   'standard_name':'cell_area',\n",
    "                   'coordinates':'lat lon',\n",
    "                   'units':'m2'}),\n",
    "             'mapping':([],3031,\n",
    "                   {'grid_mapping_name':'Antarctic Polar Stereographic',\n",
    "                    'latitude_of_origin':'-71',\n",
    "                    'central_meridian':'0',\n",
    "                    'false_easting':'0',\n",
    "                    'false_northing':'0',\n",
    "                    'unit':'m',\n",
    "                    'authority':'epsg3031'})\n",
    "            }\n",
    "            \n",
    "            #  'lon2d':(['y','x'],lon,\n",
    "            #        {'long_name':'grid center longitude',\n",
    "            #        'standard_name':'longitude',\n",
    "            #        'units':'degrees_east',\n",
    "            #        'coordinates':'lat lon',\n",
    "            #        '_CoordinateAxisType':\"Lon\"}),\n",
    "            #  'lat2d':(['y','x'],lat,\n",
    "            #        {'long_name':'grid center latitude',\n",
    "            #        'standard_name':'latitude',\n",
    "            #        'units':'degrees_north',\n",
    "            #        'coordinates':'lat lon',\n",
    "            #        '_CoordinateAxisType':\"Lat\"}),\n",
    "# define coordinates\n",
    "coords = {'x': (['x'], x,\n",
    "                {'units':'m',\n",
    "                 'long_name':'x-coordinate in Cartesian system'}),\n",
    "          'y': (['y'], y,\n",
    "                {'units':'m',\n",
    "                 'long_name':'y-coordinate in Cartesian system'})}\n",
    "\n",
    "attrs = {'conventions':\"x_bnds, y_bnds, lon_bnds and lat_bnds follow cf convention: https://cfconventions.org/cf-conventions/cf-conventions.html\"}\n",
    "\n",
    "\n",
    "# In[148]:\n",
    "\n",
    "\n",
    "ds = xr.Dataset(data_vars=data_grid, \n",
    "                coords=coords,\n",
    "                attrs=attrs)\n",
    "\n",
    "\n",
    "# In[153]:\n",
    "\n",
    "\n",
    "ds.to_netcdf(outputpath + 'ISMIP6_grid_AIS_'+str(res)+'m.nc')"
   ]
  },
  {
   "cell_type": "code",
   "execution_count": null,
   "id": "863a2a6a-3836-438b-94d7-5bf023011fd8",
   "metadata": {},
   "outputs": [],
   "source": []
  }
 ],
 "metadata": {
  "kernelspec": {
   "display_name": "py38",
   "language": "python",
   "name": "py38"
  },
  "language_info": {
   "codemirror_mode": {
    "name": "ipython",
    "version": 3
   },
   "file_extension": ".py",
   "mimetype": "text/x-python",
   "name": "python",
   "nbconvert_exporter": "python",
   "pygments_lexer": "ipython3",
   "version": "3.8.18"
  }
 },
 "nbformat": 4,
 "nbformat_minor": 5
}
