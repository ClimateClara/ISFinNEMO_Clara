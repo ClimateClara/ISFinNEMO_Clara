{
 "cells": [
  {
   "cell_type": "code",
   "execution_count": null,
   "id": "d33a0ba0-1949-4d4b-9aef-2de855d159ce",
   "metadata": {},
   "outputs": [],
   "source": [
    "\"\"\"\n",
    "Created on Fri May 02 16:38 2025\n",
    "\n",
    "Prepare the fronts of the different basins to apply the melt param in ice-shelf areas not resolved at 1 deg\n",
    "\n",
    "@author: Clara Burgard\n",
    "\"\"\""
   ]
  },
  {
   "cell_type": "code",
   "execution_count": 60,
   "id": "812a31bc-f951-4981-bdea-34cc08532611",
   "metadata": {},
   "outputs": [],
   "source": [
    "import xarray as xr\n",
    "import numpy as np\n",
    "from cdo import Cdo\n",
    "from tqdm.notebook import tqdm\n",
    "import matplotlib.pyplot as plt\n",
    "from datetime import date\n",
    "import xesmf as xe\n",
    "import cc3d"
   ]
  },
  {
   "cell_type": "code",
   "execution_count": 4,
   "id": "51657dc2-6a20-4a1f-a799-43df9c3576c0",
   "metadata": {},
   "outputs": [
    {
     "name": "stderr",
     "output_type": "stream",
     "text": [
      "QStandardPaths: error creating runtime directory '/run/user/2784' (Permission denied)\n"
     ]
    }
   ],
   "source": [
    "%matplotlib qt5"
   ]
  },
  {
   "cell_type": "code",
   "execution_count": 5,
   "id": "b5ec574f-922f-4460-ab83-6a03429e0fd6",
   "metadata": {},
   "outputs": [
    {
     "name": "stdout",
     "output_type": "stream",
     "text": [
      "this is CDO version 2.1.0\n"
     ]
    }
   ],
   "source": [
    "cdo = Cdo()\n",
    "print('this is CDO version %s'%(cdo.version()))"
   ]
  },
  {
   "cell_type": "code",
   "execution_count": 114,
   "id": "33919035-9b27-4254-b541-485be1a642d4",
   "metadata": {},
   "outputs": [],
   "source": [
    "inputpath_raw = '/data/cburgard/PREPARE_FORCING/PREPARE_CAVITY_MASKS/raw/'\n",
    "inputpath_interim = '/data/cburgard/PREPARE_FORCING/PREPARE_CAVITY_MASKS/interim/'\n",
    "inputpath_interim2 = '/data/cburgard/MELT_PARAM_NONRESOLVED/interim/'"
   ]
  },
  {
   "cell_type": "code",
   "execution_count": 7,
   "id": "f55dbae1-fa94-4b4d-8378-75248c6601f8",
   "metadata": {},
   "outputs": [],
   "source": [
    "file_Justine = xr.open_dataset(inputpath_interim + 'Mask_Iceshelf_IMBIE2_v2_with_zmin_zmax_isfconc.nc').drop('quantile')"
   ]
  },
  {
   "cell_type": "code",
   "execution_count": 125,
   "id": "c250d8b1-86a3-41f3-aead-9aed9bbc0f1c",
   "metadata": {},
   "outputs": [],
   "source": [
    "BedMachine_mask = xr.open_dataset(inputpath_interim + 'BedMachine_v3_aggregated2km_masks_only.nc')\n",
    "BedMachine_vars_2km= xr.open_dataset(inputpath_interim + 'BedMachine_v3_aggregated2km_allvars_withcategories.nc')"
   ]
  },
  {
   "cell_type": "code",
   "execution_count": 8,
   "id": "1af9f5da-c49a-42d6-b0ae-1076f1d5ec3f",
   "metadata": {},
   "outputs": [],
   "source": [
    "fNEMO_mask = 'eORCA1.4.3_OpenSeas_OpenAllCav_ModStraights_domain_cfg.nc'"
   ]
  },
  {
   "cell_type": "code",
   "execution_count": 9,
   "id": "eff7583d-7302-4911-bcb0-c4faf8ef7e7d",
   "metadata": {},
   "outputs": [],
   "source": [
    "input_grid = xr.open_dataset(inputpath_interim + 'IMBIE_2km_stereo_withbnds.nc')\n",
    "# will be provided, was created with create_cdo_stereo_grid.ipynb"
   ]
  },
  {
   "cell_type": "markdown",
   "id": "9bb61c50-2b37-40d9-9d44-4f10629a6e37",
   "metadata": {},
   "source": [
    "TRY DEFINING THE BORDER OF THE UNRESOLVED ICE SHELVES "
   ]
  },
  {
   "cell_type": "code",
   "execution_count": 19,
   "id": "cf841abb-48e4-49e3-8ead-87fc44e12c81",
   "metadata": {},
   "outputs": [],
   "source": [
    "domain_cfg = xr.open_dataset(inputpath_raw + 'eORCA1.4.3_OpenSeas_OpenAllCav_ModStraights/eORCA1.4.3_OpenSeas_OpenAllCav_ModStraights_domain_cfg.nc')"
   ]
  },
  {
   "cell_type": "code",
   "execution_count": 11,
   "id": "2bcfcdd3-f2e5-41bc-ae8f-3b9c468bf9ae",
   "metadata": {},
   "outputs": [],
   "source": [
    "masks_for_eORCA1 = xr.open_dataset(inputpath_interim + 'masks_for_eORCA1.nc')"
   ]
  },
  {
   "cell_type": "code",
   "execution_count": 14,
   "id": "aa10a10c-e4f0-471a-b005-34bccd06b497",
   "metadata": {},
   "outputs": [
    {
     "name": "stderr",
     "output_type": "stream",
     "text": [
      "libGL error: No matching fbConfigs or visuals found\n",
      "libGL error: failed to load driver: swrast\n"
     ]
    },
    {
     "data": {
      "text/plain": [
       "<matplotlib.collections.QuadMesh at 0x145d483446d0>"
      ]
     },
     "execution_count": 14,
     "metadata": {},
     "output_type": "execute_result"
    }
   ],
   "source": [
    "masks_for_eORCA1['mask_isf_open'].plot()"
   ]
  },
  {
   "cell_type": "markdown",
   "id": "e1f7624c-0724-42f6-98c3-a3fd0846b85b",
   "metadata": {},
   "source": [
    "HAVE JUSTINE'S MASK ON NEMO GRID"
   ]
  },
  {
   "cell_type": "code",
   "execution_count": null,
   "id": "abdaeee5-0343-4ccd-8eab-a8aa28f5ada6",
   "metadata": {},
   "outputs": [],
   "source": [
    "cdo selvar,isf_draft domain_cfg_withclosedlargeisf.nc isfdraft_withclosedlargeisf.nc\n",
    "cdo selvar,isf_draft -setgrid,domain_cfg_withclosedlargeisf.nc domain_cfg_withopenisf.nc isfdraft_withopenisf.nc\n",
    "\n",
    "cdo remapnn,Iceshelf_extrap_IMBIE2_v2.nc isfdraft_withclosedlargeisf.nc isfdraft_withclosedlargeisf_onIMBIEgrid.nc \n",
    "cdo remapnn,Iceshelf_extrap_IMBIE2_v2.nc isfdraft_withopenisf.nc isfdraft_withopenisf_onIMBIEgrid.nc "
   ]
  },
  {
   "cell_type": "code",
   "execution_count": 29,
   "id": "fd9c4df6-eaf6-4aef-9ae2-f373c5e3bb1f",
   "metadata": {},
   "outputs": [],
   "source": [
    "isfmask_nn = cdo.remapnn(inputpath_interim + 'NEMO_grid_withbnds.nc',input=file_Justine['Iceshelf_extrap'], returnArray='Iceshelf_extrap')\n",
    "isfmask = xr.DataArray(data=isfmask_nn, dims=['y','x'])"
   ]
  },
  {
   "cell_type": "markdown",
   "id": "57d00266-4dd3-4ea7-9056-a9463c073fc5",
   "metadata": {},
   "source": [
    "regrid NEMO stuff on Justine's grid and then also apply a lsmask on Justine's stuff and this gives us the rest"
   ]
  },
  {
   "cell_type": "code",
   "execution_count": 17,
   "id": "5c311081-cd53-4927-992f-5f4dee2461ba",
   "metadata": {},
   "outputs": [],
   "source": [
    "ID_open_list = [21,66,67,117,124,125,127,128]"
   ]
  },
  {
   "cell_type": "code",
   "execution_count": 28,
   "id": "3e8386b8-4226-4f7d-8966-cfed1974b86f",
   "metadata": {},
   "outputs": [
    {
     "data": {
      "text/plain": [
       "<matplotlib.collections.QuadMesh at 0x145d43cb9dc0>"
      ]
     },
     "execution_count": 28,
     "metadata": {},
     "output_type": "execute_result"
    }
   ],
   "source": [
    "file_Justine['Iceshelf_extrap'].plot()"
   ]
  },
  {
   "cell_type": "code",
   "execution_count": 21,
   "id": "cc026372-44c3-4fb3-8143-93088a8ee6c9",
   "metadata": {},
   "outputs": [
    {
     "data": {
      "application/vnd.jupyter.widget-view+json": {
       "model_id": "c5c07f0f66a6456182fca18d454768a2",
       "version_major": 2,
       "version_minor": 0
      },
      "text/plain": [
       "  0%|          | 0/8 [00:00<?, ?it/s]"
      ]
     },
     "metadata": {},
     "output_type": "display_data"
    }
   ],
   "source": [
    "tweaked_domaing_cfg = domain_cfg.copy()\n",
    "for id_open in tqdm(ID_open_list):\n",
    "    for vv in ['bottom_level','top_level','isf_draft','bathy_metry']:\n",
    "        tweaked_domaing_cfg[vv] = tweaked_domaing_cfg[vv].where(masks_for_eORCA1['mask_isf'] != id_open, 0)"
   ]
  },
  {
   "cell_type": "code",
   "execution_count": 31,
   "id": "ff10401f-11f8-4d5a-836b-513256e9def7",
   "metadata": {},
   "outputs": [],
   "source": [
    "tweaked_domaing_cfg.to_netcdf(inputpath_interim + 'domain_cfg_withclosedlargeisf.nc')"
   ]
  },
  {
   "cell_type": "code",
   "execution_count": 39,
   "id": "53686b2a-bf05-40e8-9bbc-45b1dba9015a",
   "metadata": {},
   "outputs": [],
   "source": [
    "domain_cfg.to_netcdf(inputpath_interim + 'domain_cfg_withopenisf.nc')"
   ]
  },
  {
   "cell_type": "code",
   "execution_count": 40,
   "id": "a08121cb-8f79-4e85-9b47-922226dd9dff",
   "metadata": {},
   "outputs": [],
   "source": [
    "largeisf_on_IMBIEgrid = xr.open_dataset(inputpath_interim + 'isfdraft_withopenisf_onIMBIEgrid.nc')"
   ]
  },
  {
   "cell_type": "code",
   "execution_count": null,
   "id": "f60b290e-4cc8-4a22-b3c5-76eb8707b79d",
   "metadata": {},
   "outputs": [],
   "source": [
    "unresolved_areas = ((largeisf_on_IMBIEgrid['isf_draft'] == 0) & (BedMachine_mask['isf_conc'] > 0))"
   ]
  },
  {
   "cell_type": "code",
   "execution_count": 58,
   "id": "399d31d0-2766-4d47-802c-75dde45f0802",
   "metadata": {},
   "outputs": [
    {
     "data": {
      "application/vnd.jupyter.widget-view+json": {
       "model_id": "87fd30f0d88f4288a4130465bb406121",
       "version_major": 2,
       "version_minor": 0
      },
      "text/plain": [
       "  0%|          | 0/8 [00:00<?, ?it/s]"
      ]
     },
     "metadata": {},
     "output_type": "display_data"
    }
   ],
   "source": [
    "onlyunresolvedareas = file_Justine['Iceshelf_extrap'] * np.nan\n",
    "for id_open in tqdm(ID_open_list):\n",
    "    unresolved_kisf = file_Justine['Iceshelf_extrap'].where((file_Justine['Iceshelf_extrap'] == id_open) & (largeisf_on_IMBIEgrid['isf_draft'] == 0) & (BedMachine_mask['isf_conc'] > 0))\n",
    "    onlyunresolvedareas = onlyunresolvedareas.combine_first(unresolved_kisf)"
   ]
  },
  {
   "cell_type": "code",
   "execution_count": 56,
   "id": "e323efb6-0b4b-45ca-a228-8de2270bd9d7",
   "metadata": {},
   "outputs": [],
   "source": [
    "# Correct manually to remove everything that's not touching ground\n",
    "xx = onlyunresolvedareas.x\n",
    "yy = onlyunresolvedareas.y\n",
    "#onlyunresolvedareas = onlyunresolvedareas.where(~((xx >= -2.23e6) & (xx <= -2.00e6) & (yy >= 1.12e6) & (yy <= 1.24e6)), np.nan)\n",
    "#onlyunresolvedareas = onlyunresolvedareas.where(~((xx >= -7.6e5) & (xx <= -6.88e5) & (yy >= 1.35e6) & (yy <= 1.7e6)), np.nan)\n",
    "#onlyunresolvedareas = onlyunresolvedareas.where(~((xx >= -6.77e5) & (xx <= -5.4e5) & (yy >= 1.57e6) & (yy <= 1.88e6)), np.nan)\n",
    "#onlyunresolvedareas = onlyunresolvedareas.where(~((xx >= -5.5e5) & (xx <= -4.9e5) & (yy >= 1.69e6) & (yy <= 1.91e6)), np.nan)"
   ]
  },
  {
   "cell_type": "code",
   "execution_count": 64,
   "id": "179884dd-ae00-4689-adf3-5d0bda256a29",
   "metadata": {},
   "outputs": [],
   "source": [
    "mask_unresolved = (onlyunresolvedareas > 1).squeeze('time')"
   ]
  },
  {
   "cell_type": "code",
   "execution_count": 67,
   "id": "f0999421-1792-4559-bd1b-692521859e90",
   "metadata": {},
   "outputs": [],
   "source": [
    "threshold = 1\n",
    "connectivity = 4\n",
    "\n",
    "#find connected components\n",
    "dusted = cc3d.dust(mask_unresolved.values.astype(np.int64), \n",
    "           threshold = threshold, \n",
    "           connectivity = connectivity, \n",
    "           in_place = False)"
   ]
  },
  {
   "cell_type": "code",
   "execution_count": 76,
   "id": "4f7387e1-8f14-4324-a73b-617c8cb5b1a3",
   "metadata": {},
   "outputs": [],
   "source": [
    "labels_out = cc3d.connected_components(dusted, \n",
    "                               connectivity = connectivity)"
   ]
  },
  {
   "cell_type": "code",
   "execution_count": 141,
   "id": "b95e423f-8a44-411d-8be8-4e71d3e1faa3",
   "metadata": {},
   "outputs": [],
   "source": [
    "unresolved_components = xr.DataArray(data=labels_out, dims=mask_unresolved.dims)"
   ]
  },
  {
   "cell_type": "code",
   "execution_count": 142,
   "id": "b18c5150-635c-48d8-a18d-6772b6997368",
   "metadata": {},
   "outputs": [],
   "source": [
    "unresolved_components = unresolved_components.where(unresolved_components > 0)+133\n",
    "#unresolved_components = unresolved_components.where(np.isfinite(unresolved_components), 0)"
   ]
  },
  {
   "cell_type": "code",
   "execution_count": 143,
   "id": "1edcb21f-8acc-4157-a166-5a23cdcecfc0",
   "metadata": {},
   "outputs": [],
   "source": [
    "allbasins = unresolved_components.combine_first(file_Justine['Iceshelf_extrap']).to_dataset(name='Iceshelf_extrap')"
   ]
  },
  {
   "cell_type": "code",
   "execution_count": 144,
   "id": "738db12f-1981-427e-a509-0feee94ff23b",
   "metadata": {},
   "outputs": [],
   "source": [
    "ice_draft = (BedMachine_vars_2km['thickness'] - BedMachine_vars_2km['surface']).sel(category=3).drop('category')"
   ]
  },
  {
   "cell_type": "code",
   "execution_count": 145,
   "id": "ab8356a3-1ee6-4586-8c62-c65e0d173e1d",
   "metadata": {},
   "outputs": [
    {
     "data": {
      "application/vnd.jupyter.widget-view+json": {
       "model_id": "dfd6cb2555a847f0b530ca9d437e967a",
       "version_major": 2,
       "version_minor": 0
      },
      "text/plain": [
       "  0%|          | 0/817 [00:00<?, ?it/s]"
      ]
     },
     "metadata": {},
     "output_type": "display_data"
    }
   ],
   "source": [
    "zmin_list = []\n",
    "zmax_list = []\n",
    "for kisf in tqdm(range(1,818)):\n",
    "    isf_mask = (allbasins['Iceshelf_extrap'] == kisf) & (BedMachine_mask['isf_conc'] > 0)\n",
    "\n",
    "    zmin = ice_draft.where(isf_mask).min()\n",
    "    zmin_list.append(zmin.assign_coords({'ID': kisf}))\n",
    "    zmax = ice_draft.where(isf_mask).max()\n",
    "    zmax_list.append(zmax.assign_coords({'ID': kisf}))\n",
    "\n",
    "zmin_all = xr.concat(zmin_list, dim='ID')\n",
    "zmax_all = xr.concat(zmax_list, dim='ID')"
   ]
  },
  {
   "cell_type": "code",
   "execution_count": 146,
   "id": "13a0d773-6b4a-410b-97eb-2108de1bdfc4",
   "metadata": {},
   "outputs": [],
   "source": [
    "allbasins['zmin'] = zmin_all\n",
    "allbasins['zmax'] = zmax_all"
   ]
  },
  {
   "cell_type": "code",
   "execution_count": 147,
   "id": "5f702692-ad76-4784-899e-08a451b70b09",
   "metadata": {},
   "outputs": [],
   "source": [
    "allbasins.to_netcdf(inputpath_interim2 + 'allbasins_IMBIEgrid.nc')"
   ]
  },
  {
   "cell_type": "code",
   "execution_count": null,
   "id": "95098f2e-e682-4eb3-80d1-177ae717371d",
   "metadata": {},
   "outputs": [],
   "source": [
    "cdo remapnn,NEMO_grid_withbnds.nc -selvar,Iceshelf_extrap allbasins_IMBIEgrid.nc allbasins_NEMO1grid.nc"
   ]
  },
  {
   "cell_type": "code",
   "execution_count": 148,
   "id": "4836ac2d-68c3-4a65-b3b7-acede4611a57",
   "metadata": {},
   "outputs": [],
   "source": [
    "check = xr.open_dataset(inputpath_interim2 + 'allbasins_NEMO1grid.nc')"
   ]
  },
  {
   "cell_type": "code",
   "execution_count": 150,
   "id": "d8a59696-ee81-4b3a-bad1-26817147fa25",
   "metadata": {},
   "outputs": [],
   "source": [
    "# need to define the fronts and assign the zmin and zmax. Before that, group the scattered things in regions that make more sense. \n",
    "# But I think this will take quite some time, manually :/"
   ]
  },
  {
   "cell_type": "code",
   "execution_count": 149,
   "id": "cd4077ec-964c-433d-90aa-39c0288767d5",
   "metadata": {
    "scrolled": true
   },
   "outputs": [
    {
     "data": {
      "text/plain": [
       "<matplotlib.collections.QuadMesh at 0x145c71ba1c40>"
      ]
     },
     "execution_count": 149,
     "metadata": {},
     "output_type": "execute_result"
    }
   ],
   "source": [
    "check['Iceshelf_extrap'].plot()"
   ]
  },
  {
   "cell_type": "code",
   "execution_count": 103,
   "id": "01027d12-1031-48b7-a2f5-d253f8a9a652",
   "metadata": {},
   "outputs": [
    {
     "data": {
      "text/plain": [
       "[1, 19]"
      ]
     },
     "execution_count": 103,
     "metadata": {},
     "output_type": "execute_result"
    }
   ],
   "source": [
    "#Put some order in all scattered components => will do that at another time\n",
    "plt.figure()\n",
    "unresolved_components.where((unresolved_components >= 1) & (unresolved_components <= 10), drop=True).plot(vmin=1,vmax=100)"
   ]
  },
  {
   "cell_type": "code",
   "execution_count": null,
   "id": "6ed0564c-e200-46cf-abe9-c12131c611ed",
   "metadata": {},
   "outputs": [],
   "source": []
  },
  {
   "cell_type": "code",
   "execution_count": null,
   "id": "3c80e7ef-01e3-48a2-b9fe-730a031691a8",
   "metadata": {},
   "outputs": [],
   "source": []
  },
  {
   "cell_type": "code",
   "execution_count": null,
   "id": "0929b4ee-719c-4f57-b44b-332daf8e8ec0",
   "metadata": {},
   "outputs": [],
   "source": []
  },
  {
   "cell_type": "code",
   "execution_count": null,
   "id": "108754a7-9a2e-49c2-89b9-f6dac2643f79",
   "metadata": {},
   "outputs": [],
   "source": []
  },
  {
   "cell_type": "code",
   "execution_count": null,
   "id": "9160088d-3e84-48dd-989d-ad53151bd647",
   "metadata": {},
   "outputs": [],
   "source": []
  },
  {
   "cell_type": "code",
   "execution_count": null,
   "id": "82676278-775e-4d18-82fa-3d3602b02e33",
   "metadata": {},
   "outputs": [],
   "source": []
  },
  {
   "cell_type": "code",
   "execution_count": null,
   "id": "5d9dfe4f-2b6d-4323-b016-435f9f6ebcf0",
   "metadata": {},
   "outputs": [],
   "source": []
  },
  {
   "cell_type": "code",
   "execution_count": null,
   "id": "75154402-d992-4ec1-b209-fc9a82f8f81e",
   "metadata": {},
   "outputs": [],
   "source": []
  },
  {
   "cell_type": "code",
   "execution_count": null,
   "id": "f6a49d59-a036-404b-9505-ede8a175cd77",
   "metadata": {},
   "outputs": [],
   "source": []
  },
  {
   "cell_type": "code",
   "execution_count": null,
   "id": "016a16e3-3936-441a-acc9-6b5a53d83069",
   "metadata": {},
   "outputs": [],
   "source": []
  },
  {
   "cell_type": "code",
   "execution_count": 71,
   "id": "fbe0ee08-87de-4c01-9658-abb60564e274",
   "metadata": {},
   "outputs": [
    {
     "ename": "NameError",
     "evalue": "name 'file_conc' is not defined",
     "output_type": "error",
     "traceback": [
      "\u001b[0;31m---------------------------------------------------------------------------\u001b[0m",
      "\u001b[0;31mNameError\u001b[0m                                 Traceback (most recent call last)",
      "Cell \u001b[0;32mIn[71], line 5\u001b[0m\n\u001b[1;32m      1\u001b[0m labels_out \u001b[38;5;241m=\u001b[39m cc3d\u001b[38;5;241m.\u001b[39mconnected_components(dusted, \n\u001b[1;32m      2\u001b[0m                                connectivity \u001b[38;5;241m=\u001b[39m connectivity)\n\u001b[1;32m      4\u001b[0m labelled_isf \u001b[38;5;241m=\u001b[39m xr\u001b[38;5;241m.\u001b[39mDataArray(labels_out, \n\u001b[0;32m----> 5\u001b[0m                 coords \u001b[38;5;241m=\u001b[39m {\u001b[38;5;124m\"\u001b[39m\u001b[38;5;124my\u001b[39m\u001b[38;5;124m\"\u001b[39m: \u001b[43mfile_conc\u001b[49m\u001b[38;5;241m.\u001b[39my, \u001b[38;5;124m\"\u001b[39m\u001b[38;5;124mx\u001b[39m\u001b[38;5;124m\"\u001b[39m: file_conc\u001b[38;5;241m.\u001b[39mx}, \n\u001b[1;32m      6\u001b[0m                 dims \u001b[38;5;241m=\u001b[39m [\u001b[38;5;124m\"\u001b[39m\u001b[38;5;124my\u001b[39m\u001b[38;5;124m\"\u001b[39m, \u001b[38;5;124m\"\u001b[39m\u001b[38;5;124mx\u001b[39m\u001b[38;5;124m\"\u001b[39m],\n\u001b[1;32m      7\u001b[0m                 name \u001b[38;5;241m=\u001b[39m \u001b[38;5;124m\"\u001b[39m\u001b[38;5;124mlabels\u001b[39m\u001b[38;5;124m\"\u001b[39m)\n\u001b[1;32m      9\u001b[0m all_isf_list \u001b[38;5;241m=\u001b[39m np\u001b[38;5;241m.\u001b[39marray(\u001b[38;5;28mlist\u001b[39m(new_mask\u001b[38;5;241m.\u001b[39mgroupby(new_mask)\u001b[38;5;241m.\u001b[39mgroups))\n\u001b[1;32m     10\u001b[0m isf_labels \u001b[38;5;241m=\u001b[39m all_isf_list[all_isf_list\u001b[38;5;241m>\u001b[39m\u001b[38;5;241m9\u001b[39m]\n",
      "\u001b[0;31mNameError\u001b[0m: name 'file_conc' is not defined"
     ]
    }
   ],
   "source": [
    "\n",
    "\n",
    "labelled_isf = xr.DataArray(labels_out, \n",
    "                coords = {\"y\": file_conc.y, \"x\": file_conc.x}, \n",
    "                dims = [\"y\", \"x\"],\n",
    "                name = \"labels\")\n",
    "\n",
    "all_isf_list = np.array(list(new_mask.groupby(new_mask).groups))\n",
    "isf_labels = all_isf_list[all_isf_list>9]"
   ]
  },
  {
   "cell_type": "markdown",
   "id": "ac5694f0-1b7c-4f12-8989-852168f723cf",
   "metadata": {},
   "source": [
    "give numbers to all these subbasins, then regrid on eORCA1 and put them into the mask file"
   ]
  },
  {
   "cell_type": "code",
   "execution_count": 59,
   "id": "83d5dceb-72a0-4778-b9f3-f406b03f8bdd",
   "metadata": {},
   "outputs": [
    {
     "data": {
      "text/html": [
       "<div><svg style=\"position: absolute; width: 0; height: 0; overflow: hidden\">\n",
       "<defs>\n",
       "<symbol id=\"icon-database\" viewBox=\"0 0 32 32\">\n",
       "<path d=\"M16 0c-8.837 0-16 2.239-16 5v4c0 2.761 7.163 5 16 5s16-2.239 16-5v-4c0-2.761-7.163-5-16-5z\"></path>\n",
       "<path d=\"M16 17c-8.837 0-16-2.239-16-5v6c0 2.761 7.163 5 16 5s16-2.239 16-5v-6c0 2.761-7.163 5-16 5z\"></path>\n",
       "<path d=\"M16 26c-8.837 0-16-2.239-16-5v6c0 2.761 7.163 5 16 5s16-2.239 16-5v-6c0 2.761-7.163 5-16 5z\"></path>\n",
       "</symbol>\n",
       "<symbol id=\"icon-file-text2\" viewBox=\"0 0 32 32\">\n",
       "<path d=\"M28.681 7.159c-0.694-0.947-1.662-2.053-2.724-3.116s-2.169-2.030-3.116-2.724c-1.612-1.182-2.393-1.319-2.841-1.319h-15.5c-1.378 0-2.5 1.121-2.5 2.5v27c0 1.378 1.122 2.5 2.5 2.5h23c1.378 0 2.5-1.122 2.5-2.5v-19.5c0-0.448-0.137-1.23-1.319-2.841zM24.543 5.457c0.959 0.959 1.712 1.825 2.268 2.543h-4.811v-4.811c0.718 0.556 1.584 1.309 2.543 2.268zM28 29.5c0 0.271-0.229 0.5-0.5 0.5h-23c-0.271 0-0.5-0.229-0.5-0.5v-27c0-0.271 0.229-0.5 0.5-0.5 0 0 15.499-0 15.5 0v7c0 0.552 0.448 1 1 1h7v19.5z\"></path>\n",
       "<path d=\"M23 26h-14c-0.552 0-1-0.448-1-1s0.448-1 1-1h14c0.552 0 1 0.448 1 1s-0.448 1-1 1z\"></path>\n",
       "<path d=\"M23 22h-14c-0.552 0-1-0.448-1-1s0.448-1 1-1h14c0.552 0 1 0.448 1 1s-0.448 1-1 1z\"></path>\n",
       "<path d=\"M23 18h-14c-0.552 0-1-0.448-1-1s0.448-1 1-1h14c0.552 0 1 0.448 1 1s-0.448 1-1 1z\"></path>\n",
       "</symbol>\n",
       "</defs>\n",
       "</svg>\n",
       "<style>/* CSS stylesheet for displaying xarray objects in jupyterlab.\n",
       " *\n",
       " */\n",
       "\n",
       ":root {\n",
       "  --xr-font-color0: var(--jp-content-font-color0, rgba(0, 0, 0, 1));\n",
       "  --xr-font-color2: var(--jp-content-font-color2, rgba(0, 0, 0, 0.54));\n",
       "  --xr-font-color3: var(--jp-content-font-color3, rgba(0, 0, 0, 0.38));\n",
       "  --xr-border-color: var(--jp-border-color2, #e0e0e0);\n",
       "  --xr-disabled-color: var(--jp-layout-color3, #bdbdbd);\n",
       "  --xr-background-color: var(--jp-layout-color0, white);\n",
       "  --xr-background-color-row-even: var(--jp-layout-color1, white);\n",
       "  --xr-background-color-row-odd: var(--jp-layout-color2, #eeeeee);\n",
       "}\n",
       "\n",
       "html[theme=dark],\n",
       "body[data-theme=dark],\n",
       "body.vscode-dark {\n",
       "  --xr-font-color0: rgba(255, 255, 255, 1);\n",
       "  --xr-font-color2: rgba(255, 255, 255, 0.54);\n",
       "  --xr-font-color3: rgba(255, 255, 255, 0.38);\n",
       "  --xr-border-color: #1F1F1F;\n",
       "  --xr-disabled-color: #515151;\n",
       "  --xr-background-color: #111111;\n",
       "  --xr-background-color-row-even: #111111;\n",
       "  --xr-background-color-row-odd: #313131;\n",
       "}\n",
       "\n",
       ".xr-wrap {\n",
       "  display: block !important;\n",
       "  min-width: 300px;\n",
       "  max-width: 700px;\n",
       "}\n",
       "\n",
       ".xr-text-repr-fallback {\n",
       "  /* fallback to plain text repr when CSS is not injected (untrusted notebook) */\n",
       "  display: none;\n",
       "}\n",
       "\n",
       ".xr-header {\n",
       "  padding-top: 6px;\n",
       "  padding-bottom: 6px;\n",
       "  margin-bottom: 4px;\n",
       "  border-bottom: solid 1px var(--xr-border-color);\n",
       "}\n",
       "\n",
       ".xr-header > div,\n",
       ".xr-header > ul {\n",
       "  display: inline;\n",
       "  margin-top: 0;\n",
       "  margin-bottom: 0;\n",
       "}\n",
       "\n",
       ".xr-obj-type,\n",
       ".xr-array-name {\n",
       "  margin-left: 2px;\n",
       "  margin-right: 10px;\n",
       "}\n",
       "\n",
       ".xr-obj-type {\n",
       "  color: var(--xr-font-color2);\n",
       "}\n",
       "\n",
       ".xr-sections {\n",
       "  padding-left: 0 !important;\n",
       "  display: grid;\n",
       "  grid-template-columns: 150px auto auto 1fr 20px 20px;\n",
       "}\n",
       "\n",
       ".xr-section-item {\n",
       "  display: contents;\n",
       "}\n",
       "\n",
       ".xr-section-item input {\n",
       "  display: none;\n",
       "}\n",
       "\n",
       ".xr-section-item input + label {\n",
       "  color: var(--xr-disabled-color);\n",
       "}\n",
       "\n",
       ".xr-section-item input:enabled + label {\n",
       "  cursor: pointer;\n",
       "  color: var(--xr-font-color2);\n",
       "}\n",
       "\n",
       ".xr-section-item input:enabled + label:hover {\n",
       "  color: var(--xr-font-color0);\n",
       "}\n",
       "\n",
       ".xr-section-summary {\n",
       "  grid-column: 1;\n",
       "  color: var(--xr-font-color2);\n",
       "  font-weight: 500;\n",
       "}\n",
       "\n",
       ".xr-section-summary > span {\n",
       "  display: inline-block;\n",
       "  padding-left: 0.5em;\n",
       "}\n",
       "\n",
       ".xr-section-summary-in:disabled + label {\n",
       "  color: var(--xr-font-color2);\n",
       "}\n",
       "\n",
       ".xr-section-summary-in + label:before {\n",
       "  display: inline-block;\n",
       "  content: '►';\n",
       "  font-size: 11px;\n",
       "  width: 15px;\n",
       "  text-align: center;\n",
       "}\n",
       "\n",
       ".xr-section-summary-in:disabled + label:before {\n",
       "  color: var(--xr-disabled-color);\n",
       "}\n",
       "\n",
       ".xr-section-summary-in:checked + label:before {\n",
       "  content: '▼';\n",
       "}\n",
       "\n",
       ".xr-section-summary-in:checked + label > span {\n",
       "  display: none;\n",
       "}\n",
       "\n",
       ".xr-section-summary,\n",
       ".xr-section-inline-details {\n",
       "  padding-top: 4px;\n",
       "  padding-bottom: 4px;\n",
       "}\n",
       "\n",
       ".xr-section-inline-details {\n",
       "  grid-column: 2 / -1;\n",
       "}\n",
       "\n",
       ".xr-section-details {\n",
       "  display: none;\n",
       "  grid-column: 1 / -1;\n",
       "  margin-bottom: 5px;\n",
       "}\n",
       "\n",
       ".xr-section-summary-in:checked ~ .xr-section-details {\n",
       "  display: contents;\n",
       "}\n",
       "\n",
       ".xr-array-wrap {\n",
       "  grid-column: 1 / -1;\n",
       "  display: grid;\n",
       "  grid-template-columns: 20px auto;\n",
       "}\n",
       "\n",
       ".xr-array-wrap > label {\n",
       "  grid-column: 1;\n",
       "  vertical-align: top;\n",
       "}\n",
       "\n",
       ".xr-preview {\n",
       "  color: var(--xr-font-color3);\n",
       "}\n",
       "\n",
       ".xr-array-preview,\n",
       ".xr-array-data {\n",
       "  padding: 0 5px !important;\n",
       "  grid-column: 2;\n",
       "}\n",
       "\n",
       ".xr-array-data,\n",
       ".xr-array-in:checked ~ .xr-array-preview {\n",
       "  display: none;\n",
       "}\n",
       "\n",
       ".xr-array-in:checked ~ .xr-array-data,\n",
       ".xr-array-preview {\n",
       "  display: inline-block;\n",
       "}\n",
       "\n",
       ".xr-dim-list {\n",
       "  display: inline-block !important;\n",
       "  list-style: none;\n",
       "  padding: 0 !important;\n",
       "  margin: 0;\n",
       "}\n",
       "\n",
       ".xr-dim-list li {\n",
       "  display: inline-block;\n",
       "  padding: 0;\n",
       "  margin: 0;\n",
       "}\n",
       "\n",
       ".xr-dim-list:before {\n",
       "  content: '(';\n",
       "}\n",
       "\n",
       ".xr-dim-list:after {\n",
       "  content: ')';\n",
       "}\n",
       "\n",
       ".xr-dim-list li:not(:last-child):after {\n",
       "  content: ',';\n",
       "  padding-right: 5px;\n",
       "}\n",
       "\n",
       ".xr-has-index {\n",
       "  font-weight: bold;\n",
       "}\n",
       "\n",
       ".xr-var-list,\n",
       ".xr-var-item {\n",
       "  display: contents;\n",
       "}\n",
       "\n",
       ".xr-var-item > div,\n",
       ".xr-var-item label,\n",
       ".xr-var-item > .xr-var-name span {\n",
       "  background-color: var(--xr-background-color-row-even);\n",
       "  margin-bottom: 0;\n",
       "}\n",
       "\n",
       ".xr-var-item > .xr-var-name:hover span {\n",
       "  padding-right: 5px;\n",
       "}\n",
       "\n",
       ".xr-var-list > li:nth-child(odd) > div,\n",
       ".xr-var-list > li:nth-child(odd) > label,\n",
       ".xr-var-list > li:nth-child(odd) > .xr-var-name span {\n",
       "  background-color: var(--xr-background-color-row-odd);\n",
       "}\n",
       "\n",
       ".xr-var-name {\n",
       "  grid-column: 1;\n",
       "}\n",
       "\n",
       ".xr-var-dims {\n",
       "  grid-column: 2;\n",
       "}\n",
       "\n",
       ".xr-var-dtype {\n",
       "  grid-column: 3;\n",
       "  text-align: right;\n",
       "  color: var(--xr-font-color2);\n",
       "}\n",
       "\n",
       ".xr-var-preview {\n",
       "  grid-column: 4;\n",
       "}\n",
       "\n",
       ".xr-index-preview {\n",
       "  grid-column: 2 / 5;\n",
       "  color: var(--xr-font-color2);\n",
       "}\n",
       "\n",
       ".xr-var-name,\n",
       ".xr-var-dims,\n",
       ".xr-var-dtype,\n",
       ".xr-preview,\n",
       ".xr-attrs dt {\n",
       "  white-space: nowrap;\n",
       "  overflow: hidden;\n",
       "  text-overflow: ellipsis;\n",
       "  padding-right: 10px;\n",
       "}\n",
       "\n",
       ".xr-var-name:hover,\n",
       ".xr-var-dims:hover,\n",
       ".xr-var-dtype:hover,\n",
       ".xr-attrs dt:hover {\n",
       "  overflow: visible;\n",
       "  width: auto;\n",
       "  z-index: 1;\n",
       "}\n",
       "\n",
       ".xr-var-attrs,\n",
       ".xr-var-data,\n",
       ".xr-index-data {\n",
       "  display: none;\n",
       "  background-color: var(--xr-background-color) !important;\n",
       "  padding-bottom: 5px !important;\n",
       "}\n",
       "\n",
       ".xr-var-attrs-in:checked ~ .xr-var-attrs,\n",
       ".xr-var-data-in:checked ~ .xr-var-data,\n",
       ".xr-index-data-in:checked ~ .xr-index-data {\n",
       "  display: block;\n",
       "}\n",
       "\n",
       ".xr-var-data > table {\n",
       "  float: right;\n",
       "}\n",
       "\n",
       ".xr-var-name span,\n",
       ".xr-var-data,\n",
       ".xr-index-name div,\n",
       ".xr-index-data,\n",
       ".xr-attrs {\n",
       "  padding-left: 25px !important;\n",
       "}\n",
       "\n",
       ".xr-attrs,\n",
       ".xr-var-attrs,\n",
       ".xr-var-data,\n",
       ".xr-index-data {\n",
       "  grid-column: 1 / -1;\n",
       "}\n",
       "\n",
       "dl.xr-attrs {\n",
       "  padding: 0;\n",
       "  margin: 0;\n",
       "  display: grid;\n",
       "  grid-template-columns: 125px auto;\n",
       "}\n",
       "\n",
       ".xr-attrs dt,\n",
       ".xr-attrs dd {\n",
       "  padding: 0;\n",
       "  margin: 0;\n",
       "  float: left;\n",
       "  padding-right: 10px;\n",
       "  width: auto;\n",
       "}\n",
       "\n",
       ".xr-attrs dt {\n",
       "  font-weight: normal;\n",
       "  grid-column: 1;\n",
       "}\n",
       "\n",
       ".xr-attrs dt:hover span {\n",
       "  display: inline-block;\n",
       "  background: var(--xr-background-color);\n",
       "  padding-right: 10px;\n",
       "}\n",
       "\n",
       ".xr-attrs dd {\n",
       "  grid-column: 2;\n",
       "  white-space: pre-wrap;\n",
       "  word-break: break-all;\n",
       "}\n",
       "\n",
       ".xr-icon-database,\n",
       ".xr-icon-file-text2,\n",
       ".xr-no-icon {\n",
       "  display: inline-block;\n",
       "  vertical-align: middle;\n",
       "  width: 1em;\n",
       "  height: 1.5em !important;\n",
       "  stroke-width: 0;\n",
       "  stroke: currentColor;\n",
       "  fill: currentColor;\n",
       "}\n",
       "</style><pre class='xr-text-repr-fallback'>&lt;xarray.DataArray &#x27;ID&#x27; (ID: 133)&gt;\n",
       "array([  1,   2,   3,   4,   5,   6,   7,   8,   9,  10,  11,  12,  13,  14,\n",
       "        15,  16,  17,  18,  19,  20,  21,  22,  23,  24,  25,  26,  27,  28,\n",
       "        29,  30,  31,  32,  33,  34,  35,  36,  37,  38,  39,  40,  41,  42,\n",
       "        43,  44,  45,  46,  47,  48,  49,  50,  51,  52,  53,  54,  55,  56,\n",
       "        57,  58,  59,  60,  61,  62,  63,  64,  65,  66,  67,  68,  69,  70,\n",
       "        71,  72,  73,  74,  75,  76,  77,  78,  79,  80,  81,  82,  83,  84,\n",
       "        85,  86,  87,  88,  89,  90,  91,  92,  93,  94,  95,  96,  97,  98,\n",
       "        99, 100, 101, 102, 103, 104, 105, 106, 107, 108, 109, 110, 111, 112,\n",
       "       113, 114, 115, 116, 117, 118, 119, 120, 121, 122, 123, 124, 125, 126,\n",
       "       127, 128, 129, 130, 131, 132, 133])\n",
       "Coordinates:\n",
       "  * ID       (ID) int64 1 2 3 4 5 6 7 8 9 ... 126 127 128 129 130 131 132 133</pre><div class='xr-wrap' style='display:none'><div class='xr-header'><div class='xr-obj-type'>xarray.DataArray</div><div class='xr-array-name'>'ID'</div><ul class='xr-dim-list'><li><span class='xr-has-index'>ID</span>: 133</li></ul></div><ul class='xr-sections'><li class='xr-section-item'><div class='xr-array-wrap'><input id='section-98803fe9-c658-479e-bad7-761df1381548' class='xr-array-in' type='checkbox' checked><label for='section-98803fe9-c658-479e-bad7-761df1381548' title='Show/hide data repr'><svg class='icon xr-icon-database'><use xlink:href='#icon-database'></use></svg></label><div class='xr-array-preview xr-preview'><span>1 2 3 4 5 6 7 8 9 10 11 ... 124 125 126 127 128 129 130 131 132 133</span></div><div class='xr-array-data'><pre>array([  1,   2,   3,   4,   5,   6,   7,   8,   9,  10,  11,  12,  13,  14,\n",
       "        15,  16,  17,  18,  19,  20,  21,  22,  23,  24,  25,  26,  27,  28,\n",
       "        29,  30,  31,  32,  33,  34,  35,  36,  37,  38,  39,  40,  41,  42,\n",
       "        43,  44,  45,  46,  47,  48,  49,  50,  51,  52,  53,  54,  55,  56,\n",
       "        57,  58,  59,  60,  61,  62,  63,  64,  65,  66,  67,  68,  69,  70,\n",
       "        71,  72,  73,  74,  75,  76,  77,  78,  79,  80,  81,  82,  83,  84,\n",
       "        85,  86,  87,  88,  89,  90,  91,  92,  93,  94,  95,  96,  97,  98,\n",
       "        99, 100, 101, 102, 103, 104, 105, 106, 107, 108, 109, 110, 111, 112,\n",
       "       113, 114, 115, 116, 117, 118, 119, 120, 121, 122, 123, 124, 125, 126,\n",
       "       127, 128, 129, 130, 131, 132, 133])</pre></div></div></li><li class='xr-section-item'><input id='section-9bb3dadc-41f9-439a-b9f4-9be685bacb11' class='xr-section-summary-in' type='checkbox'  checked><label for='section-9bb3dadc-41f9-439a-b9f4-9be685bacb11' class='xr-section-summary' >Coordinates: <span>(1)</span></label><div class='xr-section-inline-details'></div><div class='xr-section-details'><ul class='xr-var-list'><li class='xr-var-item'><div class='xr-var-name'><span class='xr-has-index'>ID</span></div><div class='xr-var-dims'>(ID)</div><div class='xr-var-dtype'>int64</div><div class='xr-var-preview xr-preview'>1 2 3 4 5 6 ... 129 130 131 132 133</div><input id='attrs-d4e466b1-8466-4fc0-b3c6-d606888b53f5' class='xr-var-attrs-in' type='checkbox' disabled><label for='attrs-d4e466b1-8466-4fc0-b3c6-d606888b53f5' title='Show/Hide attributes'><svg class='icon xr-icon-file-text2'><use xlink:href='#icon-file-text2'></use></svg></label><input id='data-11363da3-7d4c-4eeb-a5aa-27e454687f35' class='xr-var-data-in' type='checkbox'><label for='data-11363da3-7d4c-4eeb-a5aa-27e454687f35' title='Show/Hide data repr'><svg class='icon xr-icon-database'><use xlink:href='#icon-database'></use></svg></label><div class='xr-var-attrs'><dl class='xr-attrs'></dl></div><div class='xr-var-data'><pre>array([  1,   2,   3,   4,   5,   6,   7,   8,   9,  10,  11,  12,  13,  14,\n",
       "        15,  16,  17,  18,  19,  20,  21,  22,  23,  24,  25,  26,  27,  28,\n",
       "        29,  30,  31,  32,  33,  34,  35,  36,  37,  38,  39,  40,  41,  42,\n",
       "        43,  44,  45,  46,  47,  48,  49,  50,  51,  52,  53,  54,  55,  56,\n",
       "        57,  58,  59,  60,  61,  62,  63,  64,  65,  66,  67,  68,  69,  70,\n",
       "        71,  72,  73,  74,  75,  76,  77,  78,  79,  80,  81,  82,  83,  84,\n",
       "        85,  86,  87,  88,  89,  90,  91,  92,  93,  94,  95,  96,  97,  98,\n",
       "        99, 100, 101, 102, 103, 104, 105, 106, 107, 108, 109, 110, 111, 112,\n",
       "       113, 114, 115, 116, 117, 118, 119, 120, 121, 122, 123, 124, 125, 126,\n",
       "       127, 128, 129, 130, 131, 132, 133])</pre></div></li></ul></div></li><li class='xr-section-item'><input id='section-7711dd24-7518-451a-9c0c-2b5d40949dd4' class='xr-section-summary-in' type='checkbox'  ><label for='section-7711dd24-7518-451a-9c0c-2b5d40949dd4' class='xr-section-summary' >Indexes: <span>(1)</span></label><div class='xr-section-inline-details'></div><div class='xr-section-details'><ul class='xr-var-list'><li class='xr-var-item'><div class='xr-index-name'><div>ID</div></div><div class='xr-index-preview'>PandasIndex</div><div></div><input id='index-20f0c3ca-04c8-4207-90f5-3bab84f97d80' class='xr-index-data-in' type='checkbox'/><label for='index-20f0c3ca-04c8-4207-90f5-3bab84f97d80' title='Show/Hide index repr'><svg class='icon xr-icon-database'><use xlink:href='#icon-database'></use></svg></label><div class='xr-index-data'><pre>PandasIndex(Index([  1,   2,   3,   4,   5,   6,   7,   8,   9,  10,\n",
       "       ...\n",
       "       124, 125, 126, 127, 128, 129, 130, 131, 132, 133],\n",
       "      dtype=&#x27;int64&#x27;, name=&#x27;ID&#x27;, length=133))</pre></div></li></ul></div></li><li class='xr-section-item'><input id='section-cb0537ec-0ac2-4edd-ac80-f51a6c5861ba' class='xr-section-summary-in' type='checkbox' disabled ><label for='section-cb0537ec-0ac2-4edd-ac80-f51a6c5861ba' class='xr-section-summary'  title='Expand/collapse section'>Attributes: <span>(0)</span></label><div class='xr-section-inline-details'></div><div class='xr-section-details'><dl class='xr-attrs'></dl></div></li></ul></div></div>"
      ],
      "text/plain": [
       "<xarray.DataArray 'ID' (ID: 133)>\n",
       "array([  1,   2,   3,   4,   5,   6,   7,   8,   9,  10,  11,  12,  13,  14,\n",
       "        15,  16,  17,  18,  19,  20,  21,  22,  23,  24,  25,  26,  27,  28,\n",
       "        29,  30,  31,  32,  33,  34,  35,  36,  37,  38,  39,  40,  41,  42,\n",
       "        43,  44,  45,  46,  47,  48,  49,  50,  51,  52,  53,  54,  55,  56,\n",
       "        57,  58,  59,  60,  61,  62,  63,  64,  65,  66,  67,  68,  69,  70,\n",
       "        71,  72,  73,  74,  75,  76,  77,  78,  79,  80,  81,  82,  83,  84,\n",
       "        85,  86,  87,  88,  89,  90,  91,  92,  93,  94,  95,  96,  97,  98,\n",
       "        99, 100, 101, 102, 103, 104, 105, 106, 107, 108, 109, 110, 111, 112,\n",
       "       113, 114, 115, 116, 117, 118, 119, 120, 121, 122, 123, 124, 125, 126,\n",
       "       127, 128, 129, 130, 131, 132, 133])\n",
       "Coordinates:\n",
       "  * ID       (ID) int64 1 2 3 4 5 6 7 8 9 ... 126 127 128 129 130 131 132 133"
      ]
     },
     "execution_count": 59,
     "metadata": {},
     "output_type": "execute_result"
    }
   ],
   "source": [
    "file_Justine.ID"
   ]
  },
  {
   "cell_type": "code",
   "execution_count": null,
   "id": "b51a825a-0260-431a-bb61-e77b7f23f456",
   "metadata": {},
   "outputs": [],
   "source": [
    "for id_open in tqdm(ID_open_list):\n",
    "    largeisf_on_IMBIEgrid['isf_draft'].where()"
   ]
  },
  {
   "cell_type": "code",
   "execution_count": 11,
   "id": "5588bb39-592e-4955-9893-62f31c7ab9ed",
   "metadata": {},
   "outputs": [],
   "source": [
    "ds_isfNEMO = xr.Dataset()\n",
    "\n",
    "ds_isfNEMO['mask_isf'] = isfmask.where(domain_cfg['isf_draft'] > 0)\n",
    "ds_isfNEMO['mask_isf'].attrs['standard_name'] = 'mask of all the ice shelves'\n",
    "ds_isfNEMO['mask_isf'].attrs['units'] = 'ID as given in Mask_Iceshelf_IMBIE2_v2.nc'\n",
    "\n",
    "#ds_isfNEMO['mask_isf_onlyisfconc1'] = ds_isfNEMO['mask_isf'].where(isfconc['isf_conc'] > 0.9999)\n"
   ]
  },
  {
   "cell_type": "code",
   "execution_count": 12,
   "id": "3b8bd366-22b3-4b39-a532-748070b2bb3e",
   "metadata": {},
   "outputs": [
    {
     "ename": "NameError",
     "evalue": "name 'remapped_isf_conc' is not defined",
     "output_type": "error",
     "traceback": [
      "\u001b[0;31m---------------------------------------------------------------------------\u001b[0m",
      "\u001b[0;31mNameError\u001b[0m                                 Traceback (most recent call last)",
      "Cell \u001b[0;32mIn[12], line 1\u001b[0m\n\u001b[0;32m----> 1\u001b[0m ds_isfNEMO[\u001b[38;5;124m'\u001b[39m\u001b[38;5;124mfloating_frac\u001b[39m\u001b[38;5;124m'\u001b[39m] \u001b[38;5;241m=\u001b[39m \u001b[43mremapped_isf_conc\u001b[49m\n",
      "\u001b[0;31mNameError\u001b[0m: name 'remapped_isf_conc' is not defined"
     ]
    }
   ],
   "source": [
    "ds_isfNEMO['floating_frac'] = remapped_isf_conc # .where(isfconc['isf_conc'] < 0.9999,1)"
   ]
  },
  {
   "cell_type": "markdown",
   "id": "2f8179a6-a2ab-443d-88dd-6fc809014acc",
   "metadata": {},
   "source": [
    "CLOSE ALL ISF TO IDENTIFY THEIR FRONTS"
   ]
  },
  {
   "cell_type": "code",
   "execution_count": null,
   "id": "ae42928b-0c1f-47f8-b8bd-a92539ba2790",
   "metadata": {},
   "outputs": [],
   "source": [
    "## gives the list of names when needed to better understand stuff\n",
    "#for iid in file_Justine.ID:\n",
    "#    print(iid.values,file_Justine['NAME'].sel(ID=iid).values)"
   ]
  },
  {
   "cell_type": "code",
   "execution_count": 12,
   "id": "c1f49946-da81-41f4-a0bb-2e9b17ed9512",
   "metadata": {},
   "outputs": [],
   "source": [
    "file_Justine_closed = file_Justine"
   ]
  },
  {
   "cell_type": "code",
   "execution_count": 13,
   "id": "84cd0670-5e54-4701-95f6-e640a34a45c3",
   "metadata": {},
   "outputs": [
    {
     "data": {
      "application/vnd.jupyter.widget-view+json": {
       "model_id": "75d4a9aa9d484d029dabf2ba504441a8",
       "version_major": 2,
       "version_minor": 0
      },
      "text/plain": [
       "  0%|          | 0/133 [00:00<?, ?it/s]"
      ]
     },
     "metadata": {},
     "output_type": "display_data"
    }
   ],
   "source": [
    "# Prepare domain_cfg closing (setting to 0) all information about the closed cavities\n",
    "domain_cfg_closed =  domain_cfg.copy()\n",
    "for id_closed in tqdm(file_Justine_closed.ID):\n",
    "    for vv in ['bottom_level','top_level','isf_draft','bathy_metry']:\n",
    "        domain_cfg_closed[vv] = domain_cfg_closed[vv].where(ds_isfNEMO['mask_isf'] != id_closed.values, 0)"
   ]
  },
  {
   "cell_type": "code",
   "execution_count": 14,
   "id": "2db5b78a-458a-407c-9638-2ed57e7390ed",
   "metadata": {},
   "outputs": [],
   "source": [
    "# Prepare mask of only closed cavities \n",
    "mask_isf_closed = ds_isfNEMO['mask_isf']"
   ]
  },
  {
   "cell_type": "code",
   "execution_count": 15,
   "id": "df7a6118-1093-421e-8734-799df421be09",
   "metadata": {},
   "outputs": [],
   "source": [
    "ds_isfNEMO['mask_isf_closed'] = mask_isf_closed\n",
    "ds_isfNEMO['mask_isf_closed'].attrs['standard_name'] = 'mask of the ice shelves that are closed'\n",
    "ds_isfNEMO['mask_isf_closed'].attrs['units'] = 'ID as given in Mask_Iceshelf_IMBIE2_v2.nc'"
   ]
  },
  {
   "cell_type": "markdown",
   "id": "f2f0b41f-34fd-4378-b4a7-6eaf97a289e0",
   "metadata": {},
   "source": [
    "IDENTIFY FRONT"
   ]
  },
  {
   "cell_type": "code",
   "execution_count": 16,
   "id": "97a00f3b-bfe0-4e74-8c8f-40cad85677ed",
   "metadata": {},
   "outputs": [],
   "source": [
    "# Create a mask discriminating between land, ocean and ice shelf\n",
    "mask_0_1_2 = ds_isfNEMO['mask_isf'] * 2\n",
    "mask_0_1_2 = mask_0_1_2.where(domain_cfg['bathy_metry'] != 0, 400) # land\n",
    "mask_0_1_2 = mask_0_1_2.where(domain_cfg['bathy_metry'] == 0, 0) # ocean\n",
    "mask_0_1_2 = mask_0_1_2.where(domain_cfg['isf_draft'] == 0, 200) # ice shelf"
   ]
  },
  {
   "cell_type": "code",
   "execution_count": 17,
   "id": "868069e6-1108-4de4-9a4c-1becdf878349",
   "metadata": {},
   "outputs": [],
   "source": [
    "# Create a mask of the extrapolated domains and only keep the domains corresponding to the closed cavities\n",
    "extrap_domains_closed = isfmask.copy()\n",
    "\n",
    "#for kisf in ID_open_list:\n",
    "#    mask_0_1_2_closed = mask_0_1_2.where(ds_isfNEMO['mask_isf'] != kisf, 400)\n",
    "#    extrap_domains_closed = extrap_domains_closed.where(extrap_domains_closed != kisf, np.nan)"
   ]
  },
  {
   "cell_type": "code",
   "execution_count": 18,
   "id": "e3e1d9d1-3d77-4e43-ae61-b0dc505008d0",
   "metadata": {},
   "outputs": [],
   "source": [
    "# set all ice shelves to 300\n",
    "mask_front0 = mask_0_1_2.where((mask_0_1_2 == 0) | (mask_0_1_2 == 400), 300).copy()"
   ]
  },
  {
   "cell_type": "code",
   "execution_count": 20,
   "id": "5b660390-9cfa-40bd-93bb-a76edeb3ac84",
   "metadata": {},
   "outputs": [],
   "source": [
    "mask_front = mask_front0.copy()\n",
    "# check all directions and set points at border between ocean and ice shelf (300-0) to 500\n",
    "mask_front = mask_front.where((mask_front0.shift(x=-1)-mask_front0)!=300,500)\n",
    "mask_front = mask_front.where((mask_front0.shift(x=1)-mask_front0)!=300,500)\n",
    "mask_front = mask_front.where((mask_front0.shift(y=-1)-mask_front0)!=300,500)\n",
    "mask_front = mask_front.where((mask_front0.shift(y=1)-mask_front0)!=300,500)\n",
    "# cut out all front points\n",
    "mask_front = mask_front.where(mask_front==500)\n",
    "# set the ice shelf number\n",
    "mask_front = mask_front.where(mask_front!=500,extrap_domains_closed)"
   ]
  },
  {
   "cell_type": "markdown",
   "id": "75d26b16-3714-4d4f-b4d9-789019632bed",
   "metadata": {},
   "source": [
    "For the ice shelves not resolved at all in eORCA1"
   ]
  },
  {
   "cell_type": "code",
   "execution_count": 21,
   "id": "5839c7ce-874e-4f35-8248-e6092a431fe0",
   "metadata": {},
   "outputs": [],
   "source": [
    "# define the domains that have not an associated front yet\n",
    "extrap_domains_double_closed = extrap_domains_closed.copy()\n",
    "\n",
    "for kisf in file_Justine_closed.ID:\n",
    "    if (mask_front == kisf).astype(int).sum() > 0:\n",
    "        #print(kisf.values)\n",
    "        extrap_domains_double_closed = extrap_domains_double_closed.where(extrap_domains_double_closed != kisf, np.nan).drop('ID')"
   ]
  },
  {
   "cell_type": "code",
   "execution_count": 22,
   "id": "9fa8ddd3-156b-4162-ba2a-c543e6ad9b97",
   "metadata": {},
   "outputs": [],
   "source": [
    "# To double check where the front points are\n",
    "#iid = 89\n",
    "#plt.figure()\n",
    "#((mask_0_2) + (isfmask['Iceshelf_extrap'] == iid)).plot()\n",
    "#plt.title(str(iid))"
   ]
  },
  {
   "cell_type": "code",
   "execution_count": null,
   "id": "15ff2078-89a0-4c34-a855-c676cc27b30b",
   "metadata": {},
   "outputs": [],
   "source": []
  },
  {
   "cell_type": "code",
   "execution_count": 23,
   "id": "0b12a5ff-b941-49fb-a47e-f1c36c03bf03",
   "metadata": {},
   "outputs": [],
   "source": [
    "# set all ice shelves to land to have a delimitation of the whole contour of Antarctica\n",
    "mask_0_2 = mask_0_1_2.where(mask_0_1_2 != 200, 2)\n",
    "mask_0_2 = mask_0_2.where(mask_0_2 != 400, 2)\n",
    "\n",
    "mask_front_new = mask_0_2.copy()\n",
    "\n",
    "# check all directions and set points at border between ocean and land(300-0) to 500\n",
    "mask_front_new = mask_front_new.where((mask_0_2.shift(x=-1)-mask_0_2) <= 0,5)\n",
    "mask_front_new = mask_front_new.where((mask_0_2.shift(x=1)-mask_0_2) <= 0,5)\n",
    "mask_front_new = mask_front_new.where((mask_0_2.shift(y=-1)-mask_0_2) <= 0,5)\n",
    "mask_front_new = mask_front_new.where((mask_0_2.shift(y=1)-mask_0_2) <= 0,5)\n",
    "# cut out all front points south of the y = 90 latitude and in the ocean domain\n",
    "mask_front_new = mask_front_new.where((mask_front_new == 5) & (mask_front_new.y < 90) & (mask_0_2 == 0))\n",
    "# set the ice shelf number of the extrapolated domain\n",
    "mask_front_new = mask_front_new.where(mask_front_new != 5,extrap_domains_double_closed)"
   ]
  },
  {
   "cell_type": "code",
   "execution_count": 24,
   "id": "f2b5880c-420a-4867-a470-56b4d2b30165",
   "metadata": {},
   "outputs": [
    {
     "data": {
      "text/plain": [
       "<matplotlib.collections.QuadMesh at 0x14c3aaac9d90>"
      ]
     },
     "execution_count": 24,
     "metadata": {},
     "output_type": "execute_result"
    }
   ],
   "source": [
    "# check that it is the right delimitation (i.e. on the ocean points)\n",
    "((mask_front_new > 0) + mask_0_2).plot()"
   ]
  },
  {
   "cell_type": "code",
   "execution_count": 29,
   "id": "4fd2bc2c-2007-4bc0-a115-f4685109d947",
   "metadata": {},
   "outputs": [
    {
     "data": {
      "text/plain": [
       "<matplotlib.collections.QuadMesh at 0x14c3a9152940>"
      ]
     },
     "execution_count": 29,
     "metadata": {},
     "output_type": "execute_result"
    }
   ],
   "source": [
    "mask_0_2.plot()"
   ]
  },
  {
   "cell_type": "code",
   "execution_count": 25,
   "id": "bb006c3a-cfaf-47a0-b56f-cc3bb32528cb",
   "metadata": {},
   "outputs": [],
   "source": [
    "# combining the masks of the fronts (mask_front and mask_front_new)\n",
    "mask_front_all = mask_front.copy()\n",
    "for iid in file_Justine_closed.ID:\n",
    "    if (ds_isfNEMO['mask_isf_closed'] == iid).astype(int).sum().values == 0: # if the ice shelf is not resolved in your grid, add the mask front inferred for them\n",
    "        #print(iid.values, file_Justine_closed['NAME'].sel(ID=iid).values, (mask_front_new == iid).astype(int).sum().values)\n",
    "        mask_front_all = mask_front_all.combine_first(mask_front_new.where(mask_front_new == iid))"
   ]
  },
  {
   "cell_type": "code",
   "execution_count": 31,
   "id": "3b32d71a-a8d0-432a-bc3e-0c194b29508a",
   "metadata": {},
   "outputs": [],
   "source": [
    "mask_front_file = xr.Dataset()\n",
    "mask_front_file['mask_front'] = mask_front_all\n",
    "mask_front_file['ID'] = file_Justine['ID']\n",
    "mask_front_file.to_netcdf(inputpath_interim + 'mask_fronts_ALLISF_eORCA1.nc')"
   ]
  },
  {
   "cell_type": "code",
   "execution_count": 32,
   "id": "fa8d6e42-f5cb-4516-979d-8d771d4f10cc",
   "metadata": {},
   "outputs": [
    {
     "data": {
      "text/plain": [
       "<matplotlib.collections.QuadMesh at 0x14c3a9002d00>"
      ]
     },
     "execution_count": 32,
     "metadata": {},
     "output_type": "execute_result"
    }
   ],
   "source": [
    "mask_front_file['mask_front'].plot()"
   ]
  },
  {
   "cell_type": "code",
   "execution_count": null,
   "id": "fa24f499-834d-49f3-b678-ce52b314bee9",
   "metadata": {},
   "outputs": [],
   "source": []
  }
 ],
 "metadata": {
  "kernelspec": {
   "display_name": "py38",
   "language": "python",
   "name": "py38"
  },
  "language_info": {
   "codemirror_mode": {
    "name": "ipython",
    "version": 3
   },
   "file_extension": ".py",
   "mimetype": "text/x-python",
   "name": "python",
   "nbconvert_exporter": "python",
   "pygments_lexer": "ipython3",
   "version": "3.8.18"
  }
 },
 "nbformat": 4,
 "nbformat_minor": 5
}
