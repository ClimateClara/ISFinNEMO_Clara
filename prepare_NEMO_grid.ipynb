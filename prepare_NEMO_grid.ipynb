{
 "cells": [
  {
   "cell_type": "code",
   "execution_count": null,
   "id": "0998fcef-699e-4280-9df8-dc118f833397",
   "metadata": {},
   "outputs": [],
   "source": [
    "\"\"\"\n",
    "Created on Thu Oct 24 09:54 2024\n",
    "\n",
    "Try to prepare grid for remapcon using xesmf\n",
    "\n",
    "@author: Clara Burgard\n",
    "\"\"\""
   ]
  },
  {
   "cell_type": "code",
   "execution_count": 1,
   "id": "e0ee9ea6-d355-4fea-9c5e-5ff6a4e75620",
   "metadata": {},
   "outputs": [],
   "source": [
    "import xarray as xr\n",
    "import xesmf\n",
    "import numpy as np"
   ]
  },
  {
   "cell_type": "code",
   "execution_count": 2,
   "id": "41d2ae1a-00b6-43be-8522-b19375a000b7",
   "metadata": {},
   "outputs": [
    {
     "name": "stderr",
     "output_type": "stream",
     "text": [
      "QStandardPaths: error creating runtime directory '/run/user/2784' (Permission denied)\n"
     ]
    }
   ],
   "source": [
    "%matplotlib qt5"
   ]
  },
  {
   "cell_type": "code",
   "execution_count": 3,
   "id": "3dafba41-8853-4faa-bca2-bee86acef0a8",
   "metadata": {},
   "outputs": [],
   "source": [
    "path1 = '/data/cburgard/PREPARE_FORCING/PREPARE_CAVITY_MASKS/raw/eORCA1.4.3_OpenSeas_OpenAllCav_ModStraights/'"
   ]
  },
  {
   "cell_type": "code",
   "execution_count": 5,
   "id": "4588bac5-c65e-4294-b657-1816403346eb",
   "metadata": {},
   "outputs": [],
   "source": [
    "# Load your curvilinear grid file\n",
    "ds = xr.open_dataset(path1 + 'coordinates.nc')"
   ]
  },
  {
   "cell_type": "code",
   "execution_count": 18,
   "id": "433a3d5c-0dfc-4a27-8f31-9f070c2cae68",
   "metadata": {},
   "outputs": [],
   "source": [
    "# Assuming the dataset has 'lat' and 'lon' variables\n",
    "lat = ds['gphit']  # 2D array of latitudes\n",
    "lon = ds['glamt'] # 2D array of longitudes\n",
    "# Create a longitude with 0-360 values to avoir a gap in the bounds later\n",
    "lon360 = lon.where(lon>0,lon+360)"
   ]
  },
  {
   "cell_type": "code",
   "execution_count": 27,
   "id": "ff962c8a-71aa-4eab-b9b8-82c43daac038",
   "metadata": {},
   "outputs": [],
   "source": [
    "# Create the lat and lon of the grid corners : ll = lower left, lr = lower right, ur = upper right, ul = upper left\n",
    "meshlon_ll,meshlat_ll = (lon + lon.roll(x=-1))/2, (lat + lat.roll(x=-1))/2\n",
    "meshlon_lr,meshlat_lr = (lon + lon.roll(x=1))/2, (lat + lat.roll(x=-1))/2\n",
    "meshlon_ur,meshlat_ur = (lon + lon.roll(x=1))/2, (lat + lat.roll(x=1))/2\n",
    "meshlon_ul,meshlat_ul = (lon + lon.roll(x=-1))/2, (lat + lat.roll(x=1))/2"
   ]
  },
  {
   "cell_type": "code",
   "execution_count": 28,
   "id": "c81af9d6-cd26-4bde-b7f3-8df12875f304",
   "metadata": {},
   "outputs": [],
   "source": [
    "# Create the lon of the grid corners using 0-360 : ll = lower left, lr = lower right, ur = upper right, ul = upper left\n",
    "meshlon360_ll,_ = (lon360 + lon360.roll(x=-1))/2, (lat + lat.roll(x=-1))/2\n",
    "meshlon360_lr,_ = (lon360 + lon360.roll(x=1))/2, (lat + lat.roll(x=-1))/2\n",
    "meshlon360_ur,_ = (lon360 + lon360.roll(x=1))/2, (lat + lat.roll(x=1))/2\n",
    "meshlon360_ul,_ = (lon360 + lon360.roll(x=-1))/2, (lat + lat.roll(x=1))/2"
   ]
  },
  {
   "cell_type": "code",
   "execution_count": 29,
   "id": "21ee8de4-b5ac-45ce-b652-7136f60538a2",
   "metadata": {},
   "outputs": [],
   "source": [
    "lon_bnds = xr.DataArray(data=np.array([meshlon_ll, meshlon_lr, meshlon_ur, meshlon_ul]), dims=['nvertex','y','x'])\n",
    "lat_bnds = xr.DataArray(data=np.array([meshlat_ll, meshlat_lr, meshlat_ur, meshlat_ul]), dims=['nvertex','y','x'])\n",
    "lon360_bnds = xr.DataArray(data=np.array([meshlon360_ll, meshlon360_lr, meshlon360_ur, meshlon360_ul]), dims=['nvertex','y','x']) "
   ]
  },
  {
   "cell_type": "code",
   "execution_count": 30,
   "id": "fc930a5b-506d-4636-b6de-4c47d7a54a22",
   "metadata": {},
   "outputs": [],
   "source": [
    "# region where longitude hops from 180 to -180\n",
    "prob_region = (lon <= -140) | (lon >= 140) & (np.abs(lon_bnds) < 25)\n",
    "new_lon_bnds = lon_bnds.where(~prob_region, lon360_bnds)\n",
    "new_lon_bnds = new_lon_bnds.where(new_lon_bnds <= 180, new_lon_bnds - 360)"
   ]
  },
  {
   "cell_type": "code",
   "execution_count": 31,
   "id": "3f778de3-2057-4f01-9198-29c1d1822d40",
   "metadata": {},
   "outputs": [],
   "source": [
    "NEMO_new_grid = xr.merge([new_lon_bnds.rename('lon_bnds'),\n",
    "                          lat_bnds.rename('lat_bnds')]).assign_coords({'lon': lon, 'lat': lat})"
   ]
  },
  {
   "cell_type": "code",
   "execution_count": 32,
   "id": "50dc39e4-6130-4a2c-9659-4d2a7b22b8b0",
   "metadata": {},
   "outputs": [],
   "source": [
    "NEMO_new_grid['lon'].attrs['standard_name'] = 'longitude'\n",
    "NEMO_new_grid['lon'].attrs['units'] = 'degrees_east'\n",
    "NEMO_new_grid['lon'].attrs['bounds'] = 'lon_bnds'\n",
    "\n",
    "NEMO_new_grid['lat'].attrs['standard_name'] = 'latitude'\n",
    "NEMO_new_grid['lat'].attrs['units'] = 'degrees_north'\n",
    "NEMO_new_grid['lat'].attrs['bounds'] = 'lat_bnds'\n"
   ]
  },
  {
   "cell_type": "code",
   "execution_count": 33,
   "id": "0a5f4d9b-abd9-4d7c-ad70-4cc48ef4336f",
   "metadata": {},
   "outputs": [],
   "source": [
    "NEMO_new_grid[['lon','lat','lon_bnds','lat_bnds']].set_coords(\n",
    "    (\"lat_bnds\", \"lon_bnds\")).transpose('y','x','nvertex').to_netcdf(inputpath + 'NEMO_grid_withbnds.nc')"
   ]
  }
 ],
 "metadata": {
  "kernelspec": {
   "display_name": "py38",
   "language": "python",
   "name": "py38"
  },
  "language_info": {
   "codemirror_mode": {
    "name": "ipython",
    "version": 3
   },
   "file_extension": ".py",
   "mimetype": "text/x-python",
   "name": "python",
   "nbconvert_exporter": "python",
   "pygments_lexer": "ipython3",
   "version": "3.8.18"
  }
 },
 "nbformat": 4,
 "nbformat_minor": 5
}
