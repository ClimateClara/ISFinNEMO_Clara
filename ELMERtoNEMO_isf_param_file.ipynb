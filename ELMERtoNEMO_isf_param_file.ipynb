{
 "cells": [
  {
   "cell_type": "markdown",
   "id": "ad7ccdeb",
   "metadata": {},
   "source": [
    "## Load modules"
   ]
  },
  {
   "cell_type": "code",
   "execution_count": 1,
   "id": "708eab55",
   "metadata": {},
   "outputs": [],
   "source": [
    "import xarray as xr\n",
    "import numpy as np\n",
    "import cdo\n",
    "import copy"
   ]
  },
  {
   "cell_type": "markdown",
   "id": "52bed029",
   "metadata": {},
   "source": [
    "## Initialisation cdo"
   ]
  },
  {
   "cell_type": "code",
   "execution_count": 2,
   "id": "baee3fa1",
   "metadata": {},
   "outputs": [],
   "source": [
    "cdo = cdo.Cdo()"
   ]
  },
  {
   "cell_type": "markdown",
   "id": "14496e0f",
   "metadata": {},
   "source": [
    "## Define grids"
   ]
  },
  {
   "cell_type": "code",
   "execution_count": 3,
   "id": "a27bdc78",
   "metadata": {},
   "outputs": [],
   "source": [
    "## source grid\n",
    "fELMER_grid='ant50.gl1-ismip6_grid.nc'\n",
    "ds_elmer_grid=xr.open_dataset(fELMER_grid)\n",
    "\n",
    "## target grid\n",
    "fNEMO_grid = 'eORCA1_v4.2_CDO_with_var.nc'\n",
    "ds_nemo_grid=xr.open_dataset(fNEMO_grid)"
   ]
  },
  {
   "cell_type": "markdown",
   "id": "2e5caece",
   "metadata": {},
   "source": [
    "## Inputs files"
   ]
  },
  {
   "cell_type": "code",
   "execution_count": 4,
   "id": "9170e0ac",
   "metadata": {},
   "outputs": [],
   "source": [
    "# Elmer state data\n",
    "ds_elmer=xr.open_dataset('ismip6_states_NEMO-ELMER-iann-eO1-2EIS-ICB-ISF3-antarctica_001.nc')\n",
    "\n",
    "# NEMO bedrock data\n",
    "ds_nemo=xr.open_dataset('eORCA1.L121_modipsl_test_domain_cfg.nc')"
   ]
  },
  {
   "cell_type": "markdown",
   "id": "8eb184fc",
   "metadata": {},
   "source": [
    "# Manage basins\n",
    "## Interpolation of basin variable from Elmer to NEMO grid\n",
    "**Method:** cdo nearest neighbourg"
   ]
  },
  {
   "cell_type": "code",
   "execution_count": 5,
   "id": "bafd7cee",
   "metadata": {},
   "outputs": [],
   "source": [
    "## define the basin dataset to interpolate\n",
    "ds_elmer_basins=ds_elmer.basins.rename({'nantarctica_face': 'ncells'}).to_dataset()\n",
    "ds_elmer_basins['lat_bnds']=ds_elmer_grid.lat_bnds\n",
    "ds_elmer_basins['lon_bnds']=ds_elmer_grid.lon_bnds\n",
    "\n",
    "## CDO inperpolation\n",
    "### cdo.remapnn(f'{target_grid}',input=input_xrdataset, returnArray=variable_name_to_process)\n",
    "NEMO_basins=cdo.remapnn(f'{fNEMO_grid}',input=ds_elmer_basins, returnArray='basins').squeeze()"
   ]
  },
  {
   "cell_type": "markdown",
   "id": "96f35308",
   "metadata": {},
   "source": [
    "## Interpolation back to Elmer from NEMO grid\n",
    "**Why:** We need to do this in case some small basins have been removed during the nn interpolation to NEMO. Without this step, there is possibility that the sum of the area distribution seen by NEMO do not match the total area to parametrised in ELMER.  "
   ]
  },
  {
   "cell_type": "code",
   "execution_count": 6,
   "id": "a0fab8e7",
   "metadata": {},
   "outputs": [],
   "source": [
    "ds_nemo_basins=copy.deepcopy(ds_nemo_grid).rename_vars({'dummy': 'basins'})\n",
    "ds_nemo_basins['basins'].values=NEMO_basins\n",
    "\n",
    "## CDO inperpolation\n",
    "### cdo.remapnn(f'{target_grid}',input=input_xrdataset, returnArray=variable_name_to_process)\n",
    "ELMER_basins=cdo.remapnn(f'{fELMER_grid}',input=ds_nemo_basins, returnArray='basins')"
   ]
  },
  {
   "cell_type": "markdown",
   "id": "0291eedc",
   "metadata": {},
   "source": [
    "# compute area not resolved by NEMO\n",
    "**Method:**\n",
    "- conservative interpolation of Elmer floating cell to NEMO\n",
    "- set to 1 value between 0 and 1 (ie area to parametrised in NEMO)\n",
    "- conservative interpolation back to ELMER to give the cell that need to be included in the param and the area scale factor"
   ]
  },
  {
   "cell_type": "code",
   "execution_count": 7,
   "id": "45f128a0",
   "metadata": {},
   "outputs": [],
   "source": [
    "# create clean data_set array (cdo is very sensitive)\n",
    "ds_elmer_sftflf = xr.Dataset(\n",
    "    data_vars=dict(\n",
    "        sftflf=([\"time\",\"ncells\"], ds_elmer.sftflf.values),\n",
    "        time_instant=([\"time\"],ds_elmer.time_instant.values),\n",
    "        lon_bnds=([\"ncells\",\"vertices\"], ds_elmer_grid.lon_bnds.values),\n",
    "        lat_bnds=([\"ncells\",\"vertices\"], ds_elmer_grid.lat_bnds.values),\n",
    "        time_instant_bnds=([\"time\",\"axis_nbounds\"],ds_elmer.time_instant_bounds.values),\n",
    "    ),\n",
    "    coords=dict(\n",
    "        lon=([\"ncells\"],ds_elmer_grid.lon.values,ds_elmer_grid.lon.attrs),\n",
    "        lat=([\"ncells\"],ds_elmer_grid.lat.values,ds_elmer_grid.lat.attrs),\n",
    "    ),\n",
    ")"
   ]
  },
  {
   "cell_type": "code",
   "execution_count": 8,
   "id": "29de8d97",
   "metadata": {},
   "outputs": [],
   "source": [
    "## CDO inperpolation\n",
    "### cdo.remapcon(f'{target_grid}',input=input_xrdataset, returnArray=variable_name_to_process)\n",
    "NEMO_sftflf=cdo.remapcon(f'{fNEMO_grid}', input=ds_elmer_sftflf, returnArray='sftflf').squeeze()"
   ]
  },
  {
   "cell_type": "code",
   "execution_count": 9,
   "id": "370bdcf1",
   "metadata": {},
   "outputs": [],
   "source": [
    "# set to 1 cell to parametrised\n",
    "NEMO_cell_to_param=np.zeros(shape=NEMO_sftflf.shape)\n",
    "NEMO_cell_to_param=np.where((NEMO_sftflf > 0) & (NEMO_sftflf<1),1,0)"
   ]
  },
  {
   "cell_type": "markdown",
   "id": "b2ee6657",
   "metadata": {},
   "source": [
    "# Prepare NEMO fields for Domain cfg (draft and bathy)\n",
    "## Interpolate ELMER isf draft to NEMO\n",
    "**Method:** Conservative interpolation via cdo instead of basic linear interpolation using Elmer capability."
   ]
  },
  {
   "cell_type": "code",
   "execution_count": 10,
   "id": "427bca84",
   "metadata": {},
   "outputs": [],
   "source": [
    "# create clean data_set array (cdo is very sensitive)\n",
    "ds_elmer_base = xr.Dataset(\n",
    "    data_vars=dict(\n",
    "        base=([\"time\",\"ncells\"], ds_elmer.base.values),\n",
    "        time_instant=([\"time\"],ds_elmer.time_instant.values),\n",
    "        lon_bnds=([\"ncells\",\"vertices\"], ds_elmer_grid.lon_bnds.values),\n",
    "        lat_bnds=([\"ncells\",\"vertices\"], ds_elmer_grid.lat_bnds.values),\n",
    "        time_instant_bnds=([\"time\",\"axis_nbounds\"],ds_elmer.time_instant_bounds.values),\n",
    "    ),\n",
    "    coords=dict(\n",
    "        lon=([\"ncells\"],ds_elmer_grid.lon.values,ds_elmer_grid.lon.attrs),\n",
    "        lat=([\"ncells\"],ds_elmer_grid.lat.values,ds_elmer_grid.lat.attrs),\n",
    "    ),\n",
    ")\n",
    "\n",
    "NEMO_base=cdo.remapcon(f'{fNEMO_grid}', input=ds_elmer_base, returnArray='base').squeeze()\n",
    "\n",
    "# set nan to 0\n",
    "NEMO_base=np.where(np.isnan(NEMO_base),0,NEMO_base)"
   ]
  },
  {
   "cell_type": "markdown",
   "id": "038bd880",
   "metadata": {},
   "source": [
    "## Read NEMO bathymetry"
   ]
  },
  {
   "cell_type": "code",
   "execution_count": 11,
   "id": "ed2c658a",
   "metadata": {},
   "outputs": [],
   "source": [
    "NEMO_bathy=ds_nemo.bathy_metry.squeeze()"
   ]
  },
  {
   "cell_type": "markdown",
   "id": "63e5b56d",
   "metadata": {},
   "source": [
    "## Mask domain cfg input files\n",
    "**Method:** Use NEMO_sftflt variable"
   ]
  },
  {
   "cell_type": "code",
   "execution_count": 12,
   "id": "c919eae6",
   "metadata": {},
   "outputs": [],
   "source": [
    "NEMO_mask = np.where(NEMO_sftflf<1,0,1)\n",
    "NEMO_base = NEMO_base*NEMO_mask\n",
    "NEMO_bathy= NEMO_bathy*NEMO_mask"
   ]
  },
  {
   "cell_type": "markdown",
   "id": "b6fdac50",
   "metadata": {},
   "source": [
    "## Write file to mask isf draft and bathymetry before computing domain_cfg\n"
   ]
  },
  {
   "cell_type": "code",
   "execution_count": 13,
   "id": "6d6a3d56",
   "metadata": {},
   "outputs": [],
   "source": [
    "# create dataset\n",
    "ds_out = xr.Dataset(\n",
    "    data_vars=dict(\n",
    "        isf_param_msk=([\"x\",\"y\"], NEMO_cell_to_param ,dict(unit='[]',long_name='mask_unresolved_isf_cavities')),\n",
    "        isf_draft=([\"x\",\"y\"], NEMO_base  ,dict(unit='[]',long_name='mask isf draft from Elmer/Ice')),\n",
    "        oce_bathy=([\"x\",\"y\"], NEMO_bathy ,dict(unit='[]',long_name='mask ocean bathymetry')),\n",
    "    ),\n",
    "    coords=dict(\n",
    "        lon=([\"x\",\"y\"],ds_nemo_grid.lon.values.squeeze()),\n",
    "        lat=([\"x\",\"y\"],ds_nemo_grid.lat.values.squeeze()),\n",
    "    ),\n",
    ")\n",
    "\n",
    "# save to netcdf\n",
    "ds_out.to_netcdf('NEMO_geometry.nc')"
   ]
  },
  {
   "cell_type": "code",
   "execution_count": 14,
   "id": "33edd1f8",
   "metadata": {
    "scrolled": true
   },
   "outputs": [],
   "source": [
    "# update area using domain_cfg_output / cut script in 2 here (prepare isf_draft and bathy and prepare param file)"
   ]
  },
  {
   "cell_type": "markdown",
   "id": "63361786",
   "metadata": {},
   "source": [
    "# Interpolation back from NEMO to ELMER to retreive the area scale factor"
   ]
  },
  {
   "cell_type": "code",
   "execution_count": 15,
   "id": "b8d098ae",
   "metadata": {},
   "outputs": [],
   "source": [
    "# Read NEMO_geometry.nc\n",
    "ds_nemo_geometry=xr.open_dataset('NEMO_geometry.nc')\n",
    "NEMO_cell_to_param=ds_nemo_geometry.isf_param_msk.squeeze()\n",
    "\n",
    "# Read domain_cfg.nc\n",
    "ds_nemo_domain=xr.open_dataset('eORCA1.L121_modipsl_test_domain_cfg.nc')\n",
    "NEMO_isfd=ds_nemo_geometry.isf_draft.squeeze()\n",
    "\n",
    "# mask NEMO_geometry.nc \n",
    "# => set to 1 area that where floating that are now grounded using the base variable sent to domain cfg\n",
    "NEMO_cell_to_param = np.where(NEMO_isfd == 0, 0, NEMO_cell_to_param)\n",
    "\n",
    "# interpolation back to Elmer to retreive the area scale factor\n",
    "ds_nemo_param=copy.deepcopy(ds_nemo_grid).rename_vars({'dummy': 'cell_to_param'})\n",
    "ds_nemo_param['cell_to_param'].values=NEMO_cell_to_param.squeeze()\n",
    "\n",
    "## CDO inperpolation\n",
    "### cdo.remapcon(f'{target_grid}',input=input_xrdataset, returnArray=variable_name_to_process)\n",
    "ELMER_cell_to_param_sf=cdo.remapcon(f'{fELMER_grid}', input=ds_nemo_param, returnArray='cell_to_param').squeeze()"
   ]
  },
  {
   "cell_type": "markdown",
   "id": "1680bd7c",
   "metadata": {},
   "source": [
    "## Compute depth distribution"
   ]
  },
  {
   "cell_type": "code",
   "execution_count": 16,
   "id": "f07e5425",
   "metadata": {},
   "outputs": [],
   "source": [
    "# get elmer element area, ice shelf draft and floating cell mask\n",
    "isfd=ds_elmer.base.values.squeeze()\n",
    "mask_isf=ds_elmer.sftflf.values.squeeze()\n",
    "cell_area=np.float64(ds_elmer.cell_area.values.squeeze())\n",
    "\n",
    "# get NEMO depth range\n",
    "e3t=ds_nemo_domain.e3t_1d.values.squeeze()"
   ]
  },
  {
   "cell_type": "code",
   "execution_count": 17,
   "id": "1bdf10e9",
   "metadata": {},
   "outputs": [],
   "source": [
    "# compute weight for histogram\n",
    "# As there is no melt in Elmer on the partially grounded element, these element should be excluded\n",
    "ELMER_cell_to_param_sf[np.isnan(ELMER_cell_to_param_sf) | (mask_isf < 1)]=0.0\n",
    "weight=np.float64(cell_area)*np.float64(ELMER_cell_to_param_sf)\n",
    "\n",
    "# define histogram bin\n",
    "binbnds=np.zeros(shape=(e3t.shape[0]+1,))\n",
    "binbnds[1::]=e3t[:]\n",
    "\n",
    "# retreive basin list id\n",
    "basin_list=set(ELMER_basins.flatten())\n",
    "\n",
    "# compute historgram for each basin\n",
    "hist_isfd=np.zeros(shape=(len(basin_list),len(e3t)))\n",
    "for ib, ibasin in enumerate(basin_list):\n",
    "    hist_isfd[ib,:],_=np.histogram(-isfd[ELMER_basins==ibasin],binbnds,weights=weight[ELMER_basins==ibasin])"
   ]
  },
  {
   "cell_type": "markdown",
   "id": "32b5c3d2",
   "metadata": {},
   "source": [
    "## Define the cell where to activate the param in NEMO"
   ]
  },
  {
   "cell_type": "code",
   "execution_count": 18,
   "id": "7121e32c",
   "metadata": {},
   "outputs": [],
   "source": [
    "# Define NEMO coastal mask of the area to parametrised\n",
    "def get_coastal_msk(mask_in,lewp):\n",
    "    nj_out=mask_in.shape[0]\n",
    "    ni_out=mask_in.shape[1]\n",
    "\n",
    "    if lewp:\n",
    "        mask=np.zeros(shape=(nj_out,ni_out+2))\n",
    "        mask[:,1:-1]=mask_in\n",
    "        mask[:, 0]=mask[:,-2]\n",
    "        mask[:,-1]=mask[:, 1]\n",
    "        xslc=slice(0,ni_out)\n",
    "    else:\n",
    "        mask=mask_in\n",
    "        xslc=slice(1,-1)\n",
    "        \n",
    "    mask_coast=np.zeros(shape=(nj_out,ni_out))\n",
    "    mask_coast[1:-1,xslc]= ( mask[1:-1,1:-1] + \n",
    "                             mask[0:-2,1:-1] + mask[2::,1:-1] + mask[1:-1,0:-2] + mask[1:-1,2::] +\n",
    "                             mask[0:-2,0:-2] + mask[2::,2::]  + mask[2::,0:-2]  + mask[0:-2,2::] ) * mask[1:-1,1:-1]\n",
    "    mask_coast[(mask_coast > 1) & (mask_coast < 9)] = 10\n",
    "    mask_coast[mask_coast!=10]=np.nan\n",
    "    mask_coast=mask_coast.astype(np.float32)\n",
    "    mask_coast[mask_coast==10]=1\n",
    "    \n",
    "    return mask_coast"
   ]
  },
  {
   "cell_type": "code",
   "execution_count": 19,
   "id": "d5b51616",
   "metadata": {},
   "outputs": [],
   "source": [
    "# get coastal cell along area to parametrized\n",
    "# method:\n",
    "# - reverse the cell_to_param mask\n",
    "# - detect contour\n",
    "# - pick from contour only the ocean points\n",
    "NEMO_mask_param_basins=np.zeros(shape=NEMO_cell_to_param.shape)\n",
    "NEMO_mask_param_basins=np.where(NEMO_cell_to_param>0,0,1)\n",
    "NEMO_mask_param_basins=get_coastal_msk(NEMO_mask_param_basins,True)\n",
    "NEMO_mask_param_basins[np.isnan(NEMO_mask_param_basins)]=0\n",
    "\n",
    "# get NEMO mask\n",
    "NEMO_mask=ds_nemo_domain.bottom_level.squeeze()\n",
    "NEMO_mask=np.where(NEMO_mask>0,1,0)\n",
    "\n",
    "# get basin number for each coastal cell\n",
    "NEMO_mask_param_basins=np.where(NEMO_mask == 1, NEMO_mask_param_basins, 0)\n",
    "NEMO_mask_param_basins=NEMO_mask_param_basins*NEMO_basins\n",
    "\n",
    "# get scale factor for each coastal cell\n",
    "NEMO_mask_param_sf=np.zeros(shape=NEMO_cell_to_param.shape)\n",
    "for ib, ibasin in enumerate(basin_list):\n",
    "    npts=len(np.where(NEMO_mask_param_basins==ibasin)[0])\n",
    "    if npts > 0:\n",
    "        NEMO_mask_param_sf=np.where(NEMO_mask_param_basins==ibasin,1.0/npts,NEMO_mask_param_sf)"
   ]
  },
  {
   "cell_type": "markdown",
   "id": "52e56561",
   "metadata": {},
   "source": [
    "## Define the output file"
   ]
  },
  {
   "cell_type": "code",
   "execution_count": 20,
   "id": "14ce2d91",
   "metadata": {},
   "outputs": [],
   "source": [
    "# create clean data_set array (cdo is very sensitive)\n",
    "ds_out = xr.Dataset(\n",
    "    data_vars=dict(\n",
    "        isf_param_sf=([\"x\",\"y\"], NEMO_mask_param_sf    ,dict(unit='[]',long_name='isf_param_area_scale_factor')),\n",
    "        isf_param_id=([\"x\",\"y\"], NEMO_mask_param_basins,dict(unit='[]',long_name='isf_param_basin_id')),\n",
    "        isf_area_dist=([\"id\",\"z\"], hist_isfd, dict(unit='m2',long_name='isf_draft_area_distribution_per_depth_bin')), \n",
    "    ),\n",
    "    coords=dict(\n",
    "        lon=([\"x\",\"y\"],ds_nemo_domain.glamt.values.squeeze()),\n",
    "        lat=([\"x\",\"y\"],ds_nemo_domain.gphit.values.squeeze()),\n",
    "        bin_width=([\"z\"],e3t),\n",
    "        basins=([\"id\"],np.array(list(basin_list))),\n",
    "    ),\n",
    ")\n",
    "\n",
    "# save to netcdf\n",
    "ds_out.to_netcdf('toto.nc')"
   ]
  }
 ],
 "metadata": {
  "kernelspec": {
   "display_name": "NEMO_to_ISMIP6",
   "language": "python",
   "name": "nemo_to_ismip6"
  },
  "language_info": {
   "codemirror_mode": {
    "name": "ipython",
    "version": 3
   },
   "file_extension": ".py",
   "mimetype": "text/x-python",
   "name": "python",
   "nbconvert_exporter": "python",
   "pygments_lexer": "ipython3",
   "version": "3.7.10"
  }
 },
 "nbformat": 4,
 "nbformat_minor": 5
}
