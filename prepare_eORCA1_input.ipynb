{
 "cells": [
  {
   "cell_type": "code",
   "execution_count": null,
   "id": "d33a0ba0-1949-4d4b-9aef-2de855d159ce",
   "metadata": {},
   "outputs": [],
   "source": [
    "\"\"\"\n",
    "Created on Mon Oct 21 16:13 2024\n",
    "\n",
    "Prepare what's needed for eORCA1 on the ice-shelf side\n",
    "\n",
    "@author: Clara Burgard\n",
    "\"\"\""
   ]
  },
  {
   "cell_type": "code",
   "execution_count": 1,
   "id": "812a31bc-f951-4981-bdea-34cc08532611",
   "metadata": {},
   "outputs": [],
   "source": [
    "import xarray as xr\n",
    "import numpy as np\n",
    "from cdo import Cdo\n",
    "from tqdm.notebook import tqdm\n",
    "import matplotlib.pyplot as plt\n",
    "from datetime import date"
   ]
  },
  {
   "cell_type": "code",
   "execution_count": 2,
   "id": "51657dc2-6a20-4a1f-a799-43df9c3576c0",
   "metadata": {},
   "outputs": [
    {
     "name": "stderr",
     "output_type": "stream",
     "text": [
      "QStandardPaths: error creating runtime directory '/run/user/2784' (Permission denied)\n"
     ]
    }
   ],
   "source": [
    "%matplotlib qt5"
   ]
  },
  {
   "cell_type": "code",
   "execution_count": 3,
   "id": "b5ec574f-922f-4460-ab83-6a03429e0fd6",
   "metadata": {},
   "outputs": [
    {
     "name": "stdout",
     "output_type": "stream",
     "text": [
      "this is CDO version 2.1.0\n"
     ]
    }
   ],
   "source": [
    "cdo = Cdo()\n",
    "print('this is CDO version %s'%(cdo.version()))"
   ]
  },
  {
   "cell_type": "code",
   "execution_count": 4,
   "id": "33919035-9b27-4254-b541-485be1a642d4",
   "metadata": {},
   "outputs": [],
   "source": [
    "inputpath_raw = '/data/cburgard/PREPARE_FORCING/PREPARE_CAVITY_MASKS/raw/'\n",
    "inputpath_interim = '/data/cburgard/PREPARE_FORCING/PREPARE_CAVITY_MASKS/interim/'"
   ]
  },
  {
   "cell_type": "markdown",
   "id": "60815018-5a0a-4d12-998f-5f2e72e4b3f2",
   "metadata": {},
   "source": [
    "REMAP THE ICE SHELF CONCENTRATION"
   ]
  },
  {
   "cell_type": "code",
   "execution_count": 5,
   "id": "c2e0f05a-d444-4c91-927e-a3efe86f8e89",
   "metadata": {},
   "outputs": [],
   "source": [
    "fNEMO_mask = 'eORCA1.4.3_OpenSeas_OpenAllCav_ModStraights_domain_cfg.nc'\n",
    "dom_cfg_path = inputpath_raw + 'eORCA1.4.3_OpenSeas_OpenAllCav_ModStraights/eORCA1.4.3_OpenSeas_OpenAllCav_ModStraights_domain_cfg.nc'\n",
    "mask_file_path = inputpath_interim + 'Mask_Iceshelf_IMBIE2_v2_with_zmin_zmax_isfconc.nc'\n",
    "grid_file_path = inputpath_interim + 'grid_eORCA1_T.nc'\n",
    "#grid_file_path = inputpath_raw + 'eORCA1_v4.2_CDO_with_var.nc'"
   ]
  },
  {
   "cell_type": "code",
   "execution_count": null,
   "id": "e7836c49-fd42-43bc-b1f5-ab9c2dcdd23f",
   "metadata": {},
   "outputs": [],
   "source": [
    "cdo.selvar('isf_conc', input = mask_file_path, output = inputpath_interim + 'isf_conc_only_2km.nc')"
   ]
  },
  {
   "cell_type": "code",
   "execution_count": null,
   "id": "faf2a78b-af70-44ff-a955-5816f0952455",
   "metadata": {},
   "outputs": [],
   "source": [
    "cdo.remapbil(grid_file_path, input = inputpath_interim + 'isf_conc_only_2km.nc', output = inputpath_interim + 'isf_conc_only_targetgrid.nc')"
   ]
  },
  {
   "cell_type": "markdown",
   "id": "16b629cd-a836-439b-9e2c-e7407e0109dd",
   "metadata": {},
   "source": [
    "REMAP THE IMBIE MASK"
   ]
  },
  {
   "cell_type": "code",
   "execution_count": null,
   "id": "b55faf1d-7e98-4e08-9cfd-8c71edd25217",
   "metadata": {},
   "outputs": [],
   "source": [
    "cdo.selvar('Iceshelf_extrap', input = mask_file_path, output = inputpath_interim + 'isfmask_only_2km.nc')"
   ]
  },
  {
   "cell_type": "code",
   "execution_count": null,
   "id": "ba1b77a3-a193-4a51-82f9-1da4b2c43c30",
   "metadata": {},
   "outputs": [],
   "source": [
    "cdo.remapnn(grid_file_path, input = inputpath_interim + 'isfmask_only_2km.nc', output = inputpath_interim + 'isfmask_only_targetgrid.nc')"
   ]
  },
  {
   "cell_type": "markdown",
   "id": "9bb61c50-2b37-40d9-9d44-4f10629a6e37",
   "metadata": {},
   "source": [
    "CREATE MASK_VARIABLE"
   ]
  },
  {
   "cell_type": "code",
   "execution_count": 6,
   "id": "cf841abb-48e4-49e3-8ead-87fc44e12c81",
   "metadata": {},
   "outputs": [],
   "source": [
    "domain_cfg = xr.open_dataset(dom_cfg_path)\n",
    "isfmask = xr.open_dataset(inputpath_interim + 'isfmask_only_targetgrid.nc')\n",
    "isfconc = xr.open_dataset(inputpath_interim + 'isf_conc_only_targetgrid.nc')"
   ]
  },
  {
   "cell_type": "code",
   "execution_count": 7,
   "id": "5588bb39-592e-4955-9893-62f31c7ab9ed",
   "metadata": {},
   "outputs": [],
   "source": [
    "ds_isfNEMO = xr.Dataset()\n",
    "\n",
    "ds_isfNEMO['mask_isf'] = isfmask['Iceshelf_extrap'].where(domain_cfg['isf_draft'] > 0)\n",
    "ds_isfNEMO['mask_isf'].attrs['standard_name'] = 'mask of all the ice shelves'\n",
    "ds_isfNEMO['mask_isf'].attrs['units'] = 'ID as given in Mask_Iceshelf_IMBIE2_v2.nc'\n",
    "\n",
    "#ds_isfNEMO['mask_isf_onlyisfconc1'] = ds_isfNEMO['mask_isf'].where(isfconc['isf_conc'] > 0.9999)\n"
   ]
  },
  {
   "cell_type": "code",
   "execution_count": 8,
   "id": "3b8bd366-22b3-4b39-a532-748070b2bb3e",
   "metadata": {},
   "outputs": [],
   "source": [
    "ds_isfNEMO['floating_frac'] = isfconc['isf_conc'] # .where(isfconc['isf_conc'] < 0.9999,1)"
   ]
  },
  {
   "cell_type": "markdown",
   "id": "2f8179a6-a2ab-443d-88dd-6fc809014acc",
   "metadata": {},
   "source": [
    "CREATE MASK_ISF_OPEN AND MASK_ISF_CLOSED"
   ]
  },
  {
   "cell_type": "code",
   "execution_count": 9,
   "id": "664752cf-a51a-4ad3-978a-e9f1d26a36d1",
   "metadata": {},
   "outputs": [],
   "source": [
    "file_Justine = xr.open_dataset(mask_file_path).drop('quantile')"
   ]
  },
  {
   "cell_type": "code",
   "execution_count": null,
   "id": "ae42928b-0c1f-47f8-b8bd-a92539ba2790",
   "metadata": {},
   "outputs": [],
   "source": [
    "for iid in file_Justine.ID:\n",
    "    print(iid.values,file_Justine['NAME'].sel(ID=iid).values)"
   ]
  },
  {
   "cell_type": "code",
   "execution_count": 10,
   "id": "0de75c39-c7a2-460b-a0c2-8a92c374e373",
   "metadata": {},
   "outputs": [],
   "source": [
    "ID_open_list = [1,2,21,66,67,117,124,125,127,128]"
   ]
  },
  {
   "cell_type": "code",
   "execution_count": 11,
   "id": "c1f49946-da81-41f4-a0bb-2e9b17ed9512",
   "metadata": {},
   "outputs": [],
   "source": [
    "file_Justine_open = file_Justine.sel(ID=ID_open_list)\n",
    "file_Justine_closed = file_Justine.drop_sel(ID=ID_open_list)"
   ]
  },
  {
   "cell_type": "code",
   "execution_count": 12,
   "id": "84cd0670-5e54-4701-95f6-e640a34a45c3",
   "metadata": {},
   "outputs": [
    {
     "data": {
      "application/vnd.jupyter.widget-view+json": {
       "model_id": "48531d5b93ad4dc5991780ffab9bc2ca",
       "version_major": 2,
       "version_minor": 0
      },
      "text/plain": [
       "  0%|          | 0/123 [00:00<?, ?it/s]"
      ]
     },
     "metadata": {},
     "output_type": "display_data"
    }
   ],
   "source": [
    "domain_cfg_closed =  domain_cfg.copy()\n",
    "for id_closed in tqdm(file_Justine_closed.ID):\n",
    "    for vv in ['bottom_level','top_level','isf_draft','bathy_metry']:\n",
    "        domain_cfg_closed[vv] = domain_cfg_closed[vv].where(ds_isfNEMO['mask_isf'].drop_vars(['glamt', 'gphit']) != id_closed.values, 0)"
   ]
  },
  {
   "cell_type": "code",
   "execution_count": 13,
   "id": "7da6a027-dcf5-4073-8f58-d4b6ed9fdaa3",
   "metadata": {},
   "outputs": [
    {
     "data": {
      "application/vnd.jupyter.widget-view+json": {
       "model_id": "1f3eb8b8bc514473981401dcd441acab",
       "version_major": 2,
       "version_minor": 0
      },
      "text/plain": [
       "  0%|          | 0/123 [00:00<?, ?it/s]"
      ]
     },
     "metadata": {},
     "output_type": "display_data"
    }
   ],
   "source": [
    "mask_isf_open = ds_isfNEMO['mask_isf'].copy()\n",
    "for id_closed in tqdm(file_Justine_closed.ID):\n",
    "    mask_isf_open = mask_isf_open.where(ds_isfNEMO['mask_isf'].drop_vars(['glamt', 'gphit']) != id_closed.values)"
   ]
  },
  {
   "cell_type": "code",
   "execution_count": 14,
   "id": "2db5b78a-458a-407c-9638-2ed57e7390ed",
   "metadata": {},
   "outputs": [],
   "source": [
    "mask_isf_closed = ds_isfNEMO['mask_isf'].where(np.isnan(mask_isf_open))"
   ]
  },
  {
   "cell_type": "code",
   "execution_count": 15,
   "id": "df7a6118-1093-421e-8734-799df421be09",
   "metadata": {},
   "outputs": [],
   "source": [
    "# create mask_isf_open and mask_isf_closed\n",
    "ds_isfNEMO['mask_isf_open'] = mask_isf_open\n",
    "ds_isfNEMO['mask_isf_open'].attrs['standard_name'] = 'mask of the ice shelves that are open'\n",
    "ds_isfNEMO['mask_isf_open'].attrs['units'] = 'ID as given in Mask_Iceshelf_IMBIE2_v2.nc'\n",
    "\n",
    "ds_isfNEMO['mask_isf_closed'] = mask_isf_closed\n",
    "ds_isfNEMO['mask_isf_closed'].attrs['standard_name'] = 'mask of the ice shelves that are closed'\n",
    "ds_isfNEMO['mask_isf_closed'].attrs['units'] = 'ID as given in Mask_Iceshelf_IMBIE2_v2.nc'"
   ]
  },
  {
   "cell_type": "markdown",
   "id": "f2f0b41f-34fd-4378-b4a7-6eaf97a289e0",
   "metadata": {},
   "source": [
    "IDENTIFY FRONT"
   ]
  },
  {
   "cell_type": "code",
   "execution_count": 16,
   "id": "97a00f3b-bfe0-4e74-8c8f-40cad85677ed",
   "metadata": {},
   "outputs": [],
   "source": [
    "mask_0_1_2 = ds_isfNEMO['mask_isf'] * 2\n",
    "mask_0_1_2 = mask_0_1_2.where(domain_cfg['bathy_metry'] != 0, 400) # land\n",
    "mask_0_1_2 = mask_0_1_2.where(domain_cfg['bathy_metry'] == 0, 0) # ocean\n",
    "mask_0_1_2 = mask_0_1_2.where(domain_cfg['isf_draft'] == 0, 200) # ice shelf"
   ]
  },
  {
   "cell_type": "code",
   "execution_count": 17,
   "id": "868069e6-1108-4de4-9a4c-1becdf878349",
   "metadata": {},
   "outputs": [],
   "source": [
    "# mask_open2 is equivalent to mask_isf_closed\n",
    "mask_0_1_2_corr2 = mask_0_1_2.copy()\n",
    "extrap_domains_closed = isfmask['Iceshelf_extrap'].copy()\n",
    "\n",
    "for kisf in ID_open_list:\n",
    "    mask_0_1_2_closed = mask_0_1_2_corr2.where(ds_isfNEMO['mask_isf'] != kisf, 400)\n",
    "    extrap_domains_closed = extrap_domains_closed.where(extrap_domains_closed != kisf, np.nan)"
   ]
  },
  {
   "cell_type": "code",
   "execution_count": 18,
   "id": "e3e1d9d1-3d77-4e43-ae61-b0dc505008d0",
   "metadata": {},
   "outputs": [],
   "source": [
    "is_mask0 = mask_isf_open.where(np.isnan(mask_isf_open)==False,0)\n",
    "# set all ice shelves to 3\n",
    "mask_front0 = mask_0_1_2_corr2.where((mask_0_1_2_corr2 == 0) | (mask_0_1_2_corr2 == 400), 300).copy()"
   ]
  },
  {
   "cell_type": "code",
   "execution_count": null,
   "id": "443a18cd-4d69-4d86-b05c-81933317c89c",
   "metadata": {},
   "outputs": [],
   "source": [
    "isfmask['Iceshelf_extrap'].where((isfmask['Iceshelf_extrap'] == 55) & (mask_isf_closed > 0)).plot()"
   ]
  },
  {
   "cell_type": "code",
   "execution_count": null,
   "id": "cffffb5f-c7f8-46d9-b4ba-4b29524ab400",
   "metadata": {},
   "outputs": [],
   "source": [
    "isfmask['Iceshelf_extrap'].where((isfmask['Iceshelf_extrap'] == 55) & (mask_isf_closed > 0)).plot()"
   ]
  },
  {
   "cell_type": "code",
   "execution_count": 19,
   "id": "5b660390-9cfa-40bd-93bb-a76edeb3ac84",
   "metadata": {},
   "outputs": [],
   "source": [
    "mask_front = mask_front0.copy()\n",
    "# check all directions and set points at border between ocean and ice shelf (300-0) to 500\n",
    "mask_front = mask_front.where((mask_front0.shift(x=-1)-mask_front0)!=300,500)\n",
    "mask_front = mask_front.where((mask_front0.shift(x=1)-mask_front0)!=300,500)\n",
    "mask_front = mask_front.where((mask_front0.shift(y=-1)-mask_front0)!=300,500)\n",
    "mask_front = mask_front.where((mask_front0.shift(y=1)-mask_front0)!=300,500)\n",
    "# cut out all front points\n",
    "mask_front = mask_front.where(mask_front==500)\n",
    "# set the ice shelf number\n",
    "mask_front = mask_front.where(mask_front!=500,extrap_domains_closed)"
   ]
  },
  {
   "cell_type": "code",
   "execution_count": null,
   "id": "d5c22b58-94ac-4279-bd36-af0a11998042",
   "metadata": {},
   "outputs": [],
   "source": [
    "mask_front.plot()"
   ]
  },
  {
   "cell_type": "markdown",
   "id": "75d26b16-3714-4d4f-b4d9-789019632bed",
   "metadata": {},
   "source": [
    "For the ice shelves not resolved at all in eORCA1"
   ]
  },
  {
   "cell_type": "code",
   "execution_count": 20,
   "id": "56ec0a28-f663-49bb-8cac-01cd6eefa3b2",
   "metadata": {},
   "outputs": [],
   "source": [
    "mask_0_2 = mask_0_1_2.where(mask_0_1_2 != 200, 2)\n",
    "mask_0_2 = mask_0_2.where(mask_0_2 != 400, 2)\n",
    "\n",
    "mask_front_new0 = mask_0_2.copy()"
   ]
  },
  {
   "cell_type": "code",
   "execution_count": 61,
   "id": "5839c7ce-874e-4f35-8248-e6092a431fe0",
   "metadata": {},
   "outputs": [],
   "source": [
    "extrap_domains_double_closed = extrap_domains_closed.copy()\n",
    "\n",
    "for kisf in file_Justine_closed.ID:\n",
    "    if (mask_front == kisf).astype(int).sum() > 0:\n",
    "        #print(kisf.values)\n",
    "        extrap_domains_double_closed = extrap_domains_double_closed.where(extrap_domains_double_closed != kisf, np.nan).drop('ID')"
   ]
  },
  {
   "cell_type": "code",
   "execution_count": 65,
   "id": "ed0fa5c8-b7c5-4c62-8be0-22ef912c404e",
   "metadata": {},
   "outputs": [
    {
     "data": {
      "text/plain": [
       "<matplotlib.collections.QuadMesh at 0x1513498a0d00>"
      ]
     },
     "execution_count": 65,
     "metadata": {},
     "output_type": "execute_result"
    }
   ],
   "source": [
    "(extrap_domains_double_closed == 15).plot()"
   ]
  },
  {
   "cell_type": "code",
   "execution_count": 63,
   "id": "0b12a5ff-b941-49fb-a47e-f1c36c03bf03",
   "metadata": {},
   "outputs": [],
   "source": [
    "mask_0_2 = mask_0_1_2.where(mask_0_1_2 != 200, 2)\n",
    "mask_0_2 = mask_0_2.where(mask_0_2 != 400, 2)\n",
    "\n",
    "mask_front_new = mask_0_2.copy()\n",
    "\n",
    "# check all directions and set points at border between ocean and land(300-0) to 500\n",
    "mask_front_new = mask_front_new.where((mask_front_new0.shift(x=-1)-mask_front_new0) <= 0,5)\n",
    "mask_front_new = mask_front_new.where((mask_front_new0.shift(x=1)-mask_front_new0) <= 0,5)\n",
    "mask_front_new = mask_front_new.where((mask_front_new0.shift(y=-1)-mask_front_new0) <= 0,5)\n",
    "mask_front_new = mask_front_new.where((mask_front_new0.shift(y=1)-mask_front_new0) <= 0,5)\n",
    "# cut out all front points\n",
    "mask_front_new = mask_front_new.where((mask_front_new == 5) & (mask_front_new.y < 90) & (mask_0_2 == 0))\n",
    "## set the ice shelf number\n",
    "mask_front_new = mask_front_new.where(mask_front_new != 5 ,extrap_domains_double_closed)"
   ]
  },
  {
   "cell_type": "code",
   "execution_count": 41,
   "id": "f2b5880c-420a-4867-a470-56b4d2b30165",
   "metadata": {},
   "outputs": [
    {
     "data": {
      "text/plain": [
       "<matplotlib.collections.QuadMesh at 0x15134a5e0e50>"
      ]
     },
     "execution_count": 41,
     "metadata": {},
     "output_type": "execute_result"
    }
   ],
   "source": [
    "# check that it is the right delimitation\n",
    "((mask_front_new > 0) + mask_0_2).plot(vmin=14,vmax=17)"
   ]
  },
  {
   "cell_type": "code",
   "execution_count": 66,
   "id": "db660e01-250b-4eab-ad6d-6e7d816f8fa7",
   "metadata": {},
   "outputs": [
    {
     "data": {
      "text/plain": [
       "<matplotlib.collections.QuadMesh at 0x1513497f92b0>"
      ]
     },
     "execution_count": 66,
     "metadata": {},
     "output_type": "execute_result"
    }
   ],
   "source": [
    "mask_front_new.plot(vmin=14,vmax=16)"
   ]
  },
  {
   "cell_type": "code",
   "execution_count": 40,
   "id": "b7bffd1b-9837-4c74-ace5-5f2dc3227fba",
   "metadata": {},
   "outputs": [
    {
     "data": {
      "text/plain": [
       "<matplotlib.collections.QuadMesh at 0x15134a68e070>"
      ]
     },
     "execution_count": 40,
     "metadata": {},
     "output_type": "execute_result"
    }
   ],
   "source": [
    "(mask_front_new + extrap_domains_closed).plot()"
   ]
  },
  {
   "cell_type": "code",
   "execution_count": 48,
   "id": "615f6433-3cd7-497f-936c-acd6cff11f05",
   "metadata": {},
   "outputs": [
    {
     "data": {
      "text/plain": [
       "<matplotlib.collections.QuadMesh at 0x15134a0e2c40>"
      ]
     },
     "execution_count": 48,
     "metadata": {},
     "output_type": "execute_result"
    }
   ],
   "source": [
    "(extrap_domains_closed + mask_front_new).plot(vmin=15,vmax=17)"
   ]
  },
  {
   "cell_type": "code",
   "execution_count": 52,
   "id": "362d4830-469f-44b6-bb51-7ae9d57ca616",
   "metadata": {},
   "outputs": [
    {
     "data": {
      "text/plain": [
       "<matplotlib.collections.QuadMesh at 0x151349e60f70>"
      ]
     },
     "execution_count": 52,
     "metadata": {},
     "output_type": "execute_result"
    }
   ],
   "source": [
    "(np.isfinite(mask_front_new) & np.isfinite(extrap_domains_closed)).plot()"
   ]
  },
  {
   "cell_type": "code",
   "execution_count": 53,
   "id": "26e5abe0-e804-4d4e-b902-6ad84a32e2d1",
   "metadata": {},
   "outputs": [
    {
     "data": {
      "text/plain": [
       "<matplotlib.collections.QuadMesh at 0x151349d2da60>"
      ]
     },
     "execution_count": 53,
     "metadata": {},
     "output_type": "execute_result"
    }
   ],
   "source": [
    "mask_front_new.where(extrap_domains_closed == 15).plot()"
   ]
  },
  {
   "cell_type": "code",
   "execution_count": 24,
   "id": "bb006c3a-cfaf-47a0-b56f-cc3bb32528cb",
   "metadata": {},
   "outputs": [
    {
     "name": "stdout",
     "output_type": "stream",
     "text": [
      "3  0\n",
      "6  0\n",
      "10  2\n",
      "12  0\n",
      "13 Shirase 1\n",
      "14 Hannan/Telen/Skallen 11\n",
      "15 Rayner_Thyer 0\n",
      "16 Zubchatyy/Porter/Myers 12\n",
      "17 WilmaRobertDowner 0\n",
      "18 Edward_VIII 0\n",
      "20 Utsikkar/Mulebreen/Cirque_Fjord/Hoseason/Rund_Bay 34\n",
      "22 Publications 1\n",
      "23 Sorsdal/Hovde/Flatnes/Dalk 6\n",
      "25 Helen 6\n",
      "28  0\n",
      "30  3\n",
      "31 Vincennes_Bay/Underwood 3\n",
      "32 Williamson/Whittle/FoxE 6\n",
      "35  1\n",
      "36 Voyeykov 1\n",
      "37  1\n",
      "39 Frost 1\n",
      "40 May_Glacier/Morse/Sandford 5\n",
      "41 Dibble 1\n",
      "42 WattBay/Zelee/Astrolabe/Liotard/Francais/Marret/Commandant_Charcot//PourquoiPas 10\n",
      "44 Ainsworth/Fisher 1\n",
      "46 Deakin/HornBluff 3\n",
      "48 Andreyev/Slava 3\n",
      "50 Drury 0\n",
      "51 Matusevitch 1\n",
      "52 Suvorov/Gillet/Noll/Paternostro/McLeod 3\n",
      "54 Chugunov/Barber/Gannutz 1\n",
      "55 Lillie 1\n",
      "56 Arneb/Manhaul/Ironside/Quatermain_Point/Moubray/Dennistoun/SmithInlet//Kirkby 11\n",
      "57 Tucker 0\n",
      "58 Mandible_Cirque 2\n",
      "60 Parker/Falkner/Fitzgerald/Wylde/Suter 1\n",
      "62 Campbell/CapeWashington/Tinker 3\n",
      "65 Nordenskjold/Marin/HarbordGlacier/Cheetham/GeikieInlet 12\n",
      "68  1\n",
      "69 Hamilton 1\n",
      "70  1\n",
      "71 Withrow 1\n",
      "72  1\n",
      "73 Richter 1\n",
      "76  1\n",
      "78 Land 2\n",
      "79  3\n",
      "80 Hull 1\n",
      "81 Jackson/Perkins/Garfield/Rose_Point 2\n",
      "89  4\n",
      "91  1\n",
      "94 Ferrigno 1\n",
      "95 Alison/Eltanin_Bay 4\n",
      "96 Thomson 0\n",
      "97 Rydberg_Peninsula 3\n",
      "100 Britten 2\n",
      "102  5\n",
      "103 Verdi 0\n",
      "104  2\n",
      "105 Brahms 0\n",
      "106  0\n",
      "107 Mendelssohn 0\n",
      "108  1\n",
      "110  5\n",
      "111  0\n",
      "112 Wordie 2\n",
      "113  22\n",
      "114  5\n",
      "115 LarsenA 1\n",
      "116 LarsenB 2\n",
      "119 LarsenE 3\n",
      "120  1\n",
      "121 LarsenF 1\n",
      "122 ClarkeBay 2\n",
      "126 Dawson_Lambton/Hayes_Coats_Coast 10\n",
      "129  1\n",
      "131  1\n"
     ]
    }
   ],
   "source": [
    "mask_front_all = mask_front.copy()\n",
    "for iid in file_Justine_closed.ID:\n",
    "    if (ds_isfNEMO['mask_isf_closed'] == iid).astype(int).sum().values == 0: #ds_isfNEMO['mask_isf_closed']\n",
    "        print(iid.values, file_Justine_closed['NAME'].sel(ID=iid).values, (mask_front_new == iid).astype(int).sum().values)\n",
    "        mask_front_all = mask_front_all.combine_first(mask_front_new.where(mask_front_new == iid))"
   ]
  },
  {
   "cell_type": "code",
   "execution_count": null,
   "id": "79c8bbc2-df91-40a6-bdeb-94d28f3583ff",
   "metadata": {},
   "outputs": [],
   "source": [
    "(mask_front_all == 101).plot()"
   ]
  },
  {
   "cell_type": "code",
   "execution_count": null,
   "id": "88670e93-80b2-4f7a-9e91-c6f2605e62ff",
   "metadata": {},
   "outputs": [],
   "source": [
    "(mask_front * 0 + 1).plot(vmin=0,vmax=2)\n",
    "(mask_front_all.where(np.isnan(mask_front)) * 0 + 2).plot(vmin=0,vmax=2)"
   ]
  },
  {
   "cell_type": "code",
   "execution_count": null,
   "id": "204a3440-358c-4444-a5c3-9783bf10bb78",
   "metadata": {},
   "outputs": [],
   "source": [
    "mask_front_all.plot(vmin=54,vmax=56)"
   ]
  },
  {
   "cell_type": "code",
   "execution_count": null,
   "id": "20215429-6da3-493d-a662-b25f50ea0bd2",
   "metadata": {},
   "outputs": [],
   "source": [
    "##### ds_isfNEMO['mask_isf_closed'].plot()"
   ]
  },
  {
   "cell_type": "code",
   "execution_count": null,
   "id": "baa20db1-6874-4133-b22b-a1fc9ceff7a4",
   "metadata": {},
   "outputs": [],
   "source": [
    "mask_front_new.plot()"
   ]
  },
  {
   "cell_type": "code",
   "execution_count": null,
   "id": "eea12b74-8720-4df1-a305-7289bf55623a",
   "metadata": {},
   "outputs": [],
   "source": [
    "(isfmask['Iceshelf'] == 55).plot()"
   ]
  },
  {
   "cell_type": "code",
   "execution_count": null,
   "id": "51e47187-1b3a-40f8-80ab-1e31179665e1",
   "metadata": {},
   "outputs": [],
   "source": [
    "mask_0_1_2_corr2.where(ds_isfNEMO['mask_isf'] == 55).plot()"
   ]
  },
  {
   "cell_type": "code",
   "execution_count": null,
   "id": "61e16bbd-9575-4c5c-8620-7c66f11093a3",
   "metadata": {},
   "outputs": [],
   "source": [
    "mask_front.plot()"
   ]
  },
  {
   "cell_type": "code",
   "execution_count": null,
   "id": "7ab6e352-db45-4b21-a02b-66c5ca6dac35",
   "metadata": {},
   "outputs": [],
   "source": [
    "mask_front.plot(vmin=54,vmax=56)"
   ]
  },
  {
   "cell_type": "code",
   "execution_count": null,
   "id": "de5800e6-54da-47fa-851c-2a98f33d4890",
   "metadata": {},
   "outputs": [],
   "source": [
    "mask_front_all.where(mask_front_all==55).plot()"
   ]
  },
  {
   "cell_type": "markdown",
   "id": "11319f83-bfba-43aa-a070-c46015fda5e8",
   "metadata": {},
   "source": [
    "MAKE MAPS OF ZMIN AND ZMAX ON THE FRONT"
   ]
  },
  {
   "cell_type": "code",
   "execution_count": null,
   "id": "751d59dd-9a1e-4b7f-8f39-ab33ab70166a",
   "metadata": {},
   "outputs": [],
   "source": [
    "zmin_front = mask_front_all.copy()\n",
    "zmax_front = mask_front_all.copy()\n",
    "\n",
    "for id_closed in tqdm(file_Justine_closed.ID):\n",
    "    zmin_front = zmin_front.where(mask_front_all != id_closed, file_Justine_closed['z_min'].sel(ID=id_closed)).drop('ID')\n",
    "    zmax_front = zmax_front.where(mask_front_all != id_closed, file_Justine_closed['z_max'].sel(ID=id_closed)).drop('ID')"
   ]
  },
  {
   "cell_type": "code",
   "execution_count": null,
   "id": "c9717c24-6ec5-4f3a-9863-42d780784e7d",
   "metadata": {},
   "outputs": [],
   "source": [
    "mask_front_all.plot(vmin=62,vmax=64)"
   ]
  },
  {
   "cell_type": "code",
   "execution_count": null,
   "id": "1bdd1132-9606-4dc0-a7a2-9e2cb5ca1fb0",
   "metadata": {},
   "outputs": [],
   "source": [
    "file_Justine_closed['z_min'].plot()\n",
    "file_Justine_closed['z_perc01'].plot()"
   ]
  },
  {
   "cell_type": "code",
   "execution_count": null,
   "id": "cc3fb229-0b2b-4cca-bde8-a2dcb0ff5512",
   "metadata": {},
   "outputs": [],
   "source": [
    "file_Justine_closed['z_max'].plot()\n",
    "file_Justine_closed['z_perc99'].plot()"
   ]
  },
  {
   "cell_type": "markdown",
   "id": "14913bb3-e052-44bb-a63c-a3bb2f2be062",
   "metadata": {},
   "source": [
    "DISTRIBUTE MELT AT THE FRONT NORMALISED BY CELL SIZE"
   ]
  },
  {
   "cell_type": "code",
   "execution_count": null,
   "id": "8e36f708-c133-4ff0-be1f-55d55cd6c434",
   "metadata": {},
   "outputs": [],
   "source": [
    "cell_area = domain_cfg['e1t'] * domain_cfg['e2t']\n",
    "melt_src = 'Adusumilli' # options: 'Adusumilli','Rignot', 'Paolo', 'Davison'\n",
    "melt_flux = file_Justine_closed['Melt'+melt_src]"
   ]
  },
  {
   "cell_type": "code",
   "execution_count": null,
   "id": "036e285b-3889-4935-abd4-2904632a50df",
   "metadata": {},
   "outputs": [],
   "source": [
    "melt_front = mask_front_all.copy()\n",
    "for id_closed in tqdm(file_Justine_closed.ID):\n",
    "    cell_area_isf = cell_area.where(mask_front_all == id_closed)\n",
    "    cell_area_isf_sum = cell_area.where(mask_front_all == id_closed).sum()\n",
    "    melt_front = melt_front.where(mask_front_all != id_closed, melt_flux.sel(ID=id_closed) * cell_area_isf / cell_area_isf_sum).drop('ID')"
   ]
  },
  {
   "cell_type": "code",
   "execution_count": null,
   "id": "974b4288-f97d-4396-9074-dd5df54c2941",
   "metadata": {},
   "outputs": [],
   "source": [
    "melt_front.sum()"
   ]
  },
  {
   "cell_type": "markdown",
   "id": "cb9db4fa-9615-422f-ac13-fb832421f676",
   "metadata": {},
   "source": [
    "Double-check that the total melt is matched"
   ]
  },
  {
   "cell_type": "code",
   "execution_count": null,
   "id": "600250a6-89c5-4d93-85eb-e5a5bd75de04",
   "metadata": {},
   "outputs": [],
   "source": [
    "melt_front_tot_list = []\n",
    "for id_closed in tqdm(file_Justine_closed.ID):\n",
    "    melt_front_tot_list.append(melt_front.where(mask_front_all == id_closed).sum().assign_coords({'ID': id_closed}))\n",
    "melt_front_tot_xr = xr.concat(melt_front_tot_list, dim='ID')"
   ]
  },
  {
   "cell_type": "code",
   "execution_count": null,
   "id": "a6580965-30d2-4b72-adf5-b128461528bb",
   "metadata": {},
   "outputs": [],
   "source": [
    "zmin_front = zmin_front.where(melt_front > 0)\n",
    "zmax_front = zmax_front.where(melt_front > 0)\n",
    "melt_front = melt_front.where(melt_front > 0)"
   ]
  },
  {
   "cell_type": "code",
   "execution_count": null,
   "id": "d78ee920-72c5-48e0-8d5e-0428b26b9bf1",
   "metadata": {},
   "outputs": [],
   "source": [
    "melt_front_tot_xr"
   ]
  },
  {
   "cell_type": "code",
   "execution_count": null,
   "id": "3ed37b34-3b63-4f70-a8a8-8641086055dd",
   "metadata": {},
   "outputs": [],
   "source": [
    "(file_Justine_closed['MeltAdusumilli'] - melt_front_tot_xr).where((file_Justine_closed['MeltAdusumilli'] - melt_front_tot_xr) > 0, drop=True)"
   ]
  },
  {
   "cell_type": "code",
   "execution_count": null,
   "id": "7d5337cd-c946-4bf1-8a43-cd50a2738612",
   "metadata": {},
   "outputs": [],
   "source": []
  },
  {
   "cell_type": "code",
   "execution_count": null,
   "id": "8e928383-8100-4282-8a0f-1732a9adf891",
   "metadata": {},
   "outputs": [],
   "source": [
    "file_Justine_closed['NAME'].sel(ID=101).load()"
   ]
  },
  {
   "cell_type": "code",
   "execution_count": null,
   "id": "c6279b8f-c624-49c8-8f82-156b91ddbe0e",
   "metadata": {},
   "outputs": [],
   "source": [
    "((mask_0_2) + (zmax_front > 0)).plot()"
   ]
  },
  {
   "cell_type": "markdown",
   "id": "87d7e08d-616b-43b8-8577-36393f861474",
   "metadata": {},
   "source": [
    "WRITE TO NETCDF"
   ]
  },
  {
   "cell_type": "code",
   "execution_count": null,
   "id": "07f7917c-9289-4b85-a1fd-bc0cec33467b",
   "metadata": {},
   "outputs": [],
   "source": [
    "ds_isfNEMO['z_min'] = zmin_front\n",
    "ds_isfNEMO['z_min'].attrs['standard_name'] = 'most shallow point of the ice-shelf draft indicated at the ice-shelf front'\n",
    "ds_isfNEMO['z_min'].attrs['units'] = 'm below sea level'\n",
    "\n",
    "ds_isfNEMO['z_max'] = zmax_front\n",
    "ds_isfNEMO['z_max'].attrs['standard_name'] = 'deepest point of the ice-shelf draft indicated at the ice-shelf front'\n",
    "ds_isfNEMO['z_max'].attrs['units'] = 'm below sea level'\n",
    "\n",
    "ds_isfNEMO['melt_isf_closed'] = melt_front\n",
    "ds_isfNEMO['melt_isf_closed'].attrs['standard_name'] = 'melt flux from '+melt_src+' distributed at the ice-shelf front'\n",
    "ds_isfNEMO['melt_isf_closed'].attrs['units'] = 'Gt/yr'\n",
    "\n",
    "ds_isfNEMO['ID'].attrs['standard_name'] = 'ice shelf ID'"
   ]
  },
  {
   "cell_type": "code",
   "execution_count": null,
   "id": "7daf2f65-917f-468b-b286-e124a65dc1cd",
   "metadata": {},
   "outputs": [],
   "source": [
    "ds_isfNEMO.attrs=dict(Source='Based on IMBIE2 (Mask_Iceshelf_IMBIE2_v2.nc)',\n",
    "                      Compatibility='The masked variables are compatible with '+fNEMO_mask,\n",
    "                      Creator='C. Burgard and P. Mathiot ('+date.today().strftime(\"%b-%d-%Y\")+')')"
   ]
  },
  {
   "cell_type": "code",
   "execution_count": null,
   "id": "0f067b3d-fa73-4667-a491-8e94779f55df",
   "metadata": {},
   "outputs": [],
   "source": [
    "ds_isfNEMO"
   ]
  },
  {
   "cell_type": "code",
   "execution_count": null,
   "id": "c1a642f1-3184-4ba2-9355-4d6adb27bcaf",
   "metadata": {},
   "outputs": [],
   "source": [
    "ds_isfNEMO.to_netcdf(inputpath_interim + 'masks_for_eORCA1.nc')"
   ]
  }
 ],
 "metadata": {
  "kernelspec": {
   "display_name": "py38",
   "language": "python",
   "name": "py38"
  },
  "language_info": {
   "codemirror_mode": {
    "name": "ipython",
    "version": 3
   },
   "file_extension": ".py",
   "mimetype": "text/x-python",
   "name": "python",
   "nbconvert_exporter": "python",
   "pygments_lexer": "ipython3",
   "version": "3.8.18"
  }
 },
 "nbformat": 4,
 "nbformat_minor": 5
}
