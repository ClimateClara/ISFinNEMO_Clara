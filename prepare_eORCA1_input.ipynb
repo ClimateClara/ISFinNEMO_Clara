{
 "cells": [
  {
   "cell_type": "code",
   "execution_count": null,
   "id": "d33a0ba0-1949-4d4b-9aef-2de855d159ce",
   "metadata": {},
   "outputs": [],
   "source": [
    "\"\"\"\n",
    "Created on Mon Oct 21 16:13 2024\n",
    "\n",
    "Prepare what's needed for eORCA1 on the ice-shelf side\n",
    "\n",
    "@author: Clara Burgard\n",
    "\"\"\""
   ]
  },
  {
   "cell_type": "code",
   "execution_count": 1,
   "id": "812a31bc-f951-4981-bdea-34cc08532611",
   "metadata": {},
   "outputs": [],
   "source": [
    "import xarray as xr\n",
    "import numpy as np\n",
    "from cdo import Cdo\n",
    "from tqdm.notebook import tqdm\n",
    "import matplotlib.pyplot as plt\n",
    "from datetime import date"
   ]
  },
  {
   "cell_type": "code",
   "execution_count": 2,
   "id": "51657dc2-6a20-4a1f-a799-43df9c3576c0",
   "metadata": {},
   "outputs": [
    {
     "name": "stderr",
     "output_type": "stream",
     "text": [
      "QStandardPaths: error creating runtime directory '/run/user/2784' (Permission denied)\n"
     ]
    }
   ],
   "source": [
    "%matplotlib qt5"
   ]
  },
  {
   "cell_type": "code",
   "execution_count": 3,
   "id": "b5ec574f-922f-4460-ab83-6a03429e0fd6",
   "metadata": {},
   "outputs": [
    {
     "name": "stdout",
     "output_type": "stream",
     "text": [
      "this is CDO version 2.1.0\n"
     ]
    }
   ],
   "source": [
    "cdo = Cdo()\n",
    "print('this is CDO version %s'%(cdo.version()))"
   ]
  },
  {
   "cell_type": "code",
   "execution_count": 4,
   "id": "33919035-9b27-4254-b541-485be1a642d4",
   "metadata": {},
   "outputs": [],
   "source": [
    "inputpath_raw = '/data/cburgard/PREPARE_FORCING/PREPARE_CAVITY_MASKS/raw/'\n",
    "inputpath_interim = '/data/cburgard/PREPARE_FORCING/PREPARE_CAVITY_MASKS/interim/'"
   ]
  },
  {
   "cell_type": "markdown",
   "id": "60815018-5a0a-4d12-998f-5f2e72e4b3f2",
   "metadata": {},
   "source": [
    "REMAP THE ICE SHELF CONCENTRATION"
   ]
  },
  {
   "cell_type": "code",
   "execution_count": 5,
   "id": "c2e0f05a-d444-4c91-927e-a3efe86f8e89",
   "metadata": {},
   "outputs": [],
   "source": [
    "fNEMO_mask = 'eORCA1.4.3_OpenSeas_OpenAllCav_ModStraights_domain_cfg.nc'\n",
    "dom_cfg_path = inputpath_raw + 'eORCA1.4.3_OpenSeas_OpenAllCav_ModStraights/eORCA1.4.3_OpenSeas_OpenAllCav_ModStraights_domain_cfg.nc'\n",
    "mask_file_path = inputpath_interim + 'Mask_Iceshelf_IMBIE2_v2_with_zmin_zmax_isfconc.nc'\n",
    "grid_file_path = inputpath_interim + 'grid_T_eORCA1_withoutcellarea.txt'\n",
    "grid_file_path2 = inputpath_interim + 'NEMO_gridT_eORCA1_cdo.nc'\n",
    "grid_file_path3 = '/data/cburgard/CASIMIR_SIMU/raw/n42openc/n42openc_00910101_01001231_1Y_grid_T.nc'\n",
    "grid_file_path4 = inputpath_interim + 'NEMO_grid_withbnds.nc'\n",
    "\n",
    "#grid_file_path = inputpath_raw + 'eORCA1_v4.2_CDO_with_var.nc'"
   ]
  },
  {
   "cell_type": "code",
   "execution_count": null,
   "id": "e7836c49-fd42-43bc-b1f5-ab9c2dcdd23f",
   "metadata": {},
   "outputs": [],
   "source": [
    "cdo.selvar('isf_conc', input = mask_file_path, output = inputpath_interim + 'isf_conc_only_2km.nc')"
   ]
  },
  {
   "cell_type": "code",
   "execution_count": null,
   "id": "c8a77855-ea55-4880-8308-17c85a3a5948",
   "metadata": {},
   "outputs": [],
   "source": [
    "cdo.remapbil(grid_file_path4, input = inputpath_interim + 'isf_conc_only_2km_IMBIEgrid.nc', output = inputpath_interim + 'isf_conc_only_targetgrid_remapbil.nc')"
   ]
  },
  {
   "cell_type": "code",
   "execution_count": 7,
   "id": "faf2a78b-af70-44ff-a955-5816f0952455",
   "metadata": {},
   "outputs": [
    {
     "name": "stdout",
     "output_type": "stream",
     "text": [
      "Error in calling operator remapcon with:\n",
      ">>> cdo -O -s -remapcon,/data/cburgard/PREPARE_FORCING/PREPARE_CAVITY_MASKS/interim/NEMO_grid_withbnds.nc /data/cburgard/PREPARE_FORCING/PREPARE_CAVITY_MASKS/interim/isf_conc_only_2km_IMBIEgrid.nc /data/cburgard/PREPARE_FORCING/PREPARE_CAVITY_MASKS/interim/isf_conc_only_targetgrid.nc<<<\n",
      "STDOUT:\n",
      "STDERR:ERROR(search_bnd_circle_I_node): projected vector is nearly identical to gc_norm_vector \n",
      "Aborting in file sphere_part.c, line 783 ...\n",
      "\n"
     ]
    },
    {
     "ename": "CDOException",
     "evalue": "(returncode:1) ERROR(search_bnd_circle_I_node): projected vector is nearly identical to gc_norm_vector \nAborting in file sphere_part.c, line 783 ...\n",
     "output_type": "error",
     "traceback": [
      "\u001b[0;31m---------------------------------------------------------------------------\u001b[0m",
      "\u001b[0;31mCDOException\u001b[0m                              Traceback (most recent call last)",
      "Cell \u001b[0;32mIn[7], line 1\u001b[0m\n\u001b[0;32m----> 1\u001b[0m \u001b[43mcdo\u001b[49m\u001b[38;5;241;43m.\u001b[39;49m\u001b[43mremapcon\u001b[49m\u001b[43m(\u001b[49m\u001b[43mgrid_file_path4\u001b[49m\u001b[43m,\u001b[49m\u001b[43m \u001b[49m\u001b[38;5;28;43minput\u001b[39;49m\u001b[43m \u001b[49m\u001b[38;5;241;43m=\u001b[39;49m\u001b[43m \u001b[49m\u001b[43minputpath_interim\u001b[49m\u001b[43m \u001b[49m\u001b[38;5;241;43m+\u001b[39;49m\u001b[43m \u001b[49m\u001b[38;5;124;43m'\u001b[39;49m\u001b[38;5;124;43misf_conc_only_2km_IMBIEgrid.nc\u001b[39;49m\u001b[38;5;124;43m'\u001b[39;49m\u001b[43m,\u001b[49m\u001b[43m \u001b[49m\u001b[43moutput\u001b[49m\u001b[43m \u001b[49m\u001b[38;5;241;43m=\u001b[39;49m\u001b[43m \u001b[49m\u001b[43minputpath_interim\u001b[49m\u001b[43m \u001b[49m\u001b[38;5;241;43m+\u001b[39;49m\u001b[43m \u001b[49m\u001b[38;5;124;43m'\u001b[39;49m\u001b[38;5;124;43misf_conc_only_targetgrid.nc\u001b[39;49m\u001b[38;5;124;43m'\u001b[39;49m\u001b[43m)\u001b[49m\n",
      "File \u001b[0;32m~/.conda/envs/py38/lib/python3.8/site-packages/cdo/cdo.py:520\u001b[0m, in \u001b[0;36mCdo.__call__\u001b[0;34m(self, *args, **kwargs)\u001b[0m\n\u001b[1;32m    518\u001b[0m             \u001b[38;5;28;01mreturn\u001b[39;00m \u001b[38;5;28;01mNone\u001b[39;00m\n\u001b[1;32m    519\u001b[0m         \u001b[38;5;28;01melse\u001b[39;00m:\n\u001b[0;32m--> 520\u001b[0m             \u001b[38;5;28;01mraise\u001b[39;00m CDOException(\u001b[38;5;241m*\u001b[39m\u001b[38;5;241m*\u001b[39mretvals)\n\u001b[1;32m    521\u001b[0m \u001b[38;5;28;01melse\u001b[39;00m:\n\u001b[1;32m    522\u001b[0m     \u001b[38;5;28;01mif\u001b[39;00m \u001b[38;5;28mself\u001b[39m\u001b[38;5;241m.\u001b[39mdebug:\n",
      "\u001b[0;31mCDOException\u001b[0m: (returncode:1) ERROR(search_bnd_circle_I_node): projected vector is nearly identical to gc_norm_vector \nAborting in file sphere_part.c, line 783 ...\n"
     ]
    }
   ],
   "source": [
    "cdo.remapcon(grid_file_path4, input = inputpath_interim + 'isf_conc_only_2km_IMBIEgrid.nc', output = inputpath_interim + 'isf_conc_only_targetgrid.nc')"
   ]
  },
  {
   "cell_type": "markdown",
   "id": "16b629cd-a836-439b-9e2c-e7407e0109dd",
   "metadata": {},
   "source": [
    "REMAP THE IMBIE MASK"
   ]
  },
  {
   "cell_type": "code",
   "execution_count": null,
   "id": "f198feef-aa8c-4b78-801e-48e6403e48b9",
   "metadata": {},
   "outputs": [],
   "source": [
    "test0 = xr.open_dataset(grid_file_path2)#.isel(deptht=0,time_counter=0)"
   ]
  },
  {
   "cell_type": "code",
   "execution_count": null,
   "id": "dbdf486a-eb8d-4c43-a87e-904441c1daf8",
   "metadata": {},
   "outputs": [],
   "source": [
    "test0['bounds_nav_lat'].isel(nvertex=0).plot()"
   ]
  },
  {
   "cell_type": "code",
   "execution_count": null,
   "id": "7f4950de-5544-433f-981c-dcad0cf8a79c",
   "metadata": {},
   "outputs": [],
   "source": []
  },
  {
   "cell_type": "code",
   "execution_count": null,
   "id": "b55faf1d-7e98-4e08-9cfd-8c71edd25217",
   "metadata": {},
   "outputs": [],
   "source": [
    "cdo.selvar('Iceshelf_extrap', input = mask_file_path, output = inputpath_interim + 'isfmask_only_2km.nc')"
   ]
  },
  {
   "cell_type": "code",
   "execution_count": null,
   "id": "ba1b77a3-a193-4a51-82f9-1da4b2c43c30",
   "metadata": {},
   "outputs": [],
   "source": [
    "# took a grid from Casimir\n",
    "cdo.remapnn(grid_file_path, input = inputpath_interim + 'isfmask_only_2km.nc', output = inputpath_interim + 'isfmask_only_targetgrid.nc')"
   ]
  },
  {
   "cell_type": "markdown",
   "id": "a2e5dd9d-7178-4b02-b7f2-585a48b523c3",
   "metadata": {},
   "source": [
    "!!!!!!! ONLY IF YOUR GRID IS eORCA1 !!!!!!!"
   ]
  },
  {
   "cell_type": "code",
   "execution_count": null,
   "id": "50f3c567-625d-4f1c-a2d2-2d8ecb2e1c9d",
   "metadata": {},
   "outputs": [],
   "source": [
    "# For eORCA1, this method leads to no ocean cells for Bach (ID=101) and Cosgrove (ID=88). I suggest merging it with its neighbour 'Britten' (ID=100), and neighbour 'No Name' (ID=89) which has no melt in most of the obs products\n",
    "isfmask = xr.open_dataset(inputpath_interim + 'isfmask_only_targetgrid.nc')\n",
    "isfmask = isfmask.where(isfmask != 100, 101)\n",
    "isfmask = isfmask.where(isfmask != 89, 88)"
   ]
  },
  {
   "cell_type": "markdown",
   "id": "9bb61c50-2b37-40d9-9d44-4f10629a6e37",
   "metadata": {},
   "source": [
    "CREATE MASK_VARIABLE"
   ]
  },
  {
   "cell_type": "code",
   "execution_count": null,
   "id": "cf841abb-48e4-49e3-8ead-87fc44e12c81",
   "metadata": {},
   "outputs": [],
   "source": [
    "domain_cfg = xr.open_dataset(dom_cfg_path)\n",
    "isfconc = xr.open_dataset(inputpath_interim + 'isf_conc_only_targetgrid.nc')['isf_conc']\n",
    "isfconc_remapbil = xr.open_dataset(inputpath_interim + 'isf_conc_only_targetgrid_remapbil.nc')['isf_conc']"
   ]
  },
  {
   "cell_type": "code",
   "execution_count": null,
   "id": "77434d2e-69ab-4dad-9495-18fb41eaa3b1",
   "metadata": {},
   "outputs": [],
   "source": [
    "(isfconc - isfconc_remapbil).plot()"
   ]
  },
  {
   "cell_type": "code",
   "execution_count": null,
   "id": "864e8dfe-ad18-4127-8c47-211df3c5fd45",
   "metadata": {},
   "outputs": [],
   "source": [
    "isfconc_orig = xr.open_dataset(inputpath_interim + 'isf_conc_only_2km_withgrid.nc')"
   ]
  },
  {
   "cell_type": "code",
   "execution_count": null,
   "id": "a636ea52-a7d9-43b3-81b0-d019d7fec1eb",
   "metadata": {},
   "outputs": [],
   "source": [
    "isfconc_orig['isf_conc'].plot()"
   ]
  },
  {
   "cell_type": "code",
   "execution_count": null,
   "id": "77b7c430-13e2-43a0-ae91-19b02d3f45dd",
   "metadata": {},
   "outputs": [],
   "source": [
    "plt.figure()\n",
    "isfconc_remapbil.plot()"
   ]
  },
  {
   "cell_type": "code",
   "execution_count": null,
   "id": "b3086b1a-2aa5-4e6f-b4fc-95df991ca435",
   "metadata": {},
   "outputs": [],
   "source": [
    "isfconc.plot()"
   ]
  },
  {
   "cell_type": "code",
   "execution_count": null,
   "id": "40ca2204-deba-49c5-b15a-c4e76cdb09e5",
   "metadata": {},
   "outputs": [],
   "source": [
    "isfconc_orig['lat_bnds'].isel(nvertex=0).plot()"
   ]
  },
  {
   "cell_type": "code",
   "execution_count": null,
   "id": "75963697-9c50-47de-86e1-cc1db47b3268",
   "metadata": {},
   "outputs": [],
   "source": [
    "3041*3041"
   ]
  },
  {
   "cell_type": "code",
   "execution_count": null,
   "id": "47a1b5ca-f7a1-4e6d-9a23-a002fc8bc5dd",
   "metadata": {},
   "outputs": [],
   "source": [
    "isfconc_orig"
   ]
  },
  {
   "cell_type": "code",
   "execution_count": null,
   "id": "bb614305-ddfe-4176-a636-875842d91c8c",
   "metadata": {},
   "outputs": [],
   "source": [
    "isfconc_orig"
   ]
  },
  {
   "cell_type": "code",
   "execution_count": null,
   "id": "3736a729-9df8-47d4-b7dd-62934de7e018",
   "metadata": {},
   "outputs": [],
   "source": [
    "grid_file = xr.open_dataset(inputpath_interim + 'NEMO_gridT_eORCA1_cdo.nc')"
   ]
  },
  {
   "cell_type": "code",
   "execution_count": null,
   "id": "52732a04-91a1-4a09-93bb-0683cc19fbde",
   "metadata": {},
   "outputs": [],
   "source": []
  },
  {
   "cell_type": "code",
   "execution_count": null,
   "id": "da6f7f29-57d2-46b6-9e7f-06f8dba0942b",
   "metadata": {},
   "outputs": [],
   "source": [
    "grid_file"
   ]
  },
  {
   "cell_type": "code",
   "execution_count": null,
   "id": "5a6fc19f-95bf-4bca-b328-cadab12d9e1b",
   "metadata": {},
   "outputs": [],
   "source": [
    "grid_file['bounds_nav_lat'].isel(nvertex=1).plot()"
   ]
  },
  {
   "cell_type": "code",
   "execution_count": null,
   "id": "705ded93-dd94-4cde-8f4c-64d6ce81ac13",
   "metadata": {},
   "outputs": [],
   "source": [
    "isfconc_orig['isf_conc'].plot()"
   ]
  },
  {
   "cell_type": "code",
   "execution_count": null,
   "id": "5588bb39-592e-4955-9893-62f31c7ab9ed",
   "metadata": {},
   "outputs": [],
   "source": [
    "ds_isfNEMO = xr.Dataset()\n",
    "\n",
    "ds_isfNEMO['mask_isf'] = isfmask['Iceshelf_extrap'].where(domain_cfg['isf_draft'] > 0)\n",
    "ds_isfNEMO['mask_isf'].attrs['standard_name'] = 'mask of all the ice shelves'\n",
    "ds_isfNEMO['mask_isf'].attrs['units'] = 'ID as given in Mask_Iceshelf_IMBIE2_v2.nc'\n",
    "\n",
    "#ds_isfNEMO['mask_isf_onlyisfconc1'] = ds_isfNEMO['mask_isf'].where(isfconc['isf_conc'] > 0.9999)\n"
   ]
  },
  {
   "cell_type": "code",
   "execution_count": null,
   "id": "3b8bd366-22b3-4b39-a532-748070b2bb3e",
   "metadata": {},
   "outputs": [],
   "source": [
    "ds_isfNEMO['floating_frac'] = isfconc['isf_conc'] # .where(isfconc['isf_conc'] < 0.9999,1)"
   ]
  },
  {
   "cell_type": "markdown",
   "id": "2f8179a6-a2ab-443d-88dd-6fc809014acc",
   "metadata": {},
   "source": [
    "CREATE MASK_ISF_OPEN AND MASK_ISF_CLOSED"
   ]
  },
  {
   "cell_type": "code",
   "execution_count": null,
   "id": "664752cf-a51a-4ad3-978a-e9f1d26a36d1",
   "metadata": {},
   "outputs": [],
   "source": [
    "file_Justine = xr.open_dataset(mask_file_path).drop('quantile')"
   ]
  },
  {
   "cell_type": "code",
   "execution_count": null,
   "id": "ae42928b-0c1f-47f8-b8bd-a92539ba2790",
   "metadata": {},
   "outputs": [],
   "source": [
    "## gives the list of names when needed to better understand stuff\n",
    "#for iid in file_Justine.ID:\n",
    "#    print(iid.values,file_Justine['NAME'].sel(ID=iid).values)"
   ]
  },
  {
   "cell_type": "code",
   "execution_count": null,
   "id": "0de75c39-c7a2-460b-a0c2-8a92c374e373",
   "metadata": {},
   "outputs": [],
   "source": [
    "# Choose (by eye or given a criterion, which ice shelves will have open cavities)\n",
    "ID_open_list = [1,2,21,66,67,117,124,125,127,128]"
   ]
  },
  {
   "cell_type": "code",
   "execution_count": null,
   "id": "c1f49946-da81-41f4-a0bb-2e9b17ed9512",
   "metadata": {},
   "outputs": [],
   "source": [
    "# Divide the ref file into \"open\" and \"closed\" cavities\n",
    "file_Justine_open = file_Justine.sel(ID=ID_open_list)\n",
    "file_Justine_closed = file_Justine.drop_sel(ID=ID_open_list)"
   ]
  },
  {
   "cell_type": "code",
   "execution_count": null,
   "id": "964401ee-0d2d-44b1-a675-dbceab52d29b",
   "metadata": {},
   "outputs": [],
   "source": [
    "domain_cfg_closed['isf_draft'].plot()"
   ]
  },
  {
   "cell_type": "code",
   "execution_count": null,
   "id": "84cd0670-5e54-4701-95f6-e640a34a45c3",
   "metadata": {},
   "outputs": [],
   "source": [
    "# Prepare domain_cfg closing (setting to 0) all information about the closed cavities\n",
    "domain_cfg_closed =  domain_cfg.copy()\n",
    "for id_closed in tqdm(file_Justine_closed.ID):\n",
    "    for vv in ['bottom_level','top_level','isf_draft','bathy_metry']:\n",
    "        domain_cfg_closed[vv] = domain_cfg_closed[vv].where(ds_isfNEMO['mask_isf'].drop_vars(['glamt', 'gphit']) != id_closed.values, 0)"
   ]
  },
  {
   "cell_type": "code",
   "execution_count": null,
   "id": "7da6a027-dcf5-4073-8f58-d4b6ed9fdaa3",
   "metadata": {},
   "outputs": [],
   "source": [
    "# Prepare mask of only open cavities \n",
    "mask_isf_open = ds_isfNEMO['mask_isf'].copy()\n",
    "for id_closed in tqdm(file_Justine_closed.ID):\n",
    "    mask_isf_open = mask_isf_open.where(ds_isfNEMO['mask_isf'].drop_vars(['glamt', 'gphit']) != id_closed.values)"
   ]
  },
  {
   "cell_type": "code",
   "execution_count": null,
   "id": "2db5b78a-458a-407c-9638-2ed57e7390ed",
   "metadata": {},
   "outputs": [],
   "source": [
    "# Prepare mask of only closed cavities \n",
    "mask_isf_closed = ds_isfNEMO['mask_isf'].where(np.isnan(mask_isf_open))"
   ]
  },
  {
   "cell_type": "code",
   "execution_count": null,
   "id": "df7a6118-1093-421e-8734-799df421be09",
   "metadata": {},
   "outputs": [],
   "source": [
    "# create mask_isf_open and mask_isf_closed\n",
    "ds_isfNEMO['mask_isf_open'] = mask_isf_open\n",
    "ds_isfNEMO['mask_isf_open'].attrs['standard_name'] = 'mask of the ice shelves that are open'\n",
    "ds_isfNEMO['mask_isf_open'].attrs['units'] = 'ID as given in Mask_Iceshelf_IMBIE2_v2.nc'\n",
    "\n",
    "ds_isfNEMO['mask_isf_closed'] = mask_isf_closed\n",
    "ds_isfNEMO['mask_isf_closed'].attrs['standard_name'] = 'mask of the ice shelves that are closed'\n",
    "ds_isfNEMO['mask_isf_closed'].attrs['units'] = 'ID as given in Mask_Iceshelf_IMBIE2_v2.nc'"
   ]
  },
  {
   "cell_type": "markdown",
   "id": "f2f0b41f-34fd-4378-b4a7-6eaf97a289e0",
   "metadata": {},
   "source": [
    "IDENTIFY FRONT"
   ]
  },
  {
   "cell_type": "code",
   "execution_count": null,
   "id": "97a00f3b-bfe0-4e74-8c8f-40cad85677ed",
   "metadata": {},
   "outputs": [],
   "source": [
    "# Create a mask discriminating between land, ocean and ice shelf\n",
    "mask_0_1_2 = ds_isfNEMO['mask_isf'] * 2\n",
    "mask_0_1_2 = mask_0_1_2.where(domain_cfg['bathy_metry'] != 0, 400) # land\n",
    "mask_0_1_2 = mask_0_1_2.where(domain_cfg['bathy_metry'] == 0, 0) # ocean\n",
    "mask_0_1_2 = mask_0_1_2.where(domain_cfg['isf_draft'] == 0, 200) # ice shelf"
   ]
  },
  {
   "cell_type": "code",
   "execution_count": null,
   "id": "868069e6-1108-4de4-9a4c-1becdf878349",
   "metadata": {},
   "outputs": [],
   "source": [
    "# Create a mask of the extrapolated domains and only keep the domains corresponding to the closed cavities\n",
    "extrap_domains_closed = isfmask['Iceshelf_extrap'].copy()\n",
    "\n",
    "for kisf in ID_open_list:\n",
    "    mask_0_1_2_closed = mask_0_1_2.where(ds_isfNEMO['mask_isf'] != kisf, 400)\n",
    "    extrap_domains_closed = extrap_domains_closed.where(extrap_domains_closed != kisf, np.nan)"
   ]
  },
  {
   "cell_type": "code",
   "execution_count": null,
   "id": "e3e1d9d1-3d77-4e43-ae61-b0dc505008d0",
   "metadata": {},
   "outputs": [],
   "source": [
    "# set all ice shelves to 300\n",
    "mask_front0 = mask_0_1_2.where((mask_0_1_2 == 0) | (mask_0_1_2 == 400), 300).copy()"
   ]
  },
  {
   "cell_type": "code",
   "execution_count": null,
   "id": "5b660390-9cfa-40bd-93bb-a76edeb3ac84",
   "metadata": {},
   "outputs": [],
   "source": [
    "mask_front = mask_front0.copy()\n",
    "# check all directions and set points at border between ocean and ice shelf (300-0) to 500\n",
    "mask_front = mask_front.where((mask_front0.shift(x=-1)-mask_front0)!=300,500)\n",
    "mask_front = mask_front.where((mask_front0.shift(x=1)-mask_front0)!=300,500)\n",
    "mask_front = mask_front.where((mask_front0.shift(y=-1)-mask_front0)!=300,500)\n",
    "mask_front = mask_front.where((mask_front0.shift(y=1)-mask_front0)!=300,500)\n",
    "# cut out all front points\n",
    "mask_front = mask_front.where(mask_front==500)\n",
    "# set the ice shelf number\n",
    "mask_front = mask_front.where(mask_front!=500,extrap_domains_closed)"
   ]
  },
  {
   "cell_type": "markdown",
   "id": "75d26b16-3714-4d4f-b4d9-789019632bed",
   "metadata": {},
   "source": [
    "For the ice shelves not resolved at all in eORCA1"
   ]
  },
  {
   "cell_type": "code",
   "execution_count": null,
   "id": "5839c7ce-874e-4f35-8248-e6092a431fe0",
   "metadata": {},
   "outputs": [],
   "source": [
    "# define the domains that have not an associated front yet\n",
    "extrap_domains_double_closed = extrap_domains_closed.copy()\n",
    "\n",
    "for kisf in file_Justine_closed.ID:\n",
    "    if (mask_front == kisf).astype(int).sum() > 0:\n",
    "        #print(kisf.values)\n",
    "        extrap_domains_double_closed = extrap_domains_double_closed.where(extrap_domains_double_closed != kisf, np.nan).drop('ID')"
   ]
  },
  {
   "cell_type": "code",
   "execution_count": null,
   "id": "9fa8ddd3-156b-4162-ba2a-c543e6ad9b97",
   "metadata": {},
   "outputs": [],
   "source": [
    "# To double check where the front points are\n",
    "#iid = 89\n",
    "#plt.figure()\n",
    "#((mask_0_2) + (isfmask['Iceshelf_extrap'] == iid)).plot()\n",
    "#plt.title(str(iid))"
   ]
  },
  {
   "cell_type": "code",
   "execution_count": null,
   "id": "0b12a5ff-b941-49fb-a47e-f1c36c03bf03",
   "metadata": {},
   "outputs": [],
   "source": [
    "# set all ice shelves to land to have a delimitation of the whole contour of Antarctica\n",
    "mask_0_2 = mask_0_1_2.where(mask_0_1_2 != 200, 2)\n",
    "mask_0_2 = mask_0_2.where(mask_0_2 != 400, 2)\n",
    "\n",
    "mask_front_new = mask_0_2.copy()\n",
    "\n",
    "# check all directions and set points at border between ocean and land(300-0) to 500\n",
    "mask_front_new = mask_front_new.where((mask_0_2.shift(x=-1)-mask_0_2) <= 0,5)\n",
    "mask_front_new = mask_front_new.where((mask_0_2.shift(x=1)-mask_0_2) <= 0,5)\n",
    "mask_front_new = mask_front_new.where((mask_0_2.shift(y=-1)-mask_0_2) <= 0,5)\n",
    "mask_front_new = mask_front_new.where((mask_0_2.shift(y=1)-mask_0_2) <= 0,5)\n",
    "# cut out all front points south of the y = 90 latitude and in the ocean domain\n",
    "mask_front_new = mask_front_new.where((mask_front_new == 5) & (mask_front_new.y < 90) & (mask_0_2 == 0))\n",
    "# set the ice shelf number of the extrapolated domain\n",
    "mask_front_new = mask_front_new.where(mask_front_new != 5,extrap_domains_double_closed)"
   ]
  },
  {
   "cell_type": "code",
   "execution_count": null,
   "id": "f2b5880c-420a-4867-a470-56b4d2b30165",
   "metadata": {},
   "outputs": [],
   "source": [
    "# check that it is the right delimitation (i.e. on the ocean points)\n",
    "((mask_front_new > 0) + mask_0_2).plot()"
   ]
  },
  {
   "cell_type": "code",
   "execution_count": null,
   "id": "bb006c3a-cfaf-47a0-b56f-cc3bb32528cb",
   "metadata": {},
   "outputs": [],
   "source": [
    "# combining the masks of the fronts (mask_front and mask_front_new)\n",
    "mask_front_all = mask_front.copy()\n",
    "for iid in file_Justine_closed.ID:\n",
    "    if (ds_isfNEMO['mask_isf_closed'] == iid).astype(int).sum().values == 0: # if the ice shelf is not resolved in your grid, add the mask front inferred for them\n",
    "        #print(iid.values, file_Justine_closed['NAME'].sel(ID=iid).values, (mask_front_new == iid).astype(int).sum().values)\n",
    "        mask_front_all = mask_front_all.combine_first(mask_front_new.where(mask_front_new == iid))"
   ]
  },
  {
   "cell_type": "markdown",
   "id": "11319f83-bfba-43aa-a070-c46015fda5e8",
   "metadata": {},
   "source": [
    "MAKE MAPS OF ZMIN AND ZMAX ON THE FRONT"
   ]
  },
  {
   "cell_type": "code",
   "execution_count": null,
   "id": "751d59dd-9a1e-4b7f-8f39-ab33ab70166a",
   "metadata": {},
   "outputs": [],
   "source": [
    "zmin_front = mask_front_all.copy()\n",
    "zmax_front = mask_front_all.copy()\n",
    "\n",
    "for id_closed in tqdm(file_Justine_closed.ID):\n",
    "    zmin_front = zmin_front.where(mask_front_all != id_closed, file_Justine_closed['z_min'].sel(ID=id_closed)).drop('ID')\n",
    "    zmax_front = zmax_front.where(mask_front_all != id_closed, file_Justine_closed['z_max'].sel(ID=id_closed)).drop('ID')"
   ]
  },
  {
   "cell_type": "markdown",
   "id": "a7a2796d-1bc1-4922-941c-c167f0e56a60",
   "metadata": {},
   "source": [
    "check if the extremes or the percentiles are more \"realistic\""
   ]
  },
  {
   "cell_type": "code",
   "execution_count": null,
   "id": "1bdd1132-9606-4dc0-a7a2-9e2cb5ca1fb0",
   "metadata": {},
   "outputs": [],
   "source": [
    "file_Justine_closed['z_min'].plot()\n",
    "file_Justine_closed['z_perc01'].plot()"
   ]
  },
  {
   "cell_type": "code",
   "execution_count": null,
   "id": "cc3fb229-0b2b-4cca-bde8-a2dcb0ff5512",
   "metadata": {},
   "outputs": [],
   "source": [
    "file_Justine_closed['z_max'].plot()\n",
    "file_Justine_closed['z_perc99'].plot()"
   ]
  },
  {
   "cell_type": "markdown",
   "id": "14913bb3-e052-44bb-a63c-a3bb2f2be062",
   "metadata": {},
   "source": [
    "DISTRIBUTE MELT AT THE FRONT NORMALISED BY CELL SIZE"
   ]
  },
  {
   "cell_type": "code",
   "execution_count": null,
   "id": "8e36f708-c133-4ff0-be1f-55d55cd6c434",
   "metadata": {},
   "outputs": [],
   "source": [
    "cell_area = domain_cfg['e1t'] * domain_cfg['e2t']\n",
    "melt_src = 'Adusumilli' # options: 'Adusumilli','Rignot', 'Paolo', 'Davison'\n",
    "melt_flux = file_Justine_closed['Melt'+melt_src]"
   ]
  },
  {
   "cell_type": "code",
   "execution_count": null,
   "id": "036e285b-3889-4935-abd4-2904632a50df",
   "metadata": {},
   "outputs": [],
   "source": [
    "melt_front = mask_front_all.copy()\n",
    "for id_closed in tqdm(file_Justine_closed.ID):\n",
    "    cell_area_isf = cell_area.where(mask_front_all == id_closed)\n",
    "    cell_area_isf_sum = cell_area.where(mask_front_all == id_closed).sum()\n",
    "    melt_front = melt_front.where(mask_front_all != id_closed, melt_flux.sel(ID=id_closed) * cell_area_isf / cell_area_isf_sum).drop('ID')"
   ]
  },
  {
   "cell_type": "markdown",
   "id": "cb9db4fa-9615-422f-ac13-fb832421f676",
   "metadata": {},
   "source": [
    "Double-check that the total melt is matched"
   ]
  },
  {
   "cell_type": "code",
   "execution_count": null,
   "id": "600250a6-89c5-4d93-85eb-e5a5bd75de04",
   "metadata": {},
   "outputs": [],
   "source": [
    "melt_front_tot_list = []\n",
    "for id_closed in tqdm(file_Justine_closed.ID):\n",
    "    melt_front_tot_list.append(melt_front.where(mask_front_all == id_closed).sum().assign_coords({'ID': id_closed}))\n",
    "melt_front_tot_xr = xr.concat(melt_front_tot_list, dim='ID')"
   ]
  },
  {
   "cell_type": "code",
   "execution_count": null,
   "id": "974b4288-f97d-4396-9074-dd5df54c2941",
   "metadata": {},
   "outputs": [],
   "source": [
    "melt_front.sum()"
   ]
  },
  {
   "cell_type": "code",
   "execution_count": null,
   "id": "d78ee920-72c5-48e0-8d5e-0428b26b9bf1",
   "metadata": {},
   "outputs": [],
   "source": [
    "melt_front_tot_xr.sum()"
   ]
  },
  {
   "cell_type": "code",
   "execution_count": null,
   "id": "ba83fd0f-ab20-496d-9289-fd9fc4fcbd63",
   "metadata": {},
   "outputs": [],
   "source": [
    "file_Justine_closed['MeltAdusumilli'].sum()"
   ]
  },
  {
   "cell_type": "markdown",
   "id": "26e51902-c6a7-46b4-8390-1110a9c8b4af",
   "metadata": {},
   "source": [
    "CLEAN AND REMOVE ALL FRONTS WHERE MELT IS ZERO"
   ]
  },
  {
   "cell_type": "code",
   "execution_count": null,
   "id": "a6580965-30d2-4b72-adf5-b128461528bb",
   "metadata": {},
   "outputs": [],
   "source": [
    "zmin_front = zmin_front.where(melt_front > 0)\n",
    "zmax_front = zmax_front.where(melt_front > 0)\n",
    "melt_front = melt_front.where(melt_front > 0)"
   ]
  },
  {
   "cell_type": "markdown",
   "id": "87d7e08d-616b-43b8-8577-36393f861474",
   "metadata": {},
   "source": [
    "WRITE TO NETCDF"
   ]
  },
  {
   "cell_type": "code",
   "execution_count": null,
   "id": "07f7917c-9289-4b85-a1fd-bc0cec33467b",
   "metadata": {},
   "outputs": [],
   "source": [
    "ds_isfNEMO['z_min'] = zmin_front\n",
    "ds_isfNEMO['z_min'].attrs['standard_name'] = 'most shallow point of the ice-shelf draft indicated at the ice-shelf front'\n",
    "ds_isfNEMO['z_min'].attrs['units'] = 'm below sea level'\n",
    "\n",
    "ds_isfNEMO['z_max'] = zmax_front\n",
    "ds_isfNEMO['z_max'].attrs['standard_name'] = 'deepest point of the ice-shelf draft indicated at the ice-shelf front'\n",
    "ds_isfNEMO['z_max'].attrs['units'] = 'm below sea level'\n",
    "\n",
    "ds_isfNEMO['melt_isf_closed'] = melt_front\n",
    "ds_isfNEMO['melt_isf_closed'].attrs['standard_name'] = 'melt flux from '+melt_src+' distributed at the ice-shelf front'\n",
    "ds_isfNEMO['melt_isf_closed'].attrs['units'] = 'Gt/yr'"
   ]
  },
  {
   "cell_type": "code",
   "execution_count": null,
   "id": "1cfd27bf-b368-4c0a-98bf-2c60fe408428",
   "metadata": {},
   "outputs": [],
   "source": [
    "ds_isfNEMO"
   ]
  },
  {
   "cell_type": "code",
   "execution_count": null,
   "id": "7daf2f65-917f-468b-b286-e124a65dc1cd",
   "metadata": {},
   "outputs": [],
   "source": [
    "ds_isfNEMO.attrs=dict(Source='Based on IMBIE2 (Mask_Iceshelf_IMBIE2_v2.nc)',\n",
    "                      Compatibility='The masked variables are compatible with '+fNEMO_mask,\n",
    "                      Creator='C. Burgard and P. Mathiot ('+date.today().strftime(\"%b-%d-%Y\")+')')"
   ]
  },
  {
   "cell_type": "code",
   "execution_count": null,
   "id": "c1a642f1-3184-4ba2-9355-4d6adb27bcaf",
   "metadata": {},
   "outputs": [],
   "source": [
    "ds_isfNEMO.to_netcdf(inputpath_interim + 'masks_for_eORCA1.nc')"
   ]
  },
  {
   "cell_type": "code",
   "execution_count": null,
   "id": "1b2eb89d-5117-492e-b6c4-7d284a15aa15",
   "metadata": {},
   "outputs": [],
   "source": []
  }
 ],
 "metadata": {
  "kernelspec": {
   "display_name": "py38",
   "language": "python",
   "name": "py38"
  },
  "language_info": {
   "codemirror_mode": {
    "name": "ipython",
    "version": 3
   },
   "file_extension": ".py",
   "mimetype": "text/x-python",
   "name": "python",
   "nbconvert_exporter": "python",
   "pygments_lexer": "ipython3",
   "version": "3.8.18"
  }
 },
 "nbformat": 4,
 "nbformat_minor": 5
}
