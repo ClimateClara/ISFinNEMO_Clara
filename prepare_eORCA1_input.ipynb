{
 "cells": [
  {
   "cell_type": "code",
   "execution_count": null,
   "id": "d33a0ba0-1949-4d4b-9aef-2de855d159ce",
   "metadata": {},
   "outputs": [],
   "source": [
    "\"\"\"\n",
    "Created on Mon Oct 21 16:13 2024\n",
    "\n",
    "Prepare what's needed for eORCA1 on the ice-shelf side\n",
    "\n",
    "@author: Clara Burgard\n",
    "\"\"\""
   ]
  },
  {
   "cell_type": "code",
   "execution_count": 80,
   "id": "812a31bc-f951-4981-bdea-34cc08532611",
   "metadata": {},
   "outputs": [],
   "source": [
    "import xarray as xr\n",
    "import numpy as np\n",
    "from cdo import Cdo\n",
    "from tqdm.notebook import tqdm\n"
   ]
  },
  {
   "cell_type": "code",
   "execution_count": 18,
   "id": "51657dc2-6a20-4a1f-a799-43df9c3576c0",
   "metadata": {},
   "outputs": [],
   "source": [
    "%matplotlib qt5"
   ]
  },
  {
   "cell_type": "code",
   "execution_count": 19,
   "id": "b5ec574f-922f-4460-ab83-6a03429e0fd6",
   "metadata": {},
   "outputs": [
    {
     "name": "stdout",
     "output_type": "stream",
     "text": [
      "this is CDO version 2.0.3\n"
     ]
    }
   ],
   "source": [
    "cdo = Cdo()\n",
    "print('this is CDO version %s'%(cdo.version()))"
   ]
  },
  {
   "cell_type": "code",
   "execution_count": 20,
   "id": "33919035-9b27-4254-b541-485be1a642d4",
   "metadata": {},
   "outputs": [],
   "source": [
    "inputpath_raw = '/data/cburgard/PREPARE_FORCING/PREPARE_CAVITY_MASKS/raw/'\n",
    "inputpath_interim = '/data/cburgard/PREPARE_FORCING/PREPARE_CAVITY_MASKS/interim/'"
   ]
  },
  {
   "cell_type": "markdown",
   "id": "60815018-5a0a-4d12-998f-5f2e72e4b3f2",
   "metadata": {},
   "source": [
    "REMAP THE ICE SHELF CONCENTRATION"
   ]
  },
  {
   "cell_type": "code",
   "execution_count": 27,
   "id": "c2e0f05a-d444-4c91-927e-a3efe86f8e89",
   "metadata": {},
   "outputs": [],
   "source": [
    "dom_cfg_path = inputpath_raw + 'eORCA1.4.3_OpenSeas_OpenAllCav_ModStraights/eORCA1.4.3_OpenSeas_OpenAllCav_ModStraights_domain_cfg.nc'\n",
    "mask_file_path = inputpath_interim + 'Mask_Iceshelf_IMBIE2_v2_with_zmin_zmax_isfconc.nc'\n",
    "grid_file_path = inputpath_interim + 'grid_eORCA1_T.nc'"
   ]
  },
  {
   "cell_type": "code",
   "execution_count": 22,
   "id": "e7836c49-fd42-43bc-b1f5-ab9c2dcdd23f",
   "metadata": {},
   "outputs": [
    {
     "data": {
      "text/plain": [
       "'/data/cburgard/PREPARE_FORCING/PREPARE_CAVITY_MASKS/interim/isf_conc_only_2km.nc'"
      ]
     },
     "execution_count": 22,
     "metadata": {},
     "output_type": "execute_result"
    }
   ],
   "source": [
    "cdo.selvar('isf_conc', input = mask_file_path, output = inputpath_interim + 'isf_conc_only_2km.nc')"
   ]
  },
  {
   "cell_type": "code",
   "execution_count": 29,
   "id": "faf2a78b-af70-44ff-a955-5816f0952455",
   "metadata": {},
   "outputs": [
    {
     "data": {
      "text/plain": [
       "'/data/cburgard/PREPARE_FORCING/PREPARE_CAVITY_MASKS/interim/isf_conc_only_targetgrid.nc'"
      ]
     },
     "execution_count": 29,
     "metadata": {},
     "output_type": "execute_result"
    }
   ],
   "source": [
    "cdo.remapbil(grid_file_path, input = inputpath_interim + 'isf_conc_only_2km.nc', output = inputpath_interim + 'isf_conc_only_targetgrid.nc')"
   ]
  },
  {
   "cell_type": "code",
   "execution_count": 49,
   "id": "8887ad8a-5d9a-4154-8a32-6cf810a08623",
   "metadata": {},
   "outputs": [],
   "source": [
    "isf_conc_2km = xr.open_dataset(inputpath_interim + 'isf_conc_only_2km.nc')['isf_conc']"
   ]
  },
  {
   "cell_type": "markdown",
   "id": "16b629cd-a836-439b-9e2c-e7407e0109dd",
   "metadata": {},
   "source": [
    "REMAP THE IMBIE MASK"
   ]
  },
  {
   "cell_type": "code",
   "execution_count": 30,
   "id": "b55faf1d-7e98-4e08-9cfd-8c71edd25217",
   "metadata": {},
   "outputs": [
    {
     "data": {
      "text/plain": [
       "'/data/cburgard/PREPARE_FORCING/PREPARE_CAVITY_MASKS/interim/isfmask_only_2km.nc'"
      ]
     },
     "execution_count": 30,
     "metadata": {},
     "output_type": "execute_result"
    }
   ],
   "source": [
    "cdo.selvar('Iceshelf_extrap', input = mask_file_path, output = inputpath_interim + 'isfmask_only_2km.nc')"
   ]
  },
  {
   "cell_type": "code",
   "execution_count": 31,
   "id": "ba1b77a3-a193-4a51-82f9-1da4b2c43c30",
   "metadata": {},
   "outputs": [
    {
     "data": {
      "text/plain": [
       "'/data/cburgard/PREPARE_FORCING/PREPARE_CAVITY_MASKS/interim/isfmask_only_targetgrid.nc'"
      ]
     },
     "execution_count": 31,
     "metadata": {},
     "output_type": "execute_result"
    }
   ],
   "source": [
    "cdo.remapnn(grid_file_path, input = inputpath_interim + 'isfmask_only_2km.nc', output = inputpath_interim + 'isfmask_only_targetgrid.nc')"
   ]
  },
  {
   "cell_type": "markdown",
   "id": "9bb61c50-2b37-40d9-9d44-4f10629a6e37",
   "metadata": {},
   "source": [
    "CREATE MASK_VARIABLE"
   ]
  },
  {
   "cell_type": "code",
   "execution_count": 40,
   "id": "cf841abb-48e4-49e3-8ead-87fc44e12c81",
   "metadata": {},
   "outputs": [],
   "source": [
    "domain_cfg = xr.open_dataset(dom_cfg_path)\n",
    "isfmask = xr.open_dataset(inputpath_interim + 'isfmask_only_targetgrid.nc')\n",
    "isfconc = xr.open_dataset(inputpath_interim + 'isf_conc_only_targetgrid.nc')"
   ]
  },
  {
   "cell_type": "code",
   "execution_count": 97,
   "id": "5588bb39-592e-4955-9893-62f31c7ab9ed",
   "metadata": {},
   "outputs": [],
   "source": [
    "ds_isfNEMO = xr.Dataset()\n",
    "\n",
    "ds_isfNEMO['mask_isf'] = isfmask['Iceshelf_extrap'].where(domain_cfg['isf_draft'] > 0)\n",
    "ds_isfNEMO['mask_isf_onlyisfconc1'] = ds_isfNEMO['mask_isf'].where(isfconc['isf_conc'] > 0.9999)\n"
   ]
  },
  {
   "cell_type": "markdown",
   "id": "2f8179a6-a2ab-443d-88dd-6fc809014acc",
   "metadata": {},
   "source": [
    "CREATE MASK_ISF_OPEN"
   ]
  },
  {
   "cell_type": "code",
   "execution_count": 89,
   "id": "664752cf-a51a-4ad3-978a-e9f1d26a36d1",
   "metadata": {},
   "outputs": [],
   "source": [
    "file_Justine = xr.open_dataset(mask_file_path).drop('quantile')"
   ]
  },
  {
   "cell_type": "code",
   "execution_count": 58,
   "id": "ae42928b-0c1f-47f8-b8bd-a92539ba2790",
   "metadata": {},
   "outputs": [
    {
     "name": "stdout",
     "output_type": "stream",
     "text": [
      "1 Jelbart\n",
      "2 Fimbul\n",
      "3 \n",
      "4 Vigrid\n",
      "5 Nivl\n",
      "6 \n",
      "7 Lazarev\n",
      "8 Borchgrevink\n",
      "9 Baudouin\n",
      "10 \n",
      "11 Prince_Harald\n",
      "12 \n",
      "13 Shirase\n",
      "14 Hannan/Telen/Skallen\n",
      "15 Rayner_Thyer\n",
      "16 Zubchatyy/Porter/Myers\n",
      "17 WilmaRobertDowner\n",
      "18 Edward_VIII\n",
      "19 \n",
      "20 Utsikkar/Mulebreen/Cirque_Fjord/Hoseason/Rund_Bay\n",
      "21 Amery\n",
      "22 Publications\n",
      "23 Sorsdal/Hovde/Flatnes/Dalk\n",
      "24 West\n",
      "25 Helen\n",
      "26 Shackleton\n",
      "27 Tracy_Tremenchus\n",
      "28 \n",
      "29 Conger_Glenzer\n",
      "30 \n",
      "31 Vincennes_Bay/Underwood\n",
      "32 Williamson/Whittle/FoxE\n",
      "33 Totten\n",
      "34 Moscow_University\n",
      "35 \n",
      "36 Voyeykov\n",
      "37 \n",
      "38 Holmes\n",
      "39 Frost\n",
      "40 May_Glacier/Morse/Sandford\n",
      "41 Dibble\n",
      "42 WattBay/Zelee/Astrolabe/Liotard/Francais/Marret/Commandant_Charcot//PourquoiPas\n",
      "43 Mertz\n",
      "44 Ainsworth/Fisher\n",
      "45 Ninnis\n",
      "46 Deakin/HornBluff\n",
      "47 Cook\n",
      "48 Andreyev/Slava\n",
      "49 Lauritzen\n",
      "50 Drury\n",
      "51 Matusevitch\n",
      "52 Suvorov/Gillet/Noll/Paternostro/McLeod\n",
      "53 Rennick\n",
      "54 Chugunov/Barber/Gannutz\n",
      "55 Lillie\n",
      "56 Arneb/Manhaul/Ironside/Quatermain_Point/Moubray/Dennistoun/SmithInlet//Kirkby\n",
      "57 Tucker\n",
      "58 Mandible_Cirque\n",
      "59 Mariner\n",
      "60 Parker/Falkner/Fitzgerald/Wylde/Suter\n",
      "61 Aviator\n",
      "62 Campbell/CapeWashington/Tinker\n",
      "63 Nansen\n",
      "64 Drygalski\n",
      "65 Nordenskjold/Marin/HarbordGlacier/Cheetham/GeikieInlet\n",
      "66 Ross_East\n",
      "67 Ross_West\n",
      "68 \n",
      "69 Hamilton\n",
      "70 \n",
      "71 Withrow\n",
      "72 \n",
      "73 Richter\n",
      "74 Swinburne\n",
      "75 Sulzberger\n",
      "76 \n",
      "77 Nickerson\n",
      "78 Land\n",
      "79 \n",
      "80 Hull\n",
      "81 Jackson/Perkins/Garfield/Rose_Point\n",
      "82 Getz\n",
      "83 Dotson/Philbin_Inlet\n",
      "84 Crosson\n",
      "85 Thwaites\n",
      "86 Pine_Island\n",
      "87 Walgreen_Coast\n",
      "88 Cosgrove\n",
      "89 \n",
      "90 Abbot\n",
      "91 \n",
      "92 Venable\n",
      "93 Fox\n",
      "94 Ferrigno\n",
      "95 Alison/Eltanin_Bay\n",
      "96 Thomson\n",
      "97 Rydberg_Peninsula\n",
      "98 Stange\n",
      "99 George_VI\n",
      "100 Britten\n",
      "101 Bach\n",
      "102 \n",
      "103 Verdi\n",
      "104 \n",
      "105 Brahms\n",
      "106 \n",
      "107 Mendelssohn\n",
      "108 \n",
      "109 Wilkins\n",
      "110 \n",
      "111 \n",
      "112 Wordie\n",
      "113 \n",
      "114 \n",
      "115 LarsenA\n",
      "116 LarsenB\n",
      "117 LarsenC\n",
      "118 LarsenD\n",
      "119 LarsenE\n",
      "120 \n",
      "121 LarsenF\n",
      "122 ClarkeBay\n",
      "123 LarsenG\n",
      "124 Ronne\n",
      "125 Filchner\n",
      "126 Dawson_Lambton/Hayes_Coats_Coast\n",
      "127 Brunt_Stancomb\n",
      "128 Riiser-Larsen\n",
      "129 \n",
      "130 Quar\n",
      "131 \n",
      "132 Ekstrom\n",
      "133 Atka\n"
     ]
    }
   ],
   "source": [
    "for iid in file_Justine.ID:\n",
    "    print(iid.values,file_Justine['NAME'].sel(ID=iid).values)"
   ]
  },
  {
   "cell_type": "code",
   "execution_count": 90,
   "id": "0de75c39-c7a2-460b-a0c2-8a92c374e373",
   "metadata": {},
   "outputs": [],
   "source": [
    "ID_open_list = [1,2,21,66,67,117,124,125,127,128]"
   ]
  },
  {
   "cell_type": "code",
   "execution_count": 91,
   "id": "c1f49946-da81-41f4-a0bb-2e9b17ed9512",
   "metadata": {},
   "outputs": [],
   "source": [
    "file_Justine_open = file_Justine.sel(ID=ID_open_list)\n",
    "file_Justine_closed = file_Justine.drop_sel(ID=ID_open_list)"
   ]
  },
  {
   "cell_type": "code",
   "execution_count": 98,
   "id": "84cd0670-5e54-4701-95f6-e640a34a45c3",
   "metadata": {},
   "outputs": [
    {
     "data": {
      "application/vnd.jupyter.widget-view+json": {
       "model_id": "5026e43c632042b1add2992f45b67fa4",
       "version_major": 2,
       "version_minor": 0
      },
      "text/plain": [
       "  0%|          | 0/123 [00:00<?, ?it/s]"
      ]
     },
     "metadata": {},
     "output_type": "display_data"
    }
   ],
   "source": [
    "domain_cfg_closed =  domain_cfg.copy()\n",
    "for id_closed in tqdm(file_Justine_closed.ID):\n",
    "    for vv in ['bottom_level','top_level','isf_draft','bathy_metry']:\n",
    "        domain_cfg_closed[vv] = domain_cfg_closed[vv].where(ds_isfNEMO['mask_isf'].drop_vars(['glamt', 'gphit']) != id_closed.values, 0)"
   ]
  },
  {
   "cell_type": "code",
   "execution_count": null,
   "id": "df7a6118-1093-421e-8734-799df421be09",
   "metadata": {},
   "outputs": [],
   "source": [
    "# create mask_isf_open\n",
    "ds_isfNEMO['mask_isf_open'] = "
   ]
  },
  {
   "cell_type": "code",
   "execution_count": null,
   "id": "e93d0920-fe14-49f9-975a-3a58214e9ec2",
   "metadata": {},
   "outputs": [],
   "source": [
    "# make maps of zmin and zmax on the front (for ice shelves we want to close)\n",
    "# identify front\n",
    "# create mask_isf_closed"
   ]
  },
  {
   "cell_type": "code",
   "execution_count": null,
   "id": "b80cbd11-28f7-4e56-b5b7-b38fe3ac92bc",
   "metadata": {},
   "outputs": [],
   "source": [
    "# distribute melt at the front (normalised by cell size)"
   ]
  },
  {
   "cell_type": "code",
   "execution_count": null,
   "id": "b3c07234-6b9d-4f83-894e-99e825a7f793",
   "metadata": {},
   "outputs": [],
   "source": [
    "# create mask_isf_for_application"
   ]
  },
  {
   "cell_type": "code",
   "execution_count": null,
   "id": "e2522a53-34ff-43c7-a1f9-51d2029c5c6f",
   "metadata": {},
   "outputs": [],
   "source": [
    "# open ice shelf mask\n",
    "ds_isf=xr.open_dataset('Mask_Iceshelf_IMBIE2_v2.nc')"
   ]
  }
 ],
 "metadata": {
  "kernelspec": {
   "display_name": "py38",
   "language": "python",
   "name": "py38"
  },
  "language_info": {
   "codemirror_mode": {
    "name": "ipython",
    "version": 3
   },
   "file_extension": ".py",
   "mimetype": "text/x-python",
   "name": "python",
   "nbconvert_exporter": "python",
   "pygments_lexer": "ipython3",
   "version": "3.8.18"
  }
 },
 "nbformat": 4,
 "nbformat_minor": 5
}
