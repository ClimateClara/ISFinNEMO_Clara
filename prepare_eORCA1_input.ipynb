{
 "cells": [
  {
   "cell_type": "code",
   "execution_count": null,
   "id": "d33a0ba0-1949-4d4b-9aef-2de855d159ce",
   "metadata": {},
   "outputs": [],
   "source": [
    "\"\"\"\n",
    "Created on Mon Oct 21 16:13 2024\n",
    "\n",
    "Prepare what's needed for eORCA1 on the ice-shelf side\n",
    "\n",
    "@author: Clara Burgard\n",
    "\"\"\""
   ]
  },
  {
   "cell_type": "code",
   "execution_count": 139,
   "id": "812a31bc-f951-4981-bdea-34cc08532611",
   "metadata": {},
   "outputs": [],
   "source": [
    "import xarray as xr\n",
    "import numpy as np\n",
    "from cdo import Cdo\n",
    "from tqdm.notebook import tqdm\n",
    "import matplotlib.pyplot as plt\n",
    "from datetime import date"
   ]
  },
  {
   "cell_type": "code",
   "execution_count": 2,
   "id": "51657dc2-6a20-4a1f-a799-43df9c3576c0",
   "metadata": {},
   "outputs": [
    {
     "name": "stderr",
     "output_type": "stream",
     "text": [
      "QStandardPaths: error creating runtime directory '/run/user/2784' (Permission denied)\n"
     ]
    }
   ],
   "source": [
    "%matplotlib qt5"
   ]
  },
  {
   "cell_type": "code",
   "execution_count": 3,
   "id": "b5ec574f-922f-4460-ab83-6a03429e0fd6",
   "metadata": {},
   "outputs": [
    {
     "name": "stdout",
     "output_type": "stream",
     "text": [
      "this is CDO version 2.0.3\n"
     ]
    }
   ],
   "source": [
    "cdo = Cdo()\n",
    "print('this is CDO version %s'%(cdo.version()))"
   ]
  },
  {
   "cell_type": "code",
   "execution_count": 4,
   "id": "33919035-9b27-4254-b541-485be1a642d4",
   "metadata": {},
   "outputs": [],
   "source": [
    "inputpath_raw = '/data/cburgard/PREPARE_FORCING/PREPARE_CAVITY_MASKS/raw/'\n",
    "inputpath_interim = '/data/cburgard/PREPARE_FORCING/PREPARE_CAVITY_MASKS/interim/'"
   ]
  },
  {
   "cell_type": "markdown",
   "id": "60815018-5a0a-4d12-998f-5f2e72e4b3f2",
   "metadata": {},
   "source": [
    "REMAP THE ICE SHELF CONCENTRATION"
   ]
  },
  {
   "cell_type": "code",
   "execution_count": 136,
   "id": "c2e0f05a-d444-4c91-927e-a3efe86f8e89",
   "metadata": {},
   "outputs": [],
   "source": [
    "fNEMO_mask = 'eORCA1.4.3_OpenSeas_OpenAllCav_ModStraights_domain_cfg.nc'\n",
    "dom_cfg_path = inputpath_raw + 'eORCA1.4.3_OpenSeas_OpenAllCav_ModStraights/eORCA1.4.3_OpenSeas_OpenAllCav_ModStraights_domain_cfg.nc'\n",
    "mask_file_path = inputpath_interim + 'Mask_Iceshelf_IMBIE2_v2_with_zmin_zmax_isfconc.nc'\n",
    "grid_file_path = inputpath_interim + 'grid_eORCA1_T.nc'"
   ]
  },
  {
   "cell_type": "code",
   "execution_count": null,
   "id": "e7836c49-fd42-43bc-b1f5-ab9c2dcdd23f",
   "metadata": {},
   "outputs": [],
   "source": [
    "cdo.selvar('isf_conc', input = mask_file_path, output = inputpath_interim + 'isf_conc_only_2km.nc')"
   ]
  },
  {
   "cell_type": "code",
   "execution_count": null,
   "id": "faf2a78b-af70-44ff-a955-5816f0952455",
   "metadata": {},
   "outputs": [],
   "source": [
    "cdo.remapbil(grid_file_path, input = inputpath_interim + 'isf_conc_only_2km.nc', output = inputpath_interim + 'isf_conc_only_targetgrid.nc')"
   ]
  },
  {
   "cell_type": "markdown",
   "id": "16b629cd-a836-439b-9e2c-e7407e0109dd",
   "metadata": {},
   "source": [
    "REMAP THE IMBIE MASK"
   ]
  },
  {
   "cell_type": "code",
   "execution_count": null,
   "id": "b55faf1d-7e98-4e08-9cfd-8c71edd25217",
   "metadata": {},
   "outputs": [],
   "source": [
    "cdo.selvar('Iceshelf_extrap', input = mask_file_path, output = inputpath_interim + 'isfmask_only_2km.nc')"
   ]
  },
  {
   "cell_type": "code",
   "execution_count": null,
   "id": "ba1b77a3-a193-4a51-82f9-1da4b2c43c30",
   "metadata": {},
   "outputs": [],
   "source": [
    "cdo.remapnn(grid_file_path, input = inputpath_interim + 'isfmask_only_2km.nc', output = inputpath_interim + 'isfmask_only_targetgrid.nc')"
   ]
  },
  {
   "cell_type": "markdown",
   "id": "9bb61c50-2b37-40d9-9d44-4f10629a6e37",
   "metadata": {},
   "source": [
    "CREATE MASK_VARIABLE"
   ]
  },
  {
   "cell_type": "code",
   "execution_count": 7,
   "id": "cf841abb-48e4-49e3-8ead-87fc44e12c81",
   "metadata": {},
   "outputs": [],
   "source": [
    "domain_cfg = xr.open_dataset(dom_cfg_path)\n",
    "isfmask = xr.open_dataset(inputpath_interim + 'isfmask_only_targetgrid.nc')\n",
    "isfconc = xr.open_dataset(inputpath_interim + 'isf_conc_only_targetgrid.nc')"
   ]
  },
  {
   "cell_type": "code",
   "execution_count": 148,
   "id": "5588bb39-592e-4955-9893-62f31c7ab9ed",
   "metadata": {},
   "outputs": [],
   "source": [
    "ds_isfNEMO = xr.Dataset()\n",
    "\n",
    "ds_isfNEMO['mask_isf'] = isfmask['Iceshelf_extrap'].where(domain_cfg['isf_draft'] > 0)\n",
    "ds_isfNEMO['mask_isf'].attrs['standard_name'] = 'mask of all the ice shelves'\n",
    "ds_isfNEMO['mask_isf'].attrs['units'] = 'ID as given in Mask_Iceshelf_IMBIE2_v2.nc'\n",
    "\n",
    "#ds_isfNEMO['mask_isf_onlyisfconc1'] = ds_isfNEMO['mask_isf'].where(isfconc['isf_conc'] > 0.9999)\n"
   ]
  },
  {
   "cell_type": "code",
   "execution_count": 9,
   "id": "3b8bd366-22b3-4b39-a532-748070b2bb3e",
   "metadata": {},
   "outputs": [],
   "source": [
    "ds_isfNEMO['floating_frac'] = isfconc['isf_conc'].where(isfconc['isf_conc'] < 0.9999,1)"
   ]
  },
  {
   "cell_type": "markdown",
   "id": "2f8179a6-a2ab-443d-88dd-6fc809014acc",
   "metadata": {},
   "source": [
    "CREATE MASK_ISF_OPEN AND MASK_ISF_CLOSED"
   ]
  },
  {
   "cell_type": "code",
   "execution_count": 10,
   "id": "664752cf-a51a-4ad3-978a-e9f1d26a36d1",
   "metadata": {},
   "outputs": [],
   "source": [
    "file_Justine = xr.open_dataset(mask_file_path).drop('quantile')"
   ]
  },
  {
   "cell_type": "code",
   "execution_count": 11,
   "id": "ae42928b-0c1f-47f8-b8bd-a92539ba2790",
   "metadata": {},
   "outputs": [
    {
     "name": "stdout",
     "output_type": "stream",
     "text": [
      "1 Jelbart\n",
      "2 Fimbul\n",
      "3 \n",
      "4 Vigrid\n",
      "5 Nivl\n",
      "6 \n",
      "7 Lazarev\n",
      "8 Borchgrevink\n",
      "9 Baudouin\n",
      "10 \n",
      "11 Prince_Harald\n",
      "12 \n",
      "13 Shirase\n",
      "14 Hannan/Telen/Skallen\n",
      "15 Rayner_Thyer\n",
      "16 Zubchatyy/Porter/Myers\n",
      "17 WilmaRobertDowner\n",
      "18 Edward_VIII\n",
      "19 \n",
      "20 Utsikkar/Mulebreen/Cirque_Fjord/Hoseason/Rund_Bay\n",
      "21 Amery\n",
      "22 Publications\n",
      "23 Sorsdal/Hovde/Flatnes/Dalk\n",
      "24 West\n",
      "25 Helen\n",
      "26 Shackleton\n",
      "27 Tracy_Tremenchus\n",
      "28 \n",
      "29 Conger_Glenzer\n",
      "30 \n",
      "31 Vincennes_Bay/Underwood\n",
      "32 Williamson/Whittle/FoxE\n",
      "33 Totten\n",
      "34 Moscow_University\n",
      "35 \n",
      "36 Voyeykov\n",
      "37 \n",
      "38 Holmes\n",
      "39 Frost\n",
      "40 May_Glacier/Morse/Sandford\n",
      "41 Dibble\n",
      "42 WattBay/Zelee/Astrolabe/Liotard/Francais/Marret/Commandant_Charcot//PourquoiPas\n",
      "43 Mertz\n",
      "44 Ainsworth/Fisher\n",
      "45 Ninnis\n",
      "46 Deakin/HornBluff\n",
      "47 Cook\n",
      "48 Andreyev/Slava\n",
      "49 Lauritzen\n",
      "50 Drury\n",
      "51 Matusevitch\n",
      "52 Suvorov/Gillet/Noll/Paternostro/McLeod\n",
      "53 Rennick\n",
      "54 Chugunov/Barber/Gannutz\n",
      "55 Lillie\n",
      "56 Arneb/Manhaul/Ironside/Quatermain_Point/Moubray/Dennistoun/SmithInlet//Kirkby\n",
      "57 Tucker\n",
      "58 Mandible_Cirque\n",
      "59 Mariner\n",
      "60 Parker/Falkner/Fitzgerald/Wylde/Suter\n",
      "61 Aviator\n",
      "62 Campbell/CapeWashington/Tinker\n",
      "63 Nansen\n",
      "64 Drygalski\n",
      "65 Nordenskjold/Marin/HarbordGlacier/Cheetham/GeikieInlet\n",
      "66 Ross_East\n",
      "67 Ross_West\n",
      "68 \n",
      "69 Hamilton\n",
      "70 \n",
      "71 Withrow\n",
      "72 \n",
      "73 Richter\n",
      "74 Swinburne\n",
      "75 Sulzberger\n",
      "76 \n",
      "77 Nickerson\n",
      "78 Land\n",
      "79 \n",
      "80 Hull\n",
      "81 Jackson/Perkins/Garfield/Rose_Point\n",
      "82 Getz\n",
      "83 Dotson/Philbin_Inlet\n",
      "84 Crosson\n",
      "85 Thwaites\n",
      "86 Pine_Island\n",
      "87 Walgreen_Coast\n",
      "88 Cosgrove\n",
      "89 \n",
      "90 Abbot\n",
      "91 \n",
      "92 Venable\n",
      "93 Fox\n",
      "94 Ferrigno\n",
      "95 Alison/Eltanin_Bay\n",
      "96 Thomson\n",
      "97 Rydberg_Peninsula\n",
      "98 Stange\n",
      "99 George_VI\n",
      "100 Britten\n",
      "101 Bach\n",
      "102 \n",
      "103 Verdi\n",
      "104 \n",
      "105 Brahms\n",
      "106 \n",
      "107 Mendelssohn\n",
      "108 \n",
      "109 Wilkins\n",
      "110 \n",
      "111 \n",
      "112 Wordie\n",
      "113 \n",
      "114 \n",
      "115 LarsenA\n",
      "116 LarsenB\n",
      "117 LarsenC\n",
      "118 LarsenD\n",
      "119 LarsenE\n",
      "120 \n",
      "121 LarsenF\n",
      "122 ClarkeBay\n",
      "123 LarsenG\n",
      "124 Ronne\n",
      "125 Filchner\n",
      "126 Dawson_Lambton/Hayes_Coats_Coast\n",
      "127 Brunt_Stancomb\n",
      "128 Riiser-Larsen\n",
      "129 \n",
      "130 Quar\n",
      "131 \n",
      "132 Ekstrom\n",
      "133 Atka\n"
     ]
    }
   ],
   "source": [
    "for iid in file_Justine.ID:\n",
    "    print(iid.values,file_Justine['NAME'].sel(ID=iid).values)"
   ]
  },
  {
   "cell_type": "code",
   "execution_count": 12,
   "id": "0de75c39-c7a2-460b-a0c2-8a92c374e373",
   "metadata": {},
   "outputs": [],
   "source": [
    "ID_open_list = [1,2,21,66,67,117,124,125,127,128]"
   ]
  },
  {
   "cell_type": "code",
   "execution_count": 13,
   "id": "c1f49946-da81-41f4-a0bb-2e9b17ed9512",
   "metadata": {},
   "outputs": [],
   "source": [
    "file_Justine_open = file_Justine.sel(ID=ID_open_list)\n",
    "file_Justine_closed = file_Justine.drop_sel(ID=ID_open_list)"
   ]
  },
  {
   "cell_type": "code",
   "execution_count": 14,
   "id": "84cd0670-5e54-4701-95f6-e640a34a45c3",
   "metadata": {},
   "outputs": [
    {
     "data": {
      "application/vnd.jupyter.widget-view+json": {
       "model_id": "e462d7947fb342efa2cfdd42464f423e",
       "version_major": 2,
       "version_minor": 0
      },
      "text/plain": [
       "  0%|          | 0/123 [00:00<?, ?it/s]"
      ]
     },
     "metadata": {},
     "output_type": "display_data"
    }
   ],
   "source": [
    "domain_cfg_closed =  domain_cfg.copy()\n",
    "for id_closed in tqdm(file_Justine_closed.ID):\n",
    "    for vv in ['bottom_level','top_level','isf_draft','bathy_metry']:\n",
    "        domain_cfg_closed[vv] = domain_cfg_closed[vv].where(ds_isfNEMO['mask_isf'].drop_vars(['glamt', 'gphit']) != id_closed.values, 0)"
   ]
  },
  {
   "cell_type": "code",
   "execution_count": null,
   "id": "89eb586e-55af-4375-b9ac-9bd6a2a71fcb",
   "metadata": {},
   "outputs": [],
   "source": [
    "ds_isfNEMO['mask_isf'].plot()"
   ]
  },
  {
   "cell_type": "code",
   "execution_count": 16,
   "id": "7da6a027-dcf5-4073-8f58-d4b6ed9fdaa3",
   "metadata": {},
   "outputs": [
    {
     "data": {
      "application/vnd.jupyter.widget-view+json": {
       "model_id": "1478954d6edc4868b06ead0302ca80a8",
       "version_major": 2,
       "version_minor": 0
      },
      "text/plain": [
       "  0%|          | 0/123 [00:00<?, ?it/s]"
      ]
     },
     "metadata": {},
     "output_type": "display_data"
    }
   ],
   "source": [
    "mask_isf_open = ds_isfNEMO['mask_isf'].copy()\n",
    "for id_closed in tqdm(file_Justine_closed.ID):\n",
    "    mask_isf_open = mask_isf_open.where(ds_isfNEMO['mask_isf'].drop_vars(['glamt', 'gphit']) != id_closed.values)"
   ]
  },
  {
   "cell_type": "code",
   "execution_count": 17,
   "id": "2db5b78a-458a-407c-9638-2ed57e7390ed",
   "metadata": {},
   "outputs": [],
   "source": [
    "mask_isf_closed = ds_isfNEMO['mask_isf'].where(np.isnan(mask_isf_open))"
   ]
  },
  {
   "cell_type": "code",
   "execution_count": 150,
   "id": "df7a6118-1093-421e-8734-799df421be09",
   "metadata": {},
   "outputs": [],
   "source": [
    "# create mask_isf_open and mask_isf_closed\n",
    "ds_isfNEMO['mask_isf_open'] = mask_isf_open\n",
    "ds_isfNEMO['mask_isf_open'].attrs['standard_name'] = 'mask of the ice shelves that are open'\n",
    "ds_isfNEMO['mask_isf_open'].attrs['units'] = 'ID as given in Mask_Iceshelf_IMBIE2_v2.nc'\n",
    "\n",
    "ds_isfNEMO['mask_isf_closed'] = mask_isf_closed\n",
    "ds_isfNEMO['mask_isf_closed'].attrs['standard_name'] = 'mask of the ice shelves that are closed'\n",
    "ds_isfNEMO['mask_isf_closed'].attrs['units'] = 'ID as given in Mask_Iceshelf_IMBIE2_v2.nc'"
   ]
  },
  {
   "cell_type": "markdown",
   "id": "f2f0b41f-34fd-4378-b4a7-6eaf97a289e0",
   "metadata": {},
   "source": [
    "IDENTIFY FRONT"
   ]
  },
  {
   "cell_type": "code",
   "execution_count": 27,
   "id": "97a00f3b-bfe0-4e74-8c8f-40cad85677ed",
   "metadata": {},
   "outputs": [],
   "source": [
    "mask_0_1_2 = ds_isfNEMO['mask_isf'] * 2\n",
    "mask_0_1_2 = mask_0_1_2.where(domain_cfg['bathy_metry'] != 0, 400) # land\n",
    "mask_0_1_2 = mask_0_1_2.where(domain_cfg['bathy_metry'] == 0, 0) # ocean\n",
    "mask_0_1_2 = mask_0_1_2.where(domain_cfg['isf_draft'] == 0, 200) # ice shelf"
   ]
  },
  {
   "cell_type": "code",
   "execution_count": 71,
   "id": "868069e6-1108-4de4-9a4c-1becdf878349",
   "metadata": {},
   "outputs": [],
   "source": [
    "# mask_open2 is equivalent to mask_isf_closed\n",
    "mask_0_1_2_corr2 = mask_0_1_2.copy()\n",
    "extrap_domains_closed = isfmask['Iceshelf_extrap'].copy()\n",
    "\n",
    "for kisf in ID_open_list:\n",
    "    mask_0_1_2_closed = mask_0_1_2_corr2.where(ds_isfNEMO['mask_isf'] != kisf, 400)\n",
    "    extrap_domains_closed = extrap_domains_closed.where(extrap_domains_closed != kisf, np.nan)"
   ]
  },
  {
   "cell_type": "code",
   "execution_count": 59,
   "id": "e3e1d9d1-3d77-4e43-ae61-b0dc505008d0",
   "metadata": {},
   "outputs": [],
   "source": [
    "is_mask0 = mask_isf_open.where(np.isnan(mask_isf_open)==False,0)\n",
    "# set all ice shelves to 3\n",
    "mask_front = mask_0_1_2_corr2.where((mask_0_1_2_corr2 == 0) | (mask_0_1_2_corr2 == 400), 300).copy()"
   ]
  },
  {
   "cell_type": "code",
   "execution_count": 109,
   "id": "51e47187-1b3a-40f8-80ab-1e31179665e1",
   "metadata": {},
   "outputs": [
    {
     "data": {
      "text/plain": [
       "<matplotlib.collections.QuadMesh at 0x153113d938b0>"
      ]
     },
     "execution_count": 109,
     "metadata": {},
     "output_type": "execute_result"
    }
   ],
   "source": [
    "mask_0_1_2_corr2.plot()"
   ]
  },
  {
   "cell_type": "code",
   "execution_count": 74,
   "id": "5b660390-9cfa-40bd-93bb-a76edeb3ac84",
   "metadata": {},
   "outputs": [],
   "source": [
    "# check all directions and set points at border between ocean and ice shelf (300-0) to 500\n",
    "mask_front = mask_front.where((mask_front.shift(x=-1)-mask_front)!=300,500)\n",
    "mask_front = mask_front.where((mask_front.shift(x=1)-mask_front)!=300,500)\n",
    "mask_front = mask_front.where((mask_front.shift(y=-1)-mask_front)!=300,500)\n",
    "mask_front = mask_front.where((mask_front.shift(y=1)-mask_front)!=300,500)\n",
    "# cut out all front points\n",
    "mask_front = mask_front.where(mask_front==500)\n",
    "# set the ice shelf number\n",
    "mask_front = mask_front.where(mask_front!=500,extrap_domains_closed)"
   ]
  },
  {
   "cell_type": "markdown",
   "id": "11319f83-bfba-43aa-a070-c46015fda5e8",
   "metadata": {},
   "source": [
    "MAKE MAPS OF ZMIN AND ZMAX ON THE FRONT"
   ]
  },
  {
   "cell_type": "code",
   "execution_count": 106,
   "id": "751d59dd-9a1e-4b7f-8f39-ab33ab70166a",
   "metadata": {},
   "outputs": [
    {
     "data": {
      "application/vnd.jupyter.widget-view+json": {
       "model_id": "1236285d3466421a87ddace27b3018e6",
       "version_major": 2,
       "version_minor": 0
      },
      "text/plain": [
       "  0%|          | 0/123 [00:00<?, ?it/s]"
      ]
     },
     "metadata": {},
     "output_type": "display_data"
    }
   ],
   "source": [
    "zmin_front = mask_front.copy()\n",
    "zmax_front = mask_front.copy()\n",
    "\n",
    "for id_closed in tqdm(file_Justine_closed.ID):\n",
    "    zmin_front = zmin_front.where(mask_front != id_closed, file_Justine_closed['z_min'].sel(ID=id_closed))\n",
    "    zmax_front = zmax_front.where(mask_front != id_closed, file_Justine_closed['z_max'].sel(ID=id_closed))"
   ]
  },
  {
   "cell_type": "code",
   "execution_count": 159,
   "id": "1bdd1132-9606-4dc0-a7a2-9e2cb5ca1fb0",
   "metadata": {},
   "outputs": [
    {
     "data": {
      "text/plain": [
       "[<matplotlib.lines.Line2D at 0x153138417a60>]"
      ]
     },
     "execution_count": 159,
     "metadata": {},
     "output_type": "execute_result"
    }
   ],
   "source": [
    "file_Justine_closed['z_min'].plot()\n",
    "file_Justine_closed['z_perc01'].plot()"
   ]
  },
  {
   "cell_type": "code",
   "execution_count": 160,
   "id": "cc3fb229-0b2b-4cca-bde8-a2dcb0ff5512",
   "metadata": {},
   "outputs": [
    {
     "data": {
      "text/plain": [
       "[<matplotlib.lines.Line2D at 0x15311317ddf0>]"
      ]
     },
     "execution_count": 160,
     "metadata": {},
     "output_type": "execute_result"
    }
   ],
   "source": [
    "file_Justine_closed['z_max'].plot()\n",
    "file_Justine_closed['z_perc99'].plot()"
   ]
  },
  {
   "cell_type": "markdown",
   "id": "14913bb3-e052-44bb-a63c-a3bb2f2be062",
   "metadata": {},
   "source": [
    "DISTRIBUTE MELT AT THE FRONT NORMALISED BY CELL SIZE"
   ]
  },
  {
   "cell_type": "code",
   "execution_count": 117,
   "id": "8e36f708-c133-4ff0-be1f-55d55cd6c434",
   "metadata": {},
   "outputs": [],
   "source": [
    "cell_area = domain_cfg['e1t'] * domain_cfg['e2t']\n",
    "melt_src = 'Adusumilli' # options: 'Adusumilli','Rignot', 'Paolo', 'Davison'\n",
    "melt_flux = file_Justine_closed['Melt'+melt_src]"
   ]
  },
  {
   "cell_type": "code",
   "execution_count": 120,
   "id": "036e285b-3889-4935-abd4-2904632a50df",
   "metadata": {},
   "outputs": [
    {
     "data": {
      "application/vnd.jupyter.widget-view+json": {
       "model_id": "62aff7efcb6b4492a1ea8c72a2171491",
       "version_major": 2,
       "version_minor": 0
      },
      "text/plain": [
       "  0%|          | 0/123 [00:00<?, ?it/s]"
      ]
     },
     "metadata": {},
     "output_type": "display_data"
    }
   ],
   "source": [
    "melt_front = mask_front.copy()\n",
    "for id_closed in tqdm(file_Justine_closed.ID):\n",
    "    cell_area_isf = cell_area.where(mask_front == id_closed)\n",
    "    cell_area_isf_sum = cell_area.where(mask_front == id_closed).sum()\n",
    "    melt_front = melt_front.where(mask_front != id_closed, melt_flux.sel(ID=id_closed) * cell_area_isf / cell_area_isf_sum)"
   ]
  },
  {
   "cell_type": "markdown",
   "id": "cb9db4fa-9615-422f-ac13-fb832421f676",
   "metadata": {},
   "source": [
    "Double-check that the total melt is matched"
   ]
  },
  {
   "cell_type": "code",
   "execution_count": 122,
   "id": "600250a6-89c5-4d93-85eb-e5a5bd75de04",
   "metadata": {},
   "outputs": [
    {
     "data": {
      "application/vnd.jupyter.widget-view+json": {
       "model_id": "c8b2c0762cbe44358ed3dbdf004bdc04",
       "version_major": 2,
       "version_minor": 0
      },
      "text/plain": [
       "  0%|          | 0/123 [00:00<?, ?it/s]"
      ]
     },
     "metadata": {},
     "output_type": "display_data"
    }
   ],
   "source": [
    "melt_front_tot_list = []\n",
    "for id_closed in tqdm(file_Justine_closed.ID):\n",
    "    melt_front_tot_list.append(melt_front.where(mask_front == id_closed).sum().assign_coords({'ID': id_closed}))\n",
    "melt_front_tot_xr = xr.concat(melt_front_tot_list, dim='ID')"
   ]
  },
  {
   "cell_type": "markdown",
   "id": "87d7e08d-616b-43b8-8577-36393f861474",
   "metadata": {},
   "source": [
    "WRITE TO NETCDF"
   ]
  },
  {
   "cell_type": "code",
   "execution_count": 154,
   "id": "07f7917c-9289-4b85-a1fd-bc0cec33467b",
   "metadata": {},
   "outputs": [],
   "source": [
    "ds_isfNEMO['z_min'] = zmin_front\n",
    "ds_isfNEMO['z_min'].attrs['standard_name'] = 'most shallow point of the ice-shelf draft indicated at the ice-shelf front'\n",
    "ds_isfNEMO['z_min'].attrs['units'] = 'm below sea level'\n",
    "\n",
    "ds_isfNEMO['z_max'] = zmax_front\n",
    "ds_isfNEMO['z_max'].attrs['standard_name'] = 'deepest point of the ice-shelf draft indicated at the ice-shelf front'\n",
    "ds_isfNEMO['z_max'].attrs['units'] = 'm below sea level'\n",
    "\n",
    "ds_isfNEMO['melt_isf_closed'] = melt_front\n",
    "ds_isfNEMO['melt_isf_closed'].attrs['standard_name'] = 'melt flux from '+melt_src+' distributed at the ice-shelf front'\n",
    "ds_isfNEMO['melt_isf_closed'].attrs['units'] = 'Gt/yr'\n",
    "\n",
    "ds_isfNEMO['ID'].attrs['standard_name'] = 'ice shelf ID'"
   ]
  },
  {
   "cell_type": "code",
   "execution_count": 155,
   "id": "7daf2f65-917f-468b-b286-e124a65dc1cd",
   "metadata": {},
   "outputs": [],
   "source": [
    "ds_isfNEMO.attrs=dict(Source='Based on IMBIE2 (Mask_Iceshelf_IMBIE2_v2.nc)',\n",
    "                      Compatibility='The masked variables are compatible with '+fNEMO_mask,\n",
    "                      Creator='C. Burgard and P. Mathiot ('+date.today().strftime(\"%b-%d-%Y\")+')')"
   ]
  },
  {
   "cell_type": "code",
   "execution_count": 158,
   "id": "0f067b3d-fa73-4667-a491-8e94779f55df",
   "metadata": {},
   "outputs": [
    {
     "data": {
      "text/html": [
       "<div><svg style=\"position: absolute; width: 0; height: 0; overflow: hidden\">\n",
       "<defs>\n",
       "<symbol id=\"icon-database\" viewBox=\"0 0 32 32\">\n",
       "<path d=\"M16 0c-8.837 0-16 2.239-16 5v4c0 2.761 7.163 5 16 5s16-2.239 16-5v-4c0-2.761-7.163-5-16-5z\"></path>\n",
       "<path d=\"M16 17c-8.837 0-16-2.239-16-5v6c0 2.761 7.163 5 16 5s16-2.239 16-5v-6c0 2.761-7.163 5-16 5z\"></path>\n",
       "<path d=\"M16 26c-8.837 0-16-2.239-16-5v6c0 2.761 7.163 5 16 5s16-2.239 16-5v-6c0 2.761-7.163 5-16 5z\"></path>\n",
       "</symbol>\n",
       "<symbol id=\"icon-file-text2\" viewBox=\"0 0 32 32\">\n",
       "<path d=\"M28.681 7.159c-0.694-0.947-1.662-2.053-2.724-3.116s-2.169-2.030-3.116-2.724c-1.612-1.182-2.393-1.319-2.841-1.319h-15.5c-1.378 0-2.5 1.121-2.5 2.5v27c0 1.378 1.122 2.5 2.5 2.5h23c1.378 0 2.5-1.122 2.5-2.5v-19.5c0-0.448-0.137-1.23-1.319-2.841zM24.543 5.457c0.959 0.959 1.712 1.825 2.268 2.543h-4.811v-4.811c0.718 0.556 1.584 1.309 2.543 2.268zM28 29.5c0 0.271-0.229 0.5-0.5 0.5h-23c-0.271 0-0.5-0.229-0.5-0.5v-27c0-0.271 0.229-0.5 0.5-0.5 0 0 15.499-0 15.5 0v7c0 0.552 0.448 1 1 1h7v19.5z\"></path>\n",
       "<path d=\"M23 26h-14c-0.552 0-1-0.448-1-1s0.448-1 1-1h14c0.552 0 1 0.448 1 1s-0.448 1-1 1z\"></path>\n",
       "<path d=\"M23 22h-14c-0.552 0-1-0.448-1-1s0.448-1 1-1h14c0.552 0 1 0.448 1 1s-0.448 1-1 1z\"></path>\n",
       "<path d=\"M23 18h-14c-0.552 0-1-0.448-1-1s0.448-1 1-1h14c0.552 0 1 0.448 1 1s-0.448 1-1 1z\"></path>\n",
       "</symbol>\n",
       "</defs>\n",
       "</svg>\n",
       "<style>/* CSS stylesheet for displaying xarray objects in jupyterlab.\n",
       " *\n",
       " */\n",
       "\n",
       ":root {\n",
       "  --xr-font-color0: var(--jp-content-font-color0, rgba(0, 0, 0, 1));\n",
       "  --xr-font-color2: var(--jp-content-font-color2, rgba(0, 0, 0, 0.54));\n",
       "  --xr-font-color3: var(--jp-content-font-color3, rgba(0, 0, 0, 0.38));\n",
       "  --xr-border-color: var(--jp-border-color2, #e0e0e0);\n",
       "  --xr-disabled-color: var(--jp-layout-color3, #bdbdbd);\n",
       "  --xr-background-color: var(--jp-layout-color0, white);\n",
       "  --xr-background-color-row-even: var(--jp-layout-color1, white);\n",
       "  --xr-background-color-row-odd: var(--jp-layout-color2, #eeeeee);\n",
       "}\n",
       "\n",
       "html[theme=dark],\n",
       "body[data-theme=dark],\n",
       "body.vscode-dark {\n",
       "  --xr-font-color0: rgba(255, 255, 255, 1);\n",
       "  --xr-font-color2: rgba(255, 255, 255, 0.54);\n",
       "  --xr-font-color3: rgba(255, 255, 255, 0.38);\n",
       "  --xr-border-color: #1F1F1F;\n",
       "  --xr-disabled-color: #515151;\n",
       "  --xr-background-color: #111111;\n",
       "  --xr-background-color-row-even: #111111;\n",
       "  --xr-background-color-row-odd: #313131;\n",
       "}\n",
       "\n",
       ".xr-wrap {\n",
       "  display: block !important;\n",
       "  min-width: 300px;\n",
       "  max-width: 700px;\n",
       "}\n",
       "\n",
       ".xr-text-repr-fallback {\n",
       "  /* fallback to plain text repr when CSS is not injected (untrusted notebook) */\n",
       "  display: none;\n",
       "}\n",
       "\n",
       ".xr-header {\n",
       "  padding-top: 6px;\n",
       "  padding-bottom: 6px;\n",
       "  margin-bottom: 4px;\n",
       "  border-bottom: solid 1px var(--xr-border-color);\n",
       "}\n",
       "\n",
       ".xr-header > div,\n",
       ".xr-header > ul {\n",
       "  display: inline;\n",
       "  margin-top: 0;\n",
       "  margin-bottom: 0;\n",
       "}\n",
       "\n",
       ".xr-obj-type,\n",
       ".xr-array-name {\n",
       "  margin-left: 2px;\n",
       "  margin-right: 10px;\n",
       "}\n",
       "\n",
       ".xr-obj-type {\n",
       "  color: var(--xr-font-color2);\n",
       "}\n",
       "\n",
       ".xr-sections {\n",
       "  padding-left: 0 !important;\n",
       "  display: grid;\n",
       "  grid-template-columns: 150px auto auto 1fr 20px 20px;\n",
       "}\n",
       "\n",
       ".xr-section-item {\n",
       "  display: contents;\n",
       "}\n",
       "\n",
       ".xr-section-item input {\n",
       "  display: none;\n",
       "}\n",
       "\n",
       ".xr-section-item input + label {\n",
       "  color: var(--xr-disabled-color);\n",
       "}\n",
       "\n",
       ".xr-section-item input:enabled + label {\n",
       "  cursor: pointer;\n",
       "  color: var(--xr-font-color2);\n",
       "}\n",
       "\n",
       ".xr-section-item input:enabled + label:hover {\n",
       "  color: var(--xr-font-color0);\n",
       "}\n",
       "\n",
       ".xr-section-summary {\n",
       "  grid-column: 1;\n",
       "  color: var(--xr-font-color2);\n",
       "  font-weight: 500;\n",
       "}\n",
       "\n",
       ".xr-section-summary > span {\n",
       "  display: inline-block;\n",
       "  padding-left: 0.5em;\n",
       "}\n",
       "\n",
       ".xr-section-summary-in:disabled + label {\n",
       "  color: var(--xr-font-color2);\n",
       "}\n",
       "\n",
       ".xr-section-summary-in + label:before {\n",
       "  display: inline-block;\n",
       "  content: '►';\n",
       "  font-size: 11px;\n",
       "  width: 15px;\n",
       "  text-align: center;\n",
       "}\n",
       "\n",
       ".xr-section-summary-in:disabled + label:before {\n",
       "  color: var(--xr-disabled-color);\n",
       "}\n",
       "\n",
       ".xr-section-summary-in:checked + label:before {\n",
       "  content: '▼';\n",
       "}\n",
       "\n",
       ".xr-section-summary-in:checked + label > span {\n",
       "  display: none;\n",
       "}\n",
       "\n",
       ".xr-section-summary,\n",
       ".xr-section-inline-details {\n",
       "  padding-top: 4px;\n",
       "  padding-bottom: 4px;\n",
       "}\n",
       "\n",
       ".xr-section-inline-details {\n",
       "  grid-column: 2 / -1;\n",
       "}\n",
       "\n",
       ".xr-section-details {\n",
       "  display: none;\n",
       "  grid-column: 1 / -1;\n",
       "  margin-bottom: 5px;\n",
       "}\n",
       "\n",
       ".xr-section-summary-in:checked ~ .xr-section-details {\n",
       "  display: contents;\n",
       "}\n",
       "\n",
       ".xr-array-wrap {\n",
       "  grid-column: 1 / -1;\n",
       "  display: grid;\n",
       "  grid-template-columns: 20px auto;\n",
       "}\n",
       "\n",
       ".xr-array-wrap > label {\n",
       "  grid-column: 1;\n",
       "  vertical-align: top;\n",
       "}\n",
       "\n",
       ".xr-preview {\n",
       "  color: var(--xr-font-color3);\n",
       "}\n",
       "\n",
       ".xr-array-preview,\n",
       ".xr-array-data {\n",
       "  padding: 0 5px !important;\n",
       "  grid-column: 2;\n",
       "}\n",
       "\n",
       ".xr-array-data,\n",
       ".xr-array-in:checked ~ .xr-array-preview {\n",
       "  display: none;\n",
       "}\n",
       "\n",
       ".xr-array-in:checked ~ .xr-array-data,\n",
       ".xr-array-preview {\n",
       "  display: inline-block;\n",
       "}\n",
       "\n",
       ".xr-dim-list {\n",
       "  display: inline-block !important;\n",
       "  list-style: none;\n",
       "  padding: 0 !important;\n",
       "  margin: 0;\n",
       "}\n",
       "\n",
       ".xr-dim-list li {\n",
       "  display: inline-block;\n",
       "  padding: 0;\n",
       "  margin: 0;\n",
       "}\n",
       "\n",
       ".xr-dim-list:before {\n",
       "  content: '(';\n",
       "}\n",
       "\n",
       ".xr-dim-list:after {\n",
       "  content: ')';\n",
       "}\n",
       "\n",
       ".xr-dim-list li:not(:last-child):after {\n",
       "  content: ',';\n",
       "  padding-right: 5px;\n",
       "}\n",
       "\n",
       ".xr-has-index {\n",
       "  font-weight: bold;\n",
       "}\n",
       "\n",
       ".xr-var-list,\n",
       ".xr-var-item {\n",
       "  display: contents;\n",
       "}\n",
       "\n",
       ".xr-var-item > div,\n",
       ".xr-var-item label,\n",
       ".xr-var-item > .xr-var-name span {\n",
       "  background-color: var(--xr-background-color-row-even);\n",
       "  margin-bottom: 0;\n",
       "}\n",
       "\n",
       ".xr-var-item > .xr-var-name:hover span {\n",
       "  padding-right: 5px;\n",
       "}\n",
       "\n",
       ".xr-var-list > li:nth-child(odd) > div,\n",
       ".xr-var-list > li:nth-child(odd) > label,\n",
       ".xr-var-list > li:nth-child(odd) > .xr-var-name span {\n",
       "  background-color: var(--xr-background-color-row-odd);\n",
       "}\n",
       "\n",
       ".xr-var-name {\n",
       "  grid-column: 1;\n",
       "}\n",
       "\n",
       ".xr-var-dims {\n",
       "  grid-column: 2;\n",
       "}\n",
       "\n",
       ".xr-var-dtype {\n",
       "  grid-column: 3;\n",
       "  text-align: right;\n",
       "  color: var(--xr-font-color2);\n",
       "}\n",
       "\n",
       ".xr-var-preview {\n",
       "  grid-column: 4;\n",
       "}\n",
       "\n",
       ".xr-index-preview {\n",
       "  grid-column: 2 / 5;\n",
       "  color: var(--xr-font-color2);\n",
       "}\n",
       "\n",
       ".xr-var-name,\n",
       ".xr-var-dims,\n",
       ".xr-var-dtype,\n",
       ".xr-preview,\n",
       ".xr-attrs dt {\n",
       "  white-space: nowrap;\n",
       "  overflow: hidden;\n",
       "  text-overflow: ellipsis;\n",
       "  padding-right: 10px;\n",
       "}\n",
       "\n",
       ".xr-var-name:hover,\n",
       ".xr-var-dims:hover,\n",
       ".xr-var-dtype:hover,\n",
       ".xr-attrs dt:hover {\n",
       "  overflow: visible;\n",
       "  width: auto;\n",
       "  z-index: 1;\n",
       "}\n",
       "\n",
       ".xr-var-attrs,\n",
       ".xr-var-data,\n",
       ".xr-index-data {\n",
       "  display: none;\n",
       "  background-color: var(--xr-background-color) !important;\n",
       "  padding-bottom: 5px !important;\n",
       "}\n",
       "\n",
       ".xr-var-attrs-in:checked ~ .xr-var-attrs,\n",
       ".xr-var-data-in:checked ~ .xr-var-data,\n",
       ".xr-index-data-in:checked ~ .xr-index-data {\n",
       "  display: block;\n",
       "}\n",
       "\n",
       ".xr-var-data > table {\n",
       "  float: right;\n",
       "}\n",
       "\n",
       ".xr-var-name span,\n",
       ".xr-var-data,\n",
       ".xr-index-name div,\n",
       ".xr-index-data,\n",
       ".xr-attrs {\n",
       "  padding-left: 25px !important;\n",
       "}\n",
       "\n",
       ".xr-attrs,\n",
       ".xr-var-attrs,\n",
       ".xr-var-data,\n",
       ".xr-index-data {\n",
       "  grid-column: 1 / -1;\n",
       "}\n",
       "\n",
       "dl.xr-attrs {\n",
       "  padding: 0;\n",
       "  margin: 0;\n",
       "  display: grid;\n",
       "  grid-template-columns: 125px auto;\n",
       "}\n",
       "\n",
       ".xr-attrs dt,\n",
       ".xr-attrs dd {\n",
       "  padding: 0;\n",
       "  margin: 0;\n",
       "  float: left;\n",
       "  padding-right: 10px;\n",
       "  width: auto;\n",
       "}\n",
       "\n",
       ".xr-attrs dt {\n",
       "  font-weight: normal;\n",
       "  grid-column: 1;\n",
       "}\n",
       "\n",
       ".xr-attrs dt:hover span {\n",
       "  display: inline-block;\n",
       "  background: var(--xr-background-color);\n",
       "  padding-right: 10px;\n",
       "}\n",
       "\n",
       ".xr-attrs dd {\n",
       "  grid-column: 2;\n",
       "  white-space: pre-wrap;\n",
       "  word-break: break-all;\n",
       "}\n",
       "\n",
       ".xr-icon-database,\n",
       ".xr-icon-file-text2,\n",
       ".xr-no-icon {\n",
       "  display: inline-block;\n",
       "  vertical-align: middle;\n",
       "  width: 1em;\n",
       "  height: 1.5em !important;\n",
       "  stroke-width: 0;\n",
       "  stroke: currentColor;\n",
       "  fill: currentColor;\n",
       "}\n",
       "</style><pre class='xr-text-repr-fallback'>&lt;xarray.Dataset&gt;\n",
       "Dimensions:          (y: 331, x: 360, t: 1)\n",
       "Coordinates:\n",
       "    glamt            (y, x) float64 ...\n",
       "    gphit            (y, x) float64 ...\n",
       "    ID               int64 133\n",
       "Dimensions without coordinates: y, x, t\n",
       "Data variables:\n",
       "    mask_isf         (y, x, t) float32 nan nan nan nan nan ... nan nan nan nan\n",
       "    mask_isf_open    (y, x, t) float32 nan nan nan nan nan ... nan nan nan nan\n",
       "    mask_isf_closed  (y, x, t) float32 nan nan nan nan nan ... nan nan nan nan\n",
       "    z_min            (y, x, t) float32 nan nan nan nan nan ... nan nan nan nan\n",
       "    z_max            (y, x, t) float32 nan nan nan nan nan ... nan nan nan nan\n",
       "    melt_isf_closed  (y, x, t) float64 nan nan nan nan nan ... nan nan nan nan\n",
       "Attributes:\n",
       "    Source:         Based on IMBIE2 (Mask_Iceshelf_IMBIE2_v2.nc)\n",
       "    Compatibility:  The masked variables are compatible with eORCA1.4.3_OpenS...\n",
       "    Creator:        C. Burgard and P. Mathiot (Oct-22-2024)</pre><div class='xr-wrap' style='display:none'><div class='xr-header'><div class='xr-obj-type'>xarray.Dataset</div></div><ul class='xr-sections'><li class='xr-section-item'><input id='section-3de0394a-60c8-47df-a0c6-9096bbd91973' class='xr-section-summary-in' type='checkbox' disabled ><label for='section-3de0394a-60c8-47df-a0c6-9096bbd91973' class='xr-section-summary'  title='Expand/collapse section'>Dimensions:</label><div class='xr-section-inline-details'><ul class='xr-dim-list'><li><span>y</span>: 331</li><li><span>x</span>: 360</li><li><span>t</span>: 1</li></ul></div><div class='xr-section-details'></div></li><li class='xr-section-item'><input id='section-e2dd6bd7-1274-40b7-b2da-b10ed4336b96' class='xr-section-summary-in' type='checkbox'  checked><label for='section-e2dd6bd7-1274-40b7-b2da-b10ed4336b96' class='xr-section-summary' >Coordinates: <span>(3)</span></label><div class='xr-section-inline-details'></div><div class='xr-section-details'><ul class='xr-var-list'><li class='xr-var-item'><div class='xr-var-name'><span>glamt</span></div><div class='xr-var-dims'>(y, x)</div><div class='xr-var-dtype'>float64</div><div class='xr-var-preview xr-preview'>...</div><input id='attrs-6564e5f8-e7cd-4757-b9fc-9ed27d67d0b6' class='xr-var-attrs-in' type='checkbox' ><label for='attrs-6564e5f8-e7cd-4757-b9fc-9ed27d67d0b6' title='Show/Hide attributes'><svg class='icon xr-icon-file-text2'><use xlink:href='#icon-file-text2'></use></svg></label><input id='data-b439e776-0bf6-4781-9adf-f2d4d7564a83' class='xr-var-data-in' type='checkbox'><label for='data-b439e776-0bf6-4781-9adf-f2d4d7564a83' title='Show/Hide data repr'><svg class='icon xr-icon-database'><use xlink:href='#icon-database'></use></svg></label><div class='xr-var-attrs'><dl class='xr-attrs'><dt><span>standard_name :</span></dt><dd>longitude</dd><dt><span>long_name :</span></dt><dd>longitude</dd><dt><span>units :</span></dt><dd>degrees_east</dd><dt><span>_CoordinateAxisType :</span></dt><dd>Lon</dd></dl></div><div class='xr-var-data'><pre>[119160 values with dtype=float64]</pre></div></li><li class='xr-var-item'><div class='xr-var-name'><span>gphit</span></div><div class='xr-var-dims'>(y, x)</div><div class='xr-var-dtype'>float64</div><div class='xr-var-preview xr-preview'>...</div><input id='attrs-0a13772a-0951-4254-9faf-a8e3e6ab61e3' class='xr-var-attrs-in' type='checkbox' ><label for='attrs-0a13772a-0951-4254-9faf-a8e3e6ab61e3' title='Show/Hide attributes'><svg class='icon xr-icon-file-text2'><use xlink:href='#icon-file-text2'></use></svg></label><input id='data-580be4ad-3a35-43e8-bc71-696ca16b3a82' class='xr-var-data-in' type='checkbox'><label for='data-580be4ad-3a35-43e8-bc71-696ca16b3a82' title='Show/Hide data repr'><svg class='icon xr-icon-database'><use xlink:href='#icon-database'></use></svg></label><div class='xr-var-attrs'><dl class='xr-attrs'><dt><span>standard_name :</span></dt><dd>latitude</dd><dt><span>long_name :</span></dt><dd>latitude</dd><dt><span>units :</span></dt><dd>degrees_north</dd><dt><span>_CoordinateAxisType :</span></dt><dd>Lat</dd></dl></div><div class='xr-var-data'><pre>[119160 values with dtype=float64]</pre></div></li><li class='xr-var-item'><div class='xr-var-name'><span>ID</span></div><div class='xr-var-dims'>()</div><div class='xr-var-dtype'>int64</div><div class='xr-var-preview xr-preview'>133</div><input id='attrs-710693f5-8acc-467a-b30c-0c7f917e3a68' class='xr-var-attrs-in' type='checkbox' ><label for='attrs-710693f5-8acc-467a-b30c-0c7f917e3a68' title='Show/Hide attributes'><svg class='icon xr-icon-file-text2'><use xlink:href='#icon-file-text2'></use></svg></label><input id='data-d176c85e-e326-4977-9100-26d03f97723b' class='xr-var-data-in' type='checkbox'><label for='data-d176c85e-e326-4977-9100-26d03f97723b' title='Show/Hide data repr'><svg class='icon xr-icon-database'><use xlink:href='#icon-database'></use></svg></label><div class='xr-var-attrs'><dl class='xr-attrs'><dt><span>standard_name :</span></dt><dd>ice shelf ID</dd></dl></div><div class='xr-var-data'><pre>array(133)</pre></div></li></ul></div></li><li class='xr-section-item'><input id='section-546178aa-da72-4bc5-a1ff-28165189b65b' class='xr-section-summary-in' type='checkbox'  checked><label for='section-546178aa-da72-4bc5-a1ff-28165189b65b' class='xr-section-summary' >Data variables: <span>(6)</span></label><div class='xr-section-inline-details'></div><div class='xr-section-details'><ul class='xr-var-list'><li class='xr-var-item'><div class='xr-var-name'><span>mask_isf</span></div><div class='xr-var-dims'>(y, x, t)</div><div class='xr-var-dtype'>float32</div><div class='xr-var-preview xr-preview'>nan nan nan nan ... nan nan nan nan</div><input id='attrs-964c3960-bc8e-4936-8014-e31e8e721ad0' class='xr-var-attrs-in' type='checkbox' ><label for='attrs-964c3960-bc8e-4936-8014-e31e8e721ad0' title='Show/Hide attributes'><svg class='icon xr-icon-file-text2'><use xlink:href='#icon-file-text2'></use></svg></label><input id='data-86b1dad6-1f94-4f02-b10c-fad352367779' class='xr-var-data-in' type='checkbox'><label for='data-86b1dad6-1f94-4f02-b10c-fad352367779' title='Show/Hide data repr'><svg class='icon xr-icon-database'><use xlink:href='#icon-database'></use></svg></label><div class='xr-var-attrs'><dl class='xr-attrs'><dt><span>standard_name :</span></dt><dd>mask of all the ice shelves</dd><dt><span>units :</span></dt><dd>ID as given in Mask_Iceshelf_IMBIE2_v2.nc</dd></dl></div><div class='xr-var-data'><pre>array([[[nan],\n",
       "        [nan],\n",
       "        [nan],\n",
       "        ...,\n",
       "        [nan],\n",
       "        [nan],\n",
       "        [nan]],\n",
       "\n",
       "       [[nan],\n",
       "        [nan],\n",
       "        [nan],\n",
       "        ...,\n",
       "        [nan],\n",
       "        [nan],\n",
       "        [nan]],\n",
       "\n",
       "       [[nan],\n",
       "        [nan],\n",
       "        [nan],\n",
       "        ...,\n",
       "...\n",
       "        ...,\n",
       "        [nan],\n",
       "        [nan],\n",
       "        [nan]],\n",
       "\n",
       "       [[nan],\n",
       "        [nan],\n",
       "        [nan],\n",
       "        ...,\n",
       "        [nan],\n",
       "        [nan],\n",
       "        [nan]],\n",
       "\n",
       "       [[nan],\n",
       "        [nan],\n",
       "        [nan],\n",
       "        ...,\n",
       "        [nan],\n",
       "        [nan],\n",
       "        [nan]]], dtype=float32)</pre></div></li><li class='xr-var-item'><div class='xr-var-name'><span>mask_isf_open</span></div><div class='xr-var-dims'>(y, x, t)</div><div class='xr-var-dtype'>float32</div><div class='xr-var-preview xr-preview'>nan nan nan nan ... nan nan nan nan</div><input id='attrs-b6232ff5-30fa-44f1-8506-75d96a0e8efa' class='xr-var-attrs-in' type='checkbox' ><label for='attrs-b6232ff5-30fa-44f1-8506-75d96a0e8efa' title='Show/Hide attributes'><svg class='icon xr-icon-file-text2'><use xlink:href='#icon-file-text2'></use></svg></label><input id='data-f011b422-9ec4-4448-bf8c-32ff17137dca' class='xr-var-data-in' type='checkbox'><label for='data-f011b422-9ec4-4448-bf8c-32ff17137dca' title='Show/Hide data repr'><svg class='icon xr-icon-database'><use xlink:href='#icon-database'></use></svg></label><div class='xr-var-attrs'><dl class='xr-attrs'><dt><span>standard_name :</span></dt><dd>mask of the ice shelves that are open</dd><dt><span>units :</span></dt><dd>ID as given in Mask_Iceshelf_IMBIE2_v2.nc</dd></dl></div><div class='xr-var-data'><pre>array([[[nan],\n",
       "        [nan],\n",
       "        [nan],\n",
       "        ...,\n",
       "        [nan],\n",
       "        [nan],\n",
       "        [nan]],\n",
       "\n",
       "       [[nan],\n",
       "        [nan],\n",
       "        [nan],\n",
       "        ...,\n",
       "        [nan],\n",
       "        [nan],\n",
       "        [nan]],\n",
       "\n",
       "       [[nan],\n",
       "        [nan],\n",
       "        [nan],\n",
       "        ...,\n",
       "...\n",
       "        ...,\n",
       "        [nan],\n",
       "        [nan],\n",
       "        [nan]],\n",
       "\n",
       "       [[nan],\n",
       "        [nan],\n",
       "        [nan],\n",
       "        ...,\n",
       "        [nan],\n",
       "        [nan],\n",
       "        [nan]],\n",
       "\n",
       "       [[nan],\n",
       "        [nan],\n",
       "        [nan],\n",
       "        ...,\n",
       "        [nan],\n",
       "        [nan],\n",
       "        [nan]]], dtype=float32)</pre></div></li><li class='xr-var-item'><div class='xr-var-name'><span>mask_isf_closed</span></div><div class='xr-var-dims'>(y, x, t)</div><div class='xr-var-dtype'>float32</div><div class='xr-var-preview xr-preview'>nan nan nan nan ... nan nan nan nan</div><input id='attrs-fc77462c-9f84-440e-b989-f23e9a187ca9' class='xr-var-attrs-in' type='checkbox' ><label for='attrs-fc77462c-9f84-440e-b989-f23e9a187ca9' title='Show/Hide attributes'><svg class='icon xr-icon-file-text2'><use xlink:href='#icon-file-text2'></use></svg></label><input id='data-526a4d1c-c33f-4028-8845-81d0cbaf0e66' class='xr-var-data-in' type='checkbox'><label for='data-526a4d1c-c33f-4028-8845-81d0cbaf0e66' title='Show/Hide data repr'><svg class='icon xr-icon-database'><use xlink:href='#icon-database'></use></svg></label><div class='xr-var-attrs'><dl class='xr-attrs'><dt><span>standard_name :</span></dt><dd>mask of the ice shelves that are closed</dd><dt><span>units :</span></dt><dd>ID as given in Mask_Iceshelf_IMBIE2_v2.nc</dd></dl></div><div class='xr-var-data'><pre>array([[[nan],\n",
       "        [nan],\n",
       "        [nan],\n",
       "        ...,\n",
       "        [nan],\n",
       "        [nan],\n",
       "        [nan]],\n",
       "\n",
       "       [[nan],\n",
       "        [nan],\n",
       "        [nan],\n",
       "        ...,\n",
       "        [nan],\n",
       "        [nan],\n",
       "        [nan]],\n",
       "\n",
       "       [[nan],\n",
       "        [nan],\n",
       "        [nan],\n",
       "        ...,\n",
       "...\n",
       "        ...,\n",
       "        [nan],\n",
       "        [nan],\n",
       "        [nan]],\n",
       "\n",
       "       [[nan],\n",
       "        [nan],\n",
       "        [nan],\n",
       "        ...,\n",
       "        [nan],\n",
       "        [nan],\n",
       "        [nan]],\n",
       "\n",
       "       [[nan],\n",
       "        [nan],\n",
       "        [nan],\n",
       "        ...,\n",
       "        [nan],\n",
       "        [nan],\n",
       "        [nan]]], dtype=float32)</pre></div></li><li class='xr-var-item'><div class='xr-var-name'><span>z_min</span></div><div class='xr-var-dims'>(y, x, t)</div><div class='xr-var-dtype'>float32</div><div class='xr-var-preview xr-preview'>nan nan nan nan ... nan nan nan nan</div><input id='attrs-48c2f7b8-d556-488b-bdd8-8faa7c53db8f' class='xr-var-attrs-in' type='checkbox' ><label for='attrs-48c2f7b8-d556-488b-bdd8-8faa7c53db8f' title='Show/Hide attributes'><svg class='icon xr-icon-file-text2'><use xlink:href='#icon-file-text2'></use></svg></label><input id='data-90302497-65d0-4381-bd45-f1acf9ec82d3' class='xr-var-data-in' type='checkbox'><label for='data-90302497-65d0-4381-bd45-f1acf9ec82d3' title='Show/Hide data repr'><svg class='icon xr-icon-database'><use xlink:href='#icon-database'></use></svg></label><div class='xr-var-attrs'><dl class='xr-attrs'><dt><span>standard_name :</span></dt><dd>most shallow point of the ice-shelf draft indicated at the ice-shelf front</dd><dt><span>units :</span></dt><dd>m below sea level</dd></dl></div><div class='xr-var-data'><pre>array([[[nan],\n",
       "        [nan],\n",
       "        [nan],\n",
       "        ...,\n",
       "        [nan],\n",
       "        [nan],\n",
       "        [nan]],\n",
       "\n",
       "       [[nan],\n",
       "        [nan],\n",
       "        [nan],\n",
       "        ...,\n",
       "        [nan],\n",
       "        [nan],\n",
       "        [nan]],\n",
       "\n",
       "       [[nan],\n",
       "        [nan],\n",
       "        [nan],\n",
       "        ...,\n",
       "...\n",
       "        ...,\n",
       "        [nan],\n",
       "        [nan],\n",
       "        [nan]],\n",
       "\n",
       "       [[nan],\n",
       "        [nan],\n",
       "        [nan],\n",
       "        ...,\n",
       "        [nan],\n",
       "        [nan],\n",
       "        [nan]],\n",
       "\n",
       "       [[nan],\n",
       "        [nan],\n",
       "        [nan],\n",
       "        ...,\n",
       "        [nan],\n",
       "        [nan],\n",
       "        [nan]]], dtype=float32)</pre></div></li><li class='xr-var-item'><div class='xr-var-name'><span>z_max</span></div><div class='xr-var-dims'>(y, x, t)</div><div class='xr-var-dtype'>float32</div><div class='xr-var-preview xr-preview'>nan nan nan nan ... nan nan nan nan</div><input id='attrs-1b739c28-754b-4105-8524-af54ebfa2475' class='xr-var-attrs-in' type='checkbox' ><label for='attrs-1b739c28-754b-4105-8524-af54ebfa2475' title='Show/Hide attributes'><svg class='icon xr-icon-file-text2'><use xlink:href='#icon-file-text2'></use></svg></label><input id='data-095064a3-319f-4413-b10a-9fd7e3ba360b' class='xr-var-data-in' type='checkbox'><label for='data-095064a3-319f-4413-b10a-9fd7e3ba360b' title='Show/Hide data repr'><svg class='icon xr-icon-database'><use xlink:href='#icon-database'></use></svg></label><div class='xr-var-attrs'><dl class='xr-attrs'><dt><span>standard_name :</span></dt><dd>deepest point of the ice-shelf draft indicated at the ice-shelf front</dd><dt><span>units :</span></dt><dd>m below sea level</dd></dl></div><div class='xr-var-data'><pre>array([[[nan],\n",
       "        [nan],\n",
       "        [nan],\n",
       "        ...,\n",
       "        [nan],\n",
       "        [nan],\n",
       "        [nan]],\n",
       "\n",
       "       [[nan],\n",
       "        [nan],\n",
       "        [nan],\n",
       "        ...,\n",
       "        [nan],\n",
       "        [nan],\n",
       "        [nan]],\n",
       "\n",
       "       [[nan],\n",
       "        [nan],\n",
       "        [nan],\n",
       "        ...,\n",
       "...\n",
       "        ...,\n",
       "        [nan],\n",
       "        [nan],\n",
       "        [nan]],\n",
       "\n",
       "       [[nan],\n",
       "        [nan],\n",
       "        [nan],\n",
       "        ...,\n",
       "        [nan],\n",
       "        [nan],\n",
       "        [nan]],\n",
       "\n",
       "       [[nan],\n",
       "        [nan],\n",
       "        [nan],\n",
       "        ...,\n",
       "        [nan],\n",
       "        [nan],\n",
       "        [nan]]], dtype=float32)</pre></div></li><li class='xr-var-item'><div class='xr-var-name'><span>melt_isf_closed</span></div><div class='xr-var-dims'>(y, x, t)</div><div class='xr-var-dtype'>float64</div><div class='xr-var-preview xr-preview'>nan nan nan nan ... nan nan nan nan</div><input id='attrs-5d80abe2-edba-419c-ba0b-df9105036449' class='xr-var-attrs-in' type='checkbox' ><label for='attrs-5d80abe2-edba-419c-ba0b-df9105036449' title='Show/Hide attributes'><svg class='icon xr-icon-file-text2'><use xlink:href='#icon-file-text2'></use></svg></label><input id='data-624565a1-e92a-4039-9a6a-09e454d79ea5' class='xr-var-data-in' type='checkbox'><label for='data-624565a1-e92a-4039-9a6a-09e454d79ea5' title='Show/Hide data repr'><svg class='icon xr-icon-database'><use xlink:href='#icon-database'></use></svg></label><div class='xr-var-attrs'><dl class='xr-attrs'><dt><span>standard_name :</span></dt><dd>melt flux from Adusumilli distributed at the ice-shelf front</dd><dt><span>units :</span></dt><dd>Gt/yr</dd></dl></div><div class='xr-var-data'><pre>array([[[nan],\n",
       "        [nan],\n",
       "        [nan],\n",
       "        ...,\n",
       "        [nan],\n",
       "        [nan],\n",
       "        [nan]],\n",
       "\n",
       "       [[nan],\n",
       "        [nan],\n",
       "        [nan],\n",
       "        ...,\n",
       "        [nan],\n",
       "        [nan],\n",
       "        [nan]],\n",
       "\n",
       "       [[nan],\n",
       "        [nan],\n",
       "        [nan],\n",
       "        ...,\n",
       "...\n",
       "        ...,\n",
       "        [nan],\n",
       "        [nan],\n",
       "        [nan]],\n",
       "\n",
       "       [[nan],\n",
       "        [nan],\n",
       "        [nan],\n",
       "        ...,\n",
       "        [nan],\n",
       "        [nan],\n",
       "        [nan]],\n",
       "\n",
       "       [[nan],\n",
       "        [nan],\n",
       "        [nan],\n",
       "        ...,\n",
       "        [nan],\n",
       "        [nan],\n",
       "        [nan]]])</pre></div></li></ul></div></li><li class='xr-section-item'><input id='section-88089cd3-835f-433d-ac73-4ff4b1d87b66' class='xr-section-summary-in' type='checkbox' disabled ><label for='section-88089cd3-835f-433d-ac73-4ff4b1d87b66' class='xr-section-summary'  title='Expand/collapse section'>Indexes: <span>(0)</span></label><div class='xr-section-inline-details'></div><div class='xr-section-details'><ul class='xr-var-list'></ul></div></li><li class='xr-section-item'><input id='section-3a775bd5-bf14-4b62-af09-309e3ae54647' class='xr-section-summary-in' type='checkbox'  checked><label for='section-3a775bd5-bf14-4b62-af09-309e3ae54647' class='xr-section-summary' >Attributes: <span>(3)</span></label><div class='xr-section-inline-details'></div><div class='xr-section-details'><dl class='xr-attrs'><dt><span>Source :</span></dt><dd>Based on IMBIE2 (Mask_Iceshelf_IMBIE2_v2.nc)</dd><dt><span>Compatibility :</span></dt><dd>The masked variables are compatible with eORCA1.4.3_OpenSeas_OpenAllCav_ModStraights_domain_cfg.nc</dd><dt><span>Creator :</span></dt><dd>C. Burgard and P. Mathiot (Oct-22-2024)</dd></dl></div></li></ul></div></div>"
      ],
      "text/plain": [
       "<xarray.Dataset>\n",
       "Dimensions:          (y: 331, x: 360, t: 1)\n",
       "Coordinates:\n",
       "    glamt            (y, x) float64 ...\n",
       "    gphit            (y, x) float64 ...\n",
       "    ID               int64 133\n",
       "Dimensions without coordinates: y, x, t\n",
       "Data variables:\n",
       "    mask_isf         (y, x, t) float32 nan nan nan nan nan ... nan nan nan nan\n",
       "    mask_isf_open    (y, x, t) float32 nan nan nan nan nan ... nan nan nan nan\n",
       "    mask_isf_closed  (y, x, t) float32 nan nan nan nan nan ... nan nan nan nan\n",
       "    z_min            (y, x, t) float32 nan nan nan nan nan ... nan nan nan nan\n",
       "    z_max            (y, x, t) float32 nan nan nan nan nan ... nan nan nan nan\n",
       "    melt_isf_closed  (y, x, t) float64 nan nan nan nan nan ... nan nan nan nan\n",
       "Attributes:\n",
       "    Source:         Based on IMBIE2 (Mask_Iceshelf_IMBIE2_v2.nc)\n",
       "    Compatibility:  The masked variables are compatible with eORCA1.4.3_OpenS...\n",
       "    Creator:        C. Burgard and P. Mathiot (Oct-22-2024)"
      ]
     },
     "execution_count": 158,
     "metadata": {},
     "output_type": "execute_result"
    }
   ],
   "source": [
    "ds_isfNEMO"
   ]
  },
  {
   "cell_type": "code",
   "execution_count": 157,
   "id": "c1a642f1-3184-4ba2-9355-4d6adb27bcaf",
   "metadata": {},
   "outputs": [],
   "source": [
    "ds_isfNEMO.to_netcdf(inputpath_interim + 'masks_for_eORCA1.nc')"
   ]
  }
 ],
 "metadata": {
  "kernelspec": {
   "display_name": "py38",
   "language": "python",
   "name": "py38"
  },
  "language_info": {
   "codemirror_mode": {
    "name": "ipython",
    "version": 3
   },
   "file_extension": ".py",
   "mimetype": "text/x-python",
   "name": "python",
   "nbconvert_exporter": "python",
   "pygments_lexer": "ipython3",
   "version": "3.8.18"
  }
 },
 "nbformat": 4,
 "nbformat_minor": 5
}
