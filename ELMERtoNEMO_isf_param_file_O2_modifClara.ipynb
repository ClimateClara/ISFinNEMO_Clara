{
 "cells": [
  {
   "cell_type": "markdown",
   "id": "ad7ccdeb",
   "metadata": {},
   "source": [
    "## Load modules"
   ]
  },
  {
   "cell_type": "code",
   "execution_count": 1,
   "id": "708eab55",
   "metadata": {},
   "outputs": [],
   "source": [
    "import xarray as xr\n",
    "import numpy as np\n",
    "import cdo\n",
    "import copy\n",
    "import matplotlib.pyplot as plt\n",
    "from scipy import ndimage\n",
    "from tqdm.notebook import tqdm"
   ]
  },
  {
   "cell_type": "code",
   "execution_count": 2,
   "id": "a0561007-2465-4561-8da8-cdd0379b9246",
   "metadata": {},
   "outputs": [],
   "source": [
    "%matplotlib qt5"
   ]
  },
  {
   "cell_type": "markdown",
   "id": "52bed029",
   "metadata": {},
   "source": [
    "## Initialisation cdo"
   ]
  },
  {
   "cell_type": "code",
   "execution_count": 3,
   "id": "baee3fa1",
   "metadata": {},
   "outputs": [],
   "source": [
    "cdo = cdo.Cdo()"
   ]
  },
  {
   "cell_type": "markdown",
   "id": "2542ada3-862c-4f73-876c-c2e103797caf",
   "metadata": {},
   "source": [
    "## Declare paths"
   ]
  },
  {
   "cell_type": "code",
   "execution_count": 4,
   "id": "0249a954-f211-4f11-95e4-378b8fc6a1ec",
   "metadata": {},
   "outputs": [],
   "source": [
    "inputpath_raw = '/data/cburgard/MELT_PARAM_NONRESOLVED/raw/'\n",
    "inputpath_interim = '/data/cburgard/MELT_PARAM_NONRESOLVED/interim/'\n",
    "inputpath_NEMO = '/data/cburgard/PREPARE_FORCING/PREPARE_PRESCRIBED_MELT/interim/'\n",
    "inputpath_NEMO_interim = '/data/cburgard/PREPARE_FORCING/PREPARE_CAVITY_MASKS/interim/'\n",
    "inputpath_domaincfg = '/data/cburgard/PREPARE_FORCING/PREPARE_CAVITY_MASKS/raw/eORCA1.4.3_OpenSeas_OpenAllCav_ModStraights/'"
   ]
  },
  {
   "cell_type": "markdown",
   "id": "14496e0f",
   "metadata": {},
   "source": [
    "## Define grids"
   ]
  },
  {
   "cell_type": "code",
   "execution_count": 5,
   "id": "a27bdc78",
   "metadata": {},
   "outputs": [],
   "source": [
    "## source grid\n",
    "fBedMachine_grid=inputpath_interim + 'basins_for_param_v5_raster_extrapolate_with_zmin_zmax_isfconc_withgrid.nc'\n",
    "BedMachine_grid=xr.open_dataset(fBedMachine_grid)\n",
    "\n",
    "## target grid\n",
    "fNEMO_grid = inputpath_NEMO_interim + 'NEMO_gridT_eORCA1_cdo.nc'\n",
    "ds_nemo_grid=xr.open_dataset(fNEMO_grid)\n",
    "fcoordinates_file = '/data/cburgard/PREPARE_FORCING/PREPARE_CAVITY_MASKS/raw/eORCA1.4.3_OpenSeas_OpenAllCav_ModStraights/coordinates.nc'\n",
    "coordinates_file = xr.open_dataset(fcoordinates_file)\n",
    "ds_nemo_grid_without_nan = inputpath_interim + 'coordinates_cdo.nc'\n",
    "\n",
    "## mask of all cavities\n"
   ]
  },
  {
   "cell_type": "markdown",
   "id": "2e5caece",
   "metadata": {},
   "source": [
    "## Inputs files"
   ]
  },
  {
   "cell_type": "code",
   "execution_count": 6,
   "id": "9170e0ac",
   "metadata": {},
   "outputs": [],
   "source": [
    "# BedMachine state data\n",
    "ds_BedMachine=xr.open_dataset(inputpath_NEMO_interim + 'BedMachine_v3_aggregated2km_allvars_withgrid.nc')\n",
    "\n",
    "# NEMO bedrock data\n",
    "ds_nemo_file=xr.open_dataset(inputpath_NEMO + 'eORCA1.4.3_OpenSeas_Open6largestISF_ModStraights_domain_cfg_withgrid.nc').squeeze().drop_vars('time')\n",
    "ds_nemo = ds_nemo_file[['isf_draft', 'bathy_metry']] #,'nav_lon_bnds','nav_lat_bnds'"
   ]
  },
  {
   "cell_type": "code",
   "execution_count": 7,
   "id": "c5dbc5a4-be6c-4d2a-ad55-784e2a7d3ce1",
   "metadata": {},
   "outputs": [],
   "source": [
    "glamt = coordinates_file['glamt']\n",
    "glamt.attrs = ds_nemo['nav_lon'].attrs\n",
    "\n",
    "gphit = coordinates_file['gphit']\n",
    "gphit.attrs = ds_nemo['nav_lat'].attrs"
   ]
  },
  {
   "cell_type": "code",
   "execution_count": 8,
   "id": "1bd1ebb3-27c6-46fd-89d9-9861031f5a58",
   "metadata": {},
   "outputs": [],
   "source": [
    "ds_nemo_corr = ds_nemo.assign_coords({'nav_lon': glamt, 'nav_lat': gphit})"
   ]
  },
  {
   "cell_type": "code",
   "execution_count": 9,
   "id": "f1bbecd3-c528-42ff-80ff-d11ba6244286",
   "metadata": {},
   "outputs": [],
   "source": [
    "ds_nemo_corr['mask_isf'] = (ds_nemo_corr['isf_draft'] > 0).astype(float)"
   ]
  },
  {
   "cell_type": "code",
   "execution_count": 10,
   "id": "4af63874-c228-4675-ad36-cbec5963b224",
   "metadata": {},
   "outputs": [],
   "source": [
    "ds_nemo_corr['cell_area'] = coordinates_file['e1t'] * coordinates_file['e2t']"
   ]
  },
  {
   "cell_type": "markdown",
   "id": "fc8de06d",
   "metadata": {},
   "source": [
    "# compute area not resolved by NEMO\n",
    "**Method from Pierre:**\n",
    "- conservative interpolation of Elmer floating cell to NEMO\n",
    "- set to 1 value between 0 and 1 (ie area to parametrised in NEMO)\n",
    "- conservative interpolation back to ELMER to give the cell that need to be included in the param and the area scale factor (note from Clara: not sure this last step is really needed)"
   ]
  },
  {
   "cell_type": "code",
   "execution_count": null,
   "id": "d6b3aa5f-29cd-434a-9763-f2788c3514d0",
   "metadata": {},
   "outputs": [],
   "source": [
    "# CDO interpolation\n",
    "isfconc_NEMOgrid0 = cdo.remapbil(fNEMO_grid,input=ds_BedMachine, returnArray='isf_conc')"
   ]
  },
  {
   "cell_type": "code",
   "execution_count": null,
   "id": "a1619caf-1889-4bc9-93bb-97155869c7e4",
   "metadata": {},
   "outputs": [],
   "source": [
    "isfconc_NEMOgrid = xr.DataArray(data=isfconc_NEMOgrid0, dims=['y','x']).assign_coords({'y': ds_nemo_grid.y, \n",
    "                                                                                       'x': ds_nemo_grid.x})"
   ]
  },
  {
   "cell_type": "code",
   "execution_count": null,
   "id": "933981a8-8a06-4823-9453-40837e180054",
   "metadata": {},
   "outputs": [],
   "source": [
    "isfconc_NEMOgrid.plot()"
   ]
  },
  {
   "cell_type": "code",
   "execution_count": null,
   "id": "b43f0059-545c-45ea-8ffd-a35ceca14fca",
   "metadata": {},
   "outputs": [],
   "source": [
    "NEMO_cell_to_param = (isfconc_NEMOgrid > 0) & (isfconc_NEMOgrid < 0.99)"
   ]
  },
  {
   "cell_type": "code",
   "execution_count": null,
   "id": "83252efd",
   "metadata": {},
   "outputs": [],
   "source": [
    "# create clean data_set array (cdo is very sensitive)\n",
    "ds_elmer_sftflf = xr.Dataset(\n",
    "    data_vars=dict(\n",
    "        sftflf=([\"time\",\"ncells\"], ds_elmer.sftflf.values),\n",
    "        time_instant=([\"time\"],ds_elmer.time_instant.values),\n",
    "        lon_bnds=([\"ncells\",\"vertices\"], ds_elmer_grid.lon_bnds.values),\n",
    "        lat_bnds=([\"ncells\",\"vertices\"], ds_elmer_grid.lat_bnds.values),\n",
    "        time_instant_bnds=([\"time\",\"axis_nbounds\"],ds_elmer.time_instant_bounds.values),\n",
    "    ),\n",
    "    coords=dict(\n",
    "        lon=([\"ncells\"],ds_elmer_grid.lon.values,ds_elmer_grid.lon.attrs),\n",
    "        lat=([\"ncells\"],ds_elmer_grid.lat.values,ds_elmer_grid.lat.attrs),\n",
    "    ),\n",
    ")"
   ]
  },
  {
   "cell_type": "code",
   "execution_count": null,
   "id": "9a798d73",
   "metadata": {},
   "outputs": [],
   "source": [
    "## CDO inperpolation\n",
    "### cdo.remapcon(f'{target_grid}',input=input_xrdataset, returnArray=variable_name_to_process)\n",
    "#NEMO_sftflf=cdo.remapcon(f'{fNEMO_grid}', input=ds_elmer_sftflf, returnArray='sftflf', env={\"CDO_REMAP_NORM\": \"areafrac\"}).squeeze()\n",
    "#NEMO_sftflf[0,50:60]=1 # => specific to ORCA2"
   ]
  },
  {
   "cell_type": "code",
   "execution_count": null,
   "id": "d214c761",
   "metadata": {},
   "outputs": [],
   "source": [
    "# set to 1 cell to parametrised\n",
    "#NEMO_cell_to_param=np.zeros(shape=NEMO_sftflf.shape)\n",
    "#NEMO_cell_to_param=np.where((NEMO_sftflf > 0) & (NEMO_sftflf<=1),1,0)"
   ]
  },
  {
   "cell_type": "markdown",
   "id": "f15e1797-bc9c-4714-b2ce-8f4f0c3b79b5",
   "metadata": {},
   "source": [
    "**Method from Clara:**\n",
    "- interpolation of NEMO on BedMachine grid\n",
    "- identify cells that are not or not completely taken into account in NEMO => regions non-resolved in NEMO\n",
    "- of these: check which are associated to a basin that is not on the NEMO grid and replace them\n",
    "- then, compute the area scale factor"
   ]
  },
  {
   "cell_type": "code",
   "execution_count": 11,
   "id": "85d35d2b-6fcd-40b0-8d27-6bb8d5a943f5",
   "metadata": {},
   "outputs": [],
   "source": [
    "ds_nemo_mask = ds_nemo_corr['mask_isf']"
   ]
  },
  {
   "cell_type": "code",
   "execution_count": 12,
   "id": "a64aac60-82f5-4ee3-bba2-68f4313e638d",
   "metadata": {},
   "outputs": [],
   "source": [
    "isfcellconc_BMgrid0 = cdo.remapbil(fBedMachine_grid,input=ds_nemo_corr, returnArray='mask_isf')"
   ]
  },
  {
   "cell_type": "code",
   "execution_count": 13,
   "id": "a36c18ad-a880-47e7-a391-e60f3bc173ed",
   "metadata": {},
   "outputs": [],
   "source": [
    "isfcellconc_BMgrid = xr.DataArray(data=isfcellconc_BMgrid0, dims=['y','x']).assign_coords({'y': BedMachine_grid.y, \n",
    "                                                         'x': BedMachine_grid.x})"
   ]
  },
  {
   "cell_type": "code",
   "execution_count": 14,
   "id": "aa52abf2-bea7-4814-abd5-319fc8a668ef",
   "metadata": {},
   "outputs": [],
   "source": [
    "# Identify ice shelves in \"reality\""
   ]
  },
  {
   "cell_type": "code",
   "execution_count": 15,
   "id": "e87b7b3a-379e-4b39-8d81-b909465ce773",
   "metadata": {},
   "outputs": [],
   "source": [
    "isfconc_BM_orig = ds_BedMachine['isf_conc']"
   ]
  },
  {
   "cell_type": "code",
   "execution_count": null,
   "id": "1d2b6d2b-d4e5-4b06-9d22-e185d6a42a4b",
   "metadata": {},
   "outputs": [],
   "source": [
    "isfconc_BM_orig.plot()"
   ]
  },
  {
   "cell_type": "markdown",
   "id": "13165833-31f6-4c98-a835-311a8e2c2978",
   "metadata": {},
   "source": [
    "Assign basins to the regions of isf conc between 0 and 1"
   ]
  },
  {
   "cell_type": "code",
   "execution_count": null,
   "id": "fe7165f8-f715-42da-8339-50f134ebe6cc",
   "metadata": {},
   "outputs": [],
   "source": [
    "ds_ANT_basins.plot()"
   ]
  },
  {
   "cell_type": "code",
   "execution_count": 16,
   "id": "e70c538b-a47a-4f1f-8a7f-07b9e2a375b2",
   "metadata": {},
   "outputs": [],
   "source": [
    "## Read basin file at 2km\n",
    "ds_ANT_basins=xr.open_dataset(inputpath_raw + 'basins_for_param_v5_raster_extrapolate_setgrid.nc')['Band1']"
   ]
  },
  {
   "cell_type": "code",
   "execution_count": 17,
   "id": "23c48bc9-e6c7-4713-8cf3-a03809fa8168",
   "metadata": {},
   "outputs": [],
   "source": [
    "## Identify non resolved subregions or the whole ice shelves not present in NEMO but present in BedMachine\n",
    "# sum of concentration on original and NEMO grid (if they are both > 0.99 - so 1.98, this is a fully covered cell in both)\n",
    "sum_isfconc = isfconc_BM_orig + isfcellconc_BMgrid \n",
    "# all the cells that are partially covered in one of the two and where there is isf in BedMachine gets assigned a number\n",
    "basin_mask_nonresolved = ((sum_isfconc < 1.98) & (isfconc_BM_orig > 0)) * ds_ANT_basins\n",
    "basin_mask_nonresolved = basin_mask_nonresolved.where(basin_mask_nonresolved > 0)"
   ]
  },
  {
   "cell_type": "code",
   "execution_count": null,
   "id": "1a26479e-2a8a-4e17-affa-b06bd24b1872",
   "metadata": {},
   "outputs": [],
   "source": [
    "ds_ANT_basins.plot()"
   ]
  },
  {
   "cell_type": "markdown",
   "id": "80ea1bc4-db69-4d18-a618-8e364acc822c",
   "metadata": {},
   "source": [
    "Check if all the basins are present in NEMO"
   ]
  },
  {
   "cell_type": "code",
   "execution_count": 18,
   "id": "eb042a12-47df-4f54-a0cc-9873ada44b61",
   "metadata": {},
   "outputs": [],
   "source": [
    "## CDO inperpolation\n",
    "NEMO_basins=cdo.remapnn(ds_nemo_grid_without_nan,input=ds_ANT_basins, returnArray='Band1').squeeze() \n",
    "#compare_NEMO_basins=cdo.remapnn(fNEMO_grid,input=ds_ANT_basins, returnArray='Band1').squeeze() #=> doesn't work because the coordinates file is not in cdo format and  "
   ]
  },
  {
   "cell_type": "code",
   "execution_count": 19,
   "id": "99d1925e-e516-4cea-89c2-180c923afbc0",
   "metadata": {},
   "outputs": [],
   "source": [
    "NEMO_basins_da = xr.DataArray(data=NEMO_basins,dims=ds_nemo_corr.dims)\n",
    "#compare_NEMO_basins_da = xr.DataArray(data=compare_NEMO_basins,dims=ds_nemo_corr.dims)"
   ]
  },
  {
   "cell_type": "code",
   "execution_count": null,
   "id": "84b7e811-140b-4d68-bce8-6369b83201d2",
   "metadata": {},
   "outputs": [],
   "source": [
    "# check the bounds are the right ones\n",
    "#(NEMO_basins_da - compare_NEMO_basins_da).where(compare_NEMO_basins_da != 6).plot(vmax=10)"
   ]
  },
  {
   "cell_type": "code",
   "execution_count": 20,
   "id": "d7be1940-bdfe-41cd-b427-c8a19eb21521",
   "metadata": {},
   "outputs": [],
   "source": [
    "# define basins \"present\" in NEMO\n",
    "ocean_mask = ds_nemo_file['bathy_metry'] > 0\n",
    "basin_in_ocean = NEMO_basins_da.where(ocean_mask)"
   ]
  },
  {
   "cell_type": "code",
   "execution_count": null,
   "id": "60d1bf3a-48ea-4e18-b6d1-f5db4e8ab7c9",
   "metadata": {},
   "outputs": [],
   "source": [
    "plt.figure()\n",
    "basin_in_ocean.plot(vmin=120,vmax=122)"
   ]
  },
  {
   "cell_type": "code",
   "execution_count": 21,
   "id": "cf5e8c50-3af3-48de-b68a-599ed7c30655",
   "metadata": {},
   "outputs": [
    {
     "name": "stderr",
     "output_type": "stream",
     "text": [
      "<ipython-input-21-b5f75a13dfc1>:2: RuntimeWarning: invalid value encountered in cast\n",
      "  NEMO_basins_list = np.unique(basin_in_ocean).astype(int)\n",
      "<ipython-input-21-b5f75a13dfc1>:3: RuntimeWarning: invalid value encountered in cast\n",
      "  ANT_basins_list = np.unique(basin_mask_nonresolved).astype(int)\n"
     ]
    }
   ],
   "source": [
    "# get list of ID avalable in NEMO along the 'coastal' band\n",
    "NEMO_basins_list = np.unique(basin_in_ocean).astype(int)\n",
    "ANT_basins_list = np.unique(basin_mask_nonresolved).astype(int)"
   ]
  },
  {
   "cell_type": "code",
   "execution_count": 22,
   "id": "03a15400-243d-40b5-94bf-b1bff0df6a5b",
   "metadata": {},
   "outputs": [
    {
     "name": "stdout",
     "output_type": "stream",
     "text": [
      "54\n",
      "56\n",
      "121\n",
      "193\n"
     ]
    }
   ],
   "source": [
    "basins_not_in_NEMO_grid = []\n",
    "for bbasin in ANT_basins_list:\n",
    "    if bbasin not in NEMO_basins_list:\n",
    "        print(bbasin)\n",
    "        basins_not_in_NEMO_grid.append(bbasin)"
   ]
  },
  {
   "cell_type": "code",
   "execution_count": null,
   "id": "332a6285-888a-46f5-8994-3345b0b9dd22",
   "metadata": {},
   "outputs": [],
   "source": [
    "basin_mask_nonresolved.plot()"
   ]
  },
  {
   "cell_type": "code",
   "execution_count": 23,
   "id": "e7f415e9-f00d-40b2-999d-b843e53b7e98",
   "metadata": {},
   "outputs": [],
   "source": [
    "ds_ANT_basins_missing = ds_ANT_basins.where(~ds_ANT_basins.isin(basins_not_in_NEMO_grid))"
   ]
  },
  {
   "cell_type": "code",
   "execution_count": 24,
   "id": "d08667ad-71f6-4fdb-be79-20a174950ddb",
   "metadata": {},
   "outputs": [],
   "source": [
    "def fill_nearest(xarr):\n",
    "    \"\"\"Fill NaNs using nearest-neighbor interpolation.\"\"\"\n",
    "    data = xarr.values\n",
    "    mask = np.isnan(data)\n",
    "    if not np.any(mask):\n",
    "        return xarr  # No NaNs to fill\n",
    "\n",
    "    # Get coordinates of valid (non-NaN) and NaN points\n",
    "    filled = ndimage.distance_transform_edt(mask, return_distances=False, return_indices=True)\n",
    "    filled_data = data[tuple(filled)]\n",
    "    return xr.DataArray(filled_data, coords=xarr.coords, dims=xarr.dims, attrs=xarr.attrs)\n"
   ]
  },
  {
   "cell_type": "code",
   "execution_count": 25,
   "id": "ac39e790-16d6-42c8-bf7a-a23239014da9",
   "metadata": {},
   "outputs": [],
   "source": [
    "# Apply to Dataset\n",
    "#filled_ds = basin_mask_nonresolved_missing.copy()\n",
    "filled_basins = fill_nearest(ds_ANT_basins_missing)\n",
    "basin_mask_nonresolved_clean = filled_basins.where(basin_mask_nonresolved > 0)"
   ]
  },
  {
   "cell_type": "code",
   "execution_count": null,
   "id": "708c62f1-07a3-4f06-b9a5-9529ff51838a",
   "metadata": {},
   "outputs": [],
   "source": [
    "basin_mask_nonresolved_clean.plot()"
   ]
  },
  {
   "cell_type": "code",
   "execution_count": 26,
   "id": "520b4334-d7ef-450d-a01f-99d68ae6300e",
   "metadata": {},
   "outputs": [
    {
     "name": "stderr",
     "output_type": "stream",
     "text": [
      "<ipython-input-26-ed589993423e>:2: RuntimeWarning: invalid value encountered in cast\n",
      "  new_ANT_basins_list = np.unique(basin_mask_nonresolved_clean).astype(int)\n"
     ]
    }
   ],
   "source": [
    "# Double check that I now only have basins left that are there both on the BedMachine and NEMO grid\n",
    "new_ANT_basins_list = np.unique(basin_mask_nonresolved_clean).astype(int)"
   ]
  },
  {
   "cell_type": "code",
   "execution_count": null,
   "id": "44bdc20d-cde8-40d5-90dc-80cbe8b3d9fb",
   "metadata": {},
   "outputs": [],
   "source": [
    "for bbasin in new_ANT_basins_list:\n",
    "    if bbasin not in NEMO_basins_list:\n",
    "        print(bbasin)"
   ]
  },
  {
   "cell_type": "code",
   "execution_count": null,
   "id": "1f074b3b-fc3a-4285-a366-9fabbafe452f",
   "metadata": {},
   "outputs": [],
   "source": [
    "# Here the mask for the unresolved regions is ready! Congrats!"
   ]
  },
  {
   "cell_type": "code",
   "execution_count": null,
   "id": "b746bbb1-02c5-4c07-a264-a6b1d34faec0",
   "metadata": {},
   "outputs": [],
   "source": [
    "np.isfinite(basin_mask_nonresolved_clean).plot()"
   ]
  },
  {
   "cell_type": "code",
   "execution_count": null,
   "id": "49b97316-b5cf-4ed8-aeaf-3bc28ada5296",
   "metadata": {},
   "outputs": [],
   "source": [
    "# Write to file (no it does not make sense because the things are not resolved...)\n",
    "# NEMO_mask = np.isfinite(basin_mask_nonresolved_clean)\n",
    "# NEMO_base = ds_nemo['isf_draft']*NEMO_mask\n",
    "# NEMO_bathy= ds_nemo['bathy_metry']*NEMO_mask"
   ]
  },
  {
   "cell_type": "markdown",
   "id": "a0d241dc-abc6-4c3d-a303-df021e269bd7",
   "metadata": {},
   "source": [
    "Compute the area scale factor"
   ]
  },
  {
   "cell_type": "code",
   "execution_count": null,
   "id": "115096ab-5155-46d2-abda-4b845d0a02ba",
   "metadata": {},
   "outputs": [],
   "source": [
    "# will need to do a loop over all numbers in new_ANT_basins_list\n",
    "# for each, compute area of unresolved area at each depth\n",
    "# isfpar_area the non-resolved ice shelf area (m^2) per basin and per vertical level\n",
    "# isfpar_basin the map of basin numbers\n",
    "# zmin and zmax (double check how I did it before with zmin and zmax"
   ]
  },
  {
   "cell_type": "code",
   "execution_count": 27,
   "id": "f5ac572a-b2d1-4678-80b6-ce4ecc01d8f1",
   "metadata": {},
   "outputs": [],
   "source": [
    "mesh_mask = xr.open_dataset(inputpath_NEMO + 'eORCA1.4.3_OpenSeas_OpenAllCav_ModStraights_mesh_mask_withgrid.nc')"
   ]
  },
  {
   "cell_type": "code",
   "execution_count": 28,
   "id": "f9a063ed-3ea1-4f1b-ae53-602b3a355439",
   "metadata": {},
   "outputs": [],
   "source": [
    "tmask_3D = mesh_mask['tmask'].squeeze().drop('time_counter').astype(float)"
   ]
  },
  {
   "cell_type": "code",
   "execution_count": 29,
   "id": "4d2891ab-65cb-411b-88ab-d65c09d0581a",
   "metadata": {},
   "outputs": [],
   "source": [
    "isfcellconc_3D_BMgrid0 = cdo.remapbil(fBedMachine_grid,input=tmask_3D, returnArray='tmask')"
   ]
  },
  {
   "cell_type": "code",
   "execution_count": null,
   "id": "1954943f-2d8d-45c1-b9df-ac17e81bfd81",
   "metadata": {},
   "outputs": [],
   "source": [
    "isfcellconc_3D_BMgrid0.shape"
   ]
  },
  {
   "cell_type": "code",
   "execution_count": 30,
   "id": "ca5babaf-05a2-4646-b95c-a88ce514ed55",
   "metadata": {},
   "outputs": [],
   "source": [
    "isfcellconc_3D_BMgrid = xr.DataArray(data=isfcellconc_3D_BMgrid0, dims=['depth','y','x']).assign_coords({'y': BedMachine_grid.y, \n",
    "                                                         'x': BedMachine_grid.x, 'depth': tmask_3D.nav_lev.values})"
   ]
  },
  {
   "cell_type": "code",
   "execution_count": 31,
   "id": "f3b91375-2498-44e2-8acd-bd64a2918612",
   "metadata": {},
   "outputs": [
    {
     "data": {
      "text/plain": [
       "<matplotlib.collections.QuadMesh at 0x148d19153be0>"
      ]
     },
     "execution_count": 31,
     "metadata": {},
     "output_type": "execute_result"
    }
   ],
   "source": [
    "# check the depth-level dependent ice-shelf concentration\n",
    "isfcellconc_3D_BMgrid.isel(depth=40).where((isfcellconc_3D_BMgrid.isel(depth=40) > 0) \n",
    "                                           & (isfcellconc_3D_BMgrid.isel(depth=40) < 1)).plot()"
   ]
  },
  {
   "cell_type": "code",
   "execution_count": 32,
   "id": "84be8d74-cc25-4729-95bd-8636774ffadb",
   "metadata": {},
   "outputs": [],
   "source": [
    "grid_cell_area = xr.open_dataset(inputpath_NEMO_interim + 'ISMIP6_grid_AIS_2000m.nc')['cell_area'] # this is not correct yet but using it in the meantime"
   ]
  },
  {
   "cell_type": "code",
   "execution_count": 33,
   "id": "a5b0db5e-5c49-4517-a4f6-b0ada608ed4a",
   "metadata": {},
   "outputs": [],
   "source": [
    "area_per_depth = grid_cell_area * isfcellconc_3D_BMgrid"
   ]
  },
  {
   "cell_type": "code",
   "execution_count": 34,
   "id": "f675c6c1-a76a-478f-ae87-142203c4c057",
   "metadata": {},
   "outputs": [
    {
     "data": {
      "application/vnd.jupyter.widget-view+json": {
       "model_id": "307d9d0ca6104dbea76323b0c18cf0a2",
       "version_major": 2,
       "version_minor": 0
      },
      "text/plain": [
       "  0%|          | 0/130 [00:00<?, ?it/s]"
      ]
     },
     "metadata": {},
     "output_type": "display_data"
    },
    {
     "ename": "ValueError",
     "evalue": "Cannot apply_along_axis when any iteration dimensions are 0",
     "output_type": "error",
     "traceback": [
      "\u001b[0;31m---------------------------------------------------------------------------\u001b[0m",
      "\u001b[0;31mValueError\u001b[0m                                Traceback (most recent call last)",
      "Cell \u001b[0;32mIn[34], line 3\u001b[0m\n\u001b[1;32m      1\u001b[0m isfpar_area_list \u001b[38;5;241m=\u001b[39m []\n\u001b[1;32m      2\u001b[0m \u001b[38;5;28;01mfor\u001b[39;00m bbasin \u001b[38;5;129;01min\u001b[39;00m tqdm(new_ANT_basins_list):\n\u001b[0;32m----> 3\u001b[0m     isfpar_area_bb \u001b[38;5;241m=\u001b[39m \u001b[43marea_per_depth\u001b[49m\u001b[38;5;241;43m.\u001b[39;49m\u001b[43mwhere\u001b[49m\u001b[43m(\u001b[49m\u001b[43mbasin_mask_nonresolved_clean\u001b[49m\u001b[43m \u001b[49m\u001b[38;5;241;43m==\u001b[39;49m\u001b[43m \u001b[49m\u001b[43mbbasin\u001b[49m\u001b[43m,\u001b[49m\u001b[43m \u001b[49m\u001b[43mdrop\u001b[49m\u001b[38;5;241;43m=\u001b[39;49m\u001b[38;5;28;43;01mTrue\u001b[39;49;00m\u001b[43m)\u001b[49m\u001b[38;5;241m.\u001b[39msum([\u001b[38;5;124m'\u001b[39m\u001b[38;5;124my\u001b[39m\u001b[38;5;124m'\u001b[39m,\u001b[38;5;124m'\u001b[39m\u001b[38;5;124mx\u001b[39m\u001b[38;5;124m'\u001b[39m])\n\u001b[1;32m      4\u001b[0m     isfpar_area_list\u001b[38;5;241m.\u001b[39mappend(isfpar_area_bb\u001b[38;5;241m.\u001b[39mrename({\u001b[38;5;124m'\u001b[39m\u001b[38;5;124mdepth\u001b[39m\u001b[38;5;124m'\u001b[39m: \u001b[38;5;124m'\u001b[39m\u001b[38;5;124mnav_lev\u001b[39m\u001b[38;5;124m'\u001b[39m})\u001b[38;5;241m.\u001b[39massign_coords({\u001b[38;5;124m'\u001b[39m\u001b[38;5;124mbasin\u001b[39m\u001b[38;5;124m'\u001b[39m: bbasin}))\n\u001b[1;32m      5\u001b[0m isfpar_area_all \u001b[38;5;241m=\u001b[39m xr\u001b[38;5;241m.\u001b[39mconcat(isfpar_area_list, dim\u001b[38;5;241m=\u001b[39m\u001b[38;5;124m'\u001b[39m\u001b[38;5;124mbasin\u001b[39m\u001b[38;5;124m'\u001b[39m)\n",
      "File \u001b[0;32m~/.local/lib/python3.8/site-packages/xarray/core/common.py:1134\u001b[0m, in \u001b[0;36mDataWithCoords.where\u001b[0;34m(self, cond, other, drop)\u001b[0m\n\u001b[1;32m   1131\u001b[0m     \u001b[38;5;28mself\u001b[39m \u001b[38;5;241m=\u001b[39m \u001b[38;5;28mself\u001b[39m\u001b[38;5;241m.\u001b[39misel(\u001b[38;5;241m*\u001b[39m\u001b[38;5;241m*\u001b[39mindexers)\n\u001b[1;32m   1132\u001b[0m     cond \u001b[38;5;241m=\u001b[39m cond\u001b[38;5;241m.\u001b[39misel(\u001b[38;5;241m*\u001b[39m\u001b[38;5;241m*\u001b[39mindexers)\n\u001b[0;32m-> 1134\u001b[0m \u001b[38;5;28;01mreturn\u001b[39;00m \u001b[43mops\u001b[49m\u001b[38;5;241;43m.\u001b[39;49m\u001b[43mwhere_method\u001b[49m\u001b[43m(\u001b[49m\u001b[38;5;28;43mself\u001b[39;49m\u001b[43m,\u001b[49m\u001b[43m \u001b[49m\u001b[43mcond\u001b[49m\u001b[43m,\u001b[49m\u001b[43m \u001b[49m\u001b[43mother\u001b[49m\u001b[43m)\u001b[49m\n",
      "File \u001b[0;32m~/.local/lib/python3.8/site-packages/xarray/core/ops.py:177\u001b[0m, in \u001b[0;36mwhere_method\u001b[0;34m(self, cond, other)\u001b[0m\n\u001b[1;32m    175\u001b[0m \u001b[38;5;66;03m# alignment for three arguments is complicated, so don't support it yet\u001b[39;00m\n\u001b[1;32m    176\u001b[0m join \u001b[38;5;241m=\u001b[39m \u001b[38;5;124m\"\u001b[39m\u001b[38;5;124minner\u001b[39m\u001b[38;5;124m\"\u001b[39m \u001b[38;5;28;01mif\u001b[39;00m other \u001b[38;5;129;01mis\u001b[39;00m dtypes\u001b[38;5;241m.\u001b[39mNA \u001b[38;5;28;01melse\u001b[39;00m \u001b[38;5;124m\"\u001b[39m\u001b[38;5;124mexact\u001b[39m\u001b[38;5;124m\"\u001b[39m\n\u001b[0;32m--> 177\u001b[0m \u001b[38;5;28;01mreturn\u001b[39;00m \u001b[43mapply_ufunc\u001b[49m\u001b[43m(\u001b[49m\n\u001b[1;32m    178\u001b[0m \u001b[43m    \u001b[49m\u001b[43mduck_array_ops\u001b[49m\u001b[38;5;241;43m.\u001b[39;49m\u001b[43mwhere_method\u001b[49m\u001b[43m,\u001b[49m\n\u001b[1;32m    179\u001b[0m \u001b[43m    \u001b[49m\u001b[38;5;28;43mself\u001b[39;49m\u001b[43m,\u001b[49m\n\u001b[1;32m    180\u001b[0m \u001b[43m    \u001b[49m\u001b[43mcond\u001b[49m\u001b[43m,\u001b[49m\n\u001b[1;32m    181\u001b[0m \u001b[43m    \u001b[49m\u001b[43mother\u001b[49m\u001b[43m,\u001b[49m\n\u001b[1;32m    182\u001b[0m \u001b[43m    \u001b[49m\u001b[43mjoin\u001b[49m\u001b[38;5;241;43m=\u001b[39;49m\u001b[43mjoin\u001b[49m\u001b[43m,\u001b[49m\n\u001b[1;32m    183\u001b[0m \u001b[43m    \u001b[49m\u001b[43mdataset_join\u001b[49m\u001b[38;5;241;43m=\u001b[39;49m\u001b[43mjoin\u001b[49m\u001b[43m,\u001b[49m\n\u001b[1;32m    184\u001b[0m \u001b[43m    \u001b[49m\u001b[43mdask\u001b[49m\u001b[38;5;241;43m=\u001b[39;49m\u001b[38;5;124;43m\"\u001b[39;49m\u001b[38;5;124;43mallowed\u001b[39;49m\u001b[38;5;124;43m\"\u001b[39;49m\u001b[43m,\u001b[49m\n\u001b[1;32m    185\u001b[0m \u001b[43m    \u001b[49m\u001b[43mkeep_attrs\u001b[49m\u001b[38;5;241;43m=\u001b[39;49m\u001b[38;5;28;43;01mTrue\u001b[39;49;00m\u001b[43m,\u001b[49m\n\u001b[1;32m    186\u001b[0m \u001b[43m\u001b[49m\u001b[43m)\u001b[49m\n",
      "File \u001b[0;32m~/.local/lib/python3.8/site-packages/xarray/core/computation.py:1208\u001b[0m, in \u001b[0;36mapply_ufunc\u001b[0;34m(func, input_core_dims, output_core_dims, exclude_dims, vectorize, join, dataset_join, dataset_fill_value, keep_attrs, kwargs, dask, output_dtypes, output_sizes, meta, dask_gufunc_kwargs, *args)\u001b[0m\n\u001b[1;32m   1206\u001b[0m \u001b[38;5;66;03m# feed DataArray apply_variable_ufunc through apply_dataarray_vfunc\u001b[39;00m\n\u001b[1;32m   1207\u001b[0m \u001b[38;5;28;01melif\u001b[39;00m \u001b[38;5;28many\u001b[39m(\u001b[38;5;28misinstance\u001b[39m(a, DataArray) \u001b[38;5;28;01mfor\u001b[39;00m a \u001b[38;5;129;01min\u001b[39;00m args):\n\u001b[0;32m-> 1208\u001b[0m     \u001b[38;5;28;01mreturn\u001b[39;00m \u001b[43mapply_dataarray_vfunc\u001b[49m\u001b[43m(\u001b[49m\n\u001b[1;32m   1209\u001b[0m \u001b[43m        \u001b[49m\u001b[43mvariables_vfunc\u001b[49m\u001b[43m,\u001b[49m\n\u001b[1;32m   1210\u001b[0m \u001b[43m        \u001b[49m\u001b[38;5;241;43m*\u001b[39;49m\u001b[43margs\u001b[49m\u001b[43m,\u001b[49m\n\u001b[1;32m   1211\u001b[0m \u001b[43m        \u001b[49m\u001b[43msignature\u001b[49m\u001b[38;5;241;43m=\u001b[39;49m\u001b[43msignature\u001b[49m\u001b[43m,\u001b[49m\n\u001b[1;32m   1212\u001b[0m \u001b[43m        \u001b[49m\u001b[43mjoin\u001b[49m\u001b[38;5;241;43m=\u001b[39;49m\u001b[43mjoin\u001b[49m\u001b[43m,\u001b[49m\n\u001b[1;32m   1213\u001b[0m \u001b[43m        \u001b[49m\u001b[43mexclude_dims\u001b[49m\u001b[38;5;241;43m=\u001b[39;49m\u001b[43mexclude_dims\u001b[49m\u001b[43m,\u001b[49m\n\u001b[1;32m   1214\u001b[0m \u001b[43m        \u001b[49m\u001b[43mkeep_attrs\u001b[49m\u001b[38;5;241;43m=\u001b[39;49m\u001b[43mkeep_attrs\u001b[49m\u001b[43m,\u001b[49m\n\u001b[1;32m   1215\u001b[0m \u001b[43m    \u001b[49m\u001b[43m)\u001b[49m\n\u001b[1;32m   1216\u001b[0m \u001b[38;5;66;03m# feed Variables directly through apply_variable_ufunc\u001b[39;00m\n\u001b[1;32m   1217\u001b[0m \u001b[38;5;28;01melif\u001b[39;00m \u001b[38;5;28many\u001b[39m(\u001b[38;5;28misinstance\u001b[39m(a, Variable) \u001b[38;5;28;01mfor\u001b[39;00m a \u001b[38;5;129;01min\u001b[39;00m args):\n",
      "File \u001b[0;32m~/.local/lib/python3.8/site-packages/xarray/core/computation.py:310\u001b[0m, in \u001b[0;36mapply_dataarray_vfunc\u001b[0;34m(func, signature, join, exclude_dims, keep_attrs, *args)\u001b[0m\n\u001b[1;32m    308\u001b[0m     first_obj \u001b[38;5;241m=\u001b[39m _first_of_type(args, DataArray)\n\u001b[1;32m    309\u001b[0m     name \u001b[38;5;241m=\u001b[39m first_obj\u001b[38;5;241m.\u001b[39mname\n\u001b[0;32m--> 310\u001b[0m result_coords, result_indexes \u001b[38;5;241m=\u001b[39m \u001b[43mbuild_output_coords_and_indexes\u001b[49m\u001b[43m(\u001b[49m\n\u001b[1;32m    311\u001b[0m \u001b[43m    \u001b[49m\u001b[43margs\u001b[49m\u001b[43m,\u001b[49m\u001b[43m \u001b[49m\u001b[43msignature\u001b[49m\u001b[43m,\u001b[49m\u001b[43m \u001b[49m\u001b[43mexclude_dims\u001b[49m\u001b[43m,\u001b[49m\u001b[43m \u001b[49m\u001b[43mcombine_attrs\u001b[49m\u001b[38;5;241;43m=\u001b[39;49m\u001b[43mkeep_attrs\u001b[49m\n\u001b[1;32m    312\u001b[0m \u001b[43m\u001b[49m\u001b[43m)\u001b[49m\n\u001b[1;32m    314\u001b[0m data_vars \u001b[38;5;241m=\u001b[39m [\u001b[38;5;28mgetattr\u001b[39m(a, \u001b[38;5;124m\"\u001b[39m\u001b[38;5;124mvariable\u001b[39m\u001b[38;5;124m\"\u001b[39m, a) \u001b[38;5;28;01mfor\u001b[39;00m a \u001b[38;5;129;01min\u001b[39;00m args]\n\u001b[1;32m    315\u001b[0m result_var \u001b[38;5;241m=\u001b[39m func(\u001b[38;5;241m*\u001b[39mdata_vars)\n",
      "File \u001b[0;32m~/.local/lib/python3.8/site-packages/xarray/core/computation.py:261\u001b[0m, in \u001b[0;36mbuild_output_coords_and_indexes\u001b[0;34m(args, signature, exclude_dims, combine_attrs)\u001b[0m\n\u001b[1;32m    259\u001b[0m     merged_indexes \u001b[38;5;241m=\u001b[39m \u001b[38;5;28mdict\u001b[39m(unpacked_coords\u001b[38;5;241m.\u001b[39mxindexes)\n\u001b[1;32m    260\u001b[0m \u001b[38;5;28;01melse\u001b[39;00m:\n\u001b[0;32m--> 261\u001b[0m     merged_vars, merged_indexes \u001b[38;5;241m=\u001b[39m \u001b[43mmerge_coordinates_without_align\u001b[49m\u001b[43m(\u001b[49m\n\u001b[1;32m    262\u001b[0m \u001b[43m        \u001b[49m\u001b[43mcoords_list\u001b[49m\u001b[43m,\u001b[49m\u001b[43m \u001b[49m\u001b[43mexclude_dims\u001b[49m\u001b[38;5;241;43m=\u001b[39;49m\u001b[43mexclude_dims\u001b[49m\u001b[43m,\u001b[49m\u001b[43m \u001b[49m\u001b[43mcombine_attrs\u001b[49m\u001b[38;5;241;43m=\u001b[39;49m\u001b[43mcombine_attrs\u001b[49m\n\u001b[1;32m    263\u001b[0m \u001b[43m    \u001b[49m\u001b[43m)\u001b[49m\n\u001b[1;32m    265\u001b[0m output_coords \u001b[38;5;241m=\u001b[39m []\n\u001b[1;32m    266\u001b[0m output_indexes \u001b[38;5;241m=\u001b[39m []\n",
      "File \u001b[0;32m~/.local/lib/python3.8/site-packages/xarray/core/merge.py:420\u001b[0m, in \u001b[0;36mmerge_coordinates_without_align\u001b[0;34m(objects, prioritized, exclude_dims, combine_attrs)\u001b[0m\n\u001b[1;32m    416\u001b[0m     filtered \u001b[38;5;241m=\u001b[39m collected\n\u001b[1;32m    418\u001b[0m \u001b[38;5;66;03m# TODO: indexes should probably be filtered in collected elements\u001b[39;00m\n\u001b[1;32m    419\u001b[0m \u001b[38;5;66;03m# before merging them\u001b[39;00m\n\u001b[0;32m--> 420\u001b[0m merged_coords, merged_indexes \u001b[38;5;241m=\u001b[39m \u001b[43mmerge_collected\u001b[49m\u001b[43m(\u001b[49m\n\u001b[1;32m    421\u001b[0m \u001b[43m    \u001b[49m\u001b[43mfiltered\u001b[49m\u001b[43m,\u001b[49m\u001b[43m \u001b[49m\u001b[43mprioritized\u001b[49m\u001b[43m,\u001b[49m\u001b[43m \u001b[49m\u001b[43mcombine_attrs\u001b[49m\u001b[38;5;241;43m=\u001b[39;49m\u001b[43mcombine_attrs\u001b[49m\n\u001b[1;32m    422\u001b[0m \u001b[43m\u001b[49m\u001b[43m)\u001b[49m\n\u001b[1;32m    423\u001b[0m merged_indexes \u001b[38;5;241m=\u001b[39m filter_indexes_from_coords(merged_indexes, \u001b[38;5;28mset\u001b[39m(merged_coords))\n\u001b[1;32m    425\u001b[0m \u001b[38;5;28;01mreturn\u001b[39;00m merged_coords, merged_indexes\n",
      "File \u001b[0;32m~/.local/lib/python3.8/site-packages/xarray/core/merge.py:302\u001b[0m, in \u001b[0;36mmerge_collected\u001b[0;34m(grouped, prioritized, compat, combine_attrs, equals)\u001b[0m\n\u001b[1;32m    300\u001b[0m variables \u001b[38;5;241m=\u001b[39m [variable \u001b[38;5;28;01mfor\u001b[39;00m variable, _ \u001b[38;5;129;01min\u001b[39;00m elements_list]\n\u001b[1;32m    301\u001b[0m \u001b[38;5;28;01mtry\u001b[39;00m:\n\u001b[0;32m--> 302\u001b[0m     merged_vars[name] \u001b[38;5;241m=\u001b[39m \u001b[43munique_variable\u001b[49m\u001b[43m(\u001b[49m\n\u001b[1;32m    303\u001b[0m \u001b[43m        \u001b[49m\u001b[43mname\u001b[49m\u001b[43m,\u001b[49m\u001b[43m \u001b[49m\u001b[43mvariables\u001b[49m\u001b[43m,\u001b[49m\u001b[43m \u001b[49m\u001b[43mcompat\u001b[49m\u001b[43m,\u001b[49m\u001b[43m \u001b[49m\u001b[43mequals\u001b[49m\u001b[38;5;241;43m.\u001b[39;49m\u001b[43mget\u001b[49m\u001b[43m(\u001b[49m\u001b[43mname\u001b[49m\u001b[43m,\u001b[49m\u001b[43m \u001b[49m\u001b[38;5;28;43;01mNone\u001b[39;49;00m\u001b[43m)\u001b[49m\n\u001b[1;32m    304\u001b[0m \u001b[43m    \u001b[49m\u001b[43m)\u001b[49m\n\u001b[1;32m    305\u001b[0m \u001b[38;5;28;01mexcept\u001b[39;00m MergeError:\n\u001b[1;32m    306\u001b[0m     \u001b[38;5;28;01mif\u001b[39;00m compat \u001b[38;5;241m!=\u001b[39m \u001b[38;5;124m\"\u001b[39m\u001b[38;5;124mminimal\u001b[39m\u001b[38;5;124m\"\u001b[39m:\n\u001b[1;32m    307\u001b[0m         \u001b[38;5;66;03m# we need more than \"minimal\" compatibility (for which\u001b[39;00m\n\u001b[1;32m    308\u001b[0m         \u001b[38;5;66;03m# we drop conflicting coordinates)\u001b[39;00m\n",
      "File \u001b[0;32m~/.local/lib/python3.8/site-packages/xarray/core/merge.py:135\u001b[0m, in \u001b[0;36munique_variable\u001b[0;34m(name, variables, compat, equals)\u001b[0m\n\u001b[1;32m    133\u001b[0m \u001b[38;5;28;01mif\u001b[39;00m compat \u001b[38;5;241m==\u001b[39m \u001b[38;5;124m\"\u001b[39m\u001b[38;5;124mbroadcast_equals\u001b[39m\u001b[38;5;124m\"\u001b[39m:\n\u001b[1;32m    134\u001b[0m     dim_lengths \u001b[38;5;241m=\u001b[39m broadcast_dimension_size(variables)\n\u001b[0;32m--> 135\u001b[0m     out \u001b[38;5;241m=\u001b[39m \u001b[43mout\u001b[49m\u001b[38;5;241;43m.\u001b[39;49m\u001b[43mset_dims\u001b[49m\u001b[43m(\u001b[49m\u001b[43mdim_lengths\u001b[49m\u001b[43m)\u001b[49m\n\u001b[1;32m    137\u001b[0m \u001b[38;5;28;01mif\u001b[39;00m compat \u001b[38;5;241m==\u001b[39m \u001b[38;5;124m\"\u001b[39m\u001b[38;5;124mno_conflicts\u001b[39m\u001b[38;5;124m\"\u001b[39m:\n\u001b[1;32m    138\u001b[0m     combine_method \u001b[38;5;241m=\u001b[39m \u001b[38;5;124m\"\u001b[39m\u001b[38;5;124mfillna\u001b[39m\u001b[38;5;124m\"\u001b[39m\n",
      "File \u001b[0;32m~/.local/lib/python3.8/site-packages/xarray/core/variable.py:1664\u001b[0m, in \u001b[0;36mVariable.set_dims\u001b[0;34m(self, dims, shape)\u001b[0m\n\u001b[1;32m   1659\u001b[0m expanded_dims \u001b[38;5;241m=\u001b[39m \u001b[38;5;28mtuple\u001b[39m(d \u001b[38;5;28;01mfor\u001b[39;00m d \u001b[38;5;129;01min\u001b[39;00m dims \u001b[38;5;28;01mif\u001b[39;00m d \u001b[38;5;129;01mnot\u001b[39;00m \u001b[38;5;129;01min\u001b[39;00m self_dims) \u001b[38;5;241m+\u001b[39m \u001b[38;5;28mself\u001b[39m\u001b[38;5;241m.\u001b[39mdims\n\u001b[1;32m   1661\u001b[0m \u001b[38;5;28;01mif\u001b[39;00m \u001b[38;5;28mself\u001b[39m\u001b[38;5;241m.\u001b[39mdims \u001b[38;5;241m==\u001b[39m expanded_dims:\n\u001b[1;32m   1662\u001b[0m     \u001b[38;5;66;03m# don't use broadcast_to unless necessary so the result remains\u001b[39;00m\n\u001b[1;32m   1663\u001b[0m     \u001b[38;5;66;03m# writeable if possible\u001b[39;00m\n\u001b[0;32m-> 1664\u001b[0m     expanded_data \u001b[38;5;241m=\u001b[39m \u001b[38;5;28;43mself\u001b[39;49m\u001b[38;5;241;43m.\u001b[39;49m\u001b[43mdata\u001b[49m\n\u001b[1;32m   1665\u001b[0m \u001b[38;5;28;01melif\u001b[39;00m shape \u001b[38;5;129;01mis\u001b[39;00m \u001b[38;5;129;01mnot\u001b[39;00m \u001b[38;5;28;01mNone\u001b[39;00m:\n\u001b[1;32m   1666\u001b[0m     dims_map \u001b[38;5;241m=\u001b[39m \u001b[38;5;28mdict\u001b[39m(\u001b[38;5;28mzip\u001b[39m(dims, shape))\n",
      "File \u001b[0;32m~/.local/lib/python3.8/site-packages/xarray/core/variable.py:434\u001b[0m, in \u001b[0;36mVariable.data\u001b[0;34m(self)\u001b[0m\n\u001b[1;32m    432\u001b[0m     \u001b[38;5;28;01mreturn\u001b[39;00m \u001b[38;5;28mself\u001b[39m\u001b[38;5;241m.\u001b[39m_data\n\u001b[1;32m    433\u001b[0m \u001b[38;5;28;01melse\u001b[39;00m:\n\u001b[0;32m--> 434\u001b[0m     \u001b[38;5;28;01mreturn\u001b[39;00m \u001b[38;5;28;43mself\u001b[39;49m\u001b[38;5;241;43m.\u001b[39;49m\u001b[43mvalues\u001b[49m\n",
      "File \u001b[0;32m~/.local/lib/python3.8/site-packages/xarray/core/variable.py:607\u001b[0m, in \u001b[0;36mVariable.values\u001b[0;34m(self)\u001b[0m\n\u001b[1;32m    604\u001b[0m \u001b[38;5;129m@property\u001b[39m\n\u001b[1;32m    605\u001b[0m \u001b[38;5;28;01mdef\u001b[39;00m\u001b[38;5;250m \u001b[39m\u001b[38;5;21mvalues\u001b[39m(\u001b[38;5;28mself\u001b[39m):\n\u001b[1;32m    606\u001b[0m \u001b[38;5;250m    \u001b[39m\u001b[38;5;124;03m\"\"\"The variable's data as a numpy.ndarray\"\"\"\u001b[39;00m\n\u001b[0;32m--> 607\u001b[0m     \u001b[38;5;28;01mreturn\u001b[39;00m \u001b[43m_as_array_or_item\u001b[49m\u001b[43m(\u001b[49m\u001b[38;5;28;43mself\u001b[39;49m\u001b[38;5;241;43m.\u001b[39;49m\u001b[43m_data\u001b[49m\u001b[43m)\u001b[49m\n",
      "File \u001b[0;32m~/.local/lib/python3.8/site-packages/xarray/core/variable.py:313\u001b[0m, in \u001b[0;36m_as_array_or_item\u001b[0;34m(data)\u001b[0m\n\u001b[1;32m    299\u001b[0m \u001b[38;5;28;01mdef\u001b[39;00m\u001b[38;5;250m \u001b[39m\u001b[38;5;21m_as_array_or_item\u001b[39m(data):\n\u001b[1;32m    300\u001b[0m \u001b[38;5;250m    \u001b[39m\u001b[38;5;124;03m\"\"\"Return the given values as a numpy array, or as an individual item if\u001b[39;00m\n\u001b[1;32m    301\u001b[0m \u001b[38;5;124;03m    it's a 0d datetime64 or timedelta64 array.\u001b[39;00m\n\u001b[1;32m    302\u001b[0m \n\u001b[0;32m   (...)\u001b[0m\n\u001b[1;32m    311\u001b[0m \u001b[38;5;124;03m    TODO: remove this (replace with np.asarray) once these issues are fixed\u001b[39;00m\n\u001b[1;32m    312\u001b[0m \u001b[38;5;124;03m    \"\"\"\u001b[39;00m\n\u001b[0;32m--> 313\u001b[0m     data \u001b[38;5;241m=\u001b[39m \u001b[43mnp\u001b[49m\u001b[38;5;241;43m.\u001b[39;49m\u001b[43masarray\u001b[49m\u001b[43m(\u001b[49m\u001b[43mdata\u001b[49m\u001b[43m)\u001b[49m\n\u001b[1;32m    314\u001b[0m     \u001b[38;5;28;01mif\u001b[39;00m data\u001b[38;5;241m.\u001b[39mndim \u001b[38;5;241m==\u001b[39m \u001b[38;5;241m0\u001b[39m:\n\u001b[1;32m    315\u001b[0m         \u001b[38;5;28;01mif\u001b[39;00m data\u001b[38;5;241m.\u001b[39mdtype\u001b[38;5;241m.\u001b[39mkind \u001b[38;5;241m==\u001b[39m \u001b[38;5;124m\"\u001b[39m\u001b[38;5;124mM\u001b[39m\u001b[38;5;124m\"\u001b[39m:\n",
      "File \u001b[0;32m~/.local/lib/python3.8/site-packages/xarray/core/indexing.py:658\u001b[0m, in \u001b[0;36mMemoryCachedArray.__array__\u001b[0;34m(self, dtype)\u001b[0m\n\u001b[1;32m    657\u001b[0m \u001b[38;5;28;01mdef\u001b[39;00m\u001b[38;5;250m \u001b[39m\u001b[38;5;21m__array__\u001b[39m(\u001b[38;5;28mself\u001b[39m, dtype\u001b[38;5;241m=\u001b[39m\u001b[38;5;28;01mNone\u001b[39;00m):\n\u001b[0;32m--> 658\u001b[0m     \u001b[38;5;28;43mself\u001b[39;49m\u001b[38;5;241;43m.\u001b[39;49m\u001b[43m_ensure_cached\u001b[49m\u001b[43m(\u001b[49m\u001b[43m)\u001b[49m\n\u001b[1;32m    659\u001b[0m     \u001b[38;5;28;01mreturn\u001b[39;00m np\u001b[38;5;241m.\u001b[39masarray(\u001b[38;5;28mself\u001b[39m\u001b[38;5;241m.\u001b[39marray, dtype\u001b[38;5;241m=\u001b[39mdtype)\n",
      "File \u001b[0;32m~/.local/lib/python3.8/site-packages/xarray/core/indexing.py:655\u001b[0m, in \u001b[0;36mMemoryCachedArray._ensure_cached\u001b[0;34m(self)\u001b[0m\n\u001b[1;32m    653\u001b[0m \u001b[38;5;28;01mdef\u001b[39;00m\u001b[38;5;250m \u001b[39m\u001b[38;5;21m_ensure_cached\u001b[39m(\u001b[38;5;28mself\u001b[39m):\n\u001b[1;32m    654\u001b[0m     \u001b[38;5;28;01mif\u001b[39;00m \u001b[38;5;129;01mnot\u001b[39;00m \u001b[38;5;28misinstance\u001b[39m(\u001b[38;5;28mself\u001b[39m\u001b[38;5;241m.\u001b[39marray, NumpyIndexingAdapter):\n\u001b[0;32m--> 655\u001b[0m         \u001b[38;5;28mself\u001b[39m\u001b[38;5;241m.\u001b[39marray \u001b[38;5;241m=\u001b[39m NumpyIndexingAdapter(\u001b[43mnp\u001b[49m\u001b[38;5;241;43m.\u001b[39;49m\u001b[43masarray\u001b[49m\u001b[43m(\u001b[49m\u001b[38;5;28;43mself\u001b[39;49m\u001b[38;5;241;43m.\u001b[39;49m\u001b[43marray\u001b[49m\u001b[43m)\u001b[49m)\n",
      "File \u001b[0;32m~/.local/lib/python3.8/site-packages/xarray/core/indexing.py:628\u001b[0m, in \u001b[0;36mCopyOnWriteArray.__array__\u001b[0;34m(self, dtype)\u001b[0m\n\u001b[1;32m    627\u001b[0m \u001b[38;5;28;01mdef\u001b[39;00m\u001b[38;5;250m \u001b[39m\u001b[38;5;21m__array__\u001b[39m(\u001b[38;5;28mself\u001b[39m, dtype\u001b[38;5;241m=\u001b[39m\u001b[38;5;28;01mNone\u001b[39;00m):\n\u001b[0;32m--> 628\u001b[0m     \u001b[38;5;28;01mreturn\u001b[39;00m \u001b[43mnp\u001b[49m\u001b[38;5;241;43m.\u001b[39;49m\u001b[43masarray\u001b[49m\u001b[43m(\u001b[49m\u001b[38;5;28;43mself\u001b[39;49m\u001b[38;5;241;43m.\u001b[39;49m\u001b[43marray\u001b[49m\u001b[43m,\u001b[49m\u001b[43m \u001b[49m\u001b[43mdtype\u001b[49m\u001b[38;5;241;43m=\u001b[39;49m\u001b[43mdtype\u001b[49m\u001b[43m)\u001b[49m\n",
      "File \u001b[0;32m~/.local/lib/python3.8/site-packages/xarray/core/indexing.py:529\u001b[0m, in \u001b[0;36mLazilyIndexedArray.__array__\u001b[0;34m(self, dtype)\u001b[0m\n\u001b[1;32m    527\u001b[0m \u001b[38;5;28;01mdef\u001b[39;00m\u001b[38;5;250m \u001b[39m\u001b[38;5;21m__array__\u001b[39m(\u001b[38;5;28mself\u001b[39m, dtype\u001b[38;5;241m=\u001b[39m\u001b[38;5;28;01mNone\u001b[39;00m):\n\u001b[1;32m    528\u001b[0m     array \u001b[38;5;241m=\u001b[39m as_indexable(\u001b[38;5;28mself\u001b[39m\u001b[38;5;241m.\u001b[39marray)\n\u001b[0;32m--> 529\u001b[0m     \u001b[38;5;28;01mreturn\u001b[39;00m np\u001b[38;5;241m.\u001b[39masarray(\u001b[43marray\u001b[49m\u001b[43m[\u001b[49m\u001b[38;5;28;43mself\u001b[39;49m\u001b[38;5;241;43m.\u001b[39;49m\u001b[43mkey\u001b[49m\u001b[43m]\u001b[49m, dtype\u001b[38;5;241m=\u001b[39m\u001b[38;5;28;01mNone\u001b[39;00m)\n",
      "File \u001b[0;32m~/.local/lib/python3.8/site-packages/xarray/backends/netCDF4_.py:91\u001b[0m, in \u001b[0;36mNetCDF4ArrayWrapper.__getitem__\u001b[0;34m(self, key)\u001b[0m\n\u001b[1;32m     90\u001b[0m \u001b[38;5;28;01mdef\u001b[39;00m\u001b[38;5;250m \u001b[39m\u001b[38;5;21m__getitem__\u001b[39m(\u001b[38;5;28mself\u001b[39m, key):\n\u001b[0;32m---> 91\u001b[0m     \u001b[38;5;28;01mreturn\u001b[39;00m \u001b[43mindexing\u001b[49m\u001b[38;5;241;43m.\u001b[39;49m\u001b[43mexplicit_indexing_adapter\u001b[49m\u001b[43m(\u001b[49m\n\u001b[1;32m     92\u001b[0m \u001b[43m        \u001b[49m\u001b[43mkey\u001b[49m\u001b[43m,\u001b[49m\u001b[43m \u001b[49m\u001b[38;5;28;43mself\u001b[39;49m\u001b[38;5;241;43m.\u001b[39;49m\u001b[43mshape\u001b[49m\u001b[43m,\u001b[49m\u001b[43m \u001b[49m\u001b[43mindexing\u001b[49m\u001b[38;5;241;43m.\u001b[39;49m\u001b[43mIndexingSupport\u001b[49m\u001b[38;5;241;43m.\u001b[39;49m\u001b[43mOUTER\u001b[49m\u001b[43m,\u001b[49m\u001b[43m \u001b[49m\u001b[38;5;28;43mself\u001b[39;49m\u001b[38;5;241;43m.\u001b[39;49m\u001b[43m_getitem\u001b[49m\n\u001b[1;32m     93\u001b[0m \u001b[43m    \u001b[49m\u001b[43m)\u001b[49m\n",
      "File \u001b[0;32m~/.local/lib/python3.8/site-packages/xarray/core/indexing.py:820\u001b[0m, in \u001b[0;36mexplicit_indexing_adapter\u001b[0;34m(key, shape, indexing_support, raw_indexing_method)\u001b[0m\n\u001b[1;32m    798\u001b[0m \u001b[38;5;250m\u001b[39m\u001b[38;5;124;03m\"\"\"Support explicit indexing by delegating to a raw indexing method.\u001b[39;00m\n\u001b[1;32m    799\u001b[0m \n\u001b[1;32m    800\u001b[0m \u001b[38;5;124;03mOuter and/or vectorized indexers are supported by indexing a second time\u001b[39;00m\n\u001b[0;32m   (...)\u001b[0m\n\u001b[1;32m    817\u001b[0m \u001b[38;5;124;03mIndexing result, in the form of a duck numpy-array.\u001b[39;00m\n\u001b[1;32m    818\u001b[0m \u001b[38;5;124;03m\"\"\"\u001b[39;00m\n\u001b[1;32m    819\u001b[0m raw_key, numpy_indices \u001b[38;5;241m=\u001b[39m decompose_indexer(key, shape, indexing_support)\n\u001b[0;32m--> 820\u001b[0m result \u001b[38;5;241m=\u001b[39m \u001b[43mraw_indexing_method\u001b[49m\u001b[43m(\u001b[49m\u001b[43mraw_key\u001b[49m\u001b[38;5;241;43m.\u001b[39;49m\u001b[43mtuple\u001b[49m\u001b[43m)\u001b[49m\n\u001b[1;32m    821\u001b[0m \u001b[38;5;28;01mif\u001b[39;00m numpy_indices\u001b[38;5;241m.\u001b[39mtuple:\n\u001b[1;32m    822\u001b[0m     \u001b[38;5;66;03m# index the loaded np.ndarray\u001b[39;00m\n\u001b[1;32m    823\u001b[0m     result \u001b[38;5;241m=\u001b[39m NumpyIndexingAdapter(np\u001b[38;5;241m.\u001b[39masarray(result))[numpy_indices]\n",
      "File \u001b[0;32m~/.local/lib/python3.8/site-packages/xarray/backends/netCDF4_.py:104\u001b[0m, in \u001b[0;36mNetCDF4ArrayWrapper._getitem\u001b[0;34m(self, key)\u001b[0m\n\u001b[1;32m    102\u001b[0m     \u001b[38;5;28;01mwith\u001b[39;00m \u001b[38;5;28mself\u001b[39m\u001b[38;5;241m.\u001b[39mdatastore\u001b[38;5;241m.\u001b[39mlock:\n\u001b[1;32m    103\u001b[0m         original_array \u001b[38;5;241m=\u001b[39m \u001b[38;5;28mself\u001b[39m\u001b[38;5;241m.\u001b[39mget_array(needs_lock\u001b[38;5;241m=\u001b[39m\u001b[38;5;28;01mFalse\u001b[39;00m)\n\u001b[0;32m--> 104\u001b[0m         array \u001b[38;5;241m=\u001b[39m \u001b[43mgetitem\u001b[49m\u001b[43m(\u001b[49m\u001b[43moriginal_array\u001b[49m\u001b[43m,\u001b[49m\u001b[43m \u001b[49m\u001b[43mkey\u001b[49m\u001b[43m)\u001b[49m\n\u001b[1;32m    105\u001b[0m \u001b[38;5;28;01mexcept\u001b[39;00m \u001b[38;5;167;01mIndexError\u001b[39;00m:\n\u001b[1;32m    106\u001b[0m     \u001b[38;5;66;03m# Catch IndexError in netCDF4 and return a more informative\u001b[39;00m\n\u001b[1;32m    107\u001b[0m     \u001b[38;5;66;03m# error message.  This is most often called when an unsorted\u001b[39;00m\n\u001b[1;32m    108\u001b[0m     \u001b[38;5;66;03m# indexer is used before the data is loaded from disk.\u001b[39;00m\n\u001b[1;32m    109\u001b[0m     msg \u001b[38;5;241m=\u001b[39m (\n\u001b[1;32m    110\u001b[0m         \u001b[38;5;124m\"\u001b[39m\u001b[38;5;124mThe indexing operation you are attempting to perform \u001b[39m\u001b[38;5;124m\"\u001b[39m\n\u001b[1;32m    111\u001b[0m         \u001b[38;5;124m\"\u001b[39m\u001b[38;5;124mis not valid on netCDF4.Variable object. Try loading \u001b[39m\u001b[38;5;124m\"\u001b[39m\n\u001b[1;32m    112\u001b[0m         \u001b[38;5;124m\"\u001b[39m\u001b[38;5;124myour data into memory first by calling .load().\u001b[39m\u001b[38;5;124m\"\u001b[39m\n\u001b[1;32m    113\u001b[0m     )\n",
      "File \u001b[0;32msrc/netCDF4/_netCDF4.pyx:5055\u001b[0m, in \u001b[0;36mnetCDF4._netCDF4.Variable.__getitem__\u001b[0;34m()\u001b[0m\n",
      "File \u001b[0;32m~/.local/lib/python3.8/site-packages/netCDF4/utils.py:429\u001b[0m, in \u001b[0;36m_StartCountStride\u001b[0;34m(elem, shape, dimensions, grp, datashape, put, use_get_vars)\u001b[0m\n\u001b[1;32m    427\u001b[0m \u001b[38;5;66;03m#    ITERABLE    #\u001b[39;00m\n\u001b[1;32m    428\u001b[0m \u001b[38;5;28;01melif\u001b[39;00m np\u001b[38;5;241m.\u001b[39miterable(e) \u001b[38;5;129;01mand\u001b[39;00m np\u001b[38;5;241m.\u001b[39marray(e)\u001b[38;5;241m.\u001b[39mdtype\u001b[38;5;241m.\u001b[39mkind \u001b[38;5;129;01min\u001b[39;00m \u001b[38;5;124m'\u001b[39m\u001b[38;5;124mi\u001b[39m\u001b[38;5;124m'\u001b[39m:  \u001b[38;5;66;03m# Sequence of integers\u001b[39;00m\n\u001b[0;32m--> 429\u001b[0m     start[\u001b[38;5;241m.\u001b[39m\u001b[38;5;241m.\u001b[39m\u001b[38;5;241m.\u001b[39m,i] \u001b[38;5;241m=\u001b[39m \u001b[43mnp\u001b[49m\u001b[38;5;241;43m.\u001b[39;49m\u001b[43mapply_along_axis\u001b[49m\u001b[43m(\u001b[49m\u001b[38;5;28;43;01mlambda\u001b[39;49;00m\u001b[43m \u001b[49m\u001b[43mx\u001b[49m\u001b[43m:\u001b[49m\u001b[43m \u001b[49m\u001b[43me\u001b[49m\u001b[38;5;241;43m*\u001b[39;49m\u001b[43mx\u001b[49m\u001b[43m,\u001b[49m\u001b[43m \u001b[49m\u001b[43mi\u001b[49m\u001b[43m,\u001b[49m\u001b[43m \u001b[49m\u001b[43mnp\u001b[49m\u001b[38;5;241;43m.\u001b[39;49m\u001b[43mones\u001b[49m\u001b[43m(\u001b[49m\u001b[43msdim\u001b[49m\u001b[43m[\u001b[49m\u001b[43m:\u001b[49m\u001b[38;5;241;43m-\u001b[39;49m\u001b[38;5;241;43m1\u001b[39;49m\u001b[43m]\u001b[49m\u001b[43m)\u001b[49m\u001b[43m)\u001b[49m\n\u001b[1;32m    430\u001b[0m     indices[\u001b[38;5;241m.\u001b[39m\u001b[38;5;241m.\u001b[39m\u001b[38;5;241m.\u001b[39m,i] \u001b[38;5;241m=\u001b[39m np\u001b[38;5;241m.\u001b[39mapply_along_axis(\u001b[38;5;28;01mlambda\u001b[39;00m x: np\u001b[38;5;241m.\u001b[39marange(sdim[i])\u001b[38;5;241m*\u001b[39mx, i, np\u001b[38;5;241m.\u001b[39mones(sdim[:\u001b[38;5;241m-\u001b[39m\u001b[38;5;241m1\u001b[39m], \u001b[38;5;28mint\u001b[39m))\n\u001b[1;32m    432\u001b[0m     count[\u001b[38;5;241m.\u001b[39m\u001b[38;5;241m.\u001b[39m\u001b[38;5;241m.\u001b[39m,i] \u001b[38;5;241m=\u001b[39m \u001b[38;5;241m1\u001b[39m\n",
      "File \u001b[0;32m<__array_function__ internals>:200\u001b[0m, in \u001b[0;36mapply_along_axis\u001b[0;34m(*args, **kwargs)\u001b[0m\n",
      "File \u001b[0;32m~/.local/lib/python3.8/site-packages/numpy/lib/shape_base.py:376\u001b[0m, in \u001b[0;36mapply_along_axis\u001b[0;34m(func1d, axis, arr, *args, **kwargs)\u001b[0m\n\u001b[1;32m    374\u001b[0m     ind0 \u001b[38;5;241m=\u001b[39m \u001b[38;5;28mnext\u001b[39m(inds)\n\u001b[1;32m    375\u001b[0m \u001b[38;5;28;01mexcept\u001b[39;00m \u001b[38;5;167;01mStopIteration\u001b[39;00m \u001b[38;5;28;01mas\u001b[39;00m e:\n\u001b[0;32m--> 376\u001b[0m     \u001b[38;5;28;01mraise\u001b[39;00m \u001b[38;5;167;01mValueError\u001b[39;00m(\n\u001b[1;32m    377\u001b[0m         \u001b[38;5;124m'\u001b[39m\u001b[38;5;124mCannot apply_along_axis when any iteration dimensions are 0\u001b[39m\u001b[38;5;124m'\u001b[39m\n\u001b[1;32m    378\u001b[0m     ) \u001b[38;5;28;01mfrom\u001b[39;00m\u001b[38;5;250m \u001b[39m\u001b[38;5;28;01mNone\u001b[39;00m\n\u001b[1;32m    379\u001b[0m res \u001b[38;5;241m=\u001b[39m asanyarray(func1d(inarr_view[ind0], \u001b[38;5;241m*\u001b[39margs, \u001b[38;5;241m*\u001b[39m\u001b[38;5;241m*\u001b[39mkwargs))\n\u001b[1;32m    381\u001b[0m \u001b[38;5;66;03m# build a buffer for storing evaluations of func1d.\u001b[39;00m\n\u001b[1;32m    382\u001b[0m \u001b[38;5;66;03m# remove the requested axis, and add the new ones on the end.\u001b[39;00m\n\u001b[1;32m    383\u001b[0m \u001b[38;5;66;03m# laid out so that each write is contiguous.\u001b[39;00m\n\u001b[1;32m    384\u001b[0m \u001b[38;5;66;03m# for a tuple index inds, buff[inds] = func1d(inarr_view[inds])\u001b[39;00m\n",
      "\u001b[0;31mValueError\u001b[0m: Cannot apply_along_axis when any iteration dimensions are 0"
     ]
    }
   ],
   "source": [
    "isfpar_area_list = []\n",
    "for bbasin in tqdm(new_ANT_basins_list[:-1:]):\n",
    "    isfpar_area_bb = area_per_depth.where(basin_mask_nonresolved_clean == bbasin, drop=True).sum(['y','x'])\n",
    "    isfpar_area_list.append(isfpar_area_bb.rename({'depth': 'nav_lev'}).assign_coords({'basin': bbasin}))\n",
    "isfpar_area_all = xr.concat(isfpar_area_list, dim='basin')"
   ]
  },
  {
   "cell_type": "code",
   "execution_count": 41,
   "id": "1b1f9158-44dd-4df7-b248-a4122246f8b3",
   "metadata": {},
   "outputs": [],
   "source": [
    "isfpar_area_all = xr.concat(isfpar_area_list, dim='basin')"
   ]
  },
  {
   "cell_type": "code",
   "execution_count": 47,
   "id": "50f7cae6-143c-4720-93b0-b95e8d29c70e",
   "metadata": {},
   "outputs": [],
   "source": [
    "isfpar_area_all.rename('area').to_netcdf(inputpath_interim + 'isfpar_129area_Clara.nc')"
   ]
  },
  {
   "cell_type": "markdown",
   "id": "1a4c31b3-c1f5-4231-80d4-b250354ef890",
   "metadata": {},
   "source": [
    "Define where to reinject the meltwater => maybe look at this file: prepare_eORCA1_input"
   ]
  },
  {
   "cell_type": "code",
   "execution_count": 48,
   "id": "bfa94fdc-9a75-404f-8a11-6fcf976602d7",
   "metadata": {},
   "outputs": [],
   "source": [
    "# Define NEMO coastal mask of the area to parametrised\n",
    "def get_coastal_msk(mask_in,lewp):\n",
    "    nj_out=mask_in.shape[0]\n",
    "    ni_out=mask_in.shape[1]\n",
    "\n",
    "    if lewp:\n",
    "        mask=np.zeros(shape=(nj_out,ni_out+2))\n",
    "        mask[:,1:-1]=mask_in\n",
    "        mask[:, 0]=mask[:,-2]\n",
    "        mask[:,-1]=mask[:, 1]\n",
    "        xslc=slice(0,ni_out)\n",
    "    else:\n",
    "        mask=mask_in\n",
    "        xslc=slice(1,-1)\n",
    "        \n",
    "    mask_coast=np.zeros(shape=(nj_out,ni_out))\n",
    "    mask_coast[1:-1,xslc]= ( mask[1:-1,1:-1] + \n",
    "                             mask[0:-2,1:-1] + mask[2::,1:-1] + mask[1:-1,0:-2] + mask[1:-1,2::] +\n",
    "                             mask[0:-2,0:-2] + mask[2::,2::]  + mask[2::,0:-2]  + mask[0:-2,2::] ) * mask[1:-1,1:-1]\n",
    "    mask_coast[(mask_coast > 1) & (mask_coast < 9)] = 10\n",
    "    mask_coast[mask_coast!=10]=np.nan\n",
    "    mask_coast=mask_coast.astype(np.float32)\n",
    "    mask_coast[mask_coast==10]=1\n",
    "    \n",
    "    return mask_coast"
   ]
  },
  {
   "cell_type": "code",
   "execution_count": null,
   "id": "adef8125-f0c1-431e-b1a7-6367c9013872",
   "metadata": {},
   "outputs": [],
   "source": [
    "# get coastal cell along area to parametrized\n",
    "# method:\n",
    "# - reverse the cell_to_param mask\n",
    "# - detect contour\n",
    "# - pick from contour only the ocean points\n",
    "NEMO_mask_param_basins=-np.zeros(shape=NEMO_cell_to_param.shape)\n",
    "#NEMO_mask_param_basins=np.where(NEMO_cell_to_param>0,0,1)\n",
    "NEMO_mask_param_basins=get_coastal_msk(NEMO_mask,True)\n",
    "NEMO_mask_param_basins[np.isnan(NEMO_mask_param_basins) | (NEMO_mask==0)]=-1\n",
    "\n"
   ]
  },
  {
   "cell_type": "markdown",
   "id": "fe4273e2-469f-4d89-bf66-eca83f4b1e9c",
   "metadata": {},
   "source": [
    "# FROM PIERRE - NOT NECESSARILY EVERYTHING FOR ME"
   ]
  },
  {
   "cell_type": "markdown",
   "id": "568dd9d7",
   "metadata": {},
   "source": [
    "## Read NEMO geometry and ELMER data (I don't think that it's needed here)"
   ]
  },
  {
   "cell_type": "code",
   "execution_count": null,
   "id": "76c04c70-de80-4caa-a28d-a81f48a45fc1",
   "metadata": {
    "jp-MarkdownHeadingCollapsed": true
   },
   "outputs": [],
   "source": [
    "# Read domain_cfg.nc\n",
    "#ds_nemo_domain=xr.open_dataset('domain_cfg_O2.nc')\n",
    "#NEMO_isfd=ds_nemo_domain.top_level.squeeze()\n",
    "\n",
    "# get NEMO mask\n",
    "#NEMO_mask=ds_nemo_domain.bottom_level.squeeze()\n",
    "#NEMO_mask=np.where(NEMO_mask>0,1,0)\n",
    "#NEMO_mask[30::,:]=1 # => specific to ORCA2\n",
    "\n",
    "# interpolation back to Elmer to retreive the area scale factor\n",
    "#ds_nemo_param=copy.deepcopy(ds_nemo_grid).rename_vars({'dummy': 'cell_to_param'})\n",
    "#ds_nemo_param['cell_to_param'].values=NEMO_cell_to_param.squeeze()\n",
    "\n",
    "## CDO inperpolation\n",
    "#ELMER_cell_to_param_sf=ds_elmer.sftflf.values.squeeze()"
   ]
  },
  {
   "cell_type": "markdown",
   "id": "a7cb61ba",
   "metadata": {},
   "source": [
    "## Define the cell where to activate the param in NEMO\n",
    "\n",
    "Maybe this need to be done before the reinterpolation back to ELMER and the draft distribution.\n",
    " * compute list of basin from the NEMO_mask_param_basins variables\n",
    " * mask the missing basin in the NEMO_basins variable\n",
    " * do a nn extrapolation on the NEMO grid\n",
    " * interpolate back to ELMER\n",
    " * compute the isf draft distribution"
   ]
  },
  {
   "cell_type": "code",
   "execution_count": null,
   "id": "71ffe59a",
   "metadata": {},
   "outputs": [],
   "source": [
    "# Define NEMO coastal mask of the area to parametrised\n",
    "def get_coastal_msk(mask_in,lewp):\n",
    "    nj_out=mask_in.shape[0]\n",
    "    ni_out=mask_in.shape[1]\n",
    "\n",
    "    if lewp:\n",
    "        mask=np.zeros(shape=(nj_out,ni_out+2))\n",
    "        mask[:,1:-1]=mask_in\n",
    "        mask[:, 0]=mask[:,-2]\n",
    "        mask[:,-1]=mask[:, 1]\n",
    "        xslc=slice(0,ni_out)\n",
    "    else:\n",
    "        mask=mask_in\n",
    "        xslc=slice(1,-1)\n",
    "        \n",
    "    mask_coast=np.zeros(shape=(nj_out,ni_out))\n",
    "    mask_coast[1:-1,xslc]= ( mask[1:-1,1:-1] + \n",
    "                             mask[0:-2,1:-1] + mask[2::,1:-1] + mask[1:-1,0:-2] + mask[1:-1,2::] +\n",
    "                             mask[0:-2,0:-2] + mask[2::,2::]  + mask[2::,0:-2]  + mask[0:-2,2::] ) * mask[1:-1,1:-1]\n",
    "    mask_coast[(mask_coast > 1) & (mask_coast < 9)] = 10\n",
    "    mask_coast[mask_coast!=10]=np.nan\n",
    "    mask_coast=mask_coast.astype(np.float32)\n",
    "    mask_coast[mask_coast==10]=1\n",
    "    \n",
    "    return mask_coast"
   ]
  },
  {
   "cell_type": "code",
   "execution_count": null,
   "id": "7542f05e",
   "metadata": {},
   "outputs": [],
   "source": [
    "# get coastal cell along area to parametrized\n",
    "# method:\n",
    "# - reverse the cell_to_param mask\n",
    "# - detect contour\n",
    "# - pick from contour only the ocean points\n",
    "NEMO_mask_param_basins=-np.zeros(shape=NEMO_cell_to_param.shape)\n",
    "#NEMO_mask_param_basins=np.where(NEMO_cell_to_param>0,0,1)\n",
    "NEMO_mask_param_basins=get_coastal_msk(NEMO_mask,True)\n",
    "NEMO_mask_param_basins[np.isnan(NEMO_mask_param_basins) | (NEMO_mask==0)]=-1\n",
    "\n"
   ]
  },
  {
   "cell_type": "code",
   "execution_count": null,
   "id": "7c9b9236",
   "metadata": {},
   "outputs": [],
   "source": [
    "plt.pcolormesh(get_coastal_msk(NEMO_mask,True))\n",
    "plt.colorbar()"
   ]
  },
  {
   "cell_type": "code",
   "execution_count": null,
   "id": "a1923cc0",
   "metadata": {},
   "outputs": [],
   "source": [
    "plt.pcolormesh(NEMO_mask_param_basins)\n",
    "plt.colorbar()"
   ]
  },
  {
   "cell_type": "markdown",
   "id": "4b58300b",
   "metadata": {},
   "source": [
    "# Manage basins\n",
    "## Interpolation of basin variable from Elmer to NEMO grid\n",
    "**Method:** cdo nearest neighbourg\n",
    "\n",
    "**Warning** : \n",
    " * possibly this need to be move after the domain cfg computation\n",
    " * why not use the extrapolate basin file on stereo ?"
   ]
  },
  {
   "cell_type": "code",
   "execution_count": null,
   "id": "3e40bb56",
   "metadata": {},
   "outputs": [],
   "source": [
    "## Read basin file at 2km\n",
    "ds_ANT_basins=xr.open_dataset(inputpath_raw + 'basins_for_param_v5_raster_extrapolate_setgrid.nc')\n",
    "\n",
    "## CDO inperpolation\n",
    "NEMO_basins=cdo.remapnn(f'{fNEMO_grid}',input=ds_ANT_basins, returnArray='Band1').squeeze()"
   ]
  },
  {
   "cell_type": "markdown",
   "id": "712f15a0",
   "metadata": {},
   "source": [
    "## Get all the basins id mask along the 'coastal' band"
   ]
  },
  {
   "cell_type": "code",
   "execution_count": null,
   "id": "c7934c94",
   "metadata": {},
   "outputs": [],
   "source": [
    "# get basin number for each coastal cell\n",
    "#NEMO_mask_param_basins=np.where((NEMO_mask_param_basins >= 0), NEMO_basins, -1)"
   ]
  },
  {
   "cell_type": "code",
   "execution_count": null,
   "id": "2771c502-64ba-4a25-aeea-108ef1032417",
   "metadata": {},
   "outputs": [],
   "source": [
    "NEMO_basins"
   ]
  },
  {
   "cell_type": "code",
   "execution_count": null,
   "id": "9e3bbdef-31bb-41d7-811a-4aebad9bd1b2",
   "metadata": {},
   "outputs": [],
   "source": [
    "mask_basins_nonresolved_points = isfcellconc_BMgrid"
   ]
  },
  {
   "cell_type": "code",
   "execution_count": null,
   "id": "e3085917",
   "metadata": {},
   "outputs": [],
   "source": [
    "# get list of ID avalable in NEMO along the 'coastal' band\n",
    "NEMO_basins_list = np.unique(NEMO_mask_param_basins[NEMO_mask_param_basins >= 0]).astype(int)\n",
    "ANT_basins_list = np.unique(ds_ANT_basins.Band1).astype(int)"
   ]
  },
  {
   "cell_type": "markdown",
   "id": "9b821f1e",
   "metadata": {},
   "source": [
    "## Interpolation back to Elmer from NEMO grid\n",
    "**Why:** We need to do this in case some small basins have been removed during the nn interpolation to NEMO. Without this step, there is possibility that the sum of the area distribution seen by NEMO do not match the total area to parametrised in ELMER.  "
   ]
  },
  {
   "cell_type": "code",
   "execution_count": null,
   "id": "ce62fea8",
   "metadata": {},
   "outputs": [],
   "source": [
    "# Define the new basin mask based on the list of available basins\n",
    "## Mask all id not present in the list in the original basin file\n",
    "ANT_basins_corr=ds_ANT_basins.Band1.copy()\n",
    "for basin in set(ANT_basins_list) - set(NEMO_basins_list):\n",
    "    ANT_basins_corr.values[ANT_basins_corr.values == basin] = np.nan\n"
   ]
  },
  {
   "cell_type": "code",
   "execution_count": null,
   "id": "0dfd45eb",
   "metadata": {},
   "outputs": [],
   "source": [
    "\n",
    "## Extrapolate the fill the corrected id mask\n",
    "from scipy.interpolate import NearestNDInterpolator\n",
    "data = ANT_basins_corr.values\n",
    "mask=np.where(~np.isnan(data))\n",
    "interp = NearestNDInterpolator(np.transpose(mask), data[mask])\n",
    "ANT_basins_corr.values = interp(*np.indices(data.shape))\n"
   ]
  },
  {
   "cell_type": "code",
   "execution_count": null,
   "id": "65bc3ec6",
   "metadata": {},
   "outputs": [],
   "source": [
    "## Interpolate the correct mask to Elmer\n",
    "ELMER_basins=cdo.remapnn(f'{fELMER_grid}',input=ANT_basins_corr, returnArray='Band1')"
   ]
  },
  {
   "cell_type": "markdown",
   "id": "63361786",
   "metadata": {},
   "source": [
    "# Interpolation back from NEMO to ELMER to retreive the area scale factor"
   ]
  },
  {
   "cell_type": "markdown",
   "id": "1680bd7c",
   "metadata": {},
   "source": [
    "## Compute depth distribution"
   ]
  },
  {
   "cell_type": "code",
   "execution_count": null,
   "id": "f07e5425",
   "metadata": {},
   "outputs": [],
   "source": [
    "# get elmer element area, ice shelf draft and floating cell mask\n",
    "isfd=ds_elmer.base.values.squeeze()\n",
    "mask_isf=ds_elmer.sftflf.values.squeeze()\n",
    "cell_area=np.float64(ds_elmer.cell_area.values.squeeze())\n",
    "\n",
    "# get NEMO depth range\n",
    "e3t=ds_nemo_domain.e3t_1d.values.squeeze()"
   ]
  },
  {
   "cell_type": "markdown",
   "id": "5ac287e4",
   "metadata": {},
   "source": [
    "**WARNING** : the basin list below need to match the list of basin in NEMO. Not sure it works in case some basins do not extrapolate far enough (nn approach issue)"
   ]
  },
  {
   "cell_type": "code",
   "execution_count": null,
   "id": "1bdf10e9",
   "metadata": {},
   "outputs": [],
   "source": [
    "# compute weight for histogram\n",
    "# As there is no melt in Elmer on the partially grounded element, these element should be excluded\n",
    "ELMER_cell_to_param_sf[np.isnan(ELMER_cell_to_param_sf) | (mask_isf < 1)]=0.0\n",
    "weight=np.float64(cell_area)*np.float64(ELMER_cell_to_param_sf)\n",
    "ELMER_isfd=isfd*mask_isf\n",
    "\n",
    "# define histogram bin\n",
    "binbnds=np.zeros(shape=(e3t.shape[0]+1,))\n",
    "binbnds[1::]=np.cumsum(e3t[:])\n",
    "\n",
    "# retreive basin list id\n",
    "basin_list=set(ELMER_basins.flatten())\n",
    "\n",
    "# compute historgram for each basin\n",
    "hist_isfd=np.zeros(shape=(len(basin_list),len(e3t)))\n",
    "for ib, ibasin in enumerate(basin_list):\n",
    "    hist_isfd[ib,:],_=np.histogram(-ELMER_isfd[ELMER_basins==ibasin],binbnds,weights=weight[ELMER_basins==ibasin])\n",
    "    print(ib, ibasin, weight[ELMER_basins==ibasin].sum(), hist_isfd[ib,:].sum(), weight[ELMER_basins==ibasin].sum()-hist_isfd[ib,:].sum(), max(-ELMER_isfd[ELMER_basins==ibasin]), min(-ELMER_isfd[ELMER_basins==ibasin]))"
   ]
  },
  {
   "cell_type": "code",
   "execution_count": null,
   "id": "c4c4867c",
   "metadata": {},
   "outputs": [],
   "source": [
    "zmin_basin = {}\n",
    "zmax_basin = {}\n",
    "\n",
    "for ibasin in basin_list:\n",
    "    # Select the cells in the current basin\n",
    "    mask = (ELMER_basins == ibasin)\n",
    "    valid_draft = -ELMER_isfd[mask]  # Make draft positive down\n",
    "    valid_weight = weight[mask]\n",
    "\n",
    "    # Filter out zero-weight or nan values\n",
    "    valid = (valid_weight > 0) & np.isfinite(valid_draft)\n",
    "    if np.any(valid):\n",
    "        # Use weighted percentile function (approximation via repeat)\n",
    "        sample_depths = np.repeat(valid_draft[valid], np.maximum(valid_weight[valid]/np.min(valid_weight[valid]),1).astype(int))\n",
    "        zmin = np.percentile(sample_depths, 1)\n",
    "        zmax = np.percentile(sample_depths, 99)\n",
    "    else:\n",
    "        zmin = np.nan\n",
    "        zmax = np.nan\n",
    "\n",
    "    zmin_basin[ibasin] = zmin\n",
    "    zmax_basin[ibasin] = zmax\n"
   ]
  },
  {
   "cell_type": "code",
   "execution_count": null,
   "id": "80402fb1",
   "metadata": {},
   "outputs": [],
   "source": [
    "zmin_map = np.full_like(NEMO_mask_param_basins, 0, dtype=np.float64)\n",
    "zmax_map = np.full_like(NEMO_mask_param_basins, 0, dtype=np.float64)\n",
    "\n",
    "for ibasin in basin_list:\n",
    "    zmin_map[NEMO_mask_param_basins == ibasin] = zmin_basin[ibasin]\n",
    "    zmax_map[NEMO_mask_param_basins == ibasin] = zmax_basin[ibasin]"
   ]
  },
  {
   "cell_type": "markdown",
   "id": "52e56561",
   "metadata": {},
   "source": [
    "## Define the output file"
   ]
  },
  {
   "cell_type": "code",
   "execution_count": null,
   "id": "7402b033",
   "metadata": {},
   "outputs": [],
   "source": [
    "# for Nico's version:\n",
    "# Étape 1 : Extraire les ID uniques triés (en ignorant les valeurs invalides éventuelles comme -1)\n",
    "unique_ids = np.sort(np.unique(NEMO_mask_param_basins[NEMO_mask_param_basins >= 0]))\n",
    "\n",
    "# Étape 2 : Créer un dictionnaire de remapping avec un décalage de +1\n",
    "id_map = {orig_id: new_id for new_id, orig_id in enumerate(unique_ids, start=1)}\n",
    "\n",
    "# Étape 3 : Appliquer le remapping\n",
    "NEMO_mask_param_basins_remapped = np.full_like(NEMO_mask_param_basins, fill_value=0, dtype=np.int32)  # 0 pour \"non défini\"\n",
    "for orig_id, new_id in id_map.items():\n",
    "    NEMO_mask_param_basins_remapped[NEMO_mask_param_basins == orig_id] = new_id\n",
    "\n",
    "# Étape 4 : Nouvelle liste de basins consécutifs à partir de 1\n",
    "basin_list_remapped = np.arange(1, len(unique_ids) + 1, dtype=np.int32)"
   ]
  },
  {
   "cell_type": "code",
   "execution_count": null,
   "id": "14ce2d91",
   "metadata": {},
   "outputs": [],
   "source": [
    "# Compute global min/max for each variable\n",
    "zmin_global_min = float(np.nanmin(zmin_map))\n",
    "zmin_global_max = float(np.nanmax(zmin_map))\n",
    "zmax_global_min = float(np.nanmin(zmax_map))\n",
    "zmax_global_max = float(np.nanmax(zmax_map))\n",
    "\n",
    "area_dist_min = float(np.nanmin(hist_isfd))\n",
    "area_dist_max = float(np.nanmax(hist_isfd))\n",
    "\n",
    "param_id_min = int(np.nanmin(NEMO_mask_param_basins_remapped))\n",
    "param_id_max = int(np.nanmax(NEMO_mask_param_basins_remapped))\n",
    "\n",
    "# Create dataset for output\n",
    "ds_out = xr.Dataset(\n",
    "    data_vars=dict(\n",
    "        isf_param_id=([\"x\", \"y\"], NEMO_mask_param_basins_remapped.astype(np.int32), dict(\n",
    "            units='1',\n",
    "            long_name='ice shelf parameterization basin ID',\n",
    "            valid_min=param_id_min,\n",
    "            valid_max=param_id_max\n",
    "        )),\n",
    "        \n",
    "        isf_area_dist=([\"z\", \"id\"], hist_isfd.T, dict(\n",
    "            units='m2',\n",
    "            long_name='ice shelf draft area distribution per depth bin',\n",
    "            valid_min=area_dist_min,\n",
    "            valid_max=area_dist_max\n",
    "        )),\n",
    "        \n",
    "        isf_zmin=([\"x\", \"y\"], zmin_map, dict(\n",
    "            units='m',\n",
    "            long_name='ice shelf minimum draft depth (10th percentile)',\n",
    "            valid_min=zmin_global_min,\n",
    "            valid_max=zmin_global_max\n",
    "        )),\n",
    "        \n",
    "        isf_zmax=([\"x\", \"y\"], zmax_map, dict(\n",
    "            units='m',\n",
    "            long_name='ice shelf maximum draft depth (90th percentile)',\n",
    "            valid_min=zmax_global_min,\n",
    "            valid_max=zmax_global_max\n",
    "        )),\n",
    "    ),\n",
    "    \n",
    "    coords=dict(\n",
    "        lon=([\"x\", \"y\"], ds_nemo_domain.glamt.values.squeeze(), dict(\n",
    "            units='degrees_east',\n",
    "            long_name='longitude'\n",
    "        )),\n",
    "        lat=([\"x\", \"y\"], ds_nemo_domain.gphit.values.squeeze(), dict(\n",
    "            units='degrees_north',\n",
    "            long_name='latitude'\n",
    "        )),\n",
    "        bin_width=([\"z\"], e3t, dict(\n",
    "            units='m',\n",
    "            long_name='vertical bin thickness'\n",
    "        )),\n",
    "        basin=([\"id\"], np.array(list(basin_list_remapped)).astype(np.int32), dict(\n",
    "            long_name='list of unique basin IDs'\n",
    "        )),\n",
    "    ),\n",
    ")\n",
    "\n",
    "# Save to NetCDF\n",
    "ds_out.to_netcdf('isf_param.nc')\n"
   ]
  },
  {
   "cell_type": "code",
   "execution_count": null,
   "id": "b8f1754d",
   "metadata": {},
   "outputs": [],
   "source": [
    "import xarray as xr\n",
    "import matplotlib.pyplot as plt\n",
    "import cartopy.crs as ccrs\n",
    "import cartopy.feature as cfeature\n",
    "import numpy as np\n",
    "\n",
    "# Load your dataset\n",
    "ds = xr.open_dataset('isf_param.nc')\n",
    "\n",
    "# Extract data\n",
    "param_id = ds['isf_param_id']\n",
    "lon = ds['lon']\n",
    "lat = ds['lat']\n",
    "\n",
    "# Identifier les ID valides (1 à 84)\n",
    "valid_ids = np.arange(1, 85)\n",
    "\n",
    "# Créer une permutation aléatoire des ID\n",
    "shuffled_ids = np.random.permutation(valid_ids)\n",
    "\n",
    "# Construire un dictionnaire de remappage\n",
    "remap_dict = dict(zip(valid_ids, shuffled_ids))\n",
    "\n",
    "# Appliquer le remappage sur une copie\n",
    "param_id_shuffled = np.full_like(param_id, fill_value=-1)\n",
    "for old_id, new_id in remap_dict.items():\n",
    "    param_id_shuffled[param_id == old_id] = new_id\n",
    "\n",
    "\n",
    "# Mask bad values (-1)\n",
    "param_id_masked = np.ma.masked_where(param_id.values == 0, param_id_shuffled)\n",
    "\n",
    "# Set up projection\n",
    "proj = ccrs.SouthPolarStereo()  # EPSG:3031\n",
    "\n",
    "# Create figure and axis\n",
    "fig = plt.figure(figsize=(10, 10))\n",
    "ax = plt.axes(projection=proj)\n",
    "ax.set_extent([-180, 180, -90, -60], ccrs.PlateCarree())\n",
    "\n",
    "# Add land and ice shelves using Natural Earth features\n",
    "land = cfeature.NaturalEarthFeature('physical', 'land', '50m',\n",
    "                                    edgecolor='black', facecolor='lightgray')\n",
    "ice_shelves = cfeature.NaturalEarthFeature('physical', 'antarctic_ice_shelves_polys', '50m',\n",
    "                                           edgecolor='blue', facecolor='none')\n",
    "\n",
    "ax.add_feature(land, zorder=1)\n",
    "ax.add_feature(ice_shelves, zorder=2)\n",
    "\n",
    "# Plot the param_id map\n",
    "c = ax.pcolormesh(lon, lat, param_id_masked,\n",
    "                  transform=ccrs.PlateCarree(),\n",
    "                  cmap='tab20', shading='auto', zorder=0)\n",
    "\n",
    "# Add colorbar\n",
    "cb = plt.colorbar(c, ax=ax, orientation='horizontal', pad=0.05, shrink=0.7)\n",
    "cb.set_label(param_id.long_name)\n",
    "\n",
    "# Add gridlines\n",
    "gl = ax.gridlines(draw_labels=True, dms=True, x_inline=False, y_inline=False)\n",
    "gl.top_labels = False\n",
    "gl.right_labels = False\n",
    "\n",
    "plt.title('Ice Shelf Parameterization Basin ID (ORCA2))')\n",
    "#plt.tight_layout()\n",
    "#\n",
    "fig.savefig('basin_id_map.png', dpi=150, bbox_inches='tight', transparent=False)"
   ]
  }
 ],
 "metadata": {
  "kernelspec": {
   "display_name": "py38",
   "language": "python",
   "name": "py38"
  },
  "language_info": {
   "codemirror_mode": {
    "name": "ipython",
    "version": 3
   },
   "file_extension": ".py",
   "mimetype": "text/x-python",
   "name": "python",
   "nbconvert_exporter": "python",
   "pygments_lexer": "ipython3",
   "version": "3.8.18"
  }
 },
 "nbformat": 4,
 "nbformat_minor": 5
}
