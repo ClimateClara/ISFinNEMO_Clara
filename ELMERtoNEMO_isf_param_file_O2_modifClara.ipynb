{
 "cells": [
  {
   "cell_type": "markdown",
   "id": "ad7ccdeb",
   "metadata": {},
   "source": [
    "## Load modules"
   ]
  },
  {
   "cell_type": "code",
   "execution_count": 1,
   "id": "708eab55",
   "metadata": {},
   "outputs": [],
   "source": [
    "import xarray as xr\n",
    "import numpy as np\n",
    "import cdo\n",
    "import copy\n",
    "import matplotlib.pyplot as plt\n",
    "from scipy import ndimage\n",
    "from tqdm.notebook import tqdm\n",
    "from datetime import date"
   ]
  },
  {
   "cell_type": "code",
   "execution_count": 2,
   "id": "a0561007-2465-4561-8da8-cdd0379b9246",
   "metadata": {},
   "outputs": [],
   "source": [
    "%matplotlib qt5"
   ]
  },
  {
   "cell_type": "markdown",
   "id": "52bed029",
   "metadata": {},
   "source": [
    "## Initialisation cdo"
   ]
  },
  {
   "cell_type": "code",
   "execution_count": 3,
   "id": "baee3fa1",
   "metadata": {},
   "outputs": [],
   "source": [
    "cdo = cdo.Cdo()"
   ]
  },
  {
   "cell_type": "markdown",
   "id": "2542ada3-862c-4f73-876c-c2e103797caf",
   "metadata": {},
   "source": [
    "## Declare paths"
   ]
  },
  {
   "cell_type": "code",
   "execution_count": 4,
   "id": "0249a954-f211-4f11-95e4-378b8fc6a1ec",
   "metadata": {},
   "outputs": [],
   "source": [
    "inputpath_raw = '/data/cburgard/MELT_PARAM_NONRESOLVED/raw/'\n",
    "inputpath_interim = '/data/cburgard/MELT_PARAM_NONRESOLVED/interim/'\n",
    "inputpath_NEMO = '/data/cburgard/PREPARE_FORCING/PREPARE_PRESCRIBED_MELT/interim/'\n",
    "inputpath_NEMO_interim = '/data/cburgard/PREPARE_FORCING/PREPARE_CAVITY_MASKS/interim/'\n",
    "inputpath_domaincfg = '/data/cburgard/PREPARE_FORCING/PREPARE_CAVITY_MASKS/raw/eORCA1.4.3_OpenSeas_OpenAllCav_ModStraights/'"
   ]
  },
  {
   "cell_type": "markdown",
   "id": "14496e0f",
   "metadata": {},
   "source": [
    "## Define grids"
   ]
  },
  {
   "cell_type": "code",
   "execution_count": 5,
   "id": "a27bdc78",
   "metadata": {},
   "outputs": [],
   "source": [
    "## source grid\n",
    "fBedMachine_grid=inputpath_interim + 'basins_for_param_v5_raster_extrapolate_with_zmin_zmax_isfconc_withgrid.nc'\n",
    "BedMachine_grid=xr.open_dataset(fBedMachine_grid)\n",
    "\n",
    "## target grid\n",
    "fNEMO_grid = inputpath_NEMO_interim + 'NEMO_gridT_eORCA1_cdo.nc'\n",
    "ds_nemo_grid=xr.open_dataset(fNEMO_grid)\n",
    "fcoordinates_file = '/data/cburgard/PREPARE_FORCING/PREPARE_CAVITY_MASKS/raw/eORCA1.4.3_OpenSeas_OpenAllCav_ModStraights/coordinates.nc'\n",
    "coordinates_file = xr.open_dataset(fcoordinates_file)\n",
    "ds_nemo_grid_without_nan = inputpath_interim + 'coordinates_cdo.nc'\n",
    "\n",
    "## mask of all cavities\n"
   ]
  },
  {
   "cell_type": "markdown",
   "id": "2e5caece",
   "metadata": {},
   "source": [
    "## Inputs files"
   ]
  },
  {
   "cell_type": "code",
   "execution_count": 6,
   "id": "9170e0ac",
   "metadata": {},
   "outputs": [],
   "source": [
    "# BedMachine state data\n",
    "ds_BedMachine=xr.open_dataset(inputpath_NEMO_interim + 'BedMachine_v3_aggregated2km_allvars_withgrid.nc')\n",
    "\n",
    "# NEMO bedrock data\n",
    "ds_nemo_file=xr.open_dataset(inputpath_NEMO + 'eORCA1.4.3_OpenSeas_Open6largestISF_ModStraights_domain_cfg_withgrid.nc').squeeze().drop_vars('time')\n",
    "ds_nemo = ds_nemo_file[['isf_draft', 'bathy_metry']] #,'nav_lon_bnds','nav_lat_bnds'"
   ]
  },
  {
   "cell_type": "code",
   "execution_count": 7,
   "id": "c5dbc5a4-be6c-4d2a-ad55-784e2a7d3ce1",
   "metadata": {},
   "outputs": [],
   "source": [
    "glamt = coordinates_file['glamt']\n",
    "glamt.attrs = ds_nemo['nav_lon'].attrs\n",
    "\n",
    "gphit = coordinates_file['gphit']\n",
    "gphit.attrs = ds_nemo['nav_lat'].attrs"
   ]
  },
  {
   "cell_type": "code",
   "execution_count": 8,
   "id": "1bd1ebb3-27c6-46fd-89d9-9861031f5a58",
   "metadata": {},
   "outputs": [],
   "source": [
    "ds_nemo_corr = ds_nemo.assign_coords({'nav_lon': glamt, 'nav_lat': gphit})"
   ]
  },
  {
   "cell_type": "code",
   "execution_count": 9,
   "id": "f1bbecd3-c528-42ff-80ff-d11ba6244286",
   "metadata": {},
   "outputs": [],
   "source": [
    "ds_nemo_corr['mask_isf'] = (ds_nemo_corr['isf_draft'] > 0).astype(float)"
   ]
  },
  {
   "cell_type": "code",
   "execution_count": 10,
   "id": "4af63874-c228-4675-ad36-cbec5963b224",
   "metadata": {},
   "outputs": [],
   "source": [
    "ds_nemo_corr['cell_area'] = coordinates_file['e1t'] * coordinates_file['e2t']"
   ]
  },
  {
   "cell_type": "markdown",
   "id": "fc8de06d",
   "metadata": {},
   "source": [
    "# compute area not resolved by NEMO\n",
    "**Method from Pierre:**\n",
    "- conservative interpolation of Elmer floating cell to NEMO\n",
    "- set to 1 value between 0 and 1 (ie area to parametrised in NEMO)\n",
    "- conservative interpolation back to ELMER to give the cell that need to be included in the param and the area scale factor (note from Clara: not sure this last step is really needed)"
   ]
  },
  {
   "cell_type": "code",
   "execution_count": null,
   "id": "d6b3aa5f-29cd-434a-9763-f2788c3514d0",
   "metadata": {},
   "outputs": [],
   "source": [
    "# CDO interpolation\n",
    "isfconc_NEMOgrid0 = cdo.remapbil(fNEMO_grid,input=ds_BedMachine, returnArray='isf_conc')"
   ]
  },
  {
   "cell_type": "code",
   "execution_count": null,
   "id": "a1619caf-1889-4bc9-93bb-97155869c7e4",
   "metadata": {},
   "outputs": [],
   "source": [
    "isfconc_NEMOgrid = xr.DataArray(data=isfconc_NEMOgrid0, dims=['y','x']).assign_coords({'y': ds_nemo_grid.y, \n",
    "                                                                                       'x': ds_nemo_grid.x})"
   ]
  },
  {
   "cell_type": "code",
   "execution_count": null,
   "id": "933981a8-8a06-4823-9453-40837e180054",
   "metadata": {},
   "outputs": [],
   "source": [
    "isfconc_NEMOgrid.plot()"
   ]
  },
  {
   "cell_type": "code",
   "execution_count": null,
   "id": "b43f0059-545c-45ea-8ffd-a35ceca14fca",
   "metadata": {},
   "outputs": [],
   "source": [
    "NEMO_cell_to_param = (isfconc_NEMOgrid > 0) & (isfconc_NEMOgrid < 0.99)"
   ]
  },
  {
   "cell_type": "code",
   "execution_count": null,
   "id": "83252efd",
   "metadata": {},
   "outputs": [],
   "source": [
    "# create clean data_set array (cdo is very sensitive)\n",
    "ds_elmer_sftflf = xr.Dataset(\n",
    "    data_vars=dict(\n",
    "        sftflf=([\"time\",\"ncells\"], ds_elmer.sftflf.values),\n",
    "        time_instant=([\"time\"],ds_elmer.time_instant.values),\n",
    "        lon_bnds=([\"ncells\",\"vertices\"], ds_elmer_grid.lon_bnds.values),\n",
    "        lat_bnds=([\"ncells\",\"vertices\"], ds_elmer_grid.lat_bnds.values),\n",
    "        time_instant_bnds=([\"time\",\"axis_nbounds\"],ds_elmer.time_instant_bounds.values),\n",
    "    ),\n",
    "    coords=dict(\n",
    "        lon=([\"ncells\"],ds_elmer_grid.lon.values,ds_elmer_grid.lon.attrs),\n",
    "        lat=([\"ncells\"],ds_elmer_grid.lat.values,ds_elmer_grid.lat.attrs),\n",
    "    ),\n",
    ")"
   ]
  },
  {
   "cell_type": "code",
   "execution_count": null,
   "id": "9a798d73",
   "metadata": {},
   "outputs": [],
   "source": [
    "## CDO inperpolation\n",
    "### cdo.remapcon(f'{target_grid}',input=input_xrdataset, returnArray=variable_name_to_process)\n",
    "#NEMO_sftflf=cdo.remapcon(f'{fNEMO_grid}', input=ds_elmer_sftflf, returnArray='sftflf', env={\"CDO_REMAP_NORM\": \"areafrac\"}).squeeze()\n",
    "#NEMO_sftflf[0,50:60]=1 # => specific to ORCA2"
   ]
  },
  {
   "cell_type": "code",
   "execution_count": null,
   "id": "d214c761",
   "metadata": {},
   "outputs": [],
   "source": [
    "# set to 1 cell to parametrised\n",
    "#NEMO_cell_to_param=np.zeros(shape=NEMO_sftflf.shape)\n",
    "#NEMO_cell_to_param=np.where((NEMO_sftflf > 0) & (NEMO_sftflf<=1),1,0)"
   ]
  },
  {
   "cell_type": "markdown",
   "id": "f15e1797-bc9c-4714-b2ce-8f4f0c3b79b5",
   "metadata": {},
   "source": [
    "**Method from Clara:**\n",
    "- interpolation of NEMO on BedMachine grid\n",
    "- identify cells that are not or not completely taken into account in NEMO => regions non-resolved in NEMO\n",
    "- of these: check which are associated to a basin that is not on the NEMO grid and replace them\n",
    "- then, compute the area scale factor"
   ]
  },
  {
   "cell_type": "code",
   "execution_count": 11,
   "id": "85d35d2b-6fcd-40b0-8d27-6bb8d5a943f5",
   "metadata": {},
   "outputs": [],
   "source": [
    "ds_nemo_mask = ds_nemo_corr['mask_isf']"
   ]
  },
  {
   "cell_type": "code",
   "execution_count": 12,
   "id": "a64aac60-82f5-4ee3-bba2-68f4313e638d",
   "metadata": {},
   "outputs": [],
   "source": [
    "isfcellconc_BMgrid0 = cdo.remapbil(fBedMachine_grid,input=ds_nemo_corr, returnArray='mask_isf')"
   ]
  },
  {
   "cell_type": "code",
   "execution_count": 13,
   "id": "a36c18ad-a880-47e7-a391-e60f3bc173ed",
   "metadata": {},
   "outputs": [],
   "source": [
    "isfcellconc_BMgrid = xr.DataArray(data=isfcellconc_BMgrid0, dims=['y','x']).assign_coords({'y': BedMachine_grid.y, \n",
    "                                                         'x': BedMachine_grid.x})"
   ]
  },
  {
   "cell_type": "code",
   "execution_count": 14,
   "id": "aa52abf2-bea7-4814-abd5-319fc8a668ef",
   "metadata": {},
   "outputs": [],
   "source": [
    "# Identify ice shelves in \"reality\""
   ]
  },
  {
   "cell_type": "code",
   "execution_count": null,
   "id": "42cd7a68-fab0-40dd-b043-b93629d96492",
   "metadata": {},
   "outputs": [],
   "source": [
    "plt.figure()\n",
    "ds_BedMachine['mask_0_1_2'].plot()"
   ]
  },
  {
   "cell_type": "code",
   "execution_count": 15,
   "id": "e87b7b3a-379e-4b39-8d81-b909465ce773",
   "metadata": {},
   "outputs": [],
   "source": [
    "isfconc_BM_orig = ds_BedMachine['isf_conc']"
   ]
  },
  {
   "cell_type": "markdown",
   "id": "fe62f746-a3cc-4c5b-8c23-09d1a56aadf3",
   "metadata": {},
   "source": [
    "Cut out the front because it will be tricky to reinject meltwater there"
   ]
  },
  {
   "cell_type": "code",
   "execution_count": 16,
   "id": "1d2b6d2b-d4e5-4b06-9d22-e185d6a42a4b",
   "metadata": {},
   "outputs": [],
   "source": [
    "# Create a mask discriminating between land, ocean and ice shelf\n",
    "mask_0_1_2_nemo = ds_nemo_mask * 2\n",
    "mask_0_1_2_nemo = mask_0_1_2_nemo.where(ds_nemo['bathy_metry'] != 0, 2) # land\n",
    "mask_0_1_2_nemo = mask_0_1_2_nemo.where(ds_nemo['bathy_metry'] == 0, 0) # ocean\n",
    "mask_0_1_2_nemo = mask_0_1_2_nemo.where(ds_nemo['isf_draft'] == 0, 1) # ice shelf"
   ]
  },
  {
   "cell_type": "code",
   "execution_count": 17,
   "id": "55c659a2-a754-4bc5-ab05-91e8e51a154b",
   "metadata": {},
   "outputs": [],
   "source": [
    "mask_0_1_2_nemo_BMgrid0 = cdo.remapbil(fBedMachine_grid,input=mask_0_1_2_nemo, returnArray='mask_isf')"
   ]
  },
  {
   "cell_type": "code",
   "execution_count": 18,
   "id": "f4dd09e0-7667-4080-994b-1af733f67c91",
   "metadata": {
    "scrolled": true
   },
   "outputs": [],
   "source": [
    "mask_0_1_2_nemo_BMgrid = xr.DataArray(data=mask_0_1_2_nemo_BMgrid0, dims=['y','x']).assign_coords({'y': BedMachine_grid.y, \n",
    "                                                         'x': BedMachine_grid.x})"
   ]
  },
  {
   "cell_type": "code",
   "execution_count": 19,
   "id": "70fc4910-7460-4029-9bf5-f2bb295f5e65",
   "metadata": {},
   "outputs": [],
   "source": [
    "isfcellconc_BMgrid_wofront = isfcellconc_BMgrid.where(mask_0_1_2_nemo_BMgrid >= 0.99, 0)\n",
    "front_regions = (isfcellconc_BMgrid - isfcellconc_BMgrid_wofront) > 0\n",
    "isfconc_BM_orig_wofront = isfconc_BM_orig.where(~front_regions, 0) "
   ]
  },
  {
   "cell_type": "code",
   "execution_count": null,
   "id": "03ece295-00e8-4f62-b598-0775e7073b05",
   "metadata": {},
   "outputs": [],
   "source": [
    "plt.figure()\n",
    "isfcellconc_BMgrid_wofront.plot()"
   ]
  },
  {
   "cell_type": "code",
   "execution_count": null,
   "id": "2afcb8ed-9e76-4f94-b522-ddda5b149924",
   "metadata": {
    "scrolled": true
   },
   "outputs": [],
   "source": [
    "plt.figure()\n",
    "isfcellconc_BMgrid.plot()"
   ]
  },
  {
   "cell_type": "markdown",
   "id": "13165833-31f6-4c98-a835-311a8e2c2978",
   "metadata": {},
   "source": [
    "Assign basins to the regions of isf conc between 0 and 1"
   ]
  },
  {
   "cell_type": "code",
   "execution_count": null,
   "id": "fe7165f8-f715-42da-8339-50f134ebe6cc",
   "metadata": {},
   "outputs": [],
   "source": [
    "ds_ANT_basins.plot()"
   ]
  },
  {
   "cell_type": "code",
   "execution_count": 20,
   "id": "e70c538b-a47a-4f1f-8a7f-07b9e2a375b2",
   "metadata": {},
   "outputs": [],
   "source": [
    "## Read basin file at 2km\n",
    "ds_ANT_basins=xr.open_dataset(inputpath_raw + 'basins_for_param_v5_raster_extrapolate_setgrid.nc')['Band1']"
   ]
  },
  {
   "cell_type": "code",
   "execution_count": 21,
   "id": "23c48bc9-e6c7-4713-8cf3-a03809fa8168",
   "metadata": {},
   "outputs": [],
   "source": [
    "## Identify non resolved subregions or the whole ice shelves not present in NEMO but present in BedMachine\n",
    "# sum of concentration on original and NEMO grid (if they are both > 0.99 - so 1.98, this is a fully covered cell in both)\n",
    "sum_isfconc = isfconc_BM_orig_wofront + isfcellconc_BMgrid_wofront #isfcellconc_BMgrid \n",
    "# all the cells that are partially covered in one of the two and where there is isf in BedMachine gets assigned a number\n",
    "basin_mask_nonresolved = ((sum_isfconc < 1.98) & (isfconc_BM_orig_wofront > 0)) * ds_ANT_basins\n",
    "basin_mask_nonresolved = basin_mask_nonresolved.where(basin_mask_nonresolved > 0)"
   ]
  },
  {
   "cell_type": "code",
   "execution_count": null,
   "id": "a1b238d3-a2b1-4421-84e1-f42b6cfe3610",
   "metadata": {},
   "outputs": [],
   "source": [
    "basin_mask_nonresolved.plot()"
   ]
  },
  {
   "cell_type": "code",
   "execution_count": null,
   "id": "1a26479e-2a8a-4e17-affa-b06bd24b1872",
   "metadata": {},
   "outputs": [],
   "source": [
    "ds_ANT_basins.plot()"
   ]
  },
  {
   "cell_type": "markdown",
   "id": "80ea1bc4-db69-4d18-a618-8e364acc822c",
   "metadata": {},
   "source": [
    "Check if all the basins are present in NEMO"
   ]
  },
  {
   "cell_type": "code",
   "execution_count": 22,
   "id": "eb042a12-47df-4f54-a0cc-9873ada44b61",
   "metadata": {},
   "outputs": [],
   "source": [
    "## CDO inperpolation\n",
    "NEMO_basins=cdo.remapnn(ds_nemo_grid_without_nan,input=ds_ANT_basins, returnArray='Band1').squeeze() \n",
    "#compare_NEMO_basins=cdo.remapnn(fNEMO_grid,input=ds_ANT_basins, returnArray='Band1').squeeze() #=> doesn't work because the coordinates file is not in cdo format and  "
   ]
  },
  {
   "cell_type": "code",
   "execution_count": 23,
   "id": "99d1925e-e516-4cea-89c2-180c923afbc0",
   "metadata": {},
   "outputs": [],
   "source": [
    "NEMO_basins_da = xr.DataArray(data=NEMO_basins,dims=ds_nemo_corr.dims)\n",
    "#compare_NEMO_basins_da = xr.DataArray(data=compare_NEMO_basins,dims=ds_nemo_corr.dims)"
   ]
  },
  {
   "cell_type": "code",
   "execution_count": null,
   "id": "84b7e811-140b-4d68-bce8-6369b83201d2",
   "metadata": {},
   "outputs": [],
   "source": [
    "# check the bounds are the right ones\n",
    "#(NEMO_basins_da - compare_NEMO_basins_da).where(compare_NEMO_basins_da != 6).plot(vmax=10)"
   ]
  },
  {
   "cell_type": "code",
   "execution_count": 24,
   "id": "d7be1940-bdfe-41cd-b427-c8a19eb21521",
   "metadata": {},
   "outputs": [],
   "source": [
    "# define basins \"present\" in NEMO\n",
    "ocean_mask = ds_nemo_file['bathy_metry'] > 0\n",
    "basin_in_ocean = NEMO_basins_da.where(ocean_mask)"
   ]
  },
  {
   "cell_type": "code",
   "execution_count": null,
   "id": "60d1bf3a-48ea-4e18-b6d1-f5db4e8ab7c9",
   "metadata": {},
   "outputs": [],
   "source": [
    "plt.figure()\n",
    "basin_in_ocean.plot()"
   ]
  },
  {
   "cell_type": "code",
   "execution_count": 25,
   "id": "cf5e8c50-3af3-48de-b68a-599ed7c30655",
   "metadata": {},
   "outputs": [
    {
     "name": "stderr",
     "output_type": "stream",
     "text": [
      "<ipython-input-25-b5f75a13dfc1>:2: RuntimeWarning: invalid value encountered in cast\n",
      "  NEMO_basins_list = np.unique(basin_in_ocean).astype(int)\n",
      "<ipython-input-25-b5f75a13dfc1>:3: RuntimeWarning: invalid value encountered in cast\n",
      "  ANT_basins_list = np.unique(basin_mask_nonresolved).astype(int)\n"
     ]
    }
   ],
   "source": [
    "# get list of ID avalable in NEMO along the 'coastal' band\n",
    "NEMO_basins_list = np.unique(basin_in_ocean).astype(int)\n",
    "ANT_basins_list = np.unique(basin_mask_nonresolved).astype(int)"
   ]
  },
  {
   "cell_type": "code",
   "execution_count": 26,
   "id": "03a15400-243d-40b5-94bf-b1bff0df6a5b",
   "metadata": {},
   "outputs": [
    {
     "name": "stdout",
     "output_type": "stream",
     "text": [
      "54\n",
      "56\n",
      "121\n",
      "193\n"
     ]
    }
   ],
   "source": [
    "basins_not_in_NEMO_grid = []\n",
    "for bbasin in ANT_basins_list:\n",
    "    if bbasin not in NEMO_basins_list:\n",
    "        print(bbasin)\n",
    "        basins_not_in_NEMO_grid.append(bbasin)"
   ]
  },
  {
   "cell_type": "code",
   "execution_count": 26,
   "id": "332a6285-888a-46f5-8994-3345b0b9dd22",
   "metadata": {},
   "outputs": [
    {
     "data": {
      "text/plain": [
       "<matplotlib.collections.QuadMesh at 0x153401f53280>"
      ]
     },
     "execution_count": 26,
     "metadata": {},
     "output_type": "execute_result"
    }
   ],
   "source": [
    "basin_mask_nonresolved.plot()"
   ]
  },
  {
   "cell_type": "code",
   "execution_count": 27,
   "id": "e7f415e9-f00d-40b2-999d-b843e53b7e98",
   "metadata": {},
   "outputs": [],
   "source": [
    "ds_ANT_basins_missing = ds_ANT_basins.where(~ds_ANT_basins.isin(basins_not_in_NEMO_grid))"
   ]
  },
  {
   "cell_type": "code",
   "execution_count": 28,
   "id": "d08667ad-71f6-4fdb-be79-20a174950ddb",
   "metadata": {},
   "outputs": [],
   "source": [
    "def fill_nearest(xarr):\n",
    "    \"\"\"Fill NaNs using nearest-neighbor interpolation.\"\"\"\n",
    "    data = xarr.values\n",
    "    mask = np.isnan(data)\n",
    "    if not np.any(mask):\n",
    "        return xarr  # No NaNs to fill\n",
    "\n",
    "    # Get coordinates of valid (non-NaN) and NaN points\n",
    "    filled = ndimage.distance_transform_edt(mask, return_distances=False, return_indices=True)\n",
    "    filled_data = data[tuple(filled)]\n",
    "    return xr.DataArray(filled_data, coords=xarr.coords, dims=xarr.dims, attrs=xarr.attrs)\n"
   ]
  },
  {
   "cell_type": "code",
   "execution_count": 29,
   "id": "ac39e790-16d6-42c8-bf7a-a23239014da9",
   "metadata": {},
   "outputs": [],
   "source": [
    "# Apply to Dataset\n",
    "#filled_ds = basin_mask_nonresolved_missing.copy()\n",
    "filled_basins = fill_nearest(ds_ANT_basins_missing)\n",
    "basin_mask_nonresolved_clean = filled_basins.where(basin_mask_nonresolved > 0)"
   ]
  },
  {
   "cell_type": "code",
   "execution_count": null,
   "id": "708c62f1-07a3-4f06-b9a5-9529ff51838a",
   "metadata": {},
   "outputs": [],
   "source": [
    "basin_mask_nonresolved_clean.plot()"
   ]
  },
  {
   "cell_type": "code",
   "execution_count": 30,
   "id": "520b4334-d7ef-450d-a01f-99d68ae6300e",
   "metadata": {},
   "outputs": [
    {
     "name": "stderr",
     "output_type": "stream",
     "text": [
      "<ipython-input-30-ed589993423e>:2: RuntimeWarning: invalid value encountered in cast\n",
      "  new_ANT_basins_list = np.unique(basin_mask_nonresolved_clean).astype(int)\n"
     ]
    }
   ],
   "source": [
    "# Double check that I now only have basins left that are there both on the BedMachine and NEMO grid\n",
    "new_ANT_basins_list = np.unique(basin_mask_nonresolved_clean).astype(int)"
   ]
  },
  {
   "cell_type": "code",
   "execution_count": 31,
   "id": "44bdc20d-cde8-40d5-90dc-80cbe8b3d9fb",
   "metadata": {},
   "outputs": [],
   "source": [
    "for bbasin in new_ANT_basins_list:\n",
    "    if bbasin not in NEMO_basins_list:\n",
    "        print(bbasin)"
   ]
  },
  {
   "cell_type": "code",
   "execution_count": null,
   "id": "1f074b3b-fc3a-4285-a366-9fabbafe452f",
   "metadata": {},
   "outputs": [],
   "source": [
    "# Here the mask for the unresolved regions is ready! Congrats!"
   ]
  },
  {
   "cell_type": "code",
   "execution_count": 32,
   "id": "b746bbb1-02c5-4c07-a264-a6b1d34faec0",
   "metadata": {},
   "outputs": [
    {
     "data": {
      "text/plain": [
       "<matplotlib.collections.QuadMesh at 0x14b63921cb80>"
      ]
     },
     "execution_count": 32,
     "metadata": {},
     "output_type": "execute_result"
    }
   ],
   "source": [
    "np.isfinite(basin_mask_nonresolved_clean).plot()"
   ]
  },
  {
   "cell_type": "code",
   "execution_count": null,
   "id": "49b97316-b5cf-4ed8-aeaf-3bc28ada5296",
   "metadata": {},
   "outputs": [],
   "source": [
    "# Write to file (no it does not make sense because the things are not resolved...)\n",
    "# NEMO_mask = np.isfinite(basin_mask_nonresolved_clean)\n",
    "# NEMO_base = ds_nemo['isf_draft']*NEMO_mask\n",
    "# NEMO_bathy= ds_nemo['bathy_metry']*NEMO_mask"
   ]
  },
  {
   "cell_type": "markdown",
   "id": "a0d241dc-abc6-4c3d-a303-df021e269bd7",
   "metadata": {},
   "source": [
    "Compute the area scale factor"
   ]
  },
  {
   "cell_type": "code",
   "execution_count": null,
   "id": "115096ab-5155-46d2-abda-4b845d0a02ba",
   "metadata": {},
   "outputs": [],
   "source": [
    "# will need to do a loop over all numbers in new_ANT_basins_list\n",
    "# for each, compute area of unresolved area at each depth\n",
    "# isfpar_area the non-resolved ice shelf area (m^2) per basin and per vertical level\n",
    "# isfpar_basin the map of basin numbers\n",
    "# zmin and zmax (double check how I did it before with zmin and zmax"
   ]
  },
  {
   "cell_type": "code",
   "execution_count": 32,
   "id": "f5ac572a-b2d1-4678-80b6-ce4ecc01d8f1",
   "metadata": {},
   "outputs": [],
   "source": [
    "mesh_mask = xr.open_dataset(inputpath_NEMO + 'eORCA1.4.3_OpenSeas_OpenAllCav_ModStraights_mesh_mask_withgrid.nc')"
   ]
  },
  {
   "cell_type": "code",
   "execution_count": 33,
   "id": "f9a063ed-3ea1-4f1b-ae53-602b3a355439",
   "metadata": {},
   "outputs": [],
   "source": [
    "tmask_3D = mesh_mask['tmask'].squeeze().drop('time_counter').astype(float)"
   ]
  },
  {
   "cell_type": "code",
   "execution_count": 34,
   "id": "4d2891ab-65cb-411b-88ab-d65c09d0581a",
   "metadata": {},
   "outputs": [],
   "source": [
    "isfcellconc_3D_BMgrid0 = cdo.remapbil(fBedMachine_grid,input=tmask_3D, returnArray='tmask')"
   ]
  },
  {
   "cell_type": "code",
   "execution_count": 35,
   "id": "ca5babaf-05a2-4646-b95c-a88ce514ed55",
   "metadata": {},
   "outputs": [],
   "source": [
    "isfcellconc_3D_BMgrid = xr.DataArray(data=isfcellconc_3D_BMgrid0, dims=['depth','y','x']).assign_coords({'y': BedMachine_grid.y, \n",
    "                                                         'x': BedMachine_grid.x, 'depth': tmask_3D.nav_lev.values})"
   ]
  },
  {
   "cell_type": "code",
   "execution_count": null,
   "id": "f3b91375-2498-44e2-8acd-bd64a2918612",
   "metadata": {},
   "outputs": [],
   "source": [
    "# check the depth-level dependent ice-shelf concentration\n",
    "isfcellconc_3D_BMgrid.isel(depth=40).where((isfcellconc_3D_BMgrid.isel(depth=40) > 0) \n",
    "                                           & (isfcellconc_3D_BMgrid.isel(depth=40) < 1)).plot()"
   ]
  },
  {
   "cell_type": "code",
   "execution_count": 36,
   "id": "84be8d74-cc25-4729-95bd-8636774ffadb",
   "metadata": {},
   "outputs": [],
   "source": [
    "grid_cell_area = xr.open_dataset(inputpath_NEMO_interim + 'ISMIP6_grid_area_AIS_2000m.nc')['true_grid_cell_area'] # this is not correct yet but using it in the meantime"
   ]
  },
  {
   "cell_type": "code",
   "execution_count": 39,
   "id": "a5b0db5e-5c49-4517-a4f6-b0ada608ed4a",
   "metadata": {},
   "outputs": [],
   "source": [
    "area_per_depth = grid_cell_area * isfcellconc_3D_BMgrid"
   ]
  },
  {
   "cell_type": "code",
   "execution_count": 41,
   "id": "f675c6c1-a76a-478f-ae87-142203c4c057",
   "metadata": {},
   "outputs": [
    {
     "data": {
      "application/vnd.jupyter.widget-view+json": {
       "model_id": "d2ba769c632e419f84c5192a60e79846",
       "version_major": 2,
       "version_minor": 0
      },
      "text/plain": [
       "  0%|          | 0/129 [00:00<?, ?it/s]"
      ]
     },
     "metadata": {},
     "output_type": "display_data"
    }
   ],
   "source": [
    "isfpar_area_list = []\n",
    "for bbasin in tqdm(new_ANT_basins_list[:-1:]):\n",
    "    isfpar_area_bb = area_per_depth.where(basin_mask_nonresolved_clean == bbasin, drop=True).sum(['y','x'])\n",
    "    isfpar_area_list.append(isfpar_area_bb.rename({'depth': 'nav_lev'}).assign_coords({'basin': bbasin}))\n",
    "isfpar_area_all = xr.concat(isfpar_area_list, dim='basin')"
   ]
  },
  {
   "cell_type": "code",
   "execution_count": 42,
   "id": "50f7cae6-143c-4720-93b0-b95e8d29c70e",
   "metadata": {},
   "outputs": [],
   "source": [
    "isfpar_area_all.rename('area').to_netcdf(inputpath_interim + 'isfpar_129area_Clara.nc')"
   ]
  },
  {
   "cell_type": "markdown",
   "id": "1a4c31b3-c1f5-4231-80d4-b250354ef890",
   "metadata": {},
   "source": [
    "Define where to reinject the meltwater => maybe look at this file: prepare_eORCA1_input"
   ]
  },
  {
   "cell_type": "code",
   "execution_count": 33,
   "id": "3b8c4ff0-65cd-488d-b4ef-53e61a74148b",
   "metadata": {},
   "outputs": [],
   "source": [
    "# CDO interpolation\n",
    "isfconc_NEMOgrid0 = cdo.remapbil(ds_nemo_grid_without_nan,input=ds_BedMachine, returnArray='isf_conc')"
   ]
  },
  {
   "cell_type": "code",
   "execution_count": 34,
   "id": "6d11ca42-ee2d-4f27-ba97-7b61483d1d26",
   "metadata": {},
   "outputs": [],
   "source": [
    "isfconc_NEMOgrid = xr.DataArray(data=isfconc_NEMOgrid0, dims=['y','x']).assign_coords({'y': ds_nemo_grid.y, \n",
    "                                                                                       'x': ds_nemo_grid.x})"
   ]
  },
  {
   "cell_type": "code",
   "execution_count": 35,
   "id": "aaf9a5c5-f43c-4aa0-ad99-f39f96a69551",
   "metadata": {},
   "outputs": [],
   "source": [
    "final_basins_NEMOgrid0=cdo.remapnn(ds_nemo_grid_without_nan,input=basin_mask_nonresolved_clean.rename('non_resolved_basins'), returnArray='non_resolved_basins').squeeze() \n",
    "final_basins_NEMOgrid = xr.DataArray(data=final_basins_NEMOgrid0, dims=['y','x']).assign_coords({'y': ds_nemo_grid.y, \n",
    "                                                                                       'x': ds_nemo_grid.x})"
   ]
  },
  {
   "cell_type": "code",
   "execution_count": 38,
   "id": "5469fbd4-46fe-4677-b1a7-a4f9e2c3aafc",
   "metadata": {},
   "outputs": [
    {
     "data": {
      "text/plain": [
       "<matplotlib.collections.QuadMesh at 0x14b638e7daf0>"
      ]
     },
     "execution_count": 38,
     "metadata": {},
     "output_type": "execute_result"
    }
   ],
   "source": [
    "basin_mask_nonresolved_clean.plot()"
   ]
  },
  {
   "cell_type": "code",
   "execution_count": 39,
   "id": "276aec0c-9127-499a-93c6-4ee43eae2786",
   "metadata": {},
   "outputs": [
    {
     "data": {
      "text/plain": [
       "<matplotlib.collections.QuadMesh at 0x14b638de6850>"
      ]
     },
     "execution_count": 39,
     "metadata": {},
     "output_type": "execute_result"
    }
   ],
   "source": [
    "basin_in_ocean.plot()"
   ]
  },
  {
   "cell_type": "code",
   "execution_count": null,
   "id": "ca1250fe-3b60-42a5-bd61-40208ce36c2c",
   "metadata": {},
   "outputs": [],
   "source": [
    "basin_mask_nonresolved_clean.plot()"
   ]
  },
  {
   "cell_type": "markdown",
   "id": "42ef868f-2ad8-46fc-a287-600ae3c41653",
   "metadata": {},
   "source": [
    "Write the mask to file"
   ]
  },
  {
   "cell_type": "code",
   "execution_count": 48,
   "id": "c923d1b7-9b36-4c74-ad03-d083f01c51ce",
   "metadata": {},
   "outputs": [],
   "source": [
    "basin_in_ocean_cut_south = basin_in_ocean.where(basin_in_ocean.nav_lat < -55, drop=True)"
   ]
  },
  {
   "cell_type": "code",
   "execution_count": 49,
   "id": "1f4faf63-97c1-4aac-aebb-e8a0a6ba76fb",
   "metadata": {},
   "outputs": [
    {
     "data": {
      "text/plain": [
       "<matplotlib.collections.QuadMesh at 0x14b638879c40>"
      ]
     },
     "execution_count": 49,
     "metadata": {},
     "output_type": "execute_result"
    }
   ],
   "source": [
    "basin_in_ocean_cut_south.plot()"
   ]
  },
  {
   "cell_type": "code",
   "execution_count": 54,
   "id": "01563ef2-5cf9-4584-818d-d84478a0821d",
   "metadata": {},
   "outputs": [],
   "source": [
    "basin_in_ocean_cut_south.to_dataset(name='basin')\n",
    "basin_in_ocean_cut_south.attrs['max_basin_number'] = 541\n",
    "basin_in_ocean_cut_south.attrs['Creator'] = 'C. Burgard ('+date.today().strftime(\"%b-%d-%Y\")+')'\n",
    "basin_in_ocean_cut_south.to_netcdf(inputpath_interim + 'isfpar_129basin_Clara.nc')"
   ]
  },
  {
   "cell_type": "markdown",
   "id": "34445adb-5da6-4d5b-bf28-1465443d692e",
   "metadata": {},
   "source": [
    "For the coastal regions"
   ]
  },
  {
   "cell_type": "code",
   "execution_count": 43,
   "id": "af417dc8-99d5-4f06-81a3-fe867b04c9ad",
   "metadata": {},
   "outputs": [],
   "source": [
    "# Create a mask discriminating between land, ocean and ice shelf\n",
    "mask_0_1_2 = ds_nemo_mask * 2\n",
    "mask_0_1_2 = mask_0_1_2.where(ds_nemo['bathy_metry'] != 0, 400) # land\n",
    "mask_0_1_2 = mask_0_1_2.where(ds_nemo['bathy_metry'] == 0, 0) # ocean\n",
    "#mask_0_1_2 = mask_0_1_2.where(ds_nemo['isf_draft'] == 0, 200) # ice shelf"
   ]
  },
  {
   "cell_type": "code",
   "execution_count": 44,
   "id": "128b7236-3385-4a22-9c38-5481651c12a4",
   "metadata": {},
   "outputs": [],
   "source": [
    "mask_0_1_2_nemo = mask_0_1_2"
   ]
  },
  {
   "cell_type": "code",
   "execution_count": 45,
   "id": "e7a9ec45-a9e1-4108-8ffa-b017e5688b26",
   "metadata": {},
   "outputs": [
    {
     "data": {
      "text/plain": [
       "<matplotlib.collections.QuadMesh at 0x153401902f70>"
      ]
     },
     "execution_count": 45,
     "metadata": {},
     "output_type": "execute_result"
    }
   ],
   "source": [
    "mask_0_1_2_nemo.plot()"
   ]
  },
  {
   "cell_type": "code",
   "execution_count": 46,
   "id": "5798e51a-ede3-4504-8416-a0e769619025",
   "metadata": {},
   "outputs": [],
   "source": [
    "# set all ice shelves to 300\n",
    "mask_front0 = mask_0_1_2_nemo.where((mask_0_1_2_nemo == 0), 300).copy()"
   ]
  },
  {
   "cell_type": "code",
   "execution_count": 48,
   "id": "295fe15b-4602-44ba-98af-b6bd9325a5d3",
   "metadata": {},
   "outputs": [],
   "source": [
    "mask_front = mask_front0.copy()\n",
    "# check all directions and set points at border between ocean and ice shelf (300-0) to 500\n",
    "mask_front = mask_front.where((mask_front0.shift(x=-1)-mask_front0)!=300,500)\n",
    "mask_front = mask_front.where((mask_front0.shift(x=1)-mask_front0)!=300,500)\n",
    "mask_front = mask_front.where((mask_front0.shift(y=-1)-mask_front0)!=300,500)\n",
    "mask_front = mask_front.where((mask_front0.shift(y=1)-mask_front0)!=300,500)\n",
    "# cut out all front points\n",
    "mask_front = mask_front.where(mask_front==500)\n",
    "# set the ice shelf number\n",
    "mask_front = mask_front.where(mask_front!=500,basin_in_ocean)"
   ]
  },
  {
   "cell_type": "code",
   "execution_count": 56,
   "id": "8ef246fe-bad8-45ec-bb5a-783be57d8be0",
   "metadata": {},
   "outputs": [],
   "source": [
    "mask_front_Ant = mask_front.where(mask_front.nav_lat < -57)"
   ]
  },
  {
   "cell_type": "code",
   "execution_count": 58,
   "id": "6fab98ac-e7cd-4b64-979c-22f8b9c3b156",
   "metadata": {},
   "outputs": [],
   "source": [
    "mask_front_file = xr.Dataset()\n",
    "mask_front_file['mask_front'] = mask_front_Ant\n",
    "mask_front_file['basin'] = NEMO_basins_list\n",
    "mask_front_file.to_netcdf(inputpath_interim + 'mask_fronts_for_param_injection.nc')"
   ]
  },
  {
   "cell_type": "markdown",
   "id": "7c9f0d98-0889-4b7d-9949-a7ceb0ae8f7d",
   "metadata": {},
   "source": [
    "MAKE MAPS OF ZMIN AND ZMAX ON THE FRONT"
   ]
  },
  {
   "cell_type": "code",
   "execution_count": 60,
   "id": "50557b28-6fdf-4ea4-8203-a6848517b0d1",
   "metadata": {},
   "outputs": [
    {
     "data": {
      "text/plain": [
       "<matplotlib.collections.QuadMesh at 0x1534013ab3d0>"
      ]
     },
     "execution_count": 60,
     "metadata": {},
     "output_type": "execute_result"
    }
   ],
   "source": [
    "basin_mask_nonresolved_clean.plot()"
   ]
  },
  {
   "cell_type": "code",
   "execution_count": 63,
   "id": "e94b75b3-e7c0-4065-b125-8c1c6ed9077f",
   "metadata": {},
   "outputs": [],
   "source": [
    "inputpath_cavity_interim = '/data/cburgard/PREPARE_FORCING/PREPARE_CAVITY_MASKS/interim/'\n",
    "BedMachine_vars_2km= xr.open_dataset(inputpath_cavity_interim + 'BedMachine_v3_aggregated2km_allvars_withcategories.nc')\n",
    "# select ice_draft for the part of the cell covered by an ice shelf only\n",
    "ice_draft = (BedMachine_vars_2km['thickness'] - BedMachine_vars_2km['surface']).sel(category=3).drop('category')"
   ]
  },
  {
   "cell_type": "code",
   "execution_count": null,
   "id": "4d86fb00-404d-479d-abb1-3c2f75f839c9",
   "metadata": {},
   "outputs": [],
   "source": [
    "for kisf in tqdm(file_Justine['ID']):\n",
    "    isf_mask = (file_Justine['Band1'] == kisf) & (BedMachine_mask_2km['isf_conc'] > 0)\n",
    "\n",
    "    #zmin = ice_draft.where(isf_mask).min()\n",
    "    #zmin_list.append(zmin.assign_coords({'ID': kisf}))\n",
    "    #zmax = ice_draft.where(isf_mask).max()\n",
    "    #zmax_list.append(zmax.assign_coords({'ID': kisf}))\n",
    "    perc_01 = ice_draft.where(isf_mask).quantile(0.01)\n",
    "    perc_01_list.append(perc_01.assign_coords({'ID': kisf}))\n",
    "    perc_99 = ice_draft.where(isf_mask).quantile(0.99)\n",
    "    perc_99_list.append(perc_99.assign_coords({'ID': kisf}))\n"
   ]
  },
  {
   "cell_type": "code",
   "execution_count": 69,
   "id": "bcb7fed4-3a37-4456-99aa-b97d8255af9b",
   "metadata": {
    "scrolled": true
   },
   "outputs": [
    {
     "data": {
      "application/vnd.jupyter.widget-view+json": {
       "model_id": "b389eaac78a94889bbbf0e2b5ed4b4f8",
       "version_major": 2,
       "version_minor": 0
      },
      "text/plain": [
       "  0%|          | 0/131 [00:00<?, ?it/s]"
      ]
     },
     "metadata": {},
     "output_type": "display_data"
    },
    {
     "name": "stderr",
     "output_type": "stream",
     "text": [
      "/home/cburgard/.conda/envs/py38/lib/python3.8/site-packages/numpy/lib/nanfunctions.py:1556: RuntimeWarning: All-NaN slice encountered\n",
      "  return function_base._ureduce(a,\n",
      "/home/cburgard/.conda/envs/py38/lib/python3.8/site-packages/numpy/lib/nanfunctions.py:1556: RuntimeWarning: All-NaN slice encountered\n",
      "  return function_base._ureduce(a,\n",
      "/home/cburgard/.conda/envs/py38/lib/python3.8/site-packages/numpy/lib/nanfunctions.py:1556: RuntimeWarning: All-NaN slice encountered\n",
      "  return function_base._ureduce(a,\n",
      "/home/cburgard/.conda/envs/py38/lib/python3.8/site-packages/numpy/lib/nanfunctions.py:1556: RuntimeWarning: All-NaN slice encountered\n",
      "  return function_base._ureduce(a,\n",
      "/home/cburgard/.conda/envs/py38/lib/python3.8/site-packages/numpy/lib/nanfunctions.py:1556: RuntimeWarning: All-NaN slice encountered\n",
      "  return function_base._ureduce(a,\n",
      "/home/cburgard/.conda/envs/py38/lib/python3.8/site-packages/numpy/lib/nanfunctions.py:1556: RuntimeWarning: All-NaN slice encountered\n",
      "  return function_base._ureduce(a,\n"
     ]
    }
   ],
   "source": [
    "zmin_front = mask_front_Ant.copy()\n",
    "zmax_front = mask_front_Ant.copy()\n",
    "\n",
    "for id_closed in tqdm(NEMO_basins_list):\n",
    "    perc_01 = ice_draft.where(basin_mask_nonresolved_clean == id_closed).quantile(0.01)\n",
    "    perc_99 = ice_draft.where(basin_mask_nonresolved_clean == id_closed).quantile(0.99)\n",
    "\n",
    "    zmin_front = zmin_front.where(mask_front_Ant != id_closed, perc_01)\n",
    "    zmax_front = zmax_front.where(mask_front_Ant != id_closed, perc_99)"
   ]
  },
  {
   "cell_type": "code",
   "execution_count": 78,
   "id": "3b8a5515-7844-41dd-a2b2-4b510b2f0cc3",
   "metadata": {},
   "outputs": [],
   "source": [
    "file_zmin_zmax = xr.Dataset()\n",
    "\n",
    "file_zmin_zmax['z_min'] = zmin_front.drop('quantile')\n",
    "file_zmin_zmax['z_min'].attrs['standard_name'] = '1st percentile over ice-shelf draft'\n",
    "file_zmin_zmax['z_min'].attrs['units'] = 'm below sea level'\n",
    "\n",
    "file_zmin_zmax['z_max'] = zmax_front.drop('quantile')\n",
    "file_zmin_zmax['z_max'].attrs['standard_name'] = '99th percentile over ice-shelf draft'\n",
    "file_zmin_zmax['z_max'].attrs['units'] = 'm below sea level'\n",
    "\n",
    "file_zmin_zmax.attrs=dict(Source='File giving zmin and zmax to parameterise melt under ice shelves delimited by drainage basins',\n",
    "                      Creator='C. Burgard and P. Mathiot ('+date.today().strftime(\"%b-%d-%Y\")+')')\n",
    "file_zmin_zmax.to_netcdf(inputpath_interim + 'zmin_zmax_for_eORCA1.nc')"
   ]
  },
  {
   "cell_type": "markdown",
   "id": "fe4273e2-469f-4d89-bf66-eca83f4b1e9c",
   "metadata": {},
   "source": [
    "# FROM PIERRE - NOT NECESSARILY EVERYTHING FOR ME"
   ]
  },
  {
   "cell_type": "markdown",
   "id": "568dd9d7",
   "metadata": {},
   "source": [
    "## Read NEMO geometry and ELMER data (I don't think that it's needed here)"
   ]
  },
  {
   "cell_type": "code",
   "execution_count": null,
   "id": "76c04c70-de80-4caa-a28d-a81f48a45fc1",
   "metadata": {
    "jp-MarkdownHeadingCollapsed": true
   },
   "outputs": [],
   "source": [
    "# Read domain_cfg.nc\n",
    "#ds_nemo_domain=xr.open_dataset('domain_cfg_O2.nc')\n",
    "#NEMO_isfd=ds_nemo_domain.top_level.squeeze()\n",
    "\n",
    "# get NEMO mask\n",
    "#NEMO_mask=ds_nemo_domain.bottom_level.squeeze()\n",
    "#NEMO_mask=np.where(NEMO_mask>0,1,0)\n",
    "#NEMO_mask[30::,:]=1 # => specific to ORCA2\n",
    "\n",
    "# interpolation back to Elmer to retreive the area scale factor\n",
    "#ds_nemo_param=copy.deepcopy(ds_nemo_grid).rename_vars({'dummy': 'cell_to_param'})\n",
    "#ds_nemo_param['cell_to_param'].values=NEMO_cell_to_param.squeeze()\n",
    "\n",
    "## CDO inperpolation\n",
    "#ELMER_cell_to_param_sf=ds_elmer.sftflf.values.squeeze()"
   ]
  },
  {
   "cell_type": "markdown",
   "id": "a7cb61ba",
   "metadata": {},
   "source": [
    "## Define the cell where to activate the param in NEMO\n",
    "\n",
    "Maybe this need to be done before the reinterpolation back to ELMER and the draft distribution.\n",
    " * compute list of basin from the NEMO_mask_param_basins variables\n",
    " * mask the missing basin in the NEMO_basins variable\n",
    " * do a nn extrapolation on the NEMO grid\n",
    " * interpolate back to ELMER\n",
    " * compute the isf draft distribution"
   ]
  },
  {
   "cell_type": "code",
   "execution_count": null,
   "id": "71ffe59a",
   "metadata": {},
   "outputs": [],
   "source": [
    "# Define NEMO coastal mask of the area to parametrised\n",
    "def get_coastal_msk(mask_in,lewp):\n",
    "    nj_out=mask_in.shape[0]\n",
    "    ni_out=mask_in.shape[1]\n",
    "\n",
    "    if lewp:\n",
    "        mask=np.zeros(shape=(nj_out,ni_out+2))\n",
    "        mask[:,1:-1]=mask_in\n",
    "        mask[:, 0]=mask[:,-2]\n",
    "        mask[:,-1]=mask[:, 1]\n",
    "        xslc=slice(0,ni_out)\n",
    "    else:\n",
    "        mask=mask_in\n",
    "        xslc=slice(1,-1)\n",
    "        \n",
    "    mask_coast=np.zeros(shape=(nj_out,ni_out))\n",
    "    mask_coast[1:-1,xslc]= ( mask[1:-1,1:-1] + \n",
    "                             mask[0:-2,1:-1] + mask[2::,1:-1] + mask[1:-1,0:-2] + mask[1:-1,2::] +\n",
    "                             mask[0:-2,0:-2] + mask[2::,2::]  + mask[2::,0:-2]  + mask[0:-2,2::] ) * mask[1:-1,1:-1]\n",
    "    mask_coast[(mask_coast > 1) & (mask_coast < 9)] = 10\n",
    "    mask_coast[mask_coast!=10]=np.nan\n",
    "    mask_coast=mask_coast.astype(np.float32)\n",
    "    mask_coast[mask_coast==10]=1\n",
    "    \n",
    "    return mask_coast"
   ]
  },
  {
   "cell_type": "code",
   "execution_count": null,
   "id": "7542f05e",
   "metadata": {},
   "outputs": [],
   "source": [
    "# get coastal cell along area to parametrized\n",
    "# method:\n",
    "# - reverse the cell_to_param mask\n",
    "# - detect contour\n",
    "# - pick from contour only the ocean points\n",
    "NEMO_mask_param_basins=-np.zeros(shape=NEMO_cell_to_param.shape)\n",
    "#NEMO_mask_param_basins=np.where(NEMO_cell_to_param>0,0,1)\n",
    "NEMO_mask_param_basins=get_coastal_msk(NEMO_mask,True)\n",
    "NEMO_mask_param_basins[np.isnan(NEMO_mask_param_basins) | (NEMO_mask==0)]=-1\n",
    "\n"
   ]
  },
  {
   "cell_type": "code",
   "execution_count": null,
   "id": "7c9b9236",
   "metadata": {},
   "outputs": [],
   "source": [
    "plt.pcolormesh(get_coastal_msk(NEMO_mask,True))\n",
    "plt.colorbar()"
   ]
  },
  {
   "cell_type": "code",
   "execution_count": null,
   "id": "a1923cc0",
   "metadata": {},
   "outputs": [],
   "source": [
    "plt.pcolormesh(NEMO_mask_param_basins)\n",
    "plt.colorbar()"
   ]
  },
  {
   "cell_type": "markdown",
   "id": "4b58300b",
   "metadata": {},
   "source": [
    "# Manage basins\n",
    "## Interpolation of basin variable from Elmer to NEMO grid\n",
    "**Method:** cdo nearest neighbourg\n",
    "\n",
    "**Warning** : \n",
    " * possibly this need to be move after the domain cfg computation\n",
    " * why not use the extrapolate basin file on stereo ?"
   ]
  },
  {
   "cell_type": "code",
   "execution_count": null,
   "id": "3e40bb56",
   "metadata": {},
   "outputs": [],
   "source": [
    "## Read basin file at 2km\n",
    "ds_ANT_basins=xr.open_dataset(inputpath_raw + 'basins_for_param_v5_raster_extrapolate_setgrid.nc')\n",
    "\n",
    "## CDO inperpolation\n",
    "NEMO_basins=cdo.remapnn(f'{fNEMO_grid}',input=ds_ANT_basins, returnArray='Band1').squeeze()"
   ]
  },
  {
   "cell_type": "markdown",
   "id": "712f15a0",
   "metadata": {},
   "source": [
    "## Get all the basins id mask along the 'coastal' band"
   ]
  },
  {
   "cell_type": "code",
   "execution_count": null,
   "id": "c7934c94",
   "metadata": {},
   "outputs": [],
   "source": [
    "# get basin number for each coastal cell\n",
    "#NEMO_mask_param_basins=np.where((NEMO_mask_param_basins >= 0), NEMO_basins, -1)"
   ]
  },
  {
   "cell_type": "code",
   "execution_count": null,
   "id": "2771c502-64ba-4a25-aeea-108ef1032417",
   "metadata": {},
   "outputs": [],
   "source": [
    "NEMO_basins"
   ]
  },
  {
   "cell_type": "code",
   "execution_count": null,
   "id": "9e3bbdef-31bb-41d7-811a-4aebad9bd1b2",
   "metadata": {},
   "outputs": [],
   "source": [
    "mask_basins_nonresolved_points = isfcellconc_BMgrid"
   ]
  },
  {
   "cell_type": "code",
   "execution_count": null,
   "id": "e3085917",
   "metadata": {},
   "outputs": [],
   "source": [
    "# get list of ID avalable in NEMO along the 'coastal' band\n",
    "NEMO_basins_list = np.unique(NEMO_mask_param_basins[NEMO_mask_param_basins >= 0]).astype(int)\n",
    "ANT_basins_list = np.unique(ds_ANT_basins.Band1).astype(int)"
   ]
  },
  {
   "cell_type": "markdown",
   "id": "9b821f1e",
   "metadata": {},
   "source": [
    "## Interpolation back to Elmer from NEMO grid\n",
    "**Why:** We need to do this in case some small basins have been removed during the nn interpolation to NEMO. Without this step, there is possibility that the sum of the area distribution seen by NEMO do not match the total area to parametrised in ELMER.  "
   ]
  },
  {
   "cell_type": "code",
   "execution_count": null,
   "id": "ce62fea8",
   "metadata": {},
   "outputs": [],
   "source": [
    "# Define the new basin mask based on the list of available basins\n",
    "## Mask all id not present in the list in the original basin file\n",
    "ANT_basins_corr=ds_ANT_basins.Band1.copy()\n",
    "for basin in set(ANT_basins_list) - set(NEMO_basins_list):\n",
    "    ANT_basins_corr.values[ANT_basins_corr.values == basin] = np.nan\n"
   ]
  },
  {
   "cell_type": "code",
   "execution_count": null,
   "id": "0dfd45eb",
   "metadata": {},
   "outputs": [],
   "source": [
    "\n",
    "## Extrapolate the fill the corrected id mask\n",
    "from scipy.interpolate import NearestNDInterpolator\n",
    "data = ANT_basins_corr.values\n",
    "mask=np.where(~np.isnan(data))\n",
    "interp = NearestNDInterpolator(np.transpose(mask), data[mask])\n",
    "ANT_basins_corr.values = interp(*np.indices(data.shape))\n"
   ]
  },
  {
   "cell_type": "code",
   "execution_count": null,
   "id": "65bc3ec6",
   "metadata": {},
   "outputs": [],
   "source": [
    "## Interpolate the correct mask to Elmer\n",
    "ELMER_basins=cdo.remapnn(f'{fELMER_grid}',input=ANT_basins_corr, returnArray='Band1')"
   ]
  },
  {
   "cell_type": "markdown",
   "id": "63361786",
   "metadata": {},
   "source": [
    "# Interpolation back from NEMO to ELMER to retreive the area scale factor"
   ]
  },
  {
   "cell_type": "markdown",
   "id": "1680bd7c",
   "metadata": {},
   "source": [
    "## Compute depth distribution"
   ]
  },
  {
   "cell_type": "code",
   "execution_count": null,
   "id": "f07e5425",
   "metadata": {},
   "outputs": [],
   "source": [
    "# get elmer element area, ice shelf draft and floating cell mask\n",
    "isfd=ds_elmer.base.values.squeeze()\n",
    "mask_isf=ds_elmer.sftflf.values.squeeze()\n",
    "cell_area=np.float64(ds_elmer.cell_area.values.squeeze())\n",
    "\n",
    "# get NEMO depth range\n",
    "e3t=ds_nemo_domain.e3t_1d.values.squeeze()"
   ]
  },
  {
   "cell_type": "markdown",
   "id": "5ac287e4",
   "metadata": {},
   "source": [
    "**WARNING** : the basin list below need to match the list of basin in NEMO. Not sure it works in case some basins do not extrapolate far enough (nn approach issue)"
   ]
  },
  {
   "cell_type": "code",
   "execution_count": null,
   "id": "1bdf10e9",
   "metadata": {},
   "outputs": [],
   "source": [
    "# compute weight for histogram\n",
    "# As there is no melt in Elmer on the partially grounded element, these element should be excluded\n",
    "ELMER_cell_to_param_sf[np.isnan(ELMER_cell_to_param_sf) | (mask_isf < 1)]=0.0\n",
    "weight=np.float64(cell_area)*np.float64(ELMER_cell_to_param_sf)\n",
    "ELMER_isfd=isfd*mask_isf\n",
    "\n",
    "# define histogram bin\n",
    "binbnds=np.zeros(shape=(e3t.shape[0]+1,))\n",
    "binbnds[1::]=np.cumsum(e3t[:])\n",
    "\n",
    "# retreive basin list id\n",
    "basin_list=set(ELMER_basins.flatten())\n",
    "\n",
    "# compute historgram for each basin\n",
    "hist_isfd=np.zeros(shape=(len(basin_list),len(e3t)))\n",
    "for ib, ibasin in enumerate(basin_list):\n",
    "    hist_isfd[ib,:],_=np.histogram(-ELMER_isfd[ELMER_basins==ibasin],binbnds,weights=weight[ELMER_basins==ibasin])\n",
    "    print(ib, ibasin, weight[ELMER_basins==ibasin].sum(), hist_isfd[ib,:].sum(), weight[ELMER_basins==ibasin].sum()-hist_isfd[ib,:].sum(), max(-ELMER_isfd[ELMER_basins==ibasin]), min(-ELMER_isfd[ELMER_basins==ibasin]))"
   ]
  },
  {
   "cell_type": "code",
   "execution_count": null,
   "id": "c4c4867c",
   "metadata": {},
   "outputs": [],
   "source": [
    "zmin_basin = {}\n",
    "zmax_basin = {}\n",
    "\n",
    "for ibasin in basin_list:\n",
    "    # Select the cells in the current basin\n",
    "    mask = (ELMER_basins == ibasin)\n",
    "    valid_draft = -ELMER_isfd[mask]  # Make draft positive down\n",
    "    valid_weight = weight[mask]\n",
    "\n",
    "    # Filter out zero-weight or nan values\n",
    "    valid = (valid_weight > 0) & np.isfinite(valid_draft)\n",
    "    if np.any(valid):\n",
    "        # Use weighted percentile function (approximation via repeat)\n",
    "        sample_depths = np.repeat(valid_draft[valid], np.maximum(valid_weight[valid]/np.min(valid_weight[valid]),1).astype(int))\n",
    "        zmin = np.percentile(sample_depths, 1)\n",
    "        zmax = np.percentile(sample_depths, 99)\n",
    "    else:\n",
    "        zmin = np.nan\n",
    "        zmax = np.nan\n",
    "\n",
    "    zmin_basin[ibasin] = zmin\n",
    "    zmax_basin[ibasin] = zmax\n"
   ]
  },
  {
   "cell_type": "code",
   "execution_count": null,
   "id": "80402fb1",
   "metadata": {},
   "outputs": [],
   "source": [
    "zmin_map = np.full_like(NEMO_mask_param_basins, 0, dtype=np.float64)\n",
    "zmax_map = np.full_like(NEMO_mask_param_basins, 0, dtype=np.float64)\n",
    "\n",
    "for ibasin in basin_list:\n",
    "    zmin_map[NEMO_mask_param_basins == ibasin] = zmin_basin[ibasin]\n",
    "    zmax_map[NEMO_mask_param_basins == ibasin] = zmax_basin[ibasin]"
   ]
  },
  {
   "cell_type": "markdown",
   "id": "52e56561",
   "metadata": {},
   "source": [
    "## Define the output file"
   ]
  },
  {
   "cell_type": "code",
   "execution_count": null,
   "id": "7402b033",
   "metadata": {},
   "outputs": [],
   "source": [
    "# for Nico's version:\n",
    "# Étape 1 : Extraire les ID uniques triés (en ignorant les valeurs invalides éventuelles comme -1)\n",
    "unique_ids = np.sort(np.unique(NEMO_mask_param_basins[NEMO_mask_param_basins >= 0]))\n",
    "\n",
    "# Étape 2 : Créer un dictionnaire de remapping avec un décalage de +1\n",
    "id_map = {orig_id: new_id for new_id, orig_id in enumerate(unique_ids, start=1)}\n",
    "\n",
    "# Étape 3 : Appliquer le remapping\n",
    "NEMO_mask_param_basins_remapped = np.full_like(NEMO_mask_param_basins, fill_value=0, dtype=np.int32)  # 0 pour \"non défini\"\n",
    "for orig_id, new_id in id_map.items():\n",
    "    NEMO_mask_param_basins_remapped[NEMO_mask_param_basins == orig_id] = new_id\n",
    "\n",
    "# Étape 4 : Nouvelle liste de basins consécutifs à partir de 1\n",
    "basin_list_remapped = np.arange(1, len(unique_ids) + 1, dtype=np.int32)"
   ]
  },
  {
   "cell_type": "code",
   "execution_count": null,
   "id": "14ce2d91",
   "metadata": {},
   "outputs": [],
   "source": [
    "# Compute global min/max for each variable\n",
    "zmin_global_min = float(np.nanmin(zmin_map))\n",
    "zmin_global_max = float(np.nanmax(zmin_map))\n",
    "zmax_global_min = float(np.nanmin(zmax_map))\n",
    "zmax_global_max = float(np.nanmax(zmax_map))\n",
    "\n",
    "area_dist_min = float(np.nanmin(hist_isfd))\n",
    "area_dist_max = float(np.nanmax(hist_isfd))\n",
    "\n",
    "param_id_min = int(np.nanmin(NEMO_mask_param_basins_remapped))\n",
    "param_id_max = int(np.nanmax(NEMO_mask_param_basins_remapped))\n",
    "\n",
    "# Create dataset for output\n",
    "ds_out = xr.Dataset(\n",
    "    data_vars=dict(\n",
    "        isf_param_id=([\"x\", \"y\"], NEMO_mask_param_basins_remapped.astype(np.int32), dict(\n",
    "            units='1',\n",
    "            long_name='ice shelf parameterization basin ID',\n",
    "            valid_min=param_id_min,\n",
    "            valid_max=param_id_max\n",
    "        )),\n",
    "        \n",
    "        isf_area_dist=([\"z\", \"id\"], hist_isfd.T, dict(\n",
    "            units='m2',\n",
    "            long_name='ice shelf draft area distribution per depth bin',\n",
    "            valid_min=area_dist_min,\n",
    "            valid_max=area_dist_max\n",
    "        )),\n",
    "        \n",
    "        isf_zmin=([\"x\", \"y\"], zmin_map, dict(\n",
    "            units='m',\n",
    "            long_name='ice shelf minimum draft depth (10th percentile)',\n",
    "            valid_min=zmin_global_min,\n",
    "            valid_max=zmin_global_max\n",
    "        )),\n",
    "        \n",
    "        isf_zmax=([\"x\", \"y\"], zmax_map, dict(\n",
    "            units='m',\n",
    "            long_name='ice shelf maximum draft depth (90th percentile)',\n",
    "            valid_min=zmax_global_min,\n",
    "            valid_max=zmax_global_max\n",
    "        )),\n",
    "    ),\n",
    "    \n",
    "    coords=dict(\n",
    "        lon=([\"x\", \"y\"], ds_nemo_domain.glamt.values.squeeze(), dict(\n",
    "            units='degrees_east',\n",
    "            long_name='longitude'\n",
    "        )),\n",
    "        lat=([\"x\", \"y\"], ds_nemo_domain.gphit.values.squeeze(), dict(\n",
    "            units='degrees_north',\n",
    "            long_name='latitude'\n",
    "        )),\n",
    "        bin_width=([\"z\"], e3t, dict(\n",
    "            units='m',\n",
    "            long_name='vertical bin thickness'\n",
    "        )),\n",
    "        basin=([\"id\"], np.array(list(basin_list_remapped)).astype(np.int32), dict(\n",
    "            long_name='list of unique basin IDs'\n",
    "        )),\n",
    "    ),\n",
    ")\n",
    "\n",
    "# Save to NetCDF\n",
    "ds_out.to_netcdf('isf_param.nc')\n"
   ]
  },
  {
   "cell_type": "code",
   "execution_count": null,
   "id": "b8f1754d",
   "metadata": {},
   "outputs": [],
   "source": [
    "import xarray as xr\n",
    "import matplotlib.pyplot as plt\n",
    "import cartopy.crs as ccrs\n",
    "import cartopy.feature as cfeature\n",
    "import numpy as np\n",
    "\n",
    "# Load your dataset\n",
    "ds = xr.open_dataset('isf_param.nc')\n",
    "\n",
    "# Extract data\n",
    "param_id = ds['isf_param_id']\n",
    "lon = ds['lon']\n",
    "lat = ds['lat']\n",
    "\n",
    "# Identifier les ID valides (1 à 84)\n",
    "valid_ids = np.arange(1, 85)\n",
    "\n",
    "# Créer une permutation aléatoire des ID\n",
    "shuffled_ids = np.random.permutation(valid_ids)\n",
    "\n",
    "# Construire un dictionnaire de remappage\n",
    "remap_dict = dict(zip(valid_ids, shuffled_ids))\n",
    "\n",
    "# Appliquer le remappage sur une copie\n",
    "param_id_shuffled = np.full_like(param_id, fill_value=-1)\n",
    "for old_id, new_id in remap_dict.items():\n",
    "    param_id_shuffled[param_id == old_id] = new_id\n",
    "\n",
    "\n",
    "# Mask bad values (-1)\n",
    "param_id_masked = np.ma.masked_where(param_id.values == 0, param_id_shuffled)\n",
    "\n",
    "# Set up projection\n",
    "proj = ccrs.SouthPolarStereo()  # EPSG:3031\n",
    "\n",
    "# Create figure and axis\n",
    "fig = plt.figure(figsize=(10, 10))\n",
    "ax = plt.axes(projection=proj)\n",
    "ax.set_extent([-180, 180, -90, -60], ccrs.PlateCarree())\n",
    "\n",
    "# Add land and ice shelves using Natural Earth features\n",
    "land = cfeature.NaturalEarthFeature('physical', 'land', '50m',\n",
    "                                    edgecolor='black', facecolor='lightgray')\n",
    "ice_shelves = cfeature.NaturalEarthFeature('physical', 'antarctic_ice_shelves_polys', '50m',\n",
    "                                           edgecolor='blue', facecolor='none')\n",
    "\n",
    "ax.add_feature(land, zorder=1)\n",
    "ax.add_feature(ice_shelves, zorder=2)\n",
    "\n",
    "# Plot the param_id map\n",
    "c = ax.pcolormesh(lon, lat, param_id_masked,\n",
    "                  transform=ccrs.PlateCarree(),\n",
    "                  cmap='tab20', shading='auto', zorder=0)\n",
    "\n",
    "# Add colorbar\n",
    "cb = plt.colorbar(c, ax=ax, orientation='horizontal', pad=0.05, shrink=0.7)\n",
    "cb.set_label(param_id.long_name)\n",
    "\n",
    "# Add gridlines\n",
    "gl = ax.gridlines(draw_labels=True, dms=True, x_inline=False, y_inline=False)\n",
    "gl.top_labels = False\n",
    "gl.right_labels = False\n",
    "\n",
    "plt.title('Ice Shelf Parameterization Basin ID (ORCA2))')\n",
    "#plt.tight_layout()\n",
    "#\n",
    "fig.savefig('basin_id_map.png', dpi=150, bbox_inches='tight', transparent=False)"
   ]
  }
 ],
 "metadata": {
  "kernelspec": {
   "display_name": "py38",
   "language": "python",
   "name": "py38"
  },
  "language_info": {
   "codemirror_mode": {
    "name": "ipython",
    "version": 3
   },
   "file_extension": ".py",
   "mimetype": "text/x-python",
   "name": "python",
   "nbconvert_exporter": "python",
   "pygments_lexer": "ipython3",
   "version": "3.8.18"
  }
 },
 "nbformat": 4,
 "nbformat_minor": 5
}
