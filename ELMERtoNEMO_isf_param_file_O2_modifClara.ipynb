{
 "cells": [
  {
   "cell_type": "markdown",
   "id": "ad7ccdeb",
   "metadata": {},
   "source": [
    "## Load modules"
   ]
  },
  {
   "cell_type": "code",
   "execution_count": 1,
   "id": "708eab55",
   "metadata": {},
   "outputs": [],
   "source": [
    "import xarray as xr\n",
    "import numpy as np\n",
    "import cdo\n",
    "import copy\n",
    "import matplotlib.pyplot as plt"
   ]
  },
  {
   "cell_type": "code",
   "execution_count": 2,
   "id": "a0561007-2465-4561-8da8-cdd0379b9246",
   "metadata": {},
   "outputs": [
    {
     "name": "stderr",
     "output_type": "stream",
     "text": [
      "QStandardPaths: error creating runtime directory '/run/user/2784' (Permission denied)\n"
     ]
    }
   ],
   "source": [
    "%matplotlib qt5"
   ]
  },
  {
   "cell_type": "markdown",
   "id": "52bed029",
   "metadata": {},
   "source": [
    "## Initialisation cdo"
   ]
  },
  {
   "cell_type": "code",
   "execution_count": 3,
   "id": "baee3fa1",
   "metadata": {},
   "outputs": [],
   "source": [
    "cdo = cdo.Cdo()"
   ]
  },
  {
   "cell_type": "markdown",
   "id": "2542ada3-862c-4f73-876c-c2e103797caf",
   "metadata": {},
   "source": [
    "## Declare paths"
   ]
  },
  {
   "cell_type": "code",
   "execution_count": 4,
   "id": "0249a954-f211-4f11-95e4-378b8fc6a1ec",
   "metadata": {},
   "outputs": [],
   "source": [
    "inputpath_raw = '/data/cburgard/MELT_PARAM_NONRESOLVED/raw/'\n",
    "inputpath_interim = '/data/cburgard/MELT_PARAM_NONRESOLVED/interim/'\n",
    "inputpath_NEMO = '/data/cburgard/PREPARE_FORCING/PREPARE_PRESCRIBED_MELT/interim/'\n",
    "inputpath_NEMO_interim = '/data/cburgard/PREPARE_FORCING/PREPARE_CAVITY_MASKS/interim/'"
   ]
  },
  {
   "cell_type": "markdown",
   "id": "14496e0f",
   "metadata": {},
   "source": [
    "## Define grids"
   ]
  },
  {
   "cell_type": "code",
   "execution_count": 48,
   "id": "a27bdc78",
   "metadata": {},
   "outputs": [],
   "source": [
    "## source grid\n",
    "fBedMachine_grid=inputpath_interim + 'basins_for_param_v5_raster_extrapolate_with_zmin_zmax_isfconc_withgrid.nc'\n",
    "BedMachine_grid=xr.open_dataset(fBedMachine_grid)\n",
    "\n",
    "## target grid\n",
    "fNEMO_grid = inputpath_NEMO_interim + 'NEMO_gridT_eORCA1_cdo.nc'\n",
    "ds_nemo_grid=xr.open_dataset(fNEMO_grid)\n",
    "fcoordinates_file = '/data/cburgard/PREPARE_FORCING/PREPARE_CAVITY_MASKS/raw/eORCA1.4.3_OpenSeas_OpenAllCav_ModStraights/coordinates.nc'\n",
    "coordinates_file = xr.open_dataset(fcoordinates_file)\n",
    "ds_nemo_grid_without_nan = inputpath_interim + 'coordinates_cdo.nc'"
   ]
  },
  {
   "cell_type": "markdown",
   "id": "2e5caece",
   "metadata": {},
   "source": [
    "## Inputs files"
   ]
  },
  {
   "cell_type": "code",
   "execution_count": 6,
   "id": "9170e0ac",
   "metadata": {},
   "outputs": [],
   "source": [
    "# BedMachine state data\n",
    "ds_BedMachine=xr.open_dataset(inputpath_NEMO_interim + 'BedMachine_v3_aggregated2km_allvars_withgrid.nc')\n",
    "\n",
    "# NEMO bedrock data\n",
    "ds_nemo_file=xr.open_dataset(inputpath_NEMO + 'eORCA1.4.3_OpenSeas_Open6largestISF_ModStraights_domain_cfg_withgrid.nc').squeeze().drop_vars('time')\n",
    "ds_nemo = ds_nemo_file[['isf_draft', 'bathy_metry']] #,'nav_lon_bnds','nav_lat_bnds'"
   ]
  },
  {
   "cell_type": "code",
   "execution_count": 7,
   "id": "c5dbc5a4-be6c-4d2a-ad55-784e2a7d3ce1",
   "metadata": {},
   "outputs": [],
   "source": [
    "glamt = coordinates_file['glamt']\n",
    "glamt.attrs = ds_nemo['nav_lon'].attrs\n",
    "\n",
    "gphit = coordinates_file['gphit']\n",
    "gphit.attrs = ds_nemo['nav_lat'].attrs"
   ]
  },
  {
   "cell_type": "code",
   "execution_count": 8,
   "id": "1bd1ebb3-27c6-46fd-89d9-9861031f5a58",
   "metadata": {},
   "outputs": [],
   "source": [
    "ds_nemo_corr = ds_nemo.assign_coords({'nav_lon': glamt, 'nav_lat': gphit})"
   ]
  },
  {
   "cell_type": "code",
   "execution_count": 9,
   "id": "f1bbecd3-c528-42ff-80ff-d11ba6244286",
   "metadata": {},
   "outputs": [],
   "source": [
    "ds_nemo_corr['mask_isf'] = (ds_nemo_corr['isf_draft'] > 0).astype(float)"
   ]
  },
  {
   "cell_type": "code",
   "execution_count": 10,
   "id": "4af63874-c228-4675-ad36-cbec5963b224",
   "metadata": {},
   "outputs": [],
   "source": [
    "ds_nemo_corr['cell_area'] = coordinates_file['e1t'] * coordinates_file['e2t']"
   ]
  },
  {
   "cell_type": "markdown",
   "id": "fc8de06d",
   "metadata": {},
   "source": [
    "# compute area not resolved by NEMO\n",
    "**Method from Pierre:**\n",
    "- conservative interpolation of Elmer floating cell to NEMO\n",
    "- set to 1 value between 0 and 1 (ie area to parametrised in NEMO)\n",
    "- conservative interpolation back to ELMER to give the cell that need to be included in the param and the area scale factor (note from Clara: not sure this last step is really needed)"
   ]
  },
  {
   "cell_type": "code",
   "execution_count": null,
   "id": "d6b3aa5f-29cd-434a-9763-f2788c3514d0",
   "metadata": {},
   "outputs": [],
   "source": [
    "# CDO interpolation\n",
    "isfconc_NEMOgrid0 = cdo.remapbil(fNEMO_grid,input=ds_BedMachine, returnArray='isf_conc')"
   ]
  },
  {
   "cell_type": "code",
   "execution_count": null,
   "id": "a1619caf-1889-4bc9-93bb-97155869c7e4",
   "metadata": {},
   "outputs": [],
   "source": [
    "isfconc_NEMOgrid = xr.DataArray(data=isfconc_NEMOgrid0, dims=['y','x']).assign_coords({'y': ds_nemo_grid.y, \n",
    "                                                                                       'x': ds_nemo_grid.x})"
   ]
  },
  {
   "cell_type": "code",
   "execution_count": 40,
   "id": "933981a8-8a06-4823-9453-40837e180054",
   "metadata": {},
   "outputs": [
    {
     "ename": "NameError",
     "evalue": "name 'isfconc_NEMOgrid' is not defined",
     "output_type": "error",
     "traceback": [
      "\u001b[0;31m---------------------------------------------------------------------------\u001b[0m",
      "\u001b[0;31mNameError\u001b[0m                                 Traceback (most recent call last)",
      "Cell \u001b[0;32mIn[40], line 1\u001b[0m\n\u001b[0;32m----> 1\u001b[0m \u001b[43misfconc_NEMOgrid\u001b[49m\u001b[38;5;241m.\u001b[39mplot()\n",
      "\u001b[0;31mNameError\u001b[0m: name 'isfconc_NEMOgrid' is not defined"
     ]
    }
   ],
   "source": [
    "isfconc_NEMOgrid.plot()"
   ]
  },
  {
   "cell_type": "code",
   "execution_count": null,
   "id": "b43f0059-545c-45ea-8ffd-a35ceca14fca",
   "metadata": {},
   "outputs": [],
   "source": [
    "NEMO_cell_to_param = (isfconc_NEMOgrid > 0) & (isfconc_NEMOgrid < 0.99)"
   ]
  },
  {
   "cell_type": "code",
   "execution_count": null,
   "id": "83252efd",
   "metadata": {},
   "outputs": [],
   "source": [
    "# create clean data_set array (cdo is very sensitive)\n",
    "ds_elmer_sftflf = xr.Dataset(\n",
    "    data_vars=dict(\n",
    "        sftflf=([\"time\",\"ncells\"], ds_elmer.sftflf.values),\n",
    "        time_instant=([\"time\"],ds_elmer.time_instant.values),\n",
    "        lon_bnds=([\"ncells\",\"vertices\"], ds_elmer_grid.lon_bnds.values),\n",
    "        lat_bnds=([\"ncells\",\"vertices\"], ds_elmer_grid.lat_bnds.values),\n",
    "        time_instant_bnds=([\"time\",\"axis_nbounds\"],ds_elmer.time_instant_bounds.values),\n",
    "    ),\n",
    "    coords=dict(\n",
    "        lon=([\"ncells\"],ds_elmer_grid.lon.values,ds_elmer_grid.lon.attrs),\n",
    "        lat=([\"ncells\"],ds_elmer_grid.lat.values,ds_elmer_grid.lat.attrs),\n",
    "    ),\n",
    ")"
   ]
  },
  {
   "cell_type": "code",
   "execution_count": null,
   "id": "9a798d73",
   "metadata": {},
   "outputs": [],
   "source": [
    "## CDO inperpolation\n",
    "### cdo.remapcon(f'{target_grid}',input=input_xrdataset, returnArray=variable_name_to_process)\n",
    "#NEMO_sftflf=cdo.remapcon(f'{fNEMO_grid}', input=ds_elmer_sftflf, returnArray='sftflf', env={\"CDO_REMAP_NORM\": \"areafrac\"}).squeeze()\n",
    "#NEMO_sftflf[0,50:60]=1 # => specific to ORCA2"
   ]
  },
  {
   "cell_type": "code",
   "execution_count": null,
   "id": "d214c761",
   "metadata": {},
   "outputs": [],
   "source": [
    "# set to 1 cell to parametrised\n",
    "#NEMO_cell_to_param=np.zeros(shape=NEMO_sftflf.shape)\n",
    "#NEMO_cell_to_param=np.where((NEMO_sftflf > 0) & (NEMO_sftflf<=1),1,0)"
   ]
  },
  {
   "cell_type": "markdown",
   "id": "f15e1797-bc9c-4714-b2ce-8f4f0c3b79b5",
   "metadata": {},
   "source": [
    "**Method from Clara:**\n",
    "- interpolation of NEMO on BedMachine grid\n",
    "- identify cells that are not or not completely taken into account in NEMO"
   ]
  },
  {
   "cell_type": "code",
   "execution_count": 13,
   "id": "85d35d2b-6fcd-40b0-8d27-6bb8d5a943f5",
   "metadata": {},
   "outputs": [],
   "source": [
    "ds_nemo_mask = ds_nemo_corr['mask_isf']"
   ]
  },
  {
   "cell_type": "code",
   "execution_count": 41,
   "id": "aebaa012-6039-4654-b075-06f5c9ce4a05",
   "metadata": {},
   "outputs": [
    {
     "data": {
      "text/plain": [
       "<matplotlib.collections.QuadMesh at 0x147dd32180d0>"
      ]
     },
     "execution_count": 41,
     "metadata": {},
     "output_type": "execute_result"
    }
   ],
   "source": [
    "ds_nemo_corr['mask_isf'].plot()"
   ]
  },
  {
   "cell_type": "code",
   "execution_count": 45,
   "id": "e85a58ae-c04b-4f4a-8a3f-4bece8dc2c30",
   "metadata": {},
   "outputs": [
    {
     "data": {
      "text/plain": [
       "<matplotlib.collections.QuadMesh at 0x147dd309e910>"
      ]
     },
     "execution_count": 45,
     "metadata": {},
     "output_type": "execute_result"
    }
   ],
   "source": [
    "ds_nemo_corr.nav_lat.plot()"
   ]
  },
  {
   "cell_type": "code",
   "execution_count": 15,
   "id": "a64aac60-82f5-4ee3-bba2-68f4313e638d",
   "metadata": {},
   "outputs": [],
   "source": [
    "isfcellconc_BMgrid0 = cdo.remapbil(fBedMachine_grid,input=ds_nemo_corr, returnArray='mask_isf')"
   ]
  },
  {
   "cell_type": "code",
   "execution_count": 16,
   "id": "a36c18ad-a880-47e7-a391-e60f3bc173ed",
   "metadata": {},
   "outputs": [],
   "source": [
    "isfcellconc_BMgrid = xr.DataArray(data=isfcellconc_BMgrid0, dims=['y','x']).assign_coords({'y': BedMachine_grid.y, \n",
    "                                                         'x': BedMachine_grid.x})"
   ]
  },
  {
   "cell_type": "markdown",
   "id": "13165833-31f6-4c98-a835-311a8e2c2978",
   "metadata": {},
   "source": [
    "Assign basins to the regions of isf conc between 0 and 1"
   ]
  },
  {
   "cell_type": "code",
   "execution_count": 27,
   "id": "e70c538b-a47a-4f1f-8a7f-07b9e2a375b2",
   "metadata": {},
   "outputs": [],
   "source": [
    "## Read basin file at 2km\n",
    "ds_ANT_basins=xr.open_dataset(inputpath_raw + 'basins_for_param_v5_raster_extrapolate_setgrid.nc')['Band1']"
   ]
  },
  {
   "cell_type": "code",
   "execution_count": 31,
   "id": "93236457-788a-43a2-833b-ed819ce92984",
   "metadata": {},
   "outputs": [],
   "source": [
    "basin_mask_nonresolved = ds_ANT_basins.where((isfcellconc_BMgrid > 0) & (isfcellconc_BMgrid < 0.99))"
   ]
  },
  {
   "cell_type": "markdown",
   "id": "80ea1bc4-db69-4d18-a618-8e364acc822c",
   "metadata": {},
   "source": [
    "Check if all the basins are present in NEMO"
   ]
  },
  {
   "cell_type": "code",
   "execution_count": 89,
   "id": "eb042a12-47df-4f54-a0cc-9873ada44b61",
   "metadata": {},
   "outputs": [],
   "source": [
    "## CDO inperpolation\n",
    "NEMO_basins=cdo.remapnn(ds_nemo_grid_without_nan,input=ds_ANT_basins, returnArray='Band1').squeeze() \n",
    "#compare_NEMO_basins=cdo.remapnn(fNEMO_grid,input=ds_ANT_basins, returnArray='Band1').squeeze() #=> doesn't work because the coordinates file is not in cdo format and  "
   ]
  },
  {
   "cell_type": "code",
   "execution_count": 90,
   "id": "99d1925e-e516-4cea-89c2-180c923afbc0",
   "metadata": {},
   "outputs": [],
   "source": [
    "NEMO_basins_da = xr.DataArray(data=NEMO_basins,dims=ds_nemo_corr.dims)\n",
    "#compare_NEMO_basins_da = xr.DataArray(data=compare_NEMO_basins,dims=ds_nemo_corr.dims)"
   ]
  },
  {
   "cell_type": "code",
   "execution_count": null,
   "id": "84b7e811-140b-4d68-bce8-6369b83201d2",
   "metadata": {},
   "outputs": [],
   "source": [
    "# check the bounds are the right ones\n",
    "#(NEMO_basins_da - compare_NEMO_basins_da).where(compare_NEMO_basins_da != 6).plot(vmax=10)"
   ]
  },
  {
   "cell_type": "code",
   "execution_count": 103,
   "id": "d7be1940-bdfe-41cd-b427-c8a19eb21521",
   "metadata": {},
   "outputs": [],
   "source": [
    "# define basins \"present\" in NEMO\n",
    "ocean_mask = ds_nemo_file['bathy_metry'] > 0\n",
    "basin_in_ocean = NEMO_basins_da.where(ocean_mask)"
   ]
  },
  {
   "cell_type": "code",
   "execution_count": 104,
   "id": "cf5e8c50-3af3-48de-b68a-599ed7c30655",
   "metadata": {},
   "outputs": [
    {
     "name": "stderr",
     "output_type": "stream",
     "text": [
      "/scratchu/cburgard/climafcache/ipykernel_3212510/2422898331.py:2: RuntimeWarning: invalid value encountered in cast\n",
      "  NEMO_basins_list = np.unique(basin_in_ocean).astype(int)\n",
      "/scratchu/cburgard/climafcache/ipykernel_3212510/2422898331.py:3: RuntimeWarning: invalid value encountered in cast\n",
      "  ANT_basins_list = np.unique(basin_mask_nonresolved).astype(int)\n"
     ]
    }
   ],
   "source": [
    "# get list of ID avalable in NEMO along the 'coastal' band\n",
    "NEMO_basins_list = np.unique(basin_in_ocean).astype(int)\n",
    "ANT_basins_list = np.unique(basin_mask_nonresolved).astype(int)"
   ]
  },
  {
   "cell_type": "code",
   "execution_count": 108,
   "id": "03a15400-243d-40b5-94bf-b1bff0df6a5b",
   "metadata": {},
   "outputs": [
    {
     "data": {
      "text/plain": [
       "131"
      ]
     },
     "execution_count": 108,
     "metadata": {},
     "output_type": "execute_result"
    }
   ],
   "source": [
    "len(NEMO_basins_list)"
   ]
  },
  {
   "cell_type": "code",
   "execution_count": 109,
   "id": "18cee193-7f18-4ef3-9792-4302e4051260",
   "metadata": {},
   "outputs": [
    {
     "data": {
      "text/plain": [
       "52"
      ]
     },
     "execution_count": 109,
     "metadata": {},
     "output_type": "execute_result"
    }
   ],
   "source": [
    "len(ANT_basins_list)"
   ]
  },
  {
   "cell_type": "code",
   "execution_count": null,
   "id": "f8e6cabf-108c-421c-8ec7-44833eddd042",
   "metadata": {},
   "outputs": [],
   "source": [
    "########### FROM PIERRE"
   ]
  },
  {
   "cell_type": "markdown",
   "id": "568dd9d7",
   "metadata": {},
   "source": [
    "## Read NEMO geometry and ELMER data (I don't think that it's needed here)"
   ]
  },
  {
   "cell_type": "code",
   "execution_count": null,
   "id": "76c04c70-de80-4caa-a28d-a81f48a45fc1",
   "metadata": {
    "jp-MarkdownHeadingCollapsed": true
   },
   "outputs": [],
   "source": [
    "# Read domain_cfg.nc\n",
    "#ds_nemo_domain=xr.open_dataset('domain_cfg_O2.nc')\n",
    "#NEMO_isfd=ds_nemo_domain.top_level.squeeze()\n",
    "\n",
    "# get NEMO mask\n",
    "#NEMO_mask=ds_nemo_domain.bottom_level.squeeze()\n",
    "#NEMO_mask=np.where(NEMO_mask>0,1,0)\n",
    "#NEMO_mask[30::,:]=1 # => specific to ORCA2\n",
    "\n",
    "# interpolation back to Elmer to retreive the area scale factor\n",
    "#ds_nemo_param=copy.deepcopy(ds_nemo_grid).rename_vars({'dummy': 'cell_to_param'})\n",
    "#ds_nemo_param['cell_to_param'].values=NEMO_cell_to_param.squeeze()\n",
    "\n",
    "## CDO inperpolation\n",
    "#ELMER_cell_to_param_sf=ds_elmer.sftflf.values.squeeze()"
   ]
  },
  {
   "cell_type": "markdown",
   "id": "a7cb61ba",
   "metadata": {},
   "source": [
    "## Define the cell where to activate the param in NEMO\n",
    "\n",
    "Maybe this need to be done before the reinterpolation back to ELMER and the draft distribution.\n",
    " * compute list of basin from the NEMO_mask_param_basins variables\n",
    " * mask the missing basin in the NEMO_basins variable\n",
    " * do a nn extrapolation on the NEMO grid\n",
    " * interpolate back to ELMER\n",
    " * compute the isf draft distribution"
   ]
  },
  {
   "cell_type": "code",
   "execution_count": null,
   "id": "71ffe59a",
   "metadata": {},
   "outputs": [],
   "source": [
    "# Define NEMO coastal mask of the area to parametrised\n",
    "def get_coastal_msk(mask_in,lewp):\n",
    "    nj_out=mask_in.shape[0]\n",
    "    ni_out=mask_in.shape[1]\n",
    "\n",
    "    if lewp:\n",
    "        mask=np.zeros(shape=(nj_out,ni_out+2))\n",
    "        mask[:,1:-1]=mask_in\n",
    "        mask[:, 0]=mask[:,-2]\n",
    "        mask[:,-1]=mask[:, 1]\n",
    "        xslc=slice(0,ni_out)\n",
    "    else:\n",
    "        mask=mask_in\n",
    "        xslc=slice(1,-1)\n",
    "        \n",
    "    mask_coast=np.zeros(shape=(nj_out,ni_out))\n",
    "    mask_coast[1:-1,xslc]= ( mask[1:-1,1:-1] + \n",
    "                             mask[0:-2,1:-1] + mask[2::,1:-1] + mask[1:-1,0:-2] + mask[1:-1,2::] +\n",
    "                             mask[0:-2,0:-2] + mask[2::,2::]  + mask[2::,0:-2]  + mask[0:-2,2::] ) * mask[1:-1,1:-1]\n",
    "    mask_coast[(mask_coast > 1) & (mask_coast < 9)] = 10\n",
    "    mask_coast[mask_coast!=10]=np.nan\n",
    "    mask_coast=mask_coast.astype(np.float32)\n",
    "    mask_coast[mask_coast==10]=1\n",
    "    \n",
    "    return mask_coast"
   ]
  },
  {
   "cell_type": "code",
   "execution_count": null,
   "id": "7542f05e",
   "metadata": {},
   "outputs": [],
   "source": [
    "# get coastal cell along area to parametrized\n",
    "# method:\n",
    "# - reverse the cell_to_param mask\n",
    "# - detect contour\n",
    "# - pick from contour only the ocean points\n",
    "NEMO_mask_param_basins=-np.zeros(shape=NEMO_cell_to_param.shape)\n",
    "#NEMO_mask_param_basins=np.where(NEMO_cell_to_param>0,0,1)\n",
    "NEMO_mask_param_basins=get_coastal_msk(NEMO_mask,True)\n",
    "NEMO_mask_param_basins[np.isnan(NEMO_mask_param_basins) | (NEMO_mask==0)]=-1\n",
    "\n"
   ]
  },
  {
   "cell_type": "code",
   "execution_count": null,
   "id": "7c9b9236",
   "metadata": {},
   "outputs": [],
   "source": [
    "plt.pcolormesh(get_coastal_msk(NEMO_mask,True))\n",
    "plt.colorbar()"
   ]
  },
  {
   "cell_type": "code",
   "execution_count": null,
   "id": "a1923cc0",
   "metadata": {},
   "outputs": [],
   "source": [
    "plt.pcolormesh(NEMO_mask_param_basins)\n",
    "plt.colorbar()"
   ]
  },
  {
   "cell_type": "markdown",
   "id": "4b58300b",
   "metadata": {},
   "source": [
    "# Manage basins\n",
    "## Interpolation of basin variable from Elmer to NEMO grid\n",
    "**Method:** cdo nearest neighbourg\n",
    "\n",
    "**Warning** : \n",
    " * possibly this need to be move after the domain cfg computation\n",
    " * why not use the extrapolate basin file on stereo ?"
   ]
  },
  {
   "cell_type": "code",
   "execution_count": 19,
   "id": "3e40bb56",
   "metadata": {},
   "outputs": [],
   "source": [
    "## Read basin file at 2km\n",
    "ds_ANT_basins=xr.open_dataset(inputpath_raw + 'basins_for_param_v5_raster_extrapolate_setgrid.nc')\n",
    "\n",
    "## CDO inperpolation\n",
    "NEMO_basins=cdo.remapnn(f'{fNEMO_grid}',input=ds_ANT_basins, returnArray='Band1').squeeze()"
   ]
  },
  {
   "cell_type": "markdown",
   "id": "712f15a0",
   "metadata": {},
   "source": [
    "## Get all the basins id mask along the 'coastal' band"
   ]
  },
  {
   "cell_type": "code",
   "execution_count": null,
   "id": "c7934c94",
   "metadata": {},
   "outputs": [],
   "source": [
    "# get basin number for each coastal cell\n",
    "#NEMO_mask_param_basins=np.where((NEMO_mask_param_basins >= 0), NEMO_basins, -1)"
   ]
  },
  {
   "cell_type": "code",
   "execution_count": 20,
   "id": "2771c502-64ba-4a25-aeea-108ef1032417",
   "metadata": {},
   "outputs": [
    {
     "data": {
      "text/plain": [
       "masked_array(\n",
       "  data=[[ 2,  2, 85, ...,  6,  6,  6],\n",
       "        [ 2, 85, 85, ...,  6,  6,  6],\n",
       "        [ 2, 85, 85, ...,  6,  6,  6],\n",
       "        ...,\n",
       "        [ 6,  6,  6, ...,  6,  6,  6],\n",
       "        [ 6,  6,  6, ...,  6,  6,  6],\n",
       "        [ 6,  6,  6, ...,  6,  6,  6]],\n",
       "  mask=False,\n",
       "  fill_value=999999,\n",
       "  dtype=int32)"
      ]
     },
     "execution_count": 20,
     "metadata": {},
     "output_type": "execute_result"
    }
   ],
   "source": [
    "NEMO_basins"
   ]
  },
  {
   "cell_type": "code",
   "execution_count": null,
   "id": "9e3bbdef-31bb-41d7-811a-4aebad9bd1b2",
   "metadata": {},
   "outputs": [],
   "source": [
    "mask_basins_nonresolved_points = isfcellconc_BMgrid"
   ]
  },
  {
   "cell_type": "code",
   "execution_count": null,
   "id": "e3085917",
   "metadata": {},
   "outputs": [],
   "source": [
    "# get list of ID avalable in NEMO along the 'coastal' band\n",
    "NEMO_basins_list = np.unique(NEMO_mask_param_basins[NEMO_mask_param_basins >= 0]).astype(int)\n",
    "ANT_basins_list = np.unique(ds_ANT_basins.Band1).astype(int)"
   ]
  },
  {
   "cell_type": "markdown",
   "id": "9b821f1e",
   "metadata": {},
   "source": [
    "## Interpolation back to Elmer from NEMO grid\n",
    "**Why:** We need to do this in case some small basins have been removed during the nn interpolation to NEMO. Without this step, there is possibility that the sum of the area distribution seen by NEMO do not match the total area to parametrised in ELMER.  "
   ]
  },
  {
   "cell_type": "code",
   "execution_count": null,
   "id": "ce62fea8",
   "metadata": {},
   "outputs": [],
   "source": [
    "# Define the new basin mask based on the list of available basins\n",
    "## Mask all id not present in the list in the original basin file\n",
    "ANT_basins_corr=ds_ANT_basins.Band1.copy()\n",
    "for basin in set(ANT_basins_list) - set(NEMO_basins_list):\n",
    "    ANT_basins_corr.values[ANT_basins_corr.values == basin] = np.nan\n"
   ]
  },
  {
   "cell_type": "code",
   "execution_count": null,
   "id": "0dfd45eb",
   "metadata": {},
   "outputs": [],
   "source": [
    "\n",
    "## Extrapolate the fill the corrected id mask\n",
    "from scipy.interpolate import NearestNDInterpolator\n",
    "data = ANT_basins_corr.values\n",
    "mask=np.where(~np.isnan(data))\n",
    "interp = NearestNDInterpolator(np.transpose(mask), data[mask])\n",
    "ANT_basins_corr.values = interp(*np.indices(data.shape))\n"
   ]
  },
  {
   "cell_type": "code",
   "execution_count": null,
   "id": "65bc3ec6",
   "metadata": {},
   "outputs": [],
   "source": [
    "## Interpolate the correct mask to Elmer\n",
    "ELMER_basins=cdo.remapnn(f'{fELMER_grid}',input=ANT_basins_corr, returnArray='Band1')"
   ]
  },
  {
   "cell_type": "markdown",
   "id": "63361786",
   "metadata": {},
   "source": [
    "# Interpolation back from NEMO to ELMER to retreive the area scale factor"
   ]
  },
  {
   "cell_type": "markdown",
   "id": "1680bd7c",
   "metadata": {},
   "source": [
    "## Compute depth distribution"
   ]
  },
  {
   "cell_type": "code",
   "execution_count": null,
   "id": "f07e5425",
   "metadata": {},
   "outputs": [],
   "source": [
    "# get elmer element area, ice shelf draft and floating cell mask\n",
    "isfd=ds_elmer.base.values.squeeze()\n",
    "mask_isf=ds_elmer.sftflf.values.squeeze()\n",
    "cell_area=np.float64(ds_elmer.cell_area.values.squeeze())\n",
    "\n",
    "# get NEMO depth range\n",
    "e3t=ds_nemo_domain.e3t_1d.values.squeeze()"
   ]
  },
  {
   "cell_type": "markdown",
   "id": "5ac287e4",
   "metadata": {},
   "source": [
    "**WARNING** : the basin list below need to match the list of basin in NEMO. Not sure it works in case some basins do not extrapolate far enough (nn approach issue)"
   ]
  },
  {
   "cell_type": "code",
   "execution_count": null,
   "id": "1bdf10e9",
   "metadata": {},
   "outputs": [],
   "source": [
    "# compute weight for histogram\n",
    "# As there is no melt in Elmer on the partially grounded element, these element should be excluded\n",
    "ELMER_cell_to_param_sf[np.isnan(ELMER_cell_to_param_sf) | (mask_isf < 1)]=0.0\n",
    "weight=np.float64(cell_area)*np.float64(ELMER_cell_to_param_sf)\n",
    "ELMER_isfd=isfd*mask_isf\n",
    "\n",
    "# define histogram bin\n",
    "binbnds=np.zeros(shape=(e3t.shape[0]+1,))\n",
    "binbnds[1::]=np.cumsum(e3t[:])\n",
    "\n",
    "# retreive basin list id\n",
    "basin_list=set(ELMER_basins.flatten())\n",
    "\n",
    "# compute historgram for each basin\n",
    "hist_isfd=np.zeros(shape=(len(basin_list),len(e3t)))\n",
    "for ib, ibasin in enumerate(basin_list):\n",
    "    hist_isfd[ib,:],_=np.histogram(-ELMER_isfd[ELMER_basins==ibasin],binbnds,weights=weight[ELMER_basins==ibasin])\n",
    "    print(ib, ibasin, weight[ELMER_basins==ibasin].sum(), hist_isfd[ib,:].sum(), weight[ELMER_basins==ibasin].sum()-hist_isfd[ib,:].sum(), max(-ELMER_isfd[ELMER_basins==ibasin]), min(-ELMER_isfd[ELMER_basins==ibasin]))"
   ]
  },
  {
   "cell_type": "code",
   "execution_count": null,
   "id": "c4c4867c",
   "metadata": {},
   "outputs": [],
   "source": [
    "zmin_basin = {}\n",
    "zmax_basin = {}\n",
    "\n",
    "for ibasin in basin_list:\n",
    "    # Select the cells in the current basin\n",
    "    mask = (ELMER_basins == ibasin)\n",
    "    valid_draft = -ELMER_isfd[mask]  # Make draft positive down\n",
    "    valid_weight = weight[mask]\n",
    "\n",
    "    # Filter out zero-weight or nan values\n",
    "    valid = (valid_weight > 0) & np.isfinite(valid_draft)\n",
    "    if np.any(valid):\n",
    "        # Use weighted percentile function (approximation via repeat)\n",
    "        sample_depths = np.repeat(valid_draft[valid], np.maximum(valid_weight[valid]/np.min(valid_weight[valid]),1).astype(int))\n",
    "        zmin = np.percentile(sample_depths, 1)\n",
    "        zmax = np.percentile(sample_depths, 99)\n",
    "    else:\n",
    "        zmin = np.nan\n",
    "        zmax = np.nan\n",
    "\n",
    "    zmin_basin[ibasin] = zmin\n",
    "    zmax_basin[ibasin] = zmax\n"
   ]
  },
  {
   "cell_type": "code",
   "execution_count": null,
   "id": "80402fb1",
   "metadata": {},
   "outputs": [],
   "source": [
    "zmin_map = np.full_like(NEMO_mask_param_basins, 0, dtype=np.float64)\n",
    "zmax_map = np.full_like(NEMO_mask_param_basins, 0, dtype=np.float64)\n",
    "\n",
    "for ibasin in basin_list:\n",
    "    zmin_map[NEMO_mask_param_basins == ibasin] = zmin_basin[ibasin]\n",
    "    zmax_map[NEMO_mask_param_basins == ibasin] = zmax_basin[ibasin]"
   ]
  },
  {
   "cell_type": "markdown",
   "id": "52e56561",
   "metadata": {},
   "source": [
    "## Define the output file"
   ]
  },
  {
   "cell_type": "code",
   "execution_count": null,
   "id": "7402b033",
   "metadata": {},
   "outputs": [],
   "source": [
    "# for Nico's version:\n",
    "# Étape 1 : Extraire les ID uniques triés (en ignorant les valeurs invalides éventuelles comme -1)\n",
    "unique_ids = np.sort(np.unique(NEMO_mask_param_basins[NEMO_mask_param_basins >= 0]))\n",
    "\n",
    "# Étape 2 : Créer un dictionnaire de remapping avec un décalage de +1\n",
    "id_map = {orig_id: new_id for new_id, orig_id in enumerate(unique_ids, start=1)}\n",
    "\n",
    "# Étape 3 : Appliquer le remapping\n",
    "NEMO_mask_param_basins_remapped = np.full_like(NEMO_mask_param_basins, fill_value=0, dtype=np.int32)  # 0 pour \"non défini\"\n",
    "for orig_id, new_id in id_map.items():\n",
    "    NEMO_mask_param_basins_remapped[NEMO_mask_param_basins == orig_id] = new_id\n",
    "\n",
    "# Étape 4 : Nouvelle liste de basins consécutifs à partir de 1\n",
    "basin_list_remapped = np.arange(1, len(unique_ids) + 1, dtype=np.int32)"
   ]
  },
  {
   "cell_type": "code",
   "execution_count": null,
   "id": "14ce2d91",
   "metadata": {},
   "outputs": [],
   "source": [
    "# Compute global min/max for each variable\n",
    "zmin_global_min = float(np.nanmin(zmin_map))\n",
    "zmin_global_max = float(np.nanmax(zmin_map))\n",
    "zmax_global_min = float(np.nanmin(zmax_map))\n",
    "zmax_global_max = float(np.nanmax(zmax_map))\n",
    "\n",
    "area_dist_min = float(np.nanmin(hist_isfd))\n",
    "area_dist_max = float(np.nanmax(hist_isfd))\n",
    "\n",
    "param_id_min = int(np.nanmin(NEMO_mask_param_basins_remapped))\n",
    "param_id_max = int(np.nanmax(NEMO_mask_param_basins_remapped))\n",
    "\n",
    "# Create dataset for output\n",
    "ds_out = xr.Dataset(\n",
    "    data_vars=dict(\n",
    "        isf_param_id=([\"x\", \"y\"], NEMO_mask_param_basins_remapped.astype(np.int32), dict(\n",
    "            units='1',\n",
    "            long_name='ice shelf parameterization basin ID',\n",
    "            valid_min=param_id_min,\n",
    "            valid_max=param_id_max\n",
    "        )),\n",
    "        \n",
    "        isf_area_dist=([\"z\", \"id\"], hist_isfd.T, dict(\n",
    "            units='m2',\n",
    "            long_name='ice shelf draft area distribution per depth bin',\n",
    "            valid_min=area_dist_min,\n",
    "            valid_max=area_dist_max\n",
    "        )),\n",
    "        \n",
    "        isf_zmin=([\"x\", \"y\"], zmin_map, dict(\n",
    "            units='m',\n",
    "            long_name='ice shelf minimum draft depth (10th percentile)',\n",
    "            valid_min=zmin_global_min,\n",
    "            valid_max=zmin_global_max\n",
    "        )),\n",
    "        \n",
    "        isf_zmax=([\"x\", \"y\"], zmax_map, dict(\n",
    "            units='m',\n",
    "            long_name='ice shelf maximum draft depth (90th percentile)',\n",
    "            valid_min=zmax_global_min,\n",
    "            valid_max=zmax_global_max\n",
    "        )),\n",
    "    ),\n",
    "    \n",
    "    coords=dict(\n",
    "        lon=([\"x\", \"y\"], ds_nemo_domain.glamt.values.squeeze(), dict(\n",
    "            units='degrees_east',\n",
    "            long_name='longitude'\n",
    "        )),\n",
    "        lat=([\"x\", \"y\"], ds_nemo_domain.gphit.values.squeeze(), dict(\n",
    "            units='degrees_north',\n",
    "            long_name='latitude'\n",
    "        )),\n",
    "        bin_width=([\"z\"], e3t, dict(\n",
    "            units='m',\n",
    "            long_name='vertical bin thickness'\n",
    "        )),\n",
    "        basin=([\"id\"], np.array(list(basin_list_remapped)).astype(np.int32), dict(\n",
    "            long_name='list of unique basin IDs'\n",
    "        )),\n",
    "    ),\n",
    ")\n",
    "\n",
    "# Save to NetCDF\n",
    "ds_out.to_netcdf('isf_param.nc')\n"
   ]
  },
  {
   "cell_type": "code",
   "execution_count": null,
   "id": "b8f1754d",
   "metadata": {},
   "outputs": [],
   "source": [
    "import xarray as xr\n",
    "import matplotlib.pyplot as plt\n",
    "import cartopy.crs as ccrs\n",
    "import cartopy.feature as cfeature\n",
    "import numpy as np\n",
    "\n",
    "# Load your dataset\n",
    "ds = xr.open_dataset('isf_param.nc')\n",
    "\n",
    "# Extract data\n",
    "param_id = ds['isf_param_id']\n",
    "lon = ds['lon']\n",
    "lat = ds['lat']\n",
    "\n",
    "# Identifier les ID valides (1 à 84)\n",
    "valid_ids = np.arange(1, 85)\n",
    "\n",
    "# Créer une permutation aléatoire des ID\n",
    "shuffled_ids = np.random.permutation(valid_ids)\n",
    "\n",
    "# Construire un dictionnaire de remappage\n",
    "remap_dict = dict(zip(valid_ids, shuffled_ids))\n",
    "\n",
    "# Appliquer le remappage sur une copie\n",
    "param_id_shuffled = np.full_like(param_id, fill_value=-1)\n",
    "for old_id, new_id in remap_dict.items():\n",
    "    param_id_shuffled[param_id == old_id] = new_id\n",
    "\n",
    "\n",
    "# Mask bad values (-1)\n",
    "param_id_masked = np.ma.masked_where(param_id.values == 0, param_id_shuffled)\n",
    "\n",
    "# Set up projection\n",
    "proj = ccrs.SouthPolarStereo()  # EPSG:3031\n",
    "\n",
    "# Create figure and axis\n",
    "fig = plt.figure(figsize=(10, 10))\n",
    "ax = plt.axes(projection=proj)\n",
    "ax.set_extent([-180, 180, -90, -60], ccrs.PlateCarree())\n",
    "\n",
    "# Add land and ice shelves using Natural Earth features\n",
    "land = cfeature.NaturalEarthFeature('physical', 'land', '50m',\n",
    "                                    edgecolor='black', facecolor='lightgray')\n",
    "ice_shelves = cfeature.NaturalEarthFeature('physical', 'antarctic_ice_shelves_polys', '50m',\n",
    "                                           edgecolor='blue', facecolor='none')\n",
    "\n",
    "ax.add_feature(land, zorder=1)\n",
    "ax.add_feature(ice_shelves, zorder=2)\n",
    "\n",
    "# Plot the param_id map\n",
    "c = ax.pcolormesh(lon, lat, param_id_masked,\n",
    "                  transform=ccrs.PlateCarree(),\n",
    "                  cmap='tab20', shading='auto', zorder=0)\n",
    "\n",
    "# Add colorbar\n",
    "cb = plt.colorbar(c, ax=ax, orientation='horizontal', pad=0.05, shrink=0.7)\n",
    "cb.set_label(param_id.long_name)\n",
    "\n",
    "# Add gridlines\n",
    "gl = ax.gridlines(draw_labels=True, dms=True, x_inline=False, y_inline=False)\n",
    "gl.top_labels = False\n",
    "gl.right_labels = False\n",
    "\n",
    "plt.title('Ice Shelf Parameterization Basin ID (ORCA2))')\n",
    "#plt.tight_layout()\n",
    "#\n",
    "fig.savefig('basin_id_map.png', dpi=150, bbox_inches='tight', transparent=False)"
   ]
  }
 ],
 "metadata": {
  "kernelspec": {
   "display_name": "py38",
   "language": "python",
   "name": "py38"
  },
  "language_info": {
   "codemirror_mode": {
    "name": "ipython",
    "version": 3
   },
   "file_extension": ".py",
   "mimetype": "text/x-python",
   "name": "python",
   "nbconvert_exporter": "python",
   "pygments_lexer": "ipython3",
   "version": "3.8.18"
  }
 },
 "nbformat": 4,
 "nbformat_minor": 5
}
