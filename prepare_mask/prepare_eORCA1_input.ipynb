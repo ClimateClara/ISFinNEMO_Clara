{
 "cells": [
  {
   "cell_type": "code",
   "execution_count": null,
   "id": "d33a0ba0-1949-4d4b-9aef-2de855d159ce",
   "metadata": {},
   "outputs": [],
   "source": [
    "\"\"\"\n",
    "Created on Mon Oct 21 16:13 2024\n",
    "\n",
    "Prepare what's needed for eORCA1 on the ice-shelf side\n",
    "\n",
    "@author: Clara Burgard\n",
    "\"\"\""
   ]
  },
  {
   "cell_type": "code",
   "execution_count": 30,
   "id": "812a31bc-f951-4981-bdea-34cc08532611",
   "metadata": {},
   "outputs": [],
   "source": [
    "import xarray as xr\n",
    "import numpy as np\n",
    "from cdo import Cdo\n",
    "from tqdm.notebook import tqdm\n",
    "import matplotlib.pyplot as plt\n",
    "from datetime import date\n",
    "#import xesmf as xe"
   ]
  },
  {
   "cell_type": "code",
   "execution_count": 2,
   "id": "51657dc2-6a20-4a1f-a799-43df9c3576c0",
   "metadata": {},
   "outputs": [],
   "source": [
    "%matplotlib qt5"
   ]
  },
  {
   "cell_type": "code",
   "execution_count": 32,
   "id": "b5ec574f-922f-4460-ab83-6a03429e0fd6",
   "metadata": {},
   "outputs": [
    {
     "name": "stdout",
     "output_type": "stream",
     "text": [
      "this is CDO version 1.9.9rc1\n"
     ]
    }
   ],
   "source": [
    "cdo = Cdo()\n",
    "print('this is CDO version %s'%(cdo.version()))"
   ]
  },
  {
   "cell_type": "code",
   "execution_count": 19,
   "id": "33919035-9b27-4254-b541-485be1a642d4",
   "metadata": {},
   "outputs": [],
   "source": [
    "inputpath_raw = '/data/cburgard/PREPARE_FORCING/PREPARE_CAVITY_MASKS/raw/'\n",
    "inputpath_interim = '/data/cburgard/PREPARE_FORCING/PREPARE_CAVITY_MASKS/interim/'"
   ]
  },
  {
   "cell_type": "code",
   "execution_count": 20,
   "id": "f55dbae1-fa94-4b4d-8378-75248c6601f8",
   "metadata": {},
   "outputs": [],
   "source": [
    "file_Justine = xr.open_dataset(inputpath_interim + 'Mask_Iceshelf_IMBIE2_v2_with_zmin_zmax_isfconc.nc').drop('quantile')"
   ]
  },
  {
   "cell_type": "code",
   "execution_count": 21,
   "id": "1af9f5da-c49a-42d6-b0ae-1076f1d5ec3f",
   "metadata": {},
   "outputs": [],
   "source": [
    "fNEMO_mask = 'eORCA1.4.3_OpenSeas_OpenAllCav_ModStraights_domain_cfg.nc'"
   ]
  },
  {
   "cell_type": "markdown",
   "id": "60815018-5a0a-4d12-998f-5f2e72e4b3f2",
   "metadata": {},
   "source": [
    "REMAP THE ICE SHELF CONCENTRATION"
   ]
  },
  {
   "cell_type": "code",
   "execution_count": 6,
   "id": "eff7583d-7302-4911-bcb0-c4faf8ef7e7d",
   "metadata": {},
   "outputs": [],
   "source": [
    "input_grid = xr.open_dataset(inputpath_interim + 'IMBIE_2km_stereo_withbnds.nc')\n",
    "# will be provided, was created with create_cdo_stereo_grid.ipynb"
   ]
  },
  {
   "cell_type": "markdown",
   "id": "1aea1cb7-6bfe-416e-b1bc-19d486295108",
   "metadata": {},
   "source": [
    "Prepare the output NEMO grid for conservative remapping"
   ]
  },
  {
   "cell_type": "code",
   "execution_count": null,
   "id": "d52c82cd-9ea0-46d6-9036-d8fbd7c4d861",
   "metadata": {},
   "outputs": [],
   "source": [
    "# Load your curvilinear grid file\n",
    "ds = xr.open_dataset(inputpath_raw + 'eORCA1.4.3_OpenSeas_OpenAllCav_ModStraights/coordinates.nc')\n",
    "\n",
    "# Assuming the dataset has 'lat' and 'lon' variables\n",
    "lat = ds['gphit']  # 2D array of latitudes\n",
    "lon = ds['glamt'] # 2D array of longitudes\n",
    "# Create a longitude with 0-360 values to avoir a gap in the bounds later\n",
    "lon360 = lon.where(lon>0,lon+360)\n",
    "\n",
    "# Create the lat and lon of the grid corners : ll = lower left, lr = lower right, ur = upper right, ul = upper left\n",
    "meshlon_ll,meshlat_ll = (lon + lon.roll(x=-1))/2, (lat + lat.roll(x=-1))/2\n",
    "meshlon_lr,meshlat_lr = (lon + lon.roll(x=1))/2, (lat + lat.roll(x=-1))/2\n",
    "meshlon_ur,meshlat_ur = (lon + lon.roll(x=1))/2, (lat + lat.roll(x=1))/2\n",
    "meshlon_ul,meshlat_ul = (lon + lon.roll(x=-1))/2, (lat + lat.roll(x=1))/2\n",
    "\n",
    "# Create the lon of the grid corners using 0-360 : ll = lower left, lr = lower right, ur = upper right, ul = upper left\n",
    "meshlon360_ll,_ = (lon360 + lon360.roll(x=-1))/2, (lat + lat.roll(x=-1))/2\n",
    "meshlon360_lr,_ = (lon360 + lon360.roll(x=1))/2, (lat + lat.roll(x=-1))/2\n",
    "meshlon360_ur,_ = (lon360 + lon360.roll(x=1))/2, (lat + lat.roll(x=1))/2\n",
    "meshlon360_ul,_ = (lon360 + lon360.roll(x=-1))/2, (lat + lat.roll(x=1))/2\n",
    "\n",
    "lon_bnds = xr.DataArray(data=np.array([meshlon_ll, meshlon_lr, meshlon_ur, meshlon_ul]), dims=['nvertex','y','x'])\n",
    "lat_bnds = xr.DataArray(data=np.array([meshlat_ll, meshlat_lr, meshlat_ur, meshlat_ul]), dims=['nvertex','y','x'])\n",
    "lon360_bnds = xr.DataArray(data=np.array([meshlon360_ll, meshlon360_lr, meshlon360_ur, meshlon360_ul]), dims=['nvertex','y','x']) \n",
    "\n",
    "# region where longitude hops from 180 to -180\n",
    "prob_region = (lon <= -140) | (lon >= 140) & (np.abs(lon_bnds) < 25)\n",
    "new_lon_bnds = lon_bnds.where(~prob_region, lon360_bnds)\n",
    "new_lon_bnds = new_lon_bnds.where(new_lon_bnds <= 180, new_lon_bnds - 360)\n",
    "\n",
    "# format the dataset\n",
    "NEMO_new_grid = xr.merge([new_lon_bnds.rename('lon_bnds'),\n",
    "                          lat_bnds.rename('lat_bnds')]).assign_coords({'lon': lon, 'lat': lat})\n",
    "\n",
    "NEMO_new_grid['lon'].attrs['standard_name'] = 'longitude'\n",
    "NEMO_new_grid['lon'].attrs['units'] = 'degrees_east'\n",
    "NEMO_new_grid['lon'].attrs['bounds'] = 'lon_bnds'\n",
    "\n",
    "NEMO_new_grid['lat'].attrs['standard_name'] = 'latitude'\n",
    "NEMO_new_grid['lat'].attrs['units'] = 'degrees_north'\n",
    "NEMO_new_grid['lat'].attrs['bounds'] = 'lat_bnds'\n",
    "\n",
    "NEMO_new_grid['dummy'] = xr.DataArray(data=np.zeros(lon.shape), dims=['y','x'])\n",
    "\n",
    "output_grid = NEMO_new_grid[['dummy','lon','lat','lon_bnds','lat_bnds']].set_coords(\n",
    "    (\"lat_bnds\", \"lon_bnds\")).transpose('y','x','nvertex')\n",
    "output_grid.to_netcdf(inputpath_interim + 'NEMO_grid_withbnds.nc')"
   ]
  },
  {
   "cell_type": "markdown",
   "id": "8500f20c-3ff6-45c5-b888-c91d998f0fbc",
   "metadata": {},
   "source": [
    "Conservative regridding of the ice-shelf concentration"
   ]
  },
  {
   "cell_type": "code",
   "execution_count": 8,
   "id": "16a2e600-5122-4a2f-bb8d-4d9db5170844",
   "metadata": {},
   "outputs": [],
   "source": [
    "output_grid = xr.open_dataset(inputpath_interim + 'NEMO_grid_withbnds.nc')"
   ]
  },
  {
   "cell_type": "code",
   "execution_count": 10,
   "id": "96b1ea28-6812-46f2-a477-b4f4a2afde60",
   "metadata": {},
   "outputs": [
    {
     "data": {
      "text/html": [
       "<div><svg style=\"position: absolute; width: 0; height: 0; overflow: hidden\">\n",
       "<defs>\n",
       "<symbol id=\"icon-database\" viewBox=\"0 0 32 32\">\n",
       "<path d=\"M16 0c-8.837 0-16 2.239-16 5v4c0 2.761 7.163 5 16 5s16-2.239 16-5v-4c0-2.761-7.163-5-16-5z\"></path>\n",
       "<path d=\"M16 17c-8.837 0-16-2.239-16-5v6c0 2.761 7.163 5 16 5s16-2.239 16-5v-6c0 2.761-7.163 5-16 5z\"></path>\n",
       "<path d=\"M16 26c-8.837 0-16-2.239-16-5v6c0 2.761 7.163 5 16 5s16-2.239 16-5v-6c0 2.761-7.163 5-16 5z\"></path>\n",
       "</symbol>\n",
       "<symbol id=\"icon-file-text2\" viewBox=\"0 0 32 32\">\n",
       "<path d=\"M28.681 7.159c-0.694-0.947-1.662-2.053-2.724-3.116s-2.169-2.030-3.116-2.724c-1.612-1.182-2.393-1.319-2.841-1.319h-15.5c-1.378 0-2.5 1.121-2.5 2.5v27c0 1.378 1.122 2.5 2.5 2.5h23c1.378 0 2.5-1.122 2.5-2.5v-19.5c0-0.448-0.137-1.23-1.319-2.841zM24.543 5.457c0.959 0.959 1.712 1.825 2.268 2.543h-4.811v-4.811c0.718 0.556 1.584 1.309 2.543 2.268zM28 29.5c0 0.271-0.229 0.5-0.5 0.5h-23c-0.271 0-0.5-0.229-0.5-0.5v-27c0-0.271 0.229-0.5 0.5-0.5 0 0 15.499-0 15.5 0v7c0 0.552 0.448 1 1 1h7v19.5z\"></path>\n",
       "<path d=\"M23 26h-14c-0.552 0-1-0.448-1-1s0.448-1 1-1h14c0.552 0 1 0.448 1 1s-0.448 1-1 1z\"></path>\n",
       "<path d=\"M23 22h-14c-0.552 0-1-0.448-1-1s0.448-1 1-1h14c0.552 0 1 0.448 1 1s-0.448 1-1 1z\"></path>\n",
       "<path d=\"M23 18h-14c-0.552 0-1-0.448-1-1s0.448-1 1-1h14c0.552 0 1 0.448 1 1s-0.448 1-1 1z\"></path>\n",
       "</symbol>\n",
       "</defs>\n",
       "</svg>\n",
       "<style>/* CSS stylesheet for displaying xarray objects in jupyterlab.\n",
       " *\n",
       " */\n",
       "\n",
       ":root {\n",
       "  --xr-font-color0: var(--jp-content-font-color0, rgba(0, 0, 0, 1));\n",
       "  --xr-font-color2: var(--jp-content-font-color2, rgba(0, 0, 0, 0.54));\n",
       "  --xr-font-color3: var(--jp-content-font-color3, rgba(0, 0, 0, 0.38));\n",
       "  --xr-border-color: var(--jp-border-color2, #e0e0e0);\n",
       "  --xr-disabled-color: var(--jp-layout-color3, #bdbdbd);\n",
       "  --xr-background-color: var(--jp-layout-color0, white);\n",
       "  --xr-background-color-row-even: var(--jp-layout-color1, white);\n",
       "  --xr-background-color-row-odd: var(--jp-layout-color2, #eeeeee);\n",
       "}\n",
       "\n",
       "html[theme=dark],\n",
       "body[data-theme=dark],\n",
       "body.vscode-dark {\n",
       "  --xr-font-color0: rgba(255, 255, 255, 1);\n",
       "  --xr-font-color2: rgba(255, 255, 255, 0.54);\n",
       "  --xr-font-color3: rgba(255, 255, 255, 0.38);\n",
       "  --xr-border-color: #1F1F1F;\n",
       "  --xr-disabled-color: #515151;\n",
       "  --xr-background-color: #111111;\n",
       "  --xr-background-color-row-even: #111111;\n",
       "  --xr-background-color-row-odd: #313131;\n",
       "}\n",
       "\n",
       ".xr-wrap {\n",
       "  display: block !important;\n",
       "  min-width: 300px;\n",
       "  max-width: 700px;\n",
       "}\n",
       "\n",
       ".xr-text-repr-fallback {\n",
       "  /* fallback to plain text repr when CSS is not injected (untrusted notebook) */\n",
       "  display: none;\n",
       "}\n",
       "\n",
       ".xr-header {\n",
       "  padding-top: 6px;\n",
       "  padding-bottom: 6px;\n",
       "  margin-bottom: 4px;\n",
       "  border-bottom: solid 1px var(--xr-border-color);\n",
       "}\n",
       "\n",
       ".xr-header > div,\n",
       ".xr-header > ul {\n",
       "  display: inline;\n",
       "  margin-top: 0;\n",
       "  margin-bottom: 0;\n",
       "}\n",
       "\n",
       ".xr-obj-type,\n",
       ".xr-array-name {\n",
       "  margin-left: 2px;\n",
       "  margin-right: 10px;\n",
       "}\n",
       "\n",
       ".xr-obj-type {\n",
       "  color: var(--xr-font-color2);\n",
       "}\n",
       "\n",
       ".xr-sections {\n",
       "  padding-left: 0 !important;\n",
       "  display: grid;\n",
       "  grid-template-columns: 150px auto auto 1fr 20px 20px;\n",
       "}\n",
       "\n",
       ".xr-section-item {\n",
       "  display: contents;\n",
       "}\n",
       "\n",
       ".xr-section-item input {\n",
       "  display: none;\n",
       "}\n",
       "\n",
       ".xr-section-item input + label {\n",
       "  color: var(--xr-disabled-color);\n",
       "}\n",
       "\n",
       ".xr-section-item input:enabled + label {\n",
       "  cursor: pointer;\n",
       "  color: var(--xr-font-color2);\n",
       "}\n",
       "\n",
       ".xr-section-item input:enabled + label:hover {\n",
       "  color: var(--xr-font-color0);\n",
       "}\n",
       "\n",
       ".xr-section-summary {\n",
       "  grid-column: 1;\n",
       "  color: var(--xr-font-color2);\n",
       "  font-weight: 500;\n",
       "}\n",
       "\n",
       ".xr-section-summary > span {\n",
       "  display: inline-block;\n",
       "  padding-left: 0.5em;\n",
       "}\n",
       "\n",
       ".xr-section-summary-in:disabled + label {\n",
       "  color: var(--xr-font-color2);\n",
       "}\n",
       "\n",
       ".xr-section-summary-in + label:before {\n",
       "  display: inline-block;\n",
       "  content: '►';\n",
       "  font-size: 11px;\n",
       "  width: 15px;\n",
       "  text-align: center;\n",
       "}\n",
       "\n",
       ".xr-section-summary-in:disabled + label:before {\n",
       "  color: var(--xr-disabled-color);\n",
       "}\n",
       "\n",
       ".xr-section-summary-in:checked + label:before {\n",
       "  content: '▼';\n",
       "}\n",
       "\n",
       ".xr-section-summary-in:checked + label > span {\n",
       "  display: none;\n",
       "}\n",
       "\n",
       ".xr-section-summary,\n",
       ".xr-section-inline-details {\n",
       "  padding-top: 4px;\n",
       "  padding-bottom: 4px;\n",
       "}\n",
       "\n",
       ".xr-section-inline-details {\n",
       "  grid-column: 2 / -1;\n",
       "}\n",
       "\n",
       ".xr-section-details {\n",
       "  display: none;\n",
       "  grid-column: 1 / -1;\n",
       "  margin-bottom: 5px;\n",
       "}\n",
       "\n",
       ".xr-section-summary-in:checked ~ .xr-section-details {\n",
       "  display: contents;\n",
       "}\n",
       "\n",
       ".xr-array-wrap {\n",
       "  grid-column: 1 / -1;\n",
       "  display: grid;\n",
       "  grid-template-columns: 20px auto;\n",
       "}\n",
       "\n",
       ".xr-array-wrap > label {\n",
       "  grid-column: 1;\n",
       "  vertical-align: top;\n",
       "}\n",
       "\n",
       ".xr-preview {\n",
       "  color: var(--xr-font-color3);\n",
       "}\n",
       "\n",
       ".xr-array-preview,\n",
       ".xr-array-data {\n",
       "  padding: 0 5px !important;\n",
       "  grid-column: 2;\n",
       "}\n",
       "\n",
       ".xr-array-data,\n",
       ".xr-array-in:checked ~ .xr-array-preview {\n",
       "  display: none;\n",
       "}\n",
       "\n",
       ".xr-array-in:checked ~ .xr-array-data,\n",
       ".xr-array-preview {\n",
       "  display: inline-block;\n",
       "}\n",
       "\n",
       ".xr-dim-list {\n",
       "  display: inline-block !important;\n",
       "  list-style: none;\n",
       "  padding: 0 !important;\n",
       "  margin: 0;\n",
       "}\n",
       "\n",
       ".xr-dim-list li {\n",
       "  display: inline-block;\n",
       "  padding: 0;\n",
       "  margin: 0;\n",
       "}\n",
       "\n",
       ".xr-dim-list:before {\n",
       "  content: '(';\n",
       "}\n",
       "\n",
       ".xr-dim-list:after {\n",
       "  content: ')';\n",
       "}\n",
       "\n",
       ".xr-dim-list li:not(:last-child):after {\n",
       "  content: ',';\n",
       "  padding-right: 5px;\n",
       "}\n",
       "\n",
       ".xr-has-index {\n",
       "  font-weight: bold;\n",
       "}\n",
       "\n",
       ".xr-var-list,\n",
       ".xr-var-item {\n",
       "  display: contents;\n",
       "}\n",
       "\n",
       ".xr-var-item > div,\n",
       ".xr-var-item label,\n",
       ".xr-var-item > .xr-var-name span {\n",
       "  background-color: var(--xr-background-color-row-even);\n",
       "  margin-bottom: 0;\n",
       "}\n",
       "\n",
       ".xr-var-item > .xr-var-name:hover span {\n",
       "  padding-right: 5px;\n",
       "}\n",
       "\n",
       ".xr-var-list > li:nth-child(odd) > div,\n",
       ".xr-var-list > li:nth-child(odd) > label,\n",
       ".xr-var-list > li:nth-child(odd) > .xr-var-name span {\n",
       "  background-color: var(--xr-background-color-row-odd);\n",
       "}\n",
       "\n",
       ".xr-var-name {\n",
       "  grid-column: 1;\n",
       "}\n",
       "\n",
       ".xr-var-dims {\n",
       "  grid-column: 2;\n",
       "}\n",
       "\n",
       ".xr-var-dtype {\n",
       "  grid-column: 3;\n",
       "  text-align: right;\n",
       "  color: var(--xr-font-color2);\n",
       "}\n",
       "\n",
       ".xr-var-preview {\n",
       "  grid-column: 4;\n",
       "}\n",
       "\n",
       ".xr-index-preview {\n",
       "  grid-column: 2 / 5;\n",
       "  color: var(--xr-font-color2);\n",
       "}\n",
       "\n",
       ".xr-var-name,\n",
       ".xr-var-dims,\n",
       ".xr-var-dtype,\n",
       ".xr-preview,\n",
       ".xr-attrs dt {\n",
       "  white-space: nowrap;\n",
       "  overflow: hidden;\n",
       "  text-overflow: ellipsis;\n",
       "  padding-right: 10px;\n",
       "}\n",
       "\n",
       ".xr-var-name:hover,\n",
       ".xr-var-dims:hover,\n",
       ".xr-var-dtype:hover,\n",
       ".xr-attrs dt:hover {\n",
       "  overflow: visible;\n",
       "  width: auto;\n",
       "  z-index: 1;\n",
       "}\n",
       "\n",
       ".xr-var-attrs,\n",
       ".xr-var-data,\n",
       ".xr-index-data {\n",
       "  display: none;\n",
       "  background-color: var(--xr-background-color) !important;\n",
       "  padding-bottom: 5px !important;\n",
       "}\n",
       "\n",
       ".xr-var-attrs-in:checked ~ .xr-var-attrs,\n",
       ".xr-var-data-in:checked ~ .xr-var-data,\n",
       ".xr-index-data-in:checked ~ .xr-index-data {\n",
       "  display: block;\n",
       "}\n",
       "\n",
       ".xr-var-data > table {\n",
       "  float: right;\n",
       "}\n",
       "\n",
       ".xr-var-name span,\n",
       ".xr-var-data,\n",
       ".xr-index-name div,\n",
       ".xr-index-data,\n",
       ".xr-attrs {\n",
       "  padding-left: 25px !important;\n",
       "}\n",
       "\n",
       ".xr-attrs,\n",
       ".xr-var-attrs,\n",
       ".xr-var-data,\n",
       ".xr-index-data {\n",
       "  grid-column: 1 / -1;\n",
       "}\n",
       "\n",
       "dl.xr-attrs {\n",
       "  padding: 0;\n",
       "  margin: 0;\n",
       "  display: grid;\n",
       "  grid-template-columns: 125px auto;\n",
       "}\n",
       "\n",
       ".xr-attrs dt,\n",
       ".xr-attrs dd {\n",
       "  padding: 0;\n",
       "  margin: 0;\n",
       "  float: left;\n",
       "  padding-right: 10px;\n",
       "  width: auto;\n",
       "}\n",
       "\n",
       ".xr-attrs dt {\n",
       "  font-weight: normal;\n",
       "  grid-column: 1;\n",
       "}\n",
       "\n",
       ".xr-attrs dt:hover span {\n",
       "  display: inline-block;\n",
       "  background: var(--xr-background-color);\n",
       "  padding-right: 10px;\n",
       "}\n",
       "\n",
       ".xr-attrs dd {\n",
       "  grid-column: 2;\n",
       "  white-space: pre-wrap;\n",
       "  word-break: break-all;\n",
       "}\n",
       "\n",
       ".xr-icon-database,\n",
       ".xr-icon-file-text2,\n",
       ".xr-no-icon {\n",
       "  display: inline-block;\n",
       "  vertical-align: middle;\n",
       "  width: 1em;\n",
       "  height: 1.5em !important;\n",
       "  stroke-width: 0;\n",
       "  stroke: currentColor;\n",
       "  fill: currentColor;\n",
       "}\n",
       "</style><pre class='xr-text-repr-fallback'>&lt;xarray.Dataset&gt;\n",
       "Dimensions:   (y: 331, x: 360, nvertex: 4)\n",
       "Coordinates:\n",
       "    lon       (y, x) float64 ...\n",
       "    lat       (y, x) float64 ...\n",
       "    lon_bnds  (y, x, nvertex) float64 ...\n",
       "    lat_bnds  (y, x, nvertex) float64 ...\n",
       "Dimensions without coordinates: y, x, nvertex\n",
       "Data variables:\n",
       "    dummy     (y, x) float64 ...</pre><div class='xr-wrap' style='display:none'><div class='xr-header'><div class='xr-obj-type'>xarray.Dataset</div></div><ul class='xr-sections'><li class='xr-section-item'><input id='section-11f02974-e393-441b-a7dc-f446da5de7a4' class='xr-section-summary-in' type='checkbox' disabled ><label for='section-11f02974-e393-441b-a7dc-f446da5de7a4' class='xr-section-summary'  title='Expand/collapse section'>Dimensions:</label><div class='xr-section-inline-details'><ul class='xr-dim-list'><li><span>y</span>: 331</li><li><span>x</span>: 360</li><li><span>nvertex</span>: 4</li></ul></div><div class='xr-section-details'></div></li><li class='xr-section-item'><input id='section-aa65d366-7f80-486b-86ac-aecf7e58d453' class='xr-section-summary-in' type='checkbox'  checked><label for='section-aa65d366-7f80-486b-86ac-aecf7e58d453' class='xr-section-summary' >Coordinates: <span>(4)</span></label><div class='xr-section-inline-details'></div><div class='xr-section-details'><ul class='xr-var-list'><li class='xr-var-item'><div class='xr-var-name'><span>lon</span></div><div class='xr-var-dims'>(y, x)</div><div class='xr-var-dtype'>float64</div><div class='xr-var-preview xr-preview'>...</div><input id='attrs-0c5bc6aa-72c6-4069-b810-c22ca8b9f0cb' class='xr-var-attrs-in' type='checkbox' ><label for='attrs-0c5bc6aa-72c6-4069-b810-c22ca8b9f0cb' title='Show/Hide attributes'><svg class='icon xr-icon-file-text2'><use xlink:href='#icon-file-text2'></use></svg></label><input id='data-8bdec22d-86fb-438a-aeb0-ad0c3b45517a' class='xr-var-data-in' type='checkbox'><label for='data-8bdec22d-86fb-438a-aeb0-ad0c3b45517a' title='Show/Hide data repr'><svg class='icon xr-icon-database'><use xlink:href='#icon-database'></use></svg></label><div class='xr-var-attrs'><dl class='xr-attrs'><dt><span>standard_name :</span></dt><dd>longitude</dd><dt><span>units :</span></dt><dd>degrees_east</dd><dt><span>bounds :</span></dt><dd>lon_bnds</dd></dl></div><div class='xr-var-data'><pre>[119160 values with dtype=float64]</pre></div></li><li class='xr-var-item'><div class='xr-var-name'><span>lat</span></div><div class='xr-var-dims'>(y, x)</div><div class='xr-var-dtype'>float64</div><div class='xr-var-preview xr-preview'>...</div><input id='attrs-e89085e5-9f48-41a3-939a-fd37a0c3a4a4' class='xr-var-attrs-in' type='checkbox' ><label for='attrs-e89085e5-9f48-41a3-939a-fd37a0c3a4a4' title='Show/Hide attributes'><svg class='icon xr-icon-file-text2'><use xlink:href='#icon-file-text2'></use></svg></label><input id='data-2ce9466c-2de9-4b7b-b1d7-55cb8d52052a' class='xr-var-data-in' type='checkbox'><label for='data-2ce9466c-2de9-4b7b-b1d7-55cb8d52052a' title='Show/Hide data repr'><svg class='icon xr-icon-database'><use xlink:href='#icon-database'></use></svg></label><div class='xr-var-attrs'><dl class='xr-attrs'><dt><span>standard_name :</span></dt><dd>latitude</dd><dt><span>units :</span></dt><dd>degrees_north</dd><dt><span>bounds :</span></dt><dd>lat_bnds</dd></dl></div><div class='xr-var-data'><pre>[119160 values with dtype=float64]</pre></div></li><li class='xr-var-item'><div class='xr-var-name'><span>lon_bnds</span></div><div class='xr-var-dims'>(y, x, nvertex)</div><div class='xr-var-dtype'>float64</div><div class='xr-var-preview xr-preview'>...</div><input id='attrs-33fc9b73-da03-4cc0-ae5c-21144e27056e' class='xr-var-attrs-in' type='checkbox' disabled><label for='attrs-33fc9b73-da03-4cc0-ae5c-21144e27056e' title='Show/Hide attributes'><svg class='icon xr-icon-file-text2'><use xlink:href='#icon-file-text2'></use></svg></label><input id='data-aba9d633-c186-4eb3-a00e-9914702ee440' class='xr-var-data-in' type='checkbox'><label for='data-aba9d633-c186-4eb3-a00e-9914702ee440' title='Show/Hide data repr'><svg class='icon xr-icon-database'><use xlink:href='#icon-database'></use></svg></label><div class='xr-var-attrs'><dl class='xr-attrs'></dl></div><div class='xr-var-data'><pre>[476640 values with dtype=float64]</pre></div></li><li class='xr-var-item'><div class='xr-var-name'><span>lat_bnds</span></div><div class='xr-var-dims'>(y, x, nvertex)</div><div class='xr-var-dtype'>float64</div><div class='xr-var-preview xr-preview'>...</div><input id='attrs-bbc88ee9-f271-465e-96b4-725e04b89f86' class='xr-var-attrs-in' type='checkbox' disabled><label for='attrs-bbc88ee9-f271-465e-96b4-725e04b89f86' title='Show/Hide attributes'><svg class='icon xr-icon-file-text2'><use xlink:href='#icon-file-text2'></use></svg></label><input id='data-36fba2fc-a855-4f65-bf86-238faa3156f4' class='xr-var-data-in' type='checkbox'><label for='data-36fba2fc-a855-4f65-bf86-238faa3156f4' title='Show/Hide data repr'><svg class='icon xr-icon-database'><use xlink:href='#icon-database'></use></svg></label><div class='xr-var-attrs'><dl class='xr-attrs'></dl></div><div class='xr-var-data'><pre>[476640 values with dtype=float64]</pre></div></li></ul></div></li><li class='xr-section-item'><input id='section-6856a1ba-3795-4c8e-b270-0d7d6c371973' class='xr-section-summary-in' type='checkbox'  checked><label for='section-6856a1ba-3795-4c8e-b270-0d7d6c371973' class='xr-section-summary' >Data variables: <span>(1)</span></label><div class='xr-section-inline-details'></div><div class='xr-section-details'><ul class='xr-var-list'><li class='xr-var-item'><div class='xr-var-name'><span>dummy</span></div><div class='xr-var-dims'>(y, x)</div><div class='xr-var-dtype'>float64</div><div class='xr-var-preview xr-preview'>...</div><input id='attrs-be500ff5-a5f6-4f3a-98bd-e95cbb695b7d' class='xr-var-attrs-in' type='checkbox' disabled><label for='attrs-be500ff5-a5f6-4f3a-98bd-e95cbb695b7d' title='Show/Hide attributes'><svg class='icon xr-icon-file-text2'><use xlink:href='#icon-file-text2'></use></svg></label><input id='data-1663524e-e979-4be3-acb8-5217cc4a60a0' class='xr-var-data-in' type='checkbox'><label for='data-1663524e-e979-4be3-acb8-5217cc4a60a0' title='Show/Hide data repr'><svg class='icon xr-icon-database'><use xlink:href='#icon-database'></use></svg></label><div class='xr-var-attrs'><dl class='xr-attrs'></dl></div><div class='xr-var-data'><pre>[119160 values with dtype=float64]</pre></div></li></ul></div></li><li class='xr-section-item'><input id='section-93f5e891-b0ae-41a3-b423-2791bdd92c54' class='xr-section-summary-in' type='checkbox' disabled ><label for='section-93f5e891-b0ae-41a3-b423-2791bdd92c54' class='xr-section-summary'  title='Expand/collapse section'>Indexes: <span>(0)</span></label><div class='xr-section-inline-details'></div><div class='xr-section-details'><ul class='xr-var-list'></ul></div></li><li class='xr-section-item'><input id='section-96ea7bfe-64f6-4cab-8fc2-37518840f9e7' class='xr-section-summary-in' type='checkbox' disabled ><label for='section-96ea7bfe-64f6-4cab-8fc2-37518840f9e7' class='xr-section-summary'  title='Expand/collapse section'>Attributes: <span>(0)</span></label><div class='xr-section-inline-details'></div><div class='xr-section-details'><dl class='xr-attrs'></dl></div></li></ul></div></div>"
      ],
      "text/plain": [
       "<xarray.Dataset>\n",
       "Dimensions:   (y: 331, x: 360, nvertex: 4)\n",
       "Coordinates:\n",
       "    lon       (y, x) float64 ...\n",
       "    lat       (y, x) float64 ...\n",
       "    lon_bnds  (y, x, nvertex) float64 ...\n",
       "    lat_bnds  (y, x, nvertex) float64 ...\n",
       "Dimensions without coordinates: y, x, nvertex\n",
       "Data variables:\n",
       "    dummy     (y, x) float64 ..."
      ]
     },
     "execution_count": 10,
     "metadata": {},
     "output_type": "execute_result"
    }
   ],
   "source": [
    "output_grid"
   ]
  },
  {
   "cell_type": "code",
   "execution_count": 9,
   "id": "848915ba-ef9b-428a-b963-c4dc6e81e1f4",
   "metadata": {},
   "outputs": [],
   "source": [
    "regridder_con = xe.Regridder(input_grid, output_grid, \"conservative\", periodic=True, ignore_degenerate=True)"
   ]
  },
  {
   "cell_type": "code",
   "execution_count": 10,
   "id": "7e0a05ae-fb67-43e1-a392-669a4c8826d2",
   "metadata": {},
   "outputs": [],
   "source": [
    "remapped_isf_conc = regridder_con(file_Justine['isf_conc'])"
   ]
  },
  {
   "cell_type": "code",
   "execution_count": 13,
   "id": "e6540b02-81d0-43f0-b48f-14a6dd553b56",
   "metadata": {},
   "outputs": [
    {
     "data": {
      "text/html": [
       "<div><svg style=\"position: absolute; width: 0; height: 0; overflow: hidden\">\n",
       "<defs>\n",
       "<symbol id=\"icon-database\" viewBox=\"0 0 32 32\">\n",
       "<path d=\"M16 0c-8.837 0-16 2.239-16 5v4c0 2.761 7.163 5 16 5s16-2.239 16-5v-4c0-2.761-7.163-5-16-5z\"></path>\n",
       "<path d=\"M16 17c-8.837 0-16-2.239-16-5v6c0 2.761 7.163 5 16 5s16-2.239 16-5v-6c0 2.761-7.163 5-16 5z\"></path>\n",
       "<path d=\"M16 26c-8.837 0-16-2.239-16-5v6c0 2.761 7.163 5 16 5s16-2.239 16-5v-6c0 2.761-7.163 5-16 5z\"></path>\n",
       "</symbol>\n",
       "<symbol id=\"icon-file-text2\" viewBox=\"0 0 32 32\">\n",
       "<path d=\"M28.681 7.159c-0.694-0.947-1.662-2.053-2.724-3.116s-2.169-2.030-3.116-2.724c-1.612-1.182-2.393-1.319-2.841-1.319h-15.5c-1.378 0-2.5 1.121-2.5 2.5v27c0 1.378 1.122 2.5 2.5 2.5h23c1.378 0 2.5-1.122 2.5-2.5v-19.5c0-0.448-0.137-1.23-1.319-2.841zM24.543 5.457c0.959 0.959 1.712 1.825 2.268 2.543h-4.811v-4.811c0.718 0.556 1.584 1.309 2.543 2.268zM28 29.5c0 0.271-0.229 0.5-0.5 0.5h-23c-0.271 0-0.5-0.229-0.5-0.5v-27c0-0.271 0.229-0.5 0.5-0.5 0 0 15.499-0 15.5 0v7c0 0.552 0.448 1 1 1h7v19.5z\"></path>\n",
       "<path d=\"M23 26h-14c-0.552 0-1-0.448-1-1s0.448-1 1-1h14c0.552 0 1 0.448 1 1s-0.448 1-1 1z\"></path>\n",
       "<path d=\"M23 22h-14c-0.552 0-1-0.448-1-1s0.448-1 1-1h14c0.552 0 1 0.448 1 1s-0.448 1-1 1z\"></path>\n",
       "<path d=\"M23 18h-14c-0.552 0-1-0.448-1-1s0.448-1 1-1h14c0.552 0 1 0.448 1 1s-0.448 1-1 1z\"></path>\n",
       "</symbol>\n",
       "</defs>\n",
       "</svg>\n",
       "<style>/* CSS stylesheet for displaying xarray objects in jupyterlab.\n",
       " *\n",
       " */\n",
       "\n",
       ":root {\n",
       "  --xr-font-color0: var(--jp-content-font-color0, rgba(0, 0, 0, 1));\n",
       "  --xr-font-color2: var(--jp-content-font-color2, rgba(0, 0, 0, 0.54));\n",
       "  --xr-font-color3: var(--jp-content-font-color3, rgba(0, 0, 0, 0.38));\n",
       "  --xr-border-color: var(--jp-border-color2, #e0e0e0);\n",
       "  --xr-disabled-color: var(--jp-layout-color3, #bdbdbd);\n",
       "  --xr-background-color: var(--jp-layout-color0, white);\n",
       "  --xr-background-color-row-even: var(--jp-layout-color1, white);\n",
       "  --xr-background-color-row-odd: var(--jp-layout-color2, #eeeeee);\n",
       "}\n",
       "\n",
       "html[theme=dark],\n",
       "body[data-theme=dark],\n",
       "body.vscode-dark {\n",
       "  --xr-font-color0: rgba(255, 255, 255, 1);\n",
       "  --xr-font-color2: rgba(255, 255, 255, 0.54);\n",
       "  --xr-font-color3: rgba(255, 255, 255, 0.38);\n",
       "  --xr-border-color: #1F1F1F;\n",
       "  --xr-disabled-color: #515151;\n",
       "  --xr-background-color: #111111;\n",
       "  --xr-background-color-row-even: #111111;\n",
       "  --xr-background-color-row-odd: #313131;\n",
       "}\n",
       "\n",
       ".xr-wrap {\n",
       "  display: block !important;\n",
       "  min-width: 300px;\n",
       "  max-width: 700px;\n",
       "}\n",
       "\n",
       ".xr-text-repr-fallback {\n",
       "  /* fallback to plain text repr when CSS is not injected (untrusted notebook) */\n",
       "  display: none;\n",
       "}\n",
       "\n",
       ".xr-header {\n",
       "  padding-top: 6px;\n",
       "  padding-bottom: 6px;\n",
       "  margin-bottom: 4px;\n",
       "  border-bottom: solid 1px var(--xr-border-color);\n",
       "}\n",
       "\n",
       ".xr-header > div,\n",
       ".xr-header > ul {\n",
       "  display: inline;\n",
       "  margin-top: 0;\n",
       "  margin-bottom: 0;\n",
       "}\n",
       "\n",
       ".xr-obj-type,\n",
       ".xr-array-name {\n",
       "  margin-left: 2px;\n",
       "  margin-right: 10px;\n",
       "}\n",
       "\n",
       ".xr-obj-type {\n",
       "  color: var(--xr-font-color2);\n",
       "}\n",
       "\n",
       ".xr-sections {\n",
       "  padding-left: 0 !important;\n",
       "  display: grid;\n",
       "  grid-template-columns: 150px auto auto 1fr 20px 20px;\n",
       "}\n",
       "\n",
       ".xr-section-item {\n",
       "  display: contents;\n",
       "}\n",
       "\n",
       ".xr-section-item input {\n",
       "  display: none;\n",
       "}\n",
       "\n",
       ".xr-section-item input + label {\n",
       "  color: var(--xr-disabled-color);\n",
       "}\n",
       "\n",
       ".xr-section-item input:enabled + label {\n",
       "  cursor: pointer;\n",
       "  color: var(--xr-font-color2);\n",
       "}\n",
       "\n",
       ".xr-section-item input:enabled + label:hover {\n",
       "  color: var(--xr-font-color0);\n",
       "}\n",
       "\n",
       ".xr-section-summary {\n",
       "  grid-column: 1;\n",
       "  color: var(--xr-font-color2);\n",
       "  font-weight: 500;\n",
       "}\n",
       "\n",
       ".xr-section-summary > span {\n",
       "  display: inline-block;\n",
       "  padding-left: 0.5em;\n",
       "}\n",
       "\n",
       ".xr-section-summary-in:disabled + label {\n",
       "  color: var(--xr-font-color2);\n",
       "}\n",
       "\n",
       ".xr-section-summary-in + label:before {\n",
       "  display: inline-block;\n",
       "  content: '►';\n",
       "  font-size: 11px;\n",
       "  width: 15px;\n",
       "  text-align: center;\n",
       "}\n",
       "\n",
       ".xr-section-summary-in:disabled + label:before {\n",
       "  color: var(--xr-disabled-color);\n",
       "}\n",
       "\n",
       ".xr-section-summary-in:checked + label:before {\n",
       "  content: '▼';\n",
       "}\n",
       "\n",
       ".xr-section-summary-in:checked + label > span {\n",
       "  display: none;\n",
       "}\n",
       "\n",
       ".xr-section-summary,\n",
       ".xr-section-inline-details {\n",
       "  padding-top: 4px;\n",
       "  padding-bottom: 4px;\n",
       "}\n",
       "\n",
       ".xr-section-inline-details {\n",
       "  grid-column: 2 / -1;\n",
       "}\n",
       "\n",
       ".xr-section-details {\n",
       "  display: none;\n",
       "  grid-column: 1 / -1;\n",
       "  margin-bottom: 5px;\n",
       "}\n",
       "\n",
       ".xr-section-summary-in:checked ~ .xr-section-details {\n",
       "  display: contents;\n",
       "}\n",
       "\n",
       ".xr-array-wrap {\n",
       "  grid-column: 1 / -1;\n",
       "  display: grid;\n",
       "  grid-template-columns: 20px auto;\n",
       "}\n",
       "\n",
       ".xr-array-wrap > label {\n",
       "  grid-column: 1;\n",
       "  vertical-align: top;\n",
       "}\n",
       "\n",
       ".xr-preview {\n",
       "  color: var(--xr-font-color3);\n",
       "}\n",
       "\n",
       ".xr-array-preview,\n",
       ".xr-array-data {\n",
       "  padding: 0 5px !important;\n",
       "  grid-column: 2;\n",
       "}\n",
       "\n",
       ".xr-array-data,\n",
       ".xr-array-in:checked ~ .xr-array-preview {\n",
       "  display: none;\n",
       "}\n",
       "\n",
       ".xr-array-in:checked ~ .xr-array-data,\n",
       ".xr-array-preview {\n",
       "  display: inline-block;\n",
       "}\n",
       "\n",
       ".xr-dim-list {\n",
       "  display: inline-block !important;\n",
       "  list-style: none;\n",
       "  padding: 0 !important;\n",
       "  margin: 0;\n",
       "}\n",
       "\n",
       ".xr-dim-list li {\n",
       "  display: inline-block;\n",
       "  padding: 0;\n",
       "  margin: 0;\n",
       "}\n",
       "\n",
       ".xr-dim-list:before {\n",
       "  content: '(';\n",
       "}\n",
       "\n",
       ".xr-dim-list:after {\n",
       "  content: ')';\n",
       "}\n",
       "\n",
       ".xr-dim-list li:not(:last-child):after {\n",
       "  content: ',';\n",
       "  padding-right: 5px;\n",
       "}\n",
       "\n",
       ".xr-has-index {\n",
       "  font-weight: bold;\n",
       "}\n",
       "\n",
       ".xr-var-list,\n",
       ".xr-var-item {\n",
       "  display: contents;\n",
       "}\n",
       "\n",
       ".xr-var-item > div,\n",
       ".xr-var-item label,\n",
       ".xr-var-item > .xr-var-name span {\n",
       "  background-color: var(--xr-background-color-row-even);\n",
       "  margin-bottom: 0;\n",
       "}\n",
       "\n",
       ".xr-var-item > .xr-var-name:hover span {\n",
       "  padding-right: 5px;\n",
       "}\n",
       "\n",
       ".xr-var-list > li:nth-child(odd) > div,\n",
       ".xr-var-list > li:nth-child(odd) > label,\n",
       ".xr-var-list > li:nth-child(odd) > .xr-var-name span {\n",
       "  background-color: var(--xr-background-color-row-odd);\n",
       "}\n",
       "\n",
       ".xr-var-name {\n",
       "  grid-column: 1;\n",
       "}\n",
       "\n",
       ".xr-var-dims {\n",
       "  grid-column: 2;\n",
       "}\n",
       "\n",
       ".xr-var-dtype {\n",
       "  grid-column: 3;\n",
       "  text-align: right;\n",
       "  color: var(--xr-font-color2);\n",
       "}\n",
       "\n",
       ".xr-var-preview {\n",
       "  grid-column: 4;\n",
       "}\n",
       "\n",
       ".xr-index-preview {\n",
       "  grid-column: 2 / 5;\n",
       "  color: var(--xr-font-color2);\n",
       "}\n",
       "\n",
       ".xr-var-name,\n",
       ".xr-var-dims,\n",
       ".xr-var-dtype,\n",
       ".xr-preview,\n",
       ".xr-attrs dt {\n",
       "  white-space: nowrap;\n",
       "  overflow: hidden;\n",
       "  text-overflow: ellipsis;\n",
       "  padding-right: 10px;\n",
       "}\n",
       "\n",
       ".xr-var-name:hover,\n",
       ".xr-var-dims:hover,\n",
       ".xr-var-dtype:hover,\n",
       ".xr-attrs dt:hover {\n",
       "  overflow: visible;\n",
       "  width: auto;\n",
       "  z-index: 1;\n",
       "}\n",
       "\n",
       ".xr-var-attrs,\n",
       ".xr-var-data,\n",
       ".xr-index-data {\n",
       "  display: none;\n",
       "  background-color: var(--xr-background-color) !important;\n",
       "  padding-bottom: 5px !important;\n",
       "}\n",
       "\n",
       ".xr-var-attrs-in:checked ~ .xr-var-attrs,\n",
       ".xr-var-data-in:checked ~ .xr-var-data,\n",
       ".xr-index-data-in:checked ~ .xr-index-data {\n",
       "  display: block;\n",
       "}\n",
       "\n",
       ".xr-var-data > table {\n",
       "  float: right;\n",
       "}\n",
       "\n",
       ".xr-var-name span,\n",
       ".xr-var-data,\n",
       ".xr-index-name div,\n",
       ".xr-index-data,\n",
       ".xr-attrs {\n",
       "  padding-left: 25px !important;\n",
       "}\n",
       "\n",
       ".xr-attrs,\n",
       ".xr-var-attrs,\n",
       ".xr-var-data,\n",
       ".xr-index-data {\n",
       "  grid-column: 1 / -1;\n",
       "}\n",
       "\n",
       "dl.xr-attrs {\n",
       "  padding: 0;\n",
       "  margin: 0;\n",
       "  display: grid;\n",
       "  grid-template-columns: 125px auto;\n",
       "}\n",
       "\n",
       ".xr-attrs dt,\n",
       ".xr-attrs dd {\n",
       "  padding: 0;\n",
       "  margin: 0;\n",
       "  float: left;\n",
       "  padding-right: 10px;\n",
       "  width: auto;\n",
       "}\n",
       "\n",
       ".xr-attrs dt {\n",
       "  font-weight: normal;\n",
       "  grid-column: 1;\n",
       "}\n",
       "\n",
       ".xr-attrs dt:hover span {\n",
       "  display: inline-block;\n",
       "  background: var(--xr-background-color);\n",
       "  padding-right: 10px;\n",
       "}\n",
       "\n",
       ".xr-attrs dd {\n",
       "  grid-column: 2;\n",
       "  white-space: pre-wrap;\n",
       "  word-break: break-all;\n",
       "}\n",
       "\n",
       ".xr-icon-database,\n",
       ".xr-icon-file-text2,\n",
       ".xr-no-icon {\n",
       "  display: inline-block;\n",
       "  vertical-align: middle;\n",
       "  width: 1em;\n",
       "  height: 1.5em !important;\n",
       "  stroke-width: 0;\n",
       "  stroke: currentColor;\n",
       "  fill: currentColor;\n",
       "}\n",
       "</style><pre class='xr-text-repr-fallback'>&lt;xarray.DataArray (y: 331, x: 360)&gt;\n",
       "array([[0., 0., 0., ..., 0., 0., 0.],\n",
       "       [0., 0., 0., ..., 0., 0., 0.],\n",
       "       [0., 0., 0., ..., 0., 0., 0.],\n",
       "       ...,\n",
       "       [0., 0., 0., ..., 0., 0., 0.],\n",
       "       [0., 0., 0., ..., 0., 0., 0.],\n",
       "       [0., 0., 0., ..., 0., 0., 0.]])\n",
       "Coordinates:\n",
       "    lat      (y, x) float64 -84.21 -84.21 -84.21 -84.21 ... 50.51 50.23 50.01\n",
       "    lon      (y, x) float64 73.5 74.5 75.5 76.5 77.5 ... 72.93 72.95 72.96 72.99\n",
       "Dimensions without coordinates: y, x\n",
       "Attributes:\n",
       "    regrid_method:  conservative</pre><div class='xr-wrap' style='display:none'><div class='xr-header'><div class='xr-obj-type'>xarray.DataArray</div><div class='xr-array-name'></div><ul class='xr-dim-list'><li><span>y</span>: 331</li><li><span>x</span>: 360</li></ul></div><ul class='xr-sections'><li class='xr-section-item'><div class='xr-array-wrap'><input id='section-83bca581-846b-4086-9c0f-58b849bc3e2f' class='xr-array-in' type='checkbox' checked><label for='section-83bca581-846b-4086-9c0f-58b849bc3e2f' title='Show/hide data repr'><svg class='icon xr-icon-database'><use xlink:href='#icon-database'></use></svg></label><div class='xr-array-preview xr-preview'><span>0.0 0.0 0.0 0.0 0.0 0.0 0.0 0.0 ... 0.0 0.0 0.0 0.0 0.0 0.0 0.0 0.0</span></div><div class='xr-array-data'><pre>array([[0., 0., 0., ..., 0., 0., 0.],\n",
       "       [0., 0., 0., ..., 0., 0., 0.],\n",
       "       [0., 0., 0., ..., 0., 0., 0.],\n",
       "       ...,\n",
       "       [0., 0., 0., ..., 0., 0., 0.],\n",
       "       [0., 0., 0., ..., 0., 0., 0.],\n",
       "       [0., 0., 0., ..., 0., 0., 0.]])</pre></div></div></li><li class='xr-section-item'><input id='section-2fa0f128-5230-4460-bf72-dc5eee15974e' class='xr-section-summary-in' type='checkbox'  checked><label for='section-2fa0f128-5230-4460-bf72-dc5eee15974e' class='xr-section-summary' >Coordinates: <span>(2)</span></label><div class='xr-section-inline-details'></div><div class='xr-section-details'><ul class='xr-var-list'><li class='xr-var-item'><div class='xr-var-name'><span>lat</span></div><div class='xr-var-dims'>(y, x)</div><div class='xr-var-dtype'>float64</div><div class='xr-var-preview xr-preview'>-84.21 -84.21 ... 50.23 50.01</div><input id='attrs-3da511b0-ed8a-4787-9ce7-db1b74f11a2b' class='xr-var-attrs-in' type='checkbox' ><label for='attrs-3da511b0-ed8a-4787-9ce7-db1b74f11a2b' title='Show/Hide attributes'><svg class='icon xr-icon-file-text2'><use xlink:href='#icon-file-text2'></use></svg></label><input id='data-7c4d9313-bd07-4a2f-b3e3-cc15989647a1' class='xr-var-data-in' type='checkbox'><label for='data-7c4d9313-bd07-4a2f-b3e3-cc15989647a1' title='Show/Hide data repr'><svg class='icon xr-icon-database'><use xlink:href='#icon-database'></use></svg></label><div class='xr-var-attrs'><dl class='xr-attrs'><dt><span>standard_name :</span></dt><dd>latitude</dd><dt><span>units :</span></dt><dd>degrees_north</dd><dt><span>bounds :</span></dt><dd>lat_bnds</dd></dl></div><div class='xr-var-data'><pre>array([[-84.21070904, -84.21070904, -84.21070904, ..., -84.21070904,\n",
       "        -84.21070904, -84.21070904],\n",
       "       [-84.10895789, -84.10895789, -84.10895789, ..., -84.10895789,\n",
       "        -84.10895789, -84.10895789],\n",
       "       [-84.0054248 , -84.0054248 , -84.0054248 , ..., -84.0054248 ,\n",
       "        -84.0054248 , -84.0054248 ],\n",
       "       ...,\n",
       "       [ 49.99324171,  50.21420708,  50.49226259, ...,  50.49226259,\n",
       "         50.21420708,  49.99324171],\n",
       "       [ 50.00501891,  50.22440337,  50.50234643, ...,  50.50234643,\n",
       "         50.22440337,  50.00501891],\n",
       "       [ 50.01094032,  50.22936197,  50.50726479, ...,  50.50726479,\n",
       "         50.22936197,  50.01094032]])</pre></div></li><li class='xr-var-item'><div class='xr-var-name'><span>lon</span></div><div class='xr-var-dims'>(y, x)</div><div class='xr-var-dtype'>float64</div><div class='xr-var-preview xr-preview'>73.5 74.5 75.5 ... 72.96 72.99</div><input id='attrs-37f773b3-2137-4bba-af4b-d4f024a43c10' class='xr-var-attrs-in' type='checkbox' ><label for='attrs-37f773b3-2137-4bba-af4b-d4f024a43c10' title='Show/Hide attributes'><svg class='icon xr-icon-file-text2'><use xlink:href='#icon-file-text2'></use></svg></label><input id='data-f00271a8-81cc-4fc2-bb1b-5a741e207d0a' class='xr-var-data-in' type='checkbox'><label for='data-f00271a8-81cc-4fc2-bb1b-5a741e207d0a' title='Show/Hide data repr'><svg class='icon xr-icon-database'><use xlink:href='#icon-database'></use></svg></label><div class='xr-var-attrs'><dl class='xr-attrs'><dt><span>standard_name :</span></dt><dd>longitude</dd><dt><span>units :</span></dt><dd>degrees_east</dd><dt><span>bounds :</span></dt><dd>lon_bnds</dd></dl></div><div class='xr-var-data'><pre>array([[73.5       , 74.5       , 75.5       , ..., 70.5       ,\n",
       "        71.5       , 72.5       ],\n",
       "       [73.5       , 74.5       , 75.5       , ..., 70.5       ,\n",
       "        71.5       , 72.5       ],\n",
       "       [73.5       , 74.5       , 75.5       , ..., 70.5       ,\n",
       "        71.5       , 72.5       ],\n",
       "       ...,\n",
       "       [73.07927918, 73.19734462, 73.28416978, ..., 72.71583022,\n",
       "        72.80265538, 72.92072082],\n",
       "       [73.0423483 , 73.11531867, 73.16770504, ..., 72.83229496,\n",
       "        72.88468133, 72.9576517 ],\n",
       "       [73.01084559, 73.03703107, 73.05471492, ..., 72.94528508,\n",
       "        72.96296893, 72.98915441]])</pre></div></li></ul></div></li><li class='xr-section-item'><input id='section-894a3edb-39a4-4911-8bed-b4a4061db1a7' class='xr-section-summary-in' type='checkbox' disabled ><label for='section-894a3edb-39a4-4911-8bed-b4a4061db1a7' class='xr-section-summary'  title='Expand/collapse section'>Indexes: <span>(0)</span></label><div class='xr-section-inline-details'></div><div class='xr-section-details'><ul class='xr-var-list'></ul></div></li><li class='xr-section-item'><input id='section-243608e4-7e10-4f40-8a9d-4606f12d82d1' class='xr-section-summary-in' type='checkbox'  checked><label for='section-243608e4-7e10-4f40-8a9d-4606f12d82d1' class='xr-section-summary' >Attributes: <span>(1)</span></label><div class='xr-section-inline-details'></div><div class='xr-section-details'><dl class='xr-attrs'><dt><span>regrid_method :</span></dt><dd>conservative</dd></dl></div></li></ul></div></div>"
      ],
      "text/plain": [
       "<xarray.DataArray (y: 331, x: 360)>\n",
       "array([[0., 0., 0., ..., 0., 0., 0.],\n",
       "       [0., 0., 0., ..., 0., 0., 0.],\n",
       "       [0., 0., 0., ..., 0., 0., 0.],\n",
       "       ...,\n",
       "       [0., 0., 0., ..., 0., 0., 0.],\n",
       "       [0., 0., 0., ..., 0., 0., 0.],\n",
       "       [0., 0., 0., ..., 0., 0., 0.]])\n",
       "Coordinates:\n",
       "    lat      (y, x) float64 -84.21 -84.21 -84.21 -84.21 ... 50.51 50.23 50.01\n",
       "    lon      (y, x) float64 73.5 74.5 75.5 76.5 77.5 ... 72.93 72.95 72.96 72.99\n",
       "Dimensions without coordinates: y, x\n",
       "Attributes:\n",
       "    regrid_method:  conservative"
      ]
     },
     "execution_count": 13,
     "metadata": {},
     "output_type": "execute_result"
    }
   ],
   "source": [
    "remapped_isf_conc.to_dataset(name='isf_conc').to_netcdf(inputpath_interim + 'try_conservative_regridding_isf_conc.nc')"
   ]
  },
  {
   "cell_type": "code",
   "execution_count": null,
   "id": "c251036a-dfb3-42ec-90fd-c444401ceb71",
   "metadata": {},
   "outputs": [],
   "source": [
    "# cdo remapcon,NEMO_grid_withbnds.nc -selvar,isf_conc Mask_Iceshelf_IMBIE2_v2_with_zmin_zmax_isfconc.nc isfconc_NEMOgrid.nc\n",
    "#cdo    remapcon (Abort): Source grid cell corner coordinates missing!"
   ]
  },
  {
   "cell_type": "markdown",
   "id": "346dc088-6f04-4547-a4ea-3b63340df382",
   "metadata": {},
   "source": [
    "Double-check if what is represented in NEMO is point with 100% ice-shelf concentration "
   ]
  },
  {
   "cell_type": "code",
   "execution_count": 10,
   "id": "cf19ffdc-70c7-435f-aa6f-0e9f2fe74d11",
   "metadata": {},
   "outputs": [
    {
     "ename": "NameError",
     "evalue": "name 'ds_isfNEMO' is not defined",
     "output_type": "error",
     "traceback": [
      "\u001b[0;31m---------------------------------------------------------------------------\u001b[0m",
      "\u001b[0;31mNameError\u001b[0m                                 Traceback (most recent call last)",
      "Cell \u001b[0;32mIn[10], line 1\u001b[0m\n\u001b[0;32m----> 1\u001b[0m mask_1deg \u001b[38;5;241m=\u001b[39m (\u001b[43mds_isfNEMO\u001b[49m[\u001b[38;5;124m'\u001b[39m\u001b[38;5;124mmask_isf\u001b[39m\u001b[38;5;124m'\u001b[39m] \u001b[38;5;241m>\u001b[39m \u001b[38;5;241m0\u001b[39m)\n",
      "\u001b[0;31mNameError\u001b[0m: name 'ds_isfNEMO' is not defined"
     ]
    }
   ],
   "source": [
    "mask_1deg = (ds_isfNEMO['mask_isf'] > 0)"
   ]
  },
  {
   "cell_type": "code",
   "execution_count": null,
   "id": "71276aed-230a-442c-bd3e-21fd2cbd466c",
   "metadata": {},
   "outputs": [],
   "source": [
    "ds_out.where(mask_1deg)"
   ]
  },
  {
   "cell_type": "markdown",
   "id": "9809b95d-95b5-4518-ae23-3c32a6e9fd3c",
   "metadata": {},
   "source": [
    "REMAP THE MASKS WITH NEAREST NEIGHBOUR"
   ]
  },
  {
   "cell_type": "code",
   "execution_count": null,
   "id": "f54322c1-2ea3-4358-b5f3-fba902a04ab8",
   "metadata": {},
   "outputs": [],
   "source": [
    "#regridder_nn = xe.Regridder(input_grid, output_grid, \"nearest_s2d\", periodic=True) # this takes FOREVER!!!\n",
    "# isfmask = regridder_nn(file_Justine['Iceshelf_extrap'])"
   ]
  },
  {
   "cell_type": "code",
   "execution_count": 33,
   "id": "b94a85ce-dc38-4c31-9c14-1c434ffa8ae8",
   "metadata": {},
   "outputs": [],
   "source": [
    "isfmask_nn = cdo.remapnn(inputpath_interim + 'NEMO_grid_withbnds.nc',input=file_Justine['Iceshelf_extrap'], returnArray='Iceshelf_extrap')\n",
    "isfmask = xr.DataArray(data=isfmask_nn, dims=['y','x'])"
   ]
  },
  {
   "cell_type": "markdown",
   "id": "a2e5dd9d-7178-4b02-b7f2-585a48b523c3",
   "metadata": {},
   "source": [
    "!!!!!!! ONLY IF YOUR GRID IS eORCA1 !!!!!!! => I think this is not needed anymore"
   ]
  },
  {
   "cell_type": "code",
   "execution_count": null,
   "id": "50f3c567-625d-4f1c-a2d2-2d8ecb2e1c9d",
   "metadata": {},
   "outputs": [],
   "source": [
    "# For eORCA1, this method leads to no ocean cells for Bach (ID=101) and Cosgrove (ID=88). \n",
    "# I suggest merging it with its neighbour 'Britten' (ID=100), and neighbour 'No Name' (ID=89) \n",
    "# which has no melt in most of the obs products\n",
    "#isfmask = isfmask.where(isfmask != 100, 101)\n",
    "#isfmask = isfmask.where(isfmask != 89, 88)"
   ]
  },
  {
   "cell_type": "markdown",
   "id": "9bb61c50-2b37-40d9-9d44-4f10629a6e37",
   "metadata": {},
   "source": [
    "CREATE MASK_VARIABLE"
   ]
  },
  {
   "cell_type": "code",
   "execution_count": 22,
   "id": "cf841abb-48e4-49e3-8ead-87fc44e12c81",
   "metadata": {},
   "outputs": [],
   "source": [
    "domain_cfg = xr.open_dataset(inputpath_raw + 'eORCA1.4.3_OpenSeas_OpenAllCav_ModStraights/eORCA1.4.3_OpenSeas_OpenAllCav_ModStraights_domain_cfg.nc')\n"
   ]
  },
  {
   "cell_type": "code",
   "execution_count": 13,
   "id": "5588bb39-592e-4955-9893-62f31c7ab9ed",
   "metadata": {},
   "outputs": [],
   "source": [
    "ds_isfNEMO = xr.Dataset()\n",
    "\n",
    "ds_isfNEMO['mask_isf'] = isfmask.where(domain_cfg['isf_draft'] > 0)\n",
    "ds_isfNEMO['mask_isf'].attrs['standard_name'] = 'mask of all the ice shelves'\n",
    "ds_isfNEMO['mask_isf'].attrs['units'] = 'ID as given in Mask_Iceshelf_IMBIE2_v2.nc'\n",
    "\n",
    "#ds_isfNEMO['mask_isf_onlyisfconc1'] = ds_isfNEMO['mask_isf'].where(isfconc['isf_conc'] > 0.9999)\n"
   ]
  },
  {
   "cell_type": "code",
   "execution_count": 14,
   "id": "3b8bd366-22b3-4b39-a532-748070b2bb3e",
   "metadata": {},
   "outputs": [
    {
     "ename": "NameError",
     "evalue": "name 'remapped_isf_conc' is not defined",
     "output_type": "error",
     "traceback": [
      "\u001b[0;31m---------------------------------------------------------------------------\u001b[0m",
      "\u001b[0;31mNameError\u001b[0m                                 Traceback (most recent call last)",
      "Cell \u001b[0;32mIn[14], line 1\u001b[0m\n\u001b[0;32m----> 1\u001b[0m ds_isfNEMO[\u001b[38;5;124m'\u001b[39m\u001b[38;5;124mfloating_frac\u001b[39m\u001b[38;5;124m'\u001b[39m] \u001b[38;5;241m=\u001b[39m \u001b[43mremapped_isf_conc\u001b[49m\n",
      "\u001b[0;31mNameError\u001b[0m: name 'remapped_isf_conc' is not defined"
     ]
    }
   ],
   "source": [
    "ds_isfNEMO['floating_frac'] = remapped_isf_conc # .where(isfconc['isf_conc'] < 0.9999,1)"
   ]
  },
  {
   "cell_type": "markdown",
   "id": "a6f727aa-277b-424e-ba7b-1093c5fcba8e",
   "metadata": {},
   "source": [
    "Investigate stuff about isf conc"
   ]
  },
  {
   "cell_type": "code",
   "execution_count": 8,
   "id": "b0777400-67b8-49a5-b0b9-cb2b9d3ecdbf",
   "metadata": {},
   "outputs": [],
   "source": [
    "remapped_isf_conc = xr.open_dataset(inputpath_interim + 'try_conservative_regridding_isf_conc.nc')['isf_conc']"
   ]
  },
  {
   "cell_type": "code",
   "execution_count": 7,
   "id": "2e6bca94-ff5d-4a58-bd3b-a578cc298505",
   "metadata": {},
   "outputs": [],
   "source": [
    "ds_isfNEMO = xr.open_dataset(inputpath_interim + 'masks_for_eORCA1.nc')"
   ]
  },
  {
   "cell_type": "code",
   "execution_count": 20,
   "id": "36bf14eb-17bf-4ad0-a715-e50fe6121691",
   "metadata": {},
   "outputs": [
    {
     "data": {
      "text/plain": [
       "<matplotlib.collections.QuadMesh at 0x1491e9acb670>"
      ]
     },
     "execution_count": 20,
     "metadata": {},
     "output_type": "execute_result"
    }
   ],
   "source": [
    "((remapped_isf_conc > 0).astype(int) + (np.isfinite(ds_isfNEMO['mask_isf'])).astype(int)).plot()"
   ]
  },
  {
   "cell_type": "code",
   "execution_count": 16,
   "id": "92f1ebc2-c55b-4bbe-9c13-54bc3520f6ca",
   "metadata": {},
   "outputs": [
    {
     "data": {
      "text/plain": [
       "<matplotlib.collections.QuadMesh at 0x1491e9d45220>"
      ]
     },
     "execution_count": 16,
     "metadata": {},
     "output_type": "execute_result"
    }
   ],
   "source": [
    "ds_isfNEMO['mask_isf'].plot()"
   ]
  },
  {
   "cell_type": "markdown",
   "id": "2f8179a6-a2ab-443d-88dd-6fc809014acc",
   "metadata": {},
   "source": [
    "CREATE MASK_ISF_OPEN AND MASK_ISF_CLOSED"
   ]
  },
  {
   "cell_type": "code",
   "execution_count": 17,
   "id": "ae42928b-0c1f-47f8-b8bd-a92539ba2790",
   "metadata": {},
   "outputs": [],
   "source": [
    "## gives the list of names when needed to better understand stuff\n",
    "#for iid in file_Justine.ID:\n",
    "#    print(iid.values,file_Justine['NAME'].sel(ID=iid).values)"
   ]
  },
  {
   "cell_type": "code",
   "execution_count": 11,
   "id": "0de75c39-c7a2-460b-a0c2-8a92c374e373",
   "metadata": {},
   "outputs": [],
   "source": [
    "# Choose (by eye or given a criterion, which ice shelves will have open cavities)\n",
    "ID_open_list = [21,66,67,117,124,125,127,128]"
   ]
  },
  {
   "cell_type": "code",
   "execution_count": 12,
   "id": "c1f49946-da81-41f4-a0bb-2e9b17ed9512",
   "metadata": {},
   "outputs": [],
   "source": [
    "# Divide the ref file into \"open\" and \"closed\" cavities\n",
    "file_Justine_open = file_Justine.sel(ID=ID_open_list)\n",
    "file_Justine_closed = file_Justine.drop_sel(ID=ID_open_list)"
   ]
  },
  {
   "cell_type": "code",
   "execution_count": 23,
   "id": "84cd0670-5e54-4701-95f6-e640a34a45c3",
   "metadata": {},
   "outputs": [
    {
     "data": {
      "application/vnd.jupyter.widget-view+json": {
       "model_id": "afd374ea1da74bb4a0fca2248bd4c468",
       "version_major": 2,
       "version_minor": 0
      },
      "text/plain": [
       "  0%|          | 0/125 [00:00<?, ?it/s]"
      ]
     },
     "metadata": {},
     "output_type": "display_data"
    }
   ],
   "source": [
    "# Prepare domain_cfg closing (setting to 0) all information about the closed cavities\n",
    "domain_cfg_closed =  domain_cfg.copy()\n",
    "for id_closed in tqdm(file_Justine_closed.ID):\n",
    "    for vv in ['bottom_level','top_level','isf_draft','bathy_metry']:\n",
    "        domain_cfg_closed[vv] = domain_cfg_closed[vv].where(ds_isfNEMO['mask_isf'] != id_closed.values, 0)"
   ]
  },
  {
   "cell_type": "code",
   "execution_count": 14,
   "id": "7da6a027-dcf5-4073-8f58-d4b6ed9fdaa3",
   "metadata": {},
   "outputs": [
    {
     "data": {
      "application/vnd.jupyter.widget-view+json": {
       "model_id": "efef5b26b84e4200bd43c2f5f07fa995",
       "version_major": 2,
       "version_minor": 0
      },
      "text/plain": [
       "  0%|          | 0/125 [00:00<?, ?it/s]"
      ]
     },
     "metadata": {},
     "output_type": "display_data"
    }
   ],
   "source": [
    "# Prepare mask of only open cavities \n",
    "mask_isf_open = ds_isfNEMO['mask_isf'].copy()\n",
    "for id_closed in tqdm(file_Justine_closed.ID):\n",
    "    mask_isf_open = mask_isf_open.where(ds_isfNEMO['mask_isf'] != id_closed.values)"
   ]
  },
  {
   "cell_type": "code",
   "execution_count": 24,
   "id": "2db5b78a-458a-407c-9638-2ed57e7390ed",
   "metadata": {},
   "outputs": [],
   "source": [
    "# Prepare mask of only closed cavities \n",
    "mask_isf_closed = ds_isfNEMO['mask_isf'].where(np.isnan(mask_isf_open))"
   ]
  },
  {
   "cell_type": "code",
   "execution_count": 25,
   "id": "df7a6118-1093-421e-8734-799df421be09",
   "metadata": {},
   "outputs": [],
   "source": [
    "# create mask_isf_open and mask_isf_closed\n",
    "ds_isfNEMO['mask_isf_open'] = mask_isf_open\n",
    "ds_isfNEMO['mask_isf_open'].attrs['standard_name'] = 'mask of the ice shelves that are open'\n",
    "ds_isfNEMO['mask_isf_open'].attrs['units'] = 'ID as given in Mask_Iceshelf_IMBIE2_v2.nc'\n",
    "\n",
    "ds_isfNEMO['mask_isf_closed'] = mask_isf_closed\n",
    "ds_isfNEMO['mask_isf_closed'].attrs['standard_name'] = 'mask of the ice shelves that are closed'\n",
    "ds_isfNEMO['mask_isf_closed'].attrs['units'] = 'ID as given in Mask_Iceshelf_IMBIE2_v2.nc'"
   ]
  },
  {
   "cell_type": "markdown",
   "id": "f2f0b41f-34fd-4378-b4a7-6eaf97a289e0",
   "metadata": {},
   "source": [
    "IDENTIFY FRONT"
   ]
  },
  {
   "cell_type": "code",
   "execution_count": 26,
   "id": "97a00f3b-bfe0-4e74-8c8f-40cad85677ed",
   "metadata": {},
   "outputs": [],
   "source": [
    "# Create a mask discriminating between land, ocean and ice shelf\n",
    "mask_0_1_2 = ds_isfNEMO['mask_isf'] * 2\n",
    "mask_0_1_2 = mask_0_1_2.where(domain_cfg['bathy_metry'] != 0, 400) # land\n",
    "mask_0_1_2 = mask_0_1_2.where(domain_cfg['bathy_metry'] == 0, 0) # ocean\n",
    "mask_0_1_2 = mask_0_1_2.where(domain_cfg['isf_draft'] == 0, 200) # ice shelf"
   ]
  },
  {
   "cell_type": "code",
   "execution_count": 28,
   "id": "868069e6-1108-4de4-9a4c-1becdf878349",
   "metadata": {},
   "outputs": [
    {
     "ename": "NameError",
     "evalue": "name 'isfmask' is not defined",
     "output_type": "error",
     "traceback": [
      "\u001b[0;31m---------------------------------------------------------------------------\u001b[0m",
      "\u001b[0;31mNameError\u001b[0m                                 Traceback (most recent call last)",
      "Cell \u001b[0;32mIn[28], line 2\u001b[0m\n\u001b[1;32m      1\u001b[0m \u001b[38;5;66;03m# Create a mask of the extrapolated domains and only keep the domains corresponding to the closed cavities\u001b[39;00m\n\u001b[0;32m----> 2\u001b[0m extrap_domains_closed \u001b[38;5;241m=\u001b[39m \u001b[43misfmask\u001b[49m\u001b[38;5;241m.\u001b[39mcopy()\n\u001b[1;32m      4\u001b[0m \u001b[38;5;28;01mfor\u001b[39;00m kisf \u001b[38;5;129;01min\u001b[39;00m ID_open_list:\n\u001b[1;32m      5\u001b[0m     mask_0_1_2_closed \u001b[38;5;241m=\u001b[39m mask_0_1_2\u001b[38;5;241m.\u001b[39mwhere(ds_isfNEMO[\u001b[38;5;124m'\u001b[39m\u001b[38;5;124mmask_isf\u001b[39m\u001b[38;5;124m'\u001b[39m] \u001b[38;5;241m!=\u001b[39m kisf, \u001b[38;5;241m400\u001b[39m)\n",
      "\u001b[0;31mNameError\u001b[0m: name 'isfmask' is not defined"
     ]
    }
   ],
   "source": [
    "# Create a mask of the extrapolated domains and only keep the domains corresponding to the closed cavities\n",
    "extrap_domains_closed = isfmask.copy()\n",
    "\n",
    "for kisf in ID_open_list:\n",
    "    mask_0_1_2_closed = mask_0_1_2.where(ds_isfNEMO['mask_isf'] != kisf, 400)\n",
    "    extrap_domains_closed = extrap_domains_closed.where(extrap_domains_closed != kisf, np.nan)"
   ]
  },
  {
   "cell_type": "code",
   "execution_count": 21,
   "id": "e3e1d9d1-3d77-4e43-ae61-b0dc505008d0",
   "metadata": {},
   "outputs": [],
   "source": [
    "# set all ice shelves to 300\n",
    "mask_front0 = mask_0_1_2.where((mask_0_1_2 == 0) | (mask_0_1_2 == 400), 300).copy()"
   ]
  },
  {
   "cell_type": "code",
   "execution_count": 22,
   "id": "5b660390-9cfa-40bd-93bb-a76edeb3ac84",
   "metadata": {},
   "outputs": [],
   "source": [
    "mask_front = mask_front0.copy()\n",
    "# check all directions and set points at border between ocean and ice shelf (300-0) to 500\n",
    "mask_front = mask_front.where((mask_front0.shift(x=-1)-mask_front0)!=300,500)\n",
    "mask_front = mask_front.where((mask_front0.shift(x=1)-mask_front0)!=300,500)\n",
    "mask_front = mask_front.where((mask_front0.shift(y=-1)-mask_front0)!=300,500)\n",
    "mask_front = mask_front.where((mask_front0.shift(y=1)-mask_front0)!=300,500)\n",
    "# cut out all front points\n",
    "mask_front = mask_front.where(mask_front==500)\n",
    "# set the ice shelf number\n",
    "mask_front = mask_front.where(mask_front!=500,extrap_domains_closed)"
   ]
  },
  {
   "cell_type": "markdown",
   "id": "75d26b16-3714-4d4f-b4d9-789019632bed",
   "metadata": {},
   "source": [
    "For the ice shelves not resolved at all in eORCA1"
   ]
  },
  {
   "cell_type": "code",
   "execution_count": 23,
   "id": "5839c7ce-874e-4f35-8248-e6092a431fe0",
   "metadata": {},
   "outputs": [],
   "source": [
    "# define the domains that have not an associated front yet\n",
    "extrap_domains_double_closed = extrap_domains_closed.copy()\n",
    "\n",
    "for kisf in file_Justine_closed.ID:\n",
    "    if (mask_front == kisf).astype(int).sum() > 0:\n",
    "        #print(kisf.values)\n",
    "        extrap_domains_double_closed = extrap_domains_double_closed.where(extrap_domains_double_closed != kisf, np.nan).drop('ID')"
   ]
  },
  {
   "cell_type": "code",
   "execution_count": null,
   "id": "9fa8ddd3-156b-4162-ba2a-c543e6ad9b97",
   "metadata": {},
   "outputs": [],
   "source": [
    "# To double check where the front points are\n",
    "#iid = 89\n",
    "#plt.figure()\n",
    "#((mask_0_2) + (isfmask['Iceshelf_extrap'] == iid)).plot()\n",
    "#plt.title(str(iid))"
   ]
  },
  {
   "cell_type": "code",
   "execution_count": null,
   "id": "15ff2078-89a0-4c34-a855-c676cc27b30b",
   "metadata": {},
   "outputs": [],
   "source": []
  },
  {
   "cell_type": "code",
   "execution_count": 24,
   "id": "0b12a5ff-b941-49fb-a47e-f1c36c03bf03",
   "metadata": {},
   "outputs": [],
   "source": [
    "# set all ice shelves to land to have a delimitation of the whole contour of Antarctica\n",
    "mask_0_2 = mask_0_1_2.where(mask_0_1_2 != 200, 2)\n",
    "mask_0_2 = mask_0_2.where(mask_0_2 != 400, 2)\n",
    "\n",
    "mask_front_new = mask_0_2.copy()\n",
    "\n",
    "# check all directions and set points at border between ocean and land(300-0) to 500\n",
    "mask_front_new = mask_front_new.where((mask_0_2.shift(x=-1)-mask_0_2) <= 0,5)\n",
    "mask_front_new = mask_front_new.where((mask_0_2.shift(x=1)-mask_0_2) <= 0,5)\n",
    "mask_front_new = mask_front_new.where((mask_0_2.shift(y=-1)-mask_0_2) <= 0,5)\n",
    "mask_front_new = mask_front_new.where((mask_0_2.shift(y=1)-mask_0_2) <= 0,5)\n",
    "# cut out all front points south of the y = 90 latitude and in the ocean domain\n",
    "mask_front_new = mask_front_new.where((mask_front_new == 5) & (mask_front_new.y < 90) & (mask_0_2 == 0))\n",
    "# set the ice shelf number of the extrapolated domain\n",
    "mask_front_new = mask_front_new.where(mask_front_new != 5,extrap_domains_double_closed)"
   ]
  },
  {
   "cell_type": "code",
   "execution_count": null,
   "id": "f2b5880c-420a-4867-a470-56b4d2b30165",
   "metadata": {},
   "outputs": [],
   "source": [
    "# check that it is the right delimitation (i.e. on the ocean points)\n",
    "((mask_front_new > 0) + mask_0_2).plot()"
   ]
  },
  {
   "cell_type": "code",
   "execution_count": 25,
   "id": "bb006c3a-cfaf-47a0-b56f-cc3bb32528cb",
   "metadata": {},
   "outputs": [],
   "source": [
    "# combining the masks of the fronts (mask_front and mask_front_new)\n",
    "mask_front_all = mask_front.copy()\n",
    "for iid in file_Justine_closed.ID:\n",
    "    if (ds_isfNEMO['mask_isf_closed'] == iid).astype(int).sum().values == 0: # if the ice shelf is not resolved in your grid, add the mask front inferred for them\n",
    "        #print(iid.values, file_Justine_closed['NAME'].sel(ID=iid).values, (mask_front_new == iid).astype(int).sum().values)\n",
    "        mask_front_all = mask_front_all.combine_first(mask_front_new.where(mask_front_new == iid))"
   ]
  },
  {
   "cell_type": "code",
   "execution_count": 31,
   "id": "3b32d71a-a8d0-432a-bc3e-0c194b29508a",
   "metadata": {},
   "outputs": [],
   "source": [
    "mask_front_file = xr.Dataset()\n",
    "mask_front_file['mask_front'] = mask_front_all\n",
    "mask_front_file['ID'] = file_Justine['ID']\n",
    "mask_front_file.to_netcdf(inputpath_interim + 'mask_fronts_eORCA1.nc')"
   ]
  },
  {
   "cell_type": "code",
   "execution_count": 35,
   "id": "fa8d6e42-f5cb-4516-979d-8d771d4f10cc",
   "metadata": {},
   "outputs": [
    {
     "data": {
      "text/plain": [
       "<matplotlib.collections.QuadMesh at 0x1526dab79c40>"
      ]
     },
     "execution_count": 35,
     "metadata": {},
     "output_type": "execute_result"
    }
   ],
   "source": [
    "mask_front_file['mask_front'].plot()"
   ]
  },
  {
   "cell_type": "markdown",
   "id": "11319f83-bfba-43aa-a070-c46015fda5e8",
   "metadata": {},
   "source": [
    "MAKE MAPS OF ZMIN AND ZMAX ON THE FRONT"
   ]
  },
  {
   "cell_type": "code",
   "execution_count": null,
   "id": "751d59dd-9a1e-4b7f-8f39-ab33ab70166a",
   "metadata": {},
   "outputs": [],
   "source": [
    "zmin_front = mask_front_all.copy()\n",
    "zmax_front = mask_front_all.copy()\n",
    "\n",
    "for id_closed in tqdm(file_Justine_closed.ID):\n",
    "    zmin_front = zmin_front.where(mask_front_all != id_closed, file_Justine_closed['z_perc01'].sel(ID=id_closed)).drop('ID')\n",
    "    zmax_front = zmax_front.where(mask_front_all != id_closed, file_Justine_closed['z_perc99'].sel(ID=id_closed)).drop('ID')"
   ]
  },
  {
   "cell_type": "markdown",
   "id": "a7a2796d-1bc1-4922-941c-c167f0e56a60",
   "metadata": {},
   "source": [
    "check if the extremes or the percentiles are more \"realistic\" => personally I think we should take the 1st and 99th percentiles"
   ]
  },
  {
   "cell_type": "code",
   "execution_count": null,
   "id": "1bdd1132-9606-4dc0-a7a2-9e2cb5ca1fb0",
   "metadata": {},
   "outputs": [],
   "source": [
    "file_Justine_closed['z_min'].plot()\n",
    "file_Justine_closed['z_perc01'].plot()"
   ]
  },
  {
   "cell_type": "code",
   "execution_count": null,
   "id": "cc3fb229-0b2b-4cca-bde8-a2dcb0ff5512",
   "metadata": {},
   "outputs": [],
   "source": [
    "file_Justine_closed['z_max'].plot()\n",
    "file_Justine_closed['z_perc99'].plot()"
   ]
  },
  {
   "cell_type": "markdown",
   "id": "14913bb3-e052-44bb-a63c-a3bb2f2be062",
   "metadata": {},
   "source": [
    "DISTRIBUTE MELT AT THE FRONT NORMALISED BY CELL SIZE"
   ]
  },
  {
   "cell_type": "code",
   "execution_count": null,
   "id": "8e36f708-c133-4ff0-be1f-55d55cd6c434",
   "metadata": {},
   "outputs": [],
   "source": [
    "cell_area = domain_cfg['e1t'] * domain_cfg['e2t']\n",
    "melt_src = 'Davison' # options: 'Adusumilli','Rignot', 'Paolo', 'Davison'\n",
    "melt_flux = file_Justine_closed['Melt'+melt_src]"
   ]
  },
  {
   "cell_type": "code",
   "execution_count": null,
   "id": "036e285b-3889-4935-abd4-2904632a50df",
   "metadata": {},
   "outputs": [],
   "source": [
    "melt_front = mask_front_all.copy()\n",
    "for id_closed in tqdm(file_Justine_closed.ID):        \n",
    "    cell_area_isf = cell_area.where(mask_front_all == id_closed)\n",
    "    cell_area_isf_sum = cell_area.where(mask_front_all == id_closed).sum()\n",
    "    \n",
    "    if id_closed == 100:\n",
    "        melt_front = melt_front.where(mask_front_all != id_closed, (melt_flux.sel(ID=101) + melt_flux.sel(ID=100)) * cell_area_isf / cell_area_isf_sum).drop('ID')\n",
    "    elif id_closed == 88:\n",
    "        melt_front = melt_front.where(mask_front_all != id_closed, (melt_flux.sel(ID=89) + melt_flux.sel(ID=88)) * cell_area_isf / cell_area_isf_sum).drop('ID')\n",
    "    elif id_closed == 14:\n",
    "        melt_front = melt_front.where(mask_front_all != id_closed, (melt_flux.sel(ID=14) + melt_flux.sel(ID=15)) * cell_area_isf / cell_area_isf_sum).drop('ID')\n",
    "    elif id_closed == 20:\n",
    "        melt_front = melt_front.where(mask_front_all != id_closed, (melt_flux.sel(ID=20) + melt_flux.sel(ID=17) + melt_flux.sel(ID=18)) * cell_area_isf / cell_area_isf_sum).drop('ID')\n",
    "    elif id_closed == 102:\n",
    "        melt_front = melt_front.where(mask_front_all != id_closed, (melt_flux.sel(ID=102) + melt_flux.sel(ID=105) + melt_flux.sel(ID=107)) * cell_area_isf / cell_area_isf_sum).drop('ID')\n",
    "    else:\n",
    "        melt_front = melt_front.where(mask_front_all != id_closed, melt_flux.sel(ID=id_closed) * cell_area_isf / cell_area_isf_sum).drop('ID')\n"
   ]
  },
  {
   "cell_type": "markdown",
   "id": "cb9db4fa-9615-422f-ac13-fb832421f676",
   "metadata": {},
   "source": [
    "Double-check that the total melt is matched"
   ]
  },
  {
   "cell_type": "code",
   "execution_count": null,
   "id": "600250a6-89c5-4d93-85eb-e5a5bd75de04",
   "metadata": {},
   "outputs": [],
   "source": [
    "melt_front_tot_list = []\n",
    "for id_closed in tqdm(file_Justine_closed.ID):\n",
    "    melt_front_tot_list.append(melt_front.where(mask_front_all == id_closed).sum().assign_coords({'ID': id_closed}))\n",
    "melt_front_tot_xr = xr.concat(melt_front_tot_list, dim='ID')"
   ]
  },
  {
   "cell_type": "code",
   "execution_count": null,
   "id": "974b4288-f97d-4396-9074-dd5df54c2941",
   "metadata": {},
   "outputs": [],
   "source": [
    "melt_front.sum()"
   ]
  },
  {
   "cell_type": "code",
   "execution_count": null,
   "id": "d78ee920-72c5-48e0-8d5e-0428b26b9bf1",
   "metadata": {},
   "outputs": [],
   "source": [
    "melt_front_tot_xr.sum()"
   ]
  },
  {
   "cell_type": "code",
   "execution_count": null,
   "id": "428a69cb-9a0b-45ff-b6dc-b883eceb62e6",
   "metadata": {},
   "outputs": [],
   "source": [
    "file_Justine_closed['Melt'+melt_src].sum()"
   ]
  },
  {
   "cell_type": "code",
   "execution_count": null,
   "id": "ba83fd0f-ab20-496d-9289-fd9fc4fcbd63",
   "metadata": {},
   "outputs": [],
   "source": [
    "(file_Justine_closed['Melt'+melt_src] - melt_front_tot_xr).where(abs(file_Justine_closed['Melt'+melt_src] - melt_front_tot_xr) > 0.5, drop=True)"
   ]
  },
  {
   "cell_type": "markdown",
   "id": "5f311e6a-8c14-4af9-8476-b4663d0c1eeb",
   "metadata": {},
   "source": [
    "Check the missing ones"
   ]
  },
  {
   "cell_type": "code",
   "execution_count": null,
   "id": "ae6f54de-626d-4b9c-b7ab-a16c5ab40438",
   "metadata": {},
   "outputs": [],
   "source": [
    "((extrap_domains_closed == 96) + (mask_0_2 == 2)).astype(int).plot()"
   ]
  },
  {
   "cell_type": "code",
   "execution_count": null,
   "id": "66bff3d8-bcf5-4ec9-b5e8-dcb25c7d9deb",
   "metadata": {},
   "outputs": [],
   "source": [
    "file_Justine_closed['NAME'].sel(ID=96).load()"
   ]
  },
  {
   "cell_type": "markdown",
   "id": "26e51902-c6a7-46b4-8390-1110a9c8b4af",
   "metadata": {},
   "source": [
    "CLEAN AND REMOVE ALL FRONTS WHERE MELT IS ZERO"
   ]
  },
  {
   "cell_type": "code",
   "execution_count": null,
   "id": "a6580965-30d2-4b72-adf5-b128461528bb",
   "metadata": {},
   "outputs": [],
   "source": [
    "zmin_front = zmin_front.where(melt_front > 0)\n",
    "zmax_front = zmax_front.where(melt_front > 0)\n",
    "melt_front = melt_front.where(melt_front > 0)"
   ]
  },
  {
   "cell_type": "markdown",
   "id": "87d7e08d-616b-43b8-8577-36393f861474",
   "metadata": {},
   "source": [
    "WRITE TO NETCDF"
   ]
  },
  {
   "cell_type": "code",
   "execution_count": null,
   "id": "07f7917c-9289-4b85-a1fd-bc0cec33467b",
   "metadata": {},
   "outputs": [],
   "source": [
    "ds_isfNEMO['z_min'] = zmin_front\n",
    "ds_isfNEMO['z_min'].attrs['standard_name'] = 'most shallow point of the ice-shelf draft indicated at the ice-shelf front'\n",
    "ds_isfNEMO['z_min'].attrs['units'] = 'm below sea level'\n",
    "\n",
    "ds_isfNEMO['z_max'] = zmax_front\n",
    "ds_isfNEMO['z_max'].attrs['standard_name'] = 'deepest point of the ice-shelf draft indicated at the ice-shelf front'\n",
    "ds_isfNEMO['z_max'].attrs['units'] = 'm below sea level'\n",
    "\n",
    "ds_isfNEMO['melt_isf_closed'] = melt_front\n",
    "ds_isfNEMO['melt_isf_closed'].attrs['standard_name'] = 'melt flux from '+melt_src+' distributed at the ice-shelf front'\n",
    "ds_isfNEMO['melt_isf_closed'].attrs['units'] = 'Gt/yr'"
   ]
  },
  {
   "cell_type": "code",
   "execution_count": null,
   "id": "7daf2f65-917f-468b-b286-e124a65dc1cd",
   "metadata": {},
   "outputs": [],
   "source": [
    "ds_isfNEMO.attrs=dict(Source='Based on IMBIE2 (Mask_Iceshelf_IMBIE2_v2.nc), melt from '+melt_src,\n",
    "                      Compatibility='The masked variables are compatible with '+fNEMO_mask,\n",
    "                      Creator='C. Burgard and P. Mathiot ('+date.today().strftime(\"%b-%d-%Y\")+')')"
   ]
  },
  {
   "cell_type": "code",
   "execution_count": null,
   "id": "c1a642f1-3184-4ba2-9355-4d6adb27bcaf",
   "metadata": {},
   "outputs": [],
   "source": [
    "ds_isfNEMO.to_netcdf(inputpath_interim + 'masks_for_eORCA1.nc') "
   ]
  },
  {
   "cell_type": "code",
   "execution_count": null,
   "id": "4280dad9-f791-4b43-9251-2d9e40e52c6b",
   "metadata": {},
   "outputs": [],
   "source": [
    "# remark: the Davison melt is the average over the varying conditions (not the steady state)"
   ]
  },
  {
   "cell_type": "code",
   "execution_count": null,
   "id": "70dd24a8-79a3-4d8b-adb6-75ef14c5e96a",
   "metadata": {},
   "outputs": [],
   "source": [
    "check_file = xr.open_dataset(inputpath_interim + 'masks_for_eORCA1.nc')"
   ]
  },
  {
   "cell_type": "code",
   "execution_count": null,
   "id": "8f221e76-fb9a-4204-8b42-6a5d390fdeb8",
   "metadata": {},
   "outputs": [],
   "source": [
    "check_file['mask_isf_open'].plot()"
   ]
  },
  {
   "cell_type": "code",
   "execution_count": null,
   "id": "fa24f499-834d-49f3-b678-ce52b314bee9",
   "metadata": {},
   "outputs": [],
   "source": []
  }
 ],
 "metadata": {
  "kernelspec": {
   "display_name": "py38",
   "language": "python",
   "name": "py38"
  },
  "language_info": {
   "codemirror_mode": {
    "name": "ipython",
    "version": 3
   },
   "file_extension": ".py",
   "mimetype": "text/x-python",
   "name": "python",
   "nbconvert_exporter": "python",
   "pygments_lexer": "ipython3",
   "version": "3.8.18"
  }
 },
 "nbformat": 4,
 "nbformat_minor": 5
}
