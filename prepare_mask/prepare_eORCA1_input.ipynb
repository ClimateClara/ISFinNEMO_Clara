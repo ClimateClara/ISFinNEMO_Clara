{
 "cells": [
  {
   "cell_type": "code",
   "execution_count": null,
   "id": "d33a0ba0-1949-4d4b-9aef-2de855d159ce",
   "metadata": {},
   "outputs": [],
   "source": [
    "\"\"\"\n",
    "Created on Mon Oct 21 16:13 2024\n",
    "\n",
    "Prepare what's needed for eORCA1 on the ice-shelf side\n",
    "\n",
    "@author: Clara Burgard\n",
    "\"\"\""
   ]
  },
  {
   "cell_type": "code",
   "execution_count": 1,
   "id": "812a31bc-f951-4981-bdea-34cc08532611",
   "metadata": {},
   "outputs": [],
   "source": [
    "import xarray as xr\n",
    "import numpy as np\n",
    "from cdo import Cdo\n",
    "from tqdm.notebook import tqdm\n",
    "import matplotlib.pyplot as plt\n",
    "from datetime import date\n",
    "#import xesmf as xe"
   ]
  },
  {
   "cell_type": "code",
   "execution_count": 2,
   "id": "51657dc2-6a20-4a1f-a799-43df9c3576c0",
   "metadata": {},
   "outputs": [],
   "source": [
    "%matplotlib qt5"
   ]
  },
  {
   "cell_type": "code",
   "execution_count": 3,
   "id": "b5ec574f-922f-4460-ab83-6a03429e0fd6",
   "metadata": {},
   "outputs": [
    {
     "name": "stdout",
     "output_type": "stream",
     "text": [
      "this is CDO version 1.9.9rc1\n"
     ]
    }
   ],
   "source": [
    "cdo = Cdo()\n",
    "print('this is CDO version %s'%(cdo.version()))"
   ]
  },
  {
   "cell_type": "code",
   "execution_count": 4,
   "id": "33919035-9b27-4254-b541-485be1a642d4",
   "metadata": {},
   "outputs": [],
   "source": [
    "inputpath_raw = '/data/cburgard/PREPARE_FORCING/PREPARE_CAVITY_MASKS/raw/'\n",
    "inputpath_interim = '/data/cburgard/PREPARE_FORCING/PREPARE_CAVITY_MASKS/interim/'"
   ]
  },
  {
   "cell_type": "code",
   "execution_count": 5,
   "id": "f55dbae1-fa94-4b4d-8378-75248c6601f8",
   "metadata": {},
   "outputs": [],
   "source": [
    "file_Justine = xr.open_dataset(inputpath_interim + 'Mask_Iceshelf_IMBIE2_v2_with_zmin_zmax_isfconc.nc').drop('quantile')"
   ]
  },
  {
   "cell_type": "code",
   "execution_count": 6,
   "id": "1af9f5da-c49a-42d6-b0ae-1076f1d5ec3f",
   "metadata": {},
   "outputs": [],
   "source": [
    "fNEMO_mask = 'eORCA1.4.3_OpenSeas_OpenAllCav_ModStraights_domain_cfg.nc'"
   ]
  },
  {
   "cell_type": "markdown",
   "id": "60815018-5a0a-4d12-998f-5f2e72e4b3f2",
   "metadata": {},
   "source": [
    "REMAP THE ICE SHELF CONCENTRATION"
   ]
  },
  {
   "cell_type": "code",
   "execution_count": 7,
   "id": "eff7583d-7302-4911-bcb0-c4faf8ef7e7d",
   "metadata": {},
   "outputs": [],
   "source": [
    "input_grid = xr.open_dataset(inputpath_interim + 'IMBIE_2km_stereo_withbnds.nc')\n",
    "# will be provided, was created with create_cdo_stereo_grid.ipynb"
   ]
  },
  {
   "cell_type": "markdown",
   "id": "1aea1cb7-6bfe-416e-b1bc-19d486295108",
   "metadata": {},
   "source": [
    "Prepare the output NEMO grid for conservative remapping"
   ]
  },
  {
   "cell_type": "code",
   "execution_count": null,
   "id": "d52c82cd-9ea0-46d6-9036-d8fbd7c4d861",
   "metadata": {},
   "outputs": [],
   "source": [
    "# Load your curvilinear grid file\n",
    "ds = xr.open_dataset(inputpath_raw + 'eORCA1.4.3_OpenSeas_OpenAllCav_ModStraights/coordinates.nc')\n",
    "\n",
    "# Assuming the dataset has 'lat' and 'lon' variables\n",
    "lat = ds['gphit']  # 2D array of latitudes\n",
    "lon = ds['glamt'] # 2D array of longitudes\n",
    "# Create a longitude with 0-360 values to avoir a gap in the bounds later\n",
    "lon360 = lon.where(lon>0,lon+360)\n",
    "\n",
    "# Create the lat and lon of the grid corners : ll = lower left, lr = lower right, ur = upper right, ul = upper left\n",
    "meshlon_ll,meshlat_ll = (lon + lon.roll(x=-1))/2, (lat + lat.roll(x=-1))/2\n",
    "meshlon_lr,meshlat_lr = (lon + lon.roll(x=1))/2, (lat + lat.roll(x=-1))/2\n",
    "meshlon_ur,meshlat_ur = (lon + lon.roll(x=1))/2, (lat + lat.roll(x=1))/2\n",
    "meshlon_ul,meshlat_ul = (lon + lon.roll(x=-1))/2, (lat + lat.roll(x=1))/2\n",
    "\n",
    "# Create the lon of the grid corners using 0-360 : ll = lower left, lr = lower right, ur = upper right, ul = upper left\n",
    "meshlon360_ll,_ = (lon360 + lon360.roll(x=-1))/2, (lat + lat.roll(x=-1))/2\n",
    "meshlon360_lr,_ = (lon360 + lon360.roll(x=1))/2, (lat + lat.roll(x=-1))/2\n",
    "meshlon360_ur,_ = (lon360 + lon360.roll(x=1))/2, (lat + lat.roll(x=1))/2\n",
    "meshlon360_ul,_ = (lon360 + lon360.roll(x=-1))/2, (lat + lat.roll(x=1))/2\n",
    "\n",
    "lon_bnds = xr.DataArray(data=np.array([meshlon_ll, meshlon_lr, meshlon_ur, meshlon_ul]), dims=['nvertex','y','x'])\n",
    "lat_bnds = xr.DataArray(data=np.array([meshlat_ll, meshlat_lr, meshlat_ur, meshlat_ul]), dims=['nvertex','y','x'])\n",
    "lon360_bnds = xr.DataArray(data=np.array([meshlon360_ll, meshlon360_lr, meshlon360_ur, meshlon360_ul]), dims=['nvertex','y','x']) \n",
    "\n",
    "# region where longitude hops from 180 to -180\n",
    "prob_region = (lon <= -140) | (lon >= 140) & (np.abs(lon_bnds) < 25)\n",
    "new_lon_bnds = lon_bnds.where(~prob_region, lon360_bnds)\n",
    "new_lon_bnds = new_lon_bnds.where(new_lon_bnds <= 180, new_lon_bnds - 360)\n",
    "\n",
    "# format the dataset\n",
    "NEMO_new_grid = xr.merge([new_lon_bnds.rename('lon_bnds'),\n",
    "                          lat_bnds.rename('lat_bnds')]).assign_coords({'lon': lon, 'lat': lat})\n",
    "\n",
    "NEMO_new_grid['lon'].attrs['standard_name'] = 'longitude'\n",
    "NEMO_new_grid['lon'].attrs['units'] = 'degrees_east'\n",
    "NEMO_new_grid['lon'].attrs['bounds'] = 'lon_bnds'\n",
    "\n",
    "NEMO_new_grid['lat'].attrs['standard_name'] = 'latitude'\n",
    "NEMO_new_grid['lat'].attrs['units'] = 'degrees_north'\n",
    "NEMO_new_grid['lat'].attrs['bounds'] = 'lat_bnds'\n",
    "\n",
    "NEMO_new_grid['dummy'] = xr.DataArray(data=np.zeros(lon.shape), dims=['y','x'])\n",
    "\n",
    "output_grid = NEMO_new_grid[['dummy','lon','lat','lon_bnds','lat_bnds']].set_coords(\n",
    "    (\"lat_bnds\", \"lon_bnds\")).transpose('y','x','nvertex')\n",
    "output_grid.to_netcdf(inputpath_interim + 'NEMO_grid_withbnds.nc')"
   ]
  },
  {
   "cell_type": "markdown",
   "id": "8500f20c-3ff6-45c5-b888-c91d998f0fbc",
   "metadata": {},
   "source": [
    "Conservative regridding of the ice-shelf concentration"
   ]
  },
  {
   "cell_type": "code",
   "execution_count": 8,
   "id": "16a2e600-5122-4a2f-bb8d-4d9db5170844",
   "metadata": {},
   "outputs": [],
   "source": [
    "output_grid = xr.open_dataset(inputpath_interim + 'NEMO_grid_withbnds.nc')"
   ]
  },
  {
   "cell_type": "code",
   "execution_count": null,
   "id": "96b1ea28-6812-46f2-a477-b4f4a2afde60",
   "metadata": {},
   "outputs": [],
   "source": [
    "output_grid"
   ]
  },
  {
   "cell_type": "code",
   "execution_count": null,
   "id": "848915ba-ef9b-428a-b963-c4dc6e81e1f4",
   "metadata": {},
   "outputs": [],
   "source": [
    "regridder_con = xe.Regridder(input_grid, output_grid, \"conservative\", periodic=True, ignore_degenerate=True)"
   ]
  },
  {
   "cell_type": "code",
   "execution_count": null,
   "id": "7e0a05ae-fb67-43e1-a392-669a4c8826d2",
   "metadata": {},
   "outputs": [],
   "source": [
    "remapped_isf_conc = regridder_con(file_Justine['isf_conc'])"
   ]
  },
  {
   "cell_type": "code",
   "execution_count": null,
   "id": "e6540b02-81d0-43f0-b48f-14a6dd553b56",
   "metadata": {},
   "outputs": [],
   "source": [
    "remapped_isf_conc.to_dataset(name='isf_conc').to_netcdf(inputpath_interim + 'try_conservative_regridding_isf_conc.nc')"
   ]
  },
  {
   "cell_type": "code",
   "execution_count": null,
   "id": "c251036a-dfb3-42ec-90fd-c444401ceb71",
   "metadata": {},
   "outputs": [],
   "source": [
    "# cdo remapcon,NEMO_grid_withbnds.nc -selvar,isf_conc Mask_Iceshelf_IMBIE2_v2_with_zmin_zmax_isfconc.nc isfconc_NEMOgrid.nc\n",
    "#cdo    remapcon (Abort): Source grid cell corner coordinates missing!"
   ]
  },
  {
   "cell_type": "markdown",
   "id": "346dc088-6f04-4547-a4ea-3b63340df382",
   "metadata": {},
   "source": [
    "Double-check if what is represented in NEMO is point with 100% ice-shelf concentration "
   ]
  },
  {
   "cell_type": "code",
   "execution_count": null,
   "id": "cf19ffdc-70c7-435f-aa6f-0e9f2fe74d11",
   "metadata": {},
   "outputs": [],
   "source": [
    "mask_1deg = (ds_isfNEMO['mask_isf'] > 0)"
   ]
  },
  {
   "cell_type": "code",
   "execution_count": null,
   "id": "71276aed-230a-442c-bd3e-21fd2cbd466c",
   "metadata": {},
   "outputs": [],
   "source": [
    "ds_out.where(mask_1deg)"
   ]
  },
  {
   "cell_type": "markdown",
   "id": "9809b95d-95b5-4518-ae23-3c32a6e9fd3c",
   "metadata": {},
   "source": [
    "REMAP THE MASKS WITH NEAREST NEIGHBOUR"
   ]
  },
  {
   "cell_type": "code",
   "execution_count": null,
   "id": "f54322c1-2ea3-4358-b5f3-fba902a04ab8",
   "metadata": {},
   "outputs": [],
   "source": [
    "#regridder_nn = xe.Regridder(input_grid, output_grid, \"nearest_s2d\", periodic=True) # this takes FOREVER!!!\n",
    "# isfmask = regridder_nn(file_Justine['Iceshelf_extrap'])"
   ]
  },
  {
   "cell_type": "code",
   "execution_count": 11,
   "id": "b94a85ce-dc38-4c31-9c14-1c434ffa8ae8",
   "metadata": {},
   "outputs": [],
   "source": [
    "isfmask_nn = cdo.remapnn(inputpath_interim + 'NEMO_grid_withbnds.nc',input=file_Justine['Iceshelf_extrap'], returnArray='Iceshelf_extrap')\n",
    "isfmask = xr.DataArray(data=isfmask_nn, dims=['y','x'])"
   ]
  },
  {
   "cell_type": "markdown",
   "id": "a2e5dd9d-7178-4b02-b7f2-585a48b523c3",
   "metadata": {},
   "source": [
    "!!!!!!! ONLY IF YOUR GRID IS eORCA1 !!!!!!! => I think this is not needed anymore"
   ]
  },
  {
   "cell_type": "code",
   "execution_count": null,
   "id": "50f3c567-625d-4f1c-a2d2-2d8ecb2e1c9d",
   "metadata": {},
   "outputs": [],
   "source": [
    "# For eORCA1, this method leads to no ocean cells for Bach (ID=101) and Cosgrove (ID=88). \n",
    "# I suggest merging it with its neighbour 'Britten' (ID=100), and neighbour 'No Name' (ID=89) \n",
    "# which has no melt in most of the obs products\n",
    "#isfmask = isfmask.where(isfmask != 100, 101)\n",
    "#isfmask = isfmask.where(isfmask != 89, 88)"
   ]
  },
  {
   "cell_type": "markdown",
   "id": "9bb61c50-2b37-40d9-9d44-4f10629a6e37",
   "metadata": {},
   "source": [
    "CREATE MASK_VARIABLE"
   ]
  },
  {
   "cell_type": "code",
   "execution_count": 12,
   "id": "cf841abb-48e4-49e3-8ead-87fc44e12c81",
   "metadata": {},
   "outputs": [],
   "source": [
    "domain_cfg = xr.open_dataset(inputpath_raw + 'eORCA1.4.3_OpenSeas_OpenAllCav_ModStraights/eORCA1.4.3_OpenSeas_OpenAllCav_ModStraights_domain_cfg.nc')\n"
   ]
  },
  {
   "cell_type": "code",
   "execution_count": 13,
   "id": "5588bb39-592e-4955-9893-62f31c7ab9ed",
   "metadata": {},
   "outputs": [],
   "source": [
    "ds_isfNEMO = xr.Dataset()\n",
    "\n",
    "ds_isfNEMO['mask_isf'] = isfmask.where(domain_cfg['isf_draft'] > 0)\n",
    "ds_isfNEMO['mask_isf'].attrs['standard_name'] = 'mask of all the ice shelves'\n",
    "ds_isfNEMO['mask_isf'].attrs['units'] = 'ID as given in Mask_Iceshelf_IMBIE2_v2.nc'\n",
    "\n",
    "#ds_isfNEMO['mask_isf_onlyisfconc1'] = ds_isfNEMO['mask_isf'].where(isfconc['isf_conc'] > 0.9999)\n"
   ]
  },
  {
   "cell_type": "code",
   "execution_count": 14,
   "id": "3b8bd366-22b3-4b39-a532-748070b2bb3e",
   "metadata": {},
   "outputs": [
    {
     "ename": "NameError",
     "evalue": "name 'remapped_isf_conc' is not defined",
     "output_type": "error",
     "traceback": [
      "\u001b[0;31m---------------------------------------------------------------------------\u001b[0m",
      "\u001b[0;31mNameError\u001b[0m                                 Traceback (most recent call last)",
      "Cell \u001b[0;32mIn[14], line 1\u001b[0m\n\u001b[0;32m----> 1\u001b[0m ds_isfNEMO[\u001b[38;5;124m'\u001b[39m\u001b[38;5;124mfloating_frac\u001b[39m\u001b[38;5;124m'\u001b[39m] \u001b[38;5;241m=\u001b[39m \u001b[43mremapped_isf_conc\u001b[49m\n",
      "\u001b[0;31mNameError\u001b[0m: name 'remapped_isf_conc' is not defined"
     ]
    }
   ],
   "source": [
    "ds_isfNEMO['floating_frac'] = remapped_isf_conc # .where(isfconc['isf_conc'] < 0.9999,1)"
   ]
  },
  {
   "cell_type": "markdown",
   "id": "a6f727aa-277b-424e-ba7b-1093c5fcba8e",
   "metadata": {},
   "source": [
    "Investigate stuff about isf conc"
   ]
  },
  {
   "cell_type": "code",
   "execution_count": 15,
   "id": "b0777400-67b8-49a5-b0b9-cb2b9d3ecdbf",
   "metadata": {},
   "outputs": [],
   "source": [
    "remapped_isf_conc = xr.open_dataset(inputpath_interim + 'try_conservative_regridding_isf_conc.nc')['isf_conc']"
   ]
  },
  {
   "cell_type": "code",
   "execution_count": 16,
   "id": "2e6bca94-ff5d-4a58-bd3b-a578cc298505",
   "metadata": {},
   "outputs": [],
   "source": [
    "ds_isfNEMO = xr.open_dataset(inputpath_interim + 'masks_for_eORCA1.nc')"
   ]
  },
  {
   "cell_type": "code",
   "execution_count": null,
   "id": "36bf14eb-17bf-4ad0-a715-e50fe6121691",
   "metadata": {},
   "outputs": [],
   "source": [
    "((remapped_isf_conc > 0).astype(int) + (np.isfinite(ds_isfNEMO['mask_isf'])).astype(int)).plot()"
   ]
  },
  {
   "cell_type": "code",
   "execution_count": null,
   "id": "92f1ebc2-c55b-4bbe-9c13-54bc3520f6ca",
   "metadata": {},
   "outputs": [],
   "source": [
    "ds_isfNEMO['mask_isf'].plot()"
   ]
  },
  {
   "cell_type": "markdown",
   "id": "2f8179a6-a2ab-443d-88dd-6fc809014acc",
   "metadata": {},
   "source": [
    "CREATE MASK_ISF_OPEN AND MASK_ISF_CLOSED"
   ]
  },
  {
   "cell_type": "code",
   "execution_count": null,
   "id": "ae42928b-0c1f-47f8-b8bd-a92539ba2790",
   "metadata": {},
   "outputs": [],
   "source": [
    "## gives the list of names when needed to better understand stuff\n",
    "#for iid in file_Justine.ID:\n",
    "#    print(iid.values,file_Justine['NAME'].sel(ID=iid).values)"
   ]
  },
  {
   "cell_type": "code",
   "execution_count": 17,
   "id": "0de75c39-c7a2-460b-a0c2-8a92c374e373",
   "metadata": {},
   "outputs": [],
   "source": [
    "# Choose (by eye or given a criterion, which ice shelves will have open cavities)\n",
    "ID_open_list = [21,66,67,117,124,125,127,128]"
   ]
  },
  {
   "cell_type": "code",
   "execution_count": 18,
   "id": "c1f49946-da81-41f4-a0bb-2e9b17ed9512",
   "metadata": {},
   "outputs": [],
   "source": [
    "# Divide the ref file into \"open\" and \"closed\" cavities\n",
    "file_Justine_open = file_Justine.sel(ID=ID_open_list)\n",
    "file_Justine_closed = file_Justine.drop_sel(ID=ID_open_list)"
   ]
  },
  {
   "cell_type": "code",
   "execution_count": 19,
   "id": "84cd0670-5e54-4701-95f6-e640a34a45c3",
   "metadata": {},
   "outputs": [
    {
     "data": {
      "application/vnd.jupyter.widget-view+json": {
       "model_id": "3375d8bde7cc44ab941fb22da3dd2c6e",
       "version_major": 2,
       "version_minor": 0
      },
      "text/plain": [
       "  0%|          | 0/125 [00:00<?, ?it/s]"
      ]
     },
     "metadata": {},
     "output_type": "display_data"
    }
   ],
   "source": [
    "# Prepare domain_cfg closing (setting to 0) all information about the closed cavities\n",
    "domain_cfg_closed =  domain_cfg.copy()\n",
    "for id_closed in tqdm(file_Justine_closed.ID):\n",
    "    for vv in ['bottom_level','top_level','isf_draft','bathy_metry', 'mask_opensea', 'mask_csgrpglo']:\n",
    "        domain_cfg_closed[vv] = domain_cfg_closed[vv].where(ds_isfNEMO['mask_isf'] != id_closed.values, 0)"
   ]
  },
  {
   "cell_type": "code",
   "execution_count": 20,
   "id": "7da6a027-dcf5-4073-8f58-d4b6ed9fdaa3",
   "metadata": {},
   "outputs": [
    {
     "data": {
      "application/vnd.jupyter.widget-view+json": {
       "model_id": "e17fbc4f5f0c4bb79e79d992f22a7e0a",
       "version_major": 2,
       "version_minor": 0
      },
      "text/plain": [
       "  0%|          | 0/125 [00:00<?, ?it/s]"
      ]
     },
     "metadata": {},
     "output_type": "display_data"
    }
   ],
   "source": [
    "# Prepare mask of only open cavities \n",
    "mask_isf_open = ds_isfNEMO['mask_isf'].copy()\n",
    "for id_closed in tqdm(file_Justine_closed.ID):\n",
    "    mask_isf_open = mask_isf_open.where(ds_isfNEMO['mask_isf'] != id_closed.values)"
   ]
  },
  {
   "cell_type": "code",
   "execution_count": 21,
   "id": "2db5b78a-458a-407c-9638-2ed57e7390ed",
   "metadata": {},
   "outputs": [],
   "source": [
    "# Prepare mask of only closed cavities \n",
    "mask_isf_closed = ds_isfNEMO['mask_isf'].where(np.isnan(mask_isf_open))"
   ]
  },
  {
   "cell_type": "code",
   "execution_count": 22,
   "id": "df7a6118-1093-421e-8734-799df421be09",
   "metadata": {},
   "outputs": [],
   "source": [
    "# create mask_isf_open and mask_isf_closed\n",
    "ds_isfNEMO['mask_isf_open'] = mask_isf_open\n",
    "ds_isfNEMO['mask_isf_open'].attrs['standard_name'] = 'mask of the ice shelves that are open'\n",
    "ds_isfNEMO['mask_isf_open'].attrs['units'] = 'ID as given in Mask_Iceshelf_IMBIE2_v2.nc'\n",
    "\n",
    "ds_isfNEMO['mask_isf_closed'] = mask_isf_closed\n",
    "ds_isfNEMO['mask_isf_closed'].attrs['standard_name'] = 'mask of the ice shelves that are closed'\n",
    "ds_isfNEMO['mask_isf_closed'].attrs['units'] = 'ID as given in Mask_Iceshelf_IMBIE2_v2.nc'"
   ]
  },
  {
   "cell_type": "markdown",
   "id": "f2f0b41f-34fd-4378-b4a7-6eaf97a289e0",
   "metadata": {},
   "source": [
    "IDENTIFY FRONT"
   ]
  },
  {
   "cell_type": "code",
   "execution_count": 23,
   "id": "97a00f3b-bfe0-4e74-8c8f-40cad85677ed",
   "metadata": {},
   "outputs": [],
   "source": [
    "# Create a mask discriminating between land, ocean and ice shelf\n",
    "mask_0_1_2 = ds_isfNEMO['mask_isf'] * 2\n",
    "mask_0_1_2 = mask_0_1_2.where(domain_cfg['bathy_metry'] != 0, 400) # land\n",
    "mask_0_1_2 = mask_0_1_2.where(domain_cfg['bathy_metry'] == 0, 0) # ocean\n",
    "mask_0_1_2 = mask_0_1_2.where(domain_cfg['isf_draft'] == 0, 200) # ice shelf"
   ]
  },
  {
   "cell_type": "code",
   "execution_count": 24,
   "id": "868069e6-1108-4de4-9a4c-1becdf878349",
   "metadata": {},
   "outputs": [],
   "source": [
    "# Create a mask of the extrapolated domains and only keep the domains corresponding to the closed cavities\n",
    "extrap_domains_closed = isfmask.copy()\n",
    "\n",
    "for kisf in ID_open_list:\n",
    "    mask_0_1_2_closed = mask_0_1_2.where(ds_isfNEMO['mask_isf'] != kisf, 400)\n",
    "    extrap_domains_closed = extrap_domains_closed.where(extrap_domains_closed != kisf, np.nan)"
   ]
  },
  {
   "cell_type": "code",
   "execution_count": 25,
   "id": "e3e1d9d1-3d77-4e43-ae61-b0dc505008d0",
   "metadata": {},
   "outputs": [],
   "source": [
    "# set all ice shelves to 300\n",
    "mask_front0 = mask_0_1_2.where((mask_0_1_2 == 0) | (mask_0_1_2 == 400), 300).copy()"
   ]
  },
  {
   "cell_type": "code",
   "execution_count": 26,
   "id": "5b660390-9cfa-40bd-93bb-a76edeb3ac84",
   "metadata": {},
   "outputs": [],
   "source": [
    "mask_front = mask_front0.copy()\n",
    "# check all directions and set points at border between ocean and ice shelf (300-0) to 500\n",
    "mask_front = mask_front.where((mask_front0.shift(x=-1)-mask_front0)!=300,500)\n",
    "mask_front = mask_front.where((mask_front0.shift(x=1)-mask_front0)!=300,500)\n",
    "mask_front = mask_front.where((mask_front0.shift(y=-1)-mask_front0)!=300,500)\n",
    "mask_front = mask_front.where((mask_front0.shift(y=1)-mask_front0)!=300,500)\n",
    "# cut out all front points\n",
    "mask_front = mask_front.where(mask_front==500)\n",
    "# set the ice shelf number\n",
    "mask_front = mask_front.where(mask_front!=500,extrap_domains_closed)"
   ]
  },
  {
   "cell_type": "markdown",
   "id": "75d26b16-3714-4d4f-b4d9-789019632bed",
   "metadata": {},
   "source": [
    "For the ice shelves not resolved at all in eORCA1"
   ]
  },
  {
   "cell_type": "code",
   "execution_count": 27,
   "id": "5839c7ce-874e-4f35-8248-e6092a431fe0",
   "metadata": {},
   "outputs": [],
   "source": [
    "# define the domains that have not an associated front yet\n",
    "extrap_domains_double_closed = extrap_domains_closed.copy()\n",
    "\n",
    "for kisf in file_Justine_closed.ID:\n",
    "    if (mask_front == kisf).astype(int).sum() > 0:\n",
    "        #print(kisf.values)\n",
    "        extrap_domains_double_closed = extrap_domains_double_closed.where(extrap_domains_double_closed != kisf, np.nan).drop('ID')"
   ]
  },
  {
   "cell_type": "code",
   "execution_count": null,
   "id": "9fa8ddd3-156b-4162-ba2a-c543e6ad9b97",
   "metadata": {},
   "outputs": [],
   "source": [
    "# To double check where the front points are\n",
    "#iid = 89\n",
    "#plt.figure()\n",
    "#((mask_0_2) + (isfmask['Iceshelf_extrap'] == iid)).plot()\n",
    "#plt.title(str(iid))"
   ]
  },
  {
   "cell_type": "code",
   "execution_count": null,
   "id": "15ff2078-89a0-4c34-a855-c676cc27b30b",
   "metadata": {},
   "outputs": [],
   "source": []
  },
  {
   "cell_type": "code",
   "execution_count": null,
   "id": "0b12a5ff-b941-49fb-a47e-f1c36c03bf03",
   "metadata": {},
   "outputs": [],
   "source": [
    "# set all ice shelves to land to have a delimitation of the whole contour of Antarctica\n",
    "mask_0_2 = mask_0_1_2.where(mask_0_1_2 != 200, 2)\n",
    "mask_0_2 = mask_0_2.where(mask_0_2 != 400, 2)\n",
    "\n",
    "mask_front_new = mask_0_2.copy()\n",
    "\n",
    "# check all directions and set points at border between ocean and land(300-0) to 500\n",
    "mask_front_new = mask_front_new.where((mask_0_2.shift(x=-1)-mask_0_2) <= 0,5)\n",
    "mask_front_new = mask_front_new.where((mask_0_2.shift(x=1)-mask_0_2) <= 0,5)\n",
    "mask_front_new = mask_front_new.where((mask_0_2.shift(y=-1)-mask_0_2) <= 0,5)\n",
    "mask_front_new = mask_front_new.where((mask_0_2.shift(y=1)-mask_0_2) <= 0,5)\n",
    "# cut out all front points south of the y = 90 latitude and in the ocean domain\n",
    "mask_front_new = mask_front_new.where((mask_front_new == 5) & (mask_front_new.y < 90) & (mask_0_2 == 0))\n",
    "# set the ice shelf number of the extrapolated domain\n",
    "mask_front_new = mask_front_new.where(mask_front_new != 5,extrap_domains_double_closed)"
   ]
  },
  {
   "cell_type": "code",
   "execution_count": null,
   "id": "f2b5880c-420a-4867-a470-56b4d2b30165",
   "metadata": {},
   "outputs": [],
   "source": [
    "# check that it is the right delimitation (i.e. on the ocean points)\n",
    "((mask_front_new > 0) + mask_0_2).plot()"
   ]
  },
  {
   "cell_type": "code",
   "execution_count": null,
   "id": "bb006c3a-cfaf-47a0-b56f-cc3bb32528cb",
   "metadata": {},
   "outputs": [],
   "source": [
    "# combining the masks of the fronts (mask_front and mask_front_new)\n",
    "mask_front_all = mask_front.copy()\n",
    "for iid in file_Justine_closed.ID:\n",
    "    if (ds_isfNEMO['mask_isf_closed'] == iid).astype(int).sum().values == 0: # if the ice shelf is not resolved in your grid, add the mask front inferred for them\n",
    "        #print(iid.values, file_Justine_closed['NAME'].sel(ID=iid).values, (mask_front_new == iid).astype(int).sum().values)\n",
    "        mask_front_all = mask_front_all.combine_first(mask_front_new.where(mask_front_new == iid))"
   ]
  },
  {
   "cell_type": "code",
   "execution_count": null,
   "id": "3b32d71a-a8d0-432a-bc3e-0c194b29508a",
   "metadata": {},
   "outputs": [],
   "source": [
    "mask_front_file = xr.Dataset()\n",
    "mask_front_file['mask_front'] = mask_front_all\n",
    "mask_front_file['ID'] = file_Justine['ID']\n",
    "mask_front_file.to_netcdf(inputpath_interim + 'mask_fronts_eORCA1.nc')"
   ]
  },
  {
   "cell_type": "code",
   "execution_count": null,
   "id": "fa8d6e42-f5cb-4516-979d-8d771d4f10cc",
   "metadata": {},
   "outputs": [],
   "source": [
    "mask_front_file['mask_front'].plot()"
   ]
  },
  {
   "cell_type": "markdown",
   "id": "11319f83-bfba-43aa-a070-c46015fda5e8",
   "metadata": {},
   "source": [
    "MAKE MAPS OF ZMIN AND ZMAX ON THE FRONT"
   ]
  },
  {
   "cell_type": "code",
   "execution_count": null,
   "id": "751d59dd-9a1e-4b7f-8f39-ab33ab70166a",
   "metadata": {},
   "outputs": [],
   "source": [
    "zmin_front = mask_front_all.copy()\n",
    "zmax_front = mask_front_all.copy()\n",
    "\n",
    "for id_closed in tqdm(file_Justine_closed.ID):\n",
    "    zmin_front = zmin_front.where(mask_front_all != id_closed, file_Justine_closed['z_perc01'].sel(ID=id_closed)).drop('ID')\n",
    "    zmax_front = zmax_front.where(mask_front_all != id_closed, file_Justine_closed['z_perc99'].sel(ID=id_closed)).drop('ID')"
   ]
  },
  {
   "cell_type": "markdown",
   "id": "a7a2796d-1bc1-4922-941c-c167f0e56a60",
   "metadata": {},
   "source": [
    "check if the extremes or the percentiles are more \"realistic\" => personally I think we should take the 1st and 99th percentiles"
   ]
  },
  {
   "cell_type": "code",
   "execution_count": null,
   "id": "1bdd1132-9606-4dc0-a7a2-9e2cb5ca1fb0",
   "metadata": {},
   "outputs": [],
   "source": [
    "file_Justine_closed['z_min'].plot()\n",
    "file_Justine_closed['z_perc01'].plot()"
   ]
  },
  {
   "cell_type": "code",
   "execution_count": null,
   "id": "cc3fb229-0b2b-4cca-bde8-a2dcb0ff5512",
   "metadata": {},
   "outputs": [],
   "source": [
    "file_Justine_closed['z_max'].plot()\n",
    "file_Justine_closed['z_perc99'].plot()"
   ]
  },
  {
   "cell_type": "markdown",
   "id": "14913bb3-e052-44bb-a63c-a3bb2f2be062",
   "metadata": {},
   "source": [
    "DISTRIBUTE MELT AT THE FRONT NORMALISED BY CELL SIZE"
   ]
  },
  {
   "cell_type": "code",
   "execution_count": null,
   "id": "8e36f708-c133-4ff0-be1f-55d55cd6c434",
   "metadata": {},
   "outputs": [],
   "source": [
    "cell_area = domain_cfg['e1t'] * domain_cfg['e2t']\n",
    "melt_src = 'Davison' # options: 'Adusumilli','Rignot', 'Paolo', 'Davison'\n",
    "melt_flux = file_Justine_closed['Melt'+melt_src]"
   ]
  },
  {
   "cell_type": "code",
   "execution_count": null,
   "id": "036e285b-3889-4935-abd4-2904632a50df",
   "metadata": {},
   "outputs": [],
   "source": [
    "melt_front = mask_front_all.copy()\n",
    "for id_closed in tqdm(file_Justine_closed.ID):        \n",
    "    cell_area_isf = cell_area.where(mask_front_all == id_closed)\n",
    "    cell_area_isf_sum = cell_area.where(mask_front_all == id_closed).sum()\n",
    "    \n",
    "    if id_closed == 100:\n",
    "        melt_front = melt_front.where(mask_front_all != id_closed, (melt_flux.sel(ID=101) + melt_flux.sel(ID=100)) * cell_area_isf / cell_area_isf_sum).drop('ID')\n",
    "    elif id_closed == 88:\n",
    "        melt_front = melt_front.where(mask_front_all != id_closed, (melt_flux.sel(ID=89) + melt_flux.sel(ID=88)) * cell_area_isf / cell_area_isf_sum).drop('ID')\n",
    "    elif id_closed == 14:\n",
    "        melt_front = melt_front.where(mask_front_all != id_closed, (melt_flux.sel(ID=14) + melt_flux.sel(ID=15)) * cell_area_isf / cell_area_isf_sum).drop('ID')\n",
    "    elif id_closed == 20:\n",
    "        melt_front = melt_front.where(mask_front_all != id_closed, (melt_flux.sel(ID=20) + melt_flux.sel(ID=17) + melt_flux.sel(ID=18)) * cell_area_isf / cell_area_isf_sum).drop('ID')\n",
    "    elif id_closed == 102:\n",
    "        melt_front = melt_front.where(mask_front_all != id_closed, (melt_flux.sel(ID=102) + melt_flux.sel(ID=105) + melt_flux.sel(ID=107)) * cell_area_isf / cell_area_isf_sum).drop('ID')\n",
    "    else:\n",
    "        melt_front = melt_front.where(mask_front_all != id_closed, melt_flux.sel(ID=id_closed) * cell_area_isf / cell_area_isf_sum).drop('ID')\n"
   ]
  },
  {
   "cell_type": "markdown",
   "id": "cb9db4fa-9615-422f-ac13-fb832421f676",
   "metadata": {},
   "source": [
    "Double-check that the total melt is matched"
   ]
  },
  {
   "cell_type": "code",
   "execution_count": null,
   "id": "600250a6-89c5-4d93-85eb-e5a5bd75de04",
   "metadata": {},
   "outputs": [],
   "source": [
    "melt_front_tot_list = []\n",
    "for id_closed in tqdm(file_Justine_closed.ID):\n",
    "    melt_front_tot_list.append(melt_front.where(mask_front_all == id_closed).sum().assign_coords({'ID': id_closed}))\n",
    "melt_front_tot_xr = xr.concat(melt_front_tot_list, dim='ID')"
   ]
  },
  {
   "cell_type": "code",
   "execution_count": null,
   "id": "974b4288-f97d-4396-9074-dd5df54c2941",
   "metadata": {},
   "outputs": [],
   "source": [
    "melt_front.sum()"
   ]
  },
  {
   "cell_type": "code",
   "execution_count": null,
   "id": "d78ee920-72c5-48e0-8d5e-0428b26b9bf1",
   "metadata": {},
   "outputs": [],
   "source": [
    "melt_front_tot_xr.sum()"
   ]
  },
  {
   "cell_type": "code",
   "execution_count": null,
   "id": "428a69cb-9a0b-45ff-b6dc-b883eceb62e6",
   "metadata": {},
   "outputs": [],
   "source": [
    "file_Justine_closed['Melt'+melt_src].sum()"
   ]
  },
  {
   "cell_type": "code",
   "execution_count": null,
   "id": "ba83fd0f-ab20-496d-9289-fd9fc4fcbd63",
   "metadata": {},
   "outputs": [],
   "source": [
    "(file_Justine_closed['Melt'+melt_src] - melt_front_tot_xr).where(abs(file_Justine_closed['Melt'+melt_src] - melt_front_tot_xr) > 0.5, drop=True)"
   ]
  },
  {
   "cell_type": "markdown",
   "id": "5f311e6a-8c14-4af9-8476-b4663d0c1eeb",
   "metadata": {},
   "source": [
    "Check the missing ones"
   ]
  },
  {
   "cell_type": "code",
   "execution_count": null,
   "id": "ae6f54de-626d-4b9c-b7ab-a16c5ab40438",
   "metadata": {},
   "outputs": [],
   "source": [
    "((extrap_domains_closed == 96) + (mask_0_2 == 2)).astype(int).plot()"
   ]
  },
  {
   "cell_type": "code",
   "execution_count": null,
   "id": "66bff3d8-bcf5-4ec9-b5e8-dcb25c7d9deb",
   "metadata": {},
   "outputs": [],
   "source": [
    "file_Justine_closed['NAME'].sel(ID=96).load()"
   ]
  },
  {
   "cell_type": "markdown",
   "id": "26e51902-c6a7-46b4-8390-1110a9c8b4af",
   "metadata": {},
   "source": [
    "CLEAN AND REMOVE ALL FRONTS WHERE MELT IS ZERO"
   ]
  },
  {
   "cell_type": "code",
   "execution_count": null,
   "id": "a6580965-30d2-4b72-adf5-b128461528bb",
   "metadata": {},
   "outputs": [],
   "source": [
    "zmin_front = zmin_front.where(melt_front > 0)\n",
    "zmax_front = zmax_front.where(melt_front > 0)\n",
    "melt_front = melt_front.where(melt_front > 0)"
   ]
  },
  {
   "cell_type": "markdown",
   "id": "87d7e08d-616b-43b8-8577-36393f861474",
   "metadata": {},
   "source": [
    "WRITE TO NETCDF"
   ]
  },
  {
   "cell_type": "code",
   "execution_count": null,
   "id": "07f7917c-9289-4b85-a1fd-bc0cec33467b",
   "metadata": {},
   "outputs": [],
   "source": [
    "ds_isfNEMO['z_min'] = zmin_front\n",
    "ds_isfNEMO['z_min'].attrs['standard_name'] = 'most shallow point of the ice-shelf draft indicated at the ice-shelf front'\n",
    "ds_isfNEMO['z_min'].attrs['units'] = 'm below sea level'\n",
    "\n",
    "ds_isfNEMO['z_max'] = zmax_front\n",
    "ds_isfNEMO['z_max'].attrs['standard_name'] = 'deepest point of the ice-shelf draft indicated at the ice-shelf front'\n",
    "ds_isfNEMO['z_max'].attrs['units'] = 'm below sea level'\n",
    "\n",
    "ds_isfNEMO['melt_isf_closed'] = melt_front\n",
    "ds_isfNEMO['melt_isf_closed'].attrs['standard_name'] = 'melt flux from '+melt_src+' distributed at the ice-shelf front'\n",
    "ds_isfNEMO['melt_isf_closed'].attrs['units'] = 'Gt/yr'"
   ]
  },
  {
   "cell_type": "code",
   "execution_count": null,
   "id": "7daf2f65-917f-468b-b286-e124a65dc1cd",
   "metadata": {},
   "outputs": [],
   "source": [
    "ds_isfNEMO.attrs=dict(Source='Based on IMBIE2 (Mask_Iceshelf_IMBIE2_v2.nc), melt from '+melt_src,\n",
    "                      Compatibility='The masked variables are compatible with '+fNEMO_mask,\n",
    "                      Creator='C. Burgard and P. Mathiot ('+date.today().strftime(\"%b-%d-%Y\")+')')"
   ]
  },
  {
   "cell_type": "code",
   "execution_count": null,
   "id": "c1a642f1-3184-4ba2-9355-4d6adb27bcaf",
   "metadata": {},
   "outputs": [],
   "source": [
    "ds_isfNEMO.to_netcdf(inputpath_interim + 'masks_for_eORCA1.nc') "
   ]
  },
  {
   "cell_type": "code",
   "execution_count": null,
   "id": "4280dad9-f791-4b43-9251-2d9e40e52c6b",
   "metadata": {},
   "outputs": [],
   "source": [
    "# remark: the Davison melt is the average over the varying conditions (not the steady state)"
   ]
  },
  {
   "cell_type": "code",
   "execution_count": null,
   "id": "70dd24a8-79a3-4d8b-adb6-75ef14c5e96a",
   "metadata": {},
   "outputs": [],
   "source": [
    "check_file = xr.open_dataset(inputpath_interim + 'masks_for_eORCA1.nc')"
   ]
  },
  {
   "cell_type": "code",
   "execution_count": null,
   "id": "8f221e76-fb9a-4204-8b42-6a5d390fdeb8",
   "metadata": {},
   "outputs": [],
   "source": [
    "check_file['mask_isf_open'].plot()"
   ]
  },
  {
   "cell_type": "code",
   "execution_count": null,
   "id": "fa24f499-834d-49f3-b678-ce52b314bee9",
   "metadata": {},
   "outputs": [],
   "source": []
  }
 ],
 "metadata": {
  "kernelspec": {
   "display_name": "py38",
   "language": "python",
   "name": "py38"
  },
  "language_info": {
   "codemirror_mode": {
    "name": "ipython",
    "version": 3
   },
   "file_extension": ".py",
   "mimetype": "text/x-python",
   "name": "python",
   "nbconvert_exporter": "python",
   "pygments_lexer": "ipython3",
   "version": "3.8.18"
  }
 },
 "nbformat": 4,
 "nbformat_minor": 5
}
