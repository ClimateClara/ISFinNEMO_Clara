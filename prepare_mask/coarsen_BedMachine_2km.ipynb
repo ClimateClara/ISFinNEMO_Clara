{
 "cells": [
  {
   "cell_type": "code",
   "execution_count": null,
   "id": "4caee090-6c3d-46b7-b99b-1c755b61b0a4",
   "metadata": {},
   "outputs": [],
   "source": [
    "\"\"\"\n",
    "Created on Thu Oct 17 15:13 2024\n",
    "\n",
    "Regrid the BedMachine to a lower resolution\n",
    "\n",
    "@author: Clara Burgard\n",
    "\"\"\""
   ]
  },
  {
   "cell_type": "code",
   "execution_count": null,
   "id": "e8d7f0cd-dfaa-4e71-be48-1a0155698cba",
   "metadata": {},
   "outputs": [],
   "source": [
    "import xarray as xr\n",
    "import numpy as np\n",
    "import matplotlib.pyplot as plt\n",
    "from pyproj import Transformer\n",
    "import pandas as pd\n",
    "import sys,os\n",
    "import time\n",
    "from tqdm.notebook import tqdm\n",
    "import multimelt.plume_functions as pf\n",
    "import cc3d"
   ]
  },
  {
   "cell_type": "code",
   "execution_count": null,
   "id": "0ae58183-7789-4b01-944f-feed5f8d0b98",
   "metadata": {},
   "outputs": [],
   "source": [
    "%matplotlib qt5"
   ]
  },
  {
   "cell_type": "code",
   "execution_count": null,
   "id": "89488000-aef1-4b89-b2b8-bdb7b5533694",
   "metadata": {},
   "outputs": [],
   "source": [
    "outputpath_BedMachine='/data/cburgard/PREPARE_FORCING/PREPARE_CAVITY_MASKS/interim/'\n",
    "inputpath_BedMachine='/data/cburgard/PREPARE_FORCING/PREPARE_CAVITY_MASKS/raw/'"
   ]
  },
  {
   "cell_type": "markdown",
   "id": "9b528abc-9200-4f07-9465-fc5d3d145582",
   "metadata": {},
   "source": [
    "SET ALL LAND TO LAND\n"
   ]
  },
  {
   "cell_type": "code",
   "execution_count": null,
   "id": "4281ad2d-dc00-4a2d-8bc7-50542917d7ee",
   "metadata": {},
   "outputs": [],
   "source": [
    "BedMachine_orig = xr.open_dataset(inputpath_BedMachine+'BedMachineAntarctica-v3.nc')\n"
   ]
  },
  {
   "cell_type": "code",
   "execution_count": null,
   "id": "fda78461-6ca1-46de-ae81-c538df8d9bc2",
   "metadata": {},
   "outputs": [],
   "source": [
    "mask_0_2_3 = BedMachine_orig['mask'].where(BedMachine_orig['mask'] != 4, 2).where(BedMachine_orig['mask'] != 1, 2)\n",
    "mask_0_1_2 = mask_0_2_3.where(mask_0_2_3 != 3, 1).astype(float)\n",
    "mask_0_1_2.attrs['flag_meanings'] = 'ocean floating_ice ice_free_land_and_grounded_ice'\n",
    "mask_0_1_2.attrs['flag_values'] = '[0 1 2]'\n",
    "mask_0_1_2.attrs['valid_range'] = '[0 2]'\n",
    "mask_0_1_2.to_dataset(name='mask_0_1_2').to_netcdf(outputpath_BedMachine + 'BedMachine_v3_mask_012.nc')"
   ]
  },
  {
   "cell_type": "markdown",
   "id": "c6f3a073-490b-4b60-a827-5b6fd9a8b58e",
   "metadata": {},
   "source": [
    "SET LAND VOSTOK TO GROUNDED ICE"
   ]
  },
  {
   "cell_type": "code",
   "execution_count": null,
   "id": "7b59e62c-3c53-4042-a11c-d9ff9bc4917c",
   "metadata": {},
   "outputs": [],
   "source": [
    "mask_0_1_2_3 = BedMachine_orig['mask'].where(BedMachine_orig['mask'] != 4, 2).astype(float)\n",
    "mask_0_1_2_3.attrs['flag_meanings'] = 'ocean ice_free_land grounded_ice floating_ice'\n",
    "mask_0_1_2_3.attrs['flag_values'] = '[0 1 2 3]'\n",
    "mask_0_1_2_3.attrs['valid_range'] = '[0 3]'\n",
    "mask_0_1_2_3.to_dataset(name='mask_0_1_2_3').to_netcdf(outputpath_BedMachine + 'BedMachine_v3_mask_0123.nc')"
   ]
  },
  {
   "cell_type": "markdown",
   "id": "915f0570-48be-4aaa-9fe1-efa8d12c57be",
   "metadata": {},
   "source": [
    "DOWNSCALE TO 2 KM"
   ]
  },
  {
   "cell_type": "code",
   "execution_count": null,
   "id": "16fee282-43ca-4e1c-8b6d-c3af5a21c450",
   "metadata": {},
   "outputs": [],
   "source": [
    "weights_filter = np.zeros((5,5)) + 1\n",
    "weights_filter[0,:] = 0.5\n",
    "weights_filter[:,0] = 0.5\n",
    "weights_filter[4,:] = 0.5\n",
    "weights_filter[:,4] = 0.5\n",
    "weights_filter[0,4] = 0.25\n",
    "weights_filter[4,0] = 0.25\n",
    "weights_filter[4,4] = 0.25\n",
    "weights_filter[0,0] = 0.25\n",
    "\n",
    "weights_da = xr.DataArray(data=weights_filter,dims=['y0','x0'])"
   ]
  },
  {
   "cell_type": "code",
   "execution_count": null,
   "id": "8ba29b53-9eb3-4e10-95f3-f2cf7f5e0df4",
   "metadata": {},
   "outputs": [],
   "source": [
    "mask_0_1_2_3 = xr.open_dataset(outputpath_BedMachine + 'BedMachine_v3_mask_0123.nc')['mask_0_1_2_3']\n",
    "grid_2km = xr.open_dataset(inputpath_BedMachine + 'Mask_Iceshelf_IMBIE2_v2.nc')"
   ]
  },
  {
   "cell_type": "code",
   "execution_count": null,
   "id": "d9e398fe-7bd1-468b-9926-dc9f97532424",
   "metadata": {},
   "outputs": [],
   "source": [
    "mask_ocean = (mask_0_1_2_3 == 0).astype(float)\n",
    "mask_rock = (mask_0_1_2_3 == 1).astype(float)\n",
    "mask_ground = (mask_0_1_2_3 == 2).astype(float)\n",
    "mask_isf = (mask_0_1_2_3 == 3).astype(float)"
   ]
  },
  {
   "cell_type": "code",
   "execution_count": null,
   "id": "5c097a0f-6300-47af-ab43-fc5755d34cb5",
   "metadata": {},
   "outputs": [],
   "source": [
    "corr_ocean = pf.xr_nd_corr_v2(mask_ocean, weights_filter).sel(x=grid_2km.x,y=grid_2km.y)\n",
    "corr_rock = pf.xr_nd_corr_v2(mask_rock, weights_filter).sel(x=grid_2km.x,y=grid_2km.y)\n",
    "corr_ground = pf.xr_nd_corr_v2(mask_ground, weights_filter).sel(x=grid_2km.x,y=grid_2km.y)\n",
    "corr_isf = pf.xr_nd_corr_v2(mask_isf, weights_filter).sel(x=grid_2km.x,y=grid_2km.y)"
   ]
  },
  {
   "cell_type": "markdown",
   "id": "a971240c-4dfa-42d6-8e1d-85ada2ef9614",
   "metadata": {},
   "source": [
    "compute concentrations"
   ]
  },
  {
   "cell_type": "code",
   "execution_count": null,
   "id": "fe4d0367-f4a5-4ff1-8528-a0e6f2fcdbc3",
   "metadata": {},
   "outputs": [],
   "source": [
    "corr_ocean_norm = corr_ocean/16\n",
    "corr_rock_norm = corr_rock/16\n",
    "corr_ground_norm = corr_ground/16\n",
    "corr_isf_norm = corr_isf/16"
   ]
  },
  {
   "cell_type": "markdown",
   "id": "2c104f73-50ab-4da5-b3e9-e70f3a8ec55c",
   "metadata": {},
   "source": [
    "set everything where there is a bit of ice shelf to 1"
   ]
  },
  {
   "cell_type": "code",
   "execution_count": null,
   "id": "26756b5d-a560-48d2-8339-5cde33cbedcf",
   "metadata": {},
   "outputs": [],
   "source": [
    "ls_mask_01 = ((corr_ground_norm > 0) | (corr_rock_norm > 0)).astype(int)\n",
    "ls_mask_02 = ls_mask_01.where(ls_mask_01 == 0, 2)\n",
    "ls_mask_012 = ls_mask_02.where(corr_isf == 0, 1)"
   ]
  },
  {
   "cell_type": "markdown",
   "id": "893a470f-8dea-4dd0-abca-5f92b0af9293",
   "metadata": {},
   "source": [
    "correct ice shelf points that are within grounded ice\n"
   ]
  },
  {
   "cell_type": "code",
   "execution_count": null,
   "id": "b27e66c1-8201-4eaf-9d31-505bddf23cf7",
   "metadata": {},
   "outputs": [],
   "source": [
    "dx = abs(ls_mask_012.x[1] - ls_mask_012.x[0]).values.astype(int)\n",
    "dy = abs(ls_mask_012.y[1] - ls_mask_012.y[0]).values.astype(int)"
   ]
  },
  {
   "cell_type": "code",
   "execution_count": null,
   "id": "5ad11259-115d-4852-acae-f7f1b7db64ad",
   "metadata": {},
   "outputs": [],
   "source": [
    "isf_only_mask = ls_mask_012 == 1\n",
    "\n",
    "connectivity = 4\n",
    "threshold = 1\n",
    "\n",
    "dusted = cc3d.dust(isf_only_mask.values.astype(np.int64), \n",
    "           threshold = threshold, \n",
    "           connectivity = connectivity, \n",
    "           in_place = False)\n",
    "\n",
    "labels_out = cc3d.connected_components(dusted, \n",
    "                               connectivity = connectivity)\n",
    "\n",
    "labelled = xr.DataArray(labels_out, \n",
    "                coords = {\"y\": ls_mask_012.y, \"x\": ls_mask_012.x}, \n",
    "                dims = [\"y\", \"x\"],\n",
    "                name = \"labels\")\n",
    "\n",
    "# filter that checks the point around\n",
    "weights_filter = np.zeros((3,3))\n",
    "weights_filter[0,1] = 1\n",
    "weights_filter[1,0] = 1\n",
    "weights_filter[1,2] = 1\n",
    "weights_filter[2,1] = 1\n",
    "\n",
    "weights_da = xr.DataArray(data=weights_filter,dims=['y0','x0'])\n",
    "\n",
    "new_mask = ls_mask_012.copy()\n",
    "new_corr_ground_norm = corr_ground_norm.copy()\n",
    "new_corr_isf_norm = corr_isf_norm.copy()\n",
    "\n",
    "for conn_label in tqdm(range(1,labels_out.max()+1)):\n",
    "    dom_region = isf_only_mask.where(labelled == conn_label, drop=True)\n",
    "    dom_bounds_plus1 = np.array([dom_region.x.min().values - dx,dom_region.x.max().values + dx,dom_region.y.min().values - dy,dom_region.y.max().values + dy]).astype(int)\n",
    "    dom_plus1_mask = isf_only_mask.sel(x=range(dom_bounds_plus1[0],dom_bounds_plus1[1]+1,dx), y=range(dom_bounds_plus1[2],dom_bounds_plus1[3]+1,dy))\n",
    "    corr = pf.xr_nd_corr_v2(dom_plus1_mask, weights_filter)\n",
    "    only_contour = (corr ^ dom_plus1_mask)\n",
    "    neighboring_pixels = ls_mask_012.where(only_contour).where(labelled != conn_label)\n",
    "    if neighboring_pixels.min() > 0:\n",
    "        print('There is no ocean, this cannot be an ice shelf! I am putting it to grounded ice!')\n",
    "        new_mask = new_mask.where(labelled != conn_label, 2)\n",
    "        new_corr_ground_norm = new_corr_ground_norm.where(labelled != conn_label, corr_isf_norm + corr_ground_norm)\n",
    "        new_corr_isf_norm = new_corr_isf_norm.where(labelled != conn_label, 0)"
   ]
  },
  {
   "cell_type": "markdown",
   "id": "af7b9110-0cd8-4c2b-8795-d365f262a845",
   "metadata": {},
   "source": [
    "correct ocean points that are within ice"
   ]
  },
  {
   "cell_type": "code",
   "execution_count": null,
   "id": "a531a314-fba7-4d1c-8e67-299a533a378d",
   "metadata": {},
   "outputs": [],
   "source": [
    "ocean_only_mask = ls_mask_012 == 0\n",
    "\n",
    "connectivity = 4\n",
    "threshold = 1\n",
    "\n",
    "dusted = cc3d.dust(ocean_only_mask.values.astype(np.int64), \n",
    "           threshold = threshold, \n",
    "           connectivity = connectivity, \n",
    "           in_place = False)\n",
    "\n",
    "labels_out = cc3d.connected_components(dusted, \n",
    "                               connectivity = connectivity)\n",
    "\n",
    "labelled = xr.DataArray(labels_out, \n",
    "                coords = {\"y\": ls_mask_012.y, \"x\": ls_mask_012.x}, \n",
    "                dims = [\"y\", \"x\"],\n",
    "                name = \"labels\")\n",
    "\n",
    "# filter that checks the point around\n",
    "weights_filter = np.zeros((3,3))\n",
    "weights_filter[0,1] = 1\n",
    "weights_filter[1,0] = 1\n",
    "weights_filter[1,2] = 1\n",
    "weights_filter[2,1] = 1\n",
    "\n",
    "weights_da = xr.DataArray(data=weights_filter,dims=['y0','x0'])\n",
    "\n",
    "new_corr_ocean_norm = corr_ocean_norm.copy()\n",
    "\n",
    "for conn_label in tqdm(range(2,labels_out.max()+1)):\n",
    "    dom_region = ocean_only_mask.where(labelled == conn_label, drop=True)\n",
    "    dom_bounds_plus1 = np.array([dom_region.x.min().values - dx,dom_region.x.max().values + dx,dom_region.y.min().values - dy,dom_region.y.max().values + dy]).astype(int)\n",
    "    dom_plus1_mask = ocean_only_mask.sel(x=range(dom_bounds_plus1[0],dom_bounds_plus1[1]+1,dx), y=range(dom_bounds_plus1[2],dom_bounds_plus1[3]+1,dy))\n",
    "    corr = pf.xr_nd_corr_v2(dom_plus1_mask, weights_filter)\n",
    "    only_contour = (corr ^ dom_plus1_mask)\n",
    "    neighboring_pixels = ls_mask_012.where(only_contour).where(labelled != conn_label)\n",
    "    if neighboring_pixels.min() > 0:\n",
    "        print('There is no ocean around it, this cannot be an ocean point')\n",
    "        #print(neighboring_pixels.min().values)\n",
    "        new_mask = new_mask.where(labelled != conn_label, neighboring_pixels.min().values)\n",
    "        if neighboring_pixels.min().values == 1:\n",
    "            new_corr_isf_norm = new_corr_isf_norm.where(labelled != conn_label, corr_ocean_norm + corr_isf_norm)\n",
    "        elif neighboring_pixels.min().values == 2:\n",
    "            new_corr_ground_norm = new_corr_ground_norm.where(labelled != conn_label, corr_ocean_norm + corr_ground_norm)\n",
    "        new_corr_ocean_norm = new_corr_ocean_norm.where(labelled != conn_label, 0)"
   ]
  },
  {
   "cell_type": "markdown",
   "id": "a570944e-6405-44af-ac25-e7505f964b7b",
   "metadata": {},
   "source": [
    "Checking the sums\n"
   ]
  },
  {
   "cell_type": "code",
   "execution_count": null,
   "id": "a6395d2a-9a77-4575-b8e1-05fc602383c7",
   "metadata": {},
   "outputs": [],
   "source": [
    "sum_norms = new_corr_ocean_norm + new_corr_isf_norm + new_corr_ground_norm + corr_rock_norm"
   ]
  },
  {
   "cell_type": "code",
   "execution_count": null,
   "id": "6fb44f2b-7b14-4f36-b78d-713ac3c0d23b",
   "metadata": {},
   "outputs": [],
   "source": [
    "sum_norms.min() # if min is not 1, it's not a drama, it's the contour! :)"
   ]
  },
  {
   "cell_type": "markdown",
   "id": "d55e7408-a97b-4013-8db8-aa6fa653777f",
   "metadata": {},
   "source": [
    "Writing to netcdf"
   ]
  },
  {
   "cell_type": "code",
   "execution_count": null,
   "id": "5af93b00-148a-446e-b2e2-00a244f7da8d",
   "metadata": {},
   "outputs": [],
   "source": [
    "all_masks = new_mask.to_dataset(name='mask_0_1_2')\n",
    "all_masks['mask_0_1_2'].attrs['flag_meanings'] = 'only_ocean contains_floating_ice only_ice_free_land_and_grounded_ice'\n",
    "all_masks['mask_0_1_2'].attrs['flag_values'] = '[0 1 2]'\n",
    "#all_masks['mask_0_1_2'].attrs['valid_range'] = '[0 2]'\n",
    "\n",
    "all_masks['ocean_conc'] = new_corr_ocean_norm\n",
    "all_masks['ocean_conc'].attrs['long_name'] = 'Ocean concentration between 0 and 1'\n",
    "all_masks['ocean_conc'].attrs['valid_range'] = '[0 1]'\n",
    "\n",
    "all_masks['ground_conc'] = new_corr_ground_norm\n",
    "all_masks['ground_conc'].attrs['long_name'] = 'Grounded ice concentration between 0 and 1'\n",
    "#all_masks['ground_conc'].attrs['valid_range'] = '[0 1]'\n",
    "\n",
    "all_masks['isf_conc'] = new_corr_isf_norm\n",
    "all_masks['isf_conc'].attrs['long_name'] = 'Floating ice concentration between 0 and 1'\n",
    "#all_masks['isf_conc'].attrs['valid_range'] = '[0 1]'\n",
    "\n",
    "all_masks['icefree_conc'] = corr_rock_norm\n",
    "all_masks['icefree_conc'].attrs['long_name'] = 'Ice-free ground concentration between 0 and 1'\n",
    "#all_masks['icefree_conc'].attrs['valid_range'] = '[0 1]'\n",
    "\n",
    "all_masks.to_netcdf(outputpath_BedMachine + 'BedMachine_v3_aggregated2km_masks_only.nc')"
   ]
  },
  {
   "cell_type": "markdown",
   "id": "a0cc4809-cfad-49b8-9028-e5a40b97a28c",
   "metadata": {},
   "source": [
    "OTHER VARIABLES"
   ]
  },
  {
   "cell_type": "code",
   "execution_count": null,
   "id": "00cbfa16-188d-42f3-a938-2ed2399ff9a6",
   "metadata": {},
   "outputs": [],
   "source": [
    "all_masks = xr.open_dataset(outputpath_BedMachine + 'BedMachine_v3_aggregated2km_masks_only.nc')"
   ]
  },
  {
   "cell_type": "code",
   "execution_count": null,
   "id": "28eae0d7-bfc5-461a-94bc-7f3f3f946a9f",
   "metadata": {},
   "outputs": [],
   "source": [
    "mask_0_1_2_3 = xr.open_dataset(outputpath_BedMachine + 'BedMachine_v3_mask_0123.nc')['mask_0_1_2_3']"
   ]
  },
  {
   "cell_type": "code",
   "execution_count": null,
   "id": "6b3f1800-95fc-48d3-9a3c-461b051608e9",
   "metadata": {},
   "outputs": [],
   "source": [
    "weights_filter = np.zeros((5,5)) + 1\n",
    "weights_filter[0,:] = 0.5\n",
    "weights_filter[:,0] = 0.5\n",
    "weights_filter[4,:] = 0.5\n",
    "weights_filter[:,4] = 0.5\n",
    "weights_filter[0,4] = 0.25\n",
    "weights_filter[4,0] = 0.25\n",
    "weights_filter[4,4] = 0.25\n",
    "weights_filter[0,0] = 0.25\n",
    "\n",
    "weights_da = xr.DataArray(data=weights_filter,dims=['y0','x0'])"
   ]
  },
  {
   "cell_type": "code",
   "execution_count": null,
   "id": "bea3f6d4-58ca-4234-88f8-a796f65eddf4",
   "metadata": {},
   "outputs": [],
   "source": [
    "ice_draft = BedMachine_orig[vvar]"
   ]
  },
  {
   "cell_type": "code",
   "execution_count": null,
   "id": "e0a9b118-b790-4efb-83ad-e91acd569653",
   "metadata": {},
   "outputs": [],
   "source": [
    "vvar = 'thickness'\n",
    "var_field = BedMachine_orig[vvar]\n",
    "var_field_2km = pf.xr_nd_corr_v2(var_field, weights_filter)"
   ]
  },
  {
   "cell_type": "code",
   "execution_count": null,
   "id": "60f78ee2-055c-47e2-8071-e70a350fe60b",
   "metadata": {},
   "outputs": [],
   "source": [
    "var_field_2km = var_field_2km.sel(x=all_masks.x,y=all_masks.y)"
   ]
  },
  {
   "cell_type": "code",
   "execution_count": null,
   "id": "3b0e3cbc-4163-4b27-94bd-86bd10a8145e",
   "metadata": {},
   "outputs": [],
   "source": [
    "BedMachine_orig['thickness'].where(mask_0_1_2_3 == 1).max()"
   ]
  },
  {
   "cell_type": "code",
   "execution_count": null,
   "id": "19230324-9a74-4557-8c0a-b1d9707ac316",
   "metadata": {},
   "outputs": [],
   "source": [
    "BedMachine_orig['surface'].sel(x=all_masks.x,y=all_masks.y).plot()"
   ]
  },
  {
   "cell_type": "code",
   "execution_count": null,
   "id": "716fd9bf-1eb7-4757-b5c1-aa6c10adc635",
   "metadata": {},
   "outputs": [],
   "source": [
    "mask_cat.plot()"
   ]
  },
  {
   "cell_type": "code",
   "execution_count": null,
   "id": "70539003-b27a-4f37-b069-fc910bacfc2f",
   "metadata": {},
   "outputs": [],
   "source": [
    "cat = 3 \n",
    "mask_cat = (mask_0_1_2_3 == cat).astype(float)\n",
    "mask_cat_sum = pf.xr_nd_corr_v2(mask_cat, weights_filter).sel(x=all_masks.x,y=all_masks.y)"
   ]
  },
  {
   "cell_type": "code",
   "execution_count": null,
   "id": "74f2f3eb-a3df-414f-a828-85c2907c9c5b",
   "metadata": {},
   "outputs": [],
   "source": [
    "mask_cat_sum.plot()"
   ]
  },
  {
   "cell_type": "code",
   "execution_count": null,
   "id": "667987e8-e104-4d9c-80ab-2c7aa486aaa0",
   "metadata": {},
   "outputs": [],
   "source": [
    "var_cat_list = []\n",
    "# computing for each surface category separately to avoid smoothing out ice draft information when ice-shelf concentration is low\n",
    "for cat in range(4):\n",
    "    allvar_cat = xr.Dataset()\n",
    "\n",
    "    # compute weights of the mask\n",
    "    mask_cat = (mask_0_1_2_3 == cat).astype(float)\n",
    "    mask_cat_sum = pf.xr_nd_corr_v2(mask_cat, weights_filter).sel(x=all_masks.x,y=all_masks.y)\n",
    "\n",
    "    # compute the variable average for each surface category separately\n",
    "    for vvar in ['bed','errbed','geoid','surface','thickness','firn']:\n",
    "        print(cat, vvar)\n",
    "        var_cat = BedMachine_orig[vvar].where(mask_0_1_2_3 == cat).astype(float)\n",
    "        var_cat_sum = pf.xr_nd_corr_v2(var_cat, weights_filter).sel(x=all_masks.x,y=all_masks.y)\n",
    "        allvar_cat[vvar] = var_cat_sum/mask_cat_sum\n",
    "\n",
    "    var_cat_list.append(allvar_cat.assign_coords({'category': cat}))\n",
    "            \n",
    "var_2km_all = xr.concat(var_cat_list, dim='category')\n",
    "var_2km_all.to_netcdf(outputpath_BedMachine + 'BedMachine_v3_aggregated2km_allvars_withcategories.nc')\n",
    "    "
   ]
  },
  {
   "cell_type": "code",
   "execution_count": null,
   "id": "3b48e808-00b9-4e3e-b2fa-c8ed39157b8b",
   "metadata": {},
   "outputs": [],
   "source": [
    "# OLD WAY OF DOING IT\n",
    "for vvar in ['firn','surface','thickness','bed','errbed','geoid']: #\n",
    "    print(vvar)\n",
    "    mask_nonocean = (all_masks['ocean_conc'] == 0).astype(float)\n",
    "    var_field = BedMachine_orig[vvar].sel(x=all_masks.x,y=all_masks.y).astype(float).where(mask_nonocean,0)\n",
    "    var_4km = pf.xr_nd_corr_v2(var_field, weights_filter)\n",
    "    mask_4km = pf.xr_nd_corr_v2(mask_nonocean, weights_filter)\n",
    "    all_masks[vvar] = var_4km/mask_4km\n",
    "    all_masks[vvar] = all_masks[vvar].where(np.isfinite(all_masks[vvar]),0)\n",
    "    all_masks[vvar].attrs = BedMachine_orig[vvar].attrs\n",
    "all_masks.to_netcdf(outputpath_BedMachine + 'BedMachine_v3_aggregated2km_allvars.nc')"
   ]
  },
  {
   "cell_type": "markdown",
   "id": "233411f5-5e96-4cca-84f9-efa4fa16938a",
   "metadata": {},
   "source": [
    "DID SOME TESTS"
   ]
  },
  {
   "cell_type": "code",
   "execution_count": null,
   "id": "ec48354b-a7f2-4339-a7cb-e86a17021241",
   "metadata": {},
   "outputs": [],
   "source": [
    "(new_corr_isf_norm > 0)"
   ]
  },
  {
   "cell_type": "code",
   "execution_count": null,
   "id": "83410e1b-8e9c-438f-8506-70dd1f580f96",
   "metadata": {},
   "outputs": [],
   "source": [
    "ice_draft = (all_masks['thickness'] - all_masks['surface'])\n"
   ]
  },
  {
   "cell_type": "code",
   "execution_count": null,
   "id": "627e3b27-63e1-4431-bcaf-0dd3ff1356bd",
   "metadata": {},
   "outputs": [],
   "source": [
    "((new_corr_isf_norm > 0) & (ice_draft <= 0)).plot()"
   ]
  },
  {
   "cell_type": "code",
   "execution_count": null,
   "id": "f04e6d7a-3aed-4111-a528-c3564a8bdc6c",
   "metadata": {},
   "outputs": [],
   "source": [
    "all_masks.to_netcdf(outputpath_BedMachine + 'BedMachine_v3_aggregated2km_allvars.nc')"
   ]
  },
  {
   "cell_type": "code",
   "execution_count": null,
   "id": "85770f52-56ae-4924-9419-70a9b603badf",
   "metadata": {},
   "outputs": [],
   "source": [
    "plt.figure()\n",
    "ice_draft.where(ice_draft > 0).plot()"
   ]
  },
  {
   "cell_type": "code",
   "execution_count": null,
   "id": "4086072e-a1e4-4945-8136-31d344794d2e",
   "metadata": {},
   "outputs": [],
   "source": [
    "ice_draft.sel(x=slice(-2.515e6,-2.495e6), y=slice(1.28e6,1.34e6)).plot()"
   ]
  },
  {
   "cell_type": "code",
   "execution_count": null,
   "id": "d899ad4b-95da-40ac-bdad-d792e3d17053",
   "metadata": {},
   "outputs": [],
   "source": [
    "plt.figure()\n",
    "new_corr_isf_norm.sel(x=slice(-2.515e6,-2.495e6), y=slice(1.28e6,1.34e6)).plot()"
   ]
  },
  {
   "cell_type": "code",
   "execution_count": null,
   "id": "ed26acdb-610e-4841-a3c6-da2ea9f2eb9b",
   "metadata": {},
   "outputs": [],
   "source": [
    "isf_conc_reg = new_corr_isf_norm.sel(x=slice(-2.515e6,-2.495e6), y=slice(1.28e6,1.34e6))\n",
    "ice_draft_reg = ice_draft.sel(x=slice(-2.515e6,-2.495e6), y=slice(1.28e6,1.34e6))"
   ]
  },
  {
   "cell_type": "code",
   "execution_count": null,
   "id": "6486834d-965a-49b4-8ef9-2b4cbf9fab4c",
   "metadata": {},
   "outputs": [],
   "source": [
    "isf_conc_reg.where(ice_draft_reg <= 0).plot()"
   ]
  },
  {
   "cell_type": "code",
   "execution_count": null,
   "id": "18bf57c1-6dd4-4aa4-b144-bfe82ee3c451",
   "metadata": {},
   "outputs": [],
   "source": [
    "plt.figure()\n",
    "ice_draft_reg.where((ice_draft_reg <= 0) & (isf_conc_reg > 0)).plot()"
   ]
  },
  {
   "cell_type": "code",
   "execution_count": null,
   "id": "45375769-1b8a-48e7-a5fe-a962e8a00566",
   "metadata": {},
   "outputs": [],
   "source": [
    "ice_draft_BM = ((BedMachine_orig['thickness'] - BedMachine_orig['surface']))#.sel(x=slice(-2.515e6,-2.495e6), y=slice(1.34e6,1.28e6))"
   ]
  },
  {
   "cell_type": "code",
   "execution_count": null,
   "id": "ade70826-d434-4576-bc45-a35bc9e52b24",
   "metadata": {},
   "outputs": [],
   "source": [
    "mask_BM = mask_0_1_2_3.sel(x=slice(-2.515e6,-2.495e6), y=slice(1.34e6,1.28e6))"
   ]
  },
  {
   "cell_type": "code",
   "execution_count": null,
   "id": "0aa826fb-7efc-4c78-b23b-59d9abb463b9",
   "metadata": {},
   "outputs": [],
   "source": [
    "mask_BM"
   ]
  },
  {
   "cell_type": "code",
   "execution_count": null,
   "id": "dbcbcca0-c9fb-40bc-899a-0759fd0badf3",
   "metadata": {},
   "outputs": [],
   "source": [
    "plt.figure()\n",
    "mask_BM.plot()"
   ]
  },
  {
   "cell_type": "code",
   "execution_count": null,
   "id": "ecaef57a-487e-40bb-bb26-a861b2d92cae",
   "metadata": {},
   "outputs": [],
   "source": [
    "plt.figure()\n",
    "ice_draft_BM.where(ice_draft_BM >= 0).plot(vmax=10)"
   ]
  },
  {
   "cell_type": "code",
   "execution_count": null,
   "id": "32f700d8-15b3-4702-b1fc-ad06bca29959",
   "metadata": {},
   "outputs": [],
   "source": [
    "new_corr_isf_norm.sel(x=-2.5040e6,y=1.32e6)"
   ]
  },
  {
   "cell_type": "code",
   "execution_count": null,
   "id": "6cb5a2e9-6e92-41eb-8eb2-e93d0d5a00f6",
   "metadata": {},
   "outputs": [],
   "source": [
    "ice_draft.sel(x=-2.5040e6,y=1.32e6)"
   ]
  },
  {
   "cell_type": "code",
   "execution_count": null,
   "id": "a863b28b-6178-4b81-9aa8-d04a5b00771f",
   "metadata": {},
   "outputs": [],
   "source": [
    "mask_0_1_2_3.sel(x=slice(-2.5040e6-1000,-2.5040e6+1000),y=slice(1.32e6+1000,1.32e6-1000))"
   ]
  },
  {
   "cell_type": "code",
   "execution_count": null,
   "id": "101f9e3a-7bc4-4a80-9492-c0607778ea91",
   "metadata": {},
   "outputs": [],
   "source": [
    "print(ice_draft_BM.sel(x=slice(-2.5040e6-1000,-2.5040e6+1000),y=slice(1.32e6+1000,1.32e6-1000)))"
   ]
  },
  {
   "cell_type": "code",
   "execution_count": null,
   "id": "5e3861f8-453e-4dc3-9875-fba00b628377",
   "metadata": {},
   "outputs": [],
   "source": [
    "27.5/16"
   ]
  },
  {
   "cell_type": "code",
   "execution_count": null,
   "id": "d07a3f0b-0611-4620-a847-2fa9aeca835c",
   "metadata": {},
   "outputs": [],
   "source": []
  }
 ],
 "metadata": {
  "kernelspec": {
   "display_name": "py38",
   "language": "python",
   "name": "py38"
  },
  "language_info": {
   "codemirror_mode": {
    "name": "ipython",
    "version": 3
   },
   "file_extension": ".py",
   "mimetype": "text/x-python",
   "name": "python",
   "nbconvert_exporter": "python",
   "pygments_lexer": "ipython3",
   "version": "3.8.18"
  }
 },
 "nbformat": 4,
 "nbformat_minor": 5
}
