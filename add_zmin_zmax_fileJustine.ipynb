{
 "cells": [
  {
   "cell_type": "code",
   "execution_count": null,
   "id": "65c09707-65f1-4c43-8ce0-fbdd913edaf6",
   "metadata": {},
   "outputs": [],
   "source": [
    "\"\"\"\n",
    "Created on Mon Oct 21 16:13 2024\n",
    "\n",
    "Prepare the Justine file containing zmin and zmax\n",
    "\n",
    "@author: Clara Burgard\n",
    "\"\"\""
   ]
  },
  {
   "cell_type": "code",
   "execution_count": null,
   "id": "d439f9d2-18bd-46e0-b4cb-0d06e2b90664",
   "metadata": {},
   "outputs": [],
   "source": [
    "import xarray as xr\n",
    "from tqdm.notebook import tqdm"
   ]
  },
  {
   "cell_type": "code",
   "execution_count": null,
   "id": "d9459179-2908-45b6-a473-55b8cc6fadd2",
   "metadata": {},
   "outputs": [],
   "source": [
    "%matplotlib qt5"
   ]
  },
  {
   "cell_type": "code",
   "execution_count": null,
   "id": "854090b8-0895-48c6-93ae-a0640ff0827a",
   "metadata": {},
   "outputs": [],
   "source": [
    "inputpath_raw = '/data/cburgard/PREPARE_FORCING/PREPARE_CAVITY_MASKS/raw/'\n",
    "inputpath_interim = '/data/cburgard/PREPARE_FORCING/PREPARE_CAVITY_MASKS/interim/'"
   ]
  },
  {
   "cell_type": "code",
   "execution_count": null,
   "id": "a26429f1-1425-4663-8438-1f7ac392502c",
   "metadata": {},
   "outputs": [],
   "source": [
    "file_Justine = xr.open_dataset(inputpath_raw + 'Mask_Iceshelf_IMBIE2_v2.nc')\n",
    "BedMachine_mask_2km= xr.open_dataset(inputpath_interim + 'BedMachine_v3_aggregated2km_masks_only.nc')\n",
    "BedMachine_vars_2km= xr.open_dataset(inputpath_interim + 'BedMachine_v3_aggregated2km_allvars.nc')\n"
   ]
  },
  {
   "cell_type": "code",
   "execution_count": null,
   "id": "10fdf25a-5a21-4a6c-8245-6e7c2d07e3cd",
   "metadata": {},
   "outputs": [],
   "source": [
    "ice_draft = (BedMachine_vars_2km['thickness'] - BedMachine_vars_2km['surface'])\n",
    "ice_draft = ice_draft.where(ice_draft >= 0)"
   ]
  },
  {
   "cell_type": "code",
   "execution_count": null,
   "id": "a440d9ef-ca51-4dc8-8296-aba64270acaf",
   "metadata": {},
   "outputs": [],
   "source": [
    "ice_draft.plot()"
   ]
  },
  {
   "cell_type": "code",
   "execution_count": null,
   "id": "c4273f91-d69c-40db-b821-99e0c593c8f0",
   "metadata": {},
   "outputs": [],
   "source": [
    "file_Justine['Iceshelf'].plot(vmax=10)"
   ]
  },
  {
   "cell_type": "code",
   "execution_count": null,
   "id": "92daab92-d448-42f3-98af-e5c9739ad1ac",
   "metadata": {},
   "outputs": [],
   "source": [
    "kisf = 8\n",
    "ice_draft.where(file_Justine['Iceshelf'] == kisf).max()"
   ]
  },
  {
   "cell_type": "code",
   "execution_count": null,
   "id": "007bb400-988e-4377-b282-1badeee3be80",
   "metadata": {},
   "outputs": [],
   "source": [
    "BedMachine_mask_2km['isf_conc']"
   ]
  },
  {
   "cell_type": "code",
   "execution_count": null,
   "id": "7c1946e7-3aa8-46ef-bddc-7142dc39548e",
   "metadata": {},
   "outputs": [],
   "source": [
    "zmin_list = []\n",
    "zmax_list = []\n",
    "perc_01_list = []\n",
    "perc_99_list = []\n",
    "for kisf in tqdm(file_Justine['ID']):\n",
    "    isf_mask = (file_Justine['Iceshelf_extrap'] == kisf) & (BedMachine_mask_2km['isf_conc'] > 0)\n",
    "    \n",
    "    zmin = ice_draft.where(isf_mask).min()\n",
    "    zmin_list.append(zmin.assign_coords({'ID': kisf}))\n",
    "    zmax = ice_draft.where(isf_mask).max()\n",
    "    zmax_list.append(zmax.assign_coords({'ID': kisf}))\n",
    "    perc_01 = ice_draft.where(isf_mask).quantile(0.01)\n",
    "    perc_01_list.append(perc_01.assign_coords({'ID': kisf}))\n",
    "    perc_99 = ice_draft.where(isf_mask).quantile(0.99)\n",
    "    perc_99_list.append(perc_99.assign_coords({'ID': kisf}))\n",
    "\n",
    "zmin_all = xr.concat(zmin_list, dim='ID')\n",
    "zmax_all = xr.concat(zmax_list, dim='ID')\n",
    "perc_01_all = xr.concat(perc_01_list, dim='ID')\n",
    "perc_99_all = xr.concat(perc_99_list, dim='ID')"
   ]
  },
  {
   "cell_type": "code",
   "execution_count": null,
   "id": "d81ef9ed-24de-4677-b3d5-3fb18f4089b7",
   "metadata": {},
   "outputs": [],
   "source": [
    "file_Justine['z_min'] = zmin_all\n",
    "file_Justine['z_min'].attrs['standard_name'] = 'most shallow point of the ice-shelf draft'\n",
    "file_Justine['z_min'].attrs['units'] = 'm below sea level'\n",
    "\n",
    "file_Justine['z_max'] = zmax_all\n",
    "file_Justine['z_max'].attrs['standard_name'] = 'deepest point of the ice-shelf draft'\n",
    "file_Justine['z_max'].attrs['units'] = 'm below sea level'\n",
    "\n",
    "file_Justine['z_perc01'] = perc_01_all\n",
    "file_Justine['z_perc01'].attrs['standard_name'] = '1st percentile over ice-shelf draft'\n",
    "file_Justine['z_perc01'].attrs['units'] = 'm below sea level'\n",
    "\n",
    "file_Justine['z_perc99'] = perc_99_all\n",
    "file_Justine['z_perc99'].attrs['standard_name'] = '99th percentile over ice-shelf draft'\n",
    "file_Justine['z_perc99'].attrs['units'] = 'm below sea level'\n",
    "\n",
    "file_Justine['isf_conc'] = BedMachine_mask_2km['isf_conc']\n",
    "file_Justine['isf_conc'].attrs['standard_name'] = 'Ice-shelf concentration in the grid cell between 0 and 1'"
   ]
  },
  {
   "cell_type": "code",
   "execution_count": null,
   "id": "3f685c8c-0292-4cd7-8ea7-8caa95661e8a",
   "metadata": {},
   "outputs": [],
   "source": [
    "file_Justine.to_netcdf(inputpath_interim + 'Mask_Iceshelf_IMBIE2_v2_with_zmin_zmax_isfconc.nc')"
   ]
  },
  {
   "cell_type": "code",
   "execution_count": null,
   "id": "4fac4034-52e3-4dc3-a089-8cf9280d5f3f",
   "metadata": {},
   "outputs": [],
   "source": [
    "file_Justine['z_min'].sel(ID=2)"
   ]
  },
  {
   "cell_type": "code",
   "execution_count": null,
   "id": "fd7eb3b6-4bc7-4762-b09f-f6cc0ef6b857",
   "metadata": {},
   "outputs": [],
   "source": [
    "kisf = 2\n",
    "ice_draft.where((file_Justine['Iceshelf_extrap'] == kisf) & (BedMachine_mask_2km['isf_conc'] > 0) & (ice_draft == 0)).plot()"
   ]
  },
  {
   "cell_type": "code",
   "execution_count": null,
   "id": "fee9dc5f-e1c7-40ae-853c-3d03a1d0e31e",
   "metadata": {},
   "outputs": [],
   "source": [
    "BedMachine_mask_2km['ocean_conc'].where((file_Justine['Iceshelf_extrap'] == kisf) & (ice_draft == 0) & (BedMachine_mask_2km['isf_conc'] > 0), drop=True).plot()"
   ]
  },
  {
   "cell_type": "code",
   "execution_count": null,
   "id": "36c33b09-7a5f-488a-a199-4842e0f8db3e",
   "metadata": {},
   "outputs": [],
   "source": [
    "((ice_draft == 0) & (BedMachine_mask_2km['isf_conc'] > 0)).plot()"
   ]
  },
  {
   "cell_type": "code",
   "execution_count": null,
   "id": "b6a8903c-3664-4915-8ff1-5896465da079",
   "metadata": {},
   "outputs": [],
   "source": []
  }
 ],
 "metadata": {
  "kernelspec": {
   "display_name": "py38",
   "language": "python",
   "name": "py38"
  },
  "language_info": {
   "codemirror_mode": {
    "name": "ipython",
    "version": 3
   },
   "file_extension": ".py",
   "mimetype": "text/x-python",
   "name": "python",
   "nbconvert_exporter": "python",
   "pygments_lexer": "ipython3",
   "version": "3.8.18"
  }
 },
 "nbformat": 4,
 "nbformat_minor": 5
}
