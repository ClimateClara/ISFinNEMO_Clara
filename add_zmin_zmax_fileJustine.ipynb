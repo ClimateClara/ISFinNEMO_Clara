{
 "cells": [
  {
   "cell_type": "code",
   "execution_count": null,
   "id": "65c09707-65f1-4c43-8ce0-fbdd913edaf6",
   "metadata": {},
   "outputs": [],
   "source": [
    "\"\"\"\n",
    "Created on Mon Oct 21 16:13 2024\n",
    "\n",
    "Prepare the Justine file containing zmin and zmax\n",
    "\n",
    "@author: Clara Burgard\n",
    "\"\"\""
   ]
  },
  {
   "cell_type": "code",
   "execution_count": 1,
   "id": "d439f9d2-18bd-46e0-b4cb-0d06e2b90664",
   "metadata": {},
   "outputs": [],
   "source": [
    "import xarray as xr\n",
    "from tqdm.notebook import tqdm"
   ]
  },
  {
   "cell_type": "code",
   "execution_count": 2,
   "id": "d9459179-2908-45b6-a473-55b8cc6fadd2",
   "metadata": {},
   "outputs": [
    {
     "name": "stderr",
     "output_type": "stream",
     "text": [
      "QStandardPaths: error creating runtime directory '/run/user/2784' (Permission denied)\n"
     ]
    }
   ],
   "source": [
    "%matplotlib qt5"
   ]
  },
  {
   "cell_type": "code",
   "execution_count": 3,
   "id": "854090b8-0895-48c6-93ae-a0640ff0827a",
   "metadata": {},
   "outputs": [],
   "source": [
    "inputpath_raw = '/data/cburgard/PREPARE_FORCING/PREPARE_CAVITY_MASKS/raw/'\n",
    "inputpath_interim = '/data/cburgard/PREPARE_FORCING/PREPARE_CAVITY_MASKS/interim/'"
   ]
  },
  {
   "cell_type": "code",
   "execution_count": 4,
   "id": "a26429f1-1425-4663-8438-1f7ac392502c",
   "metadata": {},
   "outputs": [],
   "source": [
    "file_Justine = xr.open_dataset(inputpath_raw + 'Mask_Iceshelf_IMBIE2_v2.nc')\n",
    "BedMachine_mask_2km= xr.open_dataset(inputpath_interim + 'BedMachine_v3_aggregated2km_masks_only.nc')\n",
    "BedMachine_vars_2km= xr.open_dataset(inputpath_interim + 'BedMachine_v3_aggregated2km_allvars_withcategories.nc')\n"
   ]
  },
  {
   "cell_type": "code",
   "execution_count": 10,
   "id": "10fdf25a-5a21-4a6c-8245-6e7c2d07e3cd",
   "metadata": {},
   "outputs": [],
   "source": [
    "ice_draft = (BedMachine_vars_2km['thickness'] - BedMachine_vars_2km['surface']).sel(category=3).drop('category')"
   ]
  },
  {
   "cell_type": "code",
   "execution_count": 7,
   "id": "a440d9ef-ca51-4dc8-8296-aba64270acaf",
   "metadata": {},
   "outputs": [
    {
     "name": "stderr",
     "output_type": "stream",
     "text": [
      "libGL error: No matching fbConfigs or visuals found\n",
      "libGL error: failed to load driver: swrast\n"
     ]
    },
    {
     "data": {
      "text/plain": [
       "<matplotlib.collections.QuadMesh at 0x1464794d8f40>"
      ]
     },
     "execution_count": 7,
     "metadata": {},
     "output_type": "execute_result"
    }
   ],
   "source": [
    "ice_draft.plot() # ice draft is automatically above 0 now"
   ]
  },
  {
   "cell_type": "code",
   "execution_count": null,
   "id": "c4273f91-d69c-40db-b821-99e0c593c8f0",
   "metadata": {},
   "outputs": [],
   "source": [
    "file_Justine['Iceshelf'].plot(vmax=10)"
   ]
  },
  {
   "cell_type": "code",
   "execution_count": null,
   "id": "92daab92-d448-42f3-98af-e5c9739ad1ac",
   "metadata": {},
   "outputs": [],
   "source": [
    "kisf = 8\n",
    "ice_draft.where(file_Justine['Iceshelf'] == kisf).max()"
   ]
  },
  {
   "cell_type": "code",
   "execution_count": null,
   "id": "007bb400-988e-4377-b282-1badeee3be80",
   "metadata": {},
   "outputs": [],
   "source": [
    "BedMachine_mask_2km['isf_conc']"
   ]
  },
  {
   "cell_type": "code",
   "execution_count": 19,
   "id": "75e959ab-19bf-493c-b799-8ff3bc10535d",
   "metadata": {},
   "outputs": [],
   "source": [
    " isf_mask = (file_Justine['Iceshelf_extrap'] == kisf) & (BedMachine_mask_2km['isf_conc'] > 0)"
   ]
  },
  {
   "cell_type": "code",
   "execution_count": 25,
   "id": "327f3ff2-8696-4542-993b-2981bb345da5",
   "metadata": {},
   "outputs": [
    {
     "data": {
      "text/plain": [
       "<matplotlib.collections.QuadMesh at 0x1464710857f0>"
      ]
     },
     "execution_count": 25,
     "metadata": {},
     "output_type": "execute_result"
    }
   ],
   "source": [
    "BedMachine_mask_2km['isf_conc'].where(file_Justine['Iceshelf_extrap'] == 3).plot()"
   ]
  },
  {
   "cell_type": "code",
   "execution_count": 18,
   "id": "925d4577-6cb5-450e-9554-8836d2cfcfcc",
   "metadata": {},
   "outputs": [
    {
     "data": {
      "text/plain": [
       "<matplotlib.collections.QuadMesh at 0x1464714c00d0>"
      ]
     },
     "execution_count": 18,
     "metadata": {},
     "output_type": "execute_result"
    }
   ],
   "source": [
    "(file_Justine['Iceshelf_extrap'] == kisf).plot()"
   ]
  },
  {
   "cell_type": "code",
   "execution_count": 50,
   "id": "b7ed782b-cb14-47f4-8e39-40b4bc1a0d2c",
   "metadata": {},
   "outputs": [],
   "source": [
    "kisf = 64\n",
    "isf_mask = (file_Justine['Iceshelf_extrap'] == kisf) & (BedMachine_mask_2km['isf_conc'] > 0)"
   ]
  },
  {
   "cell_type": "code",
   "execution_count": 51,
   "id": "d62b114a-9e80-406d-a645-b985331e903c",
   "metadata": {},
   "outputs": [
    {
     "data": {
      "text/plain": [
       "<matplotlib.collections.QuadMesh at 0x1464701850d0>"
      ]
     },
     "execution_count": 51,
     "metadata": {},
     "output_type": "execute_result"
    }
   ],
   "source": [
    "ice_draft.where(isf_mask).plot()"
   ]
  },
  {
   "cell_type": "code",
   "execution_count": 26,
   "id": "7c1946e7-3aa8-46ef-bddc-7142dc39548e",
   "metadata": {},
   "outputs": [
    {
     "data": {
      "application/vnd.jupyter.widget-view+json": {
       "model_id": "a84f9be1c75648dfb9745134cb6df016",
       "version_major": 2,
       "version_minor": 0
      },
      "text/plain": [
       "  0%|          | 0/133 [00:00<?, ?it/s]"
      ]
     },
     "metadata": {},
     "output_type": "display_data"
    },
    {
     "name": "stderr",
     "output_type": "stream",
     "text": [
      "/home/cburgard/.conda/envs/py38/lib/python3.8/site-packages/numpy/lib/nanfunctions.py:1556: RuntimeWarning: All-NaN slice encountered\n",
      "  return function_base._ureduce(a,\n",
      "/home/cburgard/.conda/envs/py38/lib/python3.8/site-packages/numpy/lib/nanfunctions.py:1556: RuntimeWarning: All-NaN slice encountered\n",
      "  return function_base._ureduce(a,\n",
      "/home/cburgard/.conda/envs/py38/lib/python3.8/site-packages/numpy/lib/nanfunctions.py:1556: RuntimeWarning: All-NaN slice encountered\n",
      "  return function_base._ureduce(a,\n",
      "/home/cburgard/.conda/envs/py38/lib/python3.8/site-packages/numpy/lib/nanfunctions.py:1556: RuntimeWarning: All-NaN slice encountered\n",
      "  return function_base._ureduce(a,\n",
      "/home/cburgard/.conda/envs/py38/lib/python3.8/site-packages/numpy/lib/nanfunctions.py:1556: RuntimeWarning: All-NaN slice encountered\n",
      "  return function_base._ureduce(a,\n",
      "/home/cburgard/.conda/envs/py38/lib/python3.8/site-packages/numpy/lib/nanfunctions.py:1556: RuntimeWarning: All-NaN slice encountered\n",
      "  return function_base._ureduce(a,\n",
      "/home/cburgard/.conda/envs/py38/lib/python3.8/site-packages/numpy/lib/nanfunctions.py:1556: RuntimeWarning: All-NaN slice encountered\n",
      "  return function_base._ureduce(a,\n",
      "/home/cburgard/.conda/envs/py38/lib/python3.8/site-packages/numpy/lib/nanfunctions.py:1556: RuntimeWarning: All-NaN slice encountered\n",
      "  return function_base._ureduce(a,\n",
      "/home/cburgard/.conda/envs/py38/lib/python3.8/site-packages/numpy/lib/nanfunctions.py:1556: RuntimeWarning: All-NaN slice encountered\n",
      "  return function_base._ureduce(a,\n",
      "/home/cburgard/.conda/envs/py38/lib/python3.8/site-packages/numpy/lib/nanfunctions.py:1556: RuntimeWarning: All-NaN slice encountered\n",
      "  return function_base._ureduce(a,\n",
      "/home/cburgard/.conda/envs/py38/lib/python3.8/site-packages/numpy/lib/nanfunctions.py:1556: RuntimeWarning: All-NaN slice encountered\n",
      "  return function_base._ureduce(a,\n",
      "/home/cburgard/.conda/envs/py38/lib/python3.8/site-packages/numpy/lib/nanfunctions.py:1556: RuntimeWarning: All-NaN slice encountered\n",
      "  return function_base._ureduce(a,\n",
      "/home/cburgard/.conda/envs/py38/lib/python3.8/site-packages/numpy/lib/nanfunctions.py:1556: RuntimeWarning: All-NaN slice encountered\n",
      "  return function_base._ureduce(a,\n",
      "/home/cburgard/.conda/envs/py38/lib/python3.8/site-packages/numpy/lib/nanfunctions.py:1556: RuntimeWarning: All-NaN slice encountered\n",
      "  return function_base._ureduce(a,\n",
      "/home/cburgard/.conda/envs/py38/lib/python3.8/site-packages/numpy/lib/nanfunctions.py:1556: RuntimeWarning: All-NaN slice encountered\n",
      "  return function_base._ureduce(a,\n",
      "/home/cburgard/.conda/envs/py38/lib/python3.8/site-packages/numpy/lib/nanfunctions.py:1556: RuntimeWarning: All-NaN slice encountered\n",
      "  return function_base._ureduce(a,\n",
      "/home/cburgard/.conda/envs/py38/lib/python3.8/site-packages/numpy/lib/nanfunctions.py:1556: RuntimeWarning: All-NaN slice encountered\n",
      "  return function_base._ureduce(a,\n",
      "/home/cburgard/.conda/envs/py38/lib/python3.8/site-packages/numpy/lib/nanfunctions.py:1556: RuntimeWarning: All-NaN slice encountered\n",
      "  return function_base._ureduce(a,\n",
      "/home/cburgard/.conda/envs/py38/lib/python3.8/site-packages/numpy/lib/nanfunctions.py:1556: RuntimeWarning: All-NaN slice encountered\n",
      "  return function_base._ureduce(a,\n",
      "/home/cburgard/.conda/envs/py38/lib/python3.8/site-packages/numpy/lib/nanfunctions.py:1556: RuntimeWarning: All-NaN slice encountered\n",
      "  return function_base._ureduce(a,\n",
      "/home/cburgard/.conda/envs/py38/lib/python3.8/site-packages/numpy/lib/nanfunctions.py:1556: RuntimeWarning: All-NaN slice encountered\n",
      "  return function_base._ureduce(a,\n",
      "/home/cburgard/.conda/envs/py38/lib/python3.8/site-packages/numpy/lib/nanfunctions.py:1556: RuntimeWarning: All-NaN slice encountered\n",
      "  return function_base._ureduce(a,\n",
      "/home/cburgard/.conda/envs/py38/lib/python3.8/site-packages/numpy/lib/nanfunctions.py:1556: RuntimeWarning: All-NaN slice encountered\n",
      "  return function_base._ureduce(a,\n",
      "/home/cburgard/.conda/envs/py38/lib/python3.8/site-packages/numpy/lib/nanfunctions.py:1556: RuntimeWarning: All-NaN slice encountered\n",
      "  return function_base._ureduce(a,\n",
      "/home/cburgard/.conda/envs/py38/lib/python3.8/site-packages/numpy/lib/nanfunctions.py:1556: RuntimeWarning: All-NaN slice encountered\n",
      "  return function_base._ureduce(a,\n"
     ]
    }
   ],
   "source": [
    "zmin_list = []\n",
    "zmax_list = []\n",
    "perc_01_list = []\n",
    "perc_99_list = []\n",
    "for kisf in tqdm(file_Justine['ID']):\n",
    "    isf_mask = (file_Justine['Iceshelf_extrap'] == kisf) & (BedMachine_mask_2km['isf_conc'] > 0)\n",
    "    \n",
    "    zmin = ice_draft.where(isf_mask).min()\n",
    "    zmin_list.append(zmin.assign_coords({'ID': kisf}))\n",
    "    zmax = ice_draft.where(isf_mask).max()\n",
    "    zmax_list.append(zmax.assign_coords({'ID': kisf}))\n",
    "    perc_01 = ice_draft.where(isf_mask).quantile(0.01)\n",
    "    perc_01_list.append(perc_01.assign_coords({'ID': kisf}))\n",
    "    perc_99 = ice_draft.where(isf_mask).quantile(0.99)\n",
    "    perc_99_list.append(perc_99.assign_coords({'ID': kisf}))\n",
    "\n",
    "zmin_all = xr.concat(zmin_list, dim='ID')\n",
    "zmax_all = xr.concat(zmax_list, dim='ID')\n",
    "perc_01_all = xr.concat(perc_01_list, dim='ID')\n",
    "perc_99_all = xr.concat(perc_99_list, dim='ID')"
   ]
  },
  {
   "cell_type": "code",
   "execution_count": 27,
   "id": "d81ef9ed-24de-4677-b3d5-3fb18f4089b7",
   "metadata": {},
   "outputs": [],
   "source": [
    "file_Justine['z_min'] = zmin_all\n",
    "file_Justine['z_min'].attrs['standard_name'] = 'most shallow point of the ice-shelf draft'\n",
    "file_Justine['z_min'].attrs['units'] = 'm below sea level'\n",
    "\n",
    "file_Justine['z_max'] = zmax_all\n",
    "file_Justine['z_max'].attrs['standard_name'] = 'deepest point of the ice-shelf draft'\n",
    "file_Justine['z_max'].attrs['units'] = 'm below sea level'\n",
    "\n",
    "file_Justine['z_perc01'] = perc_01_all\n",
    "file_Justine['z_perc01'].attrs['standard_name'] = '1st percentile over ice-shelf draft'\n",
    "file_Justine['z_perc01'].attrs['units'] = 'm below sea level'\n",
    "\n",
    "file_Justine['z_perc99'] = perc_99_all\n",
    "file_Justine['z_perc99'].attrs['standard_name'] = '99th percentile over ice-shelf draft'\n",
    "file_Justine['z_perc99'].attrs['units'] = 'm below sea level'\n",
    "\n",
    "file_Justine['isf_conc'] = BedMachine_mask_2km['isf_conc']\n",
    "file_Justine['isf_conc'].attrs['standard_name'] = 'Ice-shelf concentration in the grid cell between 0 and 1'"
   ]
  },
  {
   "cell_type": "code",
   "execution_count": 54,
   "id": "3f685c8c-0292-4cd7-8ea7-8caa95661e8a",
   "metadata": {},
   "outputs": [],
   "source": [
    "file_Justine.to_netcdf(inputpath_interim + 'Mask_Iceshelf_IMBIE2_v2_with_zmin_zmax_isfconc.nc')"
   ]
  },
  {
   "cell_type": "code",
   "execution_count": 52,
   "id": "4fac4034-52e3-4dc3-a089-8cf9280d5f3f",
   "metadata": {},
   "outputs": [
    {
     "name": "stdout",
     "output_type": "stream",
     "text": [
      "1 Jelbart 169.54441069722176\n",
      "2 Fimbul 81.8926885253191\n",
      "3  nan\n",
      "4 Vigrid 150.67135648727418\n",
      "5 Nivl 92.9348541995883\n",
      "6  nan\n",
      "7 Lazarev 67.20663256406783\n",
      "8 Borchgrevink 47.26678985916078\n",
      "9 Baudouin 81.90099007710815\n",
      "10  nan\n",
      "11 Prince_Harald 31.0103200571239\n",
      "12  nan\n",
      "13 Shirase 88.28886233061552\n",
      "14 Hannan/Telen/Skallen 79.19220874473453\n",
      "15 Rayner_Thyer 143.3075850406289\n",
      "16 Zubchatyy/Porter/Myers 33.200275969319044\n",
      "17 WilmaRobertDowner 116.57360565379263\n",
      "18 Edward_VIII 47.69272315144539\n",
      "19  nan\n",
      "20 Utsikkar/Mulebreen/Cirque_Fjord/Hoseason/Rund_Bay 134.50996131271123\n",
      "21 Amery 158.85066553890704\n",
      "22 Publications 66.63684043377638\n",
      "23 Sorsdal/Hovde/Flatnes/Dalk 377.37461585760116\n",
      "24 West 46.42410892903805\n",
      "25 Helen 17.38851813916117\n",
      "26 Shackleton 52.8071139908582\n",
      "27 Tracy_Tremenchus 17.50194251704961\n",
      "28  nan\n",
      "29 Conger_Glenzer 39.5865545091778\n",
      "30  nan\n",
      "31 Vincennes_Bay/Underwood 198.3181858357787\n",
      "32 Williamson/Whittle/FoxE 29.83499250166118\n",
      "33 Totten 166.97531796261669\n",
      "34 Moscow_University 180.06558987230062\n",
      "35  330.5600568652153\n",
      "36 Voyeykov 27.840021330416203\n",
      "37  nan\n",
      "38 Holmes 152.59645182192327\n",
      "39 Frost 103.6507348048687\n",
      "40 May_Glacier/Morse/Sandford 142.3896259830147\n",
      "41 Dibble 283.0755465826392\n",
      "42 WattBay/Zelee/Astrolabe/Liotard/Francais/Marret/Commandant_Charcot//PourquoiPas 197.1254136699438\n",
      "43 Mertz 144.41974737226963\n",
      "44 Ainsworth/Fisher 155.87726615920664\n",
      "45 Ninnis 120.76192289099097\n",
      "46 Deakin/HornBluff 145.21944175601004\n",
      "47 Cook 150.71954445935785\n",
      "48 Andreyev/Slava 71.97926292315125\n",
      "49 Lauritzen 89.71566239073873\n",
      "50 Drury 145.3811625058949\n",
      "51 Matusevitch 65.03570625288413\n",
      "52 Suvorov/Gillet/Noll/Paternostro/McLeod 183.86669552087784\n",
      "53 Rennick 28.056386127620936\n",
      "54 Chugunov/Barber/Gannutz 167.90838578507305\n",
      "55 Lillie 27.103938598185778\n",
      "56 Arneb/Manhaul/Ironside/Quatermain_Point/Moubray/Dennistoun/SmithInlet//Kirkby 143.13983882591128\n",
      "57 Tucker 4.023825848847627\n",
      "58 Mandible_Cirque 211.55220040678978\n",
      "59 Mariner 75.47850494086742\n",
      "60 Parker/Falkner/Fitzgerald/Wylde/Suter 42.555469749942425\n",
      "61 Aviator 105.60227208733559\n",
      "62 Campbell/CapeWashington/Tinker 113.0149370867014\n",
      "63 Nansen 44.77275078520179\n",
      "64 Drygalski 148.5780744087696\n",
      "65 Nordenskjold/Marin/HarbordGlacier/Cheetham/GeikieInlet 87.14816590473056\n",
      "66 Ross_East 52.49395629256964\n",
      "67 Ross_West 193.83423006206752\n",
      "68  nan\n",
      "69 Hamilton 238.3259014737606\n",
      "70  nan\n",
      "71 Withrow nan\n",
      "72  nan\n",
      "73 Richter 177.91138533502817\n",
      "74 Swinburne 41.10216131210327\n",
      "75 Sulzberger 13.200111108459533\n",
      "76  nan\n",
      "77 Nickerson 8.102925238013269\n",
      "78 Land 170.68440385878085\n",
      "79  237.5082935836911\n",
      "80 Hull 270.0632241487503\n",
      "81 Jackson/Perkins/Garfield/Rose_Point 162.858119353652\n",
      "82 Getz 187.4434375733137\n",
      "83 Dotson/Philbin_Inlet 151.85708233952522\n",
      "84 Crosson 50.48477527841926\n",
      "85 Thwaites 101.00035422980785\n",
      "86 Pine_Island 63.951798440627755\n",
      "87 Walgreen_Coast 265.545456892252\n",
      "88 Cosgrove 176.8214597529173\n",
      "89  587.3122984087468\n",
      "90 Abbot 1.0\n",
      "91  nan\n",
      "92 Venable 138.37579682171344\n",
      "93 Fox 204.39739365451038\n",
      "94 Ferrigno 164.0301729275286\n",
      "95 Alison/Eltanin_Bay 106.13559353202581\n",
      "96 Thomson 187.8239965325594\n",
      "97 Rydberg_Peninsula nan\n",
      "98 Stange 4.098423495814204\n",
      "99 George_VI 43.70339285373688\n",
      "100 Britten nan\n",
      "101 Bach 104.99981822192669\n",
      "102  231.8176627870556\n",
      "103 Verdi 117.95636525943875\n",
      "104  nan\n",
      "105 Brahms 170.97019797205925\n",
      "106  nan\n",
      "107 Mendelssohn 145.11126500487327\n",
      "108  nan\n",
      "109 Wilkins 12.79171120636165\n",
      "110  nan\n",
      "111  nan\n",
      "112 Wordie 17.522458747029305\n",
      "113  193.07068771433086\n",
      "114  156.22732682526112\n",
      "115 LarsenA 52.72128154724837\n",
      "116 LarsenB 89.8852323692292\n",
      "117 LarsenC 75.86147607028484\n",
      "118 LarsenD 1.6660582162998616\n",
      "119 LarsenE 179.25381055235863\n",
      "120  nan\n",
      "121 LarsenF 61.287968434393406\n",
      "122 ClarkeBay nan\n",
      "123 LarsenG 57.5642521609366\n",
      "124 Ronne 204.66308665156365\n",
      "125 Filchner 350.00383845567706\n",
      "126 Dawson_Lambton/Hayes_Coats_Coast 209.99975382663308\n",
      "127 Brunt_Stancomb 13.815476636439561\n",
      "128 Riiser-Larsen 59.69987821936608\n",
      "129  nan\n",
      "130 Quar 150.96972977936267\n",
      "131  nan\n",
      "132 Ekstrom 122.48540166109801\n",
      "133 Atka 136.6971392405033\n"
     ]
    }
   ],
   "source": [
    "for iid in file_Justine.ID:\n",
    "    print(iid.values,file_Justine['NAME'].sel(ID=iid).values,file_Justine['z_perc01'].sel(ID=iid).values)"
   ]
  },
  {
   "cell_type": "code",
   "execution_count": null,
   "id": "e4b71609-8154-4691-811a-58f5f4a2b74b",
   "metadata": {},
   "outputs": [],
   "source": []
  },
  {
   "cell_type": "code",
   "execution_count": null,
   "id": "fd7eb3b6-4bc7-4762-b09f-f6cc0ef6b857",
   "metadata": {},
   "outputs": [],
   "source": [
    "kisf = 2\n",
    "ice_draft.where((file_Justine['Iceshelf_extrap'] == kisf) & (BedMachine_mask_2km['isf_conc'] > 0) & (ice_draft == 0)).plot()"
   ]
  },
  {
   "cell_type": "code",
   "execution_count": null,
   "id": "fee9dc5f-e1c7-40ae-853c-3d03a1d0e31e",
   "metadata": {},
   "outputs": [],
   "source": [
    "BedMachine_mask_2km['ocean_conc'].where((file_Justine['Iceshelf_extrap'] == kisf) & (ice_draft == 0) & (BedMachine_mask_2km['isf_conc'] > 0), drop=True).plot()"
   ]
  },
  {
   "cell_type": "code",
   "execution_count": null,
   "id": "36c33b09-7a5f-488a-a199-4842e0f8db3e",
   "metadata": {},
   "outputs": [],
   "source": [
    "((ice_draft == 0) & (BedMachine_mask_2km['isf_conc'] > 0)).plot()"
   ]
  },
  {
   "cell_type": "code",
   "execution_count": null,
   "id": "b6a8903c-3664-4915-8ff1-5896465da079",
   "metadata": {},
   "outputs": [],
   "source": []
  }
 ],
 "metadata": {
  "kernelspec": {
   "display_name": "py38",
   "language": "python",
   "name": "py38"
  },
  "language_info": {
   "codemirror_mode": {
    "name": "ipython",
    "version": 3
   },
   "file_extension": ".py",
   "mimetype": "text/x-python",
   "name": "python",
   "nbconvert_exporter": "python",
   "pygments_lexer": "ipython3",
   "version": "3.8.18"
  }
 },
 "nbformat": 4,
 "nbformat_minor": 5
}
