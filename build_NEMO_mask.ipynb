{
 "cells": [
  {
   "cell_type": "code",
   "execution_count": 1,
   "metadata": {},
   "outputs": [],
   "source": [
    "import xarray as xr\n",
    "import numpy as np\n",
    "from scipy.interpolate import NearestNDInterpolator"
   ]
  },
  {
   "cell_type": "code",
   "execution_count": 2,
   "metadata": {},
   "outputs": [],
   "source": [
    "# open ice shelf mask\n",
    "ds_isf=xr.open_dataset('Mask_Iceshelf_IMBIE2_v2.nc')\n",
    "\n",
    "# get variable needed for interpolation\n",
    "isflon1d=ds_isf.lon.values.flatten()\n",
    "isflat1d=ds_isf.lat.values.flatten()\n",
    "isfid1d=-ds_isf.Iceshelf_extrap.values.flatten() # the - is for compatibility with cdfisf\n",
    "\n",
    "# open NEMO coordinates\n",
    "# get NEMO ice shelf mask\n",
    "fNEMOmask='eORCA025.L121-OPM0262_mesh_mask.nc'\n",
    "ds_NEMO=xr.open_dataset(fNEMOmask)\n",
    "\n",
    "# get variables needed for interpolation\n",
    "lonNEMO=ds_NEMO.glamt.values.squeeze()\n",
    "latNEMO=ds_NEMO.gphit.values.squeeze()"
   ]
  },
  {
   "cell_type": "code",
   "execution_count": 3,
   "metadata": {},
   "outputs": [],
   "source": [
    "# nearest neigbourg interpolation\n",
    "# is cdo.remapnn faster ? The default python take 2m for eORCA025 => could be a limiting factor for eORCA36 or higher \n",
    "interp = NearestNDInterpolator(list(zip(isflon1d, isflat1d)), isfid1d)\n",
    "isfNEMO = interp(lonNEMO, latNEMO)"
   ]
  },
  {
   "cell_type": "code",
   "execution_count": 4,
   "metadata": {},
   "outputs": [],
   "source": [
    "# create the data set\n",
    "ds_isfNEMO=ds_isf.drop_vars([\"Iceshelf\",\"Iceshelf_extrap\"]).drop_dims([\"x\",\"y\"])\n",
    "ds_isfNEMO.coords[\"nav_lon\"] = ((\"y\",\"x\"), lonNEMO)\n",
    "ds_isfNEMO.coords[\"nav_lat\"] = ((\"y\",\"x\"), latNEMO)\n",
    "ds_isfNEMO[\"Iceshelf_extrap\"]=xr.DataArray(\n",
    "    data=isfNEMO,\n",
    "    dims=[\"y\", \"x\"],\n",
    ")"
   ]
  },
  {
   "cell_type": "code",
   "execution_count": 5,
   "metadata": {},
   "outputs": [],
   "source": [
    "# retreive ice shelf ID map\n",
    "# get id mask\n",
    "ds_isfNEMO['mask_isf']=xr.DataArray(\n",
    "    data=ds_isfNEMO[\"Iceshelf_extrap\"]*ds_NEMO['tmaskutil'].squeeze().values[:,:]*(1-ds_NEMO['tmask'].squeeze().values[0,:,:]),\n",
    "    dims=[\"y\", \"x\"],\n",
    "    attrs=dict(unit='[]',\n",
    "               long_name='ice shelf ID mask')\n",
    ")"
   ]
  },
  {
   "cell_type": "code",
   "execution_count": 6,
   "metadata": {},
   "outputs": [],
   "source": [
    "# Define NEMO coastal mask of the area to parametrised\n",
    "def get_coastal_msk(mask_in,lewp):\n",
    "    nj_out=mask_in.shape[0]\n",
    "    ni_out=mask_in.shape[1]\n",
    "\n",
    "    if lewp:\n",
    "        mask=np.zeros(shape=(nj_out,ni_out+2))\n",
    "        mask[:,1:-1]=mask_in\n",
    "        mask[:, 0]=mask[:,-2]\n",
    "        mask[:,-1]=mask[:, 1]\n",
    "        xslc=slice(0,ni_out)\n",
    "    else:\n",
    "        mask=mask_in\n",
    "        xslc=slice(1,-1)\n",
    "        \n",
    "    mask_coast=np.zeros(shape=(nj_out,ni_out))\n",
    "    mask_coast[1:-1,xslc]= ( mask[1:-1,1:-1] + \n",
    "                             mask[0:-2,1:-1] + mask[2::,1:-1] + mask[1:-1,0:-2] + mask[1:-1,2::] +\n",
    "                             mask[0:-2,0:-2] + mask[2::,2::]  + mask[2::,0:-2]  + mask[0:-2,2::] ) * mask[1:-1,1:-1]\n",
    "    mask_coast[(mask_coast > 1) & (mask_coast < 9)] = 10\n",
    "    mask_coast[mask_coast!=10]=np.nan\n",
    "    mask_coast=mask_coast.astype(np.float32)\n",
    "    mask_coast[mask_coast==10]=1\n",
    "    mask_coast[np.isnan(mask_coast)]=0\n",
    "    \n",
    "    return mask_coast"
   ]
  },
  {
   "cell_type": "code",
   "execution_count": 7,
   "metadata": {},
   "outputs": [],
   "source": [
    "# retreive ice shelf front from ice shelf defined in Rignot\n",
    "front_msk=get_coastal_msk(np.where(ds_isfNEMO['mask_isf'].values!=0,0,1),True)\n",
    "front_msk=front_msk * ds_NEMO['tmask'].squeeze().values[0,:,:] * ds_isfNEMO[\"Iceshelf_extrap\"].squeeze().values\n",
    "\n",
    "ds_isfNEMO[\"mask_isf_front\"]=xr.DataArray(\n",
    "    data=front_msk,\n",
    "    dims=[\"y\", \"x\"],\n",
    "    attrs=dict(unit='[]',\n",
    "            long_name='ice shelf front ID mask')\n",
    ")"
   ]
  },
  {
   "cell_type": "code",
   "execution_count": 8,
   "metadata": {},
   "outputs": [],
   "source": [
    "# write global attributes\n",
    "ds_isfNEMO.attrs=dict(Source='IMBIE2 (Mask_Iceshelf_IMBIE2_v2.nc)',\n",
    "                      Method='Nearest neighbourg',\n",
    "                      Compatibility='The masked variables are compatible with {}'.format(fNEMOmask),\n",
    "                      Creator='Pierre Mathiot (9/10/2024)')"
   ]
  },
  {
   "cell_type": "code",
   "execution_count": 9,
   "metadata": {},
   "outputs": [],
   "source": [
    "# write the dataset\n",
    "ds_isfNEMO.to_netcdf('isfmsk.nc')"
   ]
  },
  {
   "cell_type": "code",
   "execution_count": 10,
   "metadata": {},
   "outputs": [
    {
     "name": "stdout",
     "output_type": "stream",
     "text": [
      "  -1 JELB    91   582   -1.0\n",
      "  -2 FIMB    76   626   23.5\n",
      "  -4 VIGR   234   469    3.2\n",
      "  -5 NIVL    58   403    3.9\n",
      "  -7 LAZA    99   403    6.3\n",
      "  -8 BORC    67   535    7.5\n",
      "  -9 BAUD    71   506   14.1\n",
      " -11 PRIN    62   387   -2.0\n",
      " -13 SHIR   134   289    5.7\n",
      " -15 RAYN   143   202    6.7\n",
      " -17 WILM    64   322   10.0\n",
      " -18 EDWA   100   125    4.2\n",
      " -21 AMER    99  1991   35.5\n",
      " -22 PUBL   137   403    1.5\n",
      " -24 WEST    62   569   27.2\n",
      " -26 SHAC    99   670   72.6\n",
      " -27 TRAC    42   131    3.0\n",
      " -29 CONG    52   119    3.6\n",
      " -31 VINC   126   453    5.0\n",
      " -33 TOTT   231  1423   63.2\n",
      " -34 MOSC   294  1160   27.4\n",
      " -38 HOLM    85   486    6.7\n",
      " -41 DIBB   407   702    8.1\n",
      " -43 MERT   148   636    7.9\n",
      " -45 NINN   293   653    2.2\n",
      " -47 COOK   190   586    4.6\n",
      " -53 RENN    79   561    7.0\n",
      " -55 LILL    53   619    3.4\n",
      " -59 MARI    29   309    2.4\n",
      " -61 AVIA   149   202    1.4\n",
      " -63 NANS    10   347    1.1\n",
      " -64 DRYG   146   755    7.6\n",
      " -66 ROSS    10  1020   49.1\n",
      " -67 ROSS    58   972   -1.4\n",
      " -74 SWIN    99   418    3.8\n",
      " -75 SULZ    10   710   18.2\n",
      " -77 NICK    35   403    4.2\n",
      " -78 LAND    89   456    3.8\n",
      " -82 GETZ    79   456  144.9\n",
      " -83 DOTS    82  1101   45.2\n",
      " -84 CROS    83  1119   38.5\n",
      " -85 THWA    99   871   97.5\n",
      " -86 PINE    60   743  101.2\n",
      " -88 COSG   173   374    8.5\n",
      " -90 ABBO    10   420   51.8\n",
      " -92 VENA   231   436   19.4\n",
      " -94 FERR   264   354    5.1\n",
      " -98 STAN    24   436   28.0\n",
      " -99 GEOR    28   414   89.0\n",
      "-101 BACH   117   275   10.4\n",
      "-109 WILK    15   191   18.4\n",
      "-112 WORD    26    26    6.5\n",
      "-116 LARS    74   238   12.2\n",
      "-117 LARS    29   423   20.7\n",
      "-118 LARS    10   425    1.4\n",
      "-119 LARS    24   413    1.4\n",
      "-121 LARS    37   147    1.2\n",
      "-123 LARS   134   216    0.3\n",
      "-124 RONN    95  1765  113.5\n",
      "-125 FILC   178  1946   41.9\n",
      "-127 BRUN    25   750    1.0\n",
      "-128 RIIS    46   811    8.7\n",
      "-130 QUAR   151   492    1.4\n",
      "-132 EKST    86   670    4.3\n",
      "-133 ATKA   187   275   -0.5\n",
      "65\n"
     ]
    }
   ],
   "source": [
    "# compute ice shelf text file for CDFTOOLS\n",
    "nisf=0\n",
    "for idx,name in enumerate(ds_isf.NAME.values):\n",
    "    if ((-ds_isf.ID.values[idx] in np.unique(ds_isfNEMO['mask_isf'].values)) and (name != '') and (ds_isf.MeltRignot.values[idx] != 0.0)):\n",
    "        isfd=ds_NEMO.isfdraft.where(ds_isfNEMO.mask_isf.values == -ds_isf.ID.values[idx])\n",
    "        ctxt='{0:4d} {1:} {2:5d} {3:5d} {4:6.1f}'.format(-ds_isf.ID.values[idx],name[0:4].upper(),np.min(isfd).values.astype(int),np.max(isfd).values.astype(int),ds_isf.MeltRignot.values[idx])\n",
    "        print(ctxt)\n",
    "        nisf=nisf+1\n",
    "print(nisf)"
   ]
  }
 ],
 "metadata": {
  "kernelspec": {
   "display_name": "Python 3 (ipykernel)",
   "language": "python",
   "name": "python3"
  },
  "language_info": {
   "codemirror_mode": {
    "name": "ipython",
    "version": 3
   },
   "file_extension": ".py",
   "mimetype": "text/x-python",
   "name": "python",
   "nbconvert_exporter": "python",
   "pygments_lexer": "ipython3",
   "version": "3.8.18"
  }
 },
 "nbformat": 4,
 "nbformat_minor": 4
}
